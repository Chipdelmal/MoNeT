{
 "cells": [
  {
   "cell_type": "code",
   "execution_count": 3,
   "metadata": {
    "collapsed": true
   },
   "outputs": [],
   "source": [
    "import networkx as nx\n",
    "from networkx.algorithms import bipartite\n",
    "import matplotlib.pyplot as plt\n",
    "import numpy as np\n",
    "import random \n",
    "from random import sample\n",
    "from networkx.algorithms import community\n",
    "import time"
   ]
  },
  {
   "cell_type": "code",
   "execution_count": 3,
   "metadata": {},
   "outputs": [
    {
     "data": {
      "image/png": "[encoded data removed]",
      "text/plain": [
       "<matplotlib.figure.Figure at 0x10b40eac8>"
      ]
     },
     "metadata": {},
     "output_type": "display_data"
    }
   ],
   "source": [
    "#create basic directed graph for testing function\n",
    "#bold indicates the direction (move from not bold side to bold side)\n",
    "G = nx.DiGraph()\n",
    "G.add_nodes_from([1, 2,3, 4])\n",
    "G.add_edges_from([(1, 2), (4, 2), (3, 2), (3, 4), (2, 4)])\n",
    "\n",
    "options = {\n",
    " 'node_color': \"lightblue\",\n",
    " 'node_size': 50,\n",
    " 'width': 0.5}\n",
    "#plt.figure(figsize=(8, 6), dpi=80)\n",
    "nx.draw_shell(G, with_labels=True, font_weight='bold', **options)\n",
    "plt.show()\n",
    "\n",
    "#create transition matrix\n",
    "pagerank = nx.google_matrix(G)\n",
    "transitions = [\n",
    "        [ 0, 1, 0, 0],\n",
    "        [ 0, 0, 0, 1],\n",
    "        [ 0, 0.5, 0, 0.5],\n",
    "        [ 0, 1, 0, 0]\n",
    "              ]\n",
    "communities = {1:[1], 2:[2, 3, 4], 3:[2, 3, 4], 4:[2, 3, 4]}"
   ]
  },
  {
   "cell_type": "code",
   "execution_count": 4,
   "metadata": {
    "collapsed": true
   },
   "outputs": [],
   "source": [
    "#create benchmark graph for community detection\n",
    "n = 250\n",
    "tau1 = 3\n",
    "tau2 = 1.5\n",
    "mu = 0.1\n",
    "G = community.LFR_benchmark_graph(n, tau1, tau2, mu, average_degree=5,min_community=20, seed=10)"
   ]
  },
  {
   "cell_type": "code",
   "execution_count": 5,
   "metadata": {
    "collapsed": true
   },
   "outputs": [],
   "source": [
    "#get the communities\n",
    "communities = {v:list(G.nodes[v]['community']) for v in G}"
   ]
  },
  {
   "cell_type": "code",
   "execution_count": 6,
   "metadata": {},
   "outputs": [
    {
     "data": {
      "text/plain": [
       "matrix([[ 0.0006,  0.0006,  0.0006, ...,  0.0006,  0.0006,  0.0006],\n",
       "        [ 0.0006,  0.0006,  0.0006, ...,  0.0006,  0.0006,  0.0006],\n",
       "        [ 0.0006,  0.0006,  0.0006, ...,  0.0006,  0.0006,  0.0006],\n",
       "        ..., \n",
       "        [ 0.0006,  0.0006,  0.0006, ...,  0.0006,  0.0006,  0.0006],\n",
       "        [ 0.0006,  0.0006,  0.0006, ...,  0.0006,  0.0006,  0.0006],\n",
       "        [ 0.0006,  0.0006,  0.0006, ...,  0.0006,  0.0006,  0.0006]])"
      ]
     },
     "execution_count": 6,
     "metadata": {},
     "output_type": "execute_result"
    }
   ],
   "source": [
    "#get pagerank transition matrix for G\n",
    "pg = nx.google_matrix(G)\n",
    "pg"
   ]
  },
  {
   "cell_type": "code",
   "execution_count": 7,
   "metadata": {
    "collapsed": true
   },
   "outputs": [],
   "source": [
    "def out_transition_freq(n, matrix, community):\n",
    "    #start = time.time()\n",
    "    out = []\n",
    "    nodes = np.arange(n)\n",
    "    for i in nodes:\n",
    "        if i not in community:\n",
    "            out.append(i)\n",
    "    ixgrid = np.ix_(community, out)\n",
    "    m = matrix[ixgrid]\n",
    "    #end = time.time()\n",
    "    return m.sum()"
   ]
  },
  {
   "cell_type": "code",
   "execution_count": 1,
   "metadata": {
    "collapsed": true
   },
   "outputs": [],
   "source": [
    "#I timed each of these (calculating in transitions and out transitions separately vs all together). \n",
    "#the get_transitions_freq function is faster than the combo of in_transitions_freq and out_transitions_freq\n",
    "def within_transitions(matrix, community):\n",
    "    ixgrid = np.ix_(community, community)\n",
    "    m = matrix[ixgrid]\n",
    "    s = m.sum()\n",
    "    return s\n",
    "\n",
    "def out_transitions(matrix, community):\n",
    "    within = within_transitions(matrix, community)\n",
    "\n",
    "    #start = time.time()\n",
    "    ixgrid = np.ix_(community)\n",
    "    m = matrix[ixgrid, :]\n",
    "    out_transitions = m.sum()\n",
    "    #end = time.time()\n",
    "    return out_transitions - within\n",
    "    \n",
    "def in_transitions(matrix, community):\n",
    "    within = within_transitions(matrix, community)\n",
    "    \n",
    "    ixgrid = np.ix_(community)\n",
    "    m_in = matrix[:, ixgrid]\n",
    "    in_transitions = m_in.sum()\n",
    "    return in_transitions - within\n",
    "\n",
    "def ratio(matrix, community):\n",
    "    o = out_transitions(matrix, community)\n",
    "    i = in_transitions(matrix, community)\n",
    "    return i/o\n",
    "\n",
    "def classify(ratio, bounds):\n",
    "    '''bounds = [upper bound for source, lower bound for sink]'''\n",
    "    if ratio < bounds[0]:\n",
    "        return \"sink\"\n",
    "    elif ratio > bounds[1]:\n",
    "        return \"source\"\n",
    "    else:\n",
    "        return \"manager\"\n",
    "\n",
    "def get_transition_freq(matrix, community):\n",
    "    '''matrix is a numpy matrix describing the transition matrix for a graph. communities is a list of nodes'''\n",
    "    #A_{ij}: represents frequency of transition from node i to node j\n",
    "\n",
    "    #sums entries of square matrix that represents all transitions within the community and from community outward\n",
    "    #np.ix_ allows easier subsetting by creating n-d meshgrid for the matrix\n",
    "    ixgrid = np.ix_(community)\n",
    "    m = matrix[ixgrid, :]\n",
    "    comm_out_transitions = m.sum()\n",
    "    \n",
    "    m_in = matrix[:, ixgrid]\n",
    "    comm_in_transitions = m_in.sum()\n",
    "    \n",
    "    #sums entries of square matrix that represents all transitions within the community only\n",
    "    ixgrid_c = np.ix_(community, community)\n",
    "    m_c = matrix[ixgrid_c]\n",
    "    within_transition = m_c.sum()\n",
    "    \n",
    "    #subtract total community transitions from within community transitions\n",
    "    out_transition = comm_out_transitions - within_transition\n",
    "    in_transition = comm_in_transitions - within_transition\n",
    "    \n",
    "    ratio = in_transition/out_transition\n",
    "    return (in_transition, out_transition, ratio)"
   ]
  },
  {
   "cell_type": "code",
   "execution_count": 9,
   "metadata": {},
   "outputs": [
    {
     "data": {
      "text/plain": [
       "1"
      ]
     },
     "execution_count": 9,
     "metadata": {},
     "output_type": "execute_result"
    }
   ],
   "source": [
    "testm = np.matrix([[0, 1, 0, 0],\n",
    "                   [1, 0, 0, 2],\n",
    "                   [1, 0, 1, 0],\n",
    "                   [0, 2, 0, 3]])\n",
    "\n",
    "testcomm = [1, 3]\n",
    "\n",
    "out_transitions(testm, testcomm)\n",
    "#classify(0.5, [0.3, 0.6])"
   ]
  },
  {
   "cell_type": "code",
   "execution_count": 17,
   "metadata": {},
   "outputs": [
    {
     "data": {
      "text/plain": [
       "array([2, 2])"
      ]
     },
     "execution_count": 17,
     "metadata": {},
     "output_type": "execute_result"
    }
   ],
   "source": [
    "from sklearn.metrics.pairwise import pairwise_distances\n",
    "import numpy as np\n",
    "\n",
    "def get_medoids(comm_coords):\n",
    "    '''takes in community coordinates (converts to np matrix in function, so pd dataframe is fine) w one column for \n",
    "    x coords and other for y'''\n",
    "    data = comm_coords.as_matrix()\n",
    "    #get distance matrix using euclidean distance\n",
    "    D = pairwise_distances(data, metric='euclidean')\n",
    "    #take column sum and get argmin\n",
    "    medoid_index = np.argmin(D.sum(axis=0))\n",
    "    #get xy coordinate of medoid\n",
    "    return data[medoid_index]\n",
    "\n",
    "def within_transitions(matrix, community):\n",
    "    ixgrid = np.ix_(community, community)\n",
    "    m = matrix[ixgrid]\n",
    "    s = m.sum()\n",
    "    return s\n",
    "\n",
    "def out_transitions(matrix, community):\n",
    "    within = within_transitions(matrix, community)\n",
    "\n",
    "    #start = time.time()\n",
    "    ixgrid = np.ix_(community)\n",
    "    m = matrix[ixgrid, :]\n",
    "    out_transitions = m.sum()\n",
    "    #end = time.time()\n",
    "    return out_transitions - within\n",
    "    "
   ]
  },
  {
   "cell_type": "code",
   "execution_count": 9,
   "metadata": {},
   "outputs": [
    {
     "data": {
      "text/plain": [
       "array([[  0.        ,   1.41421356,  12.72792206],\n",
       "       [  1.41421356,   0.        ,  11.3137085 ],\n",
       "       [ 12.72792206,  11.3137085 ,   0.        ]])"
      ]
     },
     "execution_count": 9,
     "metadata": {},
     "output_type": "execute_result"
    }
   ],
   "source": []
  },
  {
   "cell_type": "code",
   "execution_count": null,
   "metadata": {
    "collapsed": true
   },
   "outputs": [],
   "source": []
  }
 ],
 "metadata": {
  "kernelspec": {
   "display_name": "Python 3",
   "language": "python",
   "name": "python3"
  },
  "language_info": {
   "codemirror_mode": {
    "name": "ipython",
    "version": 3
   },
   "file_extension": ".py",
   "mimetype": "text/x-python",
   "name": "python",
   "nbconvert_exporter": "python",
   "pygments_lexer": "ipython3",
   "version": "3.6.3"
  }
 },
 "nbformat": 4,
 "nbformat_minor": 2
}
