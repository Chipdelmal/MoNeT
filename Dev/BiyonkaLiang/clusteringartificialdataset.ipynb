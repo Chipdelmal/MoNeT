{
 "cells": [
  {
   "cell_type": "code",
   "execution_count": 49,
   "metadata": {},
   "outputs": [
    {
     "data": {
      "text/html": [
       "<script>requirejs.config({paths: { 'plotly': ['https://cdn.plot.ly/plotly-latest.min']},});if(!window.Plotly) {{require(['plotly'],function(plotly) {window.Plotly=plotly;});}}</script>"
      ],
      "text/vnd.plotly.v1+html": [
       "<script>requirejs.config({paths: { 'plotly': ['https://cdn.plot.ly/plotly-latest.min']},});if(!window.Plotly) {{require(['plotly'],function(plotly) {window.Plotly=plotly;});}}</script>"
      ]
     },
     "metadata": {},
     "output_type": "display_data"
    }
   ],
   "source": [
    "import pandas as pd\n",
    "import numpy as np\n",
    "import plotly.graph_objs as go\n",
    "import plotly.offline as offline\n",
    "from plotly.graph_objs import Scatter, Layout\n",
    "from sklearn.cluster import KMeans, AgglomerativeClustering, DBSCAN\n",
    "from sklearn.datasets.samples_generator import make_blobs\n",
    "from sklearn.preprocessing import StandardScaler\n",
    "from plotly.offline import download_plotlyjs, init_notebook_mode, plot, iplot\n",
    "offline.init_notebook_mode(connected=True)\n",
    "from discreteMarkovChain import markovChain\n",
    "#apply code Sarafina wrote to Hector's dataset\n",
    "#run source sink code on those clusters"
   ]
  },
  {
   "cell_type": "code",
   "execution_count": 35,
   "metadata": {},
   "outputs": [],
   "source": [
    "c = \"coordinates.csv\"#\"YorkeysKnobFiltered/YK_Coordinates.csv\"\n",
    "probs = \"nPartiteAdjMatrix.csv\"#\"YorkeysKnobFiltered/YN_Probs.csv\"\n",
    "numClusters = 3\n",
    "field_names = ['X', 'Y', \"w\"]\n",
    "coords = pd.read_csv(c, header=None, names=field_names)\n",
    "coords = coords.loc[:,[\"X\",\"Y\"]]\n",
    "transitions = pd.read_csv(probs, header=None)"
   ]
  },
  {
   "cell_type": "code",
   "execution_count": 36,
   "metadata": {
    "collapsed": true
   },
   "outputs": [],
   "source": [
    "# Create a trace for building points\n",
    "trace = go.Scatter(\n",
    "    x = coords['X'].as_matrix(),\n",
    "    y = coords['Y'].as_matrix(),\n",
    "    name = 'Site',\n",
    "    mode = 'markers',\n",
    "    marker = dict(\n",
    "        size = 6,\n",
    "        color = 'rgba(42, 147, 227, .50)',\n",
    "    )\n",
    ")"
   ]
  },
  {
   "cell_type": "code",
   "execution_count": 40,
   "metadata": {},
   "outputs": [
    {
     "data": {
      "application/vnd.plotly.v1+json": {
       "data": [
        {
         "marker": {
          "color": "rgba(42, 147, 227, .50)",
          "size": 6
         },
         "mode": "markers",
         "name": "Site",
         "type": "scatter",
         "x": [
          -92.13964278999164,
          -48.95220937963385,
          5.825684307987245,
          -93.6332634830038,
          -100.54527061092192,
          -84.8955361839718,
          -80.22342664095265,
          -29.475139438791985,
          14.33732043324204,
          81.02254573069126,
          98.66255327793976,
          173.09813580098896,
          228.39336794908246,
          138.87024495863545,
          73.3896360882262,
          7.17058323577902,
          13.947176055128635,
          62.68990777394674,
          54.71312062836233,
          38.77094055186416
         ],
         "y": [
          21.834371757676195,
          54.00738460549394,
          6.108533712587416,
          -67.15429086203615,
          -35.10366213389139,
          -79.66552665700435,
          16.5143164466904,
          -76.00989540925282,
          -162.41328677499132,
          -204.0971876368362,
          -167.61685488209375,
          -265.72463237389184,
          -256.466218133034,
          -162.229671110728,
          -261.212327090377,
          -208.477667493203,
          -263.4200688048896,
          -258.560942892304,
          -279.7140835416136,
          -270.0012817811232
         ]
        },
        {
         "marker": {
          "color": "rgba(255, 0, 0, 0.75)",
          "size": 12
         },
         "mode": "markers",
         "name": "Agg Clusters",
         "type": "scatter",
         "x": [
          58.35740287338156,
          -65.50485052741004,
          200.7457518750357
         ],
         "y": [
          -223.77433720081598,
          -19.933596067467093,
          -261.0954252534629
         ]
        }
       ],
       "layout": {
        "title": "Testing Landscape Cluster Coordinates with 3 Clusters"
       }
      },
      "text/html": [
       "<div id=\"d76d41e3-be47-411e-a82e-391464d9290b\" style=\"height: 525px; width: 100%;\" class=\"plotly-graph-div\"></div><script type=\"text/javascript\">require([\"plotly\"], function(Plotly) { window.PLOTLYENV=window.PLOTLYENV || {};window.PLOTLYENV.BASE_URL=\"https://plot.ly\";Plotly.newPlot(\"d76d41e3-be47-411e-a82e-391464d9290b\", [{\"type\": \"scatter\", \"x\": [-92.13964278999164, -48.95220937963385, 5.825684307987245, -93.6332634830038, -100.54527061092192, -84.8955361839718, -80.22342664095265, -29.475139438791985, 14.33732043324204, 81.02254573069126, 98.66255327793976, 173.09813580098896, 228.39336794908246, 138.87024495863545, 73.3896360882262, 7.17058323577902, 13.947176055128635, 62.68990777394674, 54.71312062836233, 38.77094055186416], \"y\": [21.834371757676195, 54.00738460549394, 6.108533712587416, -67.15429086203615, -35.10366213389139, -79.66552665700435, 16.5143164466904, -76.00989540925282, -162.41328677499132, -204.0971876368362, -167.61685488209375, -265.72463237389184, -256.466218133034, -162.229671110728, -261.212327090377, -208.477667493203, -263.4200688048896, -258.560942892304, -279.7140835416136, -270.0012817811232], \"name\": \"Site\", \"mode\": \"markers\", \"marker\": {\"size\": 6, \"color\": \"rgba(42, 147, 227, .50)\"}}, {\"type\": \"scatter\", \"x\": [58.35740287338156, -65.50485052741004, 200.7457518750357], \"y\": [-223.77433720081598, -19.933596067467093, -261.0954252534629], \"name\": \"Agg Clusters\", \"mode\": \"markers\", \"marker\": {\"size\": 12, \"color\": \"rgba(255, 0, 0, 0.75)\"}}], {\"title\": \"Testing Landscape Cluster Coordinates with 3 Clusters\"}, {\"showLink\": true, \"linkText\": \"Export to plot.ly\"})});</script>"
      ],
      "text/vnd.plotly.v1+html": [
       "<div id=\"d76d41e3-be47-411e-a82e-391464d9290b\" style=\"height: 525px; width: 100%;\" class=\"plotly-graph-div\"></div><script type=\"text/javascript\">require([\"plotly\"], function(Plotly) { window.PLOTLYENV=window.PLOTLYENV || {};window.PLOTLYENV.BASE_URL=\"https://plot.ly\";Plotly.newPlot(\"d76d41e3-be47-411e-a82e-391464d9290b\", [{\"type\": \"scatter\", \"x\": [-92.13964278999164, -48.95220937963385, 5.825684307987245, -93.6332634830038, -100.54527061092192, -84.8955361839718, -80.22342664095265, -29.475139438791985, 14.33732043324204, 81.02254573069126, 98.66255327793976, 173.09813580098896, 228.39336794908246, 138.87024495863545, 73.3896360882262, 7.17058323577902, 13.947176055128635, 62.68990777394674, 54.71312062836233, 38.77094055186416], \"y\": [21.834371757676195, 54.00738460549394, 6.108533712587416, -67.15429086203615, -35.10366213389139, -79.66552665700435, 16.5143164466904, -76.00989540925282, -162.41328677499132, -204.0971876368362, -167.61685488209375, -265.72463237389184, -256.466218133034, -162.229671110728, -261.212327090377, -208.477667493203, -263.4200688048896, -258.560942892304, -279.7140835416136, -270.0012817811232], \"name\": \"Site\", \"mode\": \"markers\", \"marker\": {\"size\": 6, \"color\": \"rgba(42, 147, 227, .50)\"}}, {\"type\": \"scatter\", \"x\": [58.35740287338156, -65.50485052741004, 200.7457518750357], \"y\": [-223.77433720081598, -19.933596067467093, -261.0954252534629], \"name\": \"Agg Clusters\", \"mode\": \"markers\", \"marker\": {\"size\": 12, \"color\": \"rgba(255, 0, 0, 0.75)\"}}], {\"title\": \"Testing Landscape Cluster Coordinates with 3 Clusters\"}, {\"showLink\": true, \"linkText\": \"Export to plot.ly\"})});</script>"
      ]
     },
     "metadata": {},
     "output_type": "display_data"
    }
   ],
   "source": [
    "agg = AgglomerativeClustering(n_clusters = numClusters).fit(coords.as_matrix())\n",
    "aggPoints = []\n",
    "\n",
    "for x in range(0, numClusters):\n",
    "    aggPoints.append([])\n",
    "\n",
    "for x in range(0, len(coords)):\n",
    "    aggPoints[agg.labels_[x]].append(coords.as_matrix()[x])\n",
    "\n",
    "centersX = []\n",
    "centersY = []\n",
    "\n",
    "clusterLabels = agg.labels_\n",
    "citiesInCluster = [0] * len(clusterLabels)\n",
    "for x in range(0, len(clusterLabels)):\n",
    "    citiesInCluster[clusterLabels[x]] += 1\n",
    "\n",
    "for x in range(0, numClusters):\n",
    "    sumX = 0\n",
    "    sumY = 0\n",
    "    for y in range(0, len(aggPoints[x])):\n",
    "        sumX += aggPoints[x][y][0]\n",
    "        sumY += aggPoints[x][y][1]\n",
    "    centersX.append(sumX / len(aggPoints[x]))\n",
    "    centersY.append(sumY / len(aggPoints[x]))\n",
    "\n",
    "aggCentersTrace = go.Scatter(\n",
    "    x = centersX,\n",
    "    y = centersY,\n",
    "    name = 'Agg Clusters',\n",
    "    mode = 'markers',\n",
    "    marker = dict(\n",
    "        size = 12,\n",
    "        color = 'rgba(255, 0, 0, 0.75)'\n",
    "    )\n",
    ")\n",
    "\n",
    "#Plot result\n",
    "points = [trace]\n",
    "points.append(aggCentersTrace)\n",
    "#Gets name of city from the name of the csv file\n",
    "cityName = \"Testing\"#$c.split(\"/\")[1].split(\"_\")[0]\n",
    "#Plot\n",
    "iplot({\n",
    "        \"data\": points,\n",
    "        'layout': {'title': cityName + ' Landscape Cluster Coordinates with ' + str(numClusters) + ' Clusters'}\n",
    "        },\n",
    "        )"
   ]
  },
  {
   "cell_type": "code",
   "execution_count": 53,
   "metadata": {},
   "outputs": [
    {
     "data": {
      "text/html": [
       "<div>\n",
       "<style>\n",
       "    .dataframe thead tr:only-child th {\n",
       "        text-align: right;\n",
       "    }\n",
       "\n",
       "    .dataframe thead th {\n",
       "        text-align: left;\n",
       "    }\n",
       "\n",
       "    .dataframe tbody tr th {\n",
       "        vertical-align: top;\n",
       "    }\n",
       "</style>\n",
       "<table border=\"1\" class=\"dataframe\">\n",
       "  <thead>\n",
       "    <tr style=\"text-align: right;\">\n",
       "      <th></th>\n",
       "      <th>clusters</th>\n",
       "      <th>site</th>\n",
       "    </tr>\n",
       "  </thead>\n",
       "  <tbody>\n",
       "    <tr>\n",
       "      <th>9</th>\n",
       "      <td>0</td>\n",
       "      <td>9</td>\n",
       "    </tr>\n",
       "    <tr>\n",
       "      <th>17</th>\n",
       "      <td>0</td>\n",
       "      <td>17</td>\n",
       "    </tr>\n",
       "    <tr>\n",
       "      <th>16</th>\n",
       "      <td>0</td>\n",
       "      <td>16</td>\n",
       "    </tr>\n",
       "    <tr>\n",
       "      <th>15</th>\n",
       "      <td>0</td>\n",
       "      <td>15</td>\n",
       "    </tr>\n",
       "    <tr>\n",
       "      <th>14</th>\n",
       "      <td>0</td>\n",
       "      <td>14</td>\n",
       "    </tr>\n",
       "    <tr>\n",
       "      <th>13</th>\n",
       "      <td>0</td>\n",
       "      <td>13</td>\n",
       "    </tr>\n",
       "    <tr>\n",
       "      <th>10</th>\n",
       "      <td>0</td>\n",
       "      <td>10</td>\n",
       "    </tr>\n",
       "    <tr>\n",
       "      <th>18</th>\n",
       "      <td>0</td>\n",
       "      <td>18</td>\n",
       "    </tr>\n",
       "    <tr>\n",
       "      <th>19</th>\n",
       "      <td>0</td>\n",
       "      <td>19</td>\n",
       "    </tr>\n",
       "    <tr>\n",
       "      <th>8</th>\n",
       "      <td>0</td>\n",
       "      <td>8</td>\n",
       "    </tr>\n",
       "  </tbody>\n",
       "</table>\n",
       "</div>"
      ],
      "text/plain": [
       "    clusters  site\n",
       "9          0     9\n",
       "17         0    17\n",
       "16         0    16\n",
       "15         0    15\n",
       "14         0    14\n",
       "13         0    13\n",
       "10         0    10\n",
       "18         0    18\n",
       "19         0    19\n",
       "8          0     8"
      ]
     },
     "execution_count": 53,
     "metadata": {},
     "output_type": "execute_result"
    }
   ],
   "source": [
    "d = {\"clusters\":clusterLabels, \"site\":np.arange(0, len(clusterLabels), 1)}\n",
    "sites_w_clusters = pd.DataFrame(data=d).sort_values(\"clusters\")\n",
    "cluster0 = sites_w_clusters.loc[sites_w_clusters['clusters'] == 0]\n",
    "cluster1 = sites_w_clusters.loc[sites_w_clusters['clusters'] == 1]\n",
    "cluster2 = sites_w_clusters.loc[sites_w_clusters['clusters'] == 2]\n",
    "cluster0"
   ]
  },
  {
   "cell_type": "code",
   "execution_count": 44,
   "metadata": {},
   "outputs": [],
   "source": [
    "#my code\n",
    "#I timed each of these (calculating in transitions and out transitions separately vs all together). \n",
    "#the get_transitions_freq function is faster than the combo of in_transitions_freq and out_transitions_freq\n",
    "def within_transitions(matrix, community):\n",
    "    ixgrid = np.ix_(community, community)[0]\n",
    "    m = matrix[ixgrid]\n",
    "    s = m.sum()\n",
    "    return s\n",
    "\n",
    "def out_transitions(matrix, community):\n",
    "    within = within_transitions(matrix, community)\n",
    "\n",
    "    #start = time.time()\n",
    "    ixgrid = np.ix_(community)[0]\n",
    "    m = matrix[ixgrid, :]\n",
    "    out_transitions = m.sum()\n",
    "    #end = time.time()\n",
    "    return max(0, out_transitions - within)\n",
    "    \n",
    "def in_transitions(matrix, community):\n",
    "    #floating point errors possible, could give negative values close to 0\n",
    "    within = within_transitions(matrix, community)\n",
    "    \n",
    "    ixgrid = np.ix_(community)[0]\n",
    "    m_in = matrix[:, ixgrid]\n",
    "    in_transitions = m_in.sum()\n",
    "    return max(0, in_transitions -  within)\n",
    "\n",
    "def ratio(matrix, community):\n",
    "    o = out_transitions(matrix, community)\n",
    "    i = in_transitions(matrix, community)\n",
    "    if o == 0 and i == 0:\n",
    "        return 0.5\n",
    "    elif o == 0 and i != 0:\n",
    "        #guarentees that we have a sink\n",
    "        return 2\n",
    "    elif i == 0 and o != 0:\n",
    "        return 0\n",
    "    #avoid division by 0\n",
    "    else:\n",
    "        return i/o\n",
    "\n",
    "def classify(ratio, bounds):\n",
    "    '''bounds = [upper bound for source, lower bound for sink], between 0 and 1'''\n",
    "    if ratio <= bounds[0]:\n",
    "        return \"sink\"\n",
    "    elif ratio >= bounds[1]:\n",
    "        return \"source\"\n",
    "    else:\n",
    "        return \"manager\"\n",
    "\n",
    "def get_transition_freq(matrix, community):\n",
    "    '''matrix is a numpy matrix describing the transition matrix for a graph. communities is a list of nodes'''\n",
    "    #A_{ij}: represents frequency of transition from node i to node j\n",
    "\n",
    "    #sums entries of square matrix that represents all transitions within the community and from community outward\n",
    "    #np.ix_ allows easier subsetting by creating n-d meshgrid for the matrix\n",
    "    ixgrid = np.ix_(community)\n",
    "    m = matrix[ixgrid, :]\n",
    "    comm_out_transitions = m.sum()\n",
    "    \n",
    "    m_in = matrix[:, ixgrid]\n",
    "    comm_in_transitions = m_in.sum()\n",
    "    \n",
    "    #sums entries of square matrix that represents all transitions within the community only\n",
    "    ixgrid_c = np.ix_(community, community)\n",
    "    m_c = matrix[ixgrid_c]\n",
    "    within_transition = m_c.sum()\n",
    "    \n",
    "    #subtract total community transitions from within community transitions\n",
    "    out_transition = comm_out_transitions - within_transition\n",
    "    in_transition = comm_in_transitions - within_transition\n",
    "    \n",
    "    ratio = in_transition/out_transition\n",
    "    return (in_transition, out_transition, ratio)"
   ]
  },
  {
   "cell_type": "code",
   "execution_count": 68,
   "metadata": {},
   "outputs": [
    {
     "data": {
      "text/plain": [
       "2"
      ]
     },
     "execution_count": 68,
     "metadata": {},
     "output_type": "execute_result"
    }
   ],
   "source": [
    "within_transitions(transitions.as_matrix(), list(cluster0.iloc[:, 1]))\n",
    "ratio(transitions.as_matrix(), list(cluster0.iloc[:, 1]))"
   ]
  },
  {
   "cell_type": "code",
   "execution_count": 52,
   "metadata": {},
   "outputs": [
    {
     "name": "stdout",
     "output_type": "stream",
     "text": [
      "[ 0.0705219   0.032752    0.04749825  0.029796    0.03281641  0.03034134\n",
      "  0.07335767  0.03895854  0.03576786  0.06833721  0.04236353  0.03254765\n",
      "  0.02265339  0.0316026   0.10369766  0.0384987   0.04795309  0.09865545\n",
      "  0.06062606  0.06125468]\n"
     ]
    }
   ],
   "source": [
    "testing = transitions.as_matrix()\n",
    "t = markovChain(testing)\n",
    "t.computePi()\n",
    "print(t.pi)"
   ]
  },
  {
   "cell_type": "code",
   "execution_count": null,
   "metadata": {
    "collapsed": true
   },
   "outputs": [],
   "source": []
  }
 ],
 "metadata": {
  "kernelspec": {
   "display_name": "Python 3",
   "language": "python",
   "name": "python3"
  },
  "language_info": {
   "codemirror_mode": {
    "name": "ipython",
    "version": 3
   },
   "file_extension": ".py",
   "mimetype": "text/x-python",
   "name": "python",
   "nbconvert_exporter": "python",
   "pygments_lexer": "ipython3",
   "version": "3.6.3"
  }
 },
 "nbformat": 4,
 "nbformat_minor": 2
}
