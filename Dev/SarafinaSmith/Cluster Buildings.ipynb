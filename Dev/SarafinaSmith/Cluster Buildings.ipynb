{
 "cells": [
  {
   "cell_type": "code",
   "execution_count": 1,
   "metadata": {},
   "outputs": [
    {
     "ename": "ImportError",
     "evalue": "dlopen(/Users/sanchez.hmsc/Library/Caches/Python-Eggs/python_igraph-0.7.1.post6-py2.7-macosx-10.5-x86_64.egg-tmp/igraph/_igraph.so, 2): Library not loaded: /usr/local/lib/libigraph.0.dylib\n  Referenced from: /Users/sanchez.hmsc/Library/Caches/Python-Eggs/python_igraph-0.7.1.post6-py2.7-macosx-10.5-x86_64.egg-tmp/igraph/_igraph.so\n  Reason: image not found",
     "output_type": "error",
     "traceback": [
      "\u001b[0;31m---------------------------------------------------------------------------\u001b[0m",
      "\u001b[0;31mImportError\u001b[0m                               Traceback (most recent call last)",
      "\u001b[0;32m<ipython-input-1-1f24addaef32>\u001b[0m in \u001b[0;36m<module>\u001b[0;34m()\u001b[0m\n\u001b[0;32m----> 1\u001b[0;31m \u001b[0;32mimport\u001b[0m \u001b[0migraph\u001b[0m\u001b[0;34m\u001b[0m\u001b[0m\n\u001b[0m\u001b[1;32m      2\u001b[0m \u001b[0;32mimport\u001b[0m \u001b[0mpandas\u001b[0m \u001b[0;32mas\u001b[0m \u001b[0mpd\u001b[0m\u001b[0;34m\u001b[0m\u001b[0m\n\u001b[1;32m      3\u001b[0m \u001b[0;32mimport\u001b[0m \u001b[0mplotly\u001b[0m\u001b[0;34m.\u001b[0m\u001b[0mgraph_objs\u001b[0m \u001b[0;32mas\u001b[0m \u001b[0mgo\u001b[0m\u001b[0;34m\u001b[0m\u001b[0m\n\u001b[1;32m      4\u001b[0m \u001b[0;32mimport\u001b[0m \u001b[0mplotly\u001b[0m\u001b[0;34m.\u001b[0m\u001b[0moffline\u001b[0m \u001b[0;32mas\u001b[0m \u001b[0moffline\u001b[0m\u001b[0;34m\u001b[0m\u001b[0m\n\u001b[1;32m      5\u001b[0m \u001b[0;32mimport\u001b[0m \u001b[0mnumpy\u001b[0m\u001b[0;34m.\u001b[0m\u001b[0mrandom\u001b[0m \u001b[0;32mas\u001b[0m \u001b[0mrandom\u001b[0m\u001b[0;34m\u001b[0m\u001b[0m\n",
      "\u001b[0;32m/Users/sanchez.hmsc/miniconda2/envs/MoNeT/lib/python2.7/site-packages/python_igraph-0.7.1.post6-py2.7-macosx-10.5-x86_64.egg/igraph/__init__.py\u001b[0m in \u001b[0;36m<module>\u001b[0;34m()\u001b[0m\n",
      "\u001b[0;32m/Users/sanchez.hmsc/miniconda2/envs/MoNeT/lib/python2.7/site-packages/python_igraph-0.7.1.post6-py2.7-macosx-10.5-x86_64.egg/igraph/_igraph.py\u001b[0m in \u001b[0;36m<module>\u001b[0;34m()\u001b[0m\n",
      "\u001b[0;32m/Users/sanchez.hmsc/miniconda2/envs/MoNeT/lib/python2.7/site-packages/python_igraph-0.7.1.post6-py2.7-macosx-10.5-x86_64.egg/igraph/_igraph.py\u001b[0m in \u001b[0;36m__bootstrap__\u001b[0;34m()\u001b[0m\n",
      "\u001b[0;31mImportError\u001b[0m: dlopen(/Users/sanchez.hmsc/Library/Caches/Python-Eggs/python_igraph-0.7.1.post6-py2.7-macosx-10.5-x86_64.egg-tmp/igraph/_igraph.so, 2): Library not loaded: /usr/local/lib/libigraph.0.dylib\n  Referenced from: /Users/sanchez.hmsc/Library/Caches/Python-Eggs/python_igraph-0.7.1.post6-py2.7-macosx-10.5-x86_64.egg-tmp/igraph/_igraph.so\n  Reason: image not found"
     ]
    }
   ],
   "source": [
    "import pandas as pd\n",
    "import plotly.graph_objs as go\n",
    "import plotly.offline as offline\n",
    "import numpy.random as random\n",
    "import networkx as nx\n",
    "from plotly.graph_objs import Scatter, Layout\n",
    "from sklearn import metrics\n",
    "from sklearn.metrics import pairwise_distances\n",
    "from sklearn.cluster import KMeans, AgglomerativeClustering, DBSCAN\n",
    "from sklearn.datasets.samples_generator import make_blobs\n",
    "from sklearn.preprocessing import StandardScaler\n",
    "from plotly.offline import download_plotlyjs, init_notebook_mode, plot, iplot\n",
    "offline.init_notebook_mode(connected=True)"
   ]
  },
  {
   "cell_type": "markdown",
   "metadata": {},
   "source": [
    "**Clustering Buildings**\n",
    "Functions to cluster buildings using DBScan, KMeans, and Hierarchical Ward\n",
    "Always define parameters and read CSV file. Select one or more of the algorithms by running their individual cells."
   ]
  },
  {
   "cell_type": "markdown",
   "metadata": {},
   "source": [
    "Define Parameters, Load and Define Data\n"
   ]
  },
  {
   "cell_type": "code",
   "execution_count": 30,
   "metadata": {},
   "outputs": [],
   "source": [
    "#csvFileName = \"CSVCoordinates/ArroyoGrande_Buildings_Coordinates_original.csv\"\n",
    "#field_names = ['X', 'Y']\n",
    "numClusters = 200 #used for KMeans and AggClustering\n",
    "\n",
    "#csvFileName = \"FiveCitiesLandscapes/FiveCitiesM_Coordinates.csv\"\n",
    "#field_names = ['index', 'X', 'Y', 'prob']\n",
    "\n",
    "csvFileName = \"YorkeysKnob_Coordinates.csv\"\n",
    "field_names = ['X', 'Y']\n",
    "buildings = pd.read_csv(csvFileName, header=None, names=field_names)[['X','Y']]\n",
    "\n",
    "# Create a trace for building points\n",
    "trace = go.Scatter(\n",
    "    x = buildings['X'].as_matrix(),\n",
    "    y = buildings['Y'].as_matrix(),\n",
    "    name = 'Buildings',\n",
    "    mode = 'markers',\n",
    "    marker = dict(\n",
    "        size = 6,\n",
    "        color = 'rgba(42, 147, 227, .50)',\n",
    "    )\n",
    ")\n",
    "\n",
    "def colorClusterTrace(numClusters, clusterPoints):\n",
    "    \"\"\"\n",
    "    Returns a trace to color each building according to its cluster id\n",
    "    \"\"\"\n",
    "    colorTrace = [0] * numClusters\n",
    "    col = 25\n",
    "    for x in range(0, numClusters):\n",
    "        colorTrace[x] = go.Scatter(\n",
    "            x = clusterPoints[x][0], \n",
    "            y = clusterPoints[x][1], \n",
    "            name = 'Cluster ' + str(x) + ' Buildings',\n",
    "            mode = 'markers',\n",
    "            marker = dict(\n",
    "                size = 6, \n",
    "                color = 'rgba(' + str(col) + ',' + str(col) + ',' + str(col) + ', 0.75)',\n",
    "                #color = [x],\n",
    "                #colorscale = 'Rainbow'\n",
    "            )\n",
    "        )\n",
    "        col += 25\n",
    "        if col > 255:\n",
    "            col -= 255\n",
    "    return colorTrace\n",
    "\n",
    "def clusterCenterTrace(clusterCenters, algorithmName):\n",
    "    \"\"\"\n",
    "    Returns a trace of red cluster centers\n",
    "    \"\"\"\n",
    "    return go.Scatter(\n",
    "        x = clusterCenters[0],\n",
    "        y = clusterCenters[1],\n",
    "        name = algorithmName,\n",
    "        mode = 'markers',\n",
    "        marker = dict(\n",
    "            size = 4,\n",
    "            color = 'rgba(255, 0, 0, 0.75)'\n",
    "            ,\n",
    "\n",
    "        )\n",
    "    )\n",
    "\n",
    "def plot(colorTrace, centerTrace):\n",
    "    #Plot result\n",
    "    points = []\n",
    "    for x in range(len(colorTrace)):\n",
    "        points.append(colorTrace[x])\n",
    "    points.append(centerTrace)\n",
    "    #Gets name of city from the name of the csv file\n",
    "    #cityName = csvFileName.split(\"/\")[1].split(\"_\")[0]\n",
    "    cityName = \"Yorkey's Knob\"\n",
    "    #Plot\n",
    "    layout = go.Layout(title = cityName + ' Building Cluster Coordinates with ' + str(numClusters) + ' Clusters',\n",
    "                       yaxis = dict(scaleanchor=\"x\", scaleratio=1))\n",
    "    iplot({\n",
    "            \"data\": points,\n",
    "            'layout': layout,\n",
    "            },\n",
    "        )\n",
    "\n",
    "def createClusterCenters(labels):\n",
    "    \"\"\"\n",
    "    In: labels is a list of clusters generated by DBScan or AggClustering. labels[i] is the cluster id of buildings[i]\n",
    "    Out: centersX is a list of x coordinates for each cluster center\n",
    "         centersY is a list of y coordinates for each cluster center\n",
    "         clusterPoints is a list of lists used for the trace where [i] is all x, y coords of buildings in cluster i\n",
    "                    and clusterPoints[i][0] is a list of x values in cluster i and clusterPoints[i][1] is a list of y values in cluster i\n",
    "    \"\"\"\n",
    "    points = [] #points is a list of lists where points[i] holds the coordinates of the buildings within cluster i\n",
    "    \n",
    "    clusterPoints = []  \n",
    "\n",
    "    #set up list of lists\n",
    "    for x in range(0, len(labels)):\n",
    "        points.append([])\n",
    "        clusterPoints.append([])\n",
    "        clusterPoints[x] = [[], []]\n",
    "\n",
    "    #append each building to points based on its label\n",
    "    for x in range(0, len(buildings)):\n",
    "        if(labels[x] >= 0):\n",
    "            points[labels[x]].append(buildings.as_matrix()[x])\n",
    "        \n",
    "    centersX = []\n",
    "    centersY = []\n",
    "\n",
    "\n",
    "    #find cluster center by averaging all points in each cluster\n",
    "    for x in range(0, len(labels)):\n",
    "        sumX = 0\n",
    "        sumY = 0\n",
    "        for y in range(0, len(points[x])):\n",
    "            sumX += points[x][y][0]\n",
    "            sumY += points[x][y][1]        \n",
    "            clusterPoints[x][0].append(points[x][y][0])\n",
    "            clusterPoints[x][1].append(points[x][y][1])\n",
    "        if(len(points[x]) > 0):\n",
    "            centersX.append(sumX / len(points[x]))\n",
    "            centersY.append(sumY / len(points[x]))\n",
    "        \n",
    "    return [centersX, centersY], clusterPoints, points\n",
    "\n",
    "def euclideanDistance(a, b):\n",
    "    return ((a[0]-b[0])**2 + (a[1]-b[1])**2)**0.5\n",
    "\n",
    "def distBetweenCenters(centers):\n",
    "    \"\"\"\n",
    "    In: list of tuples (x, y) of each cluster center\n",
    "    Out: 2d array where array[i][j] is the distance between center i and center j\n",
    "    \"\"\"\n",
    "    distances = []\n",
    "    for i in range(len(centers)):\n",
    "        distances.append([])\n",
    "        for j in range(len(centers)):\n",
    "            distances[i].append(euclideanDistance(centers[i], centers[j]))\n",
    "    return distances\n",
    "\n",
    "def minDistBetweenClusters(points):\n",
    "    \"\"\"\n",
    "    In: points (computed in createClusterCenters), where points[i] is a list of tuples (x, y) of points in cluster i\n",
    "    Out: 2d array where array[i][j] is the min distance between cluster i and cluster j\n",
    "    \"\"\"\n",
    "    distances= []\n",
    "    for i in range(len(points)):\n",
    "        distances.append([])\n",
    "        for j in range(len(points)):\n",
    "            minDist = min([euclideanDistance(a, b) for a in points[i] for b in points[j]])\n",
    "            distances[i].append(minDist)\n",
    "    return distances\n",
    "\n",
    "def maxDistBetweenClusters(points):\n",
    "    \"\"\"\n",
    "    In: points (computed in createClusterCenters), where points[i] is a list of arrays [x, y] of points in cluster i\n",
    "    Out: 2d array where array[i][j] is the min distance between cluster i and cluster j\n",
    "    \"\"\"\n",
    "    distances= []\n",
    "    for i in range(len(points)):\n",
    "        distances.append([])\n",
    "        for j in range(len(points)):\n",
    "            allDistances = [euclideanDistance(a, b) for a in points[i] for b in points[j]]\n",
    "            if(len(allDistances) > 0):\n",
    "                print('ok')\n",
    "                maxDist = max(allDistances)\n",
    "                distances[i].append(maxDist)\n",
    "            else:\n",
    "                distances[i].append(None)\n",
    "    return distances\n",
    "\n",
    "def testMinDist():\n",
    "    points = [[(0, 0), (0, 1), (1, 0), (1, 1)], [(2, 1), (2, 2), (2, 3), (2, 2)], [(4, 3), (3, 4), (4, 3)]]\n",
    "    return minDistBetweenClusters(points)\n",
    "\n",
    "def clusterEval(labels):\n",
    "    '''\n",
    "    Calculates the cluster evaluation scores of the clustering of the buildings in labels \n",
    "    Silhouette score ranges from -1 to 1, where -1 is the worst clustering and 1 is the best\n",
    "    Calinski-Harabaz score is unbounded, but the higher the score, the better the clustering\n",
    "    \n",
    "    In: labels as calculated from the clustering method\n",
    "    Out: a tuple containing:\n",
    "         the Silhouette score\n",
    "         the Calinski-Harabaz score\n",
    "    '''\n",
    "    return metrics.silhouette_score(buildings.as_matrix(), labels, metric = 'euclidean'), metrics.calinski_harabaz_score(buildings.as_matrix(), labels)\n",
    "\n",
    "\n",
    "def createCSV(labels):\n",
    "    buildings['clusterID'] = pd.Series(labels, index = buildings.index)\n",
    "    buildings.to_csv('YorkeysKnobClusters.csv')"
   ]
  },
  {
   "cell_type": "markdown",
   "metadata": {},
   "source": [
    "KMeans Clustering"
   ]
  },
  {
   "cell_type": "code",
   "execution_count": 25,
   "metadata": {},
   "outputs": [
    {
     "name": "stdout",
     "output_type": "stream",
     "text": [
      "silhouette score: 0.384293699546\n",
      "calinski score: 7492.41418635\n"
     ]
    },
    {
     "data": {
      "text/html": [
       "<div>\n",
       "<style scoped>\n",
       "    .dataframe tbody tr th:only-of-type {\n",
       "        vertical-align: middle;\n",
       "    }\n",
       "\n",
       "    .dataframe tbody tr th {\n",
       "        vertical-align: top;\n",
       "    }\n",
       "\n",
       "    .dataframe thead th {\n",
       "        text-align: right;\n",
       "    }\n",
       "</style>\n",
       "<table border=\"1\" class=\"dataframe\">\n",
       "  <thead>\n",
       "    <tr style=\"text-align: right;\">\n",
       "      <th></th>\n",
       "      <th>X</th>\n",
       "      <th>Y</th>\n",
       "      <th>clusterID</th>\n",
       "    </tr>\n",
       "  </thead>\n",
       "  <tbody>\n",
       "    <tr>\n",
       "      <th>0</th>\n",
       "      <td>145.704862</td>\n",
       "      <td>-16.798945</td>\n",
       "      <td>36</td>\n",
       "    </tr>\n",
       "    <tr>\n",
       "      <th>1</th>\n",
       "      <td>145.703837</td>\n",
       "      <td>-16.798807</td>\n",
       "      <td>36</td>\n",
       "    </tr>\n",
       "    <tr>\n",
       "      <th>2</th>\n",
       "      <td>145.705640</td>\n",
       "      <td>-16.798558</td>\n",
       "      <td>36</td>\n",
       "    </tr>\n",
       "    <tr>\n",
       "      <th>3</th>\n",
       "      <td>145.705478</td>\n",
       "      <td>-16.798754</td>\n",
       "      <td>36</td>\n",
       "    </tr>\n",
       "    <tr>\n",
       "      <th>4</th>\n",
       "      <td>145.701157</td>\n",
       "      <td>-16.801173</td>\n",
       "      <td>175</td>\n",
       "    </tr>\n",
       "  </tbody>\n",
       "</table>\n",
       "</div>"
      ],
      "text/plain": [
       "            X          Y  clusterID\n",
       "0  145.704862 -16.798945         36\n",
       "1  145.703837 -16.798807         36\n",
       "2  145.705640 -16.798558         36\n",
       "3  145.705478 -16.798754         36\n",
       "4  145.701157 -16.801173        175"
      ]
     },
     "metadata": {},
     "output_type": "display_data"
    },
    {
     "data": {
      "application/vnd.plotly.v1+json": {
       "data": [
        {
         "marker": {
          "color": "rgba(25,25,25, 0.75)",
          "size": 6
         },
         "mode": "markers",
         "name": "Cluster 0 Buildings",
         "type": "scatter",
         "x": [
          145.71648076,
          145.71698800769232,
          145.71646346,
          145.71643622,
          145.71693868,
          145.716873,
          145.71698768571432,
          145.71646074285715,
          145.71649251428568,
          145.71647858888892
         ],
         "y": [
          -16.8106362,
          -16.811296069230767,
          -16.81100749333333,
          -16.81153212,
          -16.81110574,
          -16.8115934,
          -16.810830357142862,
          -16.811159742857143,
          -16.8108243,
          -16.81136285555555
         ]
        },
        {
         "marker": {
          "color": "rgba(50,50,50, 0.75)",
          "size": 6
         },
         "mode": "markers",
         "name": "Cluster 1 Buildings",
         "type": "scatter",
         "x": [
          145.70276602307698,
          145.70256097272727,
          145.70226530000002,
          145.70219066,
          145.70229351428569,
          145.70235616666668,
          145.70238447777774,
          145.70202855555556,
          145.70210124444444
         ],
         "y": [
          -16.808626146153845,
          -16.80892499090909,
          -16.809152140000002,
          -16.80908282,
          -16.80867298571429,
          -16.808783466666668,
          -16.80904335555556,
          -16.808810388888887,
          -16.808965055555557
         ]
        },
        {
         "marker": {
          "color": "rgba(75,75,75, 0.75)",
          "size": 6
         },
         "mode": "markers",
         "name": "Cluster 2 Buildings",
         "type": "scatter",
         "x": [
          145.72219748,
          145.72156656,
          145.72158032000004,
          145.72161649999995,
          145.7215822,
          145.72179295555554
         ],
         "y": [
          -16.80791854,
          -16.807850499999994,
          -16.80767712,
          -16.80749558,
          -16.808021259999997,
          -16.8080453
         ]
        },
        {
         "marker": {
          "color": "rgba(100,100,100, 0.75)",
          "size": 6
         },
         "mode": "markers",
         "name": "Cluster 3 Buildings",
         "type": "scatter",
         "x": [
          145.7037461909091,
          145.70347155,
          145.7036106,
          145.70371563999996,
          145.70387802727268,
          145.7036342083333,
          145.70333594444443,
          145.70400116363638,
          145.70336813333338,
          145.70320404444442,
          145.70347626666666,
          145.70382172727273
         ],
         "y": [
          -16.814141509090913,
          -16.81411645,
          -16.814013246153852,
          -16.813986840000002,
          -16.81429449090909,
          -16.814376016666667,
          -16.81421168888889,
          -16.814554763636366,
          -16.814532611111108,
          -16.814272033333335,
          -16.814450455555562,
          -16.814710418181818
         ]
        },
        {
         "marker": {
          "color": "rgba(125,125,125, 0.75)",
          "size": 6
         },
         "mode": "markers",
         "name": "Cluster 4 Buildings",
         "type": "scatter",
         "x": [
          145.72300546363638,
          145.72292598181818,
          145.72338956,
          145.72290149999995,
          145.72345837999995,
          145.72326578000005,
          145.72312168,
          145.72368160000005,
          145.72298008,
          145.72290942857143,
          145.72284317142856,
          145.7236332777778,
          145.72290965555555
         ],
         "y": [
          -16.813278090909094,
          -16.81258249090909,
          -16.813270640000002,
          -16.81309028,
          -16.81267416,
          -16.812682059999997,
          -16.81278434,
          -16.812927399999996,
          -16.81311548,
          -16.812947228571428,
          -16.813311985714282,
          -16.812738,
          -16.812776344444448
         ]
        },
        {
         "marker": {
          "color": "rgba(150,150,150, 0.75)",
          "size": 6
         },
         "mode": "markers",
         "name": "Cluster 5 Buildings",
         "type": "scatter",
         "x": [
          145.70437374,
          145.70464413999997,
          145.70452519999998,
          145.70490143333333,
          145.70477667777774,
          145.70423797777778,
          145.70445433076927,
          145.7047381,
          145.70434430000003,
          145.70444074,
          145.70484585555556
         ],
         "y": [
          -16.804503959999998,
          -16.80477454,
          -16.804624342857142,
          -16.804636799999994,
          -16.804869155555554,
          -16.804932511111115,
          -16.80520004615385,
          -16.80556498,
          -16.80530677333333,
          -16.80504822,
          -16.80540642222222
         ]
        },
        {
         "marker": {
          "color": "rgba(175,175,175, 0.75)",
          "size": 6
         },
         "mode": "markers",
         "name": "Cluster 6 Buildings",
         "type": "scatter",
         "x": [
          145.70835466,
          145.70872321999997
         ],
         "y": [
          -16.82675598,
          -16.82718076
         ]
        },
        {
         "marker": {
          "color": "rgba(200,200,200, 0.75)",
          "size": 6
         },
         "mode": "markers",
         "name": "Cluster 7 Buildings",
         "type": "scatter",
         "x": [
          145.71859063636361,
          145.7185559909091,
          145.71900713999997,
          145.71898163999995,
          145.71896036000004,
          145.71859456,
          145.71911924,
          145.71921814,
          145.71900913999997,
          145.71855337777774,
          145.71853968888888
         ],
         "y": [
          -16.81762428181818,
          -16.81777032727273,
          -16.81831908,
          -16.8177837,
          -16.81796662,
          -16.817386579999994,
          -16.817998499999998,
          -16.81754588,
          -16.817551820000002,
          -16.817987444444444,
          -16.81817728888889
         ]
        },
        {
         "marker": {
          "color": "rgba(225,225,225, 0.75)",
          "size": 6
         },
         "mode": "markers",
         "name": "Cluster 8 Buildings",
         "type": "scatter",
         "x": [
          145.7086788909091,
          145.70884666923078,
          145.70905090666662,
          145.70838982857143,
          145.70853245714287,
          145.7082657111111
         ],
         "y": [
          -16.80451702727273,
          -16.804545284615386,
          -16.804430766666666,
          -16.80449384285714,
          -16.804424771428568,
          -16.804430399999998
         ]
        },
        {
         "marker": {
          "color": "rgba(250,250,250, 0.75)",
          "size": 6
         },
         "mode": "markers",
         "name": "Cluster 9 Buildings",
         "type": "scatter",
         "x": [
          145.70035825999997,
          145.70083469999997,
          145.70082684545457,
          145.70074038823532,
          145.70028792,
          145.70066814,
          145.70044184285715,
          145.70094952857144,
          145.70056508888888,
          145.7010844,
          145.70057463636363,
          145.70039188000004
         ],
         "y": [
          -16.805107560000003,
          -16.80482404,
          -16.80524158181818,
          -16.8046538,
          -16.80473728,
          -16.80538504,
          -16.80488014285714,
          -16.80514074285714,
          -16.80458422222222,
          -16.805022266666665,
          -16.805497590909088,
          -16.80562986
         ]
        },
        {
         "marker": {
          "color": "rgba(20,20,20, 0.75)",
          "size": 6
         },
         "mode": "markers",
         "name": "Cluster 10 Buildings",
         "type": "scatter",
         "x": [
          145.72049317272732,
          145.71998739166668,
          145.72019454000005,
          145.72062358,
          145.72043266,
          145.72062566,
          145.7201446,
          145.7207750285714,
          145.72007585555556
         ],
         "y": [
          -16.802224763636364,
          -16.80145530833333,
          -16.801877339999994,
          -16.802412080000003,
          -16.802563780000003,
          -16.80206424,
          -16.802122100000002,
          -16.802251428571427,
          -16.802534355555554
         ]
        },
        {
         "marker": {
          "color": "rgba(45,45,45, 0.75)",
          "size": 6
         },
         "mode": "markers",
         "name": "Cluster 11 Buildings",
         "type": "scatter",
         "x": [
          145.72377472000005,
          145.72369512666668,
          145.72437040000003,
          145.72408345999997,
          145.7239865,
          145.72435397142857,
          145.72414708571432
         ],
         "y": [
          -16.81018093333333,
          -16.81034082,
          -16.80988934,
          -16.810318119999998,
          -16.810363542857143,
          -16.8100828,
          -16.81023312857143
         ]
        },
        {
         "marker": {
          "color": "rgba(70,70,70, 0.75)",
          "size": 6
         },
         "mode": "markers",
         "name": "Cluster 12 Buildings",
         "type": "scatter",
         "x": [
          145.71943826,
          145.71926266,
          145.71924366,
          145.7188601285714,
          145.71905382857145,
          145.71943145555554,
          145.71882123333333,
          145.71903564444446,
          145.7187918230769,
          145.71921892,
          145.71899188571427
         ],
         "y": [
          -16.81357216,
          -16.81357046,
          -16.81387394,
          -16.81350505714286,
          -16.813525114285714,
          -16.81388022222222,
          -16.813837611111108,
          -16.81389911111111,
          -16.814290484615384,
          -16.814329280000006,
          -16.81429638571429
         ]
        },
        {
         "marker": {
          "color": "rgba(95,95,95, 0.75)",
          "size": 6
         },
         "mode": "markers",
         "name": "Cluster 13 Buildings",
         "type": "scatter",
         "x": [
          145.70151864285714,
          145.70154870000005,
          145.7012675909091,
          145.70089158181815,
          145.70099696666668,
          145.70107943333338,
          145.70113462222218,
          145.70118089999997
         ],
         "y": [
          -16.816789242857144,
          -16.81702167142857,
          -16.816740318181818,
          -16.816667972727274,
          -16.816693722222222,
          -16.816699733333333,
          -16.81694078888889,
          -16.816714311111113
         ]
        },
        {
         "marker": {
          "color": "rgba(120,120,120, 0.75)",
          "size": 6
         },
         "mode": "markers",
         "name": "Cluster 14 Buildings",
         "type": "scatter",
         "x": [
          145.70430038,
          145.70429043999997,
          145.70452817999995,
          145.7041621,
          145.70415645999995,
          145.70426356,
          145.70414941999996,
          145.7041898
         ],
         "y": [
          -16.822938880000002,
          -16.8230915,
          -16.82349826,
          -16.823505219999998,
          -16.823633899999994,
          -16.823268759999998,
          -16.82338894,
          -16.823835314285713
         ]
        },
        {
         "marker": {
          "color": "rgba(145,145,145, 0.75)",
          "size": 6
         },
         "mode": "markers",
         "name": "Cluster 15 Buildings",
         "type": "scatter",
         "x": [
          145.70743888181815,
          145.70788606000005,
          145.70822406,
          145.70756014,
          145.70772104000002,
          145.70787734,
          145.70746626,
          145.70803302,
          145.7081566,
          145.70736453333333,
          145.70776667777778,
          145.70765043333333
         ],
         "y": [
          -16.80094819090909,
          -16.801320339999997,
          -16.801005080000003,
          -16.800766860000003,
          -16.80112748,
          -16.800560060000002,
          -16.8007319,
          -16.800694600000003,
          -16.80084972857143,
          -16.800795533333332,
          -16.800407633333336,
          -16.80102417777778
         ]
        },
        {
         "marker": {
          "color": "rgba(170,170,170, 0.75)",
          "size": 6
         },
         "mode": "markers",
         "name": "Cluster 16 Buildings",
         "type": "scatter",
         "x": [
          145.72169372,
          145.72148539999995,
          145.72127591999995,
          145.72187241999995,
          145.72166396,
          145.72127966666667,
          145.72187018571432,
          145.7212219888889
         ],
         "y": [
          -16.811079639999996,
          -16.8106492,
          -16.810989380000002,
          -16.81081806,
          -16.810670140000006,
          -16.810765416666666,
          -16.81063347142857,
          -16.811152855555555
         ]
        },
        {
         "marker": {
          "color": "rgba(195,195,195, 0.75)",
          "size": 6
         },
         "mode": "markers",
         "name": "Cluster 17 Buildings",
         "type": "scatter",
         "x": [
          145.72274161481482,
          145.7224094,
          145.72197144,
          145.72220866,
          145.72229524,
          145.72304169999995,
          145.7219622,
          145.72180085999997,
          145.72279024285714,
          145.7220106777778,
          145.72183172222222
         ],
         "y": [
          -16.80598291851852,
          -16.806059400000002,
          -16.80589508,
          -16.80599574,
          -16.805979360000002,
          -16.80596594,
          -16.805680920000004,
          -16.805912760000002,
          -16.806147214285712,
          -16.806063322222222,
          -16.8060339
         ]
        },
        {
         "marker": {
          "color": "rgba(220,220,220, 0.75)",
          "size": 6
         },
         "mode": "markers",
         "name": "Cluster 18 Buildings",
         "type": "scatter",
         "x": [
          145.70592364666666,
          145.7062169181818,
          145.70632669999995,
          145.70607774,
          145.70620024117648,
          145.70658388571428,
          145.7066463857143,
          145.7063235125
         ],
         "y": [
          -16.808716146666665,
          -16.80853862727273,
          -16.80921260769231,
          -16.80866988,
          -16.809419394117647,
          -16.808847214285713,
          -16.808767785714284,
          -16.8084461125
         ]
        },
        {
         "marker": {
          "color": "rgba(245,245,245, 0.75)",
          "size": 6
         },
         "mode": "markers",
         "name": "Cluster 19 Buildings",
         "type": "scatter",
         "x": [
          145.702129,
          145.70271464,
          145.70266571428567,
          145.70239115714287,
          145.70221919999997,
          145.70253927142858,
          145.70235394285714,
          145.7022345888889
         ],
         "y": [
          -16.803820280000004,
          -16.80354164,
          -16.803812,
          -16.8034423,
          -16.803546177777775,
          -16.80391965714286,
          -16.80402102857143,
          -16.804158400000002
         ]
        },
        {
         "marker": {
          "color": "rgba(15,15,15, 0.75)",
          "size": 6
         },
         "mode": "markers",
         "name": "Cluster 20 Buildings",
         "type": "scatter",
         "x": [
          145.71879968,
          145.71861348571431,
          145.71843795714284,
          145.7184659,
          145.71856102,
          145.71823114,
          145.7186459,
          145.71829312000003,
          145.71841106000005,
          145.71871807142855,
          145.71874323333333
         ],
         "y": [
          -16.811041839999998,
          -16.810989057142855,
          -16.810976942857142,
          -16.811275560000002,
          -16.81131204,
          -16.81139974,
          -16.811681720000006,
          -16.811263559999997,
          -16.81148312,
          -16.811482685714285,
          -16.811269822222222
         ]
        },
        {
         "marker": {
          "color": "rgba(40,40,40, 0.75)",
          "size": 6
         },
         "mode": "markers",
         "name": "Cluster 21 Buildings",
         "type": "scatter",
         "x": [
          145.70255018888892,
          145.7027168666667,
          145.70303334545454,
          145.7029425923077,
          145.7027865923077,
          145.70238098571426,
          145.70259229333337,
          145.7023911714286,
          145.70259637142857,
          145.70213344285713,
          145.70258852
         ],
         "y": [
          -16.812173122222227,
          -16.812187966666666,
          -16.812968845454545,
          -16.81279883846154,
          -16.81298643846154,
          -16.812775271428574,
          -16.813066233333338,
          -16.812537499999998,
          -16.81253877142857,
          -16.812799599999998,
          -16.812702429999998
         ]
        },
        {
         "marker": {
          "color": "rgba(65,65,65, 0.75)",
          "size": 6
         },
         "mode": "markers",
         "name": "Cluster 22 Buildings",
         "type": "scatter",
         "x": [
          145.72067002,
          145.72099373999995,
          145.71993894000005,
          145.72063150000002,
          145.72062710000003,
          145.72072857142857,
          145.72015818571433,
          145.7206254,
          145.72067364444445,
          145.72004742222222
         ],
         "y": [
          -16.81567082,
          -16.81553758,
          -16.815808280000002,
          -16.81592918,
          -16.816257380000003,
          -16.815528828571427,
          -16.815858185714287,
          -16.816133214285713,
          -16.81575822222222,
          -16.816120533333333
         ]
        },
        {
         "marker": {
          "color": "rgba(90,90,90, 0.75)",
          "size": 6
         },
         "mode": "markers",
         "name": "Cluster 23 Buildings",
         "type": "scatter",
         "x": [
          145.70085423636363,
          145.70046282857143,
          145.70074577142856,
          145.7003382285714,
          145.70061711111111,
          145.70043671818183,
          145.70053115454547,
          145.70103066363637,
          145.7006724285714,
          145.70080810000005,
          145.7009268666667
         ],
         "y": [
          -16.808076309090907,
          -16.808418142857143,
          -16.808180385714284,
          -16.808541814285714,
          -16.808307966666664,
          -16.80887254545455,
          -16.808742245454546,
          -16.80828300909091,
          -16.8086189,
          -16.808510985714285,
          -16.808425277777776
         ]
        },
        {
         "marker": {
          "color": "rgba(115,115,115, 0.75)",
          "size": 6
         },
         "mode": "markers",
         "name": "Cluster 24 Buildings",
         "type": "scatter",
         "x": [
          145.7258079090909,
          145.7259983636364,
          145.72562608,
          145.72607606,
          145.72556912,
          145.72584832,
          145.72572125714285,
          145.7253739777778,
          145.72613497777778
         ],
         "y": [
          -16.811746672727274,
          -16.81182622727273,
          -16.8121399,
          -16.81201386,
          -16.81205428,
          -16.81183694,
          -16.811523342857143,
          -16.812016777777778,
          -16.812192611111108
         ]
        },
        {
         "marker": {
          "color": "rgba(140,140,140, 0.75)",
          "size": 6
         },
         "mode": "markers",
         "name": "Cluster 25 Buildings",
         "type": "scatter",
         "x": [
          145.70079046363637,
          145.70095297272732,
          145.70074561818183,
          145.70054350000004,
          145.70032164,
          145.70095796,
          145.70064282857143,
          145.70072552857144,
          145.7005630375,
          145.7008714222222,
          145.7011273,
          145.7009791888889,
          145.70044433333334
         ],
         "y": [
          -16.80603220909091,
          -16.806376399999998,
          -16.806201254545456,
          -16.80629862,
          -16.806358,
          -16.806100679999997,
          -16.80607355714286,
          -16.806549142857143,
          -16.806648225,
          -16.806483,
          -16.806792442857144,
          -16.806859811111117,
          -16.806758566666666
         ]
        },
        {
         "marker": {
          "color": "rgba(165,165,165, 0.75)",
          "size": 6
         },
         "mode": "markers",
         "name": "Cluster 26 Buildings",
         "type": "scatter",
         "x": [
          145.70479236,
          145.70523806,
          145.70509668,
          145.70528486,
          145.70480532,
          145.70468101111112,
          145.70496914444448
         ],
         "y": [
          -16.80278766,
          -16.802728339999998,
          -16.80300096,
          -16.80285398,
          -16.80327766,
          -16.802967644444443,
          -16.80317797777778
         ]
        },
        {
         "marker": {
          "color": "rgba(190,190,190, 0.75)",
          "size": 6
         },
         "mode": "markers",
         "name": "Cluster 27 Buildings",
         "type": "scatter",
         "x": [
          145.70061732,
          145.70102670000003,
          145.70141937777774,
          145.70110472000005,
          145.70047631428568,
          145.70127315714285,
          145.70096595714287,
          145.70112380000003,
          145.70178436666666,
          145.70164055714287,
          145.70148527142854,
          145.70155891111108,
          145.70093192727273,
          145.70076337272727,
          145.70126497692306,
          145.7016133769231,
          145.70060484444446,
          145.70046202222224
         ],
         "y": [
          -16.81538828,
          -16.815084609090906,
          -16.814961922222224,
          -16.81572972,
          -16.81536042857143,
          -16.815446142857144,
          -16.815406885714285,
          -16.81544921111111,
          -16.815852586666665,
          -16.815377085714278,
          -16.815071457142857,
          -16.815198488888882,
          -16.815746554545456,
          -16.815719627272728,
          -16.81578605384615,
          -16.815806338461538,
          -16.81568642222222,
          -16.8156886
         ]
        },
        {
         "marker": {
          "color": "rgba(215,215,215, 0.75)",
          "size": 6
         },
         "mode": "markers",
         "name": "Cluster 28 Buildings",
         "type": "scatter",
         "x": [
          145.70186574,
          145.70149814,
          145.70117578000003,
          145.70139844,
          145.70132906,
          145.70167011428572,
          145.70104677777778,
          145.70169372222222,
          145.7013554
         ],
         "y": [
          -16.80242872,
          -16.802973780000002,
          -16.80264288,
          -16.80236994,
          -16.802523639999997,
          -16.80229232857143,
          -16.802743777777778,
          -16.80286057777778,
          -16.803062599999997
         ]
        },
        {
         "marker": {
          "color": "rgba(240,240,240, 0.75)",
          "size": 6
         },
         "mode": "markers",
         "name": "Cluster 29 Buildings",
         "type": "scatter",
         "x": [
          145.72375812,
          145.72364438,
          145.72352192,
          145.72346546,
          145.72368369999998,
          145.72343963999995,
          145.72349531999996
         ],
         "y": [
          -16.80698264,
          -16.80718182,
          -16.80729786,
          -16.80697624,
          -16.807696999999994,
          -16.80766546,
          -16.807487679999998
         ]
        },
        {
         "marker": {
          "color": "rgba(10,10,10, 0.75)",
          "size": 6
         },
         "mode": "markers",
         "name": "Cluster 30 Buildings",
         "type": "scatter",
         "x": [
          145.72086992727267,
          145.72152025999995,
          145.72068894,
          145.7210362,
          145.72099254,
          145.7212939,
          145.72095386,
          145.7207775
         ],
         "y": [
          -16.80419860909091,
          -16.80393188,
          -16.80375104,
          -16.804276859999998,
          -16.803821640000002,
          -16.803883120000002,
          -16.80340154,
          -16.803968428571427
         ]
        },
        {
         "marker": {
          "color": "rgba(35,35,35, 0.75)",
          "size": 6
         },
         "mode": "markers",
         "name": "Cluster 31 Buildings",
         "type": "scatter",
         "x": [
          145.71961993999997,
          145.7193886285714,
          145.71908678,
          145.71969384,
          145.71915206,
          145.71926458000004,
          145.71947344,
          145.7192693,
          145.71962334,
          145.71967565714286,
          145.71936361428575,
          145.7190367285714,
          145.71932694285715,
          145.71874198888892,
          145.71884278888888
         ],
         "y": [
          -16.81920846,
          -16.819410457142858,
          -16.82006164,
          -16.81941752,
          -16.81992808,
          -16.820034319999998,
          -16.81930648,
          -16.81965676,
          -16.82000256,
          -16.819598857142857,
          -16.81950421428571,
          -16.819719728571428,
          -16.81921834285714,
          -16.819397388888888,
          -16.819586544444444
         ]
        },
        {
         "marker": {
          "color": "rgba(60,60,60, 0.75)",
          "size": 6
         },
         "mode": "markers",
         "name": "Cluster 32 Buildings",
         "type": "scatter",
         "x": [
          145.72127342000005,
          145.72098986,
          145.72096904,
          145.72134297999997,
          145.7209274,
          145.72147716,
          145.72099214,
          145.72126985999995,
          145.72096034,
          145.72141074,
          145.72092981999995,
          145.72141004285714,
          145.72134269999998
         ],
         "y": [
          -16.813237880000006,
          -16.813209540000006,
          -16.81376048,
          -16.813379819999998,
          -16.813997540000006,
          -16.813407520000002,
          -16.8134695,
          -16.81378788,
          -16.8133233,
          -16.8138908,
          -16.81388782,
          -16.81350977142857,
          -16.814064000000002
         ]
        },
        {
         "marker": {
          "color": "rgba(85,85,85, 0.75)",
          "size": 6
         },
         "mode": "markers",
         "name": "Cluster 33 Buildings",
         "type": "scatter",
         "x": [
          145.70517969999997,
          145.70532437272723,
          145.70513979999996,
          145.70526977999995,
          145.70526717777776,
          145.70486495454546,
          145.704804
         ],
         "y": [
          -16.806348636363634,
          -16.807014036363636,
          -16.806771807692307,
          -16.80689908,
          -16.806234099999998,
          -16.807178772727273,
          -16.80728542
         ]
        },
        {
         "marker": {
          "color": "rgba(110,110,110, 0.75)",
          "size": 6
         },
         "mode": "markers",
         "name": "Cluster 34 Buildings",
         "type": "scatter",
         "x": [
          145.71926076363638,
          145.71978338,
          145.71897713999996,
          145.71947142,
          145.71958632,
          145.71889002857142,
          145.71982727142858,
          145.71940622857144,
          145.71908965714286,
          145.71966619999998,
          145.71901136666668,
          145.7192310333334
         ],
         "y": [
          -16.81619945454545,
          -16.81578704,
          -16.815995700000002,
          -16.81623802,
          -16.81578012,
          -16.816214400000003,
          -16.8163201,
          -16.815762928571427,
          -16.8161776,
          -16.816159222222225,
          -16.815723600000002,
          -16.815771444444447
         ]
        },
        {
         "marker": {
          "color": "rgba(135,135,135, 0.75)",
          "size": 6
         },
         "mode": "markers",
         "name": "Cluster 35 Buildings",
         "type": "scatter",
         "x": [
          145.70878238181817,
          145.70830319230768,
          145.7090354,
          145.70910562,
          145.70849928,
          145.70891125999995,
          145.70915054,
          145.70862416,
          145.70844662857144,
          145.70868586,
          145.70853166,
          145.70879594285714
         ],
         "y": [
          -16.80156380909091,
          -16.801706176923076,
          -16.801849699999998,
          -16.80184196,
          -16.801317140000002,
          -16.80169966,
          -16.80198484,
          -16.80144182,
          -16.80185147142857,
          -16.80214094,
          -16.802015680000004,
          -16.80229597142857
         ]
        },
        {
         "marker": {
          "color": "rgba(160,160,160, 0.75)",
          "size": 6
         },
         "mode": "markers",
         "name": "Cluster 36 Buildings",
         "type": "scatter",
         "x": [
          145.70486191818182,
          145.70383706153842,
          145.70563972,
          145.7054777
         ],
         "y": [
          -16.798944618181814,
          -16.798807384615387,
          -16.798558359999998,
          -16.798753733333335
         ]
        },
        {
         "marker": {
          "color": "rgba(185,185,185, 0.75)",
          "size": 6
         },
         "mode": "markers",
         "name": "Cluster 37 Buildings",
         "type": "scatter",
         "x": [
          145.72256894,
          145.7226608,
          145.72275794,
          145.7225810333333,
          145.72254101428572,
          145.72260923333332,
          145.72281612222224
         ],
         "y": [
          -16.80884342,
          -16.808936179999996,
          -16.80866832,
          -16.808620933333334,
          -16.80948514285714,
          -16.80912988888889,
          -16.809149177777773
         ]
        },
        {
         "marker": {
          "color": "rgba(210,210,210, 0.75)",
          "size": 6
         },
         "mode": "markers",
         "name": "Cluster 38 Buildings",
         "type": "scatter",
         "x": [
          145.70479866153846,
          145.7047116,
          145.7048207,
          145.70398804615385,
          145.70443711538462,
          145.70413001428568,
          145.70424472222226,
          145.70408997777776,
          145.70435957777775,
          145.70419230000005
         ],
         "y": [
          -16.815322876923076,
          -16.814936644444444,
          -16.815034311111113,
          -16.81496516153846,
          -16.815164830769227,
          -16.815275585714286,
          -16.81522126666667,
          -16.81473598888889,
          -16.815487,
          -16.814847744444442
         ]
        },
        {
         "marker": {
          "color": "rgba(235,235,235, 0.75)",
          "size": 6
         },
         "mode": "markers",
         "name": "Cluster 39 Buildings",
         "type": "scatter",
         "x": [
          145.7042848,
          145.70452866,
          145.70391764,
          145.70432300000004,
          145.70464711999998,
          145.70479430000003,
          145.70467378571428
         ],
         "y": [
          -16.825110940000002,
          -16.8251073,
          -16.82504026,
          -16.8243029,
          -16.82510772,
          -16.825143100000002,
          -16.824955399999997
         ]
        },
        {
         "marker": {
          "color": "rgba(5,5,5, 0.75)",
          "size": 6
         },
         "mode": "markers",
         "name": "Cluster 40 Buildings",
         "type": "scatter",
         "x": [
          145.72350146,
          145.72292964000005,
          145.72316686,
          145.72331288,
          145.72332068,
          145.7232988,
          145.72311615714287,
          145.7237,
          145.72314987777776,
          145.72295055555554,
          145.72354324000003
         ],
         "y": [
          -16.8120534,
          -16.8121702,
          -16.81165842,
          -16.81193788,
          -16.811746680000002,
          -16.81217754,
          -16.8118367,
          -16.811812033333336,
          -16.812207677777778,
          -16.811745955555555,
          -16.81217339
         ]
        },
        {
         "marker": {
          "color": "rgba(30,30,30, 0.75)",
          "size": 6
         },
         "mode": "markers",
         "name": "Cluster 41 Buildings",
         "type": "scatter",
         "x": [
          145.72037297647063,
          145.72020518,
          145.72053946,
          145.72029884,
          145.72091645999996,
          145.72034312,
          145.72065898,
          145.72034044,
          145.72072284444445,
          145.72080855555558
         ],
         "y": [
          -16.809802041176475,
          -16.80963266,
          -16.809309399999997,
          -16.80926834,
          -16.80944678,
          -16.809385459999998,
          -16.80931314,
          -16.80952488,
          -16.80975512222222,
          -16.809586000000003
         ]
        },
        {
         "marker": {
          "color": "rgba(55,55,55, 0.75)",
          "size": 6
         },
         "mode": "markers",
         "name": "Cluster 42 Buildings",
         "type": "scatter",
         "x": [
          145.7265426,
          145.72671534444444,
          145.72646734,
          145.72639617142858,
          145.72657008571431,
          145.7262066777778,
          145.72632080000002
         ],
         "y": [
          -16.810751160000002,
          -16.810723455555557,
          -16.81122782,
          -16.81103322857143,
          -16.811084514285714,
          -16.81102832222222,
          -16.81123641111111
         ]
        },
        {
         "marker": {
          "color": "rgba(80,80,80, 0.75)",
          "size": 6
         },
         "mode": "markers",
         "name": "Cluster 43 Buildings",
         "type": "scatter",
         "x": [
          145.71675392727272,
          145.71665926,
          145.71694014,
          145.71691914000004,
          145.71677414,
          145.71696518000005,
          145.71677448000003,
          145.71667646,
          145.7168447,
          145.71674624,
          145.71712491111109,
          145.71735425555553,
          145.71717596000005,
          145.71678064285715,
          145.71697745714286
         ],
         "y": [
          -16.809925336363634,
          -16.810076000000002,
          -16.81010654,
          -16.8100108,
          -16.810163199999998,
          -16.810193199999997,
          -16.80998434,
          -16.80997438,
          -16.81009938,
          -16.8100849,
          -16.80998374444444,
          -16.80993831111111,
          -16.8104181,
          -16.81035997142857,
          -16.810364528571426
         ]
        },
        {
         "marker": {
          "color": "rgba(105,105,105, 0.75)",
          "size": 6
         },
         "mode": "markers",
         "name": "Cluster 44 Buildings",
         "type": "scatter",
         "x": [
          145.72354815833333,
          145.72426534000004,
          145.72378650000005,
          145.72411609999997,
          145.72395822,
          145.72387419999998,
          145.72394432,
          145.72414335555558,
          145.7244608
         ],
         "y": [
          -16.808028741666664,
          -16.80815634,
          -16.8080907,
          -16.80813872,
          -16.80800532,
          -16.8078857,
          -16.80823818,
          -16.80791444444445,
          -16.808202285714284
         ]
        },
        {
         "marker": {
          "color": "rgba(130,130,130, 0.75)",
          "size": 6
         },
         "mode": "markers",
         "name": "Cluster 45 Buildings",
         "type": "scatter",
         "x": [
          145.72215644,
          145.72229094,
          145.72228498,
          145.72188387333333,
          145.72217918000004,
          145.72183106,
          145.72180780000005,
          145.72239414000003,
          145.72190972,
          145.72197838000002,
          145.72224607272733,
          145.72224046000005,
          145.72184094285714,
          145.72176467777774,
          145.72229246666666
         ],
         "y": [
          -16.81391322,
          -16.8139299,
          -16.814142566666668,
          -16.813894333333334,
          -16.81417634,
          -16.81409576,
          -16.814336200000003,
          -16.814057580000004,
          -16.8142253,
          -16.814358640000002,
          -16.81465728181818,
          -16.81428778,
          -16.81447312857143,
          -16.81465612222222,
          -16.814483300000003
         ]
        },
        {
         "marker": {
          "color": "rgba(155,155,155, 0.75)",
          "size": 6
         },
         "mode": "markers",
         "name": "Cluster 46 Buildings",
         "type": "scatter",
         "x": [
          145.70146521818182,
          145.70201436666667,
          145.70206804,
          145.70162298571432,
          145.7017078,
          145.70220091428567,
          145.70176167142856,
          145.7019738222222,
          145.7018373111111,
          145.70188616666667,
          145.70178782222226
         ],
         "y": [
          -16.807070663636367,
          -16.807260993333333,
          -16.807470520000006,
          -16.807157,
          -16.807306742857143,
          -16.807429071428572,
          -16.807492514285716,
          -16.80760188888889,
          -16.8077184,
          -16.80715958888889,
          -16.8069867
         ]
        },
        {
         "marker": {
          "color": "rgba(180,180,180, 0.75)",
          "size": 6
         },
         "mode": "markers",
         "name": "Cluster 47 Buildings",
         "type": "scatter",
         "x": [
          145.70172634,
          145.7019689909091,
          145.70186768181816,
          145.70170589999995,
          145.7019444,
          145.7016639,
          145.70169034444447,
          145.70211242000005
         ],
         "y": [
          -16.81060508,
          -16.81094711818182,
          -16.81109348181818,
          -16.81072146,
          -16.810708277777778,
          -16.81105247777778,
          -16.810855800000002,
          -16.810785259999996
         ]
        },
        {
         "marker": {
          "color": "rgba(205,205,205, 0.75)",
          "size": 6
         },
         "mode": "markers",
         "name": "Cluster 48 Buildings",
         "type": "scatter",
         "x": [
          145.72254006000003,
          145.72263610000002,
          145.72247256,
          145.72269391428568,
          145.72279301428574,
          145.72302157777776,
          145.72225054,
          145.72242994000004,
          145.72206109999996,
          145.7224681111111
         ],
         "y": [
          -16.81016654,
          -16.81067456,
          -16.810279259999998,
          -16.81032545714286,
          -16.810708685714285,
          -16.810753511111113,
          -16.81062798,
          -16.810682500000002,
          -16.810629340000002,
          -16.810761933333332
         ]
        },
        {
         "marker": {
          "color": "rgba(230,230,230, 0.75)",
          "size": 6
         },
         "mode": "markers",
         "name": "Cluster 49 Buildings",
         "type": "scatter",
         "x": [
          145.70432608,
          145.70468472000005,
          145.70473418571427,
          145.70449096666667,
          145.70456274444442,
          145.7042386,
          145.70403956363634,
          145.70414674285715,
          145.70444932857143,
          145.70430563333332
         ],
         "y": [
          -16.80790254,
          -16.80818052,
          -16.8085733,
          -16.808229211111108,
          -16.808357166666664,
          -16.807986855555555,
          -16.808487318181818,
          -16.808593585714288,
          -16.808863014285713,
          -16.808790955555555
         ]
        },
        {
         "marker": {
          "color": "rgba(255,255,255, 0.75)",
          "size": 6
         },
         "mode": "markers",
         "name": "Cluster 50 Buildings",
         "type": "scatter",
         "x": [
          145.70058834285715,
          145.70028311818183,
          145.70077551818184,
          145.7007999,
          145.70053148000005,
          145.70050621428572,
          145.70074164285714,
          145.70048158571427,
          145.70066461111108
         ],
         "y": [
          -16.813460371428572,
          -16.813137645454546,
          -16.81416581818182,
          -16.813831446153845,
          -16.81383928,
          -16.81372722857143,
          -16.813499585714286,
          -16.81414345714286,
          -16.813753322222222
         ]
        },
        {
         "marker": {
          "color": "rgba(25,25,25, 0.75)",
          "size": 6
         },
         "mode": "markers",
         "name": "Cluster 51 Buildings",
         "type": "scatter",
         "x": [
          145.72122084,
          145.72091382,
          145.72117158,
          145.72100674545453,
          145.72105232
         ],
         "y": [
          -16.80587942,
          -16.80597128,
          -16.80600904,
          -16.80629433636364,
          -16.80628416
         ]
        },
        {
         "marker": {
          "color": "rgba(50,50,50, 0.75)",
          "size": 6
         },
         "mode": "markers",
         "name": "Cluster 52 Buildings",
         "type": "scatter",
         "x": [
          145.71861806,
          145.71830047272724,
          145.7180742,
          145.71787605714286,
          145.71814178,
          145.7186517,
          145.7181901142857,
          145.71799635555558,
          145.71848426666668
         ],
         "y": [
          -16.813780279999996,
          -16.813433081818182,
          -16.813507499999996,
          -16.813401842857143,
          -16.814218840000002,
          -16.813475814285713,
          -16.813758585714282,
          -16.813913133333333,
          -16.81348456666667
         ]
        },
        {
         "marker": {
          "color": "rgba(75,75,75, 0.75)",
          "size": 6
         },
         "mode": "markers",
         "name": "Cluster 53 Buildings",
         "type": "scatter",
         "x": [
          145.70225564545456,
          145.70264972,
          145.70295532,
          145.70283334285713,
          145.70250848571433,
          145.70269319999997,
          145.70232316666667,
          145.70237762222226,
          145.7023719076923,
          145.70259008
         ],
         "y": [
          -16.815054654545452,
          -16.815687020000002,
          -16.8155238,
          -16.815251928571428,
          -16.8155264,
          -16.81534873333333,
          -16.81519302222222,
          -16.815334544444443,
          -16.81589786153846,
          -16.815925755
         ]
        },
        {
         "marker": {
          "color": "rgba(100,100,100, 0.75)",
          "size": 6
         },
         "mode": "markers",
         "name": "Cluster 54 Buildings",
         "type": "scatter",
         "x": [
          145.70610567692302,
          145.70629510588233,
          145.7058084,
          145.70563239999996,
          145.70558373999995,
          145.70574802857143,
          145.70593017142858,
          145.70591202857142,
          145.70605215555554,
          145.70624171111112
         ],
         "y": [
          -16.804015792307688,
          -16.803879158823527,
          -16.80385196,
          -16.803833079999997,
          -16.80400002,
          -16.803676,
          -16.803890514285715,
          -16.8039978,
          -16.803489866666666,
          -16.803680777777775
         ]
        },
        {
         "marker": {
          "color": "rgba(125,125,125, 0.75)",
          "size": 6
         },
         "mode": "markers",
         "name": "Cluster 55 Buildings",
         "type": "scatter",
         "x": [
          145.72320401176472,
          145.72289666,
          145.72274206,
          145.72308344285713,
          145.7232786666667
         ],
         "y": [
          -16.80332244705882,
          -16.80394882,
          -16.803896459999994,
          -16.80372128571429,
          -16.803698855555556
         ]
        },
        {
         "marker": {
          "color": "rgba(150,150,150, 0.75)",
          "size": 6
         },
         "mode": "markers",
         "name": "Cluster 56 Buildings",
         "type": "scatter",
         "x": [
          145.70672813529413,
          145.70661022000004,
          145.70673563999995,
          145.70630026923078,
          145.7061642857143,
          145.70688441428572,
          145.70678203333333,
          145.70710064444444
         ],
         "y": [
          -16.806457300000005,
          -16.806362580000002,
          -16.80625972,
          -16.806657407692303,
          -16.806567085714285,
          -16.806511628571428,
          -16.80705315555555,
          -16.807072544444445
         ]
        },
        {
         "marker": {
          "color": "rgba(175,175,175, 0.75)",
          "size": 6
         },
         "mode": "markers",
         "name": "Cluster 57 Buildings",
         "type": "scatter",
         "x": [
          145.71982884,
          145.71938244,
          145.7198123,
          145.71983278571423,
          145.71981716666667,
          145.7197725
         ],
         "y": [
          -16.814201880000002,
          -16.81438462,
          -16.8141293,
          -16.814001457142858,
          -16.814402066666666,
          -16.814594228571426
         ]
        },
        {
         "marker": {
          "color": "rgba(200,200,200, 0.75)",
          "size": 6
         },
         "mode": "markers",
         "name": "Cluster 58 Buildings",
         "type": "scatter",
         "x": [
          145.71849509999996,
          145.71853026,
          145.71846574,
          145.718579,
          145.71832688,
          145.71883784,
          145.71871524,
          145.71870429999996,
          145.71889298571432
         ],
         "y": [
          -16.81002208,
          -16.81015428,
          -16.810529199999998,
          -16.81038742,
          -16.81004808,
          -16.8105468,
          -16.810597180000002,
          -16.810131214285715,
          -16.810132514285716
         ]
        },
        {
         "marker": {
          "color": "rgba(225,225,225, 0.75)",
          "size": 6
         },
         "mode": "markers",
         "name": "Cluster 59 Buildings",
         "type": "scatter",
         "x": [
          145.72476348,
          145.72480832,
          145.72502158,
          145.72518574,
          145.72484881999995,
          145.72462108000005,
          145.72443049999995
         ],
         "y": [
          -16.81146978,
          -16.81139724,
          -16.811973100000003,
          -16.811944039999997,
          -16.81203746,
          -16.811934080000004,
          -16.811936299999996
         ]
        },
        {
         "marker": {
          "color": "rgba(250,250,250, 0.75)",
          "size": 6
         },
         "mode": "markers",
         "name": "Cluster 60 Buildings",
         "type": "scatter",
         "x": [
          145.71742242727268,
          145.7176799058824,
          145.71770261999995,
          145.7170936,
          145.71718944,
          145.71733508,
          145.71752165714287,
          145.71714386666662,
          145.71695727142858
         ],
         "y": [
          -16.811716154545458,
          -16.811801435294118,
          -16.8122215,
          -16.811826059999998,
          -16.81212602,
          -16.812181699999996,
          -16.812175657142856,
          -16.811696211111116,
          -16.81213281428571
         ]
        },
        {
         "marker": {
          "color": "rgba(20,20,20, 0.75)",
          "size": 6
         },
         "mode": "markers",
         "name": "Cluster 61 Buildings",
         "type": "scatter",
         "x": [
          145.70078544545453,
          145.70091689090913,
          145.70061404,
          145.70044854,
          145.70029651428572,
          145.70088674,
          145.70117292857142,
          145.70108458888888,
          145.70075496666666
         ],
         "y": [
          -16.80299366363636,
          -16.802870063636366,
          -16.80305516,
          -16.80319874,
          -16.80341212857143,
          -16.80342886,
          -16.803162399999998,
          -16.803344744444445,
          -16.803532055555557
         ]
        },
        {
         "marker": {
          "color": "rgba(45,45,45, 0.75)",
          "size": 6
         },
         "mode": "markers",
         "name": "Cluster 62 Buildings",
         "type": "scatter",
         "x": [
          145.70335396000004,
          145.70370666,
          145.70326108,
          145.70393840000003,
          145.70335375714288,
          145.70352802222226,
          145.70413828,
          145.70381310000002,
          145.7043123875,
          145.70406570000003,
          145.70429552857144
         ],
         "y": [
          -16.80389696,
          -16.80364292,
          -16.8039948,
          -16.803901439999994,
          -16.80416657142857,
          -16.804198088888892,
          -16.80420896,
          -16.803779242857143,
          -16.803966749999994,
          -16.804069385714286,
          -16.804322971428572
         ]
        },
        {
         "marker": {
          "color": "rgba(70,70,70, 0.75)",
          "size": 6
         },
         "mode": "markers",
         "name": "Cluster 63 Buildings",
         "type": "scatter",
         "x": [
          145.72081815200002,
          145.720327,
          145.72055986,
          145.72047046,
          145.72043237999995,
          145.72048634,
          145.72076328,
          145.72075316,
          145.72096216,
          145.72039308,
          145.72077966,
          145.72097451999997,
          145.72045562,
          145.72035598571432,
          145.72091637777774,
          145.72051109999995
         ],
         "y": [
          -16.808966488,
          -16.80883724,
          -16.80842036,
          -16.80827116,
          -16.80863264,
          -16.808412299999997,
          -16.80834482,
          -16.808732340000002,
          -16.808401519999997,
          -16.808401500000002,
          -16.80854064,
          -16.8085868,
          -16.80848064,
          -16.808724571428574,
          -16.808745599999998,
          -16.808913933333333
         ]
        },
        {
         "marker": {
          "color": "rgba(95,95,95, 0.75)",
          "size": 6
         },
         "mode": "markers",
         "name": "Cluster 64 Buildings",
         "type": "scatter",
         "x": [
          145.71043621818183,
          145.71020886000005,
          145.71058776,
          145.71037388,
          145.71003169999997,
          145.71036153999995,
          145.71028446,
          145.71054964,
          145.71020264285715
         ],
         "y": [
          -16.803555918181818,
          -16.802945779999998,
          -16.803288279999997,
          -16.80333594,
          -16.8030215,
          -16.80323222,
          -16.802984579999997,
          -16.803410860000003,
          -16.803154557142857
         ]
        },
        {
         "marker": {
          "color": "rgba(120,120,120, 0.75)",
          "size": 6
         },
         "mode": "markers",
         "name": "Cluster 65 Buildings",
         "type": "scatter",
         "x": [
          145.72576753999996,
          145.7258645,
          145.72565840000001,
          145.72558998000005,
          145.72598854444445
         ],
         "y": [
          -16.8089361,
          -16.809101599999998,
          -16.809535840000002,
          -16.80909408,
          -16.809360688888887
         ]
        },
        {
         "marker": {
          "color": "rgba(145,145,145, 0.75)",
          "size": 6
         },
         "mode": "markers",
         "name": "Cluster 66 Buildings",
         "type": "scatter",
         "x": [
          145.71926944,
          145.71970349999998,
          145.71918738,
          145.71962802222222,
          145.71917774615386,
          145.71965370769232,
          145.71927426,
          145.71944116,
          145.71927806,
          145.71964748,
          145.7190968444444
         ],
         "y": [
          -16.81114548,
          -16.811268820000002,
          -16.81134968,
          -16.811079366666664,
          -16.81152603076923,
          -16.811639007692307,
          -16.811864919999998,
          -16.81166314,
          -16.81178412,
          -16.81145274,
          -16.811758255555556
         ]
        },
        {
         "marker": {
          "color": "rgba(170,170,170, 0.75)",
          "size": 6
         },
         "mode": "markers",
         "name": "Cluster 67 Buildings",
         "type": "scatter",
         "x": [
          145.70145894285713,
          145.70155471428572,
          145.70166843333334,
          145.70175172222218,
          145.70184015555554,
          145.7019241888889
         ],
         "y": [
          -16.806050171428573,
          -16.806143842857143,
          -16.806273533333332,
          -16.806381488888892,
          -16.80647287777778,
          -16.806563722222222
         ]
        },
        {
         "marker": {
          "color": "rgba(195,195,195, 0.75)",
          "size": 6
         },
         "mode": "markers",
         "name": "Cluster 68 Buildings",
         "type": "scatter",
         "x": [
          145.72473096153846,
          145.72440774,
          145.72467181999997,
          145.72428232,
          145.7246012,
          145.72447956666667
         ],
         "y": [
          -16.807118576923074,
          -16.80660436,
          -16.806842080000006,
          -16.80661372,
          -16.806659185714285,
          -16.806522944444445
         ]
        },
        {
         "marker": {
          "color": "rgba(220,220,220, 0.75)",
          "size": 6
         },
         "mode": "markers",
         "name": "Cluster 69 Buildings",
         "type": "scatter",
         "x": [
          145.72149022,
          145.72103942,
          145.72110904000004,
          145.72110072,
          145.72145332,
          145.72114736,
          145.72153531428572,
          145.72116292857143,
          145.72102028571427,
          145.72153724285715,
          145.72155552222225,
          145.7219978904762
         ],
         "y": [
          -16.81240724,
          -16.812599119999998,
          -16.8123116,
          -16.81222134,
          -16.812763920000002,
          -16.81262436,
          -16.812651171428573,
          -16.813009342857143,
          -16.81273362857143,
          -16.812549014285715,
          -16.812271311111108,
          -16.812582138095234
         ]
        },
        {
         "marker": {
          "color": "rgba(245,245,245, 0.75)",
          "size": 6
         },
         "mode": "markers",
         "name": "Cluster 70 Buildings",
         "type": "scatter",
         "x": [
          145.72249606666668,
          145.72201148571432,
          145.72229643
         ],
         "y": [
          -16.802576786666666,
          -16.802318385714287,
          -16.80266825
         ]
        },
        {
         "marker": {
          "color": "rgba(15,15,15, 0.75)",
          "size": 6
         },
         "mode": "markers",
         "name": "Cluster 71 Buildings",
         "type": "scatter",
         "x": [
          145.71863764,
          145.71856164000005,
          145.71843054444446,
          145.71829119999995,
          145.71879704,
          145.71883908571428,
          145.71818224285715,
          145.71825468571433,
          145.71830678888892
         ],
         "y": [
          -16.81567522,
          -16.815969680000002,
          -16.815710022222227,
          -16.81559426666667,
          -16.81603194,
          -16.815647814285715,
          -16.815342228571428,
          -16.81621354285714,
          -16.81598511111111
         ]
        },
        {
         "marker": {
          "color": "rgba(40,40,40, 0.75)",
          "size": 6
         },
         "mode": "markers",
         "name": "Cluster 72 Buildings",
         "type": "scatter",
         "x": [
          145.72049191000005,
          145.7200949,
          145.72013130000002,
          145.7201175888889,
          145.72011030000004,
          145.72010083333333,
          145.72001976666667,
          145.7200580111111
         ],
         "y": [
          -16.811990029999997,
          -16.81208514,
          -16.811374620000002,
          -16.811715966666668,
          -16.811527466666664,
          -16.8118945,
          -16.812425344444446,
          -16.812249066666666
         ]
        },
        {
         "marker": {
          "color": "rgba(65,65,65, 0.75)",
          "size": 6
         },
         "mode": "markers",
         "name": "Cluster 73 Buildings",
         "type": "scatter",
         "x": [
          145.72359498571427,
          145.72290556363637,
          145.72322586,
          145.72322791999997,
          145.72370421250002,
          145.72351121
         ],
         "y": [
          -16.810806671428573,
          -16.811197054545456,
          -16.81106638,
          -16.81129862,
          -16.81123105,
          -16.81129622
         ]
        },
        {
         "marker": {
          "color": "rgba(90,90,90, 0.75)",
          "size": 6
         },
         "mode": "markers",
         "name": "Cluster 74 Buildings",
         "type": "scatter",
         "x": [
          145.70497666,
          145.70555496
         ],
         "y": [
          -16.82743182,
          -16.82757566
         ]
        },
        {
         "marker": {
          "color": "rgba(115,115,115, 0.75)",
          "size": 6
         },
         "mode": "markers",
         "name": "Cluster 75 Buildings",
         "type": "scatter",
         "x": [
          145.7236917090909,
          145.7236645181818,
          145.72372056923075,
          145.72379073999997,
          145.72379904,
          145.72365638000005,
          145.72386212,
          145.72378928571428,
          145.72387541111112
         ],
         "y": [
          -16.8096262,
          -16.80980897272727,
          -16.810006469230768,
          -16.80987994,
          -16.80980872,
          -16.80939224,
          -16.80982002,
          -16.8094441,
          -16.809603488888882
         ]
        },
        {
         "marker": {
          "color": "rgba(140,140,140, 0.75)",
          "size": 6
         },
         "mode": "markers",
         "name": "Cluster 76 Buildings",
         "type": "scatter",
         "x": [
          145.70146456000003,
          145.70173574,
          145.70165294,
          145.70131696,
          145.70120991999997,
          145.70181818000003,
          145.70165452857142,
          145.7011064090909,
          145.70166052307692,
          145.70193066,
          145.7015121,
          145.7021157222222
         ],
         "y": [
          -16.80413056,
          -16.804174879999998,
          -16.804222319999994,
          -16.80422332,
          -16.804531920000002,
          -16.804526700000004,
          -16.804035014285713,
          -16.804405890909095,
          -16.804610507692303,
          -16.80439136,
          -16.80464562857143,
          -16.804280355555562
         ]
        },
        {
         "marker": {
          "color": "rgba(165,165,165, 0.75)",
          "size": 6
         },
         "mode": "markers",
         "name": "Cluster 77 Buildings",
         "type": "scatter",
         "x": [
          145.70378031818183,
          145.7039166181818,
          145.70372516153847,
          145.7042266846154,
          145.70424955384613,
          145.70437516153842,
          145.70409107142856,
          145.70365342222226
         ],
         "y": [
          -16.807065645454546,
          -16.806926927272727,
          -16.807217661538466,
          -16.806646484615385,
          -16.807243946153847,
          -16.807125092307693,
          -16.80672075714286,
          -16.807395244444443
         ]
        },
        {
         "marker": {
          "color": "rgba(190,190,190, 0.75)",
          "size": 6
         },
         "mode": "markers",
         "name": "Cluster 78 Buildings",
         "type": "scatter",
         "x": [
          145.72158993076926,
          145.72160682,
          145.72208498,
          145.72191378,
          145.72191526,
          145.72197652,
          145.72184274,
          145.72200696,
          145.72152826,
          145.72139388,
          145.72200932222222,
          145.72145322222227
         ],
         "y": [
          -16.809220492307695,
          -16.809801139999998,
          -16.809310399999998,
          -16.81024434,
          -16.80974278,
          -16.810113339999994,
          -16.8093368,
          -16.809462779999997,
          -16.810169000000002,
          -16.8101875,
          -16.809977744444446,
          -16.809711188888887
         ]
        },
        {
         "marker": {
          "color": "rgba(215,215,215, 0.75)",
          "size": 6
         },
         "mode": "markers",
         "name": "Cluster 79 Buildings",
         "type": "scatter",
         "x": [
          145.70419464,
          145.70404528,
          145.70388677142859,
          145.7036931090909,
          145.70398207777774,
          145.7040491,
          145.70390116,
          145.70384175714287
         ],
         "y": [
          -16.805393860000002,
          -16.80501408,
          -16.805145585714286,
          -16.805194509090914,
          -16.805471877777773,
          -16.805137100000003,
          -16.80527426,
          -16.80552977142857
         ]
        },
        {
         "marker": {
          "color": "rgba(240,240,240, 0.75)",
          "size": 6
         },
         "mode": "markers",
         "name": "Cluster 80 Buildings",
         "type": "scatter",
         "x": [
          145.7017434090909,
          145.70175389090906,
          145.70160228,
          145.70144850000003,
          145.70210092,
          145.7020207857143,
          145.7013136222222,
          145.70172247777774,
          145.70172973333334,
          145.70127925555553,
          145.70189121111113,
          145.7018044333333
         ],
         "y": [
          -16.81338310909091,
          -16.81284962727273,
          -16.81397024,
          -16.81372968,
          -16.813253960000004,
          -16.813097857142857,
          -16.813514977777785,
          -16.812990222222222,
          -16.813188733333334,
          -16.81332542222222,
          -16.813667288888887,
          -16.813555288888885
         ]
        },
        {
         "marker": {
          "color": "rgba(10,10,10, 0.75)",
          "size": 6
         },
         "mode": "markers",
         "name": "Cluster 81 Buildings",
         "type": "scatter",
         "x": [
          145.71969244545457,
          145.7192902909091,
          145.71950615714286,
          145.71984145555552,
          145.71934481111109,
          145.71978745555555,
          145.71892204444444
         ],
         "y": [
          -16.80264235454546,
          -16.802657409090912,
          -16.80298384285714,
          -16.8026473,
          -16.802871822222222,
          -16.803074666666664,
          -16.803492966666667
         ]
        },
        {
         "marker": {
          "color": "rgba(35,35,35, 0.75)",
          "size": 6
         },
         "mode": "markers",
         "name": "Cluster 82 Buildings",
         "type": "scatter",
         "x": [
          145.7064159,
          145.70620727272728,
          145.7060716307692,
          145.70616834117646,
          145.70606917777778,
          145.70576018,
          145.70600482222218
         ],
         "y": [
          -16.80599066,
          -16.80596086363636,
          -16.80554066923077,
          -16.805838347058824,
          -16.80570307777778,
          -16.80607248,
          -16.806348400000005
         ]
        },
        {
         "marker": {
          "color": "rgba(60,60,60, 0.75)",
          "size": 6
         },
         "mode": "markers",
         "name": "Cluster 83 Buildings",
         "type": "scatter",
         "x": [
          145.7208476090909,
          145.72081936,
          145.72134692000003,
          145.72130088,
          145.72125327999996,
          145.72122745999997,
          145.72078159999998,
          145.72073404,
          145.72171018000003,
          145.72122048,
          145.72134186,
          145.72128425714286,
          145.72086766666666,
          145.72127395714287
         ],
         "y": [
          -16.814399536363634,
          -16.814591979999996,
          -16.814167480000002,
          -16.81478204,
          -16.81438916,
          -16.81452938,
          -16.81481106,
          -16.815077600000002,
          -16.81481112,
          -16.8149302,
          -16.81440978,
          -16.814657185714285,
          -16.814763177777778,
          -16.81429232857143
         ]
        },
        {
         "marker": {
          "color": "rgba(85,85,85, 0.75)",
          "size": 6
         },
         "mode": "markers",
         "name": "Cluster 84 Buildings",
         "type": "scatter",
         "x": [
          145.70354996,
          145.70390914285713,
          145.70341190000005,
          145.70326784285714,
          145.70382261428568,
          145.703399,
          145.70329295555555,
          145.70370193333332,
          145.70366575555556,
          145.70311397777778,
          145.70301072222225,
          145.70353706666666,
          145.7031270777778
         ],
         "y": [
          -16.81516694,
          -16.815387485714286,
          -16.815263657142857,
          -16.8149974,
          -16.815048342857143,
          -16.814931514285714,
          -16.815334766666666,
          -16.81510621111111,
          -16.814783622222222,
          -16.815077177777773,
          -16.815167200000005,
          -16.814835644444447,
          -16.815434366666665
         ]
        },
        {
         "marker": {
          "color": "rgba(110,110,110, 0.75)",
          "size": 6
         },
         "mode": "markers",
         "name": "Cluster 85 Buildings",
         "type": "scatter",
         "x": [
          145.70577148,
          145.70549506000003,
          145.70513675714284
         ],
         "y": [
          -16.823924400000006,
          -16.82409414,
          -16.824081542857147
         ]
        },
        {
         "marker": {
          "color": "rgba(135,135,135, 0.75)",
          "size": 6
         },
         "mode": "markers",
         "name": "Cluster 86 Buildings",
         "type": "scatter",
         "x": [
          145.72071286,
          145.72102414,
          145.72104608,
          145.72107240000003,
          145.72068054000005,
          145.72052486,
          145.72115116,
          145.72094412,
          145.72096438,
          145.72115147142856,
          145.7211052444444
         ],
         "y": [
          -16.80669002,
          -16.80725502,
          -16.80711292,
          -16.806851419999994,
          -16.806884859999997,
          -16.80712086,
          -16.807085660000002,
          -16.807060500000002,
          -16.806874899999997,
          -16.806903385714286,
          -16.806748688888884
         ]
        },
        {
         "marker": {
          "color": "rgba(160,160,160, 0.75)",
          "size": 6
         },
         "mode": "markers",
         "name": "Cluster 87 Buildings",
         "type": "scatter",
         "x": [
          145.71760476,
          145.71814608,
          145.71799108,
          145.71781574000005,
          145.71769796,
          145.71761608,
          145.71746888,
          145.71795864,
          145.71811430000002,
          145.71769511428568,
          145.71759864285713,
          145.7179261,
          145.71783071111108,
          145.71735479999995,
          145.71753851428576
         ],
         "y": [
          -16.809974320000002,
          -16.810036,
          -16.810036,
          -16.810281879999998,
          -16.81007984,
          -16.81026306,
          -16.809964400000002,
          -16.81032,
          -16.810471142857143,
          -16.810408685714286,
          -16.810080600000003,
          -16.810468744444446,
          -16.809981811111108,
          -16.810440309090907,
          -16.810444699999998
         ]
        },
        {
         "marker": {
          "color": "rgba(185,185,185, 0.75)",
          "size": 6
         },
         "mode": "markers",
         "name": "Cluster 88 Buildings",
         "type": "scatter",
         "x": [
          145.7034049,
          145.70357946,
          145.70341122,
          145.70321696000005,
          145.7033485,
          145.70299432000004,
          145.7031462857143
         ],
         "y": [
          -16.803246960000006,
          -16.80312412,
          -16.802989779999994,
          -16.8033389,
          -16.8031132,
          -16.80358746,
          -16.803490414285715
         ]
        },
        {
         "marker": {
          "color": "rgba(210,210,210, 0.75)",
          "size": 6
         },
         "mode": "markers",
         "name": "Cluster 89 Buildings",
         "type": "scatter",
         "x": [
          145.7222081,
          145.722197,
          145.72240352,
          145.72219434000004,
          145.72221862857143,
          145.72220439999995
         ],
         "y": [
          -16.81500144,
          -16.81573732,
          -16.81549784,
          -16.81561988,
          -16.814844414285712,
          -16.815140344444444
         ]
        },
        {
         "marker": {
          "color": "rgba(235,235,235, 0.75)",
          "size": 6
         },
         "mode": "markers",
         "name": "Cluster 90 Buildings",
         "type": "scatter",
         "x": [
          145.71991968571433,
          145.71987736666668,
          145.71989055714286,
          145.71986938571428
         ],
         "y": [
          -16.817753,
          -16.817586088888888,
          -16.817953785714288,
          -16.818118199999994
         ]
        },
        {
         "marker": {
          "color": "rgba(5,5,5, 0.75)",
          "size": 6
         },
         "mode": "markers",
         "name": "Cluster 91 Buildings",
         "type": "scatter",
         "x": [
          145.719326,
          145.71908206,
          145.71927961999995,
          145.719133,
          145.7193033,
          145.7188767,
          145.7189485,
          145.71907116,
          145.71930035714286,
          145.71930338888887
         ],
         "y": [
          -16.81506452,
          -16.81511508,
          -16.814928639999998,
          -16.815234699999998,
          -16.81474874,
          -16.815167014285713,
          -16.815186655555557,
          -16.814906720000003,
          -16.814565885714284,
          -16.815239877777778
         ]
        },
        {
         "marker": {
          "color": "rgba(30,30,30, 0.75)",
          "size": 6
         },
         "mode": "markers",
         "name": "Cluster 92 Buildings",
         "type": "scatter",
         "x": [
          145.71923698,
          145.71952712,
          145.71917656,
          145.71933230000002,
          145.72017224,
          145.7195854,
          145.72015919999998,
          145.71935687777776
         ],
         "y": [
          -16.820510579999997,
          -16.8207212,
          -16.82028136,
          -16.82043544,
          -16.82053614,
          -16.820431140000004,
          -16.820863214285716,
          -16.820657788888884
         ]
        },
        {
         "marker": {
          "color": "rgba(55,55,55, 0.75)",
          "size": 6
         },
         "mode": "markers",
         "name": "Cluster 93 Buildings",
         "type": "scatter",
         "x": [
          145.72426702,
          145.72411486,
          145.72419042
         ],
         "y": [
          -16.81438766,
          -16.8145078,
          -16.81446072
         ]
        },
        {
         "marker": {
          "color": "rgba(80,80,80, 0.75)",
          "size": 6
         },
         "mode": "markers",
         "name": "Cluster 94 Buildings",
         "type": "scatter",
         "x": [
          145.70581627272728,
          145.7056146333333,
          145.70528074615385,
          145.70574201999997,
          145.70561691999995,
          145.70517102,
          145.70557125714285,
          145.70565034444445
         ],
         "y": [
          -16.807511654545454,
          -16.807225866666666,
          -16.807735707692302,
          -16.807704473333335,
          -16.807855019999998,
          -16.80759564,
          -16.80788234285714,
          -16.807806411111113
         ]
        },
        {
         "marker": {
          "color": "rgba(105,105,105, 0.75)",
          "size": 6
         },
         "mode": "markers",
         "name": "Cluster 95 Buildings",
         "type": "scatter",
         "x": [
          145.70560036,
          145.70571316000004,
          145.70555518,
          145.70572006,
          145.70576288,
          145.70569288571429,
          145.70515554285709
         ],
         "y": [
          -16.80240804,
          -16.802335120000002,
          -16.80219444,
          -16.80259826,
          -16.80211324,
          -16.802755528571428,
          -16.802541757142855
         ]
        },
        {
         "marker": {
          "color": "rgba(130,130,130, 0.75)",
          "size": 6
         },
         "mode": "markers",
         "name": "Cluster 96 Buildings",
         "type": "scatter",
         "x": [
          145.72221772,
          145.72182096,
          145.72188848000005,
          145.72236669999998,
          145.72227949999996,
          145.72234432,
          145.72242606,
          145.72244338000004,
          145.72182949999998
         ],
         "y": [
          -16.80661858,
          -16.806428880000002,
          -16.80660336,
          -16.80699556,
          -16.806452685714284,
          -16.806816100000002,
          -16.80660938,
          -16.80673766,
          -16.806790185714284
         ]
        },
        {
         "marker": {
          "color": "rgba(155,155,155, 0.75)",
          "size": 6
         },
         "mode": "markers",
         "name": "Cluster 97 Buildings",
         "type": "scatter",
         "x": [
          145.70124390000004,
          145.70115185714286,
          145.70138802857144,
          145.70170322500005,
          145.70152397777775,
          145.70156367142857,
          145.70127154444444,
          145.7014735545455,
          145.70117347692306,
          145.70134464000003
         ],
         "y": [
          -16.80717004285714,
          -16.807278628571428,
          -16.807627214285713,
          -16.807791837499998,
          -16.807540611111108,
          -16.80790312857143,
          -16.807732366666666,
          -16.808018481818184,
          -16.80790450769231,
          -16.80810487333333
         ]
        },
        {
         "marker": {
          "color": "rgba(180,180,180, 0.75)",
          "size": 6
         },
         "mode": "markers",
         "name": "Cluster 98 Buildings",
         "type": "scatter",
         "x": [
          145.70038705454544,
          145.70079370000005,
          145.70052429166662,
          145.7008501769231,
          145.70043909999995,
          145.7004249,
          145.7003107818182,
          145.70044935555555
         ],
         "y": [
          -16.816633290909092,
          -16.816656018181813,
          -16.81662545,
          -16.816922184615382,
          -16.81688412222222,
          -16.81704947777778,
          -16.817305436363636,
          -16.817286522222226
         ]
        },
        {
         "marker": {
          "color": "rgba(205,205,205, 0.75)",
          "size": 6
         },
         "mode": "markers",
         "name": "Cluster 99 Buildings",
         "type": "scatter",
         "x": [
          145.72260935999995,
          145.72245922727276,
          145.72253642,
          145.72321786000003,
          145.72315182,
          145.72289594,
          145.72290912,
          145.72306557999997,
          145.72297472,
          145.72299002,
          145.72315127142858,
          145.72313851428572,
          145.72302514285715
         ],
         "y": [
          -16.80991182,
          -16.80975546363636,
          -16.81003212,
          -16.809866039999996,
          -16.809860719999996,
          -16.81003382,
          -16.80982752,
          -16.80984292,
          -16.81005002,
          -16.80983404,
          -16.810097957142858,
          -16.810337914285718,
          -16.809938014285713
         ]
        },
        {
         "marker": {
          "color": "rgba(230,230,230, 0.75)",
          "size": 6
         },
         "mode": "markers",
         "name": "Cluster 100 Buildings",
         "type": "scatter",
         "x": [
          145.70027219999997,
          145.70050883636367,
          145.70030743846158
         ],
         "y": [
          -16.801215177777774,
          -16.801678854545454,
          -16.801685530769234
         ]
        },
        {
         "marker": {
          "color": "rgba(255,255,255, 0.75)",
          "size": 6
         },
         "mode": "markers",
         "name": "Cluster 101 Buildings",
         "type": "scatter",
         "x": [
          145.70481909999995,
          145.70525590000003,
          145.7050493153846,
          145.70517502222222,
          145.70491685555555,
          145.70466962
         ],
         "y": [
          -16.809157714285714,
          -16.809182444444446,
          -16.80952304615385,
          -16.8096535,
          -16.809452122222222,
          -16.80925186
         ]
        },
        {
         "marker": {
          "color": "rgba(25,25,25, 0.75)",
          "size": 6
         },
         "mode": "markers",
         "name": "Cluster 102 Buildings",
         "type": "scatter",
         "x": [
          145.72027308,
          145.71987621999997,
          145.71994464,
          145.71993650000005,
          145.72043281428572,
          145.72000687142858,
          145.72044583333332,
          145.72002115555554,
          145.7200146222222,
          145.7204479333334,
          145.72034924285714,
          145.71994903333334
         ],
         "y": [
          -16.813131020000004,
          -16.81358314,
          -16.812952600000006,
          -16.8131217,
          -16.812752057142855,
          -16.812840185714286,
          -16.812880399999994,
          -16.812717311111108,
          -16.81258936666667,
          -16.813010633333334,
          -16.813326828571427,
          -16.813364266666667
         ]
        },
        {
         "marker": {
          "color": "rgba(50,50,50, 0.75)",
          "size": 6
         },
         "mode": "markers",
         "name": "Cluster 103 Buildings",
         "type": "scatter",
         "x": [
          145.71725896363634,
          145.71770134000005,
          145.71748026,
          145.71773263999995,
          145.71783352000003,
          145.71713846000003,
          145.71782842,
          145.71746516000005,
          145.71734362,
          145.71769875714287,
          145.71748395714286,
          145.71753557142856,
          145.7178810888889,
          145.71741194444445
         ],
         "y": [
          -16.811154799999994,
          -16.8115211,
          -16.811430440000002,
          -16.811607000000002,
          -16.81134964,
          -16.810877800000004,
          -16.81120954,
          -16.811003879999998,
          -16.81082482,
          -16.810873785714286,
          -16.811563,
          -16.81087475714286,
          -16.810972977777773,
          -16.81130637777778
         ]
        },
        {
         "marker": {
          "color": "rgba(75,75,75, 0.75)",
          "size": 6
         },
         "mode": "markers",
         "name": "Cluster 104 Buildings",
         "type": "scatter",
         "x": [
          145.72282785294118,
          145.72296454000005,
          145.72332494000003,
          145.72297202,
          145.72299688,
          145.72280104,
          145.72269592000004,
          145.72270374,
          145.7229249,
          145.7228779333333,
          145.72284611428572
         ],
         "y": [
          -16.80753412352941,
          -16.807649880000003,
          -16.80797954,
          -16.8075495,
          -16.80743546,
          -16.80799536,
          -16.80780944,
          -16.807730499999998,
          -16.807809040000002,
          -16.80779886666667,
          -16.808163942857142
         ]
        },
        {
         "marker": {
          "color": "rgba(100,100,100, 0.75)",
          "size": 6
         },
         "mode": "markers",
         "name": "Cluster 105 Buildings",
         "type": "scatter",
         "x": [
          145.7217159818182,
          145.7205963909091,
          145.7209160142857,
          145.72082976,
          145.72132735999998,
          145.72149654285712
         ],
         "y": [
          -16.80173863636364,
          -16.801412827272728,
          -16.801229557142864,
          -16.801502160000002,
          -16.80139102,
          -16.80157104285714
         ]
        },
        {
         "marker": {
          "color": "rgba(125,125,125, 0.75)",
          "size": 6
         },
         "mode": "markers",
         "name": "Cluster 106 Buildings",
         "type": "scatter",
         "x": [
          145.70193490000003,
          145.70225152,
          145.70179108571432,
          145.70230581428572,
          145.70184638571433,
          145.70215223333332,
          145.70203180000001,
          145.70213814285714,
          145.7022087714286
         ],
         "y": [
          -16.814522040000003,
          -16.814204699999998,
          -16.814286985714286,
          -16.81435867142857,
          -16.814399585714288,
          -16.81406638888889,
          -16.814679433333332,
          -16.814800385714285,
          -16.814929971428572
         ]
        },
        {
         "marker": {
          "color": "rgba(150,150,150, 0.75)",
          "size": 6
         },
         "mode": "markers",
         "name": "Cluster 107 Buildings",
         "type": "scatter",
         "x": [
          145.70555204,
          145.70544404000003,
          145.70586984285708,
          145.70591498000005,
          145.70558961999996,
          145.70547196,
          145.70563147142857,
          145.70550932857142,
          145.70578404444444,
          145.70539618000004
         ],
         "y": [
          -16.80419612,
          -16.80423578,
          -16.804491414285714,
          -16.804337099999998,
          -16.80470676,
          -16.804515759999994,
          -16.804432285714288,
          -16.8043926,
          -16.80464836666667,
          -16.80472426
         ]
        },
        {
         "marker": {
          "color": "rgba(175,175,175, 0.75)",
          "size": 6
         },
         "mode": "markers",
         "name": "Cluster 108 Buildings",
         "type": "scatter",
         "x": [
          145.70155995714288,
          145.70132375714286,
          145.70143821428573,
          145.70127367142857,
          145.70118863333337,
          145.70117606666662
         ],
         "y": [
          -16.808933914285713,
          -16.808656699999997,
          -16.80881197142857,
          -16.8091031,
          -16.808990533333333,
          -16.80871181111111
         ]
        },
        {
         "marker": {
          "color": "rgba(200,200,200, 0.75)",
          "size": 6
         },
         "mode": "markers",
         "name": "Cluster 109 Buildings",
         "type": "scatter",
         "x": [
          145.72131476923082,
          145.72129507333338,
          145.72100012,
          145.72119776,
          145.72114434,
          145.72096919999998,
          145.7210791777778,
          145.72090211111112,
          145.72129913333333
         ],
         "y": [
          -16.80549865384615,
          -16.80572580666667,
          -16.805637624000003,
          -16.80553696,
          -16.804996800000005,
          -16.80544694,
          -16.805111366666665,
          -16.805090911111108,
          -16.80522548888889
         ]
        },
        {
         "marker": {
          "color": "rgba(225,225,225, 0.75)",
          "size": 6
         },
         "mode": "markers",
         "name": "Cluster 110 Buildings",
         "type": "scatter",
         "x": [
          145.707784,
          145.70758346000005,
          145.70768832857144,
          145.70746562222226,
          145.70803678888888,
          145.70766238,
          145.70739054444445,
          145.70723148333337
         ],
         "y": [
          -16.804341,
          -16.803697940000006,
          -16.803777871428572,
          -16.8036551,
          -16.803974788888887,
          -16.804289840000006,
          -16.804181466666666,
          -16.804097483333333
         ]
        },
        {
         "marker": {
          "color": "rgba(250,250,250, 0.75)",
          "size": 6
         },
         "mode": "markers",
         "name": "Cluster 111 Buildings",
         "type": "scatter",
         "x": [
          145.70296665714287,
          145.7031406222222,
          145.70285666,
          145.70270932,
          145.70286496666668,
          145.70280994285713,
          145.70256160000002,
          145.70303135714286,
          145.7028532
         ],
         "y": [
          -16.80425592857143,
          -16.804163455555553,
          -16.80441896,
          -16.80452114,
          -16.80446591666667,
          -16.804370542857143,
          -16.80462208,
          -16.804756771428572,
          -16.80484453333333
         ]
        },
        {
         "marker": {
          "color": "rgba(20,20,20, 0.75)",
          "size": 6
         },
         "mode": "markers",
         "name": "Cluster 112 Buildings",
         "type": "scatter",
         "x": [
          145.71804762000005,
          145.71788844,
          145.71767460000004,
          145.7181545090909,
          145.7177553090909,
          145.71862585833338,
          145.71852548,
          145.71820548,
          145.71851576,
          145.71836434,
          145.71855589999996,
          145.71842814285716,
          145.71784730000005
         ],
         "y": [
          -16.81266784,
          -16.812946600000004,
          -16.812657345454546,
          -16.812984236363633,
          -16.81318161818182,
          -16.812708941666667,
          -16.81291594,
          -16.812686499999998,
          -16.812803600000002,
          -16.81299262,
          -16.813048185714287,
          -16.812718457142857,
          -16.8127105
         ]
        },
        {
         "marker": {
          "color": "rgba(45,45,45, 0.75)",
          "size": 6
         },
         "mode": "markers",
         "name": "Cluster 113 Buildings",
         "type": "scatter",
         "x": [
          145.72230456,
          145.7217889,
          145.72192452,
          145.72188552000003,
          145.72239746,
          145.72232086666668,
          145.72197972727272,
          145.72195338,
          145.72211555999996,
          145.72205508571432,
          145.72189912222225,
          145.72238613333334,
          145.7219144111111,
          145.72218596666667
         ],
         "y": [
          -16.813584040000002,
          -16.81350794,
          -16.813187300000006,
          -16.81355936,
          -16.81290868,
          -16.81316922222222,
          -16.812879390909092,
          -16.81331728,
          -16.81344362,
          -16.81356082857143,
          -16.81342941111111,
          -16.813411399999996,
          -16.813079044444443,
          -16.813411066666667
         ]
        },
        {
         "marker": {
          "color": "rgba(70,70,70, 0.75)",
          "size": 6
         },
         "mode": "markers",
         "name": "Cluster 114 Buildings",
         "type": "scatter",
         "x": [
          145.72662975666663,
          145.72690194,
          145.72670759
         ],
         "y": [
          -16.81142994,
          -16.81167602,
          -16.81172418
         ]
        },
        {
         "marker": {
          "color": "rgba(95,95,95, 0.75)",
          "size": 6
         },
         "mode": "markers",
         "name": "Cluster 115 Buildings",
         "type": "scatter",
         "x": [
          145.7047222909091,
          145.70474663846153,
          145.70451332,
          145.70428296,
          145.70484891111113,
          145.70440195714292
         ],
         "y": [
          -16.802151618181814,
          -16.801995630769234,
          -16.802240559999994,
          -16.80252418,
          -16.801814599999997,
          -16.80241014285714
         ]
        },
        {
         "marker": {
          "color": "rgba(120,120,120, 0.75)",
          "size": 6
         },
         "mode": "markers",
         "name": "Cluster 116 Buildings",
         "type": "scatter",
         "x": [
          145.72417433636366,
          145.72419230000003,
          145.72404766,
          145.72409398,
          145.72427502,
          145.72418186,
          145.72429961111112
         ],
         "y": [
          -16.805868345454545,
          -16.80617994,
          -16.805699240000006,
          -16.806260099999996,
          -16.80600094,
          -16.806048280000002,
          -16.80619511111111
         ]
        },
        {
         "marker": {
          "color": "rgba(145,145,145, 0.75)",
          "size": 6
         },
         "mode": "markers",
         "name": "Cluster 117 Buildings",
         "type": "scatter",
         "x": [
          145.72389671818183,
          145.72369266923076,
          145.7240766153846,
          145.72401474,
          145.72382846,
          145.72407912,
          145.7242565,
          145.7238733,
          145.72428158571432,
          145.7242748857143,
          145.72453347777778
         ],
         "y": [
          -16.812258645454545,
          -16.81224023076923,
          -16.811810546153847,
          -16.81278494,
          -16.81277416,
          -16.81220572,
          -16.81275422,
          -16.81186376,
          -16.812258085714287,
          -16.81184825714286,
          -16.812249955555554
         ]
        },
        {
         "marker": {
          "color": "rgba(170,170,170, 0.75)",
          "size": 6
         },
         "mode": "markers",
         "name": "Cluster 118 Buildings",
         "type": "scatter",
         "x": [
          145.72391608,
          145.72373722,
          145.72437554,
          145.72445332,
          145.72412612,
          145.72408046,
          145.72426282,
          145.72399065999997,
          145.72370452,
          145.72380372,
          145.7244845888889,
          145.72430432222222,
          145.72370488,
          145.72388704
         ],
         "y": [
          -16.808793804,
          -16.808733619999998,
          -16.809132820000002,
          -16.80902094,
          -16.808704000000002,
          -16.808946820000006,
          -16.809004960000006,
          -16.809164700000004,
          -16.80906934,
          -16.80906602,
          -16.808839411111116,
          -16.808820211111108,
          -16.8092648,
          -16.809310300000003
         ]
        },
        {
         "marker": {
          "color": "rgba(195,195,195, 0.75)",
          "size": 6
         },
         "mode": "markers",
         "name": "Cluster 119 Buildings",
         "type": "scatter",
         "x": [
          145.70872086,
          145.7086854
         ],
         "y": [
          -16.82822636,
          -16.828533899999996
         ]
        },
        {
         "marker": {
          "color": "rgba(220,220,220, 0.75)",
          "size": 6
         },
         "mode": "markers",
         "name": "Cluster 120 Buildings",
         "type": "scatter",
         "x": [
          145.70345057999995,
          145.7032812909091,
          145.70327842727275,
          145.70364104545453,
          145.70362537692307,
          145.70297454,
          145.70365204285713,
          145.70311084285714,
          145.70337871428572,
          145.70357103333333
         ],
         "y": [
          -16.816091,
          -16.81608032727273,
          -16.815875154545452,
          -16.815936518181818,
          -16.81616693076923,
          -16.8159707,
          -16.815753342857143,
          -16.816052814285715,
          -16.815731242857144,
          -16.815631511111107
         ]
        },
        {
         "marker": {
          "color": "rgba(245,245,245, 0.75)",
          "size": 6
         },
         "mode": "markers",
         "name": "Cluster 121 Buildings",
         "type": "scatter",
         "x": [
          145.71773106,
          145.71891562000005
         ],
         "y": [
          -16.80184244,
          -16.801715360000006
         ]
        },
        {
         "marker": {
          "color": "rgba(15,15,15, 0.75)",
          "size": 6
         },
         "mode": "markers",
         "name": "Cluster 122 Buildings",
         "type": "scatter",
         "x": [
          145.70078642,
          145.7014939,
          145.70165660000004,
          145.70086469999995,
          145.70113943846158,
          145.70073612727273,
          145.70120056363638,
          145.70110342222222,
          145.70091935555558,
          145.7008106333334,
          145.7009994
         ],
         "y": [
          -16.81771636,
          -16.8174306,
          -16.81744596,
          -16.817125025,
          -16.817138930769232,
          -16.81731268181818,
          -16.817384981818186,
          -16.81735953333333,
          -16.817347155555556,
          -16.817340633333334,
          -16.817353366666666
         ]
        },
        {
         "marker": {
          "color": "rgba(40,40,40, 0.75)",
          "size": 6
         },
         "mode": "markers",
         "name": "Cluster 123 Buildings",
         "type": "scatter",
         "x": [
          145.70283996666663,
          145.70296929999995,
          145.70338257999995,
          145.70317658,
          145.70344272857145,
          145.70326392857143
         ],
         "y": [
          -16.805035166666666,
          -16.8052746,
          -16.80520438,
          -16.80523688,
          -16.8053222,
          -16.805292471428572
         ]
        },
        {
         "marker": {
          "color": "rgba(65,65,65, 0.75)",
          "size": 6
         },
         "mode": "markers",
         "name": "Cluster 124 Buildings",
         "type": "scatter",
         "x": [
          145.70188268888887,
          145.70161292,
          145.70220176,
          145.70210452857143,
          145.7017188857143,
          145.70189005714286,
          145.70203355555554,
          145.70178908888892
         ],
         "y": [
          -16.808180988888882,
          -16.808409586666667,
          -16.808551279999996,
          -16.808465242857142,
          -16.80829497142857,
          -16.808682400000002,
          -16.80833571111111,
          -16.80855411111111
         ]
        },
        {
         "marker": {
          "color": "rgba(90,90,90, 0.75)",
          "size": 6
         },
         "mode": "markers",
         "name": "Cluster 125 Buildings",
         "type": "scatter",
         "x": [
          145.70809590625
         ],
         "y": [
          -16.80538268125
         ]
        },
        {
         "marker": {
          "color": "rgba(115,115,115, 0.75)",
          "size": 6
         },
         "mode": "markers",
         "name": "Cluster 126 Buildings",
         "type": "scatter",
         "x": [
          145.71876332727268,
          145.71929434,
          145.7189895,
          145.71889620000005,
          145.71858286000003,
          145.71912095714285,
          145.71908734285714,
          145.71862507142856,
          145.71871933333333,
          145.7189319
         ],
         "y": [
          -16.816585800000002,
          -16.816693320000002,
          -16.816592179999994,
          -16.816639379999998,
          -16.81653732,
          -16.817084899999998,
          -16.816681842857143,
          -16.817166914285714,
          -16.817015277777774,
          -16.816991011111117
         ]
        },
        {
         "marker": {
          "color": "rgba(140,140,140, 0.75)",
          "size": 6
         },
         "mode": "markers",
         "name": "Cluster 127 Buildings",
         "type": "scatter",
         "x": [
          145.71928192,
          145.71966254,
          145.71944411818183,
          145.71965485555555,
          145.71981104285715,
          145.71983798888888,
          145.71950168,
          145.71967501428568,
          145.71925425714286,
          145.7196566285714,
          145.71926221428572,
          145.71968622857142,
          145.71924428571432,
          145.71925286666666
         ],
         "y": [
          -16.81016736,
          -16.810327540000007,
          -16.81018297272727,
          -16.81017757777778,
          -16.810449657142858,
          -16.81027718888889,
          -16.81098318,
          -16.810653014285712,
          -16.81076142857143,
          -16.810466914285715,
          -16.810611785714286,
          -16.81083027142857,
          -16.810980185714286,
          -16.81042301111111
         ]
        },
        {
         "marker": {
          "color": "rgba(165,165,165, 0.75)",
          "size": 6
         },
         "mode": "markers",
         "name": "Cluster 128 Buildings",
         "type": "scatter",
         "x": [
          145.70132552,
          145.70165723999997,
          145.70137602,
          145.70130615454545,
          145.70143649999997,
          145.70108572857143,
          145.70151477142858,
          145.70121485714284,
          145.70166073333334
         ],
         "y": [
          -16.80547014,
          -16.80552358,
          -16.80575726,
          -16.805973490909093,
          -16.80556474,
          -16.805722714285714,
          -16.805401957142855,
          -16.80562844285714,
          -16.80531038888889
         ]
        },
        {
         "marker": {
          "color": "rgba(190,190,190, 0.75)",
          "size": 6
         },
         "mode": "markers",
         "name": "Cluster 129 Buildings",
         "type": "scatter",
         "x": [
          145.7189228,
          145.71893587142858,
          145.7184708888889,
          145.71850174444444,
          145.71885606923078,
          145.71905445384616,
          145.71864827142858,
          145.71844775714285,
          145.71886847142858,
          145.71847276666668
         ],
         "y": [
          -16.818853240000006,
          -16.818489185714288,
          -16.818366744444447,
          -16.818549244444444,
          -16.81916953846154,
          -16.818797184615384,
          -16.81914822857143,
          -16.818735957142856,
          -16.81873894285714,
          -16.818938144444445
         ]
        },
        {
         "marker": {
          "color": "rgba(215,215,215, 0.75)",
          "size": 6
         },
         "mode": "markers",
         "name": "Cluster 130 Buildings",
         "type": "scatter",
         "x": [
          145.72543222,
          145.72545837777776
         ],
         "y": [
          -16.80845986,
          -16.808282866666666
         ]
        },
        {
         "marker": {
          "color": "rgba(240,240,240, 0.75)",
          "size": 6
         },
         "mode": "markers",
         "name": "Cluster 131 Buildings",
         "type": "scatter",
         "x": [
          145.71703938000005,
          145.71696418,
          145.71670942,
          145.71741682,
          145.71729366,
          145.71690642857143,
          145.71711207142857,
          145.71747217777775
         ],
         "y": [
          -16.81265176,
          -16.81269204,
          -16.812500059999998,
          -16.812856240000002,
          -16.812574419999994,
          -16.81254297142857,
          -16.812527871428568,
          -16.81261631111111
         ]
        },
        {
         "marker": {
          "color": "rgba(10,10,10, 0.75)",
          "size": 6
         },
         "mode": "markers",
         "name": "Cluster 132 Buildings",
         "type": "scatter",
         "x": [
          145.7004658153846,
          145.70166702222218,
          145.70185923333332,
          145.70164714444445,
          145.70164466666668
         ],
         "y": [
          -16.81148973846154,
          -16.811408955555557,
          -16.811503366666667,
          -16.811698166666666,
          -16.811569033333335
         ]
        },
        {
         "marker": {
          "color": "rgba(35,35,35, 0.75)",
          "size": 6
         },
         "mode": "markers",
         "name": "Cluster 133 Buildings",
         "type": "scatter",
         "x": [
          145.70063456,
          145.70031794285714,
          145.7008339818182,
          145.7003040846154,
          145.70045954285715,
          145.70053529999996,
          145.70079182857143,
          145.70064967142858,
          145.70036617272723,
          145.7005109909091
         ],
         "y": [
          -16.807464279999998,
          -16.807144985714285,
          -16.807131954545454,
          -16.807649107692303,
          -16.807254714285712,
          -16.80737537142857,
          -16.807641957142856,
          -16.807736114285714,
          -16.80799470909091,
          -16.80788078181818
         ]
        },
        {
         "marker": {
          "color": "rgba(60,60,60, 0.75)",
          "size": 6
         },
         "mode": "markers",
         "name": "Cluster 134 Buildings",
         "type": "scatter",
         "x": [
          145.723160072,
          145.7230945,
          145.72305918,
          145.72320237999998,
          145.72309649999997,
          145.72324958,
          145.72317382,
          145.72328466,
          145.7230029,
          145.72312704,
          145.72304160000004,
          145.72283502
         ],
         "y": [
          -16.809091944000002,
          -16.809385600000002,
          -16.809650519999998,
          -16.80929254,
          -16.80955388,
          -16.809572199999998,
          -16.809572080000002,
          -16.80930094,
          -16.80955216,
          -16.809283720000003,
          -16.809275680000002,
          -16.80952854
         ]
        },
        {
         "marker": {
          "color": "rgba(85,85,85, 0.75)",
          "size": 6
         },
         "mode": "markers",
         "name": "Cluster 135 Buildings",
         "type": "scatter",
         "x": [
          145.72052889230767,
          145.72006314,
          145.72059818,
          145.72051534,
          145.72069733999996,
          145.72056896,
          145.72065279999995,
          145.72051486666666
         ],
         "y": [
          -16.817185776923075,
          -16.81634212,
          -16.816496359999995,
          -16.81691214,
          -16.81639106,
          -16.816845100000002,
          -16.817268300000002,
          -16.81669731111111
         ]
        },
        {
         "marker": {
          "color": "rgba(110,110,110, 0.75)",
          "size": 6
         },
         "mode": "markers",
         "name": "Cluster 136 Buildings",
         "type": "scatter",
         "x": [
          145.7027714909091,
          145.70293491818182,
          145.7031657076923,
          145.70287822857142,
          145.70331104285714,
          145.70312613333334,
          145.70334386666667,
          145.70299291111112,
          145.70329501818182,
          145.70300441428572,
          145.70347107142857,
          145.70315061428568
         ],
         "y": [
          -16.813346999999997,
          -16.813237145454544,
          -16.81314306153846,
          -16.813726242857143,
          -16.813452214285714,
          -16.81356271111111,
          -16.813588322222227,
          -16.813641655555557,
          -16.813815700000006,
          -16.8139156,
          -16.81370174285714,
          -16.81388467142857
         ]
        },
        {
         "marker": {
          "color": "rgba(135,135,135, 0.75)",
          "size": 6
         },
         "mode": "markers",
         "name": "Cluster 137 Buildings",
         "type": "scatter",
         "x": [
          145.7217494363636,
          145.72121123636362,
          145.72196314,
          145.72186522,
          145.72163045999997,
          145.72168886,
          145.72119878571428,
          145.721699975,
          145.72168081111113
         ],
         "y": [
          -16.815221172727274,
          -16.815200190909092,
          -16.815810719999998,
          -16.815348980000003,
          -16.815755560000003,
          -16.815665860000006,
          -16.815541357142855,
          -16.8150178625,
          -16.8154419
         ]
        },
        {
         "marker": {
          "color": "rgba(160,160,160, 0.75)",
          "size": 6
         },
         "mode": "markers",
         "name": "Cluster 138 Buildings",
         "type": "scatter",
         "x": [
          145.72220062,
          145.72197350000005,
          145.72234439999997,
          145.72258824,
          145.72214911999995,
          145.72194916,
          145.72253138571432,
          145.72216132857145,
          145.7227344
         ],
         "y": [
          -16.810959899999997,
          -16.81096676,
          -16.8111643,
          -16.811007639999996,
          -16.8115643,
          -16.811138520000004,
          -16.811182142857145,
          -16.81112884285714,
          -16.811145328571428
         ]
        },
        {
         "marker": {
          "color": "rgba(185,185,185, 0.75)",
          "size": 6
         },
         "mode": "markers",
         "name": "Cluster 139 Buildings",
         "type": "scatter",
         "x": [
          145.70051903076924,
          145.70064835714285,
          145.70083325555555,
          145.70041055555555,
          145.70078093333333,
          145.70074493636363,
          145.70088063636362,
          145.70063380952382,
          145.70106013333333,
          145.70108661111112
         ],
         "y": [
          -16.80935793076923,
          -16.809033171428574,
          -16.809252311111113,
          -16.809239155555556,
          -16.80912771111111,
          -16.809620918181814,
          -16.80977362727273,
          -16.80949561904762,
          -16.80972726666667,
          -16.80951118888889
         ]
        },
        {
         "marker": {
          "color": "rgba(210,210,210, 0.75)",
          "size": 6
         },
         "mode": "markers",
         "name": "Cluster 140 Buildings",
         "type": "scatter",
         "x": [
          145.70048237272732,
          145.7013487909091,
          145.70125945454546,
          145.7004384090909,
          145.70116240000002,
          145.70080484285714,
          145.70069125555554,
          145.70047251111112,
          145.70078283333334,
          145.70083723333337,
          145.7004352777778
         ],
         "y": [
          -16.814435290909092,
          -16.81485688181818,
          -16.81472419090909,
          -16.814760954545452,
          -16.814577542857144,
          -16.814308271428573,
          -16.81499414444444,
          -16.814273611111116,
          -16.81464438888889,
          -16.815011488888892,
          -16.814606466666664
         ]
        },
        {
         "marker": {
          "color": "rgba(235,235,235, 0.75)",
          "size": 6
         },
         "mode": "markers",
         "name": "Cluster 141 Buildings",
         "type": "scatter",
         "x": [
          145.70512641818183,
          145.70512340000002,
          145.7047434,
          145.70497808,
          145.70521627142858,
          145.70484810000005,
          145.70502258,
          145.70455510000005,
          145.70506600000004
         ],
         "y": [
          -16.803941027272728,
          -16.804113440000002,
          -16.80398452,
          -16.80364518,
          -16.803708314285718,
          -16.80385582857143,
          -16.804462159999996,
          -16.80417892,
          -16.804278919999998
         ]
        },
        {
         "marker": {
          "color": "rgba(5,5,5, 0.75)",
          "size": 6
         },
         "mode": "markers",
         "name": "Cluster 142 Buildings",
         "type": "scatter",
         "x": [
          145.70230314545455,
          145.70254766363638,
          145.70270761818185,
          145.70216808571433,
          145.70241851428568,
          145.70259052857142,
          145.70220622222226,
          145.70240681428572
         ],
         "y": [
          -16.813587263636364,
          -16.81384618181818,
          -16.813768336363633,
          -16.813650071428572,
          -16.813463585714285,
          -16.813374214285716,
          -16.8133801,
          -16.813976385714284
         ]
        },
        {
         "marker": {
          "color": "rgba(30,30,30, 0.75)",
          "size": 6
         },
         "mode": "markers",
         "name": "Cluster 143 Buildings",
         "type": "scatter",
         "x": [
          145.72295475384615,
          145.72300890000002,
          145.723183,
          145.7230057,
          145.72352118,
          145.72329666000005,
          145.72332898000005,
          145.72357638,
          145.72327107777778
         ],
         "y": [
          -16.81415468461538,
          -16.813897888888892,
          -16.81425948,
          -16.814591139999994,
          -16.814314439999997,
          -16.814813519999998,
          -16.814349800000002,
          -16.81454214,
          -16.814651066666666
         ]
        },
        {
         "marker": {
          "color": "rgba(55,55,55, 0.75)",
          "size": 6
         },
         "mode": "markers",
         "name": "Cluster 144 Buildings",
         "type": "scatter",
         "x": [
          145.72161502,
          145.72132582857142,
          145.72122507142856,
          145.72113323333332,
          145.7215605888889,
          145.72156662222218,
          145.72122606000005,
          145.72156834000003
         ],
         "y": [
          -16.81170886,
          -16.811614300000002,
          -16.811344185714287,
          -16.811604011111108,
          -16.81152156666667,
          -16.811294677777774,
          -16.8120425,
          -16.812081499999998
         ]
        },
        {
         "marker": {
          "color": "rgba(80,80,80, 0.75)",
          "size": 6
         },
         "mode": "markers",
         "name": "Cluster 145 Buildings",
         "type": "scatter",
         "x": [
          145.72376186000002,
          145.72451912857144,
          145.72470401428572,
          145.7238833,
          145.72396952857142,
          145.72430965714287,
          145.72414483333333,
          145.7238723,
          145.72405044285713,
          145.72424615714286,
          145.7244536142857
         ],
         "y": [
          -16.810818140000002,
          -16.810914328571428,
          -16.81086115714286,
          -16.81104398,
          -16.810829342857144,
          -16.81098942857143,
          -16.810882622222227,
          -16.811315627272727,
          -16.811340085714278,
          -16.811343571428573,
          -16.811361842857142
         ]
        },
        {
         "marker": {
          "color": "rgba(105,105,105, 0.75)",
          "size": 6
         },
         "mode": "markers",
         "name": "Cluster 146 Buildings",
         "type": "scatter",
         "x": [
          145.7021906909091,
          145.70184790000002,
          145.7020174142857,
          145.70186068181818,
          145.70222218181817,
          145.70173765384612,
          145.70205395555553
         ],
         "y": [
          -16.812113736363635,
          -16.812032363636366,
          -16.812050085714286,
          -16.81244104545455,
          -16.81250771818182,
          -16.812642984615387,
          -16.81248521111111
         ]
        },
        {
         "marker": {
          "color": "rgba(130,130,130, 0.75)",
          "size": 6
         },
         "mode": "markers",
         "name": "Cluster 147 Buildings",
         "type": "scatter",
         "x": [
          145.70946845999995,
          145.70953712,
          145.70965372,
          145.70977966,
          145.70921630000004,
          145.70897378,
          145.70946756,
          145.70992434,
          145.70911084285714
         ],
         "y": [
          -16.8022887,
          -16.80243844,
          -16.80259714,
          -16.80270626,
          -16.802699920000002,
          -16.802429800000002,
          -16.80299026,
          -16.802867499999998,
          -16.802565057142857
         ]
        },
        {
         "marker": {
          "color": "rgba(155,155,155, 0.75)",
          "size": 6
         },
         "mode": "markers",
         "name": "Cluster 148 Buildings",
         "type": "scatter",
         "x": [
          145.70203795454543,
          145.7021581090909,
          145.70242740769234,
          145.70229424444446,
          145.70260098888892,
          145.70239324444444
         ],
         "y": [
          -16.811438163636364,
          -16.811288127272725,
          -16.810805338461538,
          -16.811170211111108,
          -16.810803311111115,
          -16.811019955555555
         ]
        },
        {
         "marker": {
          "color": "rgba(180,180,180, 0.75)",
          "size": 6
         },
         "mode": "markers",
         "name": "Cluster 149 Buildings",
         "type": "scatter",
         "x": [
          145.70446726,
          145.7039669909091,
          145.70432726,
          145.7046795,
          145.70436731428572,
          145.70451293333338,
          145.70422233333338,
          145.70410157777778,
          145.7042651555556
         ],
         "y": [
          -16.80301552,
          -16.803526863636364,
          -16.80317612,
          -16.803419140000006,
          -16.80358454285714,
          -16.803496477777774,
          -16.803272822222226,
          -16.803383644444445,
          -16.80376801111111
         ]
        },
        {
         "marker": {
          "color": "rgba(205,205,205, 0.75)",
          "size": 6
         },
         "mode": "markers",
         "name": "Cluster 150 Buildings",
         "type": "scatter",
         "x": [
          145.71961173636362,
          145.7193112,
          145.71950178,
          145.71922816,
          145.71950111428572,
          145.71949548571428,
          145.71940457142858,
          145.7191073555556,
          145.71953424444442,
          145.71907162222226,
          145.71950012
         ],
         "y": [
          -16.812318072727273,
          -16.813146420000002,
          -16.81254078,
          -16.812243099999996,
          -16.812915757142857,
          -16.812801414285715,
          -16.81225602857143,
          -16.812514433333334,
          -16.812642611111116,
          -16.812220777777775,
          -16.813121940000002
         ]
        },
        {
         "marker": {
          "color": "rgba(230,230,230, 0.75)",
          "size": 6
         },
         "mode": "markers",
         "name": "Cluster 151 Buildings",
         "type": "scatter",
         "x": [
          145.70234111999997,
          145.70250672000003,
          145.70267712,
          145.70276828000004,
          145.70210808,
          145.70243932,
          145.70260595714288
         ],
         "y": [
          -16.80286948666667,
          -16.80295,
          -16.80311996,
          -16.80308926,
          -16.80283922,
          -16.80273642,
          -16.803316285714285
         ]
        },
        {
         "marker": {
          "color": "rgba(255,255,255, 0.75)",
          "size": 6
         },
         "mode": "markers",
         "name": "Cluster 152 Buildings",
         "type": "scatter",
         "x": [
          145.72202378461537,
          145.72247613846156,
          145.72275386666666,
          145.72258180000003,
          145.72219479999995,
          145.72237581428567,
          145.72213777142858,
          145.72238912857142,
          145.72276366666668,
          145.72257714444444
         ],
         "y": [
          -16.812089999999998,
          -16.812568446153847,
          -16.81177522,
          -16.81210342,
          -16.812140457142856,
          -16.812101242857143,
          -16.811750142857143,
          -16.811662928571426,
          -16.812192311111108,
          -16.811722255555555
         ]
        },
        {
         "marker": {
          "color": "rgba(25,25,25, 0.75)",
          "size": 6
         },
         "mode": "markers",
         "name": "Cluster 153 Buildings",
         "type": "scatter",
         "x": [
          145.71528719999995
         ],
         "y": [
          -16.809280446153846
         ]
        },
        {
         "marker": {
          "color": "rgba(50,50,50, 0.75)",
          "size": 6
         },
         "mode": "markers",
         "name": "Cluster 154 Buildings",
         "type": "scatter",
         "x": [
          145.70212969999997,
          145.70237615714285,
          145.70255614285713,
          145.70203967777778,
          145.70243675555554,
          145.70225753333332
         ],
         "y": [
          -16.806784545454544,
          -16.807052728571428,
          -16.807276014285712,
          -16.806676644444444,
          -16.80719562222222,
          -16.806952344444444
         ]
        },
        {
         "marker": {
          "color": "rgba(75,75,75, 0.75)",
          "size": 6
         },
         "mode": "markers",
         "name": "Cluster 155 Buildings",
         "type": "scatter",
         "x": [
          145.7199044181818,
          145.71982918000003,
          145.71928180000003,
          145.71985514,
          145.71969064,
          145.71998028000004,
          145.71967486,
          145.71964608,
          145.72003718571432,
          145.71948575714285,
          145.71947838888892
         ],
         "y": [
          -16.81723299090909,
          -16.817092879999993,
          -16.81715884,
          -16.816720899999996,
          -16.81702674,
          -16.8170678,
          -16.81718904,
          -16.81673256,
          -16.81684882857143,
          -16.81714607142857,
          -16.816758433333334
         ]
        },
        {
         "marker": {
          "color": "rgba(100,100,100, 0.75)",
          "size": 6
         },
         "mode": "markers",
         "name": "Cluster 156 Buildings",
         "type": "scatter",
         "x": [
          145.7217008,
          145.72205659999997,
          145.72229134,
          145.72152562000005,
          145.72241797142857,
          145.7220141
         ],
         "y": [
          -16.80378982,
          -16.803538299999996,
          -16.804058719999997,
          -16.803629739999998,
          -16.80351772857143,
          -16.803293285714286
         ]
        },
        {
         "marker": {
          "color": "rgba(125,125,125, 0.75)",
          "size": 6
         },
         "mode": "markers",
         "name": "Cluster 157 Buildings",
         "type": "scatter",
         "x": [
          145.72031088,
          145.72036666,
          145.72085348888888,
          145.72093276666666,
          145.72034186363638,
          145.72030889999996,
          145.72033829999995,
          145.72030387777778,
          145.72026650000004
         ],
         "y": [
          -16.813666540000003,
          -16.81354742,
          -16.814238944444444,
          -16.814101177777776,
          -16.813995745454545,
          -16.814252900000003,
          -16.814408022222224,
          -16.814112766666668,
          -16.814532033333332
         ]
        },
        {
         "marker": {
          "color": "rgba(150,150,150, 0.75)",
          "size": 6
         },
         "mode": "markers",
         "name": "Cluster 158 Buildings",
         "type": "scatter",
         "x": [
          145.72630678000004,
          145.72622344,
          145.7262659,
          145.72616010000002,
          145.72599924000005,
          145.72608176,
          145.72636045714285,
          145.7264258777778
         ],
         "y": [
          -16.809898999999998,
          -16.80974124,
          -16.81030494,
          -16.810174600000003,
          -16.80986506,
          -16.810029399999998,
          -16.81008042857143,
          -16.810263600000006
         ]
        },
        {
         "marker": {
          "color": "rgba(175,175,175, 0.75)",
          "size": 6
         },
         "mode": "markers",
         "name": "Cluster 159 Buildings",
         "type": "scatter",
         "x": [
          145.71836524,
          145.7186305684211,
          145.71867360000002,
          145.71859094285716,
          145.71833111818182,
          145.71816819999998,
          145.71828216666663,
          145.7188055111111,
          145.71820701111108
         ],
         "y": [
          -16.81426076,
          -16.814547005263158,
          -16.815154460000002,
          -16.814342214285713,
          -16.81454499090909,
          -16.814718980000002,
          -16.8151388,
          -16.814689533333336,
          -16.814964555555555
         ]
        },
        {
         "marker": {
          "color": "rgba(200,200,200, 0.75)",
          "size": 6
         },
         "mode": "markers",
         "name": "Cluster 160 Buildings",
         "type": "scatter",
         "x": [
          145.720325,
          145.72057542,
          145.7199502,
          145.7202051,
          145.72044958571433,
          145.72020261428568,
          145.72080957142856,
          145.72020740000005
         ],
         "y": [
          -16.80347262,
          -16.803755700000004,
          -16.803543659999995,
          -16.8035167,
          -16.80329537142857,
          -16.803270628571433,
          -16.8032628,
          -16.803662311111115
         ]
        },
        {
         "marker": {
          "color": "rgba(225,225,225, 0.75)",
          "size": 6
         },
         "mode": "markers",
         "name": "Cluster 161 Buildings",
         "type": "scatter",
         "x": [
          145.72183608,
          145.72174849230768,
          145.72228516923082,
          145.72225418,
          145.72228872,
          145.72171218,
          145.72198802,
          145.72227764000004,
          145.72187078888888,
          145.72220983333332
         ],
         "y": [
          -16.80714966,
          -16.806971746153845,
          -16.807392146153852,
          -16.80755728,
          -16.80725118,
          -16.8073174,
          -16.806965279999996,
          -16.807145560000002,
          -16.807500377777778,
          -16.807740522222225
         ]
        },
        {
         "marker": {
          "color": "rgba(250,250,250, 0.75)",
          "size": 6
         },
         "mode": "markers",
         "name": "Cluster 162 Buildings",
         "type": "scatter",
         "x": [
          145.70582608181817,
          145.70575775999995,
          145.7051494090909,
          145.70515686000005,
          145.70514350000005,
          145.70543395714284
         ],
         "y": [
          -16.823166427272728,
          -16.82328214,
          -16.823687045454548,
          -16.823490080000006,
          -16.823376199999995,
          -16.823519128571427
         ]
        },
        {
         "marker": {
          "color": "rgba(20,20,20, 0.75)",
          "size": 6
         },
         "mode": "markers",
         "name": "Cluster 163 Buildings",
         "type": "scatter",
         "x": [
          145.705096,
          145.70495956,
          145.70538115999997,
          145.70572152,
          145.70513946
         ],
         "y": [
          -16.824732920000002,
          -16.82508096,
          -16.82553322,
          -16.825164660000002,
          -16.82509118
         ]
        },
        {
         "marker": {
          "color": "rgba(45,45,45, 0.75)",
          "size": 6
         },
         "mode": "markers",
         "name": "Cluster 164 Buildings",
         "type": "scatter",
         "x": [
          145.71639828,
          145.71681757999997,
          145.71687944,
          145.71640047777774,
          145.71635536000005,
          145.71657788,
          145.71640274285716
         ],
         "y": [
          -16.81170532,
          -16.811958620000002,
          -16.811801879999994,
          -16.811911666666667,
          -16.81232288,
          -16.812405379999998,
          -16.81206147142857
         ]
        },
        {
         "marker": {
          "color": "rgba(70,70,70, 0.75)",
          "size": 6
         },
         "mode": "markers",
         "name": "Cluster 165 Buildings",
         "type": "scatter",
         "x": [
          145.72563494000005,
          145.7251479285714,
          145.72486057142856,
          145.72525052,
          145.72522827142856,
          145.72498962857142,
          145.72515448,
          145.72507916,
          145.72567454,
          145.7253235555556
         ],
         "y": [
          -16.811083900000003,
          -16.81093077142857,
          -16.810931085714284,
          -16.811152040000003,
          -16.811349,
          -16.811385542857142,
          -16.81152936,
          -16.81107966,
          -16.811320199999997,
          -16.811522755555554
         ]
        },
        {
         "marker": {
          "color": "rgba(95,95,95, 0.75)",
          "size": 6
         },
         "mode": "markers",
         "name": "Cluster 166 Buildings",
         "type": "scatter",
         "x": [
          145.72157642000005,
          145.72180782,
          145.72196393999997,
          145.72201234000005,
          145.72223164,
          145.72154774,
          145.72193244,
          145.72159942,
          145.72213042,
          145.72171436,
          145.72181292,
          145.7214993285714,
          145.7221990857143
         ],
         "y": [
          -16.80841002,
          -16.80842446,
          -16.80894256,
          -16.80861096,
          -16.80849522,
          -16.80894854,
          -16.808439200000002,
          -16.808582379999994,
          -16.808449259999996,
          -16.80855234,
          -16.80863126,
          -16.808590357142858,
          -16.8086883
         ]
        },
        {
         "marker": {
          "color": "rgba(120,120,120, 0.75)",
          "size": 6
         },
         "mode": "markers",
         "name": "Cluster 167 Buildings",
         "type": "scatter",
         "x": [
          145.70484661999996,
          145.70463389999995,
          145.70423184444445,
          145.70409206666668,
          145.70445226363637,
          145.70430338571427,
          145.70457045714286,
          145.70430023333333,
          145.7044763
         ],
         "y": [
          -16.805947699999994,
          -16.805703822222224,
          -16.805855855555556,
          -16.805950488888882,
          -16.806397781818184,
          -16.806487842857145,
          -16.80627712857143,
          -16.806227899999996,
          -16.806134444444446
         ]
        },
        {
         "marker": {
          "color": "rgba(145,145,145, 0.75)",
          "size": 6
         },
         "mode": "markers",
         "name": "Cluster 168 Buildings",
         "type": "scatter",
         "x": [
          145.70433003636361,
          145.70438822222226,
          145.70397323636362,
          145.70406545454546,
          145.7042959285714,
          145.70405404285714,
          145.70432409999998,
          145.70401258888887,
          145.70400774444445,
          145.70413175555555
         ],
         "y": [
          -16.815860172727273,
          -16.815681955555554,
          -16.816177418181816,
          -16.815722136363636,
          -16.816242857142857,
          -16.815868728571427,
          -16.81601542857143,
          -16.816003199999994,
          -16.815567222222224,
          -16.816212955555557
         ]
        },
        {
         "marker": {
          "color": "rgba(170,170,170, 0.75)",
          "size": 6
         },
         "mode": "markers",
         "name": "Cluster 169 Buildings",
         "type": "scatter",
         "x": [
          145.70072175454547,
          145.70120623999995,
          145.70049427777778,
          145.7009806222222,
          145.7006169111111,
          145.70107634545457,
          145.70086112857143,
          145.7005074090909,
          145.70034330000001,
          145.70026371428568
         ],
         "y": [
          -16.803968909090912,
          -16.80380348,
          -16.803676944444447,
          -16.803781266666665,
          -16.803835911111108,
          -16.803948199999994,
          -16.804087728571428,
          -16.804398072727274,
          -16.80427042,
          -16.804096042857143
         ]
        },
        {
         "marker": {
          "color": "rgba(195,195,195, 0.75)",
          "size": 6
         },
         "mode": "markers",
         "name": "Cluster 170 Buildings",
         "type": "scatter",
         "x": [
          145.70267290000004,
          145.70266734,
          145.70243910000005,
          145.70217246363637,
          145.70252035454547,
          145.70240028461538,
          145.70229951428573,
          145.70240974444445,
          145.7026131444444
         ],
         "y": [
          -16.807473144444444,
          -16.80815596,
          -16.808261372727273,
          -16.807899263636365,
          -16.808379463636363,
          -16.80770948461538,
          -16.808014300000004,
          -16.808119422222227,
          -16.807971366666667
         ]
        },
        {
         "marker": {
          "color": "rgba(220,220,220, 0.75)",
          "size": 6
         },
         "mode": "markers",
         "name": "Cluster 171 Buildings",
         "type": "scatter",
         "x": [
          145.70477169999995,
          145.70469755714285,
          145.70473582222226,
          145.70475532222218,
          145.70478936666666,
          145.70471203636362
         ],
         "y": [
          -16.8156984,
          -16.816159085714286,
          -16.816018911111108,
          -16.815864055555554,
          -16.815529244444438,
          -16.816307481818182
         ]
        },
        {
         "marker": {
          "color": "rgba(245,245,245, 0.75)",
          "size": 6
         },
         "mode": "markers",
         "name": "Cluster 172 Buildings",
         "type": "scatter",
         "x": [
          145.7025459909091,
          145.70268668888892,
          145.70288935454545,
          145.70306697272727,
          145.70271188461538,
          145.70269775714286,
          145.70289435714287,
          145.70260068571432,
          145.7025500625,
          145.7030631888889,
          145.7032095666667
         ],
         "y": [
          -16.814224854545458,
          -16.814121133333334,
          -16.814800127272726,
          -16.81472146363636,
          -16.814908092307693,
          -16.814538885714285,
          -16.81444087142857,
          -16.814748185714286,
          -16.8146122375,
          -16.81436486666667,
          -16.814595566666668
         ]
        },
        {
         "marker": {
          "color": "rgba(15,15,15, 0.75)",
          "size": 6
         },
         "mode": "markers",
         "name": "Cluster 173 Buildings",
         "type": "scatter",
         "x": [
          145.72069888,
          145.72070144,
          145.72065493999997,
          145.72030569999998,
          145.72039735555555,
          145.7204841,
          145.72067568888892,
          145.72028495714284
         ],
         "y": [
          -16.8103919,
          -16.81023634,
          -16.810510779999998,
          -16.810387900000002,
          -16.810206666666666,
          -16.811197,
          -16.810769999999998,
          -16.810645814285714
         ]
        },
        {
         "marker": {
          "color": "rgba(40,40,40, 0.75)",
          "size": 6
         },
         "mode": "markers",
         "name": "Cluster 174 Buildings",
         "type": "scatter",
         "x": [
          145.72135646,
          145.7220733,
          145.72105504,
          145.72179854285713,
          145.72185195555554
         ],
         "y": [
          -16.8028685,
          -16.80299004,
          -16.8026414,
          -16.802703628571425,
          -16.802861866666667
         ]
        },
        {
         "marker": {
          "color": "rgba(65,65,65, 0.75)",
          "size": 6
         },
         "mode": "markers",
         "name": "Cluster 175 Buildings",
         "type": "scatter",
         "x": [
          145.70115738181818,
          145.70053359999997,
          145.70094214444444
         ],
         "y": [
          -16.801173109090907,
          -16.801157760000002,
          -16.801153799999998
         ]
        },
        {
         "marker": {
          "color": "rgba(90,90,90, 0.75)",
          "size": 6
         },
         "mode": "markers",
         "name": "Cluster 176 Buildings",
         "type": "scatter",
         "x": [
          145.71863452,
          145.71819867999997,
          145.71789154,
          145.71848054,
          145.71792408000005,
          145.71829377999995,
          145.71848774,
          145.71827985714285,
          145.71846391428568,
          145.71864406666666,
          145.71808840000003,
          145.71861618888892
         ],
         "y": [
          -16.812288560000002,
          -16.81187996,
          -16.8122301,
          -16.81183908,
          -16.811954800000002,
          -16.811613320000006,
          -16.81167454,
          -16.812247242857143,
          -16.812281471428573,
          -16.811832355555556,
          -16.812225033333334,
          -16.812010555555556
         ]
        },
        {
         "marker": {
          "color": "rgba(115,115,115, 0.75)",
          "size": 6
         },
         "mode": "markers",
         "name": "Cluster 177 Buildings",
         "type": "scatter",
         "x": [
          145.71911426,
          145.71963018000002,
          145.71937640000004,
          145.7192925,
          145.71989397777776
         ],
         "y": [
          -16.809549240000006,
          -16.80962094,
          -16.8095372,
          -16.80928704,
          -16.808932866666666
         ]
        },
        {
         "marker": {
          "color": "rgba(140,140,140, 0.75)",
          "size": 6
         },
         "mode": "markers",
         "name": "Cluster 178 Buildings",
         "type": "scatter",
         "x": [
          145.7252235913043,
          145.72500962,
          145.72513095999997,
          145.72503764,
          145.72514381428567
         ],
         "y": [
          -16.807988978260873,
          -16.80747672,
          -16.807802900000002,
          -16.80806786,
          -16.80760152857143
         ]
        },
        {
         "marker": {
          "color": "rgba(165,165,165, 0.75)",
          "size": 6
         },
         "mode": "markers",
         "name": "Cluster 179 Buildings",
         "type": "scatter",
         "x": [
          145.7018886636364,
          145.70149745999996,
          145.70163891428572,
          145.70176116,
          145.70139466,
          145.70191792,
          145.70138828571433,
          145.70178422222222,
          145.70204579999995
         ],
         "y": [
          -16.80315691818182,
          -16.8035803,
          -16.803459628571428,
          -16.80388494,
          -16.80353336,
          -16.803793219999996,
          -16.803709299999998,
          -16.803341988888892,
          -16.803647111111108
         ]
        },
        {
         "marker": {
          "color": "rgba(190,190,190, 0.75)",
          "size": 6
         },
         "mode": "markers",
         "name": "Cluster 180 Buildings",
         "type": "scatter",
         "x": [
          145.70625556,
          145.70623377777778,
          145.7063460764706
         ],
         "y": [
          -16.8049128,
          -16.805025699999998,
          -16.804672241176473
         ]
        },
        {
         "marker": {
          "color": "rgba(215,215,215, 0.75)",
          "size": 6
         },
         "mode": "markers",
         "name": "Cluster 181 Buildings",
         "type": "scatter",
         "x": [
          145.70368437058823,
          145.70344958,
          145.70396367777778
         ],
         "y": [
          -16.808016147058822,
          -16.807979340000006,
          -16.80838852222222
         ]
        },
        {
         "marker": {
          "color": "rgba(240,240,240, 0.75)",
          "size": 6
         },
         "mode": "markers",
         "name": "Cluster 182 Buildings",
         "type": "scatter",
         "x": [
          145.70234680000002,
          145.70223742857144,
          145.702079,
          145.70178416000005,
          145.70193998
         ],
         "y": [
          -16.80468566,
          -16.8048184,
          -16.80492988,
          -16.805168099999996,
          -16.805060400000002
         ]
        },
        {
         "marker": {
          "color": "rgba(10,10,10, 0.75)",
          "size": 6
         },
         "mode": "markers",
         "name": "Cluster 183 Buildings",
         "type": "scatter",
         "x": [
          145.70363636,
          145.70390364,
          145.70363589999997,
          145.70349088,
          145.70380512000003,
          145.70324877777776
         ],
         "y": [
          -16.80435696,
          -16.804635240000003,
          -16.80473368,
          -16.80480042,
          -16.804499160000002,
          -16.804701777777776
         ]
        },
        {
         "marker": {
          "color": "rgba(35,35,35, 0.75)",
          "size": 6
         },
         "mode": "markers",
         "name": "Cluster 184 Buildings",
         "type": "scatter",
         "x": [
          145.71662944666662,
          145.71632118,
          145.71628833999995
         ],
         "y": [
          -16.808900686666668,
          -16.809419300000002,
          -16.80932116
         ]
        },
        {
         "marker": {
          "color": "rgba(60,60,60, 0.75)",
          "size": 6
         },
         "mode": "markers",
         "name": "Cluster 185 Buildings",
         "type": "scatter",
         "x": [
          145.72300884,
          145.72277996,
          145.72317048,
          145.722786,
          145.7229888,
          145.72299028000003
         ],
         "y": [
          -16.80726888,
          -16.80712152,
          -16.806598200000003,
          -16.80723404,
          -16.807092660000002,
          -16.80669162
         ]
        },
        {
         "marker": {
          "color": "rgba(85,85,85, 0.75)",
          "size": 6
         },
         "mode": "markers",
         "name": "Cluster 186 Buildings",
         "type": "scatter",
         "x": [
          145.70372822,
          145.7037742,
          145.70399257142859,
          145.70371168,
          145.70363302,
          145.70386458571429,
          145.70411431111108
         ],
         "y": [
          -16.802773359999996,
          -16.80269308,
          -16.802756985714286,
          -16.8029765,
          -16.80289406,
          -16.80286972857143,
          -16.802635044444443
         ]
        },
        {
         "marker": {
          "color": "rgba(110,110,110, 0.75)",
          "size": 6
         },
         "mode": "markers",
         "name": "Cluster 187 Buildings",
         "type": "scatter",
         "x": [
          145.71972196000004,
          145.7192327857143,
          145.71954091818182,
          145.71953938,
          145.71951739999997,
          145.71925418,
          145.71978897142859,
          145.71943810000002,
          145.71975174285708,
          145.7198209222222,
          145.7194814222222
         ],
         "y": [
          -16.81887802,
          -16.818496371428573,
          -16.8181767,
          -16.81843198,
          -16.81853974,
          -16.818844919999997,
          -16.818295957142855,
          -16.818398057142858,
          -16.818519742857145,
          -16.818733955555555,
          -16.818809633333338
         ]
        },
        {
         "marker": {
          "color": "rgba(135,135,135, 0.75)",
          "size": 6
         },
         "mode": "markers",
         "name": "Cluster 188 Buildings",
         "type": "scatter",
         "x": [
          145.70848006666668
         ],
         "y": [
          -16.82589511111111
         ]
        },
        {
         "marker": {
          "color": "rgba(160,160,160, 0.75)",
          "size": 6
         },
         "mode": "markers",
         "name": "Cluster 189 Buildings",
         "type": "scatter",
         "x": [
          145.72745880000002,
          145.72726054000003,
          145.72702643333332
         ],
         "y": [
          -16.81253358,
          -16.81220888,
          -16.8120038
         ]
        },
        {
         "marker": {
          "color": "rgba(185,185,185, 0.75)",
          "size": 6
         },
         "mode": "markers",
         "name": "Cluster 190 Buildings",
         "type": "scatter",
         "x": [
          145.72100501428568,
          145.72052726,
          145.72097204000005,
          145.72052106,
          145.72101424000004,
          145.72051317999995,
          145.720976,
          145.72047260000005,
          145.72046985555556
         ],
         "y": [
          -16.807477371428572,
          -16.80723674,
          -16.80757532,
          -16.807377719999998,
          -16.807790320000002,
          -16.807528280000003,
          -16.807978207692305,
          -16.807921846153842,
          -16.807651366666665
         ]
        },
        {
         "marker": {
          "color": "rgba(210,210,210, 0.75)",
          "size": 6
         },
         "mode": "markers",
         "name": "Cluster 191 Buildings",
         "type": "scatter",
         "x": [
          145.7047381,
          145.70466222
         ],
         "y": [
          -16.82583982,
          -16.82624582
         ]
        },
        {
         "marker": {
          "color": "rgba(235,235,235, 0.75)",
          "size": 6
         },
         "mode": "markers",
         "name": "Cluster 192 Buildings",
         "type": "scatter",
         "x": [
          145.70175276,
          145.7016772285714,
          145.70148242,
          145.70178897142858,
          145.7013924,
          145.70193034285714,
          145.70153588571424,
          145.70162992222225
         ],
         "y": [
          -16.809203060000005,
          -16.809081642857144,
          -16.80931384,
          -16.8094577,
          -16.809194257142856,
          -16.809378185714284,
          -16.809444342857145,
          -16.809583533333335
         ]
        },
        {
         "marker": {
          "color": "rgba(5,5,5, 0.75)",
          "size": 6
         },
         "mode": "markers",
         "name": "Cluster 193 Buildings",
         "type": "scatter",
         "x": [
          145.70753178571428,
          145.70765887500005,
          145.70735919230768,
          145.7073386,
          145.70749843333334
         ],
         "y": [
          -16.80526061428571,
          -16.805808758333338,
          -16.80529617692308,
          -16.805723299999997,
          -16.805775344444438
         ]
        },
        {
         "marker": {
          "color": "rgba(30,30,30, 0.75)",
          "size": 6
         },
         "mode": "markers",
         "name": "Cluster 194 Buildings",
         "type": "scatter",
         "x": [
          145.70822968,
          145.70854707999996,
          145.70819714,
          145.70819971999995
         ],
         "y": [
          -16.827736899999998,
          -16.82781842,
          -16.82814184,
          -16.82801688
         ]
        },
        {
         "marker": {
          "color": "rgba(55,55,55, 0.75)",
          "size": 6
         },
         "mode": "markers",
         "name": "Cluster 195 Buildings",
         "type": "scatter",
         "x": [
          145.70562160000003,
          145.70587110909094,
          145.70542528461542,
          145.70568727692307,
          145.70540463076927,
          145.70583700000003,
          145.70552268571427,
          145.70527731111108
         ],
         "y": [
          -16.809130542857144,
          -16.80972065454545,
          -16.80938755384615,
          -16.809577653846155,
          -16.80993043846154,
          -16.80991062,
          -16.80951732857143,
          -16.8097609
         ]
        },
        {
         "marker": {
          "color": "rgba(80,80,80, 0.75)",
          "size": 6
         },
         "mode": "markers",
         "name": "Cluster 196 Buildings",
         "type": "scatter",
         "x": [
          145.70548034,
          145.7056253,
          145.70537326,
          145.70572032857143,
          145.7053141333334,
          145.7050950375,
          145.7052867181818,
          145.7054276307692,
          145.70496936,
          145.7051614230769
         ],
         "y": [
          -16.80488842,
          -16.80529688,
          -16.80494102,
          -16.80494447142857,
          -16.8050883,
          -16.805178625,
          -16.80561909090909,
          -16.805499423076924,
          -16.80529814,
          -16.805718576923073
         ]
        },
        {
         "marker": {
          "color": "rgba(105,105,105, 0.75)",
          "size": 6
         },
         "mode": "markers",
         "name": "Cluster 197 Buildings",
         "type": "scatter",
         "x": [
          145.72009419999998,
          145.72016918571433,
          145.72021612857142,
          145.72025116666666,
          145.71976493636362,
          145.71969819999998,
          145.71976476000003,
          145.71972384444445
         ],
         "y": [
          -16.81538822,
          -16.815019385714287,
          -16.814684399999997,
          -16.814866111111108,
          -16.81481357272727,
          -16.814954645454545,
          -16.81530238,
          -16.81516427777778
         ]
        },
        {
         "marker": {
          "color": "rgba(130,130,130, 0.75)",
          "size": 6
         },
         "mode": "markers",
         "name": "Cluster 198 Buildings",
         "type": "scatter",
         "x": [
          145.7056916,
          145.70570675714285,
          145.70568085555556,
          145.70531648
         ],
         "y": [
          -16.80328224285714,
          -16.803122885714284,
          -16.80295098888889,
          -16.803385959999996
         ]
        },
        {
         "marker": {
          "color": "rgba(155,155,155, 0.75)",
          "size": 6
         },
         "mode": "markers",
         "name": "Cluster 199 Buildings",
         "type": "scatter",
         "x": [
          145.7229321,
          145.72335569999998,
          145.72335388000005,
          145.72305769999997,
          145.72294802,
          145.72314153999997,
          145.7233480444444
         ],
         "y": [
          -16.80854642,
          -16.808603920000003,
          -16.80868832,
          -16.80855802,
          -16.80875118,
          -16.80874724,
          -16.808822066666664
         ]
        },
        {
         "marker": {
          "color": "rgba(255, 0, 0, 0.75)",
          "size": 4
         },
         "mode": "markers",
         "name": "KMeans Clusters",
         "type": "scatter",
         "x": [
          145.71665996594385,
          145.70232743494827,
          145.72172266925926,
          145.70360529135942,
          145.72315581221446,
          145.70457113592852,
          145.70853893999998,
          145.7188299921763,
          145.70862741060532,
          145.70064363586425,
          145.72037249872454,
          145.7240587519728,
          145.7191044999334,
          145.70120230472583,
          145.70425504249997,
          145.70776208718854,
          145.7215454076587,
          145.72227852342473,
          145.70628737874418,
          145.7024059393254,
          145.71853823341993,
          145.70261021548976,
          145.72050945238095,
          145.7006749188771,
          145.72579511838063,
          145.70074352258715,
          145.70498106222223,
          145.70111760962286,
          145.7014481304762,
          145.7235726485714,
          145.72101664090908,
          145.71930397528044,
          145.72117657714284,
          145.70512139786433,
          145.7193500674459,
          145.70873932712954,
          145.70495409993006,
          145.72264786902494,
          145.70437727151403,
          145.7044527579592,
          145.72327183186147,
          145.72052068564705,
          145.7264598599093,
          145.7168977929293,
          145.72401077709878,
          145.72207340889082,
          145.70184782895447,
          145.70183499714648,
          145.72253669174603,
          145.70439785652235,
          145.7005969347988,
          145.72107306109092,
          145.7182592229309,
          145.70255584906073,
          145.70593094180433,
          145.72304096825772,
          145.70666320528784,
          145.71974100539683,
          145.71861637174604,
          145.72481136,
          145.71733842982147,
          145.70077340608626,
          145.70379698867606,
          145.72062244596825,
          145.71033741122656,
          145.7257737928889,
          145.71939614550115,
          145.70169969285715,
          145.72452893470086,
          145.72134577201058,
          145.722267994127,
          145.7184778741799,
          145.72014057625,
          145.72336162530843,
          145.70526581000001,
          145.72376108592542,
          145.70159818691346,
          145.7040022489441,
          145.72177680626783,
          145.70394923693001,
          145.7017008765873,
          145.7194835228819,
          145.70609961781042,
          145.7211435392888,
          145.7034469191453,
          145.7054677657143,
          145.72094338689755,
          145.7177571601693,
          145.70330023510206,
          145.7222376647619,
          145.71988924880952,
          145.71916240860318,
          145.71956833472223,
          145.72419076666668,
          145.7055579017252,
          145.70560000979592,
          145.72217962444444,
          145.70138378758338,
          145.7005224200636,
          145.722932691988,
          145.70036282494175,
          145.70498096886038,
          145.7201414955291,
          145.71755669304886,
          145.7229032618691,
          145.72114700831168,
          145.70207340592594,
          145.70561635073017,
          145.70132671666667,
          145.72113352053182,
          145.70760532593255,
          145.70286603622574,
          145.71819913379787,
          145.72207937235623,
          145.72674642888887,
          145.70458601293745,
          145.72418068106782,
          145.72407346109122,
          145.7240593779365,
          145.70870313,
          145.70339638938927,
          145.71832334000004,
          145.70106459640743,
          145.7031791806349,
          145.70190418559525,
          145.70809590625,
          145.71890108320346,
          145.7195161171944,
          145.70139750278017,
          145.71871790945056,
          145.72544529888887,
          145.71711426722223,
          145.70145677641025,
          145.70054040757842,
          145.72311060433333,
          145.72051743987177,
          145.70312045145872,
          145.72163199161696,
          145.7222924615873,
          145.7007598259052,
          145.70079230738557,
          145.70496437217895,
          145.70241857404403,
          145.72323851462488,
          145.72140259555556,
          145.7241740760173,
          145.70199006831896,
          145.70945908698414,
          145.70231865818442,
          145.7043233694661,
          145.71938794454678,
          145.7024923710204,
          145.72242739151403,
          145.71528719999995,
          145.70229932777778,
          145.71971488453892,
          145.72200107190477,
          145.72044702632996,
          145.7262279443651,
          145.71845048426098,
          145.72034061142858,
          145.72204711037608,
          145.705411261342,
          145.70525954,
          145.71654739437642,
          145.72523435955557,
          145.72184829802197,
          145.7044341189931,
          145.70415831098123,
          145.70070717030592,
          145.7024660939969,
          145.70474363410293,
          145.7028105917947,
          145.7205253826984,
          145.72162705968253,
          145.7008777087542,
          145.71833360891534,
          145.71946146355558,
          145.725109125118,
          145.70170189842872,
          145.7062784714161,
          145.70369920945535,
          145.7020774737143,
          145.70362011296297,
          145.71641298888886,
          145.72295406,
          145.7038312268934,
          145.7195534347842,
          145.70848006666668,
          145.72724859111113,
          145.72071902776014,
          145.70470016,
          145.7016487413492,
          145.70747737727106,
          145.70829340499998,
          145.705580862278,
          145.7053453531433,
          145.71996030272007,
          145.7055989231746,
          145.7231624263492
         ],
         "y": [
          -16.811134827811966,
          -16.808895705493768,
          -16.807834716666665,
          -16.8143050436273,
          -16.812936807734488,
          -16.804987977384837,
          -16.826968370000003,
          -16.817828320220386,
          -16.80447368214008,
          -16.805058677277536,
          -16.802167266232964,
          -16.81020124068027,
          -16.813870893291153,
          -16.816783470093796,
          -16.823395096785713,
          -16.80085263199375,
          -16.81084477045635,
          -16.805974232275133,
          -16.80882722103117,
          -16.80378268543651,
          -16.811288735266956,
          -16.812685001587,
          -16.8158602224127,
          -16.808452507464253,
          -16.81192784574956,
          -16.806425531482407,
          -16.802970603174604,
          -16.81548668968488,
          -16.802655360458555,
          -16.807326957142855,
          -16.803904139707793,
          -16.819603423555556,
          -16.81360968087912,
          -16.806818836163835,
          -16.816010802481962,
          -16.80180909740593,
          -16.798766024032634,
          -16.808976151836735,
          -16.815099141050062,
          -16.824966802857144,
          -16.811956352424243,
          -16.80950238233987,
          -16.811012130249434,
          -16.810112182127945,
          -16.808073381313932,
          -16.814245830174123,
          -16.80733218939263,
          -16.810846119444445,
          -16.81056097673016,
          -16.80839644670707,
          -16.8137286838744,
          -16.80608764727273,
          -16.813663738297258,
          -16.815474371965532,
          -16.803831496986138,
          -16.803717573665732,
          -16.80661767774725,
          -16.81428559206349,
          -16.810283196507935,
          -16.811813142857144,
          -16.811986394708807,
          -16.80322197953824,
          -16.80401346275613,
          -16.808588284547618,
          -16.803214403924965,
          -16.809205661777778,
          -16.81150286915307,
          -16.806314272751322,
          -16.8067268111803,
          -16.812560348862434,
          -16.80252114079365,
          -16.81579664730159,
          -16.811907766805554,
          -16.81114933266234,
          -16.82750374,
          -16.809710016760768,
          -16.804348204751175,
          -16.807042719866246,
          -16.809773125470084,
          -16.805270130501444,
          -16.813377200569988,
          -16.802910051721295,
          -16.805922071100532,
          -16.814615144887654,
          -16.815118025299146,
          -16.824033360952384,
          -16.806962566782104,
          -16.810216766214527,
          -16.803270119183672,
          -16.815306873121692,
          -16.81785276865079,
          -16.815015783333333,
          -16.820554607896824,
          -16.81445206,
          -16.80766463952575,
          -16.802420912244898,
          -16.80667248793651,
          -16.807707169240732,
          -16.816920312786518,
          -16.809952951488512,
          -16.80152652103082,
          -16.809370114517705,
          -16.81302245910053,
          -16.811183565600906,
          -16.80776869573211,
          -16.80147420727273,
          -16.81447201802469,
          -16.804468044666667,
          -16.808868005026454,
          -16.805363394575497,
          -16.804001936289684,
          -16.8044910364903,
          -16.8128478757326,
          -16.81331775599464,
          -16.811610046666665,
          -16.802189455301363,
          -16.806035993795096,
          -16.812277138253666,
          -16.808990839015873,
          -16.82838013,
          -16.815928954188035,
          -16.801778900000002,
          -16.81735956620859,
          -16.805227616349207,
          -16.808434286507936,
          -16.80538268125,
          -16.816798794603173,
          -16.810520863403422,
          -16.805594746009298,
          -16.8187786410696,
          -16.808371363333332,
          -16.81262020924603,
          -16.81153385213675,
          -16.8075273976004,
          -16.809421650333334,
          -16.816767271004274,
          -16.813584672275873,
          -16.815444844808802,
          -16.811139748253968,
          -16.80941389000333,
          -16.81465393022432,
          -16.804018701125543,
          -16.813630767370128,
          -16.81439712890788,
          -16.81165145015873,
          -16.811063647876164,
          -16.81232473501102,
          -16.802620341904763,
          -16.811087517858066,
          -16.803404793561008,
          -16.812611030449954,
          -16.80298866176871,
          -16.81201064242491,
          -16.809280446153846,
          -16.806989649903798,
          -16.816997734931128,
          -16.80363793238095,
          -16.814095061099888,
          -16.810044783571428,
          -16.81470681103854,
          -16.80347247388889,
          -16.80729911523077,
          -16.82342017021645,
          -16.825120588,
          -16.81202388829932,
          -16.811228431555556,
          -16.808597296703297,
          -16.806109218261984,
          -16.815935207489176,
          -16.803986697546897,
          -16.807998197549857,
          -16.81592952977393,
          -16.814552389526003,
          -16.810543300119047,
          -16.802813087047618,
          -16.801161556363635,
          -16.812006418227515,
          -16.809385457333335,
          -16.80778759736646,
          -16.80356741852814,
          -16.804870247058822,
          -16.80812800309368,
          -16.804932488,
          -16.804621206296297,
          -16.809213715555558,
          -16.807001153333335,
          -16.802799822675738,
          -16.818556825223666,
          -16.82589511111111,
          -16.812248753333332,
          -16.807615241326822,
          -16.826042819999998,
          -16.809332070238096,
          -16.805572838797314,
          -16.82792851,
          -16.809616961515985,
          -16.805247294733768,
          -16.815024124098123,
          -16.80318551936508,
          -16.80867388095238
         ]
        }
       ],
       "layout": {
        "title": "Yorkey's Knob Building Cluster Coordinates with 200 Clusters",
        "yaxis": {
         "scaleanchor": "x",
         "scaleratio": 1
        }
       }
      },
      "text/html": [
       "<div id=\"98371be8-3ab3-4242-9f4d-34640fe38dfa\" style=\"height: 525px; width: 100%;\" class=\"plotly-graph-div\"></div><script type=\"text/javascript\">require([\"plotly\"], function(Plotly) { window.PLOTLYENV=window.PLOTLYENV || {};window.PLOTLYENV.BASE_URL=\"https://plot.ly\";Plotly.newPlot(\"98371be8-3ab3-4242-9f4d-34640fe38dfa\", [{\"name\": \"Cluster 0 Buildings\", \"marker\": {\"color\": \"rgba(25,25,25, 0.75)\", \"size\": 6}, \"mode\": \"markers\", \"y\": [-16.8106362, -16.811296069230767, -16.81100749333333, -16.81153212, -16.81110574, -16.8115934, -16.810830357142862, -16.811159742857143, -16.8108243, -16.81136285555555], \"x\": [145.71648076, 145.71698800769232, 145.71646346, 145.71643622, 145.71693868, 145.716873, 145.71698768571432, 145.71646074285715, 145.71649251428568, 145.71647858888892], \"type\": \"scatter\"}, {\"name\": \"Cluster 1 Buildings\", \"marker\": {\"color\": \"rgba(50,50,50, 0.75)\", \"size\": 6}, \"mode\": \"markers\", \"y\": [-16.808626146153845, -16.80892499090909, -16.809152140000002, -16.80908282, -16.80867298571429, -16.808783466666668, -16.80904335555556, -16.808810388888887, -16.808965055555557], \"x\": [145.70276602307698, 145.70256097272727, 145.70226530000002, 145.70219066, 145.70229351428569, 145.70235616666668, 145.70238447777774, 145.70202855555556, 145.70210124444444], \"type\": \"scatter\"}, {\"name\": \"Cluster 2 Buildings\", \"marker\": {\"color\": \"rgba(75,75,75, 0.75)\", \"size\": 6}, \"mode\": \"markers\", \"y\": [-16.80791854, -16.807850499999994, -16.80767712, -16.80749558, -16.808021259999997, -16.8080453], \"x\": [145.72219748, 145.72156656, 145.72158032000004, 145.72161649999995, 145.7215822, 145.72179295555554], \"type\": \"scatter\"}, {\"name\": \"Cluster 3 Buildings\", \"marker\": {\"color\": \"rgba(100,100,100, 0.75)\", \"size\": 6}, \"mode\": \"markers\", \"y\": [-16.814141509090913, -16.81411645, -16.814013246153852, -16.813986840000002, -16.81429449090909, -16.814376016666667, -16.81421168888889, -16.814554763636366, -16.814532611111108, -16.814272033333335, -16.814450455555562, -16.814710418181818], \"x\": [145.7037461909091, 145.70347155, 145.7036106, 145.70371563999996, 145.70387802727268, 145.7036342083333, 145.70333594444443, 145.70400116363638, 145.70336813333338, 145.70320404444442, 145.70347626666666, 145.70382172727273], \"type\": \"scatter\"}, {\"name\": \"Cluster 4 Buildings\", \"marker\": {\"color\": \"rgba(125,125,125, 0.75)\", \"size\": 6}, \"mode\": \"markers\", \"y\": [-16.813278090909094, -16.81258249090909, -16.813270640000002, -16.81309028, -16.81267416, -16.812682059999997, -16.81278434, -16.812927399999996, -16.81311548, -16.812947228571428, -16.813311985714282, -16.812738, -16.812776344444448], \"x\": [145.72300546363638, 145.72292598181818, 145.72338956, 145.72290149999995, 145.72345837999995, 145.72326578000005, 145.72312168, 145.72368160000005, 145.72298008, 145.72290942857143, 145.72284317142856, 145.7236332777778, 145.72290965555555], \"type\": \"scatter\"}, {\"name\": \"Cluster 5 Buildings\", \"marker\": {\"color\": \"rgba(150,150,150, 0.75)\", \"size\": 6}, \"mode\": \"markers\", \"y\": [-16.804503959999998, -16.80477454, -16.804624342857142, -16.804636799999994, -16.804869155555554, -16.804932511111115, -16.80520004615385, -16.80556498, -16.80530677333333, -16.80504822, -16.80540642222222], \"x\": [145.70437374, 145.70464413999997, 145.70452519999998, 145.70490143333333, 145.70477667777774, 145.70423797777778, 145.70445433076927, 145.7047381, 145.70434430000003, 145.70444074, 145.70484585555556], \"type\": \"scatter\"}, {\"name\": \"Cluster 6 Buildings\", \"marker\": {\"color\": \"rgba(175,175,175, 0.75)\", \"size\": 6}, \"mode\": \"markers\", \"y\": [-16.82675598, -16.82718076], \"x\": [145.70835466, 145.70872321999997], \"type\": \"scatter\"}, {\"name\": \"Cluster 7 Buildings\", \"marker\": {\"color\": \"rgba(200,200,200, 0.75)\", \"size\": 6}, \"mode\": \"markers\", \"y\": [-16.81762428181818, -16.81777032727273, -16.81831908, -16.8177837, -16.81796662, -16.817386579999994, -16.817998499999998, -16.81754588, -16.817551820000002, -16.817987444444444, -16.81817728888889], \"x\": [145.71859063636361, 145.7185559909091, 145.71900713999997, 145.71898163999995, 145.71896036000004, 145.71859456, 145.71911924, 145.71921814, 145.71900913999997, 145.71855337777774, 145.71853968888888], \"type\": \"scatter\"}, {\"name\": \"Cluster 8 Buildings\", \"marker\": {\"color\": \"rgba(225,225,225, 0.75)\", \"size\": 6}, \"mode\": \"markers\", \"y\": [-16.80451702727273, -16.804545284615386, -16.804430766666666, -16.80449384285714, -16.804424771428568, -16.804430399999998], \"x\": [145.7086788909091, 145.70884666923078, 145.70905090666662, 145.70838982857143, 145.70853245714287, 145.7082657111111], \"type\": \"scatter\"}, {\"name\": \"Cluster 9 Buildings\", \"marker\": {\"color\": \"rgba(250,250,250, 0.75)\", \"size\": 6}, \"mode\": \"markers\", \"y\": [-16.805107560000003, -16.80482404, -16.80524158181818, -16.8046538, -16.80473728, -16.80538504, -16.80488014285714, -16.80514074285714, -16.80458422222222, -16.805022266666665, -16.805497590909088, -16.80562986], \"x\": [145.70035825999997, 145.70083469999997, 145.70082684545457, 145.70074038823532, 145.70028792, 145.70066814, 145.70044184285715, 145.70094952857144, 145.70056508888888, 145.7010844, 145.70057463636363, 145.70039188000004], \"type\": \"scatter\"}, {\"name\": \"Cluster 10 Buildings\", \"marker\": {\"color\": \"rgba(20,20,20, 0.75)\", \"size\": 6}, \"mode\": \"markers\", \"y\": [-16.802224763636364, -16.80145530833333, -16.801877339999994, -16.802412080000003, -16.802563780000003, -16.80206424, -16.802122100000002, -16.802251428571427, -16.802534355555554], \"x\": [145.72049317272732, 145.71998739166668, 145.72019454000005, 145.72062358, 145.72043266, 145.72062566, 145.7201446, 145.7207750285714, 145.72007585555556], \"type\": \"scatter\"}, {\"name\": \"Cluster 11 Buildings\", \"marker\": {\"color\": \"rgba(45,45,45, 0.75)\", \"size\": 6}, \"mode\": \"markers\", \"y\": [-16.81018093333333, -16.81034082, -16.80988934, -16.810318119999998, -16.810363542857143, -16.8100828, -16.81023312857143], \"x\": [145.72377472000005, 145.72369512666668, 145.72437040000003, 145.72408345999997, 145.7239865, 145.72435397142857, 145.72414708571432], \"type\": \"scatter\"}, {\"name\": \"Cluster 12 Buildings\", \"marker\": {\"color\": \"rgba(70,70,70, 0.75)\", \"size\": 6}, \"mode\": \"markers\", \"y\": [-16.81357216, -16.81357046, -16.81387394, -16.81350505714286, -16.813525114285714, -16.81388022222222, -16.813837611111108, -16.81389911111111, -16.814290484615384, -16.814329280000006, -16.81429638571429], \"x\": [145.71943826, 145.71926266, 145.71924366, 145.7188601285714, 145.71905382857145, 145.71943145555554, 145.71882123333333, 145.71903564444446, 145.7187918230769, 145.71921892, 145.71899188571427], \"type\": \"scatter\"}, {\"name\": \"Cluster 13 Buildings\", \"marker\": {\"color\": \"rgba(95,95,95, 0.75)\", \"size\": 6}, \"mode\": \"markers\", \"y\": [-16.816789242857144, -16.81702167142857, -16.816740318181818, -16.816667972727274, -16.816693722222222, -16.816699733333333, -16.81694078888889, -16.816714311111113], \"x\": [145.70151864285714, 145.70154870000005, 145.7012675909091, 145.70089158181815, 145.70099696666668, 145.70107943333338, 145.70113462222218, 145.70118089999997], \"type\": \"scatter\"}, {\"name\": \"Cluster 14 Buildings\", \"marker\": {\"color\": \"rgba(120,120,120, 0.75)\", \"size\": 6}, \"mode\": \"markers\", \"y\": [-16.822938880000002, -16.8230915, -16.82349826, -16.823505219999998, -16.823633899999994, -16.823268759999998, -16.82338894, -16.823835314285713], \"x\": [145.70430038, 145.70429043999997, 145.70452817999995, 145.7041621, 145.70415645999995, 145.70426356, 145.70414941999996, 145.7041898], \"type\": \"scatter\"}, {\"name\": \"Cluster 15 Buildings\", \"marker\": {\"color\": \"rgba(145,145,145, 0.75)\", \"size\": 6}, \"mode\": \"markers\", \"y\": [-16.80094819090909, -16.801320339999997, -16.801005080000003, -16.800766860000003, -16.80112748, -16.800560060000002, -16.8007319, -16.800694600000003, -16.80084972857143, -16.800795533333332, -16.800407633333336, -16.80102417777778], \"x\": [145.70743888181815, 145.70788606000005, 145.70822406, 145.70756014, 145.70772104000002, 145.70787734, 145.70746626, 145.70803302, 145.7081566, 145.70736453333333, 145.70776667777778, 145.70765043333333], \"type\": \"scatter\"}, {\"name\": \"Cluster 16 Buildings\", \"marker\": {\"color\": \"rgba(170,170,170, 0.75)\", \"size\": 6}, \"mode\": \"markers\", \"y\": [-16.811079639999996, -16.8106492, -16.810989380000002, -16.81081806, -16.810670140000006, -16.810765416666666, -16.81063347142857, -16.811152855555555], \"x\": [145.72169372, 145.72148539999995, 145.72127591999995, 145.72187241999995, 145.72166396, 145.72127966666667, 145.72187018571432, 145.7212219888889], \"type\": \"scatter\"}, {\"name\": \"Cluster 17 Buildings\", \"marker\": {\"color\": \"rgba(195,195,195, 0.75)\", \"size\": 6}, \"mode\": \"markers\", \"y\": [-16.80598291851852, -16.806059400000002, -16.80589508, -16.80599574, -16.805979360000002, -16.80596594, -16.805680920000004, -16.805912760000002, -16.806147214285712, -16.806063322222222, -16.8060339], \"x\": [145.72274161481482, 145.7224094, 145.72197144, 145.72220866, 145.72229524, 145.72304169999995, 145.7219622, 145.72180085999997, 145.72279024285714, 145.7220106777778, 145.72183172222222], \"type\": \"scatter\"}, {\"name\": \"Cluster 18 Buildings\", \"marker\": {\"color\": \"rgba(220,220,220, 0.75)\", \"size\": 6}, \"mode\": \"markers\", \"y\": [-16.808716146666665, -16.80853862727273, -16.80921260769231, -16.80866988, -16.809419394117647, -16.808847214285713, -16.808767785714284, -16.8084461125], \"x\": [145.70592364666666, 145.7062169181818, 145.70632669999995, 145.70607774, 145.70620024117648, 145.70658388571428, 145.7066463857143, 145.7063235125], \"type\": \"scatter\"}, {\"name\": \"Cluster 19 Buildings\", \"marker\": {\"color\": \"rgba(245,245,245, 0.75)\", \"size\": 6}, \"mode\": \"markers\", \"y\": [-16.803820280000004, -16.80354164, -16.803812, -16.8034423, -16.803546177777775, -16.80391965714286, -16.80402102857143, -16.804158400000002], \"x\": [145.702129, 145.70271464, 145.70266571428567, 145.70239115714287, 145.70221919999997, 145.70253927142858, 145.70235394285714, 145.7022345888889], \"type\": \"scatter\"}, {\"name\": \"Cluster 20 Buildings\", \"marker\": {\"color\": \"rgba(15,15,15, 0.75)\", \"size\": 6}, \"mode\": \"markers\", \"y\": [-16.811041839999998, -16.810989057142855, -16.810976942857142, -16.811275560000002, -16.81131204, -16.81139974, -16.811681720000006, -16.811263559999997, -16.81148312, -16.811482685714285, -16.811269822222222], \"x\": [145.71879968, 145.71861348571431, 145.71843795714284, 145.7184659, 145.71856102, 145.71823114, 145.7186459, 145.71829312000003, 145.71841106000005, 145.71871807142855, 145.71874323333333], \"type\": \"scatter\"}, {\"name\": \"Cluster 21 Buildings\", \"marker\": {\"color\": \"rgba(40,40,40, 0.75)\", \"size\": 6}, \"mode\": \"markers\", \"y\": [-16.812173122222227, -16.812187966666666, -16.812968845454545, -16.81279883846154, -16.81298643846154, -16.812775271428574, -16.813066233333338, -16.812537499999998, -16.81253877142857, -16.812799599999998, -16.812702429999998], \"x\": [145.70255018888892, 145.7027168666667, 145.70303334545454, 145.7029425923077, 145.7027865923077, 145.70238098571426, 145.70259229333337, 145.7023911714286, 145.70259637142857, 145.70213344285713, 145.70258852], \"type\": \"scatter\"}, {\"name\": \"Cluster 22 Buildings\", \"marker\": {\"color\": \"rgba(65,65,65, 0.75)\", \"size\": 6}, \"mode\": \"markers\", \"y\": [-16.81567082, -16.81553758, -16.815808280000002, -16.81592918, -16.816257380000003, -16.815528828571427, -16.815858185714287, -16.816133214285713, -16.81575822222222, -16.816120533333333], \"x\": [145.72067002, 145.72099373999995, 145.71993894000005, 145.72063150000002, 145.72062710000003, 145.72072857142857, 145.72015818571433, 145.7206254, 145.72067364444445, 145.72004742222222], \"type\": \"scatter\"}, {\"name\": \"Cluster 23 Buildings\", \"marker\": {\"color\": \"rgba(90,90,90, 0.75)\", \"size\": 6}, \"mode\": \"markers\", \"y\": [-16.808076309090907, -16.808418142857143, -16.808180385714284, -16.808541814285714, -16.808307966666664, -16.80887254545455, -16.808742245454546, -16.80828300909091, -16.8086189, -16.808510985714285, -16.808425277777776], \"x\": [145.70085423636363, 145.70046282857143, 145.70074577142856, 145.7003382285714, 145.70061711111111, 145.70043671818183, 145.70053115454547, 145.70103066363637, 145.7006724285714, 145.70080810000005, 145.7009268666667], \"type\": \"scatter\"}, {\"name\": \"Cluster 24 Buildings\", \"marker\": {\"color\": \"rgba(115,115,115, 0.75)\", \"size\": 6}, \"mode\": \"markers\", \"y\": [-16.811746672727274, -16.81182622727273, -16.8121399, -16.81201386, -16.81205428, -16.81183694, -16.811523342857143, -16.812016777777778, -16.812192611111108], \"x\": [145.7258079090909, 145.7259983636364, 145.72562608, 145.72607606, 145.72556912, 145.72584832, 145.72572125714285, 145.7253739777778, 145.72613497777778], \"type\": \"scatter\"}, {\"name\": \"Cluster 25 Buildings\", \"marker\": {\"color\": \"rgba(140,140,140, 0.75)\", \"size\": 6}, \"mode\": \"markers\", \"y\": [-16.80603220909091, -16.806376399999998, -16.806201254545456, -16.80629862, -16.806358, -16.806100679999997, -16.80607355714286, -16.806549142857143, -16.806648225, -16.806483, -16.806792442857144, -16.806859811111117, -16.806758566666666], \"x\": [145.70079046363637, 145.70095297272732, 145.70074561818183, 145.70054350000004, 145.70032164, 145.70095796, 145.70064282857143, 145.70072552857144, 145.7005630375, 145.7008714222222, 145.7011273, 145.7009791888889, 145.70044433333334], \"type\": \"scatter\"}, {\"name\": \"Cluster 26 Buildings\", \"marker\": {\"color\": \"rgba(165,165,165, 0.75)\", \"size\": 6}, \"mode\": \"markers\", \"y\": [-16.80278766, -16.802728339999998, -16.80300096, -16.80285398, -16.80327766, -16.802967644444443, -16.80317797777778], \"x\": [145.70479236, 145.70523806, 145.70509668, 145.70528486, 145.70480532, 145.70468101111112, 145.70496914444448], \"type\": \"scatter\"}, {\"name\": \"Cluster 27 Buildings\", \"marker\": {\"color\": \"rgba(190,190,190, 0.75)\", \"size\": 6}, \"mode\": \"markers\", \"y\": [-16.81538828, -16.815084609090906, -16.814961922222224, -16.81572972, -16.81536042857143, -16.815446142857144, -16.815406885714285, -16.81544921111111, -16.815852586666665, -16.815377085714278, -16.815071457142857, -16.815198488888882, -16.815746554545456, -16.815719627272728, -16.81578605384615, -16.815806338461538, -16.81568642222222, -16.8156886], \"x\": [145.70061732, 145.70102670000003, 145.70141937777774, 145.70110472000005, 145.70047631428568, 145.70127315714285, 145.70096595714287, 145.70112380000003, 145.70178436666666, 145.70164055714287, 145.70148527142854, 145.70155891111108, 145.70093192727273, 145.70076337272727, 145.70126497692306, 145.7016133769231, 145.70060484444446, 145.70046202222224], \"type\": \"scatter\"}, {\"name\": \"Cluster 28 Buildings\", \"marker\": {\"color\": \"rgba(215,215,215, 0.75)\", \"size\": 6}, \"mode\": \"markers\", \"y\": [-16.80242872, -16.802973780000002, -16.80264288, -16.80236994, -16.802523639999997, -16.80229232857143, -16.802743777777778, -16.80286057777778, -16.803062599999997], \"x\": [145.70186574, 145.70149814, 145.70117578000003, 145.70139844, 145.70132906, 145.70167011428572, 145.70104677777778, 145.70169372222222, 145.7013554], \"type\": \"scatter\"}, {\"name\": \"Cluster 29 Buildings\", \"marker\": {\"color\": \"rgba(240,240,240, 0.75)\", \"size\": 6}, \"mode\": \"markers\", \"y\": [-16.80698264, -16.80718182, -16.80729786, -16.80697624, -16.807696999999994, -16.80766546, -16.807487679999998], \"x\": [145.72375812, 145.72364438, 145.72352192, 145.72346546, 145.72368369999998, 145.72343963999995, 145.72349531999996], \"type\": \"scatter\"}, {\"name\": \"Cluster 30 Buildings\", \"marker\": {\"color\": \"rgba(10,10,10, 0.75)\", \"size\": 6}, \"mode\": \"markers\", \"y\": [-16.80419860909091, -16.80393188, -16.80375104, -16.804276859999998, -16.803821640000002, -16.803883120000002, -16.80340154, -16.803968428571427], \"x\": [145.72086992727267, 145.72152025999995, 145.72068894, 145.7210362, 145.72099254, 145.7212939, 145.72095386, 145.7207775], \"type\": \"scatter\"}, {\"name\": \"Cluster 31 Buildings\", \"marker\": {\"color\": \"rgba(35,35,35, 0.75)\", \"size\": 6}, \"mode\": \"markers\", \"y\": [-16.81920846, -16.819410457142858, -16.82006164, -16.81941752, -16.81992808, -16.820034319999998, -16.81930648, -16.81965676, -16.82000256, -16.819598857142857, -16.81950421428571, -16.819719728571428, -16.81921834285714, -16.819397388888888, -16.819586544444444], \"x\": [145.71961993999997, 145.7193886285714, 145.71908678, 145.71969384, 145.71915206, 145.71926458000004, 145.71947344, 145.7192693, 145.71962334, 145.71967565714286, 145.71936361428575, 145.7190367285714, 145.71932694285715, 145.71874198888892, 145.71884278888888], \"type\": \"scatter\"}, {\"name\": \"Cluster 32 Buildings\", \"marker\": {\"color\": \"rgba(60,60,60, 0.75)\", \"size\": 6}, \"mode\": \"markers\", \"y\": [-16.813237880000006, -16.813209540000006, -16.81376048, -16.813379819999998, -16.813997540000006, -16.813407520000002, -16.8134695, -16.81378788, -16.8133233, -16.8138908, -16.81388782, -16.81350977142857, -16.814064000000002], \"x\": [145.72127342000005, 145.72098986, 145.72096904, 145.72134297999997, 145.7209274, 145.72147716, 145.72099214, 145.72126985999995, 145.72096034, 145.72141074, 145.72092981999995, 145.72141004285714, 145.72134269999998], \"type\": \"scatter\"}, {\"name\": \"Cluster 33 Buildings\", \"marker\": {\"color\": \"rgba(85,85,85, 0.75)\", \"size\": 6}, \"mode\": \"markers\", \"y\": [-16.806348636363634, -16.807014036363636, -16.806771807692307, -16.80689908, -16.806234099999998, -16.807178772727273, -16.80728542], \"x\": [145.70517969999997, 145.70532437272723, 145.70513979999996, 145.70526977999995, 145.70526717777776, 145.70486495454546, 145.704804], \"type\": \"scatter\"}, {\"name\": \"Cluster 34 Buildings\", \"marker\": {\"color\": \"rgba(110,110,110, 0.75)\", \"size\": 6}, \"mode\": \"markers\", \"y\": [-16.81619945454545, -16.81578704, -16.815995700000002, -16.81623802, -16.81578012, -16.816214400000003, -16.8163201, -16.815762928571427, -16.8161776, -16.816159222222225, -16.815723600000002, -16.815771444444447], \"x\": [145.71926076363638, 145.71978338, 145.71897713999996, 145.71947142, 145.71958632, 145.71889002857142, 145.71982727142858, 145.71940622857144, 145.71908965714286, 145.71966619999998, 145.71901136666668, 145.7192310333334], \"type\": \"scatter\"}, {\"name\": \"Cluster 35 Buildings\", \"marker\": {\"color\": \"rgba(135,135,135, 0.75)\", \"size\": 6}, \"mode\": \"markers\", \"y\": [-16.80156380909091, -16.801706176923076, -16.801849699999998, -16.80184196, -16.801317140000002, -16.80169966, -16.80198484, -16.80144182, -16.80185147142857, -16.80214094, -16.802015680000004, -16.80229597142857], \"x\": [145.70878238181817, 145.70830319230768, 145.7090354, 145.70910562, 145.70849928, 145.70891125999995, 145.70915054, 145.70862416, 145.70844662857144, 145.70868586, 145.70853166, 145.70879594285714], \"type\": \"scatter\"}, {\"name\": \"Cluster 36 Buildings\", \"marker\": {\"color\": \"rgba(160,160,160, 0.75)\", \"size\": 6}, \"mode\": \"markers\", \"y\": [-16.798944618181814, -16.798807384615387, -16.798558359999998, -16.798753733333335], \"x\": [145.70486191818182, 145.70383706153842, 145.70563972, 145.7054777], \"type\": \"scatter\"}, {\"name\": \"Cluster 37 Buildings\", \"marker\": {\"color\": \"rgba(185,185,185, 0.75)\", \"size\": 6}, \"mode\": \"markers\", \"y\": [-16.80884342, -16.808936179999996, -16.80866832, -16.808620933333334, -16.80948514285714, -16.80912988888889, -16.809149177777773], \"x\": [145.72256894, 145.7226608, 145.72275794, 145.7225810333333, 145.72254101428572, 145.72260923333332, 145.72281612222224], \"type\": \"scatter\"}, {\"name\": \"Cluster 38 Buildings\", \"marker\": {\"color\": \"rgba(210,210,210, 0.75)\", \"size\": 6}, \"mode\": \"markers\", \"y\": [-16.815322876923076, -16.814936644444444, -16.815034311111113, -16.81496516153846, -16.815164830769227, -16.815275585714286, -16.81522126666667, -16.81473598888889, -16.815487, -16.814847744444442], \"x\": [145.70479866153846, 145.7047116, 145.7048207, 145.70398804615385, 145.70443711538462, 145.70413001428568, 145.70424472222226, 145.70408997777776, 145.70435957777775, 145.70419230000005], \"type\": \"scatter\"}, {\"name\": \"Cluster 39 Buildings\", \"marker\": {\"color\": \"rgba(235,235,235, 0.75)\", \"size\": 6}, \"mode\": \"markers\", \"y\": [-16.825110940000002, -16.8251073, -16.82504026, -16.8243029, -16.82510772, -16.825143100000002, -16.824955399999997], \"x\": [145.7042848, 145.70452866, 145.70391764, 145.70432300000004, 145.70464711999998, 145.70479430000003, 145.70467378571428], \"type\": \"scatter\"}, {\"name\": \"Cluster 40 Buildings\", \"marker\": {\"color\": \"rgba(5,5,5, 0.75)\", \"size\": 6}, \"mode\": \"markers\", \"y\": [-16.8120534, -16.8121702, -16.81165842, -16.81193788, -16.811746680000002, -16.81217754, -16.8118367, -16.811812033333336, -16.812207677777778, -16.811745955555555, -16.81217339], \"x\": [145.72350146, 145.72292964000005, 145.72316686, 145.72331288, 145.72332068, 145.7232988, 145.72311615714287, 145.7237, 145.72314987777776, 145.72295055555554, 145.72354324000003], \"type\": \"scatter\"}, {\"name\": \"Cluster 41 Buildings\", \"marker\": {\"color\": \"rgba(30,30,30, 0.75)\", \"size\": 6}, \"mode\": \"markers\", \"y\": [-16.809802041176475, -16.80963266, -16.809309399999997, -16.80926834, -16.80944678, -16.809385459999998, -16.80931314, -16.80952488, -16.80975512222222, -16.809586000000003], \"x\": [145.72037297647063, 145.72020518, 145.72053946, 145.72029884, 145.72091645999996, 145.72034312, 145.72065898, 145.72034044, 145.72072284444445, 145.72080855555558], \"type\": \"scatter\"}, {\"name\": \"Cluster 42 Buildings\", \"marker\": {\"color\": \"rgba(55,55,55, 0.75)\", \"size\": 6}, \"mode\": \"markers\", \"y\": [-16.810751160000002, -16.810723455555557, -16.81122782, -16.81103322857143, -16.811084514285714, -16.81102832222222, -16.81123641111111], \"x\": [145.7265426, 145.72671534444444, 145.72646734, 145.72639617142858, 145.72657008571431, 145.7262066777778, 145.72632080000002], \"type\": \"scatter\"}, {\"name\": \"Cluster 43 Buildings\", \"marker\": {\"color\": \"rgba(80,80,80, 0.75)\", \"size\": 6}, \"mode\": \"markers\", \"y\": [-16.809925336363634, -16.810076000000002, -16.81010654, -16.8100108, -16.810163199999998, -16.810193199999997, -16.80998434, -16.80997438, -16.81009938, -16.8100849, -16.80998374444444, -16.80993831111111, -16.8104181, -16.81035997142857, -16.810364528571426], \"x\": [145.71675392727272, 145.71665926, 145.71694014, 145.71691914000004, 145.71677414, 145.71696518000005, 145.71677448000003, 145.71667646, 145.7168447, 145.71674624, 145.71712491111109, 145.71735425555553, 145.71717596000005, 145.71678064285715, 145.71697745714286], \"type\": \"scatter\"}, {\"name\": \"Cluster 44 Buildings\", \"marker\": {\"color\": \"rgba(105,105,105, 0.75)\", \"size\": 6}, \"mode\": \"markers\", \"y\": [-16.808028741666664, -16.80815634, -16.8080907, -16.80813872, -16.80800532, -16.8078857, -16.80823818, -16.80791444444445, -16.808202285714284], \"x\": [145.72354815833333, 145.72426534000004, 145.72378650000005, 145.72411609999997, 145.72395822, 145.72387419999998, 145.72394432, 145.72414335555558, 145.7244608], \"type\": \"scatter\"}, {\"name\": \"Cluster 45 Buildings\", \"marker\": {\"color\": \"rgba(130,130,130, 0.75)\", \"size\": 6}, \"mode\": \"markers\", \"y\": [-16.81391322, -16.8139299, -16.814142566666668, -16.813894333333334, -16.81417634, -16.81409576, -16.814336200000003, -16.814057580000004, -16.8142253, -16.814358640000002, -16.81465728181818, -16.81428778, -16.81447312857143, -16.81465612222222, -16.814483300000003], \"x\": [145.72215644, 145.72229094, 145.72228498, 145.72188387333333, 145.72217918000004, 145.72183106, 145.72180780000005, 145.72239414000003, 145.72190972, 145.72197838000002, 145.72224607272733, 145.72224046000005, 145.72184094285714, 145.72176467777774, 145.72229246666666], \"type\": \"scatter\"}, {\"name\": \"Cluster 46 Buildings\", \"marker\": {\"color\": \"rgba(155,155,155, 0.75)\", \"size\": 6}, \"mode\": \"markers\", \"y\": [-16.807070663636367, -16.807260993333333, -16.807470520000006, -16.807157, -16.807306742857143, -16.807429071428572, -16.807492514285716, -16.80760188888889, -16.8077184, -16.80715958888889, -16.8069867], \"x\": [145.70146521818182, 145.70201436666667, 145.70206804, 145.70162298571432, 145.7017078, 145.70220091428567, 145.70176167142856, 145.7019738222222, 145.7018373111111, 145.70188616666667, 145.70178782222226], \"type\": \"scatter\"}, {\"name\": \"Cluster 47 Buildings\", \"marker\": {\"color\": \"rgba(180,180,180, 0.75)\", \"size\": 6}, \"mode\": \"markers\", \"y\": [-16.81060508, -16.81094711818182, -16.81109348181818, -16.81072146, -16.810708277777778, -16.81105247777778, -16.810855800000002, -16.810785259999996], \"x\": [145.70172634, 145.7019689909091, 145.70186768181816, 145.70170589999995, 145.7019444, 145.7016639, 145.70169034444447, 145.70211242000005], \"type\": \"scatter\"}, {\"name\": \"Cluster 48 Buildings\", \"marker\": {\"color\": \"rgba(205,205,205, 0.75)\", \"size\": 6}, \"mode\": \"markers\", \"y\": [-16.81016654, -16.81067456, -16.810279259999998, -16.81032545714286, -16.810708685714285, -16.810753511111113, -16.81062798, -16.810682500000002, -16.810629340000002, -16.810761933333332], \"x\": [145.72254006000003, 145.72263610000002, 145.72247256, 145.72269391428568, 145.72279301428574, 145.72302157777776, 145.72225054, 145.72242994000004, 145.72206109999996, 145.7224681111111], \"type\": \"scatter\"}, {\"name\": \"Cluster 49 Buildings\", \"marker\": {\"color\": \"rgba(230,230,230, 0.75)\", \"size\": 6}, \"mode\": \"markers\", \"y\": [-16.80790254, -16.80818052, -16.8085733, -16.808229211111108, -16.808357166666664, -16.807986855555555, -16.808487318181818, -16.808593585714288, -16.808863014285713, -16.808790955555555], \"x\": [145.70432608, 145.70468472000005, 145.70473418571427, 145.70449096666667, 145.70456274444442, 145.7042386, 145.70403956363634, 145.70414674285715, 145.70444932857143, 145.70430563333332], \"type\": \"scatter\"}, {\"name\": \"Cluster 50 Buildings\", \"marker\": {\"color\": \"rgba(255,255,255, 0.75)\", \"size\": 6}, \"mode\": \"markers\", \"y\": [-16.813460371428572, -16.813137645454546, -16.81416581818182, -16.813831446153845, -16.81383928, -16.81372722857143, -16.813499585714286, -16.81414345714286, -16.813753322222222], \"x\": [145.70058834285715, 145.70028311818183, 145.70077551818184, 145.7007999, 145.70053148000005, 145.70050621428572, 145.70074164285714, 145.70048158571427, 145.70066461111108], \"type\": \"scatter\"}, {\"name\": \"Cluster 51 Buildings\", \"marker\": {\"color\": \"rgba(25,25,25, 0.75)\", \"size\": 6}, \"mode\": \"markers\", \"y\": [-16.80587942, -16.80597128, -16.80600904, -16.80629433636364, -16.80628416], \"x\": [145.72122084, 145.72091382, 145.72117158, 145.72100674545453, 145.72105232], \"type\": \"scatter\"}, {\"name\": \"Cluster 52 Buildings\", \"marker\": {\"color\": \"rgba(50,50,50, 0.75)\", \"size\": 6}, \"mode\": \"markers\", \"y\": [-16.813780279999996, -16.813433081818182, -16.813507499999996, -16.813401842857143, -16.814218840000002, -16.813475814285713, -16.813758585714282, -16.813913133333333, -16.81348456666667], \"x\": [145.71861806, 145.71830047272724, 145.7180742, 145.71787605714286, 145.71814178, 145.7186517, 145.7181901142857, 145.71799635555558, 145.71848426666668], \"type\": \"scatter\"}, {\"name\": \"Cluster 53 Buildings\", \"marker\": {\"color\": \"rgba(75,75,75, 0.75)\", \"size\": 6}, \"mode\": \"markers\", \"y\": [-16.815054654545452, -16.815687020000002, -16.8155238, -16.815251928571428, -16.8155264, -16.81534873333333, -16.81519302222222, -16.815334544444443, -16.81589786153846, -16.815925755], \"x\": [145.70225564545456, 145.70264972, 145.70295532, 145.70283334285713, 145.70250848571433, 145.70269319999997, 145.70232316666667, 145.70237762222226, 145.7023719076923, 145.70259008], \"type\": \"scatter\"}, {\"name\": \"Cluster 54 Buildings\", \"marker\": {\"color\": \"rgba(100,100,100, 0.75)\", \"size\": 6}, \"mode\": \"markers\", \"y\": [-16.804015792307688, -16.803879158823527, -16.80385196, -16.803833079999997, -16.80400002, -16.803676, -16.803890514285715, -16.8039978, -16.803489866666666, -16.803680777777775], \"x\": [145.70610567692302, 145.70629510588233, 145.7058084, 145.70563239999996, 145.70558373999995, 145.70574802857143, 145.70593017142858, 145.70591202857142, 145.70605215555554, 145.70624171111112], \"type\": \"scatter\"}, {\"name\": \"Cluster 55 Buildings\", \"marker\": {\"color\": \"rgba(125,125,125, 0.75)\", \"size\": 6}, \"mode\": \"markers\", \"y\": [-16.80332244705882, -16.80394882, -16.803896459999994, -16.80372128571429, -16.803698855555556], \"x\": [145.72320401176472, 145.72289666, 145.72274206, 145.72308344285713, 145.7232786666667], \"type\": \"scatter\"}, {\"name\": \"Cluster 56 Buildings\", \"marker\": {\"color\": \"rgba(150,150,150, 0.75)\", \"size\": 6}, \"mode\": \"markers\", \"y\": [-16.806457300000005, -16.806362580000002, -16.80625972, -16.806657407692303, -16.806567085714285, -16.806511628571428, -16.80705315555555, -16.807072544444445], \"x\": [145.70672813529413, 145.70661022000004, 145.70673563999995, 145.70630026923078, 145.7061642857143, 145.70688441428572, 145.70678203333333, 145.70710064444444], \"type\": \"scatter\"}, {\"name\": \"Cluster 57 Buildings\", \"marker\": {\"color\": \"rgba(175,175,175, 0.75)\", \"size\": 6}, \"mode\": \"markers\", \"y\": [-16.814201880000002, -16.81438462, -16.8141293, -16.814001457142858, -16.814402066666666, -16.814594228571426], \"x\": [145.71982884, 145.71938244, 145.7198123, 145.71983278571423, 145.71981716666667, 145.7197725], \"type\": \"scatter\"}, {\"name\": \"Cluster 58 Buildings\", \"marker\": {\"color\": \"rgba(200,200,200, 0.75)\", \"size\": 6}, \"mode\": \"markers\", \"y\": [-16.81002208, -16.81015428, -16.810529199999998, -16.81038742, -16.81004808, -16.8105468, -16.810597180000002, -16.810131214285715, -16.810132514285716], \"x\": [145.71849509999996, 145.71853026, 145.71846574, 145.718579, 145.71832688, 145.71883784, 145.71871524, 145.71870429999996, 145.71889298571432], \"type\": \"scatter\"}, {\"name\": \"Cluster 59 Buildings\", \"marker\": {\"color\": \"rgba(225,225,225, 0.75)\", \"size\": 6}, \"mode\": \"markers\", \"y\": [-16.81146978, -16.81139724, -16.811973100000003, -16.811944039999997, -16.81203746, -16.811934080000004, -16.811936299999996], \"x\": [145.72476348, 145.72480832, 145.72502158, 145.72518574, 145.72484881999995, 145.72462108000005, 145.72443049999995], \"type\": \"scatter\"}, {\"name\": \"Cluster 60 Buildings\", \"marker\": {\"color\": \"rgba(250,250,250, 0.75)\", \"size\": 6}, \"mode\": \"markers\", \"y\": [-16.811716154545458, -16.811801435294118, -16.8122215, -16.811826059999998, -16.81212602, -16.812181699999996, -16.812175657142856, -16.811696211111116, -16.81213281428571], \"x\": [145.71742242727268, 145.7176799058824, 145.71770261999995, 145.7170936, 145.71718944, 145.71733508, 145.71752165714287, 145.71714386666662, 145.71695727142858], \"type\": \"scatter\"}, {\"name\": \"Cluster 61 Buildings\", \"marker\": {\"color\": \"rgba(20,20,20, 0.75)\", \"size\": 6}, \"mode\": \"markers\", \"y\": [-16.80299366363636, -16.802870063636366, -16.80305516, -16.80319874, -16.80341212857143, -16.80342886, -16.803162399999998, -16.803344744444445, -16.803532055555557], \"x\": [145.70078544545453, 145.70091689090913, 145.70061404, 145.70044854, 145.70029651428572, 145.70088674, 145.70117292857142, 145.70108458888888, 145.70075496666666], \"type\": \"scatter\"}, {\"name\": \"Cluster 62 Buildings\", \"marker\": {\"color\": \"rgba(45,45,45, 0.75)\", \"size\": 6}, \"mode\": \"markers\", \"y\": [-16.80389696, -16.80364292, -16.8039948, -16.803901439999994, -16.80416657142857, -16.804198088888892, -16.80420896, -16.803779242857143, -16.803966749999994, -16.804069385714286, -16.804322971428572], \"x\": [145.70335396000004, 145.70370666, 145.70326108, 145.70393840000003, 145.70335375714288, 145.70352802222226, 145.70413828, 145.70381310000002, 145.7043123875, 145.70406570000003, 145.70429552857144], \"type\": \"scatter\"}, {\"name\": \"Cluster 63 Buildings\", \"marker\": {\"color\": \"rgba(70,70,70, 0.75)\", \"size\": 6}, \"mode\": \"markers\", \"y\": [-16.808966488, -16.80883724, -16.80842036, -16.80827116, -16.80863264, -16.808412299999997, -16.80834482, -16.808732340000002, -16.808401519999997, -16.808401500000002, -16.80854064, -16.8085868, -16.80848064, -16.808724571428574, -16.808745599999998, -16.808913933333333], \"x\": [145.72081815200002, 145.720327, 145.72055986, 145.72047046, 145.72043237999995, 145.72048634, 145.72076328, 145.72075316, 145.72096216, 145.72039308, 145.72077966, 145.72097451999997, 145.72045562, 145.72035598571432, 145.72091637777774, 145.72051109999995], \"type\": \"scatter\"}, {\"name\": \"Cluster 64 Buildings\", \"marker\": {\"color\": \"rgba(95,95,95, 0.75)\", \"size\": 6}, \"mode\": \"markers\", \"y\": [-16.803555918181818, -16.802945779999998, -16.803288279999997, -16.80333594, -16.8030215, -16.80323222, -16.802984579999997, -16.803410860000003, -16.803154557142857], \"x\": [145.71043621818183, 145.71020886000005, 145.71058776, 145.71037388, 145.71003169999997, 145.71036153999995, 145.71028446, 145.71054964, 145.71020264285715], \"type\": \"scatter\"}, {\"name\": \"Cluster 65 Buildings\", \"marker\": {\"color\": \"rgba(120,120,120, 0.75)\", \"size\": 6}, \"mode\": \"markers\", \"y\": [-16.8089361, -16.809101599999998, -16.809535840000002, -16.80909408, -16.809360688888887], \"x\": [145.72576753999996, 145.7258645, 145.72565840000001, 145.72558998000005, 145.72598854444445], \"type\": \"scatter\"}, {\"name\": \"Cluster 66 Buildings\", \"marker\": {\"color\": \"rgba(145,145,145, 0.75)\", \"size\": 6}, \"mode\": \"markers\", \"y\": [-16.81114548, -16.811268820000002, -16.81134968, -16.811079366666664, -16.81152603076923, -16.811639007692307, -16.811864919999998, -16.81166314, -16.81178412, -16.81145274, -16.811758255555556], \"x\": [145.71926944, 145.71970349999998, 145.71918738, 145.71962802222222, 145.71917774615386, 145.71965370769232, 145.71927426, 145.71944116, 145.71927806, 145.71964748, 145.7190968444444], \"type\": \"scatter\"}, {\"name\": \"Cluster 67 Buildings\", \"marker\": {\"color\": \"rgba(170,170,170, 0.75)\", \"size\": 6}, \"mode\": \"markers\", \"y\": [-16.806050171428573, -16.806143842857143, -16.806273533333332, -16.806381488888892, -16.80647287777778, -16.806563722222222], \"x\": [145.70145894285713, 145.70155471428572, 145.70166843333334, 145.70175172222218, 145.70184015555554, 145.7019241888889], \"type\": \"scatter\"}, {\"name\": \"Cluster 68 Buildings\", \"marker\": {\"color\": \"rgba(195,195,195, 0.75)\", \"size\": 6}, \"mode\": \"markers\", \"y\": [-16.807118576923074, -16.80660436, -16.806842080000006, -16.80661372, -16.806659185714285, -16.806522944444445], \"x\": [145.72473096153846, 145.72440774, 145.72467181999997, 145.72428232, 145.7246012, 145.72447956666667], \"type\": \"scatter\"}, {\"name\": \"Cluster 69 Buildings\", \"marker\": {\"color\": \"rgba(220,220,220, 0.75)\", \"size\": 6}, \"mode\": \"markers\", \"y\": [-16.81240724, -16.812599119999998, -16.8123116, -16.81222134, -16.812763920000002, -16.81262436, -16.812651171428573, -16.813009342857143, -16.81273362857143, -16.812549014285715, -16.812271311111108, -16.812582138095234], \"x\": [145.72149022, 145.72103942, 145.72110904000004, 145.72110072, 145.72145332, 145.72114736, 145.72153531428572, 145.72116292857143, 145.72102028571427, 145.72153724285715, 145.72155552222225, 145.7219978904762], \"type\": \"scatter\"}, {\"name\": \"Cluster 70 Buildings\", \"marker\": {\"color\": \"rgba(245,245,245, 0.75)\", \"size\": 6}, \"mode\": \"markers\", \"y\": [-16.802576786666666, -16.802318385714287, -16.80266825], \"x\": [145.72249606666668, 145.72201148571432, 145.72229643], \"type\": \"scatter\"}, {\"name\": \"Cluster 71 Buildings\", \"marker\": {\"color\": \"rgba(15,15,15, 0.75)\", \"size\": 6}, \"mode\": \"markers\", \"y\": [-16.81567522, -16.815969680000002, -16.815710022222227, -16.81559426666667, -16.81603194, -16.815647814285715, -16.815342228571428, -16.81621354285714, -16.81598511111111], \"x\": [145.71863764, 145.71856164000005, 145.71843054444446, 145.71829119999995, 145.71879704, 145.71883908571428, 145.71818224285715, 145.71825468571433, 145.71830678888892], \"type\": \"scatter\"}, {\"name\": \"Cluster 72 Buildings\", \"marker\": {\"color\": \"rgba(40,40,40, 0.75)\", \"size\": 6}, \"mode\": \"markers\", \"y\": [-16.811990029999997, -16.81208514, -16.811374620000002, -16.811715966666668, -16.811527466666664, -16.8118945, -16.812425344444446, -16.812249066666666], \"x\": [145.72049191000005, 145.7200949, 145.72013130000002, 145.7201175888889, 145.72011030000004, 145.72010083333333, 145.72001976666667, 145.7200580111111], \"type\": \"scatter\"}, {\"name\": \"Cluster 73 Buildings\", \"marker\": {\"color\": \"rgba(65,65,65, 0.75)\", \"size\": 6}, \"mode\": \"markers\", \"y\": [-16.810806671428573, -16.811197054545456, -16.81106638, -16.81129862, -16.81123105, -16.81129622], \"x\": [145.72359498571427, 145.72290556363637, 145.72322586, 145.72322791999997, 145.72370421250002, 145.72351121], \"type\": \"scatter\"}, {\"name\": \"Cluster 74 Buildings\", \"marker\": {\"color\": \"rgba(90,90,90, 0.75)\", \"size\": 6}, \"mode\": \"markers\", \"y\": [-16.82743182, -16.82757566], \"x\": [145.70497666, 145.70555496], \"type\": \"scatter\"}, {\"name\": \"Cluster 75 Buildings\", \"marker\": {\"color\": \"rgba(115,115,115, 0.75)\", \"size\": 6}, \"mode\": \"markers\", \"y\": [-16.8096262, -16.80980897272727, -16.810006469230768, -16.80987994, -16.80980872, -16.80939224, -16.80982002, -16.8094441, -16.809603488888882], \"x\": [145.7236917090909, 145.7236645181818, 145.72372056923075, 145.72379073999997, 145.72379904, 145.72365638000005, 145.72386212, 145.72378928571428, 145.72387541111112], \"type\": \"scatter\"}, {\"name\": \"Cluster 76 Buildings\", \"marker\": {\"color\": \"rgba(140,140,140, 0.75)\", \"size\": 6}, \"mode\": \"markers\", \"y\": [-16.80413056, -16.804174879999998, -16.804222319999994, -16.80422332, -16.804531920000002, -16.804526700000004, -16.804035014285713, -16.804405890909095, -16.804610507692303, -16.80439136, -16.80464562857143, -16.804280355555562], \"x\": [145.70146456000003, 145.70173574, 145.70165294, 145.70131696, 145.70120991999997, 145.70181818000003, 145.70165452857142, 145.7011064090909, 145.70166052307692, 145.70193066, 145.7015121, 145.7021157222222], \"type\": \"scatter\"}, {\"name\": \"Cluster 77 Buildings\", \"marker\": {\"color\": \"rgba(165,165,165, 0.75)\", \"size\": 6}, \"mode\": \"markers\", \"y\": [-16.807065645454546, -16.806926927272727, -16.807217661538466, -16.806646484615385, -16.807243946153847, -16.807125092307693, -16.80672075714286, -16.807395244444443], \"x\": [145.70378031818183, 145.7039166181818, 145.70372516153847, 145.7042266846154, 145.70424955384613, 145.70437516153842, 145.70409107142856, 145.70365342222226], \"type\": \"scatter\"}, {\"name\": \"Cluster 78 Buildings\", \"marker\": {\"color\": \"rgba(190,190,190, 0.75)\", \"size\": 6}, \"mode\": \"markers\", \"y\": [-16.809220492307695, -16.809801139999998, -16.809310399999998, -16.81024434, -16.80974278, -16.810113339999994, -16.8093368, -16.809462779999997, -16.810169000000002, -16.8101875, -16.809977744444446, -16.809711188888887], \"x\": [145.72158993076926, 145.72160682, 145.72208498, 145.72191378, 145.72191526, 145.72197652, 145.72184274, 145.72200696, 145.72152826, 145.72139388, 145.72200932222222, 145.72145322222227], \"type\": \"scatter\"}, {\"name\": \"Cluster 79 Buildings\", \"marker\": {\"color\": \"rgba(215,215,215, 0.75)\", \"size\": 6}, \"mode\": \"markers\", \"y\": [-16.805393860000002, -16.80501408, -16.805145585714286, -16.805194509090914, -16.805471877777773, -16.805137100000003, -16.80527426, -16.80552977142857], \"x\": [145.70419464, 145.70404528, 145.70388677142859, 145.7036931090909, 145.70398207777774, 145.7040491, 145.70390116, 145.70384175714287], \"type\": \"scatter\"}, {\"name\": \"Cluster 80 Buildings\", \"marker\": {\"color\": \"rgba(240,240,240, 0.75)\", \"size\": 6}, \"mode\": \"markers\", \"y\": [-16.81338310909091, -16.81284962727273, -16.81397024, -16.81372968, -16.813253960000004, -16.813097857142857, -16.813514977777785, -16.812990222222222, -16.813188733333334, -16.81332542222222, -16.813667288888887, -16.813555288888885], \"x\": [145.7017434090909, 145.70175389090906, 145.70160228, 145.70144850000003, 145.70210092, 145.7020207857143, 145.7013136222222, 145.70172247777774, 145.70172973333334, 145.70127925555553, 145.70189121111113, 145.7018044333333], \"type\": \"scatter\"}, {\"name\": \"Cluster 81 Buildings\", \"marker\": {\"color\": \"rgba(10,10,10, 0.75)\", \"size\": 6}, \"mode\": \"markers\", \"y\": [-16.80264235454546, -16.802657409090912, -16.80298384285714, -16.8026473, -16.802871822222222, -16.803074666666664, -16.803492966666667], \"x\": [145.71969244545457, 145.7192902909091, 145.71950615714286, 145.71984145555552, 145.71934481111109, 145.71978745555555, 145.71892204444444], \"type\": \"scatter\"}, {\"name\": \"Cluster 82 Buildings\", \"marker\": {\"color\": \"rgba(35,35,35, 0.75)\", \"size\": 6}, \"mode\": \"markers\", \"y\": [-16.80599066, -16.80596086363636, -16.80554066923077, -16.805838347058824, -16.80570307777778, -16.80607248, -16.806348400000005], \"x\": [145.7064159, 145.70620727272728, 145.7060716307692, 145.70616834117646, 145.70606917777778, 145.70576018, 145.70600482222218], \"type\": \"scatter\"}, {\"name\": \"Cluster 83 Buildings\", \"marker\": {\"color\": \"rgba(60,60,60, 0.75)\", \"size\": 6}, \"mode\": \"markers\", \"y\": [-16.814399536363634, -16.814591979999996, -16.814167480000002, -16.81478204, -16.81438916, -16.81452938, -16.81481106, -16.815077600000002, -16.81481112, -16.8149302, -16.81440978, -16.814657185714285, -16.814763177777778, -16.81429232857143], \"x\": [145.7208476090909, 145.72081936, 145.72134692000003, 145.72130088, 145.72125327999996, 145.72122745999997, 145.72078159999998, 145.72073404, 145.72171018000003, 145.72122048, 145.72134186, 145.72128425714286, 145.72086766666666, 145.72127395714287], \"type\": \"scatter\"}, {\"name\": \"Cluster 84 Buildings\", \"marker\": {\"color\": \"rgba(85,85,85, 0.75)\", \"size\": 6}, \"mode\": \"markers\", \"y\": [-16.81516694, -16.815387485714286, -16.815263657142857, -16.8149974, -16.815048342857143, -16.814931514285714, -16.815334766666666, -16.81510621111111, -16.814783622222222, -16.815077177777773, -16.815167200000005, -16.814835644444447, -16.815434366666665], \"x\": [145.70354996, 145.70390914285713, 145.70341190000005, 145.70326784285714, 145.70382261428568, 145.703399, 145.70329295555555, 145.70370193333332, 145.70366575555556, 145.70311397777778, 145.70301072222225, 145.70353706666666, 145.7031270777778], \"type\": \"scatter\"}, {\"name\": \"Cluster 85 Buildings\", \"marker\": {\"color\": \"rgba(110,110,110, 0.75)\", \"size\": 6}, \"mode\": \"markers\", \"y\": [-16.823924400000006, -16.82409414, -16.824081542857147], \"x\": [145.70577148, 145.70549506000003, 145.70513675714284], \"type\": \"scatter\"}, {\"name\": \"Cluster 86 Buildings\", \"marker\": {\"color\": \"rgba(135,135,135, 0.75)\", \"size\": 6}, \"mode\": \"markers\", \"y\": [-16.80669002, -16.80725502, -16.80711292, -16.806851419999994, -16.806884859999997, -16.80712086, -16.807085660000002, -16.807060500000002, -16.806874899999997, -16.806903385714286, -16.806748688888884], \"x\": [145.72071286, 145.72102414, 145.72104608, 145.72107240000003, 145.72068054000005, 145.72052486, 145.72115116, 145.72094412, 145.72096438, 145.72115147142856, 145.7211052444444], \"type\": \"scatter\"}, {\"name\": \"Cluster 87 Buildings\", \"marker\": {\"color\": \"rgba(160,160,160, 0.75)\", \"size\": 6}, \"mode\": \"markers\", \"y\": [-16.809974320000002, -16.810036, -16.810036, -16.810281879999998, -16.81007984, -16.81026306, -16.809964400000002, -16.81032, -16.810471142857143, -16.810408685714286, -16.810080600000003, -16.810468744444446, -16.809981811111108, -16.810440309090907, -16.810444699999998], \"x\": [145.71760476, 145.71814608, 145.71799108, 145.71781574000005, 145.71769796, 145.71761608, 145.71746888, 145.71795864, 145.71811430000002, 145.71769511428568, 145.71759864285713, 145.7179261, 145.71783071111108, 145.71735479999995, 145.71753851428576], \"type\": \"scatter\"}, {\"name\": \"Cluster 88 Buildings\", \"marker\": {\"color\": \"rgba(185,185,185, 0.75)\", \"size\": 6}, \"mode\": \"markers\", \"y\": [-16.803246960000006, -16.80312412, -16.802989779999994, -16.8033389, -16.8031132, -16.80358746, -16.803490414285715], \"x\": [145.7034049, 145.70357946, 145.70341122, 145.70321696000005, 145.7033485, 145.70299432000004, 145.7031462857143], \"type\": \"scatter\"}, {\"name\": \"Cluster 89 Buildings\", \"marker\": {\"color\": \"rgba(210,210,210, 0.75)\", \"size\": 6}, \"mode\": \"markers\", \"y\": [-16.81500144, -16.81573732, -16.81549784, -16.81561988, -16.814844414285712, -16.815140344444444], \"x\": [145.7222081, 145.722197, 145.72240352, 145.72219434000004, 145.72221862857143, 145.72220439999995], \"type\": \"scatter\"}, {\"name\": \"Cluster 90 Buildings\", \"marker\": {\"color\": \"rgba(235,235,235, 0.75)\", \"size\": 6}, \"mode\": \"markers\", \"y\": [-16.817753, -16.817586088888888, -16.817953785714288, -16.818118199999994], \"x\": [145.71991968571433, 145.71987736666668, 145.71989055714286, 145.71986938571428], \"type\": \"scatter\"}, {\"name\": \"Cluster 91 Buildings\", \"marker\": {\"color\": \"rgba(5,5,5, 0.75)\", \"size\": 6}, \"mode\": \"markers\", \"y\": [-16.81506452, -16.81511508, -16.814928639999998, -16.815234699999998, -16.81474874, -16.815167014285713, -16.815186655555557, -16.814906720000003, -16.814565885714284, -16.815239877777778], \"x\": [145.719326, 145.71908206, 145.71927961999995, 145.719133, 145.7193033, 145.7188767, 145.7189485, 145.71907116, 145.71930035714286, 145.71930338888887], \"type\": \"scatter\"}, {\"name\": \"Cluster 92 Buildings\", \"marker\": {\"color\": \"rgba(30,30,30, 0.75)\", \"size\": 6}, \"mode\": \"markers\", \"y\": [-16.820510579999997, -16.8207212, -16.82028136, -16.82043544, -16.82053614, -16.820431140000004, -16.820863214285716, -16.820657788888884], \"x\": [145.71923698, 145.71952712, 145.71917656, 145.71933230000002, 145.72017224, 145.7195854, 145.72015919999998, 145.71935687777776], \"type\": \"scatter\"}, {\"name\": \"Cluster 93 Buildings\", \"marker\": {\"color\": \"rgba(55,55,55, 0.75)\", \"size\": 6}, \"mode\": \"markers\", \"y\": [-16.81438766, -16.8145078, -16.81446072], \"x\": [145.72426702, 145.72411486, 145.72419042], \"type\": \"scatter\"}, {\"name\": \"Cluster 94 Buildings\", \"marker\": {\"color\": \"rgba(80,80,80, 0.75)\", \"size\": 6}, \"mode\": \"markers\", \"y\": [-16.807511654545454, -16.807225866666666, -16.807735707692302, -16.807704473333335, -16.807855019999998, -16.80759564, -16.80788234285714, -16.807806411111113], \"x\": [145.70581627272728, 145.7056146333333, 145.70528074615385, 145.70574201999997, 145.70561691999995, 145.70517102, 145.70557125714285, 145.70565034444445], \"type\": \"scatter\"}, {\"name\": \"Cluster 95 Buildings\", \"marker\": {\"color\": \"rgba(105,105,105, 0.75)\", \"size\": 6}, \"mode\": \"markers\", \"y\": [-16.80240804, -16.802335120000002, -16.80219444, -16.80259826, -16.80211324, -16.802755528571428, -16.802541757142855], \"x\": [145.70560036, 145.70571316000004, 145.70555518, 145.70572006, 145.70576288, 145.70569288571429, 145.70515554285709], \"type\": \"scatter\"}, {\"name\": \"Cluster 96 Buildings\", \"marker\": {\"color\": \"rgba(130,130,130, 0.75)\", \"size\": 6}, \"mode\": \"markers\", \"y\": [-16.80661858, -16.806428880000002, -16.80660336, -16.80699556, -16.806452685714284, -16.806816100000002, -16.80660938, -16.80673766, -16.806790185714284], \"x\": [145.72221772, 145.72182096, 145.72188848000005, 145.72236669999998, 145.72227949999996, 145.72234432, 145.72242606, 145.72244338000004, 145.72182949999998], \"type\": \"scatter\"}, {\"name\": \"Cluster 97 Buildings\", \"marker\": {\"color\": \"rgba(155,155,155, 0.75)\", \"size\": 6}, \"mode\": \"markers\", \"y\": [-16.80717004285714, -16.807278628571428, -16.807627214285713, -16.807791837499998, -16.807540611111108, -16.80790312857143, -16.807732366666666, -16.808018481818184, -16.80790450769231, -16.80810487333333], \"x\": [145.70124390000004, 145.70115185714286, 145.70138802857144, 145.70170322500005, 145.70152397777775, 145.70156367142857, 145.70127154444444, 145.7014735545455, 145.70117347692306, 145.70134464000003], \"type\": \"scatter\"}, {\"name\": \"Cluster 98 Buildings\", \"marker\": {\"color\": \"rgba(180,180,180, 0.75)\", \"size\": 6}, \"mode\": \"markers\", \"y\": [-16.816633290909092, -16.816656018181813, -16.81662545, -16.816922184615382, -16.81688412222222, -16.81704947777778, -16.817305436363636, -16.817286522222226], \"x\": [145.70038705454544, 145.70079370000005, 145.70052429166662, 145.7008501769231, 145.70043909999995, 145.7004249, 145.7003107818182, 145.70044935555555], \"type\": \"scatter\"}, {\"name\": \"Cluster 99 Buildings\", \"marker\": {\"color\": \"rgba(205,205,205, 0.75)\", \"size\": 6}, \"mode\": \"markers\", \"y\": [-16.80991182, -16.80975546363636, -16.81003212, -16.809866039999996, -16.809860719999996, -16.81003382, -16.80982752, -16.80984292, -16.81005002, -16.80983404, -16.810097957142858, -16.810337914285718, -16.809938014285713], \"x\": [145.72260935999995, 145.72245922727276, 145.72253642, 145.72321786000003, 145.72315182, 145.72289594, 145.72290912, 145.72306557999997, 145.72297472, 145.72299002, 145.72315127142858, 145.72313851428572, 145.72302514285715], \"type\": \"scatter\"}, {\"name\": \"Cluster 100 Buildings\", \"marker\": {\"color\": \"rgba(230,230,230, 0.75)\", \"size\": 6}, \"mode\": \"markers\", \"y\": [-16.801215177777774, -16.801678854545454, -16.801685530769234], \"x\": [145.70027219999997, 145.70050883636367, 145.70030743846158], \"type\": \"scatter\"}, {\"name\": \"Cluster 101 Buildings\", \"marker\": {\"color\": \"rgba(255,255,255, 0.75)\", \"size\": 6}, \"mode\": \"markers\", \"y\": [-16.809157714285714, -16.809182444444446, -16.80952304615385, -16.8096535, -16.809452122222222, -16.80925186], \"x\": [145.70481909999995, 145.70525590000003, 145.7050493153846, 145.70517502222222, 145.70491685555555, 145.70466962], \"type\": \"scatter\"}, {\"name\": \"Cluster 102 Buildings\", \"marker\": {\"color\": \"rgba(25,25,25, 0.75)\", \"size\": 6}, \"mode\": \"markers\", \"y\": [-16.813131020000004, -16.81358314, -16.812952600000006, -16.8131217, -16.812752057142855, -16.812840185714286, -16.812880399999994, -16.812717311111108, -16.81258936666667, -16.813010633333334, -16.813326828571427, -16.813364266666667], \"x\": [145.72027308, 145.71987621999997, 145.71994464, 145.71993650000005, 145.72043281428572, 145.72000687142858, 145.72044583333332, 145.72002115555554, 145.7200146222222, 145.7204479333334, 145.72034924285714, 145.71994903333334], \"type\": \"scatter\"}, {\"name\": \"Cluster 103 Buildings\", \"marker\": {\"color\": \"rgba(50,50,50, 0.75)\", \"size\": 6}, \"mode\": \"markers\", \"y\": [-16.811154799999994, -16.8115211, -16.811430440000002, -16.811607000000002, -16.81134964, -16.810877800000004, -16.81120954, -16.811003879999998, -16.81082482, -16.810873785714286, -16.811563, -16.81087475714286, -16.810972977777773, -16.81130637777778], \"x\": [145.71725896363634, 145.71770134000005, 145.71748026, 145.71773263999995, 145.71783352000003, 145.71713846000003, 145.71782842, 145.71746516000005, 145.71734362, 145.71769875714287, 145.71748395714286, 145.71753557142856, 145.7178810888889, 145.71741194444445], \"type\": \"scatter\"}, {\"name\": \"Cluster 104 Buildings\", \"marker\": {\"color\": \"rgba(75,75,75, 0.75)\", \"size\": 6}, \"mode\": \"markers\", \"y\": [-16.80753412352941, -16.807649880000003, -16.80797954, -16.8075495, -16.80743546, -16.80799536, -16.80780944, -16.807730499999998, -16.807809040000002, -16.80779886666667, -16.808163942857142], \"x\": [145.72282785294118, 145.72296454000005, 145.72332494000003, 145.72297202, 145.72299688, 145.72280104, 145.72269592000004, 145.72270374, 145.7229249, 145.7228779333333, 145.72284611428572], \"type\": \"scatter\"}, {\"name\": \"Cluster 105 Buildings\", \"marker\": {\"color\": \"rgba(100,100,100, 0.75)\", \"size\": 6}, \"mode\": \"markers\", \"y\": [-16.80173863636364, -16.801412827272728, -16.801229557142864, -16.801502160000002, -16.80139102, -16.80157104285714], \"x\": [145.7217159818182, 145.7205963909091, 145.7209160142857, 145.72082976, 145.72132735999998, 145.72149654285712], \"type\": \"scatter\"}, {\"name\": \"Cluster 106 Buildings\", \"marker\": {\"color\": \"rgba(125,125,125, 0.75)\", \"size\": 6}, \"mode\": \"markers\", \"y\": [-16.814522040000003, -16.814204699999998, -16.814286985714286, -16.81435867142857, -16.814399585714288, -16.81406638888889, -16.814679433333332, -16.814800385714285, -16.814929971428572], \"x\": [145.70193490000003, 145.70225152, 145.70179108571432, 145.70230581428572, 145.70184638571433, 145.70215223333332, 145.70203180000001, 145.70213814285714, 145.7022087714286], \"type\": \"scatter\"}, {\"name\": \"Cluster 107 Buildings\", \"marker\": {\"color\": \"rgba(150,150,150, 0.75)\", \"size\": 6}, \"mode\": \"markers\", \"y\": [-16.80419612, -16.80423578, -16.804491414285714, -16.804337099999998, -16.80470676, -16.804515759999994, -16.804432285714288, -16.8043926, -16.80464836666667, -16.80472426], \"x\": [145.70555204, 145.70544404000003, 145.70586984285708, 145.70591498000005, 145.70558961999996, 145.70547196, 145.70563147142857, 145.70550932857142, 145.70578404444444, 145.70539618000004], \"type\": \"scatter\"}, {\"name\": \"Cluster 108 Buildings\", \"marker\": {\"color\": \"rgba(175,175,175, 0.75)\", \"size\": 6}, \"mode\": \"markers\", \"y\": [-16.808933914285713, -16.808656699999997, -16.80881197142857, -16.8091031, -16.808990533333333, -16.80871181111111], \"x\": [145.70155995714288, 145.70132375714286, 145.70143821428573, 145.70127367142857, 145.70118863333337, 145.70117606666662], \"type\": \"scatter\"}, {\"name\": \"Cluster 109 Buildings\", \"marker\": {\"color\": \"rgba(200,200,200, 0.75)\", \"size\": 6}, \"mode\": \"markers\", \"y\": [-16.80549865384615, -16.80572580666667, -16.805637624000003, -16.80553696, -16.804996800000005, -16.80544694, -16.805111366666665, -16.805090911111108, -16.80522548888889], \"x\": [145.72131476923082, 145.72129507333338, 145.72100012, 145.72119776, 145.72114434, 145.72096919999998, 145.7210791777778, 145.72090211111112, 145.72129913333333], \"type\": \"scatter\"}, {\"name\": \"Cluster 110 Buildings\", \"marker\": {\"color\": \"rgba(225,225,225, 0.75)\", \"size\": 6}, \"mode\": \"markers\", \"y\": [-16.804341, -16.803697940000006, -16.803777871428572, -16.8036551, -16.803974788888887, -16.804289840000006, -16.804181466666666, -16.804097483333333], \"x\": [145.707784, 145.70758346000005, 145.70768832857144, 145.70746562222226, 145.70803678888888, 145.70766238, 145.70739054444445, 145.70723148333337], \"type\": \"scatter\"}, {\"name\": \"Cluster 111 Buildings\", \"marker\": {\"color\": \"rgba(250,250,250, 0.75)\", \"size\": 6}, \"mode\": \"markers\", \"y\": [-16.80425592857143, -16.804163455555553, -16.80441896, -16.80452114, -16.80446591666667, -16.804370542857143, -16.80462208, -16.804756771428572, -16.80484453333333], \"x\": [145.70296665714287, 145.7031406222222, 145.70285666, 145.70270932, 145.70286496666668, 145.70280994285713, 145.70256160000002, 145.70303135714286, 145.7028532], \"type\": \"scatter\"}, {\"name\": \"Cluster 112 Buildings\", \"marker\": {\"color\": \"rgba(20,20,20, 0.75)\", \"size\": 6}, \"mode\": \"markers\", \"y\": [-16.81266784, -16.812946600000004, -16.812657345454546, -16.812984236363633, -16.81318161818182, -16.812708941666667, -16.81291594, -16.812686499999998, -16.812803600000002, -16.81299262, -16.813048185714287, -16.812718457142857, -16.8127105], \"x\": [145.71804762000005, 145.71788844, 145.71767460000004, 145.7181545090909, 145.7177553090909, 145.71862585833338, 145.71852548, 145.71820548, 145.71851576, 145.71836434, 145.71855589999996, 145.71842814285716, 145.71784730000005], \"type\": \"scatter\"}, {\"name\": \"Cluster 113 Buildings\", \"marker\": {\"color\": \"rgba(45,45,45, 0.75)\", \"size\": 6}, \"mode\": \"markers\", \"y\": [-16.813584040000002, -16.81350794, -16.813187300000006, -16.81355936, -16.81290868, -16.81316922222222, -16.812879390909092, -16.81331728, -16.81344362, -16.81356082857143, -16.81342941111111, -16.813411399999996, -16.813079044444443, -16.813411066666667], \"x\": [145.72230456, 145.7217889, 145.72192452, 145.72188552000003, 145.72239746, 145.72232086666668, 145.72197972727272, 145.72195338, 145.72211555999996, 145.72205508571432, 145.72189912222225, 145.72238613333334, 145.7219144111111, 145.72218596666667], \"type\": \"scatter\"}, {\"name\": \"Cluster 114 Buildings\", \"marker\": {\"color\": \"rgba(70,70,70, 0.75)\", \"size\": 6}, \"mode\": \"markers\", \"y\": [-16.81142994, -16.81167602, -16.81172418], \"x\": [145.72662975666663, 145.72690194, 145.72670759], \"type\": \"scatter\"}, {\"name\": \"Cluster 115 Buildings\", \"marker\": {\"color\": \"rgba(95,95,95, 0.75)\", \"size\": 6}, \"mode\": \"markers\", \"y\": [-16.802151618181814, -16.801995630769234, -16.802240559999994, -16.80252418, -16.801814599999997, -16.80241014285714], \"x\": [145.7047222909091, 145.70474663846153, 145.70451332, 145.70428296, 145.70484891111113, 145.70440195714292], \"type\": \"scatter\"}, {\"name\": \"Cluster 116 Buildings\", \"marker\": {\"color\": \"rgba(120,120,120, 0.75)\", \"size\": 6}, \"mode\": \"markers\", \"y\": [-16.805868345454545, -16.80617994, -16.805699240000006, -16.806260099999996, -16.80600094, -16.806048280000002, -16.80619511111111], \"x\": [145.72417433636366, 145.72419230000003, 145.72404766, 145.72409398, 145.72427502, 145.72418186, 145.72429961111112], \"type\": \"scatter\"}, {\"name\": \"Cluster 117 Buildings\", \"marker\": {\"color\": \"rgba(145,145,145, 0.75)\", \"size\": 6}, \"mode\": \"markers\", \"y\": [-16.812258645454545, -16.81224023076923, -16.811810546153847, -16.81278494, -16.81277416, -16.81220572, -16.81275422, -16.81186376, -16.812258085714287, -16.81184825714286, -16.812249955555554], \"x\": [145.72389671818183, 145.72369266923076, 145.7240766153846, 145.72401474, 145.72382846, 145.72407912, 145.7242565, 145.7238733, 145.72428158571432, 145.7242748857143, 145.72453347777778], \"type\": \"scatter\"}, {\"name\": \"Cluster 118 Buildings\", \"marker\": {\"color\": \"rgba(170,170,170, 0.75)\", \"size\": 6}, \"mode\": \"markers\", \"y\": [-16.808793804, -16.808733619999998, -16.809132820000002, -16.80902094, -16.808704000000002, -16.808946820000006, -16.809004960000006, -16.809164700000004, -16.80906934, -16.80906602, -16.808839411111116, -16.808820211111108, -16.8092648, -16.809310300000003], \"x\": [145.72391608, 145.72373722, 145.72437554, 145.72445332, 145.72412612, 145.72408046, 145.72426282, 145.72399065999997, 145.72370452, 145.72380372, 145.7244845888889, 145.72430432222222, 145.72370488, 145.72388704], \"type\": \"scatter\"}, {\"name\": \"Cluster 119 Buildings\", \"marker\": {\"color\": \"rgba(195,195,195, 0.75)\", \"size\": 6}, \"mode\": \"markers\", \"y\": [-16.82822636, -16.828533899999996], \"x\": [145.70872086, 145.7086854], \"type\": \"scatter\"}, {\"name\": \"Cluster 120 Buildings\", \"marker\": {\"color\": \"rgba(220,220,220, 0.75)\", \"size\": 6}, \"mode\": \"markers\", \"y\": [-16.816091, -16.81608032727273, -16.815875154545452, -16.815936518181818, -16.81616693076923, -16.8159707, -16.815753342857143, -16.816052814285715, -16.815731242857144, -16.815631511111107], \"x\": [145.70345057999995, 145.7032812909091, 145.70327842727275, 145.70364104545453, 145.70362537692307, 145.70297454, 145.70365204285713, 145.70311084285714, 145.70337871428572, 145.70357103333333], \"type\": \"scatter\"}, {\"name\": \"Cluster 121 Buildings\", \"marker\": {\"color\": \"rgba(245,245,245, 0.75)\", \"size\": 6}, \"mode\": \"markers\", \"y\": [-16.80184244, -16.801715360000006], \"x\": [145.71773106, 145.71891562000005], \"type\": \"scatter\"}, {\"name\": \"Cluster 122 Buildings\", \"marker\": {\"color\": \"rgba(15,15,15, 0.75)\", \"size\": 6}, \"mode\": \"markers\", \"y\": [-16.81771636, -16.8174306, -16.81744596, -16.817125025, -16.817138930769232, -16.81731268181818, -16.817384981818186, -16.81735953333333, -16.817347155555556, -16.817340633333334, -16.817353366666666], \"x\": [145.70078642, 145.7014939, 145.70165660000004, 145.70086469999995, 145.70113943846158, 145.70073612727273, 145.70120056363638, 145.70110342222222, 145.70091935555558, 145.7008106333334, 145.7009994], \"type\": \"scatter\"}, {\"name\": \"Cluster 123 Buildings\", \"marker\": {\"color\": \"rgba(40,40,40, 0.75)\", \"size\": 6}, \"mode\": \"markers\", \"y\": [-16.805035166666666, -16.8052746, -16.80520438, -16.80523688, -16.8053222, -16.805292471428572], \"x\": [145.70283996666663, 145.70296929999995, 145.70338257999995, 145.70317658, 145.70344272857145, 145.70326392857143], \"type\": \"scatter\"}, {\"name\": \"Cluster 124 Buildings\", \"marker\": {\"color\": \"rgba(65,65,65, 0.75)\", \"size\": 6}, \"mode\": \"markers\", \"y\": [-16.808180988888882, -16.808409586666667, -16.808551279999996, -16.808465242857142, -16.80829497142857, -16.808682400000002, -16.80833571111111, -16.80855411111111], \"x\": [145.70188268888887, 145.70161292, 145.70220176, 145.70210452857143, 145.7017188857143, 145.70189005714286, 145.70203355555554, 145.70178908888892], \"type\": \"scatter\"}, {\"name\": \"Cluster 125 Buildings\", \"marker\": {\"color\": \"rgba(90,90,90, 0.75)\", \"size\": 6}, \"mode\": \"markers\", \"y\": [-16.80538268125], \"x\": [145.70809590625], \"type\": \"scatter\"}, {\"name\": \"Cluster 126 Buildings\", \"marker\": {\"color\": \"rgba(115,115,115, 0.75)\", \"size\": 6}, \"mode\": \"markers\", \"y\": [-16.816585800000002, -16.816693320000002, -16.816592179999994, -16.816639379999998, -16.81653732, -16.817084899999998, -16.816681842857143, -16.817166914285714, -16.817015277777774, -16.816991011111117], \"x\": [145.71876332727268, 145.71929434, 145.7189895, 145.71889620000005, 145.71858286000003, 145.71912095714285, 145.71908734285714, 145.71862507142856, 145.71871933333333, 145.7189319], \"type\": \"scatter\"}, {\"name\": \"Cluster 127 Buildings\", \"marker\": {\"color\": \"rgba(140,140,140, 0.75)\", \"size\": 6}, \"mode\": \"markers\", \"y\": [-16.81016736, -16.810327540000007, -16.81018297272727, -16.81017757777778, -16.810449657142858, -16.81027718888889, -16.81098318, -16.810653014285712, -16.81076142857143, -16.810466914285715, -16.810611785714286, -16.81083027142857, -16.810980185714286, -16.81042301111111], \"x\": [145.71928192, 145.71966254, 145.71944411818183, 145.71965485555555, 145.71981104285715, 145.71983798888888, 145.71950168, 145.71967501428568, 145.71925425714286, 145.7196566285714, 145.71926221428572, 145.71968622857142, 145.71924428571432, 145.71925286666666], \"type\": \"scatter\"}, {\"name\": \"Cluster 128 Buildings\", \"marker\": {\"color\": \"rgba(165,165,165, 0.75)\", \"size\": 6}, \"mode\": \"markers\", \"y\": [-16.80547014, -16.80552358, -16.80575726, -16.805973490909093, -16.80556474, -16.805722714285714, -16.805401957142855, -16.80562844285714, -16.80531038888889], \"x\": [145.70132552, 145.70165723999997, 145.70137602, 145.70130615454545, 145.70143649999997, 145.70108572857143, 145.70151477142858, 145.70121485714284, 145.70166073333334], \"type\": \"scatter\"}, {\"name\": \"Cluster 129 Buildings\", \"marker\": {\"color\": \"rgba(190,190,190, 0.75)\", \"size\": 6}, \"mode\": \"markers\", \"y\": [-16.818853240000006, -16.818489185714288, -16.818366744444447, -16.818549244444444, -16.81916953846154, -16.818797184615384, -16.81914822857143, -16.818735957142856, -16.81873894285714, -16.818938144444445], \"x\": [145.7189228, 145.71893587142858, 145.7184708888889, 145.71850174444444, 145.71885606923078, 145.71905445384616, 145.71864827142858, 145.71844775714285, 145.71886847142858, 145.71847276666668], \"type\": \"scatter\"}, {\"name\": \"Cluster 130 Buildings\", \"marker\": {\"color\": \"rgba(215,215,215, 0.75)\", \"size\": 6}, \"mode\": \"markers\", \"y\": [-16.80845986, -16.808282866666666], \"x\": [145.72543222, 145.72545837777776], \"type\": \"scatter\"}, {\"name\": \"Cluster 131 Buildings\", \"marker\": {\"color\": \"rgba(240,240,240, 0.75)\", \"size\": 6}, \"mode\": \"markers\", \"y\": [-16.81265176, -16.81269204, -16.812500059999998, -16.812856240000002, -16.812574419999994, -16.81254297142857, -16.812527871428568, -16.81261631111111], \"x\": [145.71703938000005, 145.71696418, 145.71670942, 145.71741682, 145.71729366, 145.71690642857143, 145.71711207142857, 145.71747217777775], \"type\": \"scatter\"}, {\"name\": \"Cluster 132 Buildings\", \"marker\": {\"color\": \"rgba(10,10,10, 0.75)\", \"size\": 6}, \"mode\": \"markers\", \"y\": [-16.81148973846154, -16.811408955555557, -16.811503366666667, -16.811698166666666, -16.811569033333335], \"x\": [145.7004658153846, 145.70166702222218, 145.70185923333332, 145.70164714444445, 145.70164466666668], \"type\": \"scatter\"}, {\"name\": \"Cluster 133 Buildings\", \"marker\": {\"color\": \"rgba(35,35,35, 0.75)\", \"size\": 6}, \"mode\": \"markers\", \"y\": [-16.807464279999998, -16.807144985714285, -16.807131954545454, -16.807649107692303, -16.807254714285712, -16.80737537142857, -16.807641957142856, -16.807736114285714, -16.80799470909091, -16.80788078181818], \"x\": [145.70063456, 145.70031794285714, 145.7008339818182, 145.7003040846154, 145.70045954285715, 145.70053529999996, 145.70079182857143, 145.70064967142858, 145.70036617272723, 145.7005109909091], \"type\": \"scatter\"}, {\"name\": \"Cluster 134 Buildings\", \"marker\": {\"color\": \"rgba(60,60,60, 0.75)\", \"size\": 6}, \"mode\": \"markers\", \"y\": [-16.809091944000002, -16.809385600000002, -16.809650519999998, -16.80929254, -16.80955388, -16.809572199999998, -16.809572080000002, -16.80930094, -16.80955216, -16.809283720000003, -16.809275680000002, -16.80952854], \"x\": [145.723160072, 145.7230945, 145.72305918, 145.72320237999998, 145.72309649999997, 145.72324958, 145.72317382, 145.72328466, 145.7230029, 145.72312704, 145.72304160000004, 145.72283502], \"type\": \"scatter\"}, {\"name\": \"Cluster 135 Buildings\", \"marker\": {\"color\": \"rgba(85,85,85, 0.75)\", \"size\": 6}, \"mode\": \"markers\", \"y\": [-16.817185776923075, -16.81634212, -16.816496359999995, -16.81691214, -16.81639106, -16.816845100000002, -16.817268300000002, -16.81669731111111], \"x\": [145.72052889230767, 145.72006314, 145.72059818, 145.72051534, 145.72069733999996, 145.72056896, 145.72065279999995, 145.72051486666666], \"type\": \"scatter\"}, {\"name\": \"Cluster 136 Buildings\", \"marker\": {\"color\": \"rgba(110,110,110, 0.75)\", \"size\": 6}, \"mode\": \"markers\", \"y\": [-16.813346999999997, -16.813237145454544, -16.81314306153846, -16.813726242857143, -16.813452214285714, -16.81356271111111, -16.813588322222227, -16.813641655555557, -16.813815700000006, -16.8139156, -16.81370174285714, -16.81388467142857], \"x\": [145.7027714909091, 145.70293491818182, 145.7031657076923, 145.70287822857142, 145.70331104285714, 145.70312613333334, 145.70334386666667, 145.70299291111112, 145.70329501818182, 145.70300441428572, 145.70347107142857, 145.70315061428568], \"type\": \"scatter\"}, {\"name\": \"Cluster 137 Buildings\", \"marker\": {\"color\": \"rgba(135,135,135, 0.75)\", \"size\": 6}, \"mode\": \"markers\", \"y\": [-16.815221172727274, -16.815200190909092, -16.815810719999998, -16.815348980000003, -16.815755560000003, -16.815665860000006, -16.815541357142855, -16.8150178625, -16.8154419], \"x\": [145.7217494363636, 145.72121123636362, 145.72196314, 145.72186522, 145.72163045999997, 145.72168886, 145.72119878571428, 145.721699975, 145.72168081111113], \"type\": \"scatter\"}, {\"name\": \"Cluster 138 Buildings\", \"marker\": {\"color\": \"rgba(160,160,160, 0.75)\", \"size\": 6}, \"mode\": \"markers\", \"y\": [-16.810959899999997, -16.81096676, -16.8111643, -16.811007639999996, -16.8115643, -16.811138520000004, -16.811182142857145, -16.81112884285714, -16.811145328571428], \"x\": [145.72220062, 145.72197350000005, 145.72234439999997, 145.72258824, 145.72214911999995, 145.72194916, 145.72253138571432, 145.72216132857145, 145.7227344], \"type\": \"scatter\"}, {\"name\": \"Cluster 139 Buildings\", \"marker\": {\"color\": \"rgba(185,185,185, 0.75)\", \"size\": 6}, \"mode\": \"markers\", \"y\": [-16.80935793076923, -16.809033171428574, -16.809252311111113, -16.809239155555556, -16.80912771111111, -16.809620918181814, -16.80977362727273, -16.80949561904762, -16.80972726666667, -16.80951118888889], \"x\": [145.70051903076924, 145.70064835714285, 145.70083325555555, 145.70041055555555, 145.70078093333333, 145.70074493636363, 145.70088063636362, 145.70063380952382, 145.70106013333333, 145.70108661111112], \"type\": \"scatter\"}, {\"name\": \"Cluster 140 Buildings\", \"marker\": {\"color\": \"rgba(210,210,210, 0.75)\", \"size\": 6}, \"mode\": \"markers\", \"y\": [-16.814435290909092, -16.81485688181818, -16.81472419090909, -16.814760954545452, -16.814577542857144, -16.814308271428573, -16.81499414444444, -16.814273611111116, -16.81464438888889, -16.815011488888892, -16.814606466666664], \"x\": [145.70048237272732, 145.7013487909091, 145.70125945454546, 145.7004384090909, 145.70116240000002, 145.70080484285714, 145.70069125555554, 145.70047251111112, 145.70078283333334, 145.70083723333337, 145.7004352777778], \"type\": \"scatter\"}, {\"name\": \"Cluster 141 Buildings\", \"marker\": {\"color\": \"rgba(235,235,235, 0.75)\", \"size\": 6}, \"mode\": \"markers\", \"y\": [-16.803941027272728, -16.804113440000002, -16.80398452, -16.80364518, -16.803708314285718, -16.80385582857143, -16.804462159999996, -16.80417892, -16.804278919999998], \"x\": [145.70512641818183, 145.70512340000002, 145.7047434, 145.70497808, 145.70521627142858, 145.70484810000005, 145.70502258, 145.70455510000005, 145.70506600000004], \"type\": \"scatter\"}, {\"name\": \"Cluster 142 Buildings\", \"marker\": {\"color\": \"rgba(5,5,5, 0.75)\", \"size\": 6}, \"mode\": \"markers\", \"y\": [-16.813587263636364, -16.81384618181818, -16.813768336363633, -16.813650071428572, -16.813463585714285, -16.813374214285716, -16.8133801, -16.813976385714284], \"x\": [145.70230314545455, 145.70254766363638, 145.70270761818185, 145.70216808571433, 145.70241851428568, 145.70259052857142, 145.70220622222226, 145.70240681428572], \"type\": \"scatter\"}, {\"name\": \"Cluster 143 Buildings\", \"marker\": {\"color\": \"rgba(30,30,30, 0.75)\", \"size\": 6}, \"mode\": \"markers\", \"y\": [-16.81415468461538, -16.813897888888892, -16.81425948, -16.814591139999994, -16.814314439999997, -16.814813519999998, -16.814349800000002, -16.81454214, -16.814651066666666], \"x\": [145.72295475384615, 145.72300890000002, 145.723183, 145.7230057, 145.72352118, 145.72329666000005, 145.72332898000005, 145.72357638, 145.72327107777778], \"type\": \"scatter\"}, {\"name\": \"Cluster 144 Buildings\", \"marker\": {\"color\": \"rgba(55,55,55, 0.75)\", \"size\": 6}, \"mode\": \"markers\", \"y\": [-16.81170886, -16.811614300000002, -16.811344185714287, -16.811604011111108, -16.81152156666667, -16.811294677777774, -16.8120425, -16.812081499999998], \"x\": [145.72161502, 145.72132582857142, 145.72122507142856, 145.72113323333332, 145.7215605888889, 145.72156662222218, 145.72122606000005, 145.72156834000003], \"type\": \"scatter\"}, {\"name\": \"Cluster 145 Buildings\", \"marker\": {\"color\": \"rgba(80,80,80, 0.75)\", \"size\": 6}, \"mode\": \"markers\", \"y\": [-16.810818140000002, -16.810914328571428, -16.81086115714286, -16.81104398, -16.810829342857144, -16.81098942857143, -16.810882622222227, -16.811315627272727, -16.811340085714278, -16.811343571428573, -16.811361842857142], \"x\": [145.72376186000002, 145.72451912857144, 145.72470401428572, 145.7238833, 145.72396952857142, 145.72430965714287, 145.72414483333333, 145.7238723, 145.72405044285713, 145.72424615714286, 145.7244536142857], \"type\": \"scatter\"}, {\"name\": \"Cluster 146 Buildings\", \"marker\": {\"color\": \"rgba(105,105,105, 0.75)\", \"size\": 6}, \"mode\": \"markers\", \"y\": [-16.812113736363635, -16.812032363636366, -16.812050085714286, -16.81244104545455, -16.81250771818182, -16.812642984615387, -16.81248521111111], \"x\": [145.7021906909091, 145.70184790000002, 145.7020174142857, 145.70186068181818, 145.70222218181817, 145.70173765384612, 145.70205395555553], \"type\": \"scatter\"}, {\"name\": \"Cluster 147 Buildings\", \"marker\": {\"color\": \"rgba(130,130,130, 0.75)\", \"size\": 6}, \"mode\": \"markers\", \"y\": [-16.8022887, -16.80243844, -16.80259714, -16.80270626, -16.802699920000002, -16.802429800000002, -16.80299026, -16.802867499999998, -16.802565057142857], \"x\": [145.70946845999995, 145.70953712, 145.70965372, 145.70977966, 145.70921630000004, 145.70897378, 145.70946756, 145.70992434, 145.70911084285714], \"type\": \"scatter\"}, {\"name\": \"Cluster 148 Buildings\", \"marker\": {\"color\": \"rgba(155,155,155, 0.75)\", \"size\": 6}, \"mode\": \"markers\", \"y\": [-16.811438163636364, -16.811288127272725, -16.810805338461538, -16.811170211111108, -16.810803311111115, -16.811019955555555], \"x\": [145.70203795454543, 145.7021581090909, 145.70242740769234, 145.70229424444446, 145.70260098888892, 145.70239324444444], \"type\": \"scatter\"}, {\"name\": \"Cluster 149 Buildings\", \"marker\": {\"color\": \"rgba(180,180,180, 0.75)\", \"size\": 6}, \"mode\": \"markers\", \"y\": [-16.80301552, -16.803526863636364, -16.80317612, -16.803419140000006, -16.80358454285714, -16.803496477777774, -16.803272822222226, -16.803383644444445, -16.80376801111111], \"x\": [145.70446726, 145.7039669909091, 145.70432726, 145.7046795, 145.70436731428572, 145.70451293333338, 145.70422233333338, 145.70410157777778, 145.7042651555556], \"type\": \"scatter\"}, {\"name\": \"Cluster 150 Buildings\", \"marker\": {\"color\": \"rgba(205,205,205, 0.75)\", \"size\": 6}, \"mode\": \"markers\", \"y\": [-16.812318072727273, -16.813146420000002, -16.81254078, -16.812243099999996, -16.812915757142857, -16.812801414285715, -16.81225602857143, -16.812514433333334, -16.812642611111116, -16.812220777777775, -16.813121940000002], \"x\": [145.71961173636362, 145.7193112, 145.71950178, 145.71922816, 145.71950111428572, 145.71949548571428, 145.71940457142858, 145.7191073555556, 145.71953424444442, 145.71907162222226, 145.71950012], \"type\": \"scatter\"}, {\"name\": \"Cluster 151 Buildings\", \"marker\": {\"color\": \"rgba(230,230,230, 0.75)\", \"size\": 6}, \"mode\": \"markers\", \"y\": [-16.80286948666667, -16.80295, -16.80311996, -16.80308926, -16.80283922, -16.80273642, -16.803316285714285], \"x\": [145.70234111999997, 145.70250672000003, 145.70267712, 145.70276828000004, 145.70210808, 145.70243932, 145.70260595714288], \"type\": \"scatter\"}, {\"name\": \"Cluster 152 Buildings\", \"marker\": {\"color\": \"rgba(255,255,255, 0.75)\", \"size\": 6}, \"mode\": \"markers\", \"y\": [-16.812089999999998, -16.812568446153847, -16.81177522, -16.81210342, -16.812140457142856, -16.812101242857143, -16.811750142857143, -16.811662928571426, -16.812192311111108, -16.811722255555555], \"x\": [145.72202378461537, 145.72247613846156, 145.72275386666666, 145.72258180000003, 145.72219479999995, 145.72237581428567, 145.72213777142858, 145.72238912857142, 145.72276366666668, 145.72257714444444], \"type\": \"scatter\"}, {\"name\": \"Cluster 153 Buildings\", \"marker\": {\"color\": \"rgba(25,25,25, 0.75)\", \"size\": 6}, \"mode\": \"markers\", \"y\": [-16.809280446153846], \"x\": [145.71528719999995], \"type\": \"scatter\"}, {\"name\": \"Cluster 154 Buildings\", \"marker\": {\"color\": \"rgba(50,50,50, 0.75)\", \"size\": 6}, \"mode\": \"markers\", \"y\": [-16.806784545454544, -16.807052728571428, -16.807276014285712, -16.806676644444444, -16.80719562222222, -16.806952344444444], \"x\": [145.70212969999997, 145.70237615714285, 145.70255614285713, 145.70203967777778, 145.70243675555554, 145.70225753333332], \"type\": \"scatter\"}, {\"name\": \"Cluster 155 Buildings\", \"marker\": {\"color\": \"rgba(75,75,75, 0.75)\", \"size\": 6}, \"mode\": \"markers\", \"y\": [-16.81723299090909, -16.817092879999993, -16.81715884, -16.816720899999996, -16.81702674, -16.8170678, -16.81718904, -16.81673256, -16.81684882857143, -16.81714607142857, -16.816758433333334], \"x\": [145.7199044181818, 145.71982918000003, 145.71928180000003, 145.71985514, 145.71969064, 145.71998028000004, 145.71967486, 145.71964608, 145.72003718571432, 145.71948575714285, 145.71947838888892], \"type\": \"scatter\"}, {\"name\": \"Cluster 156 Buildings\", \"marker\": {\"color\": \"rgba(100,100,100, 0.75)\", \"size\": 6}, \"mode\": \"markers\", \"y\": [-16.80378982, -16.803538299999996, -16.804058719999997, -16.803629739999998, -16.80351772857143, -16.803293285714286], \"x\": [145.7217008, 145.72205659999997, 145.72229134, 145.72152562000005, 145.72241797142857, 145.7220141], \"type\": \"scatter\"}, {\"name\": \"Cluster 157 Buildings\", \"marker\": {\"color\": \"rgba(125,125,125, 0.75)\", \"size\": 6}, \"mode\": \"markers\", \"y\": [-16.813666540000003, -16.81354742, -16.814238944444444, -16.814101177777776, -16.813995745454545, -16.814252900000003, -16.814408022222224, -16.814112766666668, -16.814532033333332], \"x\": [145.72031088, 145.72036666, 145.72085348888888, 145.72093276666666, 145.72034186363638, 145.72030889999996, 145.72033829999995, 145.72030387777778, 145.72026650000004], \"type\": \"scatter\"}, {\"name\": \"Cluster 158 Buildings\", \"marker\": {\"color\": \"rgba(150,150,150, 0.75)\", \"size\": 6}, \"mode\": \"markers\", \"y\": [-16.809898999999998, -16.80974124, -16.81030494, -16.810174600000003, -16.80986506, -16.810029399999998, -16.81008042857143, -16.810263600000006], \"x\": [145.72630678000004, 145.72622344, 145.7262659, 145.72616010000002, 145.72599924000005, 145.72608176, 145.72636045714285, 145.7264258777778], \"type\": \"scatter\"}, {\"name\": \"Cluster 159 Buildings\", \"marker\": {\"color\": \"rgba(175,175,175, 0.75)\", \"size\": 6}, \"mode\": \"markers\", \"y\": [-16.81426076, -16.814547005263158, -16.815154460000002, -16.814342214285713, -16.81454499090909, -16.814718980000002, -16.8151388, -16.814689533333336, -16.814964555555555], \"x\": [145.71836524, 145.7186305684211, 145.71867360000002, 145.71859094285716, 145.71833111818182, 145.71816819999998, 145.71828216666663, 145.7188055111111, 145.71820701111108], \"type\": \"scatter\"}, {\"name\": \"Cluster 160 Buildings\", \"marker\": {\"color\": \"rgba(200,200,200, 0.75)\", \"size\": 6}, \"mode\": \"markers\", \"y\": [-16.80347262, -16.803755700000004, -16.803543659999995, -16.8035167, -16.80329537142857, -16.803270628571433, -16.8032628, -16.803662311111115], \"x\": [145.720325, 145.72057542, 145.7199502, 145.7202051, 145.72044958571433, 145.72020261428568, 145.72080957142856, 145.72020740000005], \"type\": \"scatter\"}, {\"name\": \"Cluster 161 Buildings\", \"marker\": {\"color\": \"rgba(225,225,225, 0.75)\", \"size\": 6}, \"mode\": \"markers\", \"y\": [-16.80714966, -16.806971746153845, -16.807392146153852, -16.80755728, -16.80725118, -16.8073174, -16.806965279999996, -16.807145560000002, -16.807500377777778, -16.807740522222225], \"x\": [145.72183608, 145.72174849230768, 145.72228516923082, 145.72225418, 145.72228872, 145.72171218, 145.72198802, 145.72227764000004, 145.72187078888888, 145.72220983333332], \"type\": \"scatter\"}, {\"name\": \"Cluster 162 Buildings\", \"marker\": {\"color\": \"rgba(250,250,250, 0.75)\", \"size\": 6}, \"mode\": \"markers\", \"y\": [-16.823166427272728, -16.82328214, -16.823687045454548, -16.823490080000006, -16.823376199999995, -16.823519128571427], \"x\": [145.70582608181817, 145.70575775999995, 145.7051494090909, 145.70515686000005, 145.70514350000005, 145.70543395714284], \"type\": \"scatter\"}, {\"name\": \"Cluster 163 Buildings\", \"marker\": {\"color\": \"rgba(20,20,20, 0.75)\", \"size\": 6}, \"mode\": \"markers\", \"y\": [-16.824732920000002, -16.82508096, -16.82553322, -16.825164660000002, -16.82509118], \"x\": [145.705096, 145.70495956, 145.70538115999997, 145.70572152, 145.70513946], \"type\": \"scatter\"}, {\"name\": \"Cluster 164 Buildings\", \"marker\": {\"color\": \"rgba(45,45,45, 0.75)\", \"size\": 6}, \"mode\": \"markers\", \"y\": [-16.81170532, -16.811958620000002, -16.811801879999994, -16.811911666666667, -16.81232288, -16.812405379999998, -16.81206147142857], \"x\": [145.71639828, 145.71681757999997, 145.71687944, 145.71640047777774, 145.71635536000005, 145.71657788, 145.71640274285716], \"type\": \"scatter\"}, {\"name\": \"Cluster 165 Buildings\", \"marker\": {\"color\": \"rgba(70,70,70, 0.75)\", \"size\": 6}, \"mode\": \"markers\", \"y\": [-16.811083900000003, -16.81093077142857, -16.810931085714284, -16.811152040000003, -16.811349, -16.811385542857142, -16.81152936, -16.81107966, -16.811320199999997, -16.811522755555554], \"x\": [145.72563494000005, 145.7251479285714, 145.72486057142856, 145.72525052, 145.72522827142856, 145.72498962857142, 145.72515448, 145.72507916, 145.72567454, 145.7253235555556], \"type\": \"scatter\"}, {\"name\": \"Cluster 166 Buildings\", \"marker\": {\"color\": \"rgba(95,95,95, 0.75)\", \"size\": 6}, \"mode\": \"markers\", \"y\": [-16.80841002, -16.80842446, -16.80894256, -16.80861096, -16.80849522, -16.80894854, -16.808439200000002, -16.808582379999994, -16.808449259999996, -16.80855234, -16.80863126, -16.808590357142858, -16.8086883], \"x\": [145.72157642000005, 145.72180782, 145.72196393999997, 145.72201234000005, 145.72223164, 145.72154774, 145.72193244, 145.72159942, 145.72213042, 145.72171436, 145.72181292, 145.7214993285714, 145.7221990857143], \"type\": \"scatter\"}, {\"name\": \"Cluster 167 Buildings\", \"marker\": {\"color\": \"rgba(120,120,120, 0.75)\", \"size\": 6}, \"mode\": \"markers\", \"y\": [-16.805947699999994, -16.805703822222224, -16.805855855555556, -16.805950488888882, -16.806397781818184, -16.806487842857145, -16.80627712857143, -16.806227899999996, -16.806134444444446], \"x\": [145.70484661999996, 145.70463389999995, 145.70423184444445, 145.70409206666668, 145.70445226363637, 145.70430338571427, 145.70457045714286, 145.70430023333333, 145.7044763], \"type\": \"scatter\"}, {\"name\": \"Cluster 168 Buildings\", \"marker\": {\"color\": \"rgba(145,145,145, 0.75)\", \"size\": 6}, \"mode\": \"markers\", \"y\": [-16.815860172727273, -16.815681955555554, -16.816177418181816, -16.815722136363636, -16.816242857142857, -16.815868728571427, -16.81601542857143, -16.816003199999994, -16.815567222222224, -16.816212955555557], \"x\": [145.70433003636361, 145.70438822222226, 145.70397323636362, 145.70406545454546, 145.7042959285714, 145.70405404285714, 145.70432409999998, 145.70401258888887, 145.70400774444445, 145.70413175555555], \"type\": \"scatter\"}, {\"name\": \"Cluster 169 Buildings\", \"marker\": {\"color\": \"rgba(170,170,170, 0.75)\", \"size\": 6}, \"mode\": \"markers\", \"y\": [-16.803968909090912, -16.80380348, -16.803676944444447, -16.803781266666665, -16.803835911111108, -16.803948199999994, -16.804087728571428, -16.804398072727274, -16.80427042, -16.804096042857143], \"x\": [145.70072175454547, 145.70120623999995, 145.70049427777778, 145.7009806222222, 145.7006169111111, 145.70107634545457, 145.70086112857143, 145.7005074090909, 145.70034330000001, 145.70026371428568], \"type\": \"scatter\"}, {\"name\": \"Cluster 170 Buildings\", \"marker\": {\"color\": \"rgba(195,195,195, 0.75)\", \"size\": 6}, \"mode\": \"markers\", \"y\": [-16.807473144444444, -16.80815596, -16.808261372727273, -16.807899263636365, -16.808379463636363, -16.80770948461538, -16.808014300000004, -16.808119422222227, -16.807971366666667], \"x\": [145.70267290000004, 145.70266734, 145.70243910000005, 145.70217246363637, 145.70252035454547, 145.70240028461538, 145.70229951428573, 145.70240974444445, 145.7026131444444], \"type\": \"scatter\"}, {\"name\": \"Cluster 171 Buildings\", \"marker\": {\"color\": \"rgba(220,220,220, 0.75)\", \"size\": 6}, \"mode\": \"markers\", \"y\": [-16.8156984, -16.816159085714286, -16.816018911111108, -16.815864055555554, -16.815529244444438, -16.816307481818182], \"x\": [145.70477169999995, 145.70469755714285, 145.70473582222226, 145.70475532222218, 145.70478936666666, 145.70471203636362], \"type\": \"scatter\"}, {\"name\": \"Cluster 172 Buildings\", \"marker\": {\"color\": \"rgba(245,245,245, 0.75)\", \"size\": 6}, \"mode\": \"markers\", \"y\": [-16.814224854545458, -16.814121133333334, -16.814800127272726, -16.81472146363636, -16.814908092307693, -16.814538885714285, -16.81444087142857, -16.814748185714286, -16.8146122375, -16.81436486666667, -16.814595566666668], \"x\": [145.7025459909091, 145.70268668888892, 145.70288935454545, 145.70306697272727, 145.70271188461538, 145.70269775714286, 145.70289435714287, 145.70260068571432, 145.7025500625, 145.7030631888889, 145.7032095666667], \"type\": \"scatter\"}, {\"name\": \"Cluster 173 Buildings\", \"marker\": {\"color\": \"rgba(15,15,15, 0.75)\", \"size\": 6}, \"mode\": \"markers\", \"y\": [-16.8103919, -16.81023634, -16.810510779999998, -16.810387900000002, -16.810206666666666, -16.811197, -16.810769999999998, -16.810645814285714], \"x\": [145.72069888, 145.72070144, 145.72065493999997, 145.72030569999998, 145.72039735555555, 145.7204841, 145.72067568888892, 145.72028495714284], \"type\": \"scatter\"}, {\"name\": \"Cluster 174 Buildings\", \"marker\": {\"color\": \"rgba(40,40,40, 0.75)\", \"size\": 6}, \"mode\": \"markers\", \"y\": [-16.8028685, -16.80299004, -16.8026414, -16.802703628571425, -16.802861866666667], \"x\": [145.72135646, 145.7220733, 145.72105504, 145.72179854285713, 145.72185195555554], \"type\": \"scatter\"}, {\"name\": \"Cluster 175 Buildings\", \"marker\": {\"color\": \"rgba(65,65,65, 0.75)\", \"size\": 6}, \"mode\": \"markers\", \"y\": [-16.801173109090907, -16.801157760000002, -16.801153799999998], \"x\": [145.70115738181818, 145.70053359999997, 145.70094214444444], \"type\": \"scatter\"}, {\"name\": \"Cluster 176 Buildings\", \"marker\": {\"color\": \"rgba(90,90,90, 0.75)\", \"size\": 6}, \"mode\": \"markers\", \"y\": [-16.812288560000002, -16.81187996, -16.8122301, -16.81183908, -16.811954800000002, -16.811613320000006, -16.81167454, -16.812247242857143, -16.812281471428573, -16.811832355555556, -16.812225033333334, -16.812010555555556], \"x\": [145.71863452, 145.71819867999997, 145.71789154, 145.71848054, 145.71792408000005, 145.71829377999995, 145.71848774, 145.71827985714285, 145.71846391428568, 145.71864406666666, 145.71808840000003, 145.71861618888892], \"type\": \"scatter\"}, {\"name\": \"Cluster 177 Buildings\", \"marker\": {\"color\": \"rgba(115,115,115, 0.75)\", \"size\": 6}, \"mode\": \"markers\", \"y\": [-16.809549240000006, -16.80962094, -16.8095372, -16.80928704, -16.808932866666666], \"x\": [145.71911426, 145.71963018000002, 145.71937640000004, 145.7192925, 145.71989397777776], \"type\": \"scatter\"}, {\"name\": \"Cluster 178 Buildings\", \"marker\": {\"color\": \"rgba(140,140,140, 0.75)\", \"size\": 6}, \"mode\": \"markers\", \"y\": [-16.807988978260873, -16.80747672, -16.807802900000002, -16.80806786, -16.80760152857143], \"x\": [145.7252235913043, 145.72500962, 145.72513095999997, 145.72503764, 145.72514381428567], \"type\": \"scatter\"}, {\"name\": \"Cluster 179 Buildings\", \"marker\": {\"color\": \"rgba(165,165,165, 0.75)\", \"size\": 6}, \"mode\": \"markers\", \"y\": [-16.80315691818182, -16.8035803, -16.803459628571428, -16.80388494, -16.80353336, -16.803793219999996, -16.803709299999998, -16.803341988888892, -16.803647111111108], \"x\": [145.7018886636364, 145.70149745999996, 145.70163891428572, 145.70176116, 145.70139466, 145.70191792, 145.70138828571433, 145.70178422222222, 145.70204579999995], \"type\": \"scatter\"}, {\"name\": \"Cluster 180 Buildings\", \"marker\": {\"color\": \"rgba(190,190,190, 0.75)\", \"size\": 6}, \"mode\": \"markers\", \"y\": [-16.8049128, -16.805025699999998, -16.804672241176473], \"x\": [145.70625556, 145.70623377777778, 145.7063460764706], \"type\": \"scatter\"}, {\"name\": \"Cluster 181 Buildings\", \"marker\": {\"color\": \"rgba(215,215,215, 0.75)\", \"size\": 6}, \"mode\": \"markers\", \"y\": [-16.808016147058822, -16.807979340000006, -16.80838852222222], \"x\": [145.70368437058823, 145.70344958, 145.70396367777778], \"type\": \"scatter\"}, {\"name\": \"Cluster 182 Buildings\", \"marker\": {\"color\": \"rgba(240,240,240, 0.75)\", \"size\": 6}, \"mode\": \"markers\", \"y\": [-16.80468566, -16.8048184, -16.80492988, -16.805168099999996, -16.805060400000002], \"x\": [145.70234680000002, 145.70223742857144, 145.702079, 145.70178416000005, 145.70193998], \"type\": \"scatter\"}, {\"name\": \"Cluster 183 Buildings\", \"marker\": {\"color\": \"rgba(10,10,10, 0.75)\", \"size\": 6}, \"mode\": \"markers\", \"y\": [-16.80435696, -16.804635240000003, -16.80473368, -16.80480042, -16.804499160000002, -16.804701777777776], \"x\": [145.70363636, 145.70390364, 145.70363589999997, 145.70349088, 145.70380512000003, 145.70324877777776], \"type\": \"scatter\"}, {\"name\": \"Cluster 184 Buildings\", \"marker\": {\"color\": \"rgba(35,35,35, 0.75)\", \"size\": 6}, \"mode\": \"markers\", \"y\": [-16.808900686666668, -16.809419300000002, -16.80932116], \"x\": [145.71662944666662, 145.71632118, 145.71628833999995], \"type\": \"scatter\"}, {\"name\": \"Cluster 185 Buildings\", \"marker\": {\"color\": \"rgba(60,60,60, 0.75)\", \"size\": 6}, \"mode\": \"markers\", \"y\": [-16.80726888, -16.80712152, -16.806598200000003, -16.80723404, -16.807092660000002, -16.80669162], \"x\": [145.72300884, 145.72277996, 145.72317048, 145.722786, 145.7229888, 145.72299028000003], \"type\": \"scatter\"}, {\"name\": \"Cluster 186 Buildings\", \"marker\": {\"color\": \"rgba(85,85,85, 0.75)\", \"size\": 6}, \"mode\": \"markers\", \"y\": [-16.802773359999996, -16.80269308, -16.802756985714286, -16.8029765, -16.80289406, -16.80286972857143, -16.802635044444443], \"x\": [145.70372822, 145.7037742, 145.70399257142859, 145.70371168, 145.70363302, 145.70386458571429, 145.70411431111108], \"type\": \"scatter\"}, {\"name\": \"Cluster 187 Buildings\", \"marker\": {\"color\": \"rgba(110,110,110, 0.75)\", \"size\": 6}, \"mode\": \"markers\", \"y\": [-16.81887802, -16.818496371428573, -16.8181767, -16.81843198, -16.81853974, -16.818844919999997, -16.818295957142855, -16.818398057142858, -16.818519742857145, -16.818733955555555, -16.818809633333338], \"x\": [145.71972196000004, 145.7192327857143, 145.71954091818182, 145.71953938, 145.71951739999997, 145.71925418, 145.71978897142859, 145.71943810000002, 145.71975174285708, 145.7198209222222, 145.7194814222222], \"type\": \"scatter\"}, {\"name\": \"Cluster 188 Buildings\", \"marker\": {\"color\": \"rgba(135,135,135, 0.75)\", \"size\": 6}, \"mode\": \"markers\", \"y\": [-16.82589511111111], \"x\": [145.70848006666668], \"type\": \"scatter\"}, {\"name\": \"Cluster 189 Buildings\", \"marker\": {\"color\": \"rgba(160,160,160, 0.75)\", \"size\": 6}, \"mode\": \"markers\", \"y\": [-16.81253358, -16.81220888, -16.8120038], \"x\": [145.72745880000002, 145.72726054000003, 145.72702643333332], \"type\": \"scatter\"}, {\"name\": \"Cluster 190 Buildings\", \"marker\": {\"color\": \"rgba(185,185,185, 0.75)\", \"size\": 6}, \"mode\": \"markers\", \"y\": [-16.807477371428572, -16.80723674, -16.80757532, -16.807377719999998, -16.807790320000002, -16.807528280000003, -16.807978207692305, -16.807921846153842, -16.807651366666665], \"x\": [145.72100501428568, 145.72052726, 145.72097204000005, 145.72052106, 145.72101424000004, 145.72051317999995, 145.720976, 145.72047260000005, 145.72046985555556], \"type\": \"scatter\"}, {\"name\": \"Cluster 191 Buildings\", \"marker\": {\"color\": \"rgba(210,210,210, 0.75)\", \"size\": 6}, \"mode\": \"markers\", \"y\": [-16.82583982, -16.82624582], \"x\": [145.7047381, 145.70466222], \"type\": \"scatter\"}, {\"name\": \"Cluster 192 Buildings\", \"marker\": {\"color\": \"rgba(235,235,235, 0.75)\", \"size\": 6}, \"mode\": \"markers\", \"y\": [-16.809203060000005, -16.809081642857144, -16.80931384, -16.8094577, -16.809194257142856, -16.809378185714284, -16.809444342857145, -16.809583533333335], \"x\": [145.70175276, 145.7016772285714, 145.70148242, 145.70178897142858, 145.7013924, 145.70193034285714, 145.70153588571424, 145.70162992222225], \"type\": \"scatter\"}, {\"name\": \"Cluster 193 Buildings\", \"marker\": {\"color\": \"rgba(5,5,5, 0.75)\", \"size\": 6}, \"mode\": \"markers\", \"y\": [-16.80526061428571, -16.805808758333338, -16.80529617692308, -16.805723299999997, -16.805775344444438], \"x\": [145.70753178571428, 145.70765887500005, 145.70735919230768, 145.7073386, 145.70749843333334], \"type\": \"scatter\"}, {\"name\": \"Cluster 194 Buildings\", \"marker\": {\"color\": \"rgba(30,30,30, 0.75)\", \"size\": 6}, \"mode\": \"markers\", \"y\": [-16.827736899999998, -16.82781842, -16.82814184, -16.82801688], \"x\": [145.70822968, 145.70854707999996, 145.70819714, 145.70819971999995], \"type\": \"scatter\"}, {\"name\": \"Cluster 195 Buildings\", \"marker\": {\"color\": \"rgba(55,55,55, 0.75)\", \"size\": 6}, \"mode\": \"markers\", \"y\": [-16.809130542857144, -16.80972065454545, -16.80938755384615, -16.809577653846155, -16.80993043846154, -16.80991062, -16.80951732857143, -16.8097609], \"x\": [145.70562160000003, 145.70587110909094, 145.70542528461542, 145.70568727692307, 145.70540463076927, 145.70583700000003, 145.70552268571427, 145.70527731111108], \"type\": \"scatter\"}, {\"name\": \"Cluster 196 Buildings\", \"marker\": {\"color\": \"rgba(80,80,80, 0.75)\", \"size\": 6}, \"mode\": \"markers\", \"y\": [-16.80488842, -16.80529688, -16.80494102, -16.80494447142857, -16.8050883, -16.805178625, -16.80561909090909, -16.805499423076924, -16.80529814, -16.805718576923073], \"x\": [145.70548034, 145.7056253, 145.70537326, 145.70572032857143, 145.7053141333334, 145.7050950375, 145.7052867181818, 145.7054276307692, 145.70496936, 145.7051614230769], \"type\": \"scatter\"}, {\"name\": \"Cluster 197 Buildings\", \"marker\": {\"color\": \"rgba(105,105,105, 0.75)\", \"size\": 6}, \"mode\": \"markers\", \"y\": [-16.81538822, -16.815019385714287, -16.814684399999997, -16.814866111111108, -16.81481357272727, -16.814954645454545, -16.81530238, -16.81516427777778], \"x\": [145.72009419999998, 145.72016918571433, 145.72021612857142, 145.72025116666666, 145.71976493636362, 145.71969819999998, 145.71976476000003, 145.71972384444445], \"type\": \"scatter\"}, {\"name\": \"Cluster 198 Buildings\", \"marker\": {\"color\": \"rgba(130,130,130, 0.75)\", \"size\": 6}, \"mode\": \"markers\", \"y\": [-16.80328224285714, -16.803122885714284, -16.80295098888889, -16.803385959999996], \"x\": [145.7056916, 145.70570675714285, 145.70568085555556, 145.70531648], \"type\": \"scatter\"}, {\"name\": \"Cluster 199 Buildings\", \"marker\": {\"color\": \"rgba(155,155,155, 0.75)\", \"size\": 6}, \"mode\": \"markers\", \"y\": [-16.80854642, -16.808603920000003, -16.80868832, -16.80855802, -16.80875118, -16.80874724, -16.808822066666664], \"x\": [145.7229321, 145.72335569999998, 145.72335388000005, 145.72305769999997, 145.72294802, 145.72314153999997, 145.7233480444444], \"type\": \"scatter\"}, {\"name\": \"KMeans Clusters\", \"marker\": {\"color\": \"rgba(255, 0, 0, 0.75)\", \"size\": 4}, \"mode\": \"markers\", \"y\": [-16.811134827811966, -16.808895705493768, -16.807834716666665, -16.8143050436273, -16.812936807734488, -16.804987977384837, -16.826968370000003, -16.817828320220386, -16.80447368214008, -16.805058677277536, -16.802167266232964, -16.81020124068027, -16.813870893291153, -16.816783470093796, -16.823395096785713, -16.80085263199375, -16.81084477045635, -16.805974232275133, -16.80882722103117, -16.80378268543651, -16.811288735266956, -16.812685001587, -16.8158602224127, -16.808452507464253, -16.81192784574956, -16.806425531482407, -16.802970603174604, -16.81548668968488, -16.802655360458555, -16.807326957142855, -16.803904139707793, -16.819603423555556, -16.81360968087912, -16.806818836163835, -16.816010802481962, -16.80180909740593, -16.798766024032634, -16.808976151836735, -16.815099141050062, -16.824966802857144, -16.811956352424243, -16.80950238233987, -16.811012130249434, -16.810112182127945, -16.808073381313932, -16.814245830174123, -16.80733218939263, -16.810846119444445, -16.81056097673016, -16.80839644670707, -16.8137286838744, -16.80608764727273, -16.813663738297258, -16.815474371965532, -16.803831496986138, -16.803717573665732, -16.80661767774725, -16.81428559206349, -16.810283196507935, -16.811813142857144, -16.811986394708807, -16.80322197953824, -16.80401346275613, -16.808588284547618, -16.803214403924965, -16.809205661777778, -16.81150286915307, -16.806314272751322, -16.8067268111803, -16.812560348862434, -16.80252114079365, -16.81579664730159, -16.811907766805554, -16.81114933266234, -16.82750374, -16.809710016760768, -16.804348204751175, -16.807042719866246, -16.809773125470084, -16.805270130501444, -16.813377200569988, -16.802910051721295, -16.805922071100532, -16.814615144887654, -16.815118025299146, -16.824033360952384, -16.806962566782104, -16.810216766214527, -16.803270119183672, -16.815306873121692, -16.81785276865079, -16.815015783333333, -16.820554607896824, -16.81445206, -16.80766463952575, -16.802420912244898, -16.80667248793651, -16.807707169240732, -16.816920312786518, -16.809952951488512, -16.80152652103082, -16.809370114517705, -16.81302245910053, -16.811183565600906, -16.80776869573211, -16.80147420727273, -16.81447201802469, -16.804468044666667, -16.808868005026454, -16.805363394575497, -16.804001936289684, -16.8044910364903, -16.8128478757326, -16.81331775599464, -16.811610046666665, -16.802189455301363, -16.806035993795096, -16.812277138253666, -16.808990839015873, -16.82838013, -16.815928954188035, -16.801778900000002, -16.81735956620859, -16.805227616349207, -16.808434286507936, -16.80538268125, -16.816798794603173, -16.810520863403422, -16.805594746009298, -16.8187786410696, -16.808371363333332, -16.81262020924603, -16.81153385213675, -16.8075273976004, -16.809421650333334, -16.816767271004274, -16.813584672275873, -16.815444844808802, -16.811139748253968, -16.80941389000333, -16.81465393022432, -16.804018701125543, -16.813630767370128, -16.81439712890788, -16.81165145015873, -16.811063647876164, -16.81232473501102, -16.802620341904763, -16.811087517858066, -16.803404793561008, -16.812611030449954, -16.80298866176871, -16.81201064242491, -16.809280446153846, -16.806989649903798, -16.816997734931128, -16.80363793238095, -16.814095061099888, -16.810044783571428, -16.81470681103854, -16.80347247388889, -16.80729911523077, -16.82342017021645, -16.825120588, -16.81202388829932, -16.811228431555556, -16.808597296703297, -16.806109218261984, -16.815935207489176, -16.803986697546897, -16.807998197549857, -16.81592952977393, -16.814552389526003, -16.810543300119047, -16.802813087047618, -16.801161556363635, -16.812006418227515, -16.809385457333335, -16.80778759736646, -16.80356741852814, -16.804870247058822, -16.80812800309368, -16.804932488, -16.804621206296297, -16.809213715555558, -16.807001153333335, -16.802799822675738, -16.818556825223666, -16.82589511111111, -16.812248753333332, -16.807615241326822, -16.826042819999998, -16.809332070238096, -16.805572838797314, -16.82792851, -16.809616961515985, -16.805247294733768, -16.815024124098123, -16.80318551936508, -16.80867388095238], \"x\": [145.71665996594385, 145.70232743494827, 145.72172266925926, 145.70360529135942, 145.72315581221446, 145.70457113592852, 145.70853893999998, 145.7188299921763, 145.70862741060532, 145.70064363586425, 145.72037249872454, 145.7240587519728, 145.7191044999334, 145.70120230472583, 145.70425504249997, 145.70776208718854, 145.7215454076587, 145.72227852342473, 145.70628737874418, 145.7024059393254, 145.71853823341993, 145.70261021548976, 145.72050945238095, 145.7006749188771, 145.72579511838063, 145.70074352258715, 145.70498106222223, 145.70111760962286, 145.7014481304762, 145.7235726485714, 145.72101664090908, 145.71930397528044, 145.72117657714284, 145.70512139786433, 145.7193500674459, 145.70873932712954, 145.70495409993006, 145.72264786902494, 145.70437727151403, 145.7044527579592, 145.72327183186147, 145.72052068564705, 145.7264598599093, 145.7168977929293, 145.72401077709878, 145.72207340889082, 145.70184782895447, 145.70183499714648, 145.72253669174603, 145.70439785652235, 145.7005969347988, 145.72107306109092, 145.7182592229309, 145.70255584906073, 145.70593094180433, 145.72304096825772, 145.70666320528784, 145.71974100539683, 145.71861637174604, 145.72481136, 145.71733842982147, 145.70077340608626, 145.70379698867606, 145.72062244596825, 145.71033741122656, 145.7257737928889, 145.71939614550115, 145.70169969285715, 145.72452893470086, 145.72134577201058, 145.722267994127, 145.7184778741799, 145.72014057625, 145.72336162530843, 145.70526581000001, 145.72376108592542, 145.70159818691346, 145.7040022489441, 145.72177680626783, 145.70394923693001, 145.7017008765873, 145.7194835228819, 145.70609961781042, 145.7211435392888, 145.7034469191453, 145.7054677657143, 145.72094338689755, 145.7177571601693, 145.70330023510206, 145.7222376647619, 145.71988924880952, 145.71916240860318, 145.71956833472223, 145.72419076666668, 145.7055579017252, 145.70560000979592, 145.72217962444444, 145.70138378758338, 145.7005224200636, 145.722932691988, 145.70036282494175, 145.70498096886038, 145.7201414955291, 145.71755669304886, 145.7229032618691, 145.72114700831168, 145.70207340592594, 145.70561635073017, 145.70132671666667, 145.72113352053182, 145.70760532593255, 145.70286603622574, 145.71819913379787, 145.72207937235623, 145.72674642888887, 145.70458601293745, 145.72418068106782, 145.72407346109122, 145.7240593779365, 145.70870313, 145.70339638938927, 145.71832334000004, 145.70106459640743, 145.7031791806349, 145.70190418559525, 145.70809590625, 145.71890108320346, 145.7195161171944, 145.70139750278017, 145.71871790945056, 145.72544529888887, 145.71711426722223, 145.70145677641025, 145.70054040757842, 145.72311060433333, 145.72051743987177, 145.70312045145872, 145.72163199161696, 145.7222924615873, 145.7007598259052, 145.70079230738557, 145.70496437217895, 145.70241857404403, 145.72323851462488, 145.72140259555556, 145.7241740760173, 145.70199006831896, 145.70945908698414, 145.70231865818442, 145.7043233694661, 145.71938794454678, 145.7024923710204, 145.72242739151403, 145.71528719999995, 145.70229932777778, 145.71971488453892, 145.72200107190477, 145.72044702632996, 145.7262279443651, 145.71845048426098, 145.72034061142858, 145.72204711037608, 145.705411261342, 145.70525954, 145.71654739437642, 145.72523435955557, 145.72184829802197, 145.7044341189931, 145.70415831098123, 145.70070717030592, 145.7024660939969, 145.70474363410293, 145.7028105917947, 145.7205253826984, 145.72162705968253, 145.7008777087542, 145.71833360891534, 145.71946146355558, 145.725109125118, 145.70170189842872, 145.7062784714161, 145.70369920945535, 145.7020774737143, 145.70362011296297, 145.71641298888886, 145.72295406, 145.7038312268934, 145.7195534347842, 145.70848006666668, 145.72724859111113, 145.72071902776014, 145.70470016, 145.7016487413492, 145.70747737727106, 145.70829340499998, 145.705580862278, 145.7053453531433, 145.71996030272007, 145.7055989231746, 145.7231624263492], \"type\": \"scatter\"}], {\"yaxis\": {\"scaleratio\": 1, \"scaleanchor\": \"x\"}, \"title\": \"Yorkey's Knob Building Cluster Coordinates with 200 Clusters\"}, {\"linkText\": \"Export to plot.ly\", \"showLink\": true})});</script>"
      ],
      "text/vnd.plotly.v1+html": [
       "<div id=\"98371be8-3ab3-4242-9f4d-34640fe38dfa\" style=\"height: 525px; width: 100%;\" class=\"plotly-graph-div\"></div><script type=\"text/javascript\">require([\"plotly\"], function(Plotly) { window.PLOTLYENV=window.PLOTLYENV || {};window.PLOTLYENV.BASE_URL=\"https://plot.ly\";Plotly.newPlot(\"98371be8-3ab3-4242-9f4d-34640fe38dfa\", [{\"name\": \"Cluster 0 Buildings\", \"marker\": {\"color\": \"rgba(25,25,25, 0.75)\", \"size\": 6}, \"mode\": \"markers\", \"y\": [-16.8106362, -16.811296069230767, -16.81100749333333, -16.81153212, -16.81110574, -16.8115934, -16.810830357142862, -16.811159742857143, -16.8108243, -16.81136285555555], \"x\": [145.71648076, 145.71698800769232, 145.71646346, 145.71643622, 145.71693868, 145.716873, 145.71698768571432, 145.71646074285715, 145.71649251428568, 145.71647858888892], \"type\": \"scatter\"}, {\"name\": \"Cluster 1 Buildings\", \"marker\": {\"color\": \"rgba(50,50,50, 0.75)\", \"size\": 6}, \"mode\": \"markers\", \"y\": [-16.808626146153845, -16.80892499090909, -16.809152140000002, -16.80908282, -16.80867298571429, -16.808783466666668, -16.80904335555556, -16.808810388888887, -16.808965055555557], \"x\": [145.70276602307698, 145.70256097272727, 145.70226530000002, 145.70219066, 145.70229351428569, 145.70235616666668, 145.70238447777774, 145.70202855555556, 145.70210124444444], \"type\": \"scatter\"}, {\"name\": \"Cluster 2 Buildings\", \"marker\": {\"color\": \"rgba(75,75,75, 0.75)\", \"size\": 6}, \"mode\": \"markers\", \"y\": [-16.80791854, -16.807850499999994, -16.80767712, -16.80749558, -16.808021259999997, -16.8080453], \"x\": [145.72219748, 145.72156656, 145.72158032000004, 145.72161649999995, 145.7215822, 145.72179295555554], \"type\": \"scatter\"}, {\"name\": \"Cluster 3 Buildings\", \"marker\": {\"color\": \"rgba(100,100,100, 0.75)\", \"size\": 6}, \"mode\": \"markers\", \"y\": [-16.814141509090913, -16.81411645, -16.814013246153852, -16.813986840000002, -16.81429449090909, -16.814376016666667, -16.81421168888889, -16.814554763636366, -16.814532611111108, -16.814272033333335, -16.814450455555562, -16.814710418181818], \"x\": [145.7037461909091, 145.70347155, 145.7036106, 145.70371563999996, 145.70387802727268, 145.7036342083333, 145.70333594444443, 145.70400116363638, 145.70336813333338, 145.70320404444442, 145.70347626666666, 145.70382172727273], \"type\": \"scatter\"}, {\"name\": \"Cluster 4 Buildings\", \"marker\": {\"color\": \"rgba(125,125,125, 0.75)\", \"size\": 6}, \"mode\": \"markers\", \"y\": [-16.813278090909094, -16.81258249090909, -16.813270640000002, -16.81309028, -16.81267416, -16.812682059999997, -16.81278434, -16.812927399999996, -16.81311548, -16.812947228571428, -16.813311985714282, -16.812738, -16.812776344444448], \"x\": [145.72300546363638, 145.72292598181818, 145.72338956, 145.72290149999995, 145.72345837999995, 145.72326578000005, 145.72312168, 145.72368160000005, 145.72298008, 145.72290942857143, 145.72284317142856, 145.7236332777778, 145.72290965555555], \"type\": \"scatter\"}, {\"name\": \"Cluster 5 Buildings\", \"marker\": {\"color\": \"rgba(150,150,150, 0.75)\", \"size\": 6}, \"mode\": \"markers\", \"y\": [-16.804503959999998, -16.80477454, -16.804624342857142, -16.804636799999994, -16.804869155555554, -16.804932511111115, -16.80520004615385, -16.80556498, -16.80530677333333, -16.80504822, -16.80540642222222], \"x\": [145.70437374, 145.70464413999997, 145.70452519999998, 145.70490143333333, 145.70477667777774, 145.70423797777778, 145.70445433076927, 145.7047381, 145.70434430000003, 145.70444074, 145.70484585555556], \"type\": \"scatter\"}, {\"name\": \"Cluster 6 Buildings\", \"marker\": {\"color\": \"rgba(175,175,175, 0.75)\", \"size\": 6}, \"mode\": \"markers\", \"y\": [-16.82675598, -16.82718076], \"x\": [145.70835466, 145.70872321999997], \"type\": \"scatter\"}, {\"name\": \"Cluster 7 Buildings\", \"marker\": {\"color\": \"rgba(200,200,200, 0.75)\", \"size\": 6}, \"mode\": \"markers\", \"y\": [-16.81762428181818, -16.81777032727273, -16.81831908, -16.8177837, -16.81796662, -16.817386579999994, -16.817998499999998, -16.81754588, -16.817551820000002, -16.817987444444444, -16.81817728888889], \"x\": [145.71859063636361, 145.7185559909091, 145.71900713999997, 145.71898163999995, 145.71896036000004, 145.71859456, 145.71911924, 145.71921814, 145.71900913999997, 145.71855337777774, 145.71853968888888], \"type\": \"scatter\"}, {\"name\": \"Cluster 8 Buildings\", \"marker\": {\"color\": \"rgba(225,225,225, 0.75)\", \"size\": 6}, \"mode\": \"markers\", \"y\": [-16.80451702727273, -16.804545284615386, -16.804430766666666, -16.80449384285714, -16.804424771428568, -16.804430399999998], \"x\": [145.7086788909091, 145.70884666923078, 145.70905090666662, 145.70838982857143, 145.70853245714287, 145.7082657111111], \"type\": \"scatter\"}, {\"name\": \"Cluster 9 Buildings\", \"marker\": {\"color\": \"rgba(250,250,250, 0.75)\", \"size\": 6}, \"mode\": \"markers\", \"y\": [-16.805107560000003, -16.80482404, -16.80524158181818, -16.8046538, -16.80473728, -16.80538504, -16.80488014285714, -16.80514074285714, -16.80458422222222, -16.805022266666665, -16.805497590909088, -16.80562986], \"x\": [145.70035825999997, 145.70083469999997, 145.70082684545457, 145.70074038823532, 145.70028792, 145.70066814, 145.70044184285715, 145.70094952857144, 145.70056508888888, 145.7010844, 145.70057463636363, 145.70039188000004], \"type\": \"scatter\"}, {\"name\": \"Cluster 10 Buildings\", \"marker\": {\"color\": \"rgba(20,20,20, 0.75)\", \"size\": 6}, \"mode\": \"markers\", \"y\": [-16.802224763636364, -16.80145530833333, -16.801877339999994, -16.802412080000003, -16.802563780000003, -16.80206424, -16.802122100000002, -16.802251428571427, -16.802534355555554], \"x\": [145.72049317272732, 145.71998739166668, 145.72019454000005, 145.72062358, 145.72043266, 145.72062566, 145.7201446, 145.7207750285714, 145.72007585555556], \"type\": \"scatter\"}, {\"name\": \"Cluster 11 Buildings\", \"marker\": {\"color\": \"rgba(45,45,45, 0.75)\", \"size\": 6}, \"mode\": \"markers\", \"y\": [-16.81018093333333, -16.81034082, -16.80988934, -16.810318119999998, -16.810363542857143, -16.8100828, -16.81023312857143], \"x\": [145.72377472000005, 145.72369512666668, 145.72437040000003, 145.72408345999997, 145.7239865, 145.72435397142857, 145.72414708571432], \"type\": \"scatter\"}, {\"name\": \"Cluster 12 Buildings\", \"marker\": {\"color\": \"rgba(70,70,70, 0.75)\", \"size\": 6}, \"mode\": \"markers\", \"y\": [-16.81357216, -16.81357046, -16.81387394, -16.81350505714286, -16.813525114285714, -16.81388022222222, -16.813837611111108, -16.81389911111111, -16.814290484615384, -16.814329280000006, -16.81429638571429], \"x\": [145.71943826, 145.71926266, 145.71924366, 145.7188601285714, 145.71905382857145, 145.71943145555554, 145.71882123333333, 145.71903564444446, 145.7187918230769, 145.71921892, 145.71899188571427], \"type\": \"scatter\"}, {\"name\": \"Cluster 13 Buildings\", \"marker\": {\"color\": \"rgba(95,95,95, 0.75)\", \"size\": 6}, \"mode\": \"markers\", \"y\": [-16.816789242857144, -16.81702167142857, -16.816740318181818, -16.816667972727274, -16.816693722222222, -16.816699733333333, -16.81694078888889, -16.816714311111113], \"x\": [145.70151864285714, 145.70154870000005, 145.7012675909091, 145.70089158181815, 145.70099696666668, 145.70107943333338, 145.70113462222218, 145.70118089999997], \"type\": \"scatter\"}, {\"name\": \"Cluster 14 Buildings\", \"marker\": {\"color\": \"rgba(120,120,120, 0.75)\", \"size\": 6}, \"mode\": \"markers\", \"y\": [-16.822938880000002, -16.8230915, -16.82349826, -16.823505219999998, -16.823633899999994, -16.823268759999998, -16.82338894, -16.823835314285713], \"x\": [145.70430038, 145.70429043999997, 145.70452817999995, 145.7041621, 145.70415645999995, 145.70426356, 145.70414941999996, 145.7041898], \"type\": \"scatter\"}, {\"name\": \"Cluster 15 Buildings\", \"marker\": {\"color\": \"rgba(145,145,145, 0.75)\", \"size\": 6}, \"mode\": \"markers\", \"y\": [-16.80094819090909, -16.801320339999997, -16.801005080000003, -16.800766860000003, -16.80112748, -16.800560060000002, -16.8007319, -16.800694600000003, -16.80084972857143, -16.800795533333332, -16.800407633333336, -16.80102417777778], \"x\": [145.70743888181815, 145.70788606000005, 145.70822406, 145.70756014, 145.70772104000002, 145.70787734, 145.70746626, 145.70803302, 145.7081566, 145.70736453333333, 145.70776667777778, 145.70765043333333], \"type\": \"scatter\"}, {\"name\": \"Cluster 16 Buildings\", \"marker\": {\"color\": \"rgba(170,170,170, 0.75)\", \"size\": 6}, \"mode\": \"markers\", \"y\": [-16.811079639999996, -16.8106492, -16.810989380000002, -16.81081806, -16.810670140000006, -16.810765416666666, -16.81063347142857, -16.811152855555555], \"x\": [145.72169372, 145.72148539999995, 145.72127591999995, 145.72187241999995, 145.72166396, 145.72127966666667, 145.72187018571432, 145.7212219888889], \"type\": \"scatter\"}, {\"name\": \"Cluster 17 Buildings\", \"marker\": {\"color\": \"rgba(195,195,195, 0.75)\", \"size\": 6}, \"mode\": \"markers\", \"y\": [-16.80598291851852, -16.806059400000002, -16.80589508, -16.80599574, -16.805979360000002, -16.80596594, -16.805680920000004, -16.805912760000002, -16.806147214285712, -16.806063322222222, -16.8060339], \"x\": [145.72274161481482, 145.7224094, 145.72197144, 145.72220866, 145.72229524, 145.72304169999995, 145.7219622, 145.72180085999997, 145.72279024285714, 145.7220106777778, 145.72183172222222], \"type\": \"scatter\"}, {\"name\": \"Cluster 18 Buildings\", \"marker\": {\"color\": \"rgba(220,220,220, 0.75)\", \"size\": 6}, \"mode\": \"markers\", \"y\": [-16.808716146666665, -16.80853862727273, -16.80921260769231, -16.80866988, -16.809419394117647, -16.808847214285713, -16.808767785714284, -16.8084461125], \"x\": [145.70592364666666, 145.7062169181818, 145.70632669999995, 145.70607774, 145.70620024117648, 145.70658388571428, 145.7066463857143, 145.7063235125], \"type\": \"scatter\"}, {\"name\": \"Cluster 19 Buildings\", \"marker\": {\"color\": \"rgba(245,245,245, 0.75)\", \"size\": 6}, \"mode\": \"markers\", \"y\": [-16.803820280000004, -16.80354164, -16.803812, -16.8034423, -16.803546177777775, -16.80391965714286, -16.80402102857143, -16.804158400000002], \"x\": [145.702129, 145.70271464, 145.70266571428567, 145.70239115714287, 145.70221919999997, 145.70253927142858, 145.70235394285714, 145.7022345888889], \"type\": \"scatter\"}, {\"name\": \"Cluster 20 Buildings\", \"marker\": {\"color\": \"rgba(15,15,15, 0.75)\", \"size\": 6}, \"mode\": \"markers\", \"y\": [-16.811041839999998, -16.810989057142855, -16.810976942857142, -16.811275560000002, -16.81131204, -16.81139974, -16.811681720000006, -16.811263559999997, -16.81148312, -16.811482685714285, -16.811269822222222], \"x\": [145.71879968, 145.71861348571431, 145.71843795714284, 145.7184659, 145.71856102, 145.71823114, 145.7186459, 145.71829312000003, 145.71841106000005, 145.71871807142855, 145.71874323333333], \"type\": \"scatter\"}, {\"name\": \"Cluster 21 Buildings\", \"marker\": {\"color\": \"rgba(40,40,40, 0.75)\", \"size\": 6}, \"mode\": \"markers\", \"y\": [-16.812173122222227, -16.812187966666666, -16.812968845454545, -16.81279883846154, -16.81298643846154, -16.812775271428574, -16.813066233333338, -16.812537499999998, -16.81253877142857, -16.812799599999998, -16.812702429999998], \"x\": [145.70255018888892, 145.7027168666667, 145.70303334545454, 145.7029425923077, 145.7027865923077, 145.70238098571426, 145.70259229333337, 145.7023911714286, 145.70259637142857, 145.70213344285713, 145.70258852], \"type\": \"scatter\"}, {\"name\": \"Cluster 22 Buildings\", \"marker\": {\"color\": \"rgba(65,65,65, 0.75)\", \"size\": 6}, \"mode\": \"markers\", \"y\": [-16.81567082, -16.81553758, -16.815808280000002, -16.81592918, -16.816257380000003, -16.815528828571427, -16.815858185714287, -16.816133214285713, -16.81575822222222, -16.816120533333333], \"x\": [145.72067002, 145.72099373999995, 145.71993894000005, 145.72063150000002, 145.72062710000003, 145.72072857142857, 145.72015818571433, 145.7206254, 145.72067364444445, 145.72004742222222], \"type\": \"scatter\"}, {\"name\": \"Cluster 23 Buildings\", \"marker\": {\"color\": \"rgba(90,90,90, 0.75)\", \"size\": 6}, \"mode\": \"markers\", \"y\": [-16.808076309090907, -16.808418142857143, -16.808180385714284, -16.808541814285714, -16.808307966666664, -16.80887254545455, -16.808742245454546, -16.80828300909091, -16.8086189, -16.808510985714285, -16.808425277777776], \"x\": [145.70085423636363, 145.70046282857143, 145.70074577142856, 145.7003382285714, 145.70061711111111, 145.70043671818183, 145.70053115454547, 145.70103066363637, 145.7006724285714, 145.70080810000005, 145.7009268666667], \"type\": \"scatter\"}, {\"name\": \"Cluster 24 Buildings\", \"marker\": {\"color\": \"rgba(115,115,115, 0.75)\", \"size\": 6}, \"mode\": \"markers\", \"y\": [-16.811746672727274, -16.81182622727273, -16.8121399, -16.81201386, -16.81205428, -16.81183694, -16.811523342857143, -16.812016777777778, -16.812192611111108], \"x\": [145.7258079090909, 145.7259983636364, 145.72562608, 145.72607606, 145.72556912, 145.72584832, 145.72572125714285, 145.7253739777778, 145.72613497777778], \"type\": \"scatter\"}, {\"name\": \"Cluster 25 Buildings\", \"marker\": {\"color\": \"rgba(140,140,140, 0.75)\", \"size\": 6}, \"mode\": \"markers\", \"y\": [-16.80603220909091, -16.806376399999998, -16.806201254545456, -16.80629862, -16.806358, -16.806100679999997, -16.80607355714286, -16.806549142857143, -16.806648225, -16.806483, -16.806792442857144, -16.806859811111117, -16.806758566666666], \"x\": [145.70079046363637, 145.70095297272732, 145.70074561818183, 145.70054350000004, 145.70032164, 145.70095796, 145.70064282857143, 145.70072552857144, 145.7005630375, 145.7008714222222, 145.7011273, 145.7009791888889, 145.70044433333334], \"type\": \"scatter\"}, {\"name\": \"Cluster 26 Buildings\", \"marker\": {\"color\": \"rgba(165,165,165, 0.75)\", \"size\": 6}, \"mode\": \"markers\", \"y\": [-16.80278766, -16.802728339999998, -16.80300096, -16.80285398, -16.80327766, -16.802967644444443, -16.80317797777778], \"x\": [145.70479236, 145.70523806, 145.70509668, 145.70528486, 145.70480532, 145.70468101111112, 145.70496914444448], \"type\": \"scatter\"}, {\"name\": \"Cluster 27 Buildings\", \"marker\": {\"color\": \"rgba(190,190,190, 0.75)\", \"size\": 6}, \"mode\": \"markers\", \"y\": [-16.81538828, -16.815084609090906, -16.814961922222224, -16.81572972, -16.81536042857143, -16.815446142857144, -16.815406885714285, -16.81544921111111, -16.815852586666665, -16.815377085714278, -16.815071457142857, -16.815198488888882, -16.815746554545456, -16.815719627272728, -16.81578605384615, -16.815806338461538, -16.81568642222222, -16.8156886], \"x\": [145.70061732, 145.70102670000003, 145.70141937777774, 145.70110472000005, 145.70047631428568, 145.70127315714285, 145.70096595714287, 145.70112380000003, 145.70178436666666, 145.70164055714287, 145.70148527142854, 145.70155891111108, 145.70093192727273, 145.70076337272727, 145.70126497692306, 145.7016133769231, 145.70060484444446, 145.70046202222224], \"type\": \"scatter\"}, {\"name\": \"Cluster 28 Buildings\", \"marker\": {\"color\": \"rgba(215,215,215, 0.75)\", \"size\": 6}, \"mode\": \"markers\", \"y\": [-16.80242872, -16.802973780000002, -16.80264288, -16.80236994, -16.802523639999997, -16.80229232857143, -16.802743777777778, -16.80286057777778, -16.803062599999997], \"x\": [145.70186574, 145.70149814, 145.70117578000003, 145.70139844, 145.70132906, 145.70167011428572, 145.70104677777778, 145.70169372222222, 145.7013554], \"type\": \"scatter\"}, {\"name\": \"Cluster 29 Buildings\", \"marker\": {\"color\": \"rgba(240,240,240, 0.75)\", \"size\": 6}, \"mode\": \"markers\", \"y\": [-16.80698264, -16.80718182, -16.80729786, -16.80697624, -16.807696999999994, -16.80766546, -16.807487679999998], \"x\": [145.72375812, 145.72364438, 145.72352192, 145.72346546, 145.72368369999998, 145.72343963999995, 145.72349531999996], \"type\": \"scatter\"}, {\"name\": \"Cluster 30 Buildings\", \"marker\": {\"color\": \"rgba(10,10,10, 0.75)\", \"size\": 6}, \"mode\": \"markers\", \"y\": [-16.80419860909091, -16.80393188, -16.80375104, -16.804276859999998, -16.803821640000002, -16.803883120000002, -16.80340154, -16.803968428571427], \"x\": [145.72086992727267, 145.72152025999995, 145.72068894, 145.7210362, 145.72099254, 145.7212939, 145.72095386, 145.7207775], \"type\": \"scatter\"}, {\"name\": \"Cluster 31 Buildings\", \"marker\": {\"color\": \"rgba(35,35,35, 0.75)\", \"size\": 6}, \"mode\": \"markers\", \"y\": [-16.81920846, -16.819410457142858, -16.82006164, -16.81941752, -16.81992808, -16.820034319999998, -16.81930648, -16.81965676, -16.82000256, -16.819598857142857, -16.81950421428571, -16.819719728571428, -16.81921834285714, -16.819397388888888, -16.819586544444444], \"x\": [145.71961993999997, 145.7193886285714, 145.71908678, 145.71969384, 145.71915206, 145.71926458000004, 145.71947344, 145.7192693, 145.71962334, 145.71967565714286, 145.71936361428575, 145.7190367285714, 145.71932694285715, 145.71874198888892, 145.71884278888888], \"type\": \"scatter\"}, {\"name\": \"Cluster 32 Buildings\", \"marker\": {\"color\": \"rgba(60,60,60, 0.75)\", \"size\": 6}, \"mode\": \"markers\", \"y\": [-16.813237880000006, -16.813209540000006, -16.81376048, -16.813379819999998, -16.813997540000006, -16.813407520000002, -16.8134695, -16.81378788, -16.8133233, -16.8138908, -16.81388782, -16.81350977142857, -16.814064000000002], \"x\": [145.72127342000005, 145.72098986, 145.72096904, 145.72134297999997, 145.7209274, 145.72147716, 145.72099214, 145.72126985999995, 145.72096034, 145.72141074, 145.72092981999995, 145.72141004285714, 145.72134269999998], \"type\": \"scatter\"}, {\"name\": \"Cluster 33 Buildings\", \"marker\": {\"color\": \"rgba(85,85,85, 0.75)\", \"size\": 6}, \"mode\": \"markers\", \"y\": [-16.806348636363634, -16.807014036363636, -16.806771807692307, -16.80689908, -16.806234099999998, -16.807178772727273, -16.80728542], \"x\": [145.70517969999997, 145.70532437272723, 145.70513979999996, 145.70526977999995, 145.70526717777776, 145.70486495454546, 145.704804], \"type\": \"scatter\"}, {\"name\": \"Cluster 34 Buildings\", \"marker\": {\"color\": \"rgba(110,110,110, 0.75)\", \"size\": 6}, \"mode\": \"markers\", \"y\": [-16.81619945454545, -16.81578704, -16.815995700000002, -16.81623802, -16.81578012, -16.816214400000003, -16.8163201, -16.815762928571427, -16.8161776, -16.816159222222225, -16.815723600000002, -16.815771444444447], \"x\": [145.71926076363638, 145.71978338, 145.71897713999996, 145.71947142, 145.71958632, 145.71889002857142, 145.71982727142858, 145.71940622857144, 145.71908965714286, 145.71966619999998, 145.71901136666668, 145.7192310333334], \"type\": \"scatter\"}, {\"name\": \"Cluster 35 Buildings\", \"marker\": {\"color\": \"rgba(135,135,135, 0.75)\", \"size\": 6}, \"mode\": \"markers\", \"y\": [-16.80156380909091, -16.801706176923076, -16.801849699999998, -16.80184196, -16.801317140000002, -16.80169966, -16.80198484, -16.80144182, -16.80185147142857, -16.80214094, -16.802015680000004, -16.80229597142857], \"x\": [145.70878238181817, 145.70830319230768, 145.7090354, 145.70910562, 145.70849928, 145.70891125999995, 145.70915054, 145.70862416, 145.70844662857144, 145.70868586, 145.70853166, 145.70879594285714], \"type\": \"scatter\"}, {\"name\": \"Cluster 36 Buildings\", \"marker\": {\"color\": \"rgba(160,160,160, 0.75)\", \"size\": 6}, \"mode\": \"markers\", \"y\": [-16.798944618181814, -16.798807384615387, -16.798558359999998, -16.798753733333335], \"x\": [145.70486191818182, 145.70383706153842, 145.70563972, 145.7054777], \"type\": \"scatter\"}, {\"name\": \"Cluster 37 Buildings\", \"marker\": {\"color\": \"rgba(185,185,185, 0.75)\", \"size\": 6}, \"mode\": \"markers\", \"y\": [-16.80884342, -16.808936179999996, -16.80866832, -16.808620933333334, -16.80948514285714, -16.80912988888889, -16.809149177777773], \"x\": [145.72256894, 145.7226608, 145.72275794, 145.7225810333333, 145.72254101428572, 145.72260923333332, 145.72281612222224], \"type\": \"scatter\"}, {\"name\": \"Cluster 38 Buildings\", \"marker\": {\"color\": \"rgba(210,210,210, 0.75)\", \"size\": 6}, \"mode\": \"markers\", \"y\": [-16.815322876923076, -16.814936644444444, -16.815034311111113, -16.81496516153846, -16.815164830769227, -16.815275585714286, -16.81522126666667, -16.81473598888889, -16.815487, -16.814847744444442], \"x\": [145.70479866153846, 145.7047116, 145.7048207, 145.70398804615385, 145.70443711538462, 145.70413001428568, 145.70424472222226, 145.70408997777776, 145.70435957777775, 145.70419230000005], \"type\": \"scatter\"}, {\"name\": \"Cluster 39 Buildings\", \"marker\": {\"color\": \"rgba(235,235,235, 0.75)\", \"size\": 6}, \"mode\": \"markers\", \"y\": [-16.825110940000002, -16.8251073, -16.82504026, -16.8243029, -16.82510772, -16.825143100000002, -16.824955399999997], \"x\": [145.7042848, 145.70452866, 145.70391764, 145.70432300000004, 145.70464711999998, 145.70479430000003, 145.70467378571428], \"type\": \"scatter\"}, {\"name\": \"Cluster 40 Buildings\", \"marker\": {\"color\": \"rgba(5,5,5, 0.75)\", \"size\": 6}, \"mode\": \"markers\", \"y\": [-16.8120534, -16.8121702, -16.81165842, -16.81193788, -16.811746680000002, -16.81217754, -16.8118367, -16.811812033333336, -16.812207677777778, -16.811745955555555, -16.81217339], \"x\": [145.72350146, 145.72292964000005, 145.72316686, 145.72331288, 145.72332068, 145.7232988, 145.72311615714287, 145.7237, 145.72314987777776, 145.72295055555554, 145.72354324000003], \"type\": \"scatter\"}, {\"name\": \"Cluster 41 Buildings\", \"marker\": {\"color\": \"rgba(30,30,30, 0.75)\", \"size\": 6}, \"mode\": \"markers\", \"y\": [-16.809802041176475, -16.80963266, -16.809309399999997, -16.80926834, -16.80944678, -16.809385459999998, -16.80931314, -16.80952488, -16.80975512222222, -16.809586000000003], \"x\": [145.72037297647063, 145.72020518, 145.72053946, 145.72029884, 145.72091645999996, 145.72034312, 145.72065898, 145.72034044, 145.72072284444445, 145.72080855555558], \"type\": \"scatter\"}, {\"name\": \"Cluster 42 Buildings\", \"marker\": {\"color\": \"rgba(55,55,55, 0.75)\", \"size\": 6}, \"mode\": \"markers\", \"y\": [-16.810751160000002, -16.810723455555557, -16.81122782, -16.81103322857143, -16.811084514285714, -16.81102832222222, -16.81123641111111], \"x\": [145.7265426, 145.72671534444444, 145.72646734, 145.72639617142858, 145.72657008571431, 145.7262066777778, 145.72632080000002], \"type\": \"scatter\"}, {\"name\": \"Cluster 43 Buildings\", \"marker\": {\"color\": \"rgba(80,80,80, 0.75)\", \"size\": 6}, \"mode\": \"markers\", \"y\": [-16.809925336363634, -16.810076000000002, -16.81010654, -16.8100108, -16.810163199999998, -16.810193199999997, -16.80998434, -16.80997438, -16.81009938, -16.8100849, -16.80998374444444, -16.80993831111111, -16.8104181, -16.81035997142857, -16.810364528571426], \"x\": [145.71675392727272, 145.71665926, 145.71694014, 145.71691914000004, 145.71677414, 145.71696518000005, 145.71677448000003, 145.71667646, 145.7168447, 145.71674624, 145.71712491111109, 145.71735425555553, 145.71717596000005, 145.71678064285715, 145.71697745714286], \"type\": \"scatter\"}, {\"name\": \"Cluster 44 Buildings\", \"marker\": {\"color\": \"rgba(105,105,105, 0.75)\", \"size\": 6}, \"mode\": \"markers\", \"y\": [-16.808028741666664, -16.80815634, -16.8080907, -16.80813872, -16.80800532, -16.8078857, -16.80823818, -16.80791444444445, -16.808202285714284], \"x\": [145.72354815833333, 145.72426534000004, 145.72378650000005, 145.72411609999997, 145.72395822, 145.72387419999998, 145.72394432, 145.72414335555558, 145.7244608], \"type\": \"scatter\"}, {\"name\": \"Cluster 45 Buildings\", \"marker\": {\"color\": \"rgba(130,130,130, 0.75)\", \"size\": 6}, \"mode\": \"markers\", \"y\": [-16.81391322, -16.8139299, -16.814142566666668, -16.813894333333334, -16.81417634, -16.81409576, -16.814336200000003, -16.814057580000004, -16.8142253, -16.814358640000002, -16.81465728181818, -16.81428778, -16.81447312857143, -16.81465612222222, -16.814483300000003], \"x\": [145.72215644, 145.72229094, 145.72228498, 145.72188387333333, 145.72217918000004, 145.72183106, 145.72180780000005, 145.72239414000003, 145.72190972, 145.72197838000002, 145.72224607272733, 145.72224046000005, 145.72184094285714, 145.72176467777774, 145.72229246666666], \"type\": \"scatter\"}, {\"name\": \"Cluster 46 Buildings\", \"marker\": {\"color\": \"rgba(155,155,155, 0.75)\", \"size\": 6}, \"mode\": \"markers\", \"y\": [-16.807070663636367, -16.807260993333333, -16.807470520000006, -16.807157, -16.807306742857143, -16.807429071428572, -16.807492514285716, -16.80760188888889, -16.8077184, -16.80715958888889, -16.8069867], \"x\": [145.70146521818182, 145.70201436666667, 145.70206804, 145.70162298571432, 145.7017078, 145.70220091428567, 145.70176167142856, 145.7019738222222, 145.7018373111111, 145.70188616666667, 145.70178782222226], \"type\": \"scatter\"}, {\"name\": \"Cluster 47 Buildings\", \"marker\": {\"color\": \"rgba(180,180,180, 0.75)\", \"size\": 6}, \"mode\": \"markers\", \"y\": [-16.81060508, -16.81094711818182, -16.81109348181818, -16.81072146, -16.810708277777778, -16.81105247777778, -16.810855800000002, -16.810785259999996], \"x\": [145.70172634, 145.7019689909091, 145.70186768181816, 145.70170589999995, 145.7019444, 145.7016639, 145.70169034444447, 145.70211242000005], \"type\": \"scatter\"}, {\"name\": \"Cluster 48 Buildings\", \"marker\": {\"color\": \"rgba(205,205,205, 0.75)\", \"size\": 6}, \"mode\": \"markers\", \"y\": [-16.81016654, -16.81067456, -16.810279259999998, -16.81032545714286, -16.810708685714285, -16.810753511111113, -16.81062798, -16.810682500000002, -16.810629340000002, -16.810761933333332], \"x\": [145.72254006000003, 145.72263610000002, 145.72247256, 145.72269391428568, 145.72279301428574, 145.72302157777776, 145.72225054, 145.72242994000004, 145.72206109999996, 145.7224681111111], \"type\": \"scatter\"}, {\"name\": \"Cluster 49 Buildings\", \"marker\": {\"color\": \"rgba(230,230,230, 0.75)\", \"size\": 6}, \"mode\": \"markers\", \"y\": [-16.80790254, -16.80818052, -16.8085733, -16.808229211111108, -16.808357166666664, -16.807986855555555, -16.808487318181818, -16.808593585714288, -16.808863014285713, -16.808790955555555], \"x\": [145.70432608, 145.70468472000005, 145.70473418571427, 145.70449096666667, 145.70456274444442, 145.7042386, 145.70403956363634, 145.70414674285715, 145.70444932857143, 145.70430563333332], \"type\": \"scatter\"}, {\"name\": \"Cluster 50 Buildings\", \"marker\": {\"color\": \"rgba(255,255,255, 0.75)\", \"size\": 6}, \"mode\": \"markers\", \"y\": [-16.813460371428572, -16.813137645454546, -16.81416581818182, -16.813831446153845, -16.81383928, -16.81372722857143, -16.813499585714286, -16.81414345714286, -16.813753322222222], \"x\": [145.70058834285715, 145.70028311818183, 145.70077551818184, 145.7007999, 145.70053148000005, 145.70050621428572, 145.70074164285714, 145.70048158571427, 145.70066461111108], \"type\": \"scatter\"}, {\"name\": \"Cluster 51 Buildings\", \"marker\": {\"color\": \"rgba(25,25,25, 0.75)\", \"size\": 6}, \"mode\": \"markers\", \"y\": [-16.80587942, -16.80597128, -16.80600904, -16.80629433636364, -16.80628416], \"x\": [145.72122084, 145.72091382, 145.72117158, 145.72100674545453, 145.72105232], \"type\": \"scatter\"}, {\"name\": \"Cluster 52 Buildings\", \"marker\": {\"color\": \"rgba(50,50,50, 0.75)\", \"size\": 6}, \"mode\": \"markers\", \"y\": [-16.813780279999996, -16.813433081818182, -16.813507499999996, -16.813401842857143, -16.814218840000002, -16.813475814285713, -16.813758585714282, -16.813913133333333, -16.81348456666667], \"x\": [145.71861806, 145.71830047272724, 145.7180742, 145.71787605714286, 145.71814178, 145.7186517, 145.7181901142857, 145.71799635555558, 145.71848426666668], \"type\": \"scatter\"}, {\"name\": \"Cluster 53 Buildings\", \"marker\": {\"color\": \"rgba(75,75,75, 0.75)\", \"size\": 6}, \"mode\": \"markers\", \"y\": [-16.815054654545452, -16.815687020000002, -16.8155238, -16.815251928571428, -16.8155264, -16.81534873333333, -16.81519302222222, -16.815334544444443, -16.81589786153846, -16.815925755], \"x\": [145.70225564545456, 145.70264972, 145.70295532, 145.70283334285713, 145.70250848571433, 145.70269319999997, 145.70232316666667, 145.70237762222226, 145.7023719076923, 145.70259008], \"type\": \"scatter\"}, {\"name\": \"Cluster 54 Buildings\", \"marker\": {\"color\": \"rgba(100,100,100, 0.75)\", \"size\": 6}, \"mode\": \"markers\", \"y\": [-16.804015792307688, -16.803879158823527, -16.80385196, -16.803833079999997, -16.80400002, -16.803676, -16.803890514285715, -16.8039978, -16.803489866666666, -16.803680777777775], \"x\": [145.70610567692302, 145.70629510588233, 145.7058084, 145.70563239999996, 145.70558373999995, 145.70574802857143, 145.70593017142858, 145.70591202857142, 145.70605215555554, 145.70624171111112], \"type\": \"scatter\"}, {\"name\": \"Cluster 55 Buildings\", \"marker\": {\"color\": \"rgba(125,125,125, 0.75)\", \"size\": 6}, \"mode\": \"markers\", \"y\": [-16.80332244705882, -16.80394882, -16.803896459999994, -16.80372128571429, -16.803698855555556], \"x\": [145.72320401176472, 145.72289666, 145.72274206, 145.72308344285713, 145.7232786666667], \"type\": \"scatter\"}, {\"name\": \"Cluster 56 Buildings\", \"marker\": {\"color\": \"rgba(150,150,150, 0.75)\", \"size\": 6}, \"mode\": \"markers\", \"y\": [-16.806457300000005, -16.806362580000002, -16.80625972, -16.806657407692303, -16.806567085714285, -16.806511628571428, -16.80705315555555, -16.807072544444445], \"x\": [145.70672813529413, 145.70661022000004, 145.70673563999995, 145.70630026923078, 145.7061642857143, 145.70688441428572, 145.70678203333333, 145.70710064444444], \"type\": \"scatter\"}, {\"name\": \"Cluster 57 Buildings\", \"marker\": {\"color\": \"rgba(175,175,175, 0.75)\", \"size\": 6}, \"mode\": \"markers\", \"y\": [-16.814201880000002, -16.81438462, -16.8141293, -16.814001457142858, -16.814402066666666, -16.814594228571426], \"x\": [145.71982884, 145.71938244, 145.7198123, 145.71983278571423, 145.71981716666667, 145.7197725], \"type\": \"scatter\"}, {\"name\": \"Cluster 58 Buildings\", \"marker\": {\"color\": \"rgba(200,200,200, 0.75)\", \"size\": 6}, \"mode\": \"markers\", \"y\": [-16.81002208, -16.81015428, -16.810529199999998, -16.81038742, -16.81004808, -16.8105468, -16.810597180000002, -16.810131214285715, -16.810132514285716], \"x\": [145.71849509999996, 145.71853026, 145.71846574, 145.718579, 145.71832688, 145.71883784, 145.71871524, 145.71870429999996, 145.71889298571432], \"type\": \"scatter\"}, {\"name\": \"Cluster 59 Buildings\", \"marker\": {\"color\": \"rgba(225,225,225, 0.75)\", \"size\": 6}, \"mode\": \"markers\", \"y\": [-16.81146978, -16.81139724, -16.811973100000003, -16.811944039999997, -16.81203746, -16.811934080000004, -16.811936299999996], \"x\": [145.72476348, 145.72480832, 145.72502158, 145.72518574, 145.72484881999995, 145.72462108000005, 145.72443049999995], \"type\": \"scatter\"}, {\"name\": \"Cluster 60 Buildings\", \"marker\": {\"color\": \"rgba(250,250,250, 0.75)\", \"size\": 6}, \"mode\": \"markers\", \"y\": [-16.811716154545458, -16.811801435294118, -16.8122215, -16.811826059999998, -16.81212602, -16.812181699999996, -16.812175657142856, -16.811696211111116, -16.81213281428571], \"x\": [145.71742242727268, 145.7176799058824, 145.71770261999995, 145.7170936, 145.71718944, 145.71733508, 145.71752165714287, 145.71714386666662, 145.71695727142858], \"type\": \"scatter\"}, {\"name\": \"Cluster 61 Buildings\", \"marker\": {\"color\": \"rgba(20,20,20, 0.75)\", \"size\": 6}, \"mode\": \"markers\", \"y\": [-16.80299366363636, -16.802870063636366, -16.80305516, -16.80319874, -16.80341212857143, -16.80342886, -16.803162399999998, -16.803344744444445, -16.803532055555557], \"x\": [145.70078544545453, 145.70091689090913, 145.70061404, 145.70044854, 145.70029651428572, 145.70088674, 145.70117292857142, 145.70108458888888, 145.70075496666666], \"type\": \"scatter\"}, {\"name\": \"Cluster 62 Buildings\", \"marker\": {\"color\": \"rgba(45,45,45, 0.75)\", \"size\": 6}, \"mode\": \"markers\", \"y\": [-16.80389696, -16.80364292, -16.8039948, -16.803901439999994, -16.80416657142857, -16.804198088888892, -16.80420896, -16.803779242857143, -16.803966749999994, -16.804069385714286, -16.804322971428572], \"x\": [145.70335396000004, 145.70370666, 145.70326108, 145.70393840000003, 145.70335375714288, 145.70352802222226, 145.70413828, 145.70381310000002, 145.7043123875, 145.70406570000003, 145.70429552857144], \"type\": \"scatter\"}, {\"name\": \"Cluster 63 Buildings\", \"marker\": {\"color\": \"rgba(70,70,70, 0.75)\", \"size\": 6}, \"mode\": \"markers\", \"y\": [-16.808966488, -16.80883724, -16.80842036, -16.80827116, -16.80863264, -16.808412299999997, -16.80834482, -16.808732340000002, -16.808401519999997, -16.808401500000002, -16.80854064, -16.8085868, -16.80848064, -16.808724571428574, -16.808745599999998, -16.808913933333333], \"x\": [145.72081815200002, 145.720327, 145.72055986, 145.72047046, 145.72043237999995, 145.72048634, 145.72076328, 145.72075316, 145.72096216, 145.72039308, 145.72077966, 145.72097451999997, 145.72045562, 145.72035598571432, 145.72091637777774, 145.72051109999995], \"type\": \"scatter\"}, {\"name\": \"Cluster 64 Buildings\", \"marker\": {\"color\": \"rgba(95,95,95, 0.75)\", \"size\": 6}, \"mode\": \"markers\", \"y\": [-16.803555918181818, -16.802945779999998, -16.803288279999997, -16.80333594, -16.8030215, -16.80323222, -16.802984579999997, -16.803410860000003, -16.803154557142857], \"x\": [145.71043621818183, 145.71020886000005, 145.71058776, 145.71037388, 145.71003169999997, 145.71036153999995, 145.71028446, 145.71054964, 145.71020264285715], \"type\": \"scatter\"}, {\"name\": \"Cluster 65 Buildings\", \"marker\": {\"color\": \"rgba(120,120,120, 0.75)\", \"size\": 6}, \"mode\": \"markers\", \"y\": [-16.8089361, -16.809101599999998, -16.809535840000002, -16.80909408, -16.809360688888887], \"x\": [145.72576753999996, 145.7258645, 145.72565840000001, 145.72558998000005, 145.72598854444445], \"type\": \"scatter\"}, {\"name\": \"Cluster 66 Buildings\", \"marker\": {\"color\": \"rgba(145,145,145, 0.75)\", \"size\": 6}, \"mode\": \"markers\", \"y\": [-16.81114548, -16.811268820000002, -16.81134968, -16.811079366666664, -16.81152603076923, -16.811639007692307, -16.811864919999998, -16.81166314, -16.81178412, -16.81145274, -16.811758255555556], \"x\": [145.71926944, 145.71970349999998, 145.71918738, 145.71962802222222, 145.71917774615386, 145.71965370769232, 145.71927426, 145.71944116, 145.71927806, 145.71964748, 145.7190968444444], \"type\": \"scatter\"}, {\"name\": \"Cluster 67 Buildings\", \"marker\": {\"color\": \"rgba(170,170,170, 0.75)\", \"size\": 6}, \"mode\": \"markers\", \"y\": [-16.806050171428573, -16.806143842857143, -16.806273533333332, -16.806381488888892, -16.80647287777778, -16.806563722222222], \"x\": [145.70145894285713, 145.70155471428572, 145.70166843333334, 145.70175172222218, 145.70184015555554, 145.7019241888889], \"type\": \"scatter\"}, {\"name\": \"Cluster 68 Buildings\", \"marker\": {\"color\": \"rgba(195,195,195, 0.75)\", \"size\": 6}, \"mode\": \"markers\", \"y\": [-16.807118576923074, -16.80660436, -16.806842080000006, -16.80661372, -16.806659185714285, -16.806522944444445], \"x\": [145.72473096153846, 145.72440774, 145.72467181999997, 145.72428232, 145.7246012, 145.72447956666667], \"type\": \"scatter\"}, {\"name\": \"Cluster 69 Buildings\", \"marker\": {\"color\": \"rgba(220,220,220, 0.75)\", \"size\": 6}, \"mode\": \"markers\", \"y\": [-16.81240724, -16.812599119999998, -16.8123116, -16.81222134, -16.812763920000002, -16.81262436, -16.812651171428573, -16.813009342857143, -16.81273362857143, -16.812549014285715, -16.812271311111108, -16.812582138095234], \"x\": [145.72149022, 145.72103942, 145.72110904000004, 145.72110072, 145.72145332, 145.72114736, 145.72153531428572, 145.72116292857143, 145.72102028571427, 145.72153724285715, 145.72155552222225, 145.7219978904762], \"type\": \"scatter\"}, {\"name\": \"Cluster 70 Buildings\", \"marker\": {\"color\": \"rgba(245,245,245, 0.75)\", \"size\": 6}, \"mode\": \"markers\", \"y\": [-16.802576786666666, -16.802318385714287, -16.80266825], \"x\": [145.72249606666668, 145.72201148571432, 145.72229643], \"type\": \"scatter\"}, {\"name\": \"Cluster 71 Buildings\", \"marker\": {\"color\": \"rgba(15,15,15, 0.75)\", \"size\": 6}, \"mode\": \"markers\", \"y\": [-16.81567522, -16.815969680000002, -16.815710022222227, -16.81559426666667, -16.81603194, -16.815647814285715, -16.815342228571428, -16.81621354285714, -16.81598511111111], \"x\": [145.71863764, 145.71856164000005, 145.71843054444446, 145.71829119999995, 145.71879704, 145.71883908571428, 145.71818224285715, 145.71825468571433, 145.71830678888892], \"type\": \"scatter\"}, {\"name\": \"Cluster 72 Buildings\", \"marker\": {\"color\": \"rgba(40,40,40, 0.75)\", \"size\": 6}, \"mode\": \"markers\", \"y\": [-16.811990029999997, -16.81208514, -16.811374620000002, -16.811715966666668, -16.811527466666664, -16.8118945, -16.812425344444446, -16.812249066666666], \"x\": [145.72049191000005, 145.7200949, 145.72013130000002, 145.7201175888889, 145.72011030000004, 145.72010083333333, 145.72001976666667, 145.7200580111111], \"type\": \"scatter\"}, {\"name\": \"Cluster 73 Buildings\", \"marker\": {\"color\": \"rgba(65,65,65, 0.75)\", \"size\": 6}, \"mode\": \"markers\", \"y\": [-16.810806671428573, -16.811197054545456, -16.81106638, -16.81129862, -16.81123105, -16.81129622], \"x\": [145.72359498571427, 145.72290556363637, 145.72322586, 145.72322791999997, 145.72370421250002, 145.72351121], \"type\": \"scatter\"}, {\"name\": \"Cluster 74 Buildings\", \"marker\": {\"color\": \"rgba(90,90,90, 0.75)\", \"size\": 6}, \"mode\": \"markers\", \"y\": [-16.82743182, -16.82757566], \"x\": [145.70497666, 145.70555496], \"type\": \"scatter\"}, {\"name\": \"Cluster 75 Buildings\", \"marker\": {\"color\": \"rgba(115,115,115, 0.75)\", \"size\": 6}, \"mode\": \"markers\", \"y\": [-16.8096262, -16.80980897272727, -16.810006469230768, -16.80987994, -16.80980872, -16.80939224, -16.80982002, -16.8094441, -16.809603488888882], \"x\": [145.7236917090909, 145.7236645181818, 145.72372056923075, 145.72379073999997, 145.72379904, 145.72365638000005, 145.72386212, 145.72378928571428, 145.72387541111112], \"type\": \"scatter\"}, {\"name\": \"Cluster 76 Buildings\", \"marker\": {\"color\": \"rgba(140,140,140, 0.75)\", \"size\": 6}, \"mode\": \"markers\", \"y\": [-16.80413056, -16.804174879999998, -16.804222319999994, -16.80422332, -16.804531920000002, -16.804526700000004, -16.804035014285713, -16.804405890909095, -16.804610507692303, -16.80439136, -16.80464562857143, -16.804280355555562], \"x\": [145.70146456000003, 145.70173574, 145.70165294, 145.70131696, 145.70120991999997, 145.70181818000003, 145.70165452857142, 145.7011064090909, 145.70166052307692, 145.70193066, 145.7015121, 145.7021157222222], \"type\": \"scatter\"}, {\"name\": \"Cluster 77 Buildings\", \"marker\": {\"color\": \"rgba(165,165,165, 0.75)\", \"size\": 6}, \"mode\": \"markers\", \"y\": [-16.807065645454546, -16.806926927272727, -16.807217661538466, -16.806646484615385, -16.807243946153847, -16.807125092307693, -16.80672075714286, -16.807395244444443], \"x\": [145.70378031818183, 145.7039166181818, 145.70372516153847, 145.7042266846154, 145.70424955384613, 145.70437516153842, 145.70409107142856, 145.70365342222226], \"type\": \"scatter\"}, {\"name\": \"Cluster 78 Buildings\", \"marker\": {\"color\": \"rgba(190,190,190, 0.75)\", \"size\": 6}, \"mode\": \"markers\", \"y\": [-16.809220492307695, -16.809801139999998, -16.809310399999998, -16.81024434, -16.80974278, -16.810113339999994, -16.8093368, -16.809462779999997, -16.810169000000002, -16.8101875, -16.809977744444446, -16.809711188888887], \"x\": [145.72158993076926, 145.72160682, 145.72208498, 145.72191378, 145.72191526, 145.72197652, 145.72184274, 145.72200696, 145.72152826, 145.72139388, 145.72200932222222, 145.72145322222227], \"type\": \"scatter\"}, {\"name\": \"Cluster 79 Buildings\", \"marker\": {\"color\": \"rgba(215,215,215, 0.75)\", \"size\": 6}, \"mode\": \"markers\", \"y\": [-16.805393860000002, -16.80501408, -16.805145585714286, -16.805194509090914, -16.805471877777773, -16.805137100000003, -16.80527426, -16.80552977142857], \"x\": [145.70419464, 145.70404528, 145.70388677142859, 145.7036931090909, 145.70398207777774, 145.7040491, 145.70390116, 145.70384175714287], \"type\": \"scatter\"}, {\"name\": \"Cluster 80 Buildings\", \"marker\": {\"color\": \"rgba(240,240,240, 0.75)\", \"size\": 6}, \"mode\": \"markers\", \"y\": [-16.81338310909091, -16.81284962727273, -16.81397024, -16.81372968, -16.813253960000004, -16.813097857142857, -16.813514977777785, -16.812990222222222, -16.813188733333334, -16.81332542222222, -16.813667288888887, -16.813555288888885], \"x\": [145.7017434090909, 145.70175389090906, 145.70160228, 145.70144850000003, 145.70210092, 145.7020207857143, 145.7013136222222, 145.70172247777774, 145.70172973333334, 145.70127925555553, 145.70189121111113, 145.7018044333333], \"type\": \"scatter\"}, {\"name\": \"Cluster 81 Buildings\", \"marker\": {\"color\": \"rgba(10,10,10, 0.75)\", \"size\": 6}, \"mode\": \"markers\", \"y\": [-16.80264235454546, -16.802657409090912, -16.80298384285714, -16.8026473, -16.802871822222222, -16.803074666666664, -16.803492966666667], \"x\": [145.71969244545457, 145.7192902909091, 145.71950615714286, 145.71984145555552, 145.71934481111109, 145.71978745555555, 145.71892204444444], \"type\": \"scatter\"}, {\"name\": \"Cluster 82 Buildings\", \"marker\": {\"color\": \"rgba(35,35,35, 0.75)\", \"size\": 6}, \"mode\": \"markers\", \"y\": [-16.80599066, -16.80596086363636, -16.80554066923077, -16.805838347058824, -16.80570307777778, -16.80607248, -16.806348400000005], \"x\": [145.7064159, 145.70620727272728, 145.7060716307692, 145.70616834117646, 145.70606917777778, 145.70576018, 145.70600482222218], \"type\": \"scatter\"}, {\"name\": \"Cluster 83 Buildings\", \"marker\": {\"color\": \"rgba(60,60,60, 0.75)\", \"size\": 6}, \"mode\": \"markers\", \"y\": [-16.814399536363634, -16.814591979999996, -16.814167480000002, -16.81478204, -16.81438916, -16.81452938, -16.81481106, -16.815077600000002, -16.81481112, -16.8149302, -16.81440978, -16.814657185714285, -16.814763177777778, -16.81429232857143], \"x\": [145.7208476090909, 145.72081936, 145.72134692000003, 145.72130088, 145.72125327999996, 145.72122745999997, 145.72078159999998, 145.72073404, 145.72171018000003, 145.72122048, 145.72134186, 145.72128425714286, 145.72086766666666, 145.72127395714287], \"type\": \"scatter\"}, {\"name\": \"Cluster 84 Buildings\", \"marker\": {\"color\": \"rgba(85,85,85, 0.75)\", \"size\": 6}, \"mode\": \"markers\", \"y\": [-16.81516694, -16.815387485714286, -16.815263657142857, -16.8149974, -16.815048342857143, -16.814931514285714, -16.815334766666666, -16.81510621111111, -16.814783622222222, -16.815077177777773, -16.815167200000005, -16.814835644444447, -16.815434366666665], \"x\": [145.70354996, 145.70390914285713, 145.70341190000005, 145.70326784285714, 145.70382261428568, 145.703399, 145.70329295555555, 145.70370193333332, 145.70366575555556, 145.70311397777778, 145.70301072222225, 145.70353706666666, 145.7031270777778], \"type\": \"scatter\"}, {\"name\": \"Cluster 85 Buildings\", \"marker\": {\"color\": \"rgba(110,110,110, 0.75)\", \"size\": 6}, \"mode\": \"markers\", \"y\": [-16.823924400000006, -16.82409414, -16.824081542857147], \"x\": [145.70577148, 145.70549506000003, 145.70513675714284], \"type\": \"scatter\"}, {\"name\": \"Cluster 86 Buildings\", \"marker\": {\"color\": \"rgba(135,135,135, 0.75)\", \"size\": 6}, \"mode\": \"markers\", \"y\": [-16.80669002, -16.80725502, -16.80711292, -16.806851419999994, -16.806884859999997, -16.80712086, -16.807085660000002, -16.807060500000002, -16.806874899999997, -16.806903385714286, -16.806748688888884], \"x\": [145.72071286, 145.72102414, 145.72104608, 145.72107240000003, 145.72068054000005, 145.72052486, 145.72115116, 145.72094412, 145.72096438, 145.72115147142856, 145.7211052444444], \"type\": \"scatter\"}, {\"name\": \"Cluster 87 Buildings\", \"marker\": {\"color\": \"rgba(160,160,160, 0.75)\", \"size\": 6}, \"mode\": \"markers\", \"y\": [-16.809974320000002, -16.810036, -16.810036, -16.810281879999998, -16.81007984, -16.81026306, -16.809964400000002, -16.81032, -16.810471142857143, -16.810408685714286, -16.810080600000003, -16.810468744444446, -16.809981811111108, -16.810440309090907, -16.810444699999998], \"x\": [145.71760476, 145.71814608, 145.71799108, 145.71781574000005, 145.71769796, 145.71761608, 145.71746888, 145.71795864, 145.71811430000002, 145.71769511428568, 145.71759864285713, 145.7179261, 145.71783071111108, 145.71735479999995, 145.71753851428576], \"type\": \"scatter\"}, {\"name\": \"Cluster 88 Buildings\", \"marker\": {\"color\": \"rgba(185,185,185, 0.75)\", \"size\": 6}, \"mode\": \"markers\", \"y\": [-16.803246960000006, -16.80312412, -16.802989779999994, -16.8033389, -16.8031132, -16.80358746, -16.803490414285715], \"x\": [145.7034049, 145.70357946, 145.70341122, 145.70321696000005, 145.7033485, 145.70299432000004, 145.7031462857143], \"type\": \"scatter\"}, {\"name\": \"Cluster 89 Buildings\", \"marker\": {\"color\": \"rgba(210,210,210, 0.75)\", \"size\": 6}, \"mode\": \"markers\", \"y\": [-16.81500144, -16.81573732, -16.81549784, -16.81561988, -16.814844414285712, -16.815140344444444], \"x\": [145.7222081, 145.722197, 145.72240352, 145.72219434000004, 145.72221862857143, 145.72220439999995], \"type\": \"scatter\"}, {\"name\": \"Cluster 90 Buildings\", \"marker\": {\"color\": \"rgba(235,235,235, 0.75)\", \"size\": 6}, \"mode\": \"markers\", \"y\": [-16.817753, -16.817586088888888, -16.817953785714288, -16.818118199999994], \"x\": [145.71991968571433, 145.71987736666668, 145.71989055714286, 145.71986938571428], \"type\": \"scatter\"}, {\"name\": \"Cluster 91 Buildings\", \"marker\": {\"color\": \"rgba(5,5,5, 0.75)\", \"size\": 6}, \"mode\": \"markers\", \"y\": [-16.81506452, -16.81511508, -16.814928639999998, -16.815234699999998, -16.81474874, -16.815167014285713, -16.815186655555557, -16.814906720000003, -16.814565885714284, -16.815239877777778], \"x\": [145.719326, 145.71908206, 145.71927961999995, 145.719133, 145.7193033, 145.7188767, 145.7189485, 145.71907116, 145.71930035714286, 145.71930338888887], \"type\": \"scatter\"}, {\"name\": \"Cluster 92 Buildings\", \"marker\": {\"color\": \"rgba(30,30,30, 0.75)\", \"size\": 6}, \"mode\": \"markers\", \"y\": [-16.820510579999997, -16.8207212, -16.82028136, -16.82043544, -16.82053614, -16.820431140000004, -16.820863214285716, -16.820657788888884], \"x\": [145.71923698, 145.71952712, 145.71917656, 145.71933230000002, 145.72017224, 145.7195854, 145.72015919999998, 145.71935687777776], \"type\": \"scatter\"}, {\"name\": \"Cluster 93 Buildings\", \"marker\": {\"color\": \"rgba(55,55,55, 0.75)\", \"size\": 6}, \"mode\": \"markers\", \"y\": [-16.81438766, -16.8145078, -16.81446072], \"x\": [145.72426702, 145.72411486, 145.72419042], \"type\": \"scatter\"}, {\"name\": \"Cluster 94 Buildings\", \"marker\": {\"color\": \"rgba(80,80,80, 0.75)\", \"size\": 6}, \"mode\": \"markers\", \"y\": [-16.807511654545454, -16.807225866666666, -16.807735707692302, -16.807704473333335, -16.807855019999998, -16.80759564, -16.80788234285714, -16.807806411111113], \"x\": [145.70581627272728, 145.7056146333333, 145.70528074615385, 145.70574201999997, 145.70561691999995, 145.70517102, 145.70557125714285, 145.70565034444445], \"type\": \"scatter\"}, {\"name\": \"Cluster 95 Buildings\", \"marker\": {\"color\": \"rgba(105,105,105, 0.75)\", \"size\": 6}, \"mode\": \"markers\", \"y\": [-16.80240804, -16.802335120000002, -16.80219444, -16.80259826, -16.80211324, -16.802755528571428, -16.802541757142855], \"x\": [145.70560036, 145.70571316000004, 145.70555518, 145.70572006, 145.70576288, 145.70569288571429, 145.70515554285709], \"type\": \"scatter\"}, {\"name\": \"Cluster 96 Buildings\", \"marker\": {\"color\": \"rgba(130,130,130, 0.75)\", \"size\": 6}, \"mode\": \"markers\", \"y\": [-16.80661858, -16.806428880000002, -16.80660336, -16.80699556, -16.806452685714284, -16.806816100000002, -16.80660938, -16.80673766, -16.806790185714284], \"x\": [145.72221772, 145.72182096, 145.72188848000005, 145.72236669999998, 145.72227949999996, 145.72234432, 145.72242606, 145.72244338000004, 145.72182949999998], \"type\": \"scatter\"}, {\"name\": \"Cluster 97 Buildings\", \"marker\": {\"color\": \"rgba(155,155,155, 0.75)\", \"size\": 6}, \"mode\": \"markers\", \"y\": [-16.80717004285714, -16.807278628571428, -16.807627214285713, -16.807791837499998, -16.807540611111108, -16.80790312857143, -16.807732366666666, -16.808018481818184, -16.80790450769231, -16.80810487333333], \"x\": [145.70124390000004, 145.70115185714286, 145.70138802857144, 145.70170322500005, 145.70152397777775, 145.70156367142857, 145.70127154444444, 145.7014735545455, 145.70117347692306, 145.70134464000003], \"type\": \"scatter\"}, {\"name\": \"Cluster 98 Buildings\", \"marker\": {\"color\": \"rgba(180,180,180, 0.75)\", \"size\": 6}, \"mode\": \"markers\", \"y\": [-16.816633290909092, -16.816656018181813, -16.81662545, -16.816922184615382, -16.81688412222222, -16.81704947777778, -16.817305436363636, -16.817286522222226], \"x\": [145.70038705454544, 145.70079370000005, 145.70052429166662, 145.7008501769231, 145.70043909999995, 145.7004249, 145.7003107818182, 145.70044935555555], \"type\": \"scatter\"}, {\"name\": \"Cluster 99 Buildings\", \"marker\": {\"color\": \"rgba(205,205,205, 0.75)\", \"size\": 6}, \"mode\": \"markers\", \"y\": [-16.80991182, -16.80975546363636, -16.81003212, -16.809866039999996, -16.809860719999996, -16.81003382, -16.80982752, -16.80984292, -16.81005002, -16.80983404, -16.810097957142858, -16.810337914285718, -16.809938014285713], \"x\": [145.72260935999995, 145.72245922727276, 145.72253642, 145.72321786000003, 145.72315182, 145.72289594, 145.72290912, 145.72306557999997, 145.72297472, 145.72299002, 145.72315127142858, 145.72313851428572, 145.72302514285715], \"type\": \"scatter\"}, {\"name\": \"Cluster 100 Buildings\", \"marker\": {\"color\": \"rgba(230,230,230, 0.75)\", \"size\": 6}, \"mode\": \"markers\", \"y\": [-16.801215177777774, -16.801678854545454, -16.801685530769234], \"x\": [145.70027219999997, 145.70050883636367, 145.70030743846158], \"type\": \"scatter\"}, {\"name\": \"Cluster 101 Buildings\", \"marker\": {\"color\": \"rgba(255,255,255, 0.75)\", \"size\": 6}, \"mode\": \"markers\", \"y\": [-16.809157714285714, -16.809182444444446, -16.80952304615385, -16.8096535, -16.809452122222222, -16.80925186], \"x\": [145.70481909999995, 145.70525590000003, 145.7050493153846, 145.70517502222222, 145.70491685555555, 145.70466962], \"type\": \"scatter\"}, {\"name\": \"Cluster 102 Buildings\", \"marker\": {\"color\": \"rgba(25,25,25, 0.75)\", \"size\": 6}, \"mode\": \"markers\", \"y\": [-16.813131020000004, -16.81358314, -16.812952600000006, -16.8131217, -16.812752057142855, -16.812840185714286, -16.812880399999994, -16.812717311111108, -16.81258936666667, -16.813010633333334, -16.813326828571427, -16.813364266666667], \"x\": [145.72027308, 145.71987621999997, 145.71994464, 145.71993650000005, 145.72043281428572, 145.72000687142858, 145.72044583333332, 145.72002115555554, 145.7200146222222, 145.7204479333334, 145.72034924285714, 145.71994903333334], \"type\": \"scatter\"}, {\"name\": \"Cluster 103 Buildings\", \"marker\": {\"color\": \"rgba(50,50,50, 0.75)\", \"size\": 6}, \"mode\": \"markers\", \"y\": [-16.811154799999994, -16.8115211, -16.811430440000002, -16.811607000000002, -16.81134964, -16.810877800000004, -16.81120954, -16.811003879999998, -16.81082482, -16.810873785714286, -16.811563, -16.81087475714286, -16.810972977777773, -16.81130637777778], \"x\": [145.71725896363634, 145.71770134000005, 145.71748026, 145.71773263999995, 145.71783352000003, 145.71713846000003, 145.71782842, 145.71746516000005, 145.71734362, 145.71769875714287, 145.71748395714286, 145.71753557142856, 145.7178810888889, 145.71741194444445], \"type\": \"scatter\"}, {\"name\": \"Cluster 104 Buildings\", \"marker\": {\"color\": \"rgba(75,75,75, 0.75)\", \"size\": 6}, \"mode\": \"markers\", \"y\": [-16.80753412352941, -16.807649880000003, -16.80797954, -16.8075495, -16.80743546, -16.80799536, -16.80780944, -16.807730499999998, -16.807809040000002, -16.80779886666667, -16.808163942857142], \"x\": [145.72282785294118, 145.72296454000005, 145.72332494000003, 145.72297202, 145.72299688, 145.72280104, 145.72269592000004, 145.72270374, 145.7229249, 145.7228779333333, 145.72284611428572], \"type\": \"scatter\"}, {\"name\": \"Cluster 105 Buildings\", \"marker\": {\"color\": \"rgba(100,100,100, 0.75)\", \"size\": 6}, \"mode\": \"markers\", \"y\": [-16.80173863636364, -16.801412827272728, -16.801229557142864, -16.801502160000002, -16.80139102, -16.80157104285714], \"x\": [145.7217159818182, 145.7205963909091, 145.7209160142857, 145.72082976, 145.72132735999998, 145.72149654285712], \"type\": \"scatter\"}, {\"name\": \"Cluster 106 Buildings\", \"marker\": {\"color\": \"rgba(125,125,125, 0.75)\", \"size\": 6}, \"mode\": \"markers\", \"y\": [-16.814522040000003, -16.814204699999998, -16.814286985714286, -16.81435867142857, -16.814399585714288, -16.81406638888889, -16.814679433333332, -16.814800385714285, -16.814929971428572], \"x\": [145.70193490000003, 145.70225152, 145.70179108571432, 145.70230581428572, 145.70184638571433, 145.70215223333332, 145.70203180000001, 145.70213814285714, 145.7022087714286], \"type\": \"scatter\"}, {\"name\": \"Cluster 107 Buildings\", \"marker\": {\"color\": \"rgba(150,150,150, 0.75)\", \"size\": 6}, \"mode\": \"markers\", \"y\": [-16.80419612, -16.80423578, -16.804491414285714, -16.804337099999998, -16.80470676, -16.804515759999994, -16.804432285714288, -16.8043926, -16.80464836666667, -16.80472426], \"x\": [145.70555204, 145.70544404000003, 145.70586984285708, 145.70591498000005, 145.70558961999996, 145.70547196, 145.70563147142857, 145.70550932857142, 145.70578404444444, 145.70539618000004], \"type\": \"scatter\"}, {\"name\": \"Cluster 108 Buildings\", \"marker\": {\"color\": \"rgba(175,175,175, 0.75)\", \"size\": 6}, \"mode\": \"markers\", \"y\": [-16.808933914285713, -16.808656699999997, -16.80881197142857, -16.8091031, -16.808990533333333, -16.80871181111111], \"x\": [145.70155995714288, 145.70132375714286, 145.70143821428573, 145.70127367142857, 145.70118863333337, 145.70117606666662], \"type\": \"scatter\"}, {\"name\": \"Cluster 109 Buildings\", \"marker\": {\"color\": \"rgba(200,200,200, 0.75)\", \"size\": 6}, \"mode\": \"markers\", \"y\": [-16.80549865384615, -16.80572580666667, -16.805637624000003, -16.80553696, -16.804996800000005, -16.80544694, -16.805111366666665, -16.805090911111108, -16.80522548888889], \"x\": [145.72131476923082, 145.72129507333338, 145.72100012, 145.72119776, 145.72114434, 145.72096919999998, 145.7210791777778, 145.72090211111112, 145.72129913333333], \"type\": \"scatter\"}, {\"name\": \"Cluster 110 Buildings\", \"marker\": {\"color\": \"rgba(225,225,225, 0.75)\", \"size\": 6}, \"mode\": \"markers\", \"y\": [-16.804341, -16.803697940000006, -16.803777871428572, -16.8036551, -16.803974788888887, -16.804289840000006, -16.804181466666666, -16.804097483333333], \"x\": [145.707784, 145.70758346000005, 145.70768832857144, 145.70746562222226, 145.70803678888888, 145.70766238, 145.70739054444445, 145.70723148333337], \"type\": \"scatter\"}, {\"name\": \"Cluster 111 Buildings\", \"marker\": {\"color\": \"rgba(250,250,250, 0.75)\", \"size\": 6}, \"mode\": \"markers\", \"y\": [-16.80425592857143, -16.804163455555553, -16.80441896, -16.80452114, -16.80446591666667, -16.804370542857143, -16.80462208, -16.804756771428572, -16.80484453333333], \"x\": [145.70296665714287, 145.7031406222222, 145.70285666, 145.70270932, 145.70286496666668, 145.70280994285713, 145.70256160000002, 145.70303135714286, 145.7028532], \"type\": \"scatter\"}, {\"name\": \"Cluster 112 Buildings\", \"marker\": {\"color\": \"rgba(20,20,20, 0.75)\", \"size\": 6}, \"mode\": \"markers\", \"y\": [-16.81266784, -16.812946600000004, -16.812657345454546, -16.812984236363633, -16.81318161818182, -16.812708941666667, -16.81291594, -16.812686499999998, -16.812803600000002, -16.81299262, -16.813048185714287, -16.812718457142857, -16.8127105], \"x\": [145.71804762000005, 145.71788844, 145.71767460000004, 145.7181545090909, 145.7177553090909, 145.71862585833338, 145.71852548, 145.71820548, 145.71851576, 145.71836434, 145.71855589999996, 145.71842814285716, 145.71784730000005], \"type\": \"scatter\"}, {\"name\": \"Cluster 113 Buildings\", \"marker\": {\"color\": \"rgba(45,45,45, 0.75)\", \"size\": 6}, \"mode\": \"markers\", \"y\": [-16.813584040000002, -16.81350794, -16.813187300000006, -16.81355936, -16.81290868, -16.81316922222222, -16.812879390909092, -16.81331728, -16.81344362, -16.81356082857143, -16.81342941111111, -16.813411399999996, -16.813079044444443, -16.813411066666667], \"x\": [145.72230456, 145.7217889, 145.72192452, 145.72188552000003, 145.72239746, 145.72232086666668, 145.72197972727272, 145.72195338, 145.72211555999996, 145.72205508571432, 145.72189912222225, 145.72238613333334, 145.7219144111111, 145.72218596666667], \"type\": \"scatter\"}, {\"name\": \"Cluster 114 Buildings\", \"marker\": {\"color\": \"rgba(70,70,70, 0.75)\", \"size\": 6}, \"mode\": \"markers\", \"y\": [-16.81142994, -16.81167602, -16.81172418], \"x\": [145.72662975666663, 145.72690194, 145.72670759], \"type\": \"scatter\"}, {\"name\": \"Cluster 115 Buildings\", \"marker\": {\"color\": \"rgba(95,95,95, 0.75)\", \"size\": 6}, \"mode\": \"markers\", \"y\": [-16.802151618181814, -16.801995630769234, -16.802240559999994, -16.80252418, -16.801814599999997, -16.80241014285714], \"x\": [145.7047222909091, 145.70474663846153, 145.70451332, 145.70428296, 145.70484891111113, 145.70440195714292], \"type\": \"scatter\"}, {\"name\": \"Cluster 116 Buildings\", \"marker\": {\"color\": \"rgba(120,120,120, 0.75)\", \"size\": 6}, \"mode\": \"markers\", \"y\": [-16.805868345454545, -16.80617994, -16.805699240000006, -16.806260099999996, -16.80600094, -16.806048280000002, -16.80619511111111], \"x\": [145.72417433636366, 145.72419230000003, 145.72404766, 145.72409398, 145.72427502, 145.72418186, 145.72429961111112], \"type\": \"scatter\"}, {\"name\": \"Cluster 117 Buildings\", \"marker\": {\"color\": \"rgba(145,145,145, 0.75)\", \"size\": 6}, \"mode\": \"markers\", \"y\": [-16.812258645454545, -16.81224023076923, -16.811810546153847, -16.81278494, -16.81277416, -16.81220572, -16.81275422, -16.81186376, -16.812258085714287, -16.81184825714286, -16.812249955555554], \"x\": [145.72389671818183, 145.72369266923076, 145.7240766153846, 145.72401474, 145.72382846, 145.72407912, 145.7242565, 145.7238733, 145.72428158571432, 145.7242748857143, 145.72453347777778], \"type\": \"scatter\"}, {\"name\": \"Cluster 118 Buildings\", \"marker\": {\"color\": \"rgba(170,170,170, 0.75)\", \"size\": 6}, \"mode\": \"markers\", \"y\": [-16.808793804, -16.808733619999998, -16.809132820000002, -16.80902094, -16.808704000000002, -16.808946820000006, -16.809004960000006, -16.809164700000004, -16.80906934, -16.80906602, -16.808839411111116, -16.808820211111108, -16.8092648, -16.809310300000003], \"x\": [145.72391608, 145.72373722, 145.72437554, 145.72445332, 145.72412612, 145.72408046, 145.72426282, 145.72399065999997, 145.72370452, 145.72380372, 145.7244845888889, 145.72430432222222, 145.72370488, 145.72388704], \"type\": \"scatter\"}, {\"name\": \"Cluster 119 Buildings\", \"marker\": {\"color\": \"rgba(195,195,195, 0.75)\", \"size\": 6}, \"mode\": \"markers\", \"y\": [-16.82822636, -16.828533899999996], \"x\": [145.70872086, 145.7086854], \"type\": \"scatter\"}, {\"name\": \"Cluster 120 Buildings\", \"marker\": {\"color\": \"rgba(220,220,220, 0.75)\", \"size\": 6}, \"mode\": \"markers\", \"y\": [-16.816091, -16.81608032727273, -16.815875154545452, -16.815936518181818, -16.81616693076923, -16.8159707, -16.815753342857143, -16.816052814285715, -16.815731242857144, -16.815631511111107], \"x\": [145.70345057999995, 145.7032812909091, 145.70327842727275, 145.70364104545453, 145.70362537692307, 145.70297454, 145.70365204285713, 145.70311084285714, 145.70337871428572, 145.70357103333333], \"type\": \"scatter\"}, {\"name\": \"Cluster 121 Buildings\", \"marker\": {\"color\": \"rgba(245,245,245, 0.75)\", \"size\": 6}, \"mode\": \"markers\", \"y\": [-16.80184244, -16.801715360000006], \"x\": [145.71773106, 145.71891562000005], \"type\": \"scatter\"}, {\"name\": \"Cluster 122 Buildings\", \"marker\": {\"color\": \"rgba(15,15,15, 0.75)\", \"size\": 6}, \"mode\": \"markers\", \"y\": [-16.81771636, -16.8174306, -16.81744596, -16.817125025, -16.817138930769232, -16.81731268181818, -16.817384981818186, -16.81735953333333, -16.817347155555556, -16.817340633333334, -16.817353366666666], \"x\": [145.70078642, 145.7014939, 145.70165660000004, 145.70086469999995, 145.70113943846158, 145.70073612727273, 145.70120056363638, 145.70110342222222, 145.70091935555558, 145.7008106333334, 145.7009994], \"type\": \"scatter\"}, {\"name\": \"Cluster 123 Buildings\", \"marker\": {\"color\": \"rgba(40,40,40, 0.75)\", \"size\": 6}, \"mode\": \"markers\", \"y\": [-16.805035166666666, -16.8052746, -16.80520438, -16.80523688, -16.8053222, -16.805292471428572], \"x\": [145.70283996666663, 145.70296929999995, 145.70338257999995, 145.70317658, 145.70344272857145, 145.70326392857143], \"type\": \"scatter\"}, {\"name\": \"Cluster 124 Buildings\", \"marker\": {\"color\": \"rgba(65,65,65, 0.75)\", \"size\": 6}, \"mode\": \"markers\", \"y\": [-16.808180988888882, -16.808409586666667, -16.808551279999996, -16.808465242857142, -16.80829497142857, -16.808682400000002, -16.80833571111111, -16.80855411111111], \"x\": [145.70188268888887, 145.70161292, 145.70220176, 145.70210452857143, 145.7017188857143, 145.70189005714286, 145.70203355555554, 145.70178908888892], \"type\": \"scatter\"}, {\"name\": \"Cluster 125 Buildings\", \"marker\": {\"color\": \"rgba(90,90,90, 0.75)\", \"size\": 6}, \"mode\": \"markers\", \"y\": [-16.80538268125], \"x\": [145.70809590625], \"type\": \"scatter\"}, {\"name\": \"Cluster 126 Buildings\", \"marker\": {\"color\": \"rgba(115,115,115, 0.75)\", \"size\": 6}, \"mode\": \"markers\", \"y\": [-16.816585800000002, -16.816693320000002, -16.816592179999994, -16.816639379999998, -16.81653732, -16.817084899999998, -16.816681842857143, -16.817166914285714, -16.817015277777774, -16.816991011111117], \"x\": [145.71876332727268, 145.71929434, 145.7189895, 145.71889620000005, 145.71858286000003, 145.71912095714285, 145.71908734285714, 145.71862507142856, 145.71871933333333, 145.7189319], \"type\": \"scatter\"}, {\"name\": \"Cluster 127 Buildings\", \"marker\": {\"color\": \"rgba(140,140,140, 0.75)\", \"size\": 6}, \"mode\": \"markers\", \"y\": [-16.81016736, -16.810327540000007, -16.81018297272727, -16.81017757777778, -16.810449657142858, -16.81027718888889, -16.81098318, -16.810653014285712, -16.81076142857143, -16.810466914285715, -16.810611785714286, -16.81083027142857, -16.810980185714286, -16.81042301111111], \"x\": [145.71928192, 145.71966254, 145.71944411818183, 145.71965485555555, 145.71981104285715, 145.71983798888888, 145.71950168, 145.71967501428568, 145.71925425714286, 145.7196566285714, 145.71926221428572, 145.71968622857142, 145.71924428571432, 145.71925286666666], \"type\": \"scatter\"}, {\"name\": \"Cluster 128 Buildings\", \"marker\": {\"color\": \"rgba(165,165,165, 0.75)\", \"size\": 6}, \"mode\": \"markers\", \"y\": [-16.80547014, -16.80552358, -16.80575726, -16.805973490909093, -16.80556474, -16.805722714285714, -16.805401957142855, -16.80562844285714, -16.80531038888889], \"x\": [145.70132552, 145.70165723999997, 145.70137602, 145.70130615454545, 145.70143649999997, 145.70108572857143, 145.70151477142858, 145.70121485714284, 145.70166073333334], \"type\": \"scatter\"}, {\"name\": \"Cluster 129 Buildings\", \"marker\": {\"color\": \"rgba(190,190,190, 0.75)\", \"size\": 6}, \"mode\": \"markers\", \"y\": [-16.818853240000006, -16.818489185714288, -16.818366744444447, -16.818549244444444, -16.81916953846154, -16.818797184615384, -16.81914822857143, -16.818735957142856, -16.81873894285714, -16.818938144444445], \"x\": [145.7189228, 145.71893587142858, 145.7184708888889, 145.71850174444444, 145.71885606923078, 145.71905445384616, 145.71864827142858, 145.71844775714285, 145.71886847142858, 145.71847276666668], \"type\": \"scatter\"}, {\"name\": \"Cluster 130 Buildings\", \"marker\": {\"color\": \"rgba(215,215,215, 0.75)\", \"size\": 6}, \"mode\": \"markers\", \"y\": [-16.80845986, -16.808282866666666], \"x\": [145.72543222, 145.72545837777776], \"type\": \"scatter\"}, {\"name\": \"Cluster 131 Buildings\", \"marker\": {\"color\": \"rgba(240,240,240, 0.75)\", \"size\": 6}, \"mode\": \"markers\", \"y\": [-16.81265176, -16.81269204, -16.812500059999998, -16.812856240000002, -16.812574419999994, -16.81254297142857, -16.812527871428568, -16.81261631111111], \"x\": [145.71703938000005, 145.71696418, 145.71670942, 145.71741682, 145.71729366, 145.71690642857143, 145.71711207142857, 145.71747217777775], \"type\": \"scatter\"}, {\"name\": \"Cluster 132 Buildings\", \"marker\": {\"color\": \"rgba(10,10,10, 0.75)\", \"size\": 6}, \"mode\": \"markers\", \"y\": [-16.81148973846154, -16.811408955555557, -16.811503366666667, -16.811698166666666, -16.811569033333335], \"x\": [145.7004658153846, 145.70166702222218, 145.70185923333332, 145.70164714444445, 145.70164466666668], \"type\": \"scatter\"}, {\"name\": \"Cluster 133 Buildings\", \"marker\": {\"color\": \"rgba(35,35,35, 0.75)\", \"size\": 6}, \"mode\": \"markers\", \"y\": [-16.807464279999998, -16.807144985714285, -16.807131954545454, -16.807649107692303, -16.807254714285712, -16.80737537142857, -16.807641957142856, -16.807736114285714, -16.80799470909091, -16.80788078181818], \"x\": [145.70063456, 145.70031794285714, 145.7008339818182, 145.7003040846154, 145.70045954285715, 145.70053529999996, 145.70079182857143, 145.70064967142858, 145.70036617272723, 145.7005109909091], \"type\": \"scatter\"}, {\"name\": \"Cluster 134 Buildings\", \"marker\": {\"color\": \"rgba(60,60,60, 0.75)\", \"size\": 6}, \"mode\": \"markers\", \"y\": [-16.809091944000002, -16.809385600000002, -16.809650519999998, -16.80929254, -16.80955388, -16.809572199999998, -16.809572080000002, -16.80930094, -16.80955216, -16.809283720000003, -16.809275680000002, -16.80952854], \"x\": [145.723160072, 145.7230945, 145.72305918, 145.72320237999998, 145.72309649999997, 145.72324958, 145.72317382, 145.72328466, 145.7230029, 145.72312704, 145.72304160000004, 145.72283502], \"type\": \"scatter\"}, {\"name\": \"Cluster 135 Buildings\", \"marker\": {\"color\": \"rgba(85,85,85, 0.75)\", \"size\": 6}, \"mode\": \"markers\", \"y\": [-16.817185776923075, -16.81634212, -16.816496359999995, -16.81691214, -16.81639106, -16.816845100000002, -16.817268300000002, -16.81669731111111], \"x\": [145.72052889230767, 145.72006314, 145.72059818, 145.72051534, 145.72069733999996, 145.72056896, 145.72065279999995, 145.72051486666666], \"type\": \"scatter\"}, {\"name\": \"Cluster 136 Buildings\", \"marker\": {\"color\": \"rgba(110,110,110, 0.75)\", \"size\": 6}, \"mode\": \"markers\", \"y\": [-16.813346999999997, -16.813237145454544, -16.81314306153846, -16.813726242857143, -16.813452214285714, -16.81356271111111, -16.813588322222227, -16.813641655555557, -16.813815700000006, -16.8139156, -16.81370174285714, -16.81388467142857], \"x\": [145.7027714909091, 145.70293491818182, 145.7031657076923, 145.70287822857142, 145.70331104285714, 145.70312613333334, 145.70334386666667, 145.70299291111112, 145.70329501818182, 145.70300441428572, 145.70347107142857, 145.70315061428568], \"type\": \"scatter\"}, {\"name\": \"Cluster 137 Buildings\", \"marker\": {\"color\": \"rgba(135,135,135, 0.75)\", \"size\": 6}, \"mode\": \"markers\", \"y\": [-16.815221172727274, -16.815200190909092, -16.815810719999998, -16.815348980000003, -16.815755560000003, -16.815665860000006, -16.815541357142855, -16.8150178625, -16.8154419], \"x\": [145.7217494363636, 145.72121123636362, 145.72196314, 145.72186522, 145.72163045999997, 145.72168886, 145.72119878571428, 145.721699975, 145.72168081111113], \"type\": \"scatter\"}, {\"name\": \"Cluster 138 Buildings\", \"marker\": {\"color\": \"rgba(160,160,160, 0.75)\", \"size\": 6}, \"mode\": \"markers\", \"y\": [-16.810959899999997, -16.81096676, -16.8111643, -16.811007639999996, -16.8115643, -16.811138520000004, -16.811182142857145, -16.81112884285714, -16.811145328571428], \"x\": [145.72220062, 145.72197350000005, 145.72234439999997, 145.72258824, 145.72214911999995, 145.72194916, 145.72253138571432, 145.72216132857145, 145.7227344], \"type\": \"scatter\"}, {\"name\": \"Cluster 139 Buildings\", \"marker\": {\"color\": \"rgba(185,185,185, 0.75)\", \"size\": 6}, \"mode\": \"markers\", \"y\": [-16.80935793076923, -16.809033171428574, -16.809252311111113, -16.809239155555556, -16.80912771111111, -16.809620918181814, -16.80977362727273, -16.80949561904762, -16.80972726666667, -16.80951118888889], \"x\": [145.70051903076924, 145.70064835714285, 145.70083325555555, 145.70041055555555, 145.70078093333333, 145.70074493636363, 145.70088063636362, 145.70063380952382, 145.70106013333333, 145.70108661111112], \"type\": \"scatter\"}, {\"name\": \"Cluster 140 Buildings\", \"marker\": {\"color\": \"rgba(210,210,210, 0.75)\", \"size\": 6}, \"mode\": \"markers\", \"y\": [-16.814435290909092, -16.81485688181818, -16.81472419090909, -16.814760954545452, -16.814577542857144, -16.814308271428573, -16.81499414444444, -16.814273611111116, -16.81464438888889, -16.815011488888892, -16.814606466666664], \"x\": [145.70048237272732, 145.7013487909091, 145.70125945454546, 145.7004384090909, 145.70116240000002, 145.70080484285714, 145.70069125555554, 145.70047251111112, 145.70078283333334, 145.70083723333337, 145.7004352777778], \"type\": \"scatter\"}, {\"name\": \"Cluster 141 Buildings\", \"marker\": {\"color\": \"rgba(235,235,235, 0.75)\", \"size\": 6}, \"mode\": \"markers\", \"y\": [-16.803941027272728, -16.804113440000002, -16.80398452, -16.80364518, -16.803708314285718, -16.80385582857143, -16.804462159999996, -16.80417892, -16.804278919999998], \"x\": [145.70512641818183, 145.70512340000002, 145.7047434, 145.70497808, 145.70521627142858, 145.70484810000005, 145.70502258, 145.70455510000005, 145.70506600000004], \"type\": \"scatter\"}, {\"name\": \"Cluster 142 Buildings\", \"marker\": {\"color\": \"rgba(5,5,5, 0.75)\", \"size\": 6}, \"mode\": \"markers\", \"y\": [-16.813587263636364, -16.81384618181818, -16.813768336363633, -16.813650071428572, -16.813463585714285, -16.813374214285716, -16.8133801, -16.813976385714284], \"x\": [145.70230314545455, 145.70254766363638, 145.70270761818185, 145.70216808571433, 145.70241851428568, 145.70259052857142, 145.70220622222226, 145.70240681428572], \"type\": \"scatter\"}, {\"name\": \"Cluster 143 Buildings\", \"marker\": {\"color\": \"rgba(30,30,30, 0.75)\", \"size\": 6}, \"mode\": \"markers\", \"y\": [-16.81415468461538, -16.813897888888892, -16.81425948, -16.814591139999994, -16.814314439999997, -16.814813519999998, -16.814349800000002, -16.81454214, -16.814651066666666], \"x\": [145.72295475384615, 145.72300890000002, 145.723183, 145.7230057, 145.72352118, 145.72329666000005, 145.72332898000005, 145.72357638, 145.72327107777778], \"type\": \"scatter\"}, {\"name\": \"Cluster 144 Buildings\", \"marker\": {\"color\": \"rgba(55,55,55, 0.75)\", \"size\": 6}, \"mode\": \"markers\", \"y\": [-16.81170886, -16.811614300000002, -16.811344185714287, -16.811604011111108, -16.81152156666667, -16.811294677777774, -16.8120425, -16.812081499999998], \"x\": [145.72161502, 145.72132582857142, 145.72122507142856, 145.72113323333332, 145.7215605888889, 145.72156662222218, 145.72122606000005, 145.72156834000003], \"type\": \"scatter\"}, {\"name\": \"Cluster 145 Buildings\", \"marker\": {\"color\": \"rgba(80,80,80, 0.75)\", \"size\": 6}, \"mode\": \"markers\", \"y\": [-16.810818140000002, -16.810914328571428, -16.81086115714286, -16.81104398, -16.810829342857144, -16.81098942857143, -16.810882622222227, -16.811315627272727, -16.811340085714278, -16.811343571428573, -16.811361842857142], \"x\": [145.72376186000002, 145.72451912857144, 145.72470401428572, 145.7238833, 145.72396952857142, 145.72430965714287, 145.72414483333333, 145.7238723, 145.72405044285713, 145.72424615714286, 145.7244536142857], \"type\": \"scatter\"}, {\"name\": \"Cluster 146 Buildings\", \"marker\": {\"color\": \"rgba(105,105,105, 0.75)\", \"size\": 6}, \"mode\": \"markers\", \"y\": [-16.812113736363635, -16.812032363636366, -16.812050085714286, -16.81244104545455, -16.81250771818182, -16.812642984615387, -16.81248521111111], \"x\": [145.7021906909091, 145.70184790000002, 145.7020174142857, 145.70186068181818, 145.70222218181817, 145.70173765384612, 145.70205395555553], \"type\": \"scatter\"}, {\"name\": \"Cluster 147 Buildings\", \"marker\": {\"color\": \"rgba(130,130,130, 0.75)\", \"size\": 6}, \"mode\": \"markers\", \"y\": [-16.8022887, -16.80243844, -16.80259714, -16.80270626, -16.802699920000002, -16.802429800000002, -16.80299026, -16.802867499999998, -16.802565057142857], \"x\": [145.70946845999995, 145.70953712, 145.70965372, 145.70977966, 145.70921630000004, 145.70897378, 145.70946756, 145.70992434, 145.70911084285714], \"type\": \"scatter\"}, {\"name\": \"Cluster 148 Buildings\", \"marker\": {\"color\": \"rgba(155,155,155, 0.75)\", \"size\": 6}, \"mode\": \"markers\", \"y\": [-16.811438163636364, -16.811288127272725, -16.810805338461538, -16.811170211111108, -16.810803311111115, -16.811019955555555], \"x\": [145.70203795454543, 145.7021581090909, 145.70242740769234, 145.70229424444446, 145.70260098888892, 145.70239324444444], \"type\": \"scatter\"}, {\"name\": \"Cluster 149 Buildings\", \"marker\": {\"color\": \"rgba(180,180,180, 0.75)\", \"size\": 6}, \"mode\": \"markers\", \"y\": [-16.80301552, -16.803526863636364, -16.80317612, -16.803419140000006, -16.80358454285714, -16.803496477777774, -16.803272822222226, -16.803383644444445, -16.80376801111111], \"x\": [145.70446726, 145.7039669909091, 145.70432726, 145.7046795, 145.70436731428572, 145.70451293333338, 145.70422233333338, 145.70410157777778, 145.7042651555556], \"type\": \"scatter\"}, {\"name\": \"Cluster 150 Buildings\", \"marker\": {\"color\": \"rgba(205,205,205, 0.75)\", \"size\": 6}, \"mode\": \"markers\", \"y\": [-16.812318072727273, -16.813146420000002, -16.81254078, -16.812243099999996, -16.812915757142857, -16.812801414285715, -16.81225602857143, -16.812514433333334, -16.812642611111116, -16.812220777777775, -16.813121940000002], \"x\": [145.71961173636362, 145.7193112, 145.71950178, 145.71922816, 145.71950111428572, 145.71949548571428, 145.71940457142858, 145.7191073555556, 145.71953424444442, 145.71907162222226, 145.71950012], \"type\": \"scatter\"}, {\"name\": \"Cluster 151 Buildings\", \"marker\": {\"color\": \"rgba(230,230,230, 0.75)\", \"size\": 6}, \"mode\": \"markers\", \"y\": [-16.80286948666667, -16.80295, -16.80311996, -16.80308926, -16.80283922, -16.80273642, -16.803316285714285], \"x\": [145.70234111999997, 145.70250672000003, 145.70267712, 145.70276828000004, 145.70210808, 145.70243932, 145.70260595714288], \"type\": \"scatter\"}, {\"name\": \"Cluster 152 Buildings\", \"marker\": {\"color\": \"rgba(255,255,255, 0.75)\", \"size\": 6}, \"mode\": \"markers\", \"y\": [-16.812089999999998, -16.812568446153847, -16.81177522, -16.81210342, -16.812140457142856, -16.812101242857143, -16.811750142857143, -16.811662928571426, -16.812192311111108, -16.811722255555555], \"x\": [145.72202378461537, 145.72247613846156, 145.72275386666666, 145.72258180000003, 145.72219479999995, 145.72237581428567, 145.72213777142858, 145.72238912857142, 145.72276366666668, 145.72257714444444], \"type\": \"scatter\"}, {\"name\": \"Cluster 153 Buildings\", \"marker\": {\"color\": \"rgba(25,25,25, 0.75)\", \"size\": 6}, \"mode\": \"markers\", \"y\": [-16.809280446153846], \"x\": [145.71528719999995], \"type\": \"scatter\"}, {\"name\": \"Cluster 154 Buildings\", \"marker\": {\"color\": \"rgba(50,50,50, 0.75)\", \"size\": 6}, \"mode\": \"markers\", \"y\": [-16.806784545454544, -16.807052728571428, -16.807276014285712, -16.806676644444444, -16.80719562222222, -16.806952344444444], \"x\": [145.70212969999997, 145.70237615714285, 145.70255614285713, 145.70203967777778, 145.70243675555554, 145.70225753333332], \"type\": \"scatter\"}, {\"name\": \"Cluster 155 Buildings\", \"marker\": {\"color\": \"rgba(75,75,75, 0.75)\", \"size\": 6}, \"mode\": \"markers\", \"y\": [-16.81723299090909, -16.817092879999993, -16.81715884, -16.816720899999996, -16.81702674, -16.8170678, -16.81718904, -16.81673256, -16.81684882857143, -16.81714607142857, -16.816758433333334], \"x\": [145.7199044181818, 145.71982918000003, 145.71928180000003, 145.71985514, 145.71969064, 145.71998028000004, 145.71967486, 145.71964608, 145.72003718571432, 145.71948575714285, 145.71947838888892], \"type\": \"scatter\"}, {\"name\": \"Cluster 156 Buildings\", \"marker\": {\"color\": \"rgba(100,100,100, 0.75)\", \"size\": 6}, \"mode\": \"markers\", \"y\": [-16.80378982, -16.803538299999996, -16.804058719999997, -16.803629739999998, -16.80351772857143, -16.803293285714286], \"x\": [145.7217008, 145.72205659999997, 145.72229134, 145.72152562000005, 145.72241797142857, 145.7220141], \"type\": \"scatter\"}, {\"name\": \"Cluster 157 Buildings\", \"marker\": {\"color\": \"rgba(125,125,125, 0.75)\", \"size\": 6}, \"mode\": \"markers\", \"y\": [-16.813666540000003, -16.81354742, -16.814238944444444, -16.814101177777776, -16.813995745454545, -16.814252900000003, -16.814408022222224, -16.814112766666668, -16.814532033333332], \"x\": [145.72031088, 145.72036666, 145.72085348888888, 145.72093276666666, 145.72034186363638, 145.72030889999996, 145.72033829999995, 145.72030387777778, 145.72026650000004], \"type\": \"scatter\"}, {\"name\": \"Cluster 158 Buildings\", \"marker\": {\"color\": \"rgba(150,150,150, 0.75)\", \"size\": 6}, \"mode\": \"markers\", \"y\": [-16.809898999999998, -16.80974124, -16.81030494, -16.810174600000003, -16.80986506, -16.810029399999998, -16.81008042857143, -16.810263600000006], \"x\": [145.72630678000004, 145.72622344, 145.7262659, 145.72616010000002, 145.72599924000005, 145.72608176, 145.72636045714285, 145.7264258777778], \"type\": \"scatter\"}, {\"name\": \"Cluster 159 Buildings\", \"marker\": {\"color\": \"rgba(175,175,175, 0.75)\", \"size\": 6}, \"mode\": \"markers\", \"y\": [-16.81426076, -16.814547005263158, -16.815154460000002, -16.814342214285713, -16.81454499090909, -16.814718980000002, -16.8151388, -16.814689533333336, -16.814964555555555], \"x\": [145.71836524, 145.7186305684211, 145.71867360000002, 145.71859094285716, 145.71833111818182, 145.71816819999998, 145.71828216666663, 145.7188055111111, 145.71820701111108], \"type\": \"scatter\"}, {\"name\": \"Cluster 160 Buildings\", \"marker\": {\"color\": \"rgba(200,200,200, 0.75)\", \"size\": 6}, \"mode\": \"markers\", \"y\": [-16.80347262, -16.803755700000004, -16.803543659999995, -16.8035167, -16.80329537142857, -16.803270628571433, -16.8032628, -16.803662311111115], \"x\": [145.720325, 145.72057542, 145.7199502, 145.7202051, 145.72044958571433, 145.72020261428568, 145.72080957142856, 145.72020740000005], \"type\": \"scatter\"}, {\"name\": \"Cluster 161 Buildings\", \"marker\": {\"color\": \"rgba(225,225,225, 0.75)\", \"size\": 6}, \"mode\": \"markers\", \"y\": [-16.80714966, -16.806971746153845, -16.807392146153852, -16.80755728, -16.80725118, -16.8073174, -16.806965279999996, -16.807145560000002, -16.807500377777778, -16.807740522222225], \"x\": [145.72183608, 145.72174849230768, 145.72228516923082, 145.72225418, 145.72228872, 145.72171218, 145.72198802, 145.72227764000004, 145.72187078888888, 145.72220983333332], \"type\": \"scatter\"}, {\"name\": \"Cluster 162 Buildings\", \"marker\": {\"color\": \"rgba(250,250,250, 0.75)\", \"size\": 6}, \"mode\": \"markers\", \"y\": [-16.823166427272728, -16.82328214, -16.823687045454548, -16.823490080000006, -16.823376199999995, -16.823519128571427], \"x\": [145.70582608181817, 145.70575775999995, 145.7051494090909, 145.70515686000005, 145.70514350000005, 145.70543395714284], \"type\": \"scatter\"}, {\"name\": \"Cluster 163 Buildings\", \"marker\": {\"color\": \"rgba(20,20,20, 0.75)\", \"size\": 6}, \"mode\": \"markers\", \"y\": [-16.824732920000002, -16.82508096, -16.82553322, -16.825164660000002, -16.82509118], \"x\": [145.705096, 145.70495956, 145.70538115999997, 145.70572152, 145.70513946], \"type\": \"scatter\"}, {\"name\": \"Cluster 164 Buildings\", \"marker\": {\"color\": \"rgba(45,45,45, 0.75)\", \"size\": 6}, \"mode\": \"markers\", \"y\": [-16.81170532, -16.811958620000002, -16.811801879999994, -16.811911666666667, -16.81232288, -16.812405379999998, -16.81206147142857], \"x\": [145.71639828, 145.71681757999997, 145.71687944, 145.71640047777774, 145.71635536000005, 145.71657788, 145.71640274285716], \"type\": \"scatter\"}, {\"name\": \"Cluster 165 Buildings\", \"marker\": {\"color\": \"rgba(70,70,70, 0.75)\", \"size\": 6}, \"mode\": \"markers\", \"y\": [-16.811083900000003, -16.81093077142857, -16.810931085714284, -16.811152040000003, -16.811349, -16.811385542857142, -16.81152936, -16.81107966, -16.811320199999997, -16.811522755555554], \"x\": [145.72563494000005, 145.7251479285714, 145.72486057142856, 145.72525052, 145.72522827142856, 145.72498962857142, 145.72515448, 145.72507916, 145.72567454, 145.7253235555556], \"type\": \"scatter\"}, {\"name\": \"Cluster 166 Buildings\", \"marker\": {\"color\": \"rgba(95,95,95, 0.75)\", \"size\": 6}, \"mode\": \"markers\", \"y\": [-16.80841002, -16.80842446, -16.80894256, -16.80861096, -16.80849522, -16.80894854, -16.808439200000002, -16.808582379999994, -16.808449259999996, -16.80855234, -16.80863126, -16.808590357142858, -16.8086883], \"x\": [145.72157642000005, 145.72180782, 145.72196393999997, 145.72201234000005, 145.72223164, 145.72154774, 145.72193244, 145.72159942, 145.72213042, 145.72171436, 145.72181292, 145.7214993285714, 145.7221990857143], \"type\": \"scatter\"}, {\"name\": \"Cluster 167 Buildings\", \"marker\": {\"color\": \"rgba(120,120,120, 0.75)\", \"size\": 6}, \"mode\": \"markers\", \"y\": [-16.805947699999994, -16.805703822222224, -16.805855855555556, -16.805950488888882, -16.806397781818184, -16.806487842857145, -16.80627712857143, -16.806227899999996, -16.806134444444446], \"x\": [145.70484661999996, 145.70463389999995, 145.70423184444445, 145.70409206666668, 145.70445226363637, 145.70430338571427, 145.70457045714286, 145.70430023333333, 145.7044763], \"type\": \"scatter\"}, {\"name\": \"Cluster 168 Buildings\", \"marker\": {\"color\": \"rgba(145,145,145, 0.75)\", \"size\": 6}, \"mode\": \"markers\", \"y\": [-16.815860172727273, -16.815681955555554, -16.816177418181816, -16.815722136363636, -16.816242857142857, -16.815868728571427, -16.81601542857143, -16.816003199999994, -16.815567222222224, -16.816212955555557], \"x\": [145.70433003636361, 145.70438822222226, 145.70397323636362, 145.70406545454546, 145.7042959285714, 145.70405404285714, 145.70432409999998, 145.70401258888887, 145.70400774444445, 145.70413175555555], \"type\": \"scatter\"}, {\"name\": \"Cluster 169 Buildings\", \"marker\": {\"color\": \"rgba(170,170,170, 0.75)\", \"size\": 6}, \"mode\": \"markers\", \"y\": [-16.803968909090912, -16.80380348, -16.803676944444447, -16.803781266666665, -16.803835911111108, -16.803948199999994, -16.804087728571428, -16.804398072727274, -16.80427042, -16.804096042857143], \"x\": [145.70072175454547, 145.70120623999995, 145.70049427777778, 145.7009806222222, 145.7006169111111, 145.70107634545457, 145.70086112857143, 145.7005074090909, 145.70034330000001, 145.70026371428568], \"type\": \"scatter\"}, {\"name\": \"Cluster 170 Buildings\", \"marker\": {\"color\": \"rgba(195,195,195, 0.75)\", \"size\": 6}, \"mode\": \"markers\", \"y\": [-16.807473144444444, -16.80815596, -16.808261372727273, -16.807899263636365, -16.808379463636363, -16.80770948461538, -16.808014300000004, -16.808119422222227, -16.807971366666667], \"x\": [145.70267290000004, 145.70266734, 145.70243910000005, 145.70217246363637, 145.70252035454547, 145.70240028461538, 145.70229951428573, 145.70240974444445, 145.7026131444444], \"type\": \"scatter\"}, {\"name\": \"Cluster 171 Buildings\", \"marker\": {\"color\": \"rgba(220,220,220, 0.75)\", \"size\": 6}, \"mode\": \"markers\", \"y\": [-16.8156984, -16.816159085714286, -16.816018911111108, -16.815864055555554, -16.815529244444438, -16.816307481818182], \"x\": [145.70477169999995, 145.70469755714285, 145.70473582222226, 145.70475532222218, 145.70478936666666, 145.70471203636362], \"type\": \"scatter\"}, {\"name\": \"Cluster 172 Buildings\", \"marker\": {\"color\": \"rgba(245,245,245, 0.75)\", \"size\": 6}, \"mode\": \"markers\", \"y\": [-16.814224854545458, -16.814121133333334, -16.814800127272726, -16.81472146363636, -16.814908092307693, -16.814538885714285, -16.81444087142857, -16.814748185714286, -16.8146122375, -16.81436486666667, -16.814595566666668], \"x\": [145.7025459909091, 145.70268668888892, 145.70288935454545, 145.70306697272727, 145.70271188461538, 145.70269775714286, 145.70289435714287, 145.70260068571432, 145.7025500625, 145.7030631888889, 145.7032095666667], \"type\": \"scatter\"}, {\"name\": \"Cluster 173 Buildings\", \"marker\": {\"color\": \"rgba(15,15,15, 0.75)\", \"size\": 6}, \"mode\": \"markers\", \"y\": [-16.8103919, -16.81023634, -16.810510779999998, -16.810387900000002, -16.810206666666666, -16.811197, -16.810769999999998, -16.810645814285714], \"x\": [145.72069888, 145.72070144, 145.72065493999997, 145.72030569999998, 145.72039735555555, 145.7204841, 145.72067568888892, 145.72028495714284], \"type\": \"scatter\"}, {\"name\": \"Cluster 174 Buildings\", \"marker\": {\"color\": \"rgba(40,40,40, 0.75)\", \"size\": 6}, \"mode\": \"markers\", \"y\": [-16.8028685, -16.80299004, -16.8026414, -16.802703628571425, -16.802861866666667], \"x\": [145.72135646, 145.7220733, 145.72105504, 145.72179854285713, 145.72185195555554], \"type\": \"scatter\"}, {\"name\": \"Cluster 175 Buildings\", \"marker\": {\"color\": \"rgba(65,65,65, 0.75)\", \"size\": 6}, \"mode\": \"markers\", \"y\": [-16.801173109090907, -16.801157760000002, -16.801153799999998], \"x\": [145.70115738181818, 145.70053359999997, 145.70094214444444], \"type\": \"scatter\"}, {\"name\": \"Cluster 176 Buildings\", \"marker\": {\"color\": \"rgba(90,90,90, 0.75)\", \"size\": 6}, \"mode\": \"markers\", \"y\": [-16.812288560000002, -16.81187996, -16.8122301, -16.81183908, -16.811954800000002, -16.811613320000006, -16.81167454, -16.812247242857143, -16.812281471428573, -16.811832355555556, -16.812225033333334, -16.812010555555556], \"x\": [145.71863452, 145.71819867999997, 145.71789154, 145.71848054, 145.71792408000005, 145.71829377999995, 145.71848774, 145.71827985714285, 145.71846391428568, 145.71864406666666, 145.71808840000003, 145.71861618888892], \"type\": \"scatter\"}, {\"name\": \"Cluster 177 Buildings\", \"marker\": {\"color\": \"rgba(115,115,115, 0.75)\", \"size\": 6}, \"mode\": \"markers\", \"y\": [-16.809549240000006, -16.80962094, -16.8095372, -16.80928704, -16.808932866666666], \"x\": [145.71911426, 145.71963018000002, 145.71937640000004, 145.7192925, 145.71989397777776], \"type\": \"scatter\"}, {\"name\": \"Cluster 178 Buildings\", \"marker\": {\"color\": \"rgba(140,140,140, 0.75)\", \"size\": 6}, \"mode\": \"markers\", \"y\": [-16.807988978260873, -16.80747672, -16.807802900000002, -16.80806786, -16.80760152857143], \"x\": [145.7252235913043, 145.72500962, 145.72513095999997, 145.72503764, 145.72514381428567], \"type\": \"scatter\"}, {\"name\": \"Cluster 179 Buildings\", \"marker\": {\"color\": \"rgba(165,165,165, 0.75)\", \"size\": 6}, \"mode\": \"markers\", \"y\": [-16.80315691818182, -16.8035803, -16.803459628571428, -16.80388494, -16.80353336, -16.803793219999996, -16.803709299999998, -16.803341988888892, -16.803647111111108], \"x\": [145.7018886636364, 145.70149745999996, 145.70163891428572, 145.70176116, 145.70139466, 145.70191792, 145.70138828571433, 145.70178422222222, 145.70204579999995], \"type\": \"scatter\"}, {\"name\": \"Cluster 180 Buildings\", \"marker\": {\"color\": \"rgba(190,190,190, 0.75)\", \"size\": 6}, \"mode\": \"markers\", \"y\": [-16.8049128, -16.805025699999998, -16.804672241176473], \"x\": [145.70625556, 145.70623377777778, 145.7063460764706], \"type\": \"scatter\"}, {\"name\": \"Cluster 181 Buildings\", \"marker\": {\"color\": \"rgba(215,215,215, 0.75)\", \"size\": 6}, \"mode\": \"markers\", \"y\": [-16.808016147058822, -16.807979340000006, -16.80838852222222], \"x\": [145.70368437058823, 145.70344958, 145.70396367777778], \"type\": \"scatter\"}, {\"name\": \"Cluster 182 Buildings\", \"marker\": {\"color\": \"rgba(240,240,240, 0.75)\", \"size\": 6}, \"mode\": \"markers\", \"y\": [-16.80468566, -16.8048184, -16.80492988, -16.805168099999996, -16.805060400000002], \"x\": [145.70234680000002, 145.70223742857144, 145.702079, 145.70178416000005, 145.70193998], \"type\": \"scatter\"}, {\"name\": \"Cluster 183 Buildings\", \"marker\": {\"color\": \"rgba(10,10,10, 0.75)\", \"size\": 6}, \"mode\": \"markers\", \"y\": [-16.80435696, -16.804635240000003, -16.80473368, -16.80480042, -16.804499160000002, -16.804701777777776], \"x\": [145.70363636, 145.70390364, 145.70363589999997, 145.70349088, 145.70380512000003, 145.70324877777776], \"type\": \"scatter\"}, {\"name\": \"Cluster 184 Buildings\", \"marker\": {\"color\": \"rgba(35,35,35, 0.75)\", \"size\": 6}, \"mode\": \"markers\", \"y\": [-16.808900686666668, -16.809419300000002, -16.80932116], \"x\": [145.71662944666662, 145.71632118, 145.71628833999995], \"type\": \"scatter\"}, {\"name\": \"Cluster 185 Buildings\", \"marker\": {\"color\": \"rgba(60,60,60, 0.75)\", \"size\": 6}, \"mode\": \"markers\", \"y\": [-16.80726888, -16.80712152, -16.806598200000003, -16.80723404, -16.807092660000002, -16.80669162], \"x\": [145.72300884, 145.72277996, 145.72317048, 145.722786, 145.7229888, 145.72299028000003], \"type\": \"scatter\"}, {\"name\": \"Cluster 186 Buildings\", \"marker\": {\"color\": \"rgba(85,85,85, 0.75)\", \"size\": 6}, \"mode\": \"markers\", \"y\": [-16.802773359999996, -16.80269308, -16.802756985714286, -16.8029765, -16.80289406, -16.80286972857143, -16.802635044444443], \"x\": [145.70372822, 145.7037742, 145.70399257142859, 145.70371168, 145.70363302, 145.70386458571429, 145.70411431111108], \"type\": \"scatter\"}, {\"name\": \"Cluster 187 Buildings\", \"marker\": {\"color\": \"rgba(110,110,110, 0.75)\", \"size\": 6}, \"mode\": \"markers\", \"y\": [-16.81887802, -16.818496371428573, -16.8181767, -16.81843198, -16.81853974, -16.818844919999997, -16.818295957142855, -16.818398057142858, -16.818519742857145, -16.818733955555555, -16.818809633333338], \"x\": [145.71972196000004, 145.7192327857143, 145.71954091818182, 145.71953938, 145.71951739999997, 145.71925418, 145.71978897142859, 145.71943810000002, 145.71975174285708, 145.7198209222222, 145.7194814222222], \"type\": \"scatter\"}, {\"name\": \"Cluster 188 Buildings\", \"marker\": {\"color\": \"rgba(135,135,135, 0.75)\", \"size\": 6}, \"mode\": \"markers\", \"y\": [-16.82589511111111], \"x\": [145.70848006666668], \"type\": \"scatter\"}, {\"name\": \"Cluster 189 Buildings\", \"marker\": {\"color\": \"rgba(160,160,160, 0.75)\", \"size\": 6}, \"mode\": \"markers\", \"y\": [-16.81253358, -16.81220888, -16.8120038], \"x\": [145.72745880000002, 145.72726054000003, 145.72702643333332], \"type\": \"scatter\"}, {\"name\": \"Cluster 190 Buildings\", \"marker\": {\"color\": \"rgba(185,185,185, 0.75)\", \"size\": 6}, \"mode\": \"markers\", \"y\": [-16.807477371428572, -16.80723674, -16.80757532, -16.807377719999998, -16.807790320000002, -16.807528280000003, -16.807978207692305, -16.807921846153842, -16.807651366666665], \"x\": [145.72100501428568, 145.72052726, 145.72097204000005, 145.72052106, 145.72101424000004, 145.72051317999995, 145.720976, 145.72047260000005, 145.72046985555556], \"type\": \"scatter\"}, {\"name\": \"Cluster 191 Buildings\", \"marker\": {\"color\": \"rgba(210,210,210, 0.75)\", \"size\": 6}, \"mode\": \"markers\", \"y\": [-16.82583982, -16.82624582], \"x\": [145.7047381, 145.70466222], \"type\": \"scatter\"}, {\"name\": \"Cluster 192 Buildings\", \"marker\": {\"color\": \"rgba(235,235,235, 0.75)\", \"size\": 6}, \"mode\": \"markers\", \"y\": [-16.809203060000005, -16.809081642857144, -16.80931384, -16.8094577, -16.809194257142856, -16.809378185714284, -16.809444342857145, -16.809583533333335], \"x\": [145.70175276, 145.7016772285714, 145.70148242, 145.70178897142858, 145.7013924, 145.70193034285714, 145.70153588571424, 145.70162992222225], \"type\": \"scatter\"}, {\"name\": \"Cluster 193 Buildings\", \"marker\": {\"color\": \"rgba(5,5,5, 0.75)\", \"size\": 6}, \"mode\": \"markers\", \"y\": [-16.80526061428571, -16.805808758333338, -16.80529617692308, -16.805723299999997, -16.805775344444438], \"x\": [145.70753178571428, 145.70765887500005, 145.70735919230768, 145.7073386, 145.70749843333334], \"type\": \"scatter\"}, {\"name\": \"Cluster 194 Buildings\", \"marker\": {\"color\": \"rgba(30,30,30, 0.75)\", \"size\": 6}, \"mode\": \"markers\", \"y\": [-16.827736899999998, -16.82781842, -16.82814184, -16.82801688], \"x\": [145.70822968, 145.70854707999996, 145.70819714, 145.70819971999995], \"type\": \"scatter\"}, {\"name\": \"Cluster 195 Buildings\", \"marker\": {\"color\": \"rgba(55,55,55, 0.75)\", \"size\": 6}, \"mode\": \"markers\", \"y\": [-16.809130542857144, -16.80972065454545, -16.80938755384615, -16.809577653846155, -16.80993043846154, -16.80991062, -16.80951732857143, -16.8097609], \"x\": [145.70562160000003, 145.70587110909094, 145.70542528461542, 145.70568727692307, 145.70540463076927, 145.70583700000003, 145.70552268571427, 145.70527731111108], \"type\": \"scatter\"}, {\"name\": \"Cluster 196 Buildings\", \"marker\": {\"color\": \"rgba(80,80,80, 0.75)\", \"size\": 6}, \"mode\": \"markers\", \"y\": [-16.80488842, -16.80529688, -16.80494102, -16.80494447142857, -16.8050883, -16.805178625, -16.80561909090909, -16.805499423076924, -16.80529814, -16.805718576923073], \"x\": [145.70548034, 145.7056253, 145.70537326, 145.70572032857143, 145.7053141333334, 145.7050950375, 145.7052867181818, 145.7054276307692, 145.70496936, 145.7051614230769], \"type\": \"scatter\"}, {\"name\": \"Cluster 197 Buildings\", \"marker\": {\"color\": \"rgba(105,105,105, 0.75)\", \"size\": 6}, \"mode\": \"markers\", \"y\": [-16.81538822, -16.815019385714287, -16.814684399999997, -16.814866111111108, -16.81481357272727, -16.814954645454545, -16.81530238, -16.81516427777778], \"x\": [145.72009419999998, 145.72016918571433, 145.72021612857142, 145.72025116666666, 145.71976493636362, 145.71969819999998, 145.71976476000003, 145.71972384444445], \"type\": \"scatter\"}, {\"name\": \"Cluster 198 Buildings\", \"marker\": {\"color\": \"rgba(130,130,130, 0.75)\", \"size\": 6}, \"mode\": \"markers\", \"y\": [-16.80328224285714, -16.803122885714284, -16.80295098888889, -16.803385959999996], \"x\": [145.7056916, 145.70570675714285, 145.70568085555556, 145.70531648], \"type\": \"scatter\"}, {\"name\": \"Cluster 199 Buildings\", \"marker\": {\"color\": \"rgba(155,155,155, 0.75)\", \"size\": 6}, \"mode\": \"markers\", \"y\": [-16.80854642, -16.808603920000003, -16.80868832, -16.80855802, -16.80875118, -16.80874724, -16.808822066666664], \"x\": [145.7229321, 145.72335569999998, 145.72335388000005, 145.72305769999997, 145.72294802, 145.72314153999997, 145.7233480444444], \"type\": \"scatter\"}, {\"name\": \"KMeans Clusters\", \"marker\": {\"color\": \"rgba(255, 0, 0, 0.75)\", \"size\": 4}, \"mode\": \"markers\", \"y\": [-16.811134827811966, -16.808895705493768, -16.807834716666665, -16.8143050436273, -16.812936807734488, -16.804987977384837, -16.826968370000003, -16.817828320220386, -16.80447368214008, -16.805058677277536, -16.802167266232964, -16.81020124068027, -16.813870893291153, -16.816783470093796, -16.823395096785713, -16.80085263199375, -16.81084477045635, -16.805974232275133, -16.80882722103117, -16.80378268543651, -16.811288735266956, -16.812685001587, -16.8158602224127, -16.808452507464253, -16.81192784574956, -16.806425531482407, -16.802970603174604, -16.81548668968488, -16.802655360458555, -16.807326957142855, -16.803904139707793, -16.819603423555556, -16.81360968087912, -16.806818836163835, -16.816010802481962, -16.80180909740593, -16.798766024032634, -16.808976151836735, -16.815099141050062, -16.824966802857144, -16.811956352424243, -16.80950238233987, -16.811012130249434, -16.810112182127945, -16.808073381313932, -16.814245830174123, -16.80733218939263, -16.810846119444445, -16.81056097673016, -16.80839644670707, -16.8137286838744, -16.80608764727273, -16.813663738297258, -16.815474371965532, -16.803831496986138, -16.803717573665732, -16.80661767774725, -16.81428559206349, -16.810283196507935, -16.811813142857144, -16.811986394708807, -16.80322197953824, -16.80401346275613, -16.808588284547618, -16.803214403924965, -16.809205661777778, -16.81150286915307, -16.806314272751322, -16.8067268111803, -16.812560348862434, -16.80252114079365, -16.81579664730159, -16.811907766805554, -16.81114933266234, -16.82750374, -16.809710016760768, -16.804348204751175, -16.807042719866246, -16.809773125470084, -16.805270130501444, -16.813377200569988, -16.802910051721295, -16.805922071100532, -16.814615144887654, -16.815118025299146, -16.824033360952384, -16.806962566782104, -16.810216766214527, -16.803270119183672, -16.815306873121692, -16.81785276865079, -16.815015783333333, -16.820554607896824, -16.81445206, -16.80766463952575, -16.802420912244898, -16.80667248793651, -16.807707169240732, -16.816920312786518, -16.809952951488512, -16.80152652103082, -16.809370114517705, -16.81302245910053, -16.811183565600906, -16.80776869573211, -16.80147420727273, -16.81447201802469, -16.804468044666667, -16.808868005026454, -16.805363394575497, -16.804001936289684, -16.8044910364903, -16.8128478757326, -16.81331775599464, -16.811610046666665, -16.802189455301363, -16.806035993795096, -16.812277138253666, -16.808990839015873, -16.82838013, -16.815928954188035, -16.801778900000002, -16.81735956620859, -16.805227616349207, -16.808434286507936, -16.80538268125, -16.816798794603173, -16.810520863403422, -16.805594746009298, -16.8187786410696, -16.808371363333332, -16.81262020924603, -16.81153385213675, -16.8075273976004, -16.809421650333334, -16.816767271004274, -16.813584672275873, -16.815444844808802, -16.811139748253968, -16.80941389000333, -16.81465393022432, -16.804018701125543, -16.813630767370128, -16.81439712890788, -16.81165145015873, -16.811063647876164, -16.81232473501102, -16.802620341904763, -16.811087517858066, -16.803404793561008, -16.812611030449954, -16.80298866176871, -16.81201064242491, -16.809280446153846, -16.806989649903798, -16.816997734931128, -16.80363793238095, -16.814095061099888, -16.810044783571428, -16.81470681103854, -16.80347247388889, -16.80729911523077, -16.82342017021645, -16.825120588, -16.81202388829932, -16.811228431555556, -16.808597296703297, -16.806109218261984, -16.815935207489176, -16.803986697546897, -16.807998197549857, -16.81592952977393, -16.814552389526003, -16.810543300119047, -16.802813087047618, -16.801161556363635, -16.812006418227515, -16.809385457333335, -16.80778759736646, -16.80356741852814, -16.804870247058822, -16.80812800309368, -16.804932488, -16.804621206296297, -16.809213715555558, -16.807001153333335, -16.802799822675738, -16.818556825223666, -16.82589511111111, -16.812248753333332, -16.807615241326822, -16.826042819999998, -16.809332070238096, -16.805572838797314, -16.82792851, -16.809616961515985, -16.805247294733768, -16.815024124098123, -16.80318551936508, -16.80867388095238], \"x\": [145.71665996594385, 145.70232743494827, 145.72172266925926, 145.70360529135942, 145.72315581221446, 145.70457113592852, 145.70853893999998, 145.7188299921763, 145.70862741060532, 145.70064363586425, 145.72037249872454, 145.7240587519728, 145.7191044999334, 145.70120230472583, 145.70425504249997, 145.70776208718854, 145.7215454076587, 145.72227852342473, 145.70628737874418, 145.7024059393254, 145.71853823341993, 145.70261021548976, 145.72050945238095, 145.7006749188771, 145.72579511838063, 145.70074352258715, 145.70498106222223, 145.70111760962286, 145.7014481304762, 145.7235726485714, 145.72101664090908, 145.71930397528044, 145.72117657714284, 145.70512139786433, 145.7193500674459, 145.70873932712954, 145.70495409993006, 145.72264786902494, 145.70437727151403, 145.7044527579592, 145.72327183186147, 145.72052068564705, 145.7264598599093, 145.7168977929293, 145.72401077709878, 145.72207340889082, 145.70184782895447, 145.70183499714648, 145.72253669174603, 145.70439785652235, 145.7005969347988, 145.72107306109092, 145.7182592229309, 145.70255584906073, 145.70593094180433, 145.72304096825772, 145.70666320528784, 145.71974100539683, 145.71861637174604, 145.72481136, 145.71733842982147, 145.70077340608626, 145.70379698867606, 145.72062244596825, 145.71033741122656, 145.7257737928889, 145.71939614550115, 145.70169969285715, 145.72452893470086, 145.72134577201058, 145.722267994127, 145.7184778741799, 145.72014057625, 145.72336162530843, 145.70526581000001, 145.72376108592542, 145.70159818691346, 145.7040022489441, 145.72177680626783, 145.70394923693001, 145.7017008765873, 145.7194835228819, 145.70609961781042, 145.7211435392888, 145.7034469191453, 145.7054677657143, 145.72094338689755, 145.7177571601693, 145.70330023510206, 145.7222376647619, 145.71988924880952, 145.71916240860318, 145.71956833472223, 145.72419076666668, 145.7055579017252, 145.70560000979592, 145.72217962444444, 145.70138378758338, 145.7005224200636, 145.722932691988, 145.70036282494175, 145.70498096886038, 145.7201414955291, 145.71755669304886, 145.7229032618691, 145.72114700831168, 145.70207340592594, 145.70561635073017, 145.70132671666667, 145.72113352053182, 145.70760532593255, 145.70286603622574, 145.71819913379787, 145.72207937235623, 145.72674642888887, 145.70458601293745, 145.72418068106782, 145.72407346109122, 145.7240593779365, 145.70870313, 145.70339638938927, 145.71832334000004, 145.70106459640743, 145.7031791806349, 145.70190418559525, 145.70809590625, 145.71890108320346, 145.7195161171944, 145.70139750278017, 145.71871790945056, 145.72544529888887, 145.71711426722223, 145.70145677641025, 145.70054040757842, 145.72311060433333, 145.72051743987177, 145.70312045145872, 145.72163199161696, 145.7222924615873, 145.7007598259052, 145.70079230738557, 145.70496437217895, 145.70241857404403, 145.72323851462488, 145.72140259555556, 145.7241740760173, 145.70199006831896, 145.70945908698414, 145.70231865818442, 145.7043233694661, 145.71938794454678, 145.7024923710204, 145.72242739151403, 145.71528719999995, 145.70229932777778, 145.71971488453892, 145.72200107190477, 145.72044702632996, 145.7262279443651, 145.71845048426098, 145.72034061142858, 145.72204711037608, 145.705411261342, 145.70525954, 145.71654739437642, 145.72523435955557, 145.72184829802197, 145.7044341189931, 145.70415831098123, 145.70070717030592, 145.7024660939969, 145.70474363410293, 145.7028105917947, 145.7205253826984, 145.72162705968253, 145.7008777087542, 145.71833360891534, 145.71946146355558, 145.725109125118, 145.70170189842872, 145.7062784714161, 145.70369920945535, 145.7020774737143, 145.70362011296297, 145.71641298888886, 145.72295406, 145.7038312268934, 145.7195534347842, 145.70848006666668, 145.72724859111113, 145.72071902776014, 145.70470016, 145.7016487413492, 145.70747737727106, 145.70829340499998, 145.705580862278, 145.7053453531433, 145.71996030272007, 145.7055989231746, 145.7231624263492], \"type\": \"scatter\"}], {\"yaxis\": {\"scaleratio\": 1, \"scaleanchor\": \"x\"}, \"title\": \"Yorkey's Knob Building Cluster Coordinates with 200 Clusters\"}, {\"linkText\": \"Export to plot.ly\", \"showLink\": true})});</script>"
      ]
     },
     "metadata": {},
     "output_type": "display_data"
    }
   ],
   "source": [
    "kmeans = KMeans(n_clusters=numClusters, init = 'k-means++').fit(buildings.as_matrix())\n",
    "kxs = []\n",
    "kys = []\n",
    "for k in kmeans.cluster_centers_:\n",
    "    kxs.append(k[0])\n",
    "    kys.append(k[1])\n",
    "\n",
    "\n",
    "clusterCenters, clusterPoints, points = createClusterCenters(kmeans.labels_)\n",
    "#print(euclideanDistance(points[1][0], points[1][1]))\n",
    "# print(maxDistBetweenClusters(points))\n",
    "print(\"silhouette score: \" + str(clusterEval(kmeans.labels_)[0]))\n",
    "print(\"calinski score: \" + str(clusterEval(kmeans.labels_)[1]))\n",
    "    \n",
    "#Trace for color coding the clusters\n",
    "kMeansTrace = colorClusterTrace(len(kmeans.cluster_centers_), clusterPoints)\n",
    "\n",
    "\n",
    "#Create a trace for the kmeans cluster centers with slightly larger dots than the buildings\n",
    "kTrace = clusterCenterTrace([kxs, kys], 'KMeans Clusters')\n",
    "\n",
    "#Plot result\n",
    "plot(kMeansTrace, kTrace)"
   ]
  },
  {
   "cell_type": "markdown",
   "metadata": {},
   "source": [
    "DB Scan"
   ]
  },
  {
   "cell_type": "code",
   "execution_count": 19,
   "metadata": {},
   "outputs": [
    {
     "ename": "ValueError",
     "evalue": "Number of labels is 1. Valid values are 2 to n_samples - 1 (inclusive)",
     "output_type": "error",
     "traceback": [
      "\u001b[0;31m---------------------------------------------------------------------------\u001b[0m",
      "\u001b[0;31mValueError\u001b[0m                                Traceback (most recent call last)",
      "\u001b[0;32m<ipython-input-19-7493438a258c>\u001b[0m in \u001b[0;36m<module>\u001b[0;34m()\u001b[0m\n\u001b[1;32m      5\u001b[0m \u001b[0;34m\u001b[0m\u001b[0m\n\u001b[1;32m      6\u001b[0m \u001b[0;34m\u001b[0m\u001b[0m\n\u001b[0;32m----> 7\u001b[0;31m \u001b[0;32mprint\u001b[0m\u001b[0;34m(\u001b[0m\u001b[0;34m\"silhouette score: \"\u001b[0m \u001b[0;34m+\u001b[0m \u001b[0mstr\u001b[0m\u001b[0;34m(\u001b[0m\u001b[0mclusterEval\u001b[0m\u001b[0;34m(\u001b[0m\u001b[0mdb\u001b[0m\u001b[0;34m.\u001b[0m\u001b[0mlabels_\u001b[0m\u001b[0;34m)\u001b[0m\u001b[0;34m[\u001b[0m\u001b[0;36m0\u001b[0m\u001b[0;34m]\u001b[0m\u001b[0;34m)\u001b[0m\u001b[0;34m)\u001b[0m\u001b[0;34m\u001b[0m\u001b[0m\n\u001b[0m\u001b[1;32m      8\u001b[0m \u001b[0;32mprint\u001b[0m\u001b[0;34m(\u001b[0m\u001b[0;34m\"calinski score: \"\u001b[0m \u001b[0;34m+\u001b[0m \u001b[0mstr\u001b[0m\u001b[0;34m(\u001b[0m\u001b[0mclusterEval\u001b[0m\u001b[0;34m(\u001b[0m\u001b[0mdb\u001b[0m\u001b[0;34m.\u001b[0m\u001b[0mlabels_\u001b[0m\u001b[0;34m)\u001b[0m\u001b[0;34m[\u001b[0m\u001b[0;36m1\u001b[0m\u001b[0;34m]\u001b[0m\u001b[0;34m)\u001b[0m\u001b[0;34m)\u001b[0m\u001b[0;34m\u001b[0m\u001b[0m\n\u001b[1;32m      9\u001b[0m \u001b[0;34m\u001b[0m\u001b[0m\n",
      "\u001b[0;32m<ipython-input-17-e5b6ec0a1802>\u001b[0m in \u001b[0;36mclusterEval\u001b[0;34m(labels)\u001b[0m\n\u001b[1;32m    184\u001b[0m          \u001b[0mthe\u001b[0m \u001b[0mCalinski\u001b[0m\u001b[0;34m-\u001b[0m\u001b[0mHarabaz\u001b[0m \u001b[0mscore\u001b[0m\u001b[0;34m\u001b[0m\u001b[0m\n\u001b[1;32m    185\u001b[0m     '''\n\u001b[0;32m--> 186\u001b[0;31m     \u001b[0;32mreturn\u001b[0m \u001b[0mmetrics\u001b[0m\u001b[0;34m.\u001b[0m\u001b[0msilhouette_score\u001b[0m\u001b[0;34m(\u001b[0m\u001b[0mbuildings\u001b[0m\u001b[0;34m.\u001b[0m\u001b[0mas_matrix\u001b[0m\u001b[0;34m(\u001b[0m\u001b[0;34m)\u001b[0m\u001b[0;34m,\u001b[0m \u001b[0mlabels\u001b[0m\u001b[0;34m,\u001b[0m \u001b[0mmetric\u001b[0m \u001b[0;34m=\u001b[0m \u001b[0;34m'euclidean'\u001b[0m\u001b[0;34m)\u001b[0m\u001b[0;34m,\u001b[0m \u001b[0mmetrics\u001b[0m\u001b[0;34m.\u001b[0m\u001b[0mcalinski_harabaz_score\u001b[0m\u001b[0;34m(\u001b[0m\u001b[0mbuildings\u001b[0m\u001b[0;34m.\u001b[0m\u001b[0mas_matrix\u001b[0m\u001b[0;34m(\u001b[0m\u001b[0;34m)\u001b[0m\u001b[0;34m,\u001b[0m \u001b[0mlabels\u001b[0m\u001b[0;34m)\u001b[0m\u001b[0;34m\u001b[0m\u001b[0m\n\u001b[0m",
      "\u001b[0;32m/Users/swong/miniconda3/envs/monet/lib/python2.7/site-packages/sklearn/metrics/cluster/unsupervised.pyc\u001b[0m in \u001b[0;36msilhouette_score\u001b[0;34m(X, labels, metric, sample_size, random_state, **kwds)\u001b[0m\n\u001b[1;32m     99\u001b[0m         \u001b[0;32melse\u001b[0m\u001b[0;34m:\u001b[0m\u001b[0;34m\u001b[0m\u001b[0m\n\u001b[1;32m    100\u001b[0m             \u001b[0mX\u001b[0m\u001b[0;34m,\u001b[0m \u001b[0mlabels\u001b[0m \u001b[0;34m=\u001b[0m \u001b[0mX\u001b[0m\u001b[0;34m[\u001b[0m\u001b[0mindices\u001b[0m\u001b[0;34m]\u001b[0m\u001b[0;34m,\u001b[0m \u001b[0mlabels\u001b[0m\u001b[0;34m[\u001b[0m\u001b[0mindices\u001b[0m\u001b[0;34m]\u001b[0m\u001b[0;34m\u001b[0m\u001b[0m\n\u001b[0;32m--> 101\u001b[0;31m     \u001b[0;32mreturn\u001b[0m \u001b[0mnp\u001b[0m\u001b[0;34m.\u001b[0m\u001b[0mmean\u001b[0m\u001b[0;34m(\u001b[0m\u001b[0msilhouette_samples\u001b[0m\u001b[0;34m(\u001b[0m\u001b[0mX\u001b[0m\u001b[0;34m,\u001b[0m \u001b[0mlabels\u001b[0m\u001b[0;34m,\u001b[0m \u001b[0mmetric\u001b[0m\u001b[0;34m=\u001b[0m\u001b[0mmetric\u001b[0m\u001b[0;34m,\u001b[0m \u001b[0;34m**\u001b[0m\u001b[0mkwds\u001b[0m\u001b[0;34m)\u001b[0m\u001b[0;34m)\u001b[0m\u001b[0;34m\u001b[0m\u001b[0m\n\u001b[0m\u001b[1;32m    102\u001b[0m \u001b[0;34m\u001b[0m\u001b[0m\n\u001b[1;32m    103\u001b[0m \u001b[0;34m\u001b[0m\u001b[0m\n",
      "\u001b[0;32m/Users/swong/miniconda3/envs/monet/lib/python2.7/site-packages/sklearn/metrics/cluster/unsupervised.pyc\u001b[0m in \u001b[0;36msilhouette_samples\u001b[0;34m(X, labels, metric, **kwds)\u001b[0m\n\u001b[1;32m    165\u001b[0m     \u001b[0mle\u001b[0m \u001b[0;34m=\u001b[0m \u001b[0mLabelEncoder\u001b[0m\u001b[0;34m(\u001b[0m\u001b[0;34m)\u001b[0m\u001b[0;34m\u001b[0m\u001b[0m\n\u001b[1;32m    166\u001b[0m     \u001b[0mlabels\u001b[0m \u001b[0;34m=\u001b[0m \u001b[0mle\u001b[0m\u001b[0;34m.\u001b[0m\u001b[0mfit_transform\u001b[0m\u001b[0;34m(\u001b[0m\u001b[0mlabels\u001b[0m\u001b[0;34m)\u001b[0m\u001b[0;34m\u001b[0m\u001b[0m\n\u001b[0;32m--> 167\u001b[0;31m     \u001b[0mcheck_number_of_labels\u001b[0m\u001b[0;34m(\u001b[0m\u001b[0mlen\u001b[0m\u001b[0;34m(\u001b[0m\u001b[0mle\u001b[0m\u001b[0;34m.\u001b[0m\u001b[0mclasses_\u001b[0m\u001b[0;34m)\u001b[0m\u001b[0;34m,\u001b[0m \u001b[0mX\u001b[0m\u001b[0;34m.\u001b[0m\u001b[0mshape\u001b[0m\u001b[0;34m[\u001b[0m\u001b[0;36m0\u001b[0m\u001b[0;34m]\u001b[0m\u001b[0;34m)\u001b[0m\u001b[0;34m\u001b[0m\u001b[0m\n\u001b[0m\u001b[1;32m    168\u001b[0m \u001b[0;34m\u001b[0m\u001b[0m\n\u001b[1;32m    169\u001b[0m     \u001b[0mdistances\u001b[0m \u001b[0;34m=\u001b[0m \u001b[0mpairwise_distances\u001b[0m\u001b[0;34m(\u001b[0m\u001b[0mX\u001b[0m\u001b[0;34m,\u001b[0m \u001b[0mmetric\u001b[0m\u001b[0;34m=\u001b[0m\u001b[0mmetric\u001b[0m\u001b[0;34m,\u001b[0m \u001b[0;34m**\u001b[0m\u001b[0mkwds\u001b[0m\u001b[0;34m)\u001b[0m\u001b[0;34m\u001b[0m\u001b[0m\n",
      "\u001b[0;32m/Users/swong/miniconda3/envs/monet/lib/python2.7/site-packages/sklearn/metrics/cluster/unsupervised.pyc\u001b[0m in \u001b[0;36mcheck_number_of_labels\u001b[0;34m(n_labels, n_samples)\u001b[0m\n\u001b[1;32m     17\u001b[0m     \u001b[0;32mif\u001b[0m \u001b[0;32mnot\u001b[0m \u001b[0;36m1\u001b[0m \u001b[0;34m<\u001b[0m \u001b[0mn_labels\u001b[0m \u001b[0;34m<\u001b[0m \u001b[0mn_samples\u001b[0m\u001b[0;34m:\u001b[0m\u001b[0;34m\u001b[0m\u001b[0m\n\u001b[1;32m     18\u001b[0m         raise ValueError(\"Number of labels is %d. Valid values are 2 \"\n\u001b[0;32m---> 19\u001b[0;31m                          \"to n_samples - 1 (inclusive)\" % n_labels)\n\u001b[0m\u001b[1;32m     20\u001b[0m \u001b[0;34m\u001b[0m\u001b[0m\n\u001b[1;32m     21\u001b[0m \u001b[0;34m\u001b[0m\u001b[0m\n",
      "\u001b[0;31mValueError\u001b[0m: Number of labels is 1. Valid values are 2 to n_samples - 1 (inclusive)"
     ]
    }
   ],
   "source": [
    "db = DBSCAN(50, 3).fit(buildings.as_matrix())\n",
    "\n",
    "dbPointsLen = max(db.labels_)\n",
    "dbNumClusters = dbPointsLen + 1\n",
    "\n",
    "\n",
    "print(\"silhouette score: \" + str(clusterEval(db.labels_)[0]))\n",
    "print(\"calinski score: \" + str(clusterEval(db.labels_)[1]))\n",
    "\n",
    "clusterCenters, clusterPoints, points = createClusterCenters(db.labels_)\n",
    "\n",
    "#Trace for color coding the clusters\n",
    "dbTrace = colorClusterTrace(dbNumClusters, clusterPoints)\n",
    "\n",
    "#Create a trace for the DBScan values with slightly larger dots than the buildings\n",
    "dbCentersTrace = clusterCenterTrace(clusterCenters, 'DB Clusters')\n",
    "\n",
    "#Plot result: doesn't use color coding trace because DBScan only uses small subset of buildings\n",
    "points = [trace]\n",
    "#points = []\n",
    "#for x in range(len(dbTrace)):\n",
    "#    points.append(dbTrace[x])\n",
    "points.append(dbCentersTrace)\n",
    "#Gets name of city from the name of the csv file\n",
    "cityName = csvFileName.split(\"/\")[1].split(\"_\")[0]\n",
    "#Plot\n",
    "layout = go.Layout(title = cityName + ' Building Cluster Coordinates with ' + str(dbNumClusters) + ' Clusters',\n",
    "                   yaxis = dict(scaleanchor=\"x\", scaleratio=1))\n",
    "iplot({\n",
    "        \"data\": points,\n",
    "        'layout': layout\n",
    "        },\n",
    "        )"
   ]
  },
  {
   "cell_type": "markdown",
   "metadata": {},
   "source": [
    "Agglomerative Clustering"
   ]
  },
  {
   "cell_type": "code",
   "execution_count": 31,
   "metadata": {},
   "outputs": [
    {
     "name": "stdout",
     "output_type": "stream",
     "text": [
      "silhouette score: 0.386903060798\n",
      "calinski score: 7623.85987349\n"
     ]
    },
    {
     "data": {
      "application/vnd.plotly.v1+json": {
       "data": [
        {
         "marker": {
          "color": "rgba(25,25,25, 0.75)",
          "size": 6
         },
         "mode": "markers",
         "name": "Cluster 0 Buildings",
         "type": "scatter",
         "x": [
          145.71928192,
          145.71966254,
          145.71944411818183,
          145.71965485555555,
          145.71981104285715,
          145.71983798888888,
          145.71950168,
          145.71970349999998,
          145.71967501428568,
          145.71925425714286,
          145.7196566285714,
          145.71926221428572,
          145.71968622857142,
          145.71925286666666,
          145.71962802222222
         ],
         "y": [
          -16.81016736,
          -16.810327540000007,
          -16.81018297272727,
          -16.81017757777778,
          -16.810449657142858,
          -16.81027718888889,
          -16.81098318,
          -16.811268820000002,
          -16.810653014285712,
          -16.81076142857143,
          -16.810466914285715,
          -16.810611785714286,
          -16.81083027142857,
          -16.81042301111111,
          -16.811079366666664
         ]
        },
        {
         "marker": {
          "color": "rgba(50,50,50, 0.75)",
          "size": 6
         },
         "mode": "markers",
         "name": "Cluster 1 Buildings",
         "type": "scatter",
         "x": [
          145.70479866153846,
          145.7047116,
          145.7048207,
          145.70443711538462,
          145.70477169999995,
          145.70390914285713,
          145.70413001428568,
          145.70424472222226,
          145.70438822222226,
          145.70475532222218,
          145.70435957777775,
          145.70478936666666,
          145.70406545454546,
          145.70400774444445
         ],
         "y": [
          -16.815322876923076,
          -16.814936644444444,
          -16.815034311111113,
          -16.815164830769227,
          -16.8156984,
          -16.815387485714286,
          -16.815275585714286,
          -16.81522126666667,
          -16.815681955555554,
          -16.815864055555554,
          -16.815487,
          -16.815529244444438,
          -16.815722136363636,
          -16.815567222222224
         ]
        },
        {
         "marker": {
          "color": "rgba(75,75,75, 0.75)",
          "size": 6
         },
         "mode": "markers",
         "name": "Cluster 2 Buildings",
         "type": "scatter",
         "x": [
          145.72391608,
          145.72373722,
          145.72437554,
          145.72445332,
          145.72412612,
          145.72408046,
          145.72426282,
          145.72399065999997,
          145.72370452,
          145.72380372,
          145.7244845888889,
          145.72430432222222,
          145.72370488,
          145.72388704,
          145.72365638000005,
          145.72378928571428
         ],
         "y": [
          -16.808793804,
          -16.808733619999998,
          -16.809132820000002,
          -16.80902094,
          -16.808704000000002,
          -16.808946820000006,
          -16.809004960000006,
          -16.809164700000004,
          -16.80906934,
          -16.80906602,
          -16.808839411111116,
          -16.808820211111108,
          -16.8092648,
          -16.809310300000003,
          -16.80939224,
          -16.8094441
         ]
        },
        {
         "marker": {
          "color": "rgba(100,100,100, 0.75)",
          "size": 6
         },
         "mode": "markers",
         "name": "Cluster 3 Buildings",
         "type": "scatter",
         "x": [
          145.71961993999997,
          145.7193886285714,
          145.71908678,
          145.71969384,
          145.71915206,
          145.71926458000004,
          145.71947344,
          145.7192693,
          145.71962334,
          145.71967565714286,
          145.71936361428575,
          145.7190367285714,
          145.71932694285715
         ],
         "y": [
          -16.81920846,
          -16.819410457142858,
          -16.82006164,
          -16.81941752,
          -16.81992808,
          -16.820034319999998,
          -16.81930648,
          -16.81965676,
          -16.82000256,
          -16.819598857142857,
          -16.81950421428571,
          -16.819719728571428,
          -16.81921834285714
         ]
        },
        {
         "marker": {
          "color": "rgba(125,125,125, 0.75)",
          "size": 6
         },
         "mode": "markers",
         "name": "Cluster 4 Buildings",
         "type": "scatter",
         "x": [
          145.70078642,
          145.7014939,
          145.70165660000004,
          145.70151864285714,
          145.70154870000005,
          145.70073612727273,
          145.70120056363638,
          145.70110342222222,
          145.70091935555558,
          145.7008106333334,
          145.7009994
         ],
         "y": [
          -16.81771636,
          -16.8174306,
          -16.81744596,
          -16.816789242857144,
          -16.81702167142857,
          -16.81731268181818,
          -16.817384981818186,
          -16.81735953333333,
          -16.817347155555556,
          -16.817340633333334,
          -16.817353366666666
         ]
        },
        {
         "marker": {
          "color": "rgba(150,150,150, 0.75)",
          "size": 6
         },
         "mode": "markers",
         "name": "Cluster 5 Buildings",
         "type": "scatter",
         "x": [
          145.70560036,
          145.70571316000004,
          145.70555518,
          145.70572006,
          145.70576288,
          145.7056916,
          145.70569288571429,
          145.70570675714285,
          145.70568085555556
         ],
         "y": [
          -16.80240804,
          -16.802335120000002,
          -16.80219444,
          -16.80259826,
          -16.80211324,
          -16.80328224285714,
          -16.802755528571428,
          -16.803122885714284,
          -16.80295098888889
         ]
        },
        {
         "marker": {
          "color": "rgba(175,175,175, 0.75)",
          "size": 6
         },
         "mode": "markers",
         "name": "Cluster 6 Buildings",
         "type": "scatter",
         "x": [
          145.71923698,
          145.71952712,
          145.71917656,
          145.71933230000002,
          145.72017224,
          145.7195854,
          145.72015919999998,
          145.71935687777776
         ],
         "y": [
          -16.820510579999997,
          -16.8207212,
          -16.82028136,
          -16.82043544,
          -16.82053614,
          -16.820431140000004,
          -16.820863214285716,
          -16.820657788888884
         ]
        },
        {
         "marker": {
          "color": "rgba(200,200,200, 0.75)",
          "size": 6
         },
         "mode": "markers",
         "name": "Cluster 7 Buildings",
         "type": "scatter",
         "x": [
          145.70335396000004,
          145.70326108,
          145.70296665714287,
          145.70335375714288,
          145.7031406222222,
          145.70352802222226,
          145.70363636,
          145.70390364,
          145.70363589999997,
          145.70349088,
          145.70380512000003
         ],
         "y": [
          -16.80389696,
          -16.8039948,
          -16.80425592857143,
          -16.80416657142857,
          -16.804163455555553,
          -16.804198088888892,
          -16.80435696,
          -16.804635240000003,
          -16.80473368,
          -16.80480042,
          -16.804499160000002
         ]
        },
        {
         "marker": {
          "color": "rgba(225,225,225, 0.75)",
          "size": 6
         },
         "mode": "markers",
         "name": "Cluster 8 Buildings",
         "type": "scatter",
         "x": [
          145.70175276,
          145.70155995714288,
          145.70132375714286,
          145.70143821428573,
          145.7016772285714,
          145.70148242,
          145.70178897142858,
          145.7013924,
          145.70193034285714,
          145.70153588571424,
          145.70127367142857,
          145.70118863333337,
          145.70117606666662,
          145.70162992222225
         ],
         "y": [
          -16.809203060000005,
          -16.808933914285713,
          -16.808656699999997,
          -16.80881197142857,
          -16.809081642857144,
          -16.80931384,
          -16.8094577,
          -16.809194257142856,
          -16.809378185714284,
          -16.809444342857145,
          -16.8091031,
          -16.808990533333333,
          -16.80871181111111,
          -16.809583533333335
         ]
        },
        {
         "marker": {
          "color": "rgba(250,250,250, 0.75)",
          "size": 6
         },
         "mode": "markers",
         "name": "Cluster 9 Buildings",
         "type": "scatter",
         "x": [
          145.71861806,
          145.71830047272724,
          145.7180742,
          145.71787605714286,
          145.7186517,
          145.7181901142857,
          145.7188601285714,
          145.71905382857145,
          145.71799635555558,
          145.71848426666668,
          145.71882123333333
         ],
         "y": [
          -16.813780279999996,
          -16.813433081818182,
          -16.813507499999996,
          -16.813401842857143,
          -16.813475814285713,
          -16.813758585714282,
          -16.81350505714286,
          -16.813525114285714,
          -16.813913133333333,
          -16.81348456666667,
          -16.813837611111108
         ]
        },
        {
         "marker": {
          "color": "rgba(20,20,20, 0.75)",
          "size": 6
         },
         "mode": "markers",
         "name": "Cluster 10 Buildings",
         "type": "scatter",
         "x": [
          145.71863764,
          145.71856164000005,
          145.71843054444446,
          145.71829119999995,
          145.71828216666663,
          145.71818224285715,
          145.71825468571433,
          145.71830678888892,
          145.71820701111108
         ],
         "y": [
          -16.81567522,
          -16.815969680000002,
          -16.815710022222227,
          -16.81559426666667,
          -16.8151388,
          -16.815342228571428,
          -16.81621354285714,
          -16.81598511111111,
          -16.814964555555555
         ]
        },
        {
         "marker": {
          "color": "rgba(45,45,45, 0.75)",
          "size": 6
         },
         "mode": "markers",
         "name": "Cluster 11 Buildings",
         "type": "scatter",
         "x": [
          145.72389671818183,
          145.72369266923076,
          145.7240766153846,
          145.72350146,
          145.72407912,
          145.7238733,
          145.72443049999995,
          145.72428158571432,
          145.7242748857143,
          145.7237,
          145.72453347777778,
          145.72354324000003
         ],
         "y": [
          -16.812258645454545,
          -16.81224023076923,
          -16.811810546153847,
          -16.8120534,
          -16.81220572,
          -16.81186376,
          -16.811936299999996,
          -16.812258085714287,
          -16.81184825714286,
          -16.811812033333336,
          -16.812249955555554,
          -16.81217339
         ]
        },
        {
         "marker": {
          "color": "rgba(70,70,70, 0.75)",
          "size": 6
         },
         "mode": "markers",
         "name": "Cluster 12 Buildings",
         "type": "scatter",
         "x": [
          145.7265426,
          145.72671534444444,
          145.72662975666663,
          145.72646734,
          145.72690194,
          145.72639617142858,
          145.72657008571431,
          145.7262066777778,
          145.72632080000002,
          145.72670759
         ],
         "y": [
          -16.810751160000002,
          -16.810723455555557,
          -16.81142994,
          -16.81122782,
          -16.81167602,
          -16.81103322857143,
          -16.811084514285714,
          -16.81102832222222,
          -16.81123641111111,
          -16.81172418
         ]
        },
        {
         "marker": {
          "color": "rgba(95,95,95, 0.75)",
          "size": 6
         },
         "mode": "markers",
         "name": "Cluster 13 Buildings",
         "type": "scatter",
         "x": [
          145.705096,
          145.70495956,
          145.70538115999997,
          145.70452866,
          145.70464711999998,
          145.70572152,
          145.70513946,
          145.70479430000003,
          145.70467378571428
         ],
         "y": [
          -16.824732920000002,
          -16.82508096,
          -16.82553322,
          -16.8251073,
          -16.82510772,
          -16.825164660000002,
          -16.82509118,
          -16.825143100000002,
          -16.824955399999997
         ]
        },
        {
         "marker": {
          "color": "rgba(120,120,120, 0.75)",
          "size": 6
         },
         "mode": "markers",
         "name": "Cluster 14 Buildings",
         "type": "scatter",
         "x": [
          145.70172634,
          145.7019689909091,
          145.70186768181816,
          145.7021581090909,
          145.70242740769234,
          145.70170589999995,
          145.70229424444446,
          145.70260098888892,
          145.7019444,
          145.7016639,
          145.70169034444447,
          145.70239324444444,
          145.70211242000005
         ],
         "y": [
          -16.81060508,
          -16.81094711818182,
          -16.81109348181818,
          -16.811288127272725,
          -16.810805338461538,
          -16.81072146,
          -16.811170211111108,
          -16.810803311111115,
          -16.810708277777778,
          -16.81105247777778,
          -16.810855800000002,
          -16.811019955555555,
          -16.810785259999996
         ]
        },
        {
         "marker": {
          "color": "rgba(145,145,145, 0.75)",
          "size": 6
         },
         "mode": "markers",
         "name": "Cluster 15 Buildings",
         "type": "scatter",
         "x": [
          145.72049317272732,
          145.71998739166668,
          145.72019454000005,
          145.72062358,
          145.72043266,
          145.72062566,
          145.7201446,
          145.7207750285714,
          145.72007585555556
         ],
         "y": [
          -16.802224763636364,
          -16.80145530833333,
          -16.801877339999994,
          -16.802412080000003,
          -16.802563780000003,
          -16.80206424,
          -16.802122100000002,
          -16.802251428571427,
          -16.802534355555554
         ]
        },
        {
         "marker": {
          "color": "rgba(170,170,170, 0.75)",
          "size": 6
         },
         "mode": "markers",
         "name": "Cluster 16 Buildings",
         "type": "scatter",
         "x": [
          145.71681757999997,
          145.7170936,
          145.71687944,
          145.716873,
          145.71714386666662,
          145.71640047777774,
          145.71670942,
          145.71635536000005,
          145.71657788,
          145.71695727142858,
          145.71640274285716
         ],
         "y": [
          -16.811958620000002,
          -16.811826059999998,
          -16.811801879999994,
          -16.8115934,
          -16.811696211111116,
          -16.811911666666667,
          -16.812500059999998,
          -16.81232288,
          -16.812405379999998,
          -16.81213281428571,
          -16.81206147142857
         ]
        },
        {
         "marker": {
          "color": "rgba(195,195,195, 0.75)",
          "size": 6
         },
         "mode": "markers",
         "name": "Cluster 17 Buildings",
         "type": "scatter",
         "x": [
          145.71804762000005,
          145.71788844,
          145.71767460000004,
          145.7181545090909,
          145.7177553090909,
          145.71862585833338,
          145.71852548,
          145.71820548,
          145.71851576,
          145.71836434,
          145.71855589999996,
          145.71842814285716,
          145.71784730000005
         ],
         "y": [
          -16.81266784,
          -16.812946600000004,
          -16.812657345454546,
          -16.812984236363633,
          -16.81318161818182,
          -16.812708941666667,
          -16.81291594,
          -16.812686499999998,
          -16.812803600000002,
          -16.81299262,
          -16.813048185714287,
          -16.812718457142857,
          -16.8127105
         ]
        },
        {
         "marker": {
          "color": "rgba(220,220,220, 0.75)",
          "size": 6
         },
         "mode": "markers",
         "name": "Cluster 18 Buildings",
         "type": "scatter",
         "x": [
          145.72376186000002,
          145.72451912857144,
          145.7238833,
          145.72396952857142,
          145.72430965714287,
          145.72359498571427,
          145.72414483333333,
          145.7238723,
          145.72405044285713,
          145.72424615714286,
          145.7244536142857,
          145.72370421250002,
          145.72351121
         ],
         "y": [
          -16.810818140000002,
          -16.810914328571428,
          -16.81104398,
          -16.810829342857144,
          -16.81098942857143,
          -16.810806671428573,
          -16.810882622222227,
          -16.811315627272727,
          -16.811340085714278,
          -16.811343571428573,
          -16.811361842857142,
          -16.81123105,
          -16.81129622
         ]
        },
        {
         "marker": {
          "color": "rgba(245,245,245, 0.75)",
          "size": 6
         },
         "mode": "markers",
         "name": "Cluster 19 Buildings",
         "type": "scatter",
         "x": [
          145.71760476,
          145.71814608,
          145.71799108,
          145.71781574000005,
          145.71769796,
          145.71761608,
          145.71746888,
          145.71795864,
          145.71811430000002,
          145.71769511428568,
          145.71759864285713,
          145.7179261,
          145.71712491111109,
          145.71783071111108,
          145.71735425555553,
          145.71735479999995,
          145.71717596000005,
          145.71753851428576
         ],
         "y": [
          -16.809974320000002,
          -16.810036,
          -16.810036,
          -16.810281879999998,
          -16.81007984,
          -16.81026306,
          -16.809964400000002,
          -16.81032,
          -16.810471142857143,
          -16.810408685714286,
          -16.810080600000003,
          -16.810468744444446,
          -16.80998374444444,
          -16.809981811111108,
          -16.80993831111111,
          -16.810440309090907,
          -16.8104181,
          -16.810444699999998
         ]
        },
        {
         "marker": {
          "color": "rgba(15,15,15, 0.75)",
          "size": 6
         },
         "mode": "markers",
         "name": "Cluster 20 Buildings",
         "type": "scatter",
         "x": [
          145.70378031818183,
          145.7039166181818,
          145.70372516153847,
          145.70368437058823,
          145.70344958,
          145.70365342222226
         ],
         "y": [
          -16.807065645454546,
          -16.806926927272727,
          -16.807217661538466,
          -16.808016147058822,
          -16.807979340000006,
          -16.807395244444443
         ]
        },
        {
         "marker": {
          "color": "rgba(40,40,40, 0.75)",
          "size": 6
         },
         "mode": "markers",
         "name": "Cluster 21 Buildings",
         "type": "scatter",
         "x": [
          145.72228516923082,
          145.72225418,
          145.72219748,
          145.72156656,
          145.72158032000004,
          145.72161649999995,
          145.72171218,
          145.7215822,
          145.72179295555554,
          145.72187078888888,
          145.72220983333332
         ],
         "y": [
          -16.807392146153852,
          -16.80755728,
          -16.80791854,
          -16.807850499999994,
          -16.80767712,
          -16.80749558,
          -16.8073174,
          -16.808021259999997,
          -16.8080453,
          -16.807500377777778,
          -16.807740522222225
         ]
        },
        {
         "marker": {
          "color": "rgba(65,65,65, 0.75)",
          "size": 6
         },
         "mode": "markers",
         "name": "Cluster 22 Buildings",
         "type": "scatter",
         "x": [
          145.70254766363638,
          145.70270761818185,
          145.70193490000003,
          145.70225152,
          145.70179108571432,
          145.70230581428572,
          145.70184638571433,
          145.70240681428572,
          145.70215223333332,
          145.7025459909091,
          145.70268668888892
         ],
         "y": [
          -16.81384618181818,
          -16.813768336363633,
          -16.814522040000003,
          -16.814204699999998,
          -16.814286985714286,
          -16.81435867142857,
          -16.814399585714288,
          -16.813976385714284,
          -16.81406638888889,
          -16.814224854545458,
          -16.814121133333334
         ]
        },
        {
         "marker": {
          "color": "rgba(90,90,90, 0.75)",
          "size": 6
         },
         "mode": "markers",
         "name": "Cluster 23 Buildings",
         "type": "scatter",
         "x": [
          145.70531648,
          145.70512641818183,
          145.70512340000002,
          145.7047434,
          145.70497808,
          145.70521627142858,
          145.70484810000005,
          145.70502258,
          145.70506600000004
         ],
         "y": [
          -16.803385959999996,
          -16.803941027272728,
          -16.804113440000002,
          -16.80398452,
          -16.80364518,
          -16.803708314285718,
          -16.80385582857143,
          -16.804462159999996,
          -16.804278919999998
         ]
        },
        {
         "marker": {
          "color": "rgba(115,115,115, 0.75)",
          "size": 6
         },
         "mode": "markers",
         "name": "Cluster 24 Buildings",
         "type": "scatter",
         "x": [
          145.7229321,
          145.72256894,
          145.7226608,
          145.72335569999998,
          145.72275794,
          145.72335388000005,
          145.72305769999997,
          145.72294802,
          145.72314153999997,
          145.7225810333333,
          145.7233480444444
         ],
         "y": [
          -16.80854642,
          -16.80884342,
          -16.808936179999996,
          -16.808603920000003,
          -16.80866832,
          -16.80868832,
          -16.80855802,
          -16.80875118,
          -16.80874724,
          -16.808620933333334,
          -16.808822066666664
         ]
        },
        {
         "marker": {
          "color": "rgba(140,140,140, 0.75)",
          "size": 6
         },
         "mode": "markers",
         "name": "Cluster 25 Buildings",
         "type": "scatter",
         "x": [
          145.70835466,
          145.70872321999997,
          145.70848006666668
         ],
         "y": [
          -16.82675598,
          -16.82718076,
          -16.82589511111111
         ]
        },
        {
         "marker": {
          "color": "rgba(165,165,165, 0.75)",
          "size": 6
         },
         "mode": "markers",
         "name": "Cluster 26 Buildings",
         "type": "scatter",
         "x": [
          145.7047222909091,
          145.70474663846153,
          145.70451332,
          145.70428296,
          145.70484891111113,
          145.70440195714292,
          145.70411431111108
         ],
         "y": [
          -16.802151618181814,
          -16.801995630769234,
          -16.802240559999994,
          -16.80252418,
          -16.801814599999997,
          -16.80241014285714,
          -16.802635044444443
         ]
        },
        {
         "marker": {
          "color": "rgba(190,190,190, 0.75)",
          "size": 6
         },
         "mode": "markers",
         "name": "Cluster 27 Buildings",
         "type": "scatter",
         "x": [
          145.71961173636362,
          145.7193112,
          145.71950178,
          145.71922816,
          145.71950111428572,
          145.71949548571428,
          145.71940457142858,
          145.7191073555556,
          145.71953424444442,
          145.71907162222226,
          145.71950012
         ],
         "y": [
          -16.812318072727273,
          -16.813146420000002,
          -16.81254078,
          -16.812243099999996,
          -16.812915757142857,
          -16.812801414285715,
          -16.81225602857143,
          -16.812514433333334,
          -16.812642611111116,
          -16.812220777777775,
          -16.813121940000002
         ]
        },
        {
         "marker": {
          "color": "rgba(215,215,215, 0.75)",
          "size": 6
         },
         "mode": "markers",
         "name": "Cluster 28 Buildings",
         "type": "scatter",
         "x": [
          145.72221772,
          145.72182096,
          145.72183608,
          145.72188848000005,
          145.72236669999998,
          145.72227949999996,
          145.72174849230768,
          145.72234432,
          145.72228872,
          145.72242606,
          145.72244338000004,
          145.72198802,
          145.72227764000004,
          145.72182949999998
         ],
         "y": [
          -16.80661858,
          -16.806428880000002,
          -16.80714966,
          -16.80660336,
          -16.80699556,
          -16.806452685714284,
          -16.806971746153845,
          -16.806816100000002,
          -16.80725118,
          -16.80660938,
          -16.80673766,
          -16.806965279999996,
          -16.807145560000002,
          -16.806790185714284
         ]
        },
        {
         "marker": {
          "color": "rgba(240,240,240, 0.75)",
          "size": 6
         },
         "mode": "markers",
         "name": "Cluster 29 Buildings",
         "type": "scatter",
         "x": [
          145.71662944666662,
          145.71528719999995,
          145.71632118,
          145.71628833999995
         ],
         "y": [
          -16.808900686666668,
          -16.809280446153846,
          -16.809419300000002,
          -16.80932116
         ]
        },
        {
         "marker": {
          "color": "rgba(10,10,10, 0.75)",
          "size": 6
         },
         "mode": "markers",
         "name": "Cluster 30 Buildings",
         "type": "scatter",
         "x": [
          145.7021906909091,
          145.70184790000002,
          145.70203795454543,
          145.7020174142857,
          145.70166702222218,
          145.70185923333332,
          145.70164714444445,
          145.70164466666668
         ],
         "y": [
          -16.812113736363635,
          -16.812032363636366,
          -16.811438163636364,
          -16.812050085714286,
          -16.811408955555557,
          -16.811503366666667,
          -16.811698166666666,
          -16.811569033333335
         ]
        },
        {
         "marker": {
          "color": "rgba(35,35,35, 0.75)",
          "size": 6
         },
         "mode": "markers",
         "name": "Cluster 31 Buildings",
         "type": "scatter",
         "x": [
          145.71969244545457,
          145.7192902909091,
          145.71950615714286,
          145.71984145555552,
          145.71934481111109,
          145.71978745555555,
          145.71892204444444
         ],
         "y": [
          -16.80264235454546,
          -16.802657409090912,
          -16.80298384285714,
          -16.8026473,
          -16.802871822222222,
          -16.803074666666664,
          -16.803492966666667
         ]
        },
        {
         "marker": {
          "color": "rgba(60,60,60, 0.75)",
          "size": 6
         },
         "mode": "markers",
         "name": "Cluster 32 Buildings",
         "type": "scatter",
         "x": [
          145.7200949,
          145.71994464,
          145.71993650000005,
          145.72043281428572,
          145.72000687142858,
          145.72044583333332,
          145.72002115555554,
          145.7200146222222,
          145.7204479333334,
          145.72001976666667,
          145.7200580111111
         ],
         "y": [
          -16.81208514,
          -16.812952600000006,
          -16.8131217,
          -16.812752057142855,
          -16.812840185714286,
          -16.812880399999994,
          -16.812717311111108,
          -16.81258936666667,
          -16.813010633333334,
          -16.812425344444446,
          -16.812249066666666
         ]
        },
        {
         "marker": {
          "color": "rgba(85,85,85, 0.75)",
          "size": 6
         },
         "mode": "markers",
         "name": "Cluster 33 Buildings",
         "type": "scatter",
         "x": [
          145.72081815200002,
          145.720327,
          145.72055986,
          145.72047046,
          145.72043237999995,
          145.72048634,
          145.72076328,
          145.72075316,
          145.72096216,
          145.72039308,
          145.72077966,
          145.72097451999997,
          145.72045562,
          145.72035598571432,
          145.72091637777774,
          145.72051109999995,
          145.71989397777776
         ],
         "y": [
          -16.808966488,
          -16.80883724,
          -16.80842036,
          -16.80827116,
          -16.80863264,
          -16.808412299999997,
          -16.80834482,
          -16.808732340000002,
          -16.808401519999997,
          -16.808401500000002,
          -16.80854064,
          -16.8085868,
          -16.80848064,
          -16.808724571428574,
          -16.808745599999998,
          -16.808913933333333,
          -16.808932866666666
         ]
        },
        {
         "marker": {
          "color": "rgba(110,110,110, 0.75)",
          "size": 6
         },
         "mode": "markers",
         "name": "Cluster 34 Buildings",
         "type": "scatter",
         "x": [
          145.7037461909091,
          145.70347155,
          145.7036106,
          145.70371563999996,
          145.70387802727268,
          145.7036342083333,
          145.70333594444443,
          145.70306697272727,
          145.70289435714287,
          145.7030631888889,
          145.70336813333338,
          145.70320404444442,
          145.70347626666666,
          145.7032095666667
         ],
         "y": [
          -16.814141509090913,
          -16.81411645,
          -16.814013246153852,
          -16.813986840000002,
          -16.81429449090909,
          -16.814376016666667,
          -16.81421168888889,
          -16.81472146363636,
          -16.81444087142857,
          -16.81436486666667,
          -16.814532611111108,
          -16.814272033333335,
          -16.814450455555562,
          -16.814595566666668
         ]
        },
        {
         "marker": {
          "color": "rgba(135,135,135, 0.75)",
          "size": 6
         },
         "mode": "markers",
         "name": "Cluster 35 Buildings",
         "type": "scatter",
         "x": [
          145.72563494000005,
          145.7251479285714,
          145.72470401428572,
          145.72486057142856,
          145.72476348,
          145.72525052,
          145.72480832,
          145.72522827142856,
          145.72498962857142,
          145.72515448,
          145.72507916,
          145.72567454,
          145.72572125714285,
          145.7253235555556
         ],
         "y": [
          -16.811083900000003,
          -16.81093077142857,
          -16.81086115714286,
          -16.810931085714284,
          -16.81146978,
          -16.811152040000003,
          -16.81139724,
          -16.811349,
          -16.811385542857142,
          -16.81152936,
          -16.81107966,
          -16.811320199999997,
          -16.811523342857143,
          -16.811522755555554
         ]
        },
        {
         "marker": {
          "color": "rgba(160,160,160, 0.75)",
          "size": 6
         },
         "mode": "markers",
         "name": "Cluster 36 Buildings",
         "type": "scatter",
         "x": [
          145.72282785294118,
          145.72296454000005,
          145.72300884,
          145.72277996,
          145.72297202,
          145.72299688,
          145.722786,
          145.72280104,
          145.72269592000004,
          145.7229888,
          145.72270374,
          145.7229249,
          145.7228779333333,
          145.72284611428572
         ],
         "y": [
          -16.80753412352941,
          -16.807649880000003,
          -16.80726888,
          -16.80712152,
          -16.8075495,
          -16.80743546,
          -16.80723404,
          -16.80799536,
          -16.80780944,
          -16.807092660000002,
          -16.807730499999998,
          -16.807809040000002,
          -16.80779886666667,
          -16.808163942857142
         ]
        },
        {
         "marker": {
          "color": "rgba(185,185,185, 0.75)",
          "size": 6
         },
         "mode": "markers",
         "name": "Cluster 37 Buildings",
         "type": "scatter",
         "x": [
          145.71876332727268,
          145.7189895,
          145.71889620000005,
          145.71928180000003,
          145.71858286000003,
          145.71912095714285,
          145.71908734285714,
          145.71862507142856,
          145.71871933333333,
          145.7189319
         ],
         "y": [
          -16.816585800000002,
          -16.816592179999994,
          -16.816639379999998,
          -16.81715884,
          -16.81653732,
          -16.817084899999998,
          -16.816681842857143,
          -16.817166914285714,
          -16.817015277777774,
          -16.816991011111117
         ]
        },
        {
         "marker": {
          "color": "rgba(210,210,210, 0.75)",
          "size": 6
         },
         "mode": "markers",
         "name": "Cluster 38 Buildings",
         "type": "scatter",
         "x": [
          145.71863452,
          145.71819867999997,
          145.71789154,
          145.71848054,
          145.71792408000005,
          145.7186459,
          145.71848774,
          145.71827985714285,
          145.71846391428568,
          145.71864406666666,
          145.71808840000003,
          145.71861618888892
         ],
         "y": [
          -16.812288560000002,
          -16.81187996,
          -16.8122301,
          -16.81183908,
          -16.811954800000002,
          -16.811681720000006,
          -16.81167454,
          -16.812247242857143,
          -16.812281471428573,
          -16.811832355555556,
          -16.812225033333334,
          -16.812010555555556
         ]
        },
        {
         "marker": {
          "color": "rgba(235,235,235, 0.75)",
          "size": 6
         },
         "mode": "markers",
         "name": "Cluster 39 Buildings",
         "type": "scatter",
         "x": [
          145.72224607272733,
          145.7222081,
          145.72171018000003,
          145.72221862857143,
          145.721699975,
          145.72176467777774,
          145.72220439999995,
          145.72229246666666
         ],
         "y": [
          -16.81465728181818,
          -16.81500144,
          -16.81481112,
          -16.814844414285712,
          -16.8150178625,
          -16.81465612222222,
          -16.815140344444444,
          -16.814483300000003
         ]
        },
        {
         "marker": {
          "color": "rgba(5,5,5, 0.75)",
          "size": 6
         },
         "mode": "markers",
         "name": "Cluster 40 Buildings",
         "type": "scatter",
         "x": [
          145.7064159,
          145.70620727272728,
          145.7060716307692,
          145.70616834117646,
          145.70606917777778,
          145.70630026923078,
          145.70576018,
          145.7061642857143,
          145.70600482222218
         ],
         "y": [
          -16.80599066,
          -16.80596086363636,
          -16.80554066923077,
          -16.805838347058824,
          -16.80570307777778,
          -16.806657407692303,
          -16.80607248,
          -16.806567085714285,
          -16.806348400000005
         ]
        },
        {
         "marker": {
          "color": "rgba(30,30,30, 0.75)",
          "size": 6
         },
         "mode": "markers",
         "name": "Cluster 41 Buildings",
         "type": "scatter",
         "x": [
          145.7056253,
          145.7053141333334,
          145.7050950375,
          145.7052867181818,
          145.7054276307692,
          145.7047381,
          145.70484661999996,
          145.70496936,
          145.70463389999995,
          145.70484585555556,
          145.7051614230769
         ],
         "y": [
          -16.80529688,
          -16.8050883,
          -16.805178625,
          -16.80561909090909,
          -16.805499423076924,
          -16.80556498,
          -16.805947699999994,
          -16.80529814,
          -16.805703822222224,
          -16.80540642222222,
          -16.805718576923073
         ]
        },
        {
         "marker": {
          "color": "rgba(55,55,55, 0.75)",
          "size": 6
         },
         "mode": "markers",
         "name": "Cluster 42 Buildings",
         "type": "scatter",
         "x": [
          145.72354815833333,
          145.72375812,
          145.72332494000003,
          145.72364438,
          145.72352192,
          145.72346546,
          145.72368369999998,
          145.72343963999995,
          145.72349531999996
         ],
         "y": [
          -16.808028741666664,
          -16.80698264,
          -16.80797954,
          -16.80718182,
          -16.80729786,
          -16.80697624,
          -16.807696999999994,
          -16.80766546,
          -16.807487679999998
         ]
        },
        {
         "marker": {
          "color": "rgba(80,80,80, 0.75)",
          "size": 6
         },
         "mode": "markers",
         "name": "Cluster 43 Buildings",
         "type": "scatter",
         "x": [
          145.70743888181815,
          145.70788606000005,
          145.70822406,
          145.70756014,
          145.70772104000002,
          145.70787734,
          145.70746626,
          145.70803302,
          145.7081566,
          145.70736453333333,
          145.70776667777778,
          145.70765043333333
         ],
         "y": [
          -16.80094819090909,
          -16.801320339999997,
          -16.801005080000003,
          -16.800766860000003,
          -16.80112748,
          -16.800560060000002,
          -16.8007319,
          -16.800694600000003,
          -16.80084972857143,
          -16.800795533333332,
          -16.800407633333336,
          -16.80102417777778
         ]
        },
        {
         "marker": {
          "color": "rgba(105,105,105, 0.75)",
          "size": 6
         },
         "mode": "markers",
         "name": "Cluster 44 Buildings",
         "type": "scatter",
         "x": [
          145.7252235913043,
          145.72500962,
          145.72513095999997,
          145.72503764,
          145.72514381428567,
          145.72543222,
          145.72545837777776
         ],
         "y": [
          -16.807988978260873,
          -16.80747672,
          -16.807802900000002,
          -16.80806786,
          -16.80760152857143,
          -16.80845986,
          -16.808282866666666
         ]
        },
        {
         "marker": {
          "color": "rgba(130,130,130, 0.75)",
          "size": 6
         },
         "mode": "markers",
         "name": "Cluster 45 Buildings",
         "type": "scatter",
         "x": [
          145.72100501428568,
          145.72052486,
          145.72052726,
          145.72097204000005,
          145.72052106,
          145.72101424000004,
          145.72051317999995,
          145.720976,
          145.72047260000005,
          145.72046985555556
         ],
         "y": [
          -16.807477371428572,
          -16.80712086,
          -16.80723674,
          -16.80757532,
          -16.807377719999998,
          -16.807790320000002,
          -16.807528280000003,
          -16.807978207692305,
          -16.807921846153842,
          -16.807651366666665
         ]
        },
        {
         "marker": {
          "color": "rgba(155,155,155, 0.75)",
          "size": 6
         },
         "mode": "markers",
         "name": "Cluster 46 Buildings",
         "type": "scatter",
         "x": [
          145.7217008,
          145.72152025999995,
          145.72205659999997,
          145.72152562000005,
          145.7212939,
          145.72241797142857,
          145.7220141
         ],
         "y": [
          -16.80378982,
          -16.80393188,
          -16.803538299999996,
          -16.803629739999998,
          -16.803883120000002,
          -16.80351772857143,
          -16.803293285714286
         ]
        },
        {
         "marker": {
          "color": "rgba(180,180,180, 0.75)",
          "size": 6
         },
         "mode": "markers",
         "name": "Cluster 47 Buildings",
         "type": "scatter",
         "x": [
          145.71859063636361,
          145.7185559909091,
          145.71898163999995,
          145.71896036000004,
          145.71859456,
          145.71911924,
          145.71921814,
          145.71900913999997,
          145.71855337777774,
          145.71853968888888
         ],
         "y": [
          -16.81762428181818,
          -16.81777032727273,
          -16.8177837,
          -16.81796662,
          -16.817386579999994,
          -16.817998499999998,
          -16.81754588,
          -16.817551820000002,
          -16.817987444444444,
          -16.81817728888889
         ]
        },
        {
         "marker": {
          "color": "rgba(205,205,205, 0.75)",
          "size": 6
         },
         "mode": "markers",
         "name": "Cluster 48 Buildings",
         "type": "scatter",
         "x": [
          145.72149022,
          145.72103942,
          145.72110904000004,
          145.72110072,
          145.72122606000005,
          145.72156834000003,
          145.72145332,
          145.72114736,
          145.72153531428572,
          145.72102028571427,
          145.72153724285715,
          145.72155552222225
         ],
         "y": [
          -16.81240724,
          -16.812599119999998,
          -16.8123116,
          -16.81222134,
          -16.8120425,
          -16.812081499999998,
          -16.812763920000002,
          -16.81262436,
          -16.812651171428573,
          -16.81273362857143,
          -16.812549014285715,
          -16.812271311111108
         ]
        },
        {
         "marker": {
          "color": "rgba(230,230,230, 0.75)",
          "size": 6
         },
         "mode": "markers",
         "name": "Cluster 49 Buildings",
         "type": "scatter",
         "x": [
          145.72081936,
          145.72078159999998,
          145.72073404,
          145.72016918571433,
          145.72021612857142,
          145.72033829999995,
          145.72025116666666,
          145.72026650000004,
          145.72086766666666
         ],
         "y": [
          -16.814591979999996,
          -16.81481106,
          -16.815077600000002,
          -16.815019385714287,
          -16.814684399999997,
          -16.814408022222224,
          -16.814866111111108,
          -16.814532033333332,
          -16.814763177777778
         ]
        },
        {
         "marker": {
          "color": "rgba(255,255,255, 0.75)",
          "size": 6
         },
         "mode": "markers",
         "name": "Cluster 50 Buildings",
         "type": "scatter",
         "x": [
          145.72300546363638,
          145.72292598181818,
          145.72338956,
          145.72290149999995,
          145.72326578000005,
          145.72312168,
          145.72298008,
          145.72290942857143,
          145.72284317142856,
          145.72290965555555
         ],
         "y": [
          -16.813278090909094,
          -16.81258249090909,
          -16.813270640000002,
          -16.81309028,
          -16.812682059999997,
          -16.81278434,
          -16.81311548,
          -16.812947228571428,
          -16.813311985714282,
          -16.812776344444448
         ]
        },
        {
         "marker": {
          "color": "rgba(25,25,25, 0.75)",
          "size": 6
         },
         "mode": "markers",
         "name": "Cluster 51 Buildings",
         "type": "scatter",
         "x": [
          145.72320401176472,
          145.72289666,
          145.72274206,
          145.72229134,
          145.72308344285713,
          145.7232786666667
         ],
         "y": [
          -16.80332244705882,
          -16.80394882,
          -16.803896459999994,
          -16.804058719999997,
          -16.80372128571429,
          -16.803698855555556
         ]
        },
        {
         "marker": {
          "color": "rgba(50,50,50, 0.75)",
          "size": 6
         },
         "mode": "markers",
         "name": "Cluster 52 Buildings",
         "type": "scatter",
         "x": [
          145.70432608,
          145.70468472000005,
          145.70473418571427,
          145.70396367777778,
          145.70449096666667,
          145.70456274444442,
          145.7042386,
          145.70403956363634,
          145.70414674285715,
          145.70444932857143,
          145.70430563333332
         ],
         "y": [
          -16.80790254,
          -16.80818052,
          -16.8085733,
          -16.80838852222222,
          -16.808229211111108,
          -16.808357166666664,
          -16.807986855555555,
          -16.808487318181818,
          -16.808593585714288,
          -16.808863014285713,
          -16.808790955555555
         ]
        },
        {
         "marker": {
          "color": "rgba(75,75,75, 0.75)",
          "size": 6
         },
         "mode": "markers",
         "name": "Cluster 53 Buildings",
         "type": "scatter",
         "x": [
          145.71926944,
          145.71918738,
          145.71924428571432,
          145.71917774615386,
          145.71965370769232,
          145.71927426,
          145.71944116,
          145.71927806,
          145.71964748,
          145.7190968444444
         ],
         "y": [
          -16.81114548,
          -16.81134968,
          -16.810980185714286,
          -16.81152603076923,
          -16.811639007692307,
          -16.811864919999998,
          -16.81166314,
          -16.81178412,
          -16.81145274,
          -16.811758255555556
         ]
        },
        {
         "marker": {
          "color": "rgba(100,100,100, 0.75)",
          "size": 6
         },
         "mode": "markers",
         "name": "Cluster 54 Buildings",
         "type": "scatter",
         "x": [
          145.72037297647063,
          145.72020518,
          145.72053946,
          145.72029884,
          145.72091645999996,
          145.72034312,
          145.72065898,
          145.72034044,
          145.72072284444445,
          145.72080855555558
         ],
         "y": [
          -16.809802041176475,
          -16.80963266,
          -16.809309399999997,
          -16.80926834,
          -16.80944678,
          -16.809385459999998,
          -16.80931314,
          -16.80952488,
          -16.80975512222222,
          -16.809586000000003
         ]
        },
        {
         "marker": {
          "color": "rgba(125,125,125, 0.75)",
          "size": 6
         },
         "mode": "markers",
         "name": "Cluster 55 Buildings",
         "type": "scatter",
         "x": [
          145.7034049,
          145.70357946,
          145.70341122,
          145.70372822,
          145.7037742,
          145.70399257142859,
          145.70371168,
          145.7033485,
          145.70363302,
          145.70386458571429
         ],
         "y": [
          -16.803246960000006,
          -16.80312412,
          -16.802989779999994,
          -16.802773359999996,
          -16.80269308,
          -16.802756985714286,
          -16.8029765,
          -16.8031132,
          -16.80289406,
          -16.80286972857143
         ]
        },
        {
         "marker": {
          "color": "rgba(150,150,150, 0.75)",
          "size": 6
         },
         "mode": "markers",
         "name": "Cluster 56 Buildings",
         "type": "scatter",
         "x": [
          145.72069888,
          145.72070144,
          145.72065493999997,
          145.72030569999998,
          145.72039735555555,
          145.7204841,
          145.72067568888892,
          145.72028495714284
         ],
         "y": [
          -16.8103919,
          -16.81023634,
          -16.810510779999998,
          -16.810387900000002,
          -16.810206666666666,
          -16.811197,
          -16.810769999999998,
          -16.810645814285714
         ]
        },
        {
         "marker": {
          "color": "rgba(175,175,175, 0.75)",
          "size": 6
         },
         "mode": "markers",
         "name": "Cluster 57 Buildings",
         "type": "scatter",
         "x": [
          145.71742242727268,
          145.7176799058824,
          145.71770134000005,
          145.71748026,
          145.71773263999995,
          145.71783352000003,
          145.71782842,
          145.71769875714287,
          145.71748395714286,
          145.7178810888889
         ],
         "y": [
          -16.811716154545458,
          -16.811801435294118,
          -16.8115211,
          -16.811430440000002,
          -16.811607000000002,
          -16.81134964,
          -16.81120954,
          -16.810873785714286,
          -16.811563,
          -16.810972977777773
         ]
        },
        {
         "marker": {
          "color": "rgba(200,200,200, 0.75)",
          "size": 6
         },
         "mode": "markers",
         "name": "Cluster 58 Buildings",
         "type": "scatter",
         "x": [
          145.71773106,
          145.71891562000005
         ],
         "y": [
          -16.80184244,
          -16.801715360000006
         ]
        },
        {
         "marker": {
          "color": "rgba(225,225,225, 0.75)",
          "size": 6
         },
         "mode": "markers",
         "name": "Cluster 59 Buildings",
         "type": "scatter",
         "x": [
          145.7217159818182,
          145.7205963909091,
          145.7209160142857,
          145.72082976,
          145.72132735999998,
          145.72149654285712
         ],
         "y": [
          -16.80173863636364,
          -16.801412827272728,
          -16.801229557142864,
          -16.801502160000002,
          -16.80139102,
          -16.80157104285714
         ]
        },
        {
         "marker": {
          "color": "rgba(250,250,250, 0.75)",
          "size": 6
         },
         "mode": "markers",
         "name": "Cluster 60 Buildings",
         "type": "scatter",
         "x": [
          145.72263610000002,
          145.72279301428574,
          145.72302157777776,
          145.72290556363637,
          145.72258824,
          145.72322586,
          145.72242994000004,
          145.72322791999997,
          145.72253138571432,
          145.7227344,
          145.7224681111111
         ],
         "y": [
          -16.81067456,
          -16.810708685714285,
          -16.810753511111113,
          -16.811197054545456,
          -16.811007639999996,
          -16.81106638,
          -16.810682500000002,
          -16.81129862,
          -16.811182142857145,
          -16.811145328571428,
          -16.810761933333332
         ]
        },
        {
         "marker": {
          "color": "rgba(20,20,20, 0.75)",
          "size": 6
         },
         "mode": "markers",
         "name": "Cluster 61 Buildings",
         "type": "scatter",
         "x": [
          145.71043621818183,
          145.71020886000005,
          145.71058776,
          145.71037388,
          145.71003169999997,
          145.71036153999995,
          145.71028446,
          145.71054964,
          145.70992434,
          145.71020264285715
         ],
         "y": [
          -16.803555918181818,
          -16.802945779999998,
          -16.803288279999997,
          -16.80333594,
          -16.8030215,
          -16.80323222,
          -16.802984579999997,
          -16.803410860000003,
          -16.802867499999998,
          -16.803154557142857
         ]
        },
        {
         "marker": {
          "color": "rgba(45,45,45, 0.75)",
          "size": 6
         },
         "mode": "markers",
         "name": "Cluster 62 Buildings",
         "type": "scatter",
         "x": [
          145.702129,
          145.70176116,
          145.70191792,
          145.70266571428567,
          145.70239115714287,
          145.70221919999997,
          145.70204579999995,
          145.70253927142858,
          145.70235394285714,
          145.7022345888889,
          145.7021157222222
         ],
         "y": [
          -16.803820280000004,
          -16.80388494,
          -16.803793219999996,
          -16.803812,
          -16.8034423,
          -16.803546177777775,
          -16.803647111111108,
          -16.80391965714286,
          -16.80402102857143,
          -16.804158400000002,
          -16.804280355555562
         ]
        },
        {
         "marker": {
          "color": "rgba(70,70,70, 0.75)",
          "size": 6
         },
         "mode": "markers",
         "name": "Cluster 63 Buildings",
         "type": "scatter",
         "x": [
          145.71836524,
          145.71814178,
          145.7187918230769,
          145.7186305684211,
          145.71899188571427,
          145.71859094285716,
          145.71833111818182,
          145.71816819999998,
          145.7188055111111
         ],
         "y": [
          -16.81426076,
          -16.814218840000002,
          -16.814290484615384,
          -16.814547005263158,
          -16.81429638571429,
          -16.814342214285713,
          -16.81454499090909,
          -16.814718980000002,
          -16.814689533333336
         ]
        },
        {
         "marker": {
          "color": "rgba(95,95,95, 0.75)",
          "size": 6
         },
         "mode": "markers",
         "name": "Cluster 64 Buildings",
         "type": "scatter",
         "x": [
          145.70517969999997,
          145.70532437272723,
          145.70513979999996,
          145.70526977999995,
          145.7056146333333,
          145.70526717777776
         ],
         "y": [
          -16.806348636363634,
          -16.807014036363636,
          -16.806771807692307,
          -16.80689908,
          -16.807225866666666,
          -16.806234099999998
         ]
        },
        {
         "marker": {
          "color": "rgba(120,120,120, 0.75)",
          "size": 6
         },
         "mode": "markers",
         "name": "Cluster 65 Buildings",
         "type": "scatter",
         "x": [
          145.71879968,
          145.71861348571431,
          145.71843795714284,
          145.7184659,
          145.71856102,
          145.71823114,
          145.71829377999995,
          145.71829312000003,
          145.71841106000005,
          145.71871807142855,
          145.71874323333333
         ],
         "y": [
          -16.811041839999998,
          -16.810989057142855,
          -16.810976942857142,
          -16.811275560000002,
          -16.81131204,
          -16.81139974,
          -16.811613320000006,
          -16.811263559999997,
          -16.81148312,
          -16.811482685714285,
          -16.811269822222222
         ]
        },
        {
         "marker": {
          "color": "rgba(145,145,145, 0.75)",
          "size": 6
         },
         "mode": "markers",
         "name": "Cluster 66 Buildings",
         "type": "scatter",
         "x": [
          145.70058834285715,
          145.70028311818183,
          145.7007999,
          145.70053148000005,
          145.70050621428572,
          145.70074164285714,
          145.70066461111108
         ],
         "y": [
          -16.813460371428572,
          -16.813137645454546,
          -16.813831446153845,
          -16.81383928,
          -16.81372722857143,
          -16.813499585714286,
          -16.813753322222222
         ]
        },
        {
         "marker": {
          "color": "rgba(170,170,170, 0.75)",
          "size": 6
         },
         "mode": "markers",
         "name": "Cluster 67 Buildings",
         "type": "scatter",
         "x": [
          145.70288935454545,
          145.70271188461538,
          145.70269775714286,
          145.70260068571432,
          145.7025500625,
          145.70203180000001,
          145.70225564545456,
          145.70213814285714,
          145.7022087714286,
          145.70232316666667,
          145.70237762222226
         ],
         "y": [
          -16.814800127272726,
          -16.814908092307693,
          -16.814538885714285,
          -16.814748185714286,
          -16.8146122375,
          -16.814679433333332,
          -16.815054654545452,
          -16.814800385714285,
          -16.814929971428572,
          -16.81519302222222,
          -16.815334544444443
         ]
        },
        {
         "marker": {
          "color": "rgba(195,195,195, 0.75)",
          "size": 6
         },
         "mode": "markers",
         "name": "Cluster 68 Buildings",
         "type": "scatter",
         "x": [
          145.70400116363638,
          145.70382172727273,
          145.70398804615385,
          145.70354996,
          145.70326784285714,
          145.70382261428568,
          145.703399,
          145.70370193333332,
          145.70408997777776,
          145.70366575555556,
          145.70419230000005,
          145.70353706666666
         ],
         "y": [
          -16.814554763636366,
          -16.814710418181818,
          -16.81496516153846,
          -16.81516694,
          -16.8149974,
          -16.815048342857143,
          -16.814931514285714,
          -16.81510621111111,
          -16.81473598888889,
          -16.814783622222222,
          -16.814847744444442,
          -16.814835644444447
         ]
        },
        {
         "marker": {
          "color": "rgba(220,220,220, 0.75)",
          "size": 6
         },
         "mode": "markers",
         "name": "Cluster 69 Buildings",
         "type": "scatter",
         "x": [
          145.71982884,
          145.72034186363638,
          145.7198123,
          145.71983278571423,
          145.72030889999996,
          145.72030387777778
         ],
         "y": [
          -16.814201880000002,
          -16.813995745454545,
          -16.8141293,
          -16.814001457142858,
          -16.814252900000003,
          -16.814112766666668
         ]
        },
        {
         "marker": {
          "color": "rgba(245,245,245, 0.75)",
          "size": 6
         },
         "mode": "markers",
         "name": "Cluster 70 Buildings",
         "type": "scatter",
         "x": [
          145.70672813529413,
          145.70661022000004,
          145.70673563999995,
          145.70688441428572,
          145.70678203333333,
          145.70710064444444
         ],
         "y": [
          -16.806457300000005,
          -16.806362580000002,
          -16.80625972,
          -16.806511628571428,
          -16.80705315555555,
          -16.807072544444445
         ]
        },
        {
         "marker": {
          "color": "rgba(15,15,15, 0.75)",
          "size": 6
         },
         "mode": "markers",
         "name": "Cluster 71 Buildings",
         "type": "scatter",
         "x": [
          145.70433003636361,
          145.70469755714285,
          145.70473582222226,
          145.70471203636362,
          145.70397323636362,
          145.7042959285714,
          145.70405404285714,
          145.70432409999998,
          145.70401258888887,
          145.70413175555555
         ],
         "y": [
          -16.815860172727273,
          -16.816159085714286,
          -16.816018911111108,
          -16.816307481818182,
          -16.816177418181816,
          -16.816242857142857,
          -16.815868728571427,
          -16.81601542857143,
          -16.816003199999994,
          -16.816212955555557
         ]
        },
        {
         "marker": {
          "color": "rgba(40,40,40, 0.75)",
          "size": 6
         },
         "mode": "markers",
         "name": "Cluster 72 Buildings",
         "type": "scatter",
         "x": [
          145.71770261999995,
          145.71718944,
          145.71733508,
          145.71752165714287,
          145.71703938000005,
          145.71696418,
          145.71741682,
          145.71729366,
          145.71690642857143,
          145.71711207142857,
          145.71747217777775
         ],
         "y": [
          -16.8122215,
          -16.81212602,
          -16.812181699999996,
          -16.812175657142856,
          -16.81265176,
          -16.81269204,
          -16.812856240000002,
          -16.812574419999994,
          -16.81254297142857,
          -16.812527871428568,
          -16.81261631111111
         ]
        },
        {
         "marker": {
          "color": "rgba(65,65,65, 0.75)",
          "size": 6
         },
         "mode": "markers",
         "name": "Cluster 73 Buildings",
         "type": "scatter",
         "x": [
          145.72160682,
          145.72191378,
          145.72191526,
          145.72197652,
          145.72152826,
          145.72139388,
          145.72200932222222,
          145.72145322222227,
          145.72148539999995,
          145.72166396
         ],
         "y": [
          -16.809801139999998,
          -16.81024434,
          -16.80974278,
          -16.810113339999994,
          -16.810169000000002,
          -16.8101875,
          -16.809977744444446,
          -16.809711188888887,
          -16.8106492,
          -16.810670140000006
         ]
        },
        {
         "marker": {
          "color": "rgba(90,90,90, 0.75)",
          "size": 6
         },
         "mode": "markers",
         "name": "Cluster 74 Buildings",
         "type": "scatter",
         "x": [
          145.70146521818182,
          145.70201436666667,
          145.70206804,
          145.70162298571432,
          145.7017078,
          145.70220091428567,
          145.70176167142856,
          145.7019738222222,
          145.7018373111111,
          145.70188616666667,
          145.70178782222226,
          145.70170322500005
         ],
         "y": [
          -16.807070663636367,
          -16.807260993333333,
          -16.807470520000006,
          -16.807157,
          -16.807306742857143,
          -16.807429071428572,
          -16.807492514285716,
          -16.80760188888889,
          -16.8077184,
          -16.80715958888889,
          -16.8069867,
          -16.807791837499998
         ]
        },
        {
         "marker": {
          "color": "rgba(115,115,115, 0.75)",
          "size": 6
         },
         "mode": "markers",
         "name": "Cluster 75 Buildings",
         "type": "scatter",
         "x": [
          145.71926076363638,
          145.71897713999996,
          145.71879704,
          145.71958632,
          145.71883908571428,
          145.71889002857142,
          145.71940622857144,
          145.71908965714286,
          145.71901136666668,
          145.7192310333334
         ],
         "y": [
          -16.81619945454545,
          -16.815995700000002,
          -16.81603194,
          -16.81578012,
          -16.815647814285715,
          -16.816214400000003,
          -16.815762928571427,
          -16.8161776,
          -16.815723600000002,
          -16.815771444444447
         ]
        },
        {
         "marker": {
          "color": "rgba(140,140,140, 0.75)",
          "size": 6
         },
         "mode": "markers",
         "name": "Cluster 76 Buildings",
         "type": "scatter",
         "x": [
          145.70186574,
          145.70117578000003,
          145.70139844,
          145.70132906,
          145.70167011428572,
          145.70104677777778
         ],
         "y": [
          -16.80242872,
          -16.80264288,
          -16.80236994,
          -16.802523639999997,
          -16.80229232857143,
          -16.802743777777778
         ]
        },
        {
         "marker": {
          "color": "rgba(165,165,165, 0.75)",
          "size": 6
         },
         "mode": "markers",
         "name": "Cluster 77 Buildings",
         "type": "scatter",
         "x": [
          145.7018886636364,
          145.70149814,
          145.70149745999996,
          145.70163891428572,
          145.70169372222222,
          145.7013554,
          145.70139466,
          145.70138828571433,
          145.70178422222222
         ],
         "y": [
          -16.80315691818182,
          -16.802973780000002,
          -16.8035803,
          -16.803459628571428,
          -16.80286057777778,
          -16.803062599999997,
          -16.80353336,
          -16.803709299999998,
          -16.803341988888892
         ]
        },
        {
         "marker": {
          "color": "rgba(190,190,190, 0.75)",
          "size": 6
         },
         "mode": "markers",
         "name": "Cluster 78 Buildings",
         "type": "scatter",
         "x": [
          145.70078544545453,
          145.70091689090913,
          145.70061404,
          145.70044854,
          145.70029651428572,
          145.70088674,
          145.70117292857142,
          145.70049427777778,
          145.70108458888888,
          145.70075496666666
         ],
         "y": [
          -16.80299366363636,
          -16.802870063636366,
          -16.80305516,
          -16.80319874,
          -16.80341212857143,
          -16.80342886,
          -16.803162399999998,
          -16.803676944444447,
          -16.803344744444445,
          -16.803532055555557
         ]
        },
        {
         "marker": {
          "color": "rgba(215,215,215, 0.75)",
          "size": 6
         },
         "mode": "markers",
         "name": "Cluster 79 Buildings",
         "type": "scatter",
         "x": [
          145.72135646,
          145.72095386,
          145.72105504,
          145.72080957142856
         ],
         "y": [
          -16.8028685,
          -16.80340154,
          -16.8026414,
          -16.8032628
         ]
        },
        {
         "marker": {
          "color": "rgba(240,240,240, 0.75)",
          "size": 6
         },
         "mode": "markers",
         "name": "Cluster 80 Buildings",
         "type": "scatter",
         "x": [
          145.70234680000002,
          145.70223742857144,
          145.702079,
          145.70178416000005,
          145.70193998
         ],
         "y": [
          -16.80468566,
          -16.8048184,
          -16.80492988,
          -16.805168099999996,
          -16.805060400000002
         ]
        },
        {
         "marker": {
          "color": "rgba(10,10,10, 0.75)",
          "size": 6
         },
         "mode": "markers",
         "name": "Cluster 81 Buildings",
         "type": "scatter",
         "x": [
          145.70035825999997,
          145.7005074090909,
          145.70074038823532,
          145.70028792,
          145.70034330000001,
          145.70044184285715,
          145.70026371428568,
          145.70056508888888
         ],
         "y": [
          -16.805107560000003,
          -16.804398072727274,
          -16.8046538,
          -16.80473728,
          -16.80427042,
          -16.80488014285714,
          -16.804096042857143,
          -16.80458422222222
         ]
        },
        {
         "marker": {
          "color": "rgba(35,35,35, 0.75)",
          "size": 6
         },
         "mode": "markers",
         "name": "Cluster 82 Buildings",
         "type": "scatter",
         "x": [
          145.70255018888892,
          145.7027168666667,
          145.70238098571426,
          145.7023911714286,
          145.70259637142857,
          145.70258852
         ],
         "y": [
          -16.812173122222227,
          -16.812187966666666,
          -16.812775271428574,
          -16.812537499999998,
          -16.81253877142857,
          -16.812702429999998
         ]
        },
        {
         "marker": {
          "color": "rgba(60,60,60, 0.75)",
          "size": 6
         },
         "mode": "markers",
         "name": "Cluster 83 Buildings",
         "type": "scatter",
         "x": [
          145.72157642000005,
          145.72180782,
          145.72201234000005,
          145.72223164,
          145.72193244,
          145.72159942,
          145.72213042,
          145.72171436,
          145.72181292,
          145.7214993285714,
          145.7221990857143
         ],
         "y": [
          -16.80841002,
          -16.80842446,
          -16.80861096,
          -16.80849522,
          -16.808439200000002,
          -16.808582379999994,
          -16.808449259999996,
          -16.80855234,
          -16.80863126,
          -16.808590357142858,
          -16.8086883
         ]
        },
        {
         "marker": {
          "color": "rgba(85,85,85, 0.75)",
          "size": 6
         },
         "mode": "markers",
         "name": "Cluster 84 Buildings",
         "type": "scatter",
         "x": [
          145.7042848,
          145.70391764,
          145.70432300000004
         ],
         "y": [
          -16.825110940000002,
          -16.82504026,
          -16.8243029
         ]
        },
        {
         "marker": {
          "color": "rgba(110,110,110, 0.75)",
          "size": 6
         },
         "mode": "markers",
         "name": "Cluster 85 Buildings",
         "type": "scatter",
         "x": [
          145.72260935999995,
          145.72245922727276,
          145.72253642,
          145.72321786000003,
          145.72315182,
          145.72289594,
          145.72290912,
          145.72306557999997,
          145.72254006000003,
          145.72297472,
          145.72299002,
          145.72247256,
          145.72269391428568,
          145.72315127142858,
          145.72313851428572,
          145.72302514285715
         ],
         "y": [
          -16.80991182,
          -16.80975546363636,
          -16.81003212,
          -16.809866039999996,
          -16.809860719999996,
          -16.81003382,
          -16.80982752,
          -16.80984292,
          -16.81016654,
          -16.81005002,
          -16.80983404,
          -16.810279259999998,
          -16.81032545714286,
          -16.810097957142858,
          -16.810337914285718,
          -16.809938014285713
         ]
        },
        {
         "marker": {
          "color": "rgba(135,135,135, 0.75)",
          "size": 6
         },
         "mode": "markers",
         "name": "Cluster 86 Buildings",
         "type": "scatter",
         "x": [
          145.7217494363636,
          145.72196314,
          145.72186522,
          145.72163045999997,
          145.722197,
          145.72168886,
          145.72240352,
          145.72219434000004,
          145.72168081111113
         ],
         "y": [
          -16.815221172727274,
          -16.815810719999998,
          -16.815348980000003,
          -16.815755560000003,
          -16.81573732,
          -16.815665860000006,
          -16.81549784,
          -16.81561988,
          -16.8154419
         ]
        },
        {
         "marker": {
          "color": "rgba(160,160,160, 0.75)",
          "size": 6
         },
         "mode": "markers",
         "name": "Cluster 87 Buildings",
         "type": "scatter",
         "x": [
          145.71900713999997,
          145.7192327857143,
          145.7189228,
          145.71893587142858,
          145.7184708888889,
          145.71850174444444,
          145.71905445384616,
          145.71844775714285,
          145.71886847142858,
          145.71847276666668
         ],
         "y": [
          -16.81831908,
          -16.818496371428573,
          -16.818853240000006,
          -16.818489185714288,
          -16.818366744444447,
          -16.818549244444444,
          -16.818797184615384,
          -16.818735957142856,
          -16.81873894285714,
          -16.818938144444445
         ]
        },
        {
         "marker": {
          "color": "rgba(185,185,185, 0.75)",
          "size": 6
         },
         "mode": "markers",
         "name": "Cluster 88 Buildings",
         "type": "scatter",
         "x": [
          145.70110472000005,
          145.70127315714285,
          145.70096595714287,
          145.70112380000003,
          145.70178436666666,
          145.70093192727273,
          145.70076337272727,
          145.70126497692306,
          145.7016133769231
         ],
         "y": [
          -16.81572972,
          -16.815446142857144,
          -16.815406885714285,
          -16.81544921111111,
          -16.815852586666665,
          -16.815746554545456,
          -16.815719627272728,
          -16.81578605384615,
          -16.815806338461538
         ]
        },
        {
         "marker": {
          "color": "rgba(210,210,210, 0.75)",
          "size": 6
         },
         "mode": "markers",
         "name": "Cluster 89 Buildings",
         "type": "scatter",
         "x": [
          145.72161502,
          145.72169372,
          145.72127591999995,
          145.72127966666667,
          145.72132582857142,
          145.72122507142856,
          145.72113323333332,
          145.7215605888889,
          145.72156662222218,
          145.7212219888889
         ],
         "y": [
          -16.81170886,
          -16.811079639999996,
          -16.810989380000002,
          -16.810765416666666,
          -16.811614300000002,
          -16.811344185714287,
          -16.811604011111108,
          -16.81152156666667,
          -16.811294677777774,
          -16.811152855555555
         ]
        },
        {
         "marker": {
          "color": "rgba(235,235,235, 0.75)",
          "size": 6
         },
         "mode": "markers",
         "name": "Cluster 90 Buildings",
         "type": "scatter",
         "x": [
          145.70878238181817,
          145.70830319230768,
          145.7090354,
          145.70910562,
          145.70849928,
          145.70891125999995,
          145.70915054,
          145.70862416,
          145.70844662857144,
          145.70868586,
          145.70853166,
          145.70879594285714
         ],
         "y": [
          -16.80156380909091,
          -16.801706176923076,
          -16.801849699999998,
          -16.80184196,
          -16.801317140000002,
          -16.80169966,
          -16.80198484,
          -16.80144182,
          -16.80185147142857,
          -16.80214094,
          -16.802015680000004,
          -16.80229597142857
         ]
        },
        {
         "marker": {
          "color": "rgba(5,5,5, 0.75)",
          "size": 6
         },
         "mode": "markers",
         "name": "Cluster 91 Buildings",
         "type": "scatter",
         "x": [
          145.70592364666666,
          145.7062169181818,
          145.70632669999995,
          145.70607774,
          145.70620024117648,
          145.70658388571428,
          145.7066463857143,
          145.7063235125
         ],
         "y": [
          -16.808716146666665,
          -16.80853862727273,
          -16.80921260769231,
          -16.80866988,
          -16.809419394117647,
          -16.808847214285713,
          -16.808767785714284,
          -16.8084461125
         ]
        },
        {
         "marker": {
          "color": "rgba(30,30,30, 0.75)",
          "size": 6
         },
         "mode": "markers",
         "name": "Cluster 92 Buildings",
         "type": "scatter",
         "x": [
          145.70061732,
          145.70102670000003,
          145.70069125555554,
          145.70083723333337,
          145.70047631428568,
          145.70060484444446,
          145.70046202222224
         ],
         "y": [
          -16.81538828,
          -16.815084609090906,
          -16.81499414444444,
          -16.815011488888892,
          -16.81536042857143,
          -16.81568642222222,
          -16.8156886
         ]
        },
        {
         "marker": {
          "color": "rgba(55,55,55, 0.75)",
          "size": 6
         },
         "mode": "markers",
         "name": "Cluster 93 Buildings",
         "type": "scatter",
         "x": [
          145.7236917090909,
          145.7236645181818,
          145.72372056923075,
          145.72377472000005,
          145.72369512666668,
          145.72437040000003,
          145.72408345999997,
          145.72379073999997,
          145.72379904,
          145.72386212,
          145.7239865,
          145.72435397142857,
          145.72414708571432,
          145.72387541111112
         ],
         "y": [
          -16.8096262,
          -16.80980897272727,
          -16.810006469230768,
          -16.81018093333333,
          -16.81034082,
          -16.80988934,
          -16.810318119999998,
          -16.80987994,
          -16.80980872,
          -16.80982002,
          -16.810363542857143,
          -16.8100828,
          -16.81023312857143,
          -16.809603488888882
         ]
        },
        {
         "marker": {
          "color": "rgba(80,80,80, 0.75)",
          "size": 6
         },
         "mode": "markers",
         "name": "Cluster 94 Buildings",
         "type": "scatter",
         "x": [
          145.70085423636363,
          145.70046282857143,
          145.70074577142856,
          145.7003382285714,
          145.70061711111111,
          145.70043671818183,
          145.70053115454547,
          145.70103066363637,
          145.7006724285714,
          145.70080810000005,
          145.7009268666667
         ],
         "y": [
          -16.808076309090907,
          -16.808418142857143,
          -16.808180385714284,
          -16.808541814285714,
          -16.808307966666664,
          -16.80887254545455,
          -16.808742245454546,
          -16.80828300909091,
          -16.8086189,
          -16.808510985714285,
          -16.808425277777776
         ]
        },
        {
         "marker": {
          "color": "rgba(105,105,105, 0.75)",
          "size": 6
         },
         "mode": "markers",
         "name": "Cluster 95 Buildings",
         "type": "scatter",
         "x": [
          145.70423184444445,
          145.70409206666668,
          145.70445226363637,
          145.70430338571427,
          145.70457045714286,
          145.70430023333333,
          145.7044763,
          145.7042266846154,
          145.70409107142856
         ],
         "y": [
          -16.805855855555556,
          -16.805950488888882,
          -16.806397781818184,
          -16.806487842857145,
          -16.80627712857143,
          -16.806227899999996,
          -16.806134444444446,
          -16.806646484615385,
          -16.80672075714286
         ]
        },
        {
         "marker": {
          "color": "rgba(130,130,130, 0.75)",
          "size": 6
         },
         "mode": "markers",
         "name": "Cluster 96 Buildings",
         "type": "scatter",
         "x": [
          145.71972196000004,
          145.71954091818182,
          145.71953938,
          145.71951739999997,
          145.71925418,
          145.71978897142859,
          145.71943810000002,
          145.71975174285708,
          145.7198209222222,
          145.7194814222222
         ],
         "y": [
          -16.81887802,
          -16.8181767,
          -16.81843198,
          -16.81853974,
          -16.818844919999997,
          -16.818295957142855,
          -16.818398057142858,
          -16.818519742857145,
          -16.818733955555555,
          -16.818809633333338
         ]
        },
        {
         "marker": {
          "color": "rgba(155,155,155, 0.75)",
          "size": 6
         },
         "mode": "markers",
         "name": "Cluster 97 Buildings",
         "type": "scatter",
         "x": [
          145.70486191818182,
          145.70563972,
          145.7054777
         ],
         "y": [
          -16.798944618181814,
          -16.798558359999998,
          -16.798753733333335
         ]
        },
        {
         "marker": {
          "color": "rgba(180,180,180, 0.75)",
          "size": 6
         },
         "mode": "markers",
         "name": "Cluster 98 Buildings",
         "type": "scatter",
         "x": [
          145.70419464,
          145.70404528,
          145.70388677142859,
          145.7036931090909,
          145.70398207777774,
          145.70423797777778,
          145.70445433076927,
          145.70434430000003,
          145.7040491,
          145.70444074,
          145.70390116,
          145.70384175714287
         ],
         "y": [
          -16.805393860000002,
          -16.80501408,
          -16.805145585714286,
          -16.805194509090914,
          -16.805471877777773,
          -16.804932511111115,
          -16.80520004615385,
          -16.80530677333333,
          -16.805137100000003,
          -16.80504822,
          -16.80527426,
          -16.80552977142857
         ]
        },
        {
         "marker": {
          "color": "rgba(205,205,205, 0.75)",
          "size": 6
         },
         "mode": "markers",
         "name": "Cluster 99 Buildings",
         "type": "scatter",
         "x": [
          145.70430038,
          145.70429043999997,
          145.70452817999995,
          145.7041621,
          145.70415645999995,
          145.70426356,
          145.70414941999996,
          145.7041898
         ],
         "y": [
          -16.822938880000002,
          -16.8230915,
          -16.82349826,
          -16.823505219999998,
          -16.823633899999994,
          -16.823268759999998,
          -16.82338894,
          -16.823835314285713
         ]
        },
        {
         "marker": {
          "color": "rgba(230,230,230, 0.75)",
          "size": 6
         },
         "mode": "markers",
         "name": "Cluster 100 Buildings",
         "type": "scatter",
         "x": [
          145.70295532,
          145.70341190000005,
          145.70283334285713,
          145.70329295555555,
          145.70269319999997,
          145.70311397777778,
          145.70301072222225,
          145.7031270777778
         ],
         "y": [
          -16.8155238,
          -16.815263657142857,
          -16.815251928571428,
          -16.815334766666666,
          -16.81534873333333,
          -16.815077177777773,
          -16.815167200000005,
          -16.815434366666665
         ]
        },
        {
         "marker": {
          "color": "rgba(255,255,255, 0.75)",
          "size": 6
         },
         "mode": "markers",
         "name": "Cluster 101 Buildings",
         "type": "scatter",
         "x": [
          145.70079046363637,
          145.70095297272732,
          145.70074561818183,
          145.70054350000004,
          145.70032164,
          145.70095796,
          145.70064282857143,
          145.70072552857144,
          145.7005630375,
          145.7008714222222,
          145.70044433333334
         ],
         "y": [
          -16.80603220909091,
          -16.806376399999998,
          -16.806201254545456,
          -16.80629862,
          -16.806358,
          -16.806100679999997,
          -16.80607355714286,
          -16.806549142857143,
          -16.806648225,
          -16.806483,
          -16.806758566666666
         ]
        },
        {
         "marker": {
          "color": "rgba(25,25,25, 0.75)",
          "size": 6
         },
         "mode": "markers",
         "name": "Cluster 102 Buildings",
         "type": "scatter",
         "x": [
          145.71938244,
          145.7193033,
          145.71921892,
          145.71981716666667,
          145.71976493636362,
          145.71969819999998,
          145.7197725,
          145.71930035714286
         ],
         "y": [
          -16.81438462,
          -16.81474874,
          -16.814329280000006,
          -16.814402066666666,
          -16.81481357272727,
          -16.814954645454545,
          -16.814594228571426,
          -16.814565885714284
         ]
        },
        {
         "marker": {
          "color": "rgba(50,50,50, 0.75)",
          "size": 6
         },
         "mode": "markers",
         "name": "Cluster 103 Buildings",
         "type": "scatter",
         "x": [
          145.71849509999996,
          145.71853026,
          145.71846574,
          145.718579,
          145.71832688,
          145.71883784,
          145.71871524,
          145.71870429999996,
          145.71889298571432
         ],
         "y": [
          -16.81002208,
          -16.81015428,
          -16.810529199999998,
          -16.81038742,
          -16.81004808,
          -16.8105468,
          -16.810597180000002,
          -16.810131214285715,
          -16.810132514285716
         ]
        },
        {
         "marker": {
          "color": "rgba(75,75,75, 0.75)",
          "size": 6
         },
         "mode": "markers",
         "name": "Cluster 104 Buildings",
         "type": "scatter",
         "x": [
          145.70562160000003,
          145.70525590000003,
          145.70587110909094,
          145.70542528461542,
          145.70568727692307,
          145.70540463076927,
          145.70583700000003,
          145.70552268571427,
          145.70517502222222,
          145.70527731111108
         ],
         "y": [
          -16.809130542857144,
          -16.809182444444446,
          -16.80972065454545,
          -16.80938755384615,
          -16.809577653846155,
          -16.80993043846154,
          -16.80991062,
          -16.80951732857143,
          -16.8096535,
          -16.8097609
         ]
        },
        {
         "marker": {
          "color": "rgba(100,100,100, 0.75)",
          "size": 6
         },
         "mode": "markers",
         "name": "Cluster 105 Buildings",
         "type": "scatter",
         "x": [
          145.70582608181817,
          145.70575775999995,
          145.7051494090909,
          145.70515686000005,
          145.70577148,
          145.70549506000003,
          145.70514350000005,
          145.70513675714284,
          145.70543395714284
         ],
         "y": [
          -16.823166427272728,
          -16.82328214,
          -16.823687045454548,
          -16.823490080000006,
          -16.823924400000006,
          -16.82409414,
          -16.823376199999995,
          -16.824081542857147,
          -16.823519128571427
         ]
        },
        {
         "marker": {
          "color": "rgba(125,125,125, 0.75)",
          "size": 6
         },
         "mode": "markers",
         "name": "Cluster 106 Buildings",
         "type": "scatter",
         "x": [
          145.71648076,
          145.71646346,
          145.71639828,
          145.71643622,
          145.71646074285715,
          145.71649251428568,
          145.71647858888892
         ],
         "y": [
          -16.8106362,
          -16.81100749333333,
          -16.81170532,
          -16.81153212,
          -16.811159742857143,
          -16.8108243,
          -16.81136285555555
         ]
        },
        {
         "marker": {
          "color": "rgba(150,150,150, 0.75)",
          "size": 6
         },
         "mode": "markers",
         "name": "Cluster 107 Buildings",
         "type": "scatter",
         "x": [
          145.70946845999995,
          145.70953712,
          145.70965372,
          145.70977966,
          145.70921630000004,
          145.70897378,
          145.70946756,
          145.70911084285714
         ],
         "y": [
          -16.8022887,
          -16.80243844,
          -16.80259714,
          -16.80270626,
          -16.802699920000002,
          -16.802429800000002,
          -16.80299026,
          -16.802565057142857
         ]
        },
        {
         "marker": {
          "color": "rgba(175,175,175, 0.75)",
          "size": 6
         },
         "mode": "markers",
         "name": "Cluster 108 Buildings",
         "type": "scatter",
         "x": [
          145.72230456,
          145.7217889,
          145.72192452,
          145.72188552000003,
          145.72195338,
          145.72211555999996,
          145.72205508571432,
          145.72189912222225,
          145.72238613333334,
          145.7219144111111,
          145.72218596666667
         ],
         "y": [
          -16.813584040000002,
          -16.81350794,
          -16.813187300000006,
          -16.81355936,
          -16.81331728,
          -16.81344362,
          -16.81356082857143,
          -16.81342941111111,
          -16.813411399999996,
          -16.813079044444443,
          -16.813411066666667
         ]
        },
        {
         "marker": {
          "color": "rgba(200,200,200, 0.75)",
          "size": 6
         },
         "mode": "markers",
         "name": "Cluster 109 Buildings",
         "type": "scatter",
         "x": [
          145.72426534000004,
          145.72378650000005,
          145.72411609999997,
          145.72395822,
          145.72387419999998,
          145.72394432,
          145.72414335555558,
          145.7244608
         ],
         "y": [
          -16.80815634,
          -16.8080907,
          -16.80813872,
          -16.80800532,
          -16.8078857,
          -16.80823818,
          -16.80791444444445,
          -16.808202285714284
         ]
        },
        {
         "marker": {
          "color": "rgba(225,225,225, 0.75)",
          "size": 6
         },
         "mode": "markers",
         "name": "Cluster 110 Buildings",
         "type": "scatter",
         "x": [
          145.72630678000004,
          145.72622344,
          145.7262659,
          145.72616010000002,
          145.72599924000005,
          145.72608176,
          145.72636045714285,
          145.7264258777778
         ],
         "y": [
          -16.809898999999998,
          -16.80974124,
          -16.81030494,
          -16.810174600000003,
          -16.80986506,
          -16.810029399999998,
          -16.81008042857143,
          -16.810263600000006
         ]
        },
        {
         "marker": {
          "color": "rgba(250,250,250, 0.75)",
          "size": 6
         },
         "mode": "markers",
         "name": "Cluster 111 Buildings",
         "type": "scatter",
         "x": [
          145.72096904,
          145.7208476090909,
          145.7209274,
          145.72126985999995,
          145.72134692000003,
          145.72141074,
          145.72092981999995,
          145.72085348888888,
          145.72134269999998,
          145.72093276666666
         ],
         "y": [
          -16.81376048,
          -16.814399536363634,
          -16.813997540000006,
          -16.81378788,
          -16.814167480000002,
          -16.8138908,
          -16.81388782,
          -16.814238944444444,
          -16.814064000000002,
          -16.814101177777776
         ]
        },
        {
         "marker": {
          "color": "rgba(20,20,20, 0.75)",
          "size": 6
         },
         "mode": "markers",
         "name": "Cluster 112 Buildings",
         "type": "scatter",
         "x": [
          145.70146456000003,
          145.70173574,
          145.70165294,
          145.70131696,
          145.70120991999997,
          145.70181818000003,
          145.70165452857142,
          145.7011064090909,
          145.70166052307692,
          145.70193066,
          145.7015121
         ],
         "y": [
          -16.80413056,
          -16.804174879999998,
          -16.804222319999994,
          -16.80422332,
          -16.804531920000002,
          -16.804526700000004,
          -16.804035014285713,
          -16.804405890909095,
          -16.804610507692303,
          -16.80439136,
          -16.80464562857143
         ]
        },
        {
         "marker": {
          "color": "rgba(45,45,45, 0.75)",
          "size": 6
         },
         "mode": "markers",
         "name": "Cluster 113 Buildings",
         "type": "scatter",
         "x": [
          145.7258079090909,
          145.7259983636364,
          145.72562608,
          145.72607606,
          145.72556912,
          145.72584832,
          145.7253739777778,
          145.72613497777778
         ],
         "y": [
          -16.811746672727274,
          -16.81182622727273,
          -16.8121399,
          -16.81201386,
          -16.81205428,
          -16.81183694,
          -16.812016777777778,
          -16.812192611111108
         ]
        },
        {
         "marker": {
          "color": "rgba(70,70,70, 0.75)",
          "size": 6
         },
         "mode": "markers",
         "name": "Cluster 114 Buildings",
         "type": "scatter",
         "x": [
          145.7086788909091,
          145.70884666923078,
          145.70905090666662,
          145.70838982857143,
          145.70853245714287,
          145.7082657111111
         ],
         "y": [
          -16.80451702727273,
          -16.804545284615386,
          -16.804430766666666,
          -16.80449384285714,
          -16.804424771428568,
          -16.804430399999998
         ]
        },
        {
         "marker": {
          "color": "rgba(95,95,95, 0.75)",
          "size": 6
         },
         "mode": "markers",
         "name": "Cluster 115 Buildings",
         "type": "scatter",
         "x": [
          145.70822968,
          145.70854707999996,
          145.70872086,
          145.7086854,
          145.70819714,
          145.70819971999995
         ],
         "y": [
          -16.827736899999998,
          -16.82781842,
          -16.82822636,
          -16.828533899999996,
          -16.82814184,
          -16.82801688
         ]
        },
        {
         "marker": {
          "color": "rgba(120,120,120, 0.75)",
          "size": 6
         },
         "mode": "markers",
         "name": "Cluster 116 Buildings",
         "type": "scatter",
         "x": [
          145.70276602307698,
          145.70256097272727,
          145.70226530000002,
          145.70219066,
          145.70229351428569,
          145.70235616666668,
          145.70238447777774,
          145.70202855555556,
          145.70210124444444
         ],
         "y": [
          -16.808626146153845,
          -16.80892499090909,
          -16.809152140000002,
          -16.80908282,
          -16.80867298571429,
          -16.808783466666668,
          -16.80904335555556,
          -16.808810388888887,
          -16.808965055555557
         ]
        },
        {
         "marker": {
          "color": "rgba(145,145,145, 0.75)",
          "size": 6
         },
         "mode": "markers",
         "name": "Cluster 117 Buildings",
         "type": "scatter",
         "x": [
          145.70610567692302,
          145.70629510588233,
          145.7058084,
          145.70563239999996,
          145.70558373999995,
          145.70574802857143,
          145.70593017142858,
          145.70591202857142,
          145.70605215555554,
          145.70624171111112
         ],
         "y": [
          -16.804015792307688,
          -16.803879158823527,
          -16.80385196,
          -16.803833079999997,
          -16.80400002,
          -16.803676,
          -16.803890514285715,
          -16.8039978,
          -16.803489866666666,
          -16.803680777777775
         ]
        },
        {
         "marker": {
          "color": "rgba(170,170,170, 0.75)",
          "size": 6
         },
         "mode": "markers",
         "name": "Cluster 118 Buildings",
         "type": "scatter",
         "x": [
          145.70115738181818,
          145.70053359999997,
          145.70027219999997,
          145.70094214444444,
          145.70050883636367,
          145.70030743846158
         ],
         "y": [
          -16.801173109090907,
          -16.801157760000002,
          -16.801215177777774,
          -16.801153799999998,
          -16.801678854545454,
          -16.801685530769234
         ]
        },
        {
         "marker": {
          "color": "rgba(195,195,195, 0.75)",
          "size": 6
         },
         "mode": "markers",
         "name": "Cluster 119 Buildings",
         "type": "scatter",
         "x": [
          145.72215644,
          145.72229094,
          145.72228498,
          145.72188387333333,
          145.72217918000004,
          145.72183106,
          145.72180780000005,
          145.72239414000003,
          145.72190972,
          145.72197838000002,
          145.72224046000005,
          145.72184094285714
         ],
         "y": [
          -16.81391322,
          -16.8139299,
          -16.814142566666668,
          -16.813894333333334,
          -16.81417634,
          -16.81409576,
          -16.814336200000003,
          -16.814057580000004,
          -16.8142253,
          -16.814358640000002,
          -16.81428778,
          -16.81447312857143
         ]
        },
        {
         "marker": {
          "color": "rgba(220,220,220, 0.75)",
          "size": 6
         },
         "mode": "markers",
         "name": "Cluster 120 Buildings",
         "type": "scatter",
         "x": [
          145.70267712,
          145.70276828000004,
          145.70321696000005,
          145.70260595714288,
          145.70299432000004,
          145.70271464,
          145.7031462857143
         ],
         "y": [
          -16.80311996,
          -16.80308926,
          -16.8033389,
          -16.803316285714285,
          -16.80358746,
          -16.80354164,
          -16.803490414285715
         ]
        },
        {
         "marker": {
          "color": "rgba(245,245,245, 0.75)",
          "size": 6
         },
         "mode": "markers",
         "name": "Cluster 121 Buildings",
         "type": "scatter",
         "x": [
          145.70581627272728,
          145.70528074615385,
          145.70574201999997,
          145.70561691999995,
          145.70517102,
          145.70557125714285,
          145.70565034444445
         ],
         "y": [
          -16.807511654545454,
          -16.807735707692302,
          -16.807704473333335,
          -16.807855019999998,
          -16.80759564,
          -16.80788234285714,
          -16.807806411111113
         ]
        },
        {
         "marker": {
          "color": "rgba(15,15,15, 0.75)",
          "size": 6
         },
         "mode": "markers",
         "name": "Cluster 122 Buildings",
         "type": "scatter",
         "x": [
          145.72127342000005,
          145.72098986,
          145.72134297999997,
          145.72116292857143,
          145.72147716,
          145.72099214,
          145.72096034,
          145.72141004285714
         ],
         "y": [
          -16.813237880000006,
          -16.813209540000006,
          -16.813379819999998,
          -16.813009342857143,
          -16.813407520000002,
          -16.8134695,
          -16.8133233,
          -16.81350977142857
         ]
        },
        {
         "marker": {
          "color": "rgba(40,40,40, 0.75)",
          "size": 6
         },
         "mode": "markers",
         "name": "Cluster 123 Buildings",
         "type": "scatter",
         "x": [
          145.70051903076924,
          145.70064835714285,
          145.70083325555555,
          145.70041055555555,
          145.70078093333333,
          145.70074493636363,
          145.70088063636362,
          145.70063380952382,
          145.70106013333333,
          145.70108661111112
         ],
         "y": [
          -16.80935793076923,
          -16.809033171428574,
          -16.809252311111113,
          -16.809239155555556,
          -16.80912771111111,
          -16.809620918181814,
          -16.80977362727273,
          -16.80949561904762,
          -16.80972726666667,
          -16.80951118888889
         ]
        },
        {
         "marker": {
          "color": "rgba(65,65,65, 0.75)",
          "size": 6
         },
         "mode": "markers",
         "name": "Cluster 124 Buildings",
         "type": "scatter",
         "x": [
          145.71675392727272,
          145.71665926,
          145.71694014,
          145.71691914000004,
          145.71677414,
          145.71696518000005,
          145.71677448000003,
          145.71667646,
          145.7168447,
          145.71674624,
          145.71678064285715,
          145.71697745714286
         ],
         "y": [
          -16.809925336363634,
          -16.810076000000002,
          -16.81010654,
          -16.8100108,
          -16.810163199999998,
          -16.810193199999997,
          -16.80998434,
          -16.80997438,
          -16.81009938,
          -16.8100849,
          -16.81035997142857,
          -16.810364528571426
         ]
        },
        {
         "marker": {
          "color": "rgba(90,90,90, 0.75)",
          "size": 6
         },
         "mode": "markers",
         "name": "Cluster 125 Buildings",
         "type": "scatter",
         "x": [
          145.70303135714286,
          145.7028532,
          145.70283996666663,
          145.70296929999995,
          145.70324877777776,
          145.70338257999995,
          145.70317658,
          145.70344272857145,
          145.70326392857143
         ],
         "y": [
          -16.804756771428572,
          -16.80484453333333,
          -16.805035166666666,
          -16.8052746,
          -16.804701777777776,
          -16.80520438,
          -16.80523688,
          -16.8053222,
          -16.805292471428572
         ]
        },
        {
         "marker": {
          "color": "rgba(115,115,115, 0.75)",
          "size": 6
         },
         "mode": "markers",
         "name": "Cluster 126 Buildings",
         "type": "scatter",
         "x": [
          145.72745880000002,
          145.72726054000003,
          145.72702643333332
         ],
         "y": [
          -16.81253358,
          -16.81220888,
          -16.8120038
         ]
        },
        {
         "marker": {
          "color": "rgba(140,140,140, 0.75)",
          "size": 6
         },
         "mode": "markers",
         "name": "Cluster 127 Buildings",
         "type": "scatter",
         "x": [
          145.72274161481482,
          145.72304169999995,
          145.72279024285714,
          145.72317048,
          145.72299028000003
         ],
         "y": [
          -16.80598291851852,
          -16.80596594,
          -16.806147214285712,
          -16.806598200000003,
          -16.80669162
         ]
        },
        {
         "marker": {
          "color": "rgba(165,165,165, 0.75)",
          "size": 6
         },
         "mode": "markers",
         "name": "Cluster 128 Buildings",
         "type": "scatter",
         "x": [
          145.7199044181818,
          145.71929434,
          145.71982918000003,
          145.71985514,
          145.71969064,
          145.71998028000004,
          145.71967486,
          145.71964608,
          145.72003718571432,
          145.71948575714285,
          145.71947838888892
         ],
         "y": [
          -16.81723299090909,
          -16.816693320000002,
          -16.817092879999993,
          -16.816720899999996,
          -16.81702674,
          -16.8170678,
          -16.81718904,
          -16.81673256,
          -16.81684882857143,
          -16.81714607142857,
          -16.816758433333334
         ]
        },
        {
         "marker": {
          "color": "rgba(190,190,190, 0.75)",
          "size": 6
         },
         "mode": "markers",
         "name": "Cluster 129 Buildings",
         "type": "scatter",
         "x": [
          145.72249606666668,
          145.7220733,
          145.72179854285713,
          145.72201148571432,
          145.72185195555554,
          145.72229643
         ],
         "y": [
          -16.802576786666666,
          -16.80299004,
          -16.802703628571425,
          -16.802318385714287,
          -16.802861866666667,
          -16.80266825
         ]
        },
        {
         "marker": {
          "color": "rgba(215,215,215, 0.75)",
          "size": 6
         },
         "mode": "markers",
         "name": "Cluster 130 Buildings",
         "type": "scatter",
         "x": [
          145.71911426,
          145.71963018000002,
          145.71937640000004,
          145.7192925
         ],
         "y": [
          -16.809549240000006,
          -16.80962094,
          -16.8095372,
          -16.80928704
         ]
        },
        {
         "marker": {
          "color": "rgba(240,240,240, 0.75)",
          "size": 6
         },
         "mode": "markers",
         "name": "Cluster 131 Buildings",
         "type": "scatter",
         "x": [
          145.72052889230767,
          145.72051534,
          145.72056896,
          145.72065279999995,
          145.72051486666666
         ],
         "y": [
          -16.817185776923075,
          -16.81691214,
          -16.816845100000002,
          -16.817268300000002,
          -16.81669731111111
         ]
        },
        {
         "marker": {
          "color": "rgba(10,10,10, 0.75)",
          "size": 6
         },
         "mode": "markers",
         "name": "Cluster 132 Buildings",
         "type": "scatter",
         "x": [
          145.70138802857144,
          145.70152397777775,
          145.70156367142857,
          145.70127154444444,
          145.7014735545455,
          145.70117347692306,
          145.70134464000003
         ],
         "y": [
          -16.807627214285713,
          -16.807540611111108,
          -16.80790312857143,
          -16.807732366666666,
          -16.808018481818184,
          -16.80790450769231,
          -16.80810487333333
         ]
        },
        {
         "marker": {
          "color": "rgba(35,35,35, 0.75)",
          "size": 6
         },
         "mode": "markers",
         "name": "Cluster 133 Buildings",
         "type": "scatter",
         "x": [
          145.72473096153846,
          145.72440774,
          145.72467181999997,
          145.72428232,
          145.7246012,
          145.72447956666667
         ],
         "y": [
          -16.807118576923074,
          -16.80660436,
          -16.806842080000006,
          -16.80661372,
          -16.806659185714285,
          -16.806522944444445
         ]
        },
        {
         "marker": {
          "color": "rgba(60,60,60, 0.75)",
          "size": 6
         },
         "mode": "markers",
         "name": "Cluster 134 Buildings",
         "type": "scatter",
         "x": [
          145.7017434090909,
          145.70160228,
          145.70144850000003,
          145.7013136222222,
          145.70172973333334,
          145.70127925555553,
          145.70189121111113,
          145.7018044333333
         ],
         "y": [
          -16.81338310909091,
          -16.81397024,
          -16.81372968,
          -16.813514977777785,
          -16.813188733333334,
          -16.81332542222222,
          -16.813667288888887,
          -16.813555288888885
         ]
        },
        {
         "marker": {
          "color": "rgba(85,85,85, 0.75)",
          "size": 6
         },
         "mode": "markers",
         "name": "Cluster 135 Buildings",
         "type": "scatter",
         "x": [
          145.723160072,
          145.7230945,
          145.72305918,
          145.72320237999998,
          145.72309649999997,
          145.72324958,
          145.72317382,
          145.72328466,
          145.7230029,
          145.72312704,
          145.72304160000004,
          145.72283502,
          145.72254101428572,
          145.72260923333332,
          145.72281612222224
         ],
         "y": [
          -16.809091944000002,
          -16.809385600000002,
          -16.809650519999998,
          -16.80929254,
          -16.80955388,
          -16.809572199999998,
          -16.809572080000002,
          -16.80930094,
          -16.80955216,
          -16.809283720000003,
          -16.809275680000002,
          -16.80952854,
          -16.80948514285714,
          -16.80912988888889,
          -16.809149177777773
         ]
        },
        {
         "marker": {
          "color": "rgba(110,110,110, 0.75)",
          "size": 6
         },
         "mode": "markers",
         "name": "Cluster 136 Buildings",
         "type": "scatter",
         "x": [
          145.72131476923082,
          145.72129507333338,
          145.72100012,
          145.72119776,
          145.72114434,
          145.72096919999998,
          145.7210791777778,
          145.72090211111112,
          145.72129913333333
         ],
         "y": [
          -16.80549865384615,
          -16.80572580666667,
          -16.805637624000003,
          -16.80553696,
          -16.804996800000005,
          -16.80544694,
          -16.805111366666665,
          -16.805090911111108,
          -16.80522548888889
         ]
        },
        {
         "marker": {
          "color": "rgba(135,135,135, 0.75)",
          "size": 6
         },
         "mode": "markers",
         "name": "Cluster 137 Buildings",
         "type": "scatter",
         "x": [
          145.72121123636362,
          145.72067002,
          145.72099373999995,
          145.72119878571428,
          145.72072857142857,
          145.72067364444445
         ],
         "y": [
          -16.815200190909092,
          -16.81567082,
          -16.81553758,
          -16.815541357142855,
          -16.815528828571427,
          -16.81575822222222
         ]
        },
        {
         "marker": {
          "color": "rgba(160,160,160, 0.75)",
          "size": 6
         },
         "mode": "markers",
         "name": "Cluster 138 Buildings",
         "type": "scatter",
         "x": [
          145.70555204,
          145.70544404000003,
          145.70586984285708,
          145.70591498000005,
          145.70558961999996,
          145.70547196,
          145.70563147142857,
          145.70550932857142,
          145.70578404444444,
          145.70539618000004,
          145.70548034,
          145.70537326,
          145.70572032857143
         ],
         "y": [
          -16.80419612,
          -16.80423578,
          -16.804491414285714,
          -16.804337099999998,
          -16.80470676,
          -16.804515759999994,
          -16.804432285714288,
          -16.8043926,
          -16.80464836666667,
          -16.80472426,
          -16.80488842,
          -16.80494102,
          -16.80494447142857
         ]
        },
        {
         "marker": {
          "color": "rgba(185,185,185, 0.75)",
          "size": 6
         },
         "mode": "markers",
         "name": "Cluster 139 Buildings",
         "type": "scatter",
         "x": [
          145.72576753999996,
          145.7258645,
          145.72565840000001,
          145.72558998000005,
          145.72598854444445
         ],
         "y": [
          -16.8089361,
          -16.809101599999998,
          -16.809535840000002,
          -16.80909408,
          -16.809360688888887
         ]
        },
        {
         "marker": {
          "color": "rgba(210,210,210, 0.75)",
          "size": 6
         },
         "mode": "markers",
         "name": "Cluster 140 Buildings",
         "type": "scatter",
         "x": [
          145.7224094,
          145.72197144,
          145.72220866,
          145.72229524,
          145.7219622,
          145.72180085999997,
          145.7220106777778,
          145.72183172222222
         ],
         "y": [
          -16.806059400000002,
          -16.80589508,
          -16.80599574,
          -16.805979360000002,
          -16.805680920000004,
          -16.805912760000002,
          -16.806063322222222,
          -16.8060339
         ]
        },
        {
         "marker": {
          "color": "rgba(235,235,235, 0.75)",
          "size": 6
         },
         "mode": "markers",
         "name": "Cluster 141 Buildings",
         "type": "scatter",
         "x": [
          145.707784,
          145.70758346000005,
          145.70768832857144,
          145.70746562222226,
          145.70803678888888,
          145.70766238,
          145.70739054444445,
          145.70723148333337
         ],
         "y": [
          -16.804341,
          -16.803697940000006,
          -16.803777871428572,
          -16.8036551,
          -16.803974788888887,
          -16.804289840000006,
          -16.804181466666666,
          -16.804097483333333
         ]
        },
        {
         "marker": {
          "color": "rgba(5,5,5, 0.75)",
          "size": 6
         },
         "mode": "markers",
         "name": "Cluster 142 Buildings",
         "type": "scatter",
         "x": [
          145.70345057999995,
          145.7032812909091,
          145.70327842727275,
          145.70364104545453,
          145.70362537692307,
          145.70297454,
          145.70365204285713,
          145.70311084285714,
          145.70337871428572,
          145.70357103333333
         ],
         "y": [
          -16.816091,
          -16.81608032727273,
          -16.815875154545452,
          -16.815936518181818,
          -16.81616693076923,
          -16.8159707,
          -16.815753342857143,
          -16.816052814285715,
          -16.815731242857144,
          -16.815631511111107
         ]
        },
        {
         "marker": {
          "color": "rgba(30,30,30, 0.75)",
          "size": 6
         },
         "mode": "markers",
         "name": "Cluster 143 Buildings",
         "type": "scatter",
         "x": [
          145.71993894000005,
          145.72006314,
          145.71978338,
          145.71947142,
          145.72015818571433,
          145.71982727142858,
          145.71966619999998,
          145.72004742222222
         ],
         "y": [
          -16.815808280000002,
          -16.81634212,
          -16.81578704,
          -16.81623802,
          -16.815858185714287,
          -16.8163201,
          -16.816159222222225,
          -16.816120533333333
         ]
        },
        {
         "marker": {
          "color": "rgba(55,55,55, 0.75)",
          "size": 6
         },
         "mode": "markers",
         "name": "Cluster 144 Buildings",
         "type": "scatter",
         "x": [
          145.70083469999997,
          145.70082684545457,
          145.70066814,
          145.70094952857144,
          145.7010844,
          145.70057463636363,
          145.70039188000004
         ],
         "y": [
          -16.80482404,
          -16.80524158181818,
          -16.80538504,
          -16.80514074285714,
          -16.805022266666665,
          -16.805497590909088,
          -16.80562986
         ]
        },
        {
         "marker": {
          "color": "rgba(80,80,80, 0.75)",
          "size": 6
         },
         "mode": "markers",
         "name": "Cluster 145 Buildings",
         "type": "scatter",
         "x": [
          145.72292964000005,
          145.72316686,
          145.72331288,
          145.72332068,
          145.7232988,
          145.72311615714287,
          145.72276366666668,
          145.72314987777776,
          145.72295055555554
         ],
         "y": [
          -16.8121702,
          -16.81165842,
          -16.81193788,
          -16.811746680000002,
          -16.81217754,
          -16.8118367,
          -16.812192311111108,
          -16.812207677777778,
          -16.811745955555555
         ]
        },
        {
         "marker": {
          "color": "rgba(105,105,105, 0.75)",
          "size": 6
         },
         "mode": "markers",
         "name": "Cluster 146 Buildings",
         "type": "scatter",
         "x": [
          145.70132552,
          145.70165723999997,
          145.70137602,
          145.70130615454545,
          145.70143649999997,
          145.70108572857143,
          145.70151477142858,
          145.70145894285713,
          145.70121485714284,
          145.70166073333334,
          145.70155471428572
         ],
         "y": [
          -16.80547014,
          -16.80552358,
          -16.80575726,
          -16.805973490909093,
          -16.80556474,
          -16.805722714285714,
          -16.805401957142855,
          -16.806050171428573,
          -16.80562844285714,
          -16.80531038888889,
          -16.806143842857143
         ]
        },
        {
         "marker": {
          "color": "rgba(130,130,130, 0.75)",
          "size": 6
         },
         "mode": "markers",
         "name": "Cluster 147 Buildings",
         "type": "scatter",
         "x": [
          145.72049191000005,
          145.72013130000002,
          145.7201175888889,
          145.72011030000004,
          145.72010083333333
         ],
         "y": [
          -16.811990029999997,
          -16.811374620000002,
          -16.811715966666668,
          -16.811527466666664,
          -16.8118945
         ]
        },
        {
         "marker": {
          "color": "rgba(155,155,155, 0.75)",
          "size": 6
         },
         "mode": "markers",
         "name": "Cluster 148 Buildings",
         "type": "scatter",
         "x": [
          145.70266734,
          145.70243910000005,
          145.70217246363637,
          145.70252035454547,
          145.70240028461538,
          145.70229951428573,
          145.70240974444445,
          145.7026131444444
         ],
         "y": [
          -16.80815596,
          -16.808261372727273,
          -16.807899263636365,
          -16.808379463636363,
          -16.80770948461538,
          -16.808014300000004,
          -16.808119422222227,
          -16.807971366666667
         ]
        },
        {
         "marker": {
          "color": "rgba(180,180,180, 0.75)",
          "size": 6
         },
         "mode": "markers",
         "name": "Cluster 149 Buildings",
         "type": "scatter",
         "x": [
          145.72295475384615,
          145.72300890000002,
          145.723183,
          145.7230057,
          145.72352118,
          145.72329666000005,
          145.72332898000005,
          145.72357638,
          145.72327107777778
         ],
         "y": [
          -16.81415468461538,
          -16.813897888888892,
          -16.81425948,
          -16.814591139999994,
          -16.814314439999997,
          -16.814813519999998,
          -16.814349800000002,
          -16.81454214,
          -16.814651066666666
         ]
        },
        {
         "marker": {
          "color": "rgba(205,205,205, 0.75)",
          "size": 6
         },
         "mode": "markers",
         "name": "Cluster 150 Buildings",
         "type": "scatter",
         "x": [
          145.71943826,
          145.71926266,
          145.71924366,
          145.71943145555554,
          145.71903564444446
         ],
         "y": [
          -16.81357216,
          -16.81357046,
          -16.81387394,
          -16.81388022222222,
          -16.81389911111111
         ]
        },
        {
         "marker": {
          "color": "rgba(230,230,230, 0.75)",
          "size": 6
         },
         "mode": "markers",
         "name": "Cluster 151 Buildings",
         "type": "scatter",
         "x": [
          145.72220062,
          145.72197350000005,
          145.72234439999997,
          145.72194916,
          145.72225054,
          145.72206109999996,
          145.72187241999995,
          145.72216132857145,
          145.72187018571432
         ],
         "y": [
          -16.810959899999997,
          -16.81096676,
          -16.8111643,
          -16.811138520000004,
          -16.81062798,
          -16.810629340000002,
          -16.81081806,
          -16.81112884285714,
          -16.81063347142857
         ]
        },
        {
         "marker": {
          "color": "rgba(255,255,255, 0.75)",
          "size": 6
         },
         "mode": "markers",
         "name": "Cluster 152 Buildings",
         "type": "scatter",
         "x": [
          145.70048237272732,
          145.70077551818184,
          145.7004384090909,
          145.70080484285714,
          145.70048158571427,
          145.70047251111112,
          145.70078283333334,
          145.7004352777778
         ],
         "y": [
          -16.814435290909092,
          -16.81416581818182,
          -16.814760954545452,
          -16.814308271428573,
          -16.81414345714286,
          -16.814273611111116,
          -16.81464438888889,
          -16.814606466666664
         ]
        },
        {
         "marker": {
          "color": "rgba(25,25,25, 0.75)",
          "size": 6
         },
         "mode": "markers",
         "name": "Cluster 153 Buildings",
         "type": "scatter",
         "x": [
          145.70437374,
          145.70455510000005,
          145.70464413999997,
          145.70452519999998,
          145.70429552857144,
          145.70490143333333,
          145.70477667777774
         ],
         "y": [
          -16.804503959999998,
          -16.80417892,
          -16.80477454,
          -16.804624342857142,
          -16.804322971428572,
          -16.804636799999994,
          -16.804869155555554
         ]
        },
        {
         "marker": {
          "color": "rgba(50,50,50, 0.75)",
          "size": 6
         },
         "mode": "markers",
         "name": "Cluster 154 Buildings",
         "type": "scatter",
         "x": [
          145.72086992727267,
          145.72057542,
          145.72068894,
          145.7210362,
          145.72099254,
          145.7207775
         ],
         "y": [
          -16.80419860909091,
          -16.803755700000004,
          -16.80375104,
          -16.804276859999998,
          -16.803821640000002,
          -16.803968428571427
         ]
        },
        {
         "marker": {
          "color": "rgba(75,75,75, 0.75)",
          "size": 6
         },
         "mode": "markers",
         "name": "Cluster 155 Buildings",
         "type": "scatter",
         "x": [
          145.7013487909091,
          145.70125945454546,
          145.70116240000002,
          145.70141937777774,
          145.70164055714287,
          145.70148527142854,
          145.70155891111108
         ],
         "y": [
          -16.81485688181818,
          -16.81472419090909,
          -16.814577542857144,
          -16.814961922222224,
          -16.815377085714278,
          -16.815071457142857,
          -16.815198488888882
         ]
        },
        {
         "marker": {
          "color": "rgba(100,100,100, 0.75)",
          "size": 6
         },
         "mode": "markers",
         "name": "Cluster 156 Buildings",
         "type": "scatter",
         "x": [
          145.72071286,
          145.72102414,
          145.72104608,
          145.72107240000003,
          145.72068054000005,
          145.72115116,
          145.72094412,
          145.72096438,
          145.72115147142856,
          145.7211052444444
         ],
         "y": [
          -16.80669002,
          -16.80725502,
          -16.80711292,
          -16.806851419999994,
          -16.806884859999997,
          -16.807085660000002,
          -16.807060500000002,
          -16.806874899999997,
          -16.806903385714286,
          -16.806748688888884
         ]
        },
        {
         "marker": {
          "color": "rgba(125,125,125, 0.75)",
          "size": 6
         },
         "mode": "markers",
         "name": "Cluster 157 Buildings",
         "type": "scatter",
         "x": [
          145.72401474,
          145.72382846,
          145.72345837999995,
          145.7242565,
          145.72368160000005,
          145.7236332777778
         ],
         "y": [
          -16.81278494,
          -16.81277416,
          -16.81267416,
          -16.81275422,
          -16.812927399999996,
          -16.812738
         ]
        },
        {
         "marker": {
          "color": "rgba(150,150,150, 0.75)",
          "size": 6
         },
         "mode": "markers",
         "name": "Cluster 158 Buildings",
         "type": "scatter",
         "x": [
          145.70038705454544,
          145.70052429166662,
          145.70043909999995,
          145.7004249,
          145.7003107818182,
          145.70044935555555
         ],
         "y": [
          -16.816633290909092,
          -16.81662545,
          -16.81688412222222,
          -16.81704947777778,
          -16.817305436363636,
          -16.817286522222226
         ]
        },
        {
         "marker": {
          "color": "rgba(175,175,175, 0.75)",
          "size": 6
         },
         "mode": "markers",
         "name": "Cluster 159 Buildings",
         "type": "scatter",
         "x": [
          145.72202378461537,
          145.72275386666666,
          145.72214911999995,
          145.72258180000003,
          145.72219479999995,
          145.72237581428567,
          145.72213777142858,
          145.72238912857142,
          145.72257714444444
         ],
         "y": [
          -16.812089999999998,
          -16.81177522,
          -16.8115643,
          -16.81210342,
          -16.812140457142856,
          -16.812101242857143,
          -16.811750142857143,
          -16.811662928571426,
          -16.811722255555555
         ]
        },
        {
         "marker": {
          "color": "rgba(200,200,200, 0.75)",
          "size": 6
         },
         "mode": "markers",
         "name": "Cluster 160 Buildings",
         "type": "scatter",
         "x": [
          145.70303334545454,
          145.7027714909091,
          145.70293491818182,
          145.7029425923077,
          145.7027865923077,
          145.7031657076923,
          145.70259229333337,
          145.70259052857142
         ],
         "y": [
          -16.812968845454545,
          -16.813346999999997,
          -16.813237145454544,
          -16.81279883846154,
          -16.81298643846154,
          -16.81314306153846,
          -16.813066233333338,
          -16.813374214285716
         ]
        },
        {
         "marker": {
          "color": "rgba(225,225,225, 0.75)",
          "size": 6
         },
         "mode": "markers",
         "name": "Cluster 161 Buildings",
         "type": "scatter",
         "x": [
          145.70497666,
          145.70555496
         ],
         "y": [
          -16.82743182,
          -16.82757566
         ]
        },
        {
         "marker": {
          "color": "rgba(250,250,250, 0.75)",
          "size": 6
         },
         "mode": "markers",
         "name": "Cluster 162 Buildings",
         "type": "scatter",
         "x": [
          145.72426702,
          145.72411486,
          145.72419042
         ],
         "y": [
          -16.81438766,
          -16.8145078,
          -16.81446072
         ]
        },
        {
         "marker": {
          "color": "rgba(20,20,20, 0.75)",
          "size": 6
         },
         "mode": "markers",
         "name": "Cluster 163 Buildings",
         "type": "scatter",
         "x": [
          145.70166843333334,
          145.70175172222218,
          145.70184015555554,
          145.7019241888889
         ],
         "y": [
          -16.806273533333332,
          -16.806381488888892,
          -16.80647287777778,
          -16.806563722222222
         ]
        },
        {
         "marker": {
          "color": "rgba(45,45,45, 0.75)",
          "size": 6
         },
         "mode": "markers",
         "name": "Cluster 164 Buildings",
         "type": "scatter",
         "x": [
          145.70063456,
          145.70031794285714,
          145.7003040846154,
          145.70045954285715,
          145.70053529999996,
          145.70079182857143,
          145.70064967142858,
          145.70036617272723,
          145.7005109909091
         ],
         "y": [
          -16.807464279999998,
          -16.807144985714285,
          -16.807649107692303,
          -16.807254714285712,
          -16.80737537142857,
          -16.807641957142856,
          -16.807736114285714,
          -16.80799470909091,
          -16.80788078181818
         ]
        },
        {
         "marker": {
          "color": "rgba(70,70,70, 0.75)",
          "size": 6
         },
         "mode": "markers",
         "name": "Cluster 165 Buildings",
         "type": "scatter",
         "x": [
          145.719326,
          145.71908206,
          145.71927961999995,
          145.719133,
          145.71867360000002,
          145.7188767,
          145.7189485,
          145.71907116,
          145.71930338888887
         ],
         "y": [
          -16.81506452,
          -16.81511508,
          -16.814928639999998,
          -16.815234699999998,
          -16.815154460000002,
          -16.815167014285713,
          -16.815186655555557,
          -16.814906720000003,
          -16.815239877777778
         ]
        },
        {
         "marker": {
          "color": "rgba(95,95,95, 0.75)",
          "size": 6
         },
         "mode": "markers",
         "name": "Cluster 166 Buildings",
         "type": "scatter",
         "x": [
          145.72417433636366,
          145.72419230000003,
          145.72404766,
          145.72409398,
          145.72427502,
          145.72418186,
          145.72429961111112
         ],
         "y": [
          -16.805868345454545,
          -16.80617994,
          -16.805699240000006,
          -16.806260099999996,
          -16.80600094,
          -16.806048280000002,
          -16.80619511111111
         ]
        },
        {
         "marker": {
          "color": "rgba(120,120,120, 0.75)",
          "size": 6
         },
         "mode": "markers",
         "name": "Cluster 167 Buildings",
         "type": "scatter",
         "x": [
          145.7008339818182,
          145.70124390000004,
          145.7011273,
          145.70115185714286,
          145.7009791888889
         ],
         "y": [
          -16.807131954545454,
          -16.80717004285714,
          -16.806792442857144,
          -16.807278628571428,
          -16.806859811111117
         ]
        },
        {
         "marker": {
          "color": "rgba(145,145,145, 0.75)",
          "size": 6
         },
         "mode": "markers",
         "name": "Cluster 168 Buildings",
         "type": "scatter",
         "x": [
          145.70287822857142,
          145.70331104285714,
          145.70312613333334,
          145.70334386666667,
          145.70299291111112,
          145.70329501818182,
          145.70300441428572,
          145.70347107142857,
          145.70315061428568
         ],
         "y": [
          -16.813726242857143,
          -16.813452214285714,
          -16.81356271111111,
          -16.813588322222227,
          -16.813641655555557,
          -16.813815700000006,
          -16.8139156,
          -16.81370174285714,
          -16.81388467142857
         ]
        },
        {
         "marker": {
          "color": "rgba(170,170,170, 0.75)",
          "size": 6
         },
         "mode": "markers",
         "name": "Cluster 169 Buildings",
         "type": "scatter",
         "x": [
          145.70809590625,
          145.70753178571428,
          145.70765887500005,
          145.70735919230768,
          145.7073386,
          145.70749843333334
         ],
         "y": [
          -16.80538268125,
          -16.80526061428571,
          -16.805808758333338,
          -16.80529617692308,
          -16.805723299999997,
          -16.805775344444438
         ]
        },
        {
         "marker": {
          "color": "rgba(195,195,195, 0.75)",
          "size": 6
         },
         "mode": "markers",
         "name": "Cluster 170 Buildings",
         "type": "scatter",
         "x": [
          145.70479236,
          145.70523806,
          145.70509668,
          145.70528486,
          145.70515554285709,
          145.70468101111112,
          145.70496914444448
         ],
         "y": [
          -16.80278766,
          -16.802728339999998,
          -16.80300096,
          -16.80285398,
          -16.802541757142855,
          -16.802967644444443,
          -16.80317797777778
         ]
        },
        {
         "marker": {
          "color": "rgba(220,220,220, 0.75)",
          "size": 6
         },
         "mode": "markers",
         "name": "Cluster 171 Buildings",
         "type": "scatter",
         "x": [
          145.720325,
          145.7199502,
          145.7202051,
          145.72044958571433,
          145.72020261428568,
          145.72020740000005
         ],
         "y": [
          -16.80347262,
          -16.803543659999995,
          -16.8035167,
          -16.80329537142857,
          -16.803270628571433,
          -16.803662311111115
         ]
        },
        {
         "marker": {
          "color": "rgba(245,245,245, 0.75)",
          "size": 6
         },
         "mode": "markers",
         "name": "Cluster 172 Buildings",
         "type": "scatter",
         "x": [
          145.72502158,
          145.72518574,
          145.72484881999995,
          145.72462108000005
         ],
         "y": [
          -16.811973100000003,
          -16.811944039999997,
          -16.81203746,
          -16.811934080000004
         ]
        },
        {
         "marker": {
          "color": "rgba(15,15,15, 0.75)",
          "size": 6
         },
         "mode": "markers",
         "name": "Cluster 173 Buildings",
         "type": "scatter",
         "x": [
          145.7004658153846
         ],
         "y": [
          -16.81148973846154
         ]
        },
        {
         "marker": {
          "color": "rgba(40,40,40, 0.75)",
          "size": 6
         },
         "mode": "markers",
         "name": "Cluster 174 Buildings",
         "type": "scatter",
         "x": [
          145.70486495454546,
          145.70424955384613,
          145.70437516153842,
          145.704804
         ],
         "y": [
          -16.807178772727273,
          -16.807243946153847,
          -16.807125092307693,
          -16.80728542
         ]
        },
        {
         "marker": {
          "color": "rgba(65,65,65, 0.75)",
          "size": 6
         },
         "mode": "markers",
         "name": "Cluster 175 Buildings",
         "type": "scatter",
         "x": [
          145.72158993076926,
          145.72196393999997,
          145.72208498,
          145.72154774,
          145.72184274,
          145.72200696
         ],
         "y": [
          -16.809220492307695,
          -16.80894256,
          -16.809310399999998,
          -16.80894854,
          -16.8093368,
          -16.809462779999997
         ]
        },
        {
         "marker": {
          "color": "rgba(90,90,90, 0.75)",
          "size": 6
         },
         "mode": "markers",
         "name": "Cluster 176 Buildings",
         "type": "scatter",
         "x": [
          145.70446726,
          145.70480532,
          145.70432726,
          145.7046795,
          145.70436731428572,
          145.70451293333338,
          145.70422233333338
         ],
         "y": [
          -16.80301552,
          -16.80327766,
          -16.80317612,
          -16.803419140000006,
          -16.80358454285714,
          -16.803496477777774,
          -16.803272822222226
         ]
        },
        {
         "marker": {
          "color": "rgba(115,115,115, 0.75)",
          "size": 6
         },
         "mode": "markers",
         "name": "Cluster 177 Buildings",
         "type": "scatter",
         "x": [
          145.71991968571433,
          145.71987736666668,
          145.71989055714286,
          145.71986938571428
         ],
         "y": [
          -16.817753,
          -16.817586088888888,
          -16.817953785714288,
          -16.818118199999994
         ]
        },
        {
         "marker": {
          "color": "rgba(140,140,140, 0.75)",
          "size": 6
         },
         "mode": "markers",
         "name": "Cluster 178 Buildings",
         "type": "scatter",
         "x": [
          145.72122084,
          145.72091382,
          145.72117158,
          145.72100674545453,
          145.72105232
         ],
         "y": [
          -16.80587942,
          -16.80597128,
          -16.80600904,
          -16.80629433636364,
          -16.80628416
         ]
        },
        {
         "marker": {
          "color": "rgba(165,165,165, 0.75)",
          "size": 6
         },
         "mode": "markers",
         "name": "Cluster 179 Buildings",
         "type": "scatter",
         "x": [
          145.70383706153842
         ],
         "y": [
          -16.798807384615387
         ]
        },
        {
         "marker": {
          "color": "rgba(190,190,190, 0.75)",
          "size": 6
         },
         "mode": "markers",
         "name": "Cluster 180 Buildings",
         "type": "scatter",
         "x": [
          145.70188268888887,
          145.70161292,
          145.70220176,
          145.70210452857143,
          145.7017188857143,
          145.70189005714286,
          145.70203355555554,
          145.70178908888892
         ],
         "y": [
          -16.808180988888882,
          -16.808409586666667,
          -16.808551279999996,
          -16.808465242857142,
          -16.80829497142857,
          -16.808682400000002,
          -16.80833571111111,
          -16.80855411111111
         ]
        },
        {
         "marker": {
          "color": "rgba(215,215,215, 0.75)",
          "size": 6
         },
         "mode": "markers",
         "name": "Cluster 181 Buildings",
         "type": "scatter",
         "x": [
          145.70072175454547,
          145.70120623999995,
          145.7009806222222,
          145.7006169111111,
          145.70107634545457,
          145.70086112857143
         ],
         "y": [
          -16.803968909090912,
          -16.80380348,
          -16.803781266666665,
          -16.803835911111108,
          -16.803948199999994,
          -16.804087728571428
         ]
        },
        {
         "marker": {
          "color": "rgba(240,240,240, 0.75)",
          "size": 6
         },
         "mode": "markers",
         "name": "Cluster 182 Buildings",
         "type": "scatter",
         "x": [
          145.70212969999997,
          145.70237615714285,
          145.70255614285713,
          145.70203967777778,
          145.70267290000004,
          145.70243675555554,
          145.70225753333332
         ],
         "y": [
          -16.806784545454544,
          -16.807052728571428,
          -16.807276014285712,
          -16.806676644444444,
          -16.807473144444444,
          -16.80719562222222,
          -16.806952344444444
         ]
        },
        {
         "marker": {
          "color": "rgba(10,10,10, 0.75)",
          "size": 6
         },
         "mode": "markers",
         "name": "Cluster 183 Buildings",
         "type": "scatter",
         "x": [
          145.71725896363634,
          145.71698800769232,
          145.71693868,
          145.71713846000003,
          145.71746516000005,
          145.71734362,
          145.71698768571432,
          145.71753557142856,
          145.71741194444445
         ],
         "y": [
          -16.811154799999994,
          -16.811296069230767,
          -16.81110574,
          -16.810877800000004,
          -16.811003879999998,
          -16.81082482,
          -16.810830357142862,
          -16.81087475714286,
          -16.81130637777778
         ]
        },
        {
         "marker": {
          "color": "rgba(35,35,35, 0.75)",
          "size": 6
         },
         "mode": "markers",
         "name": "Cluster 184 Buildings",
         "type": "scatter",
         "x": [
          145.7047381,
          145.70466222
         ],
         "y": [
          -16.82583982,
          -16.82624582
         ]
        },
        {
         "marker": {
          "color": "rgba(60,60,60, 0.75)",
          "size": 6
         },
         "mode": "markers",
         "name": "Cluster 185 Buildings",
         "type": "scatter",
         "x": [
          145.70285666,
          145.70270932,
          145.70286496666668,
          145.70280994285713,
          145.70256160000002
         ],
         "y": [
          -16.80441896,
          -16.80452114,
          -16.80446591666667,
          -16.804370542857143,
          -16.80462208
         ]
        },
        {
         "marker": {
          "color": "rgba(85,85,85, 0.75)",
          "size": 6
         },
         "mode": "markers",
         "name": "Cluster 186 Buildings",
         "type": "scatter",
         "x": [
          145.7039669909091,
          145.70370666,
          145.70393840000003,
          145.70410157777778,
          145.70413828,
          145.70381310000002,
          145.7043123875,
          145.7042651555556,
          145.70406570000003
         ],
         "y": [
          -16.803526863636364,
          -16.80364292,
          -16.803901439999994,
          -16.803383644444445,
          -16.80420896,
          -16.803779242857143,
          -16.803966749999994,
          -16.80376801111111,
          -16.804069385714286
         ]
        },
        {
         "marker": {
          "color": "rgba(110,110,110, 0.75)",
          "size": 6
         },
         "mode": "markers",
         "name": "Cluster 187 Buildings",
         "type": "scatter",
         "x": [
          145.72027308,
          145.72031088,
          145.71987621999997,
          145.72036666,
          145.72034924285714,
          145.71994903333334
         ],
         "y": [
          -16.813131020000004,
          -16.813666540000003,
          -16.81358314,
          -16.81354742,
          -16.813326828571427,
          -16.813364266666667
         ]
        },
        {
         "marker": {
          "color": "rgba(135,135,135, 0.75)",
          "size": 6
         },
         "mode": "markers",
         "name": "Cluster 188 Buildings",
         "type": "scatter",
         "x": [
          145.71885606923078,
          145.71864827142858,
          145.71874198888892,
          145.71884278888888
         ],
         "y": [
          -16.81916953846154,
          -16.81914822857143,
          -16.819397388888888,
          -16.819586544444444
         ]
        },
        {
         "marker": {
          "color": "rgba(160,160,160, 0.75)",
          "size": 6
         },
         "mode": "markers",
         "name": "Cluster 189 Buildings",
         "type": "scatter",
         "x": [
          145.72059818,
          145.72063150000002,
          145.72062710000003,
          145.72069733999996,
          145.7206254
         ],
         "y": [
          -16.816496359999995,
          -16.81592918,
          -16.816257380000003,
          -16.81639106,
          -16.816133214285713
         ]
        },
        {
         "marker": {
          "color": "rgba(185,185,185, 0.75)",
          "size": 6
         },
         "mode": "markers",
         "name": "Cluster 190 Buildings",
         "type": "scatter",
         "x": [
          145.70234111999997,
          145.70250672000003,
          145.70210808,
          145.70243932
         ],
         "y": [
          -16.80286948666667,
          -16.80295,
          -16.80283922,
          -16.80273642
         ]
        },
        {
         "marker": {
          "color": "rgba(210,210,210, 0.75)",
          "size": 6
         },
         "mode": "markers",
         "name": "Cluster 191 Buildings",
         "type": "scatter",
         "x": [
          145.70079370000005,
          145.7012675909091,
          145.70089158181815,
          145.70086469999995,
          145.70113943846158,
          145.7008501769231,
          145.70099696666668,
          145.70107943333338,
          145.70113462222218,
          145.70118089999997
         ],
         "y": [
          -16.816656018181813,
          -16.816740318181818,
          -16.816667972727274,
          -16.817125025,
          -16.817138930769232,
          -16.816922184615382,
          -16.816693722222222,
          -16.816699733333333,
          -16.81694078888889,
          -16.816714311111113
         ]
        },
        {
         "marker": {
          "color": "rgba(235,235,235, 0.75)",
          "size": 6
         },
         "mode": "markers",
         "name": "Cluster 192 Buildings",
         "type": "scatter",
         "x": [
          145.70625556,
          145.70623377777778,
          145.7063460764706
         ],
         "y": [
          -16.8049128,
          -16.805025699999998,
          -16.804672241176473
         ]
        },
        {
         "marker": {
          "color": "rgba(5,5,5, 0.75)",
          "size": 6
         },
         "mode": "markers",
         "name": "Cluster 193 Buildings",
         "type": "scatter",
         "x": [
          145.72130088,
          145.72125327999996,
          145.72122745999997,
          145.72122048,
          145.72134186,
          145.72128425714286,
          145.72127395714287
         ],
         "y": [
          -16.81478204,
          -16.81438916,
          -16.81452938,
          -16.8149302,
          -16.81440978,
          -16.814657185714285,
          -16.81429232857143
         ]
        },
        {
         "marker": {
          "color": "rgba(30,30,30, 0.75)",
          "size": 6
         },
         "mode": "markers",
         "name": "Cluster 194 Buildings",
         "type": "scatter",
         "x": [
          145.70481909999995,
          145.7050493153846,
          145.70491685555555,
          145.70466962
         ],
         "y": [
          -16.809157714285714,
          -16.80952304615385,
          -16.809452122222222,
          -16.80925186
         ]
        },
        {
         "marker": {
          "color": "rgba(55,55,55, 0.75)",
          "size": 6
         },
         "mode": "markers",
         "name": "Cluster 195 Buildings",
         "type": "scatter",
         "x": [
          145.70186068181818,
          145.70175389090906,
          145.70222218181817,
          145.70173765384612,
          145.70213344285713,
          145.70172247777774,
          145.70205395555553
         ],
         "y": [
          -16.81244104545455,
          -16.81284962727273,
          -16.81250771818182,
          -16.812642984615387,
          -16.812799599999998,
          -16.812990222222222,
          -16.81248521111111
         ]
        },
        {
         "marker": {
          "color": "rgba(80,80,80, 0.75)",
          "size": 6
         },
         "mode": "markers",
         "name": "Cluster 196 Buildings",
         "type": "scatter",
         "x": [
          145.72247613846156,
          145.7219978904762,
          145.72239746,
          145.72232086666668,
          145.72197972727272
         ],
         "y": [
          -16.812568446153847,
          -16.812582138095234,
          -16.81290868,
          -16.81316922222222,
          -16.812879390909092
         ]
        },
        {
         "marker": {
          "color": "rgba(105,105,105, 0.75)",
          "size": 6
         },
         "mode": "markers",
         "name": "Cluster 197 Buildings",
         "type": "scatter",
         "x": [
          145.70230314545455,
          145.70210092,
          145.70216808571433,
          145.7020207857143,
          145.70241851428568,
          145.70220622222226
         ],
         "y": [
          -16.813587263636364,
          -16.813253960000004,
          -16.813650071428572,
          -16.813097857142857,
          -16.813463585714285,
          -16.8133801
         ]
        },
        {
         "marker": {
          "color": "rgba(130,130,130, 0.75)",
          "size": 6
         },
         "mode": "markers",
         "name": "Cluster 198 Buildings",
         "type": "scatter",
         "x": [
          145.70264972,
          145.70250848571433,
          145.7023719076923,
          145.70259008
         ],
         "y": [
          -16.815687020000002,
          -16.8155264,
          -16.81589786153846,
          -16.815925755
         ]
        },
        {
         "marker": {
          "color": "rgba(155,155,155, 0.75)",
          "size": 6
         },
         "mode": "markers",
         "name": "Cluster 199 Buildings",
         "type": "scatter",
         "x": [
          145.72009419999998,
          145.71976476000003,
          145.71972384444445
         ],
         "y": [
          -16.81538822,
          -16.81530238,
          -16.81516427777778
         ]
        },
        {
         "marker": {
          "color": "rgba(255, 0, 0, 0.75)",
          "size": 4
         },
         "mode": "markers",
         "name": "Agg Clusters",
         "type": "scatter",
         "x": [
          145.7195541918153,
          145.7044420960119,
          145.72401730980158,
          145.71938268087914,
          145.7011612513525,
          145.7056804153792,
          145.71956833472223,
          145.70346145443003,
          145.701510730771,
          145.7184478560777,
          145.71835043552028,
          145.72399029766697,
          145.7265458306032,
          145.70499350730157,
          145.7020426132102,
          145.72037249872454,
          145.71674642170274,
          145.71819913379787,
          145.7240016330861,
          145.7176673627337,
          145.7037015784521,
          145.72187892427354,
          145.70228879226818,
          145.7050489699567,
          145.72297324525255,
          145.70851931555555,
          145.70451862696225,
          145.71938794454678,
          145.722125398022,
          145.71613154166664,
          145.70186400330087,
          145.71948352288186,
          145.72012936799422,
          145.72057959489823,
          145.70340533505927,
          145.72516719049887,
          145.72286961004002,
          145.71889982920345,
          145.71836295224867,
          145.7220430625929,
          145.70612909773533,
          145.7050858253106,
          145.72354240425926,
          145.7077620871885,
          145.7252051747668,
          145.72069961098416,
          145.7217898930612,
          145.7188122773939,
          145.72131523708995,
          145.72049377195768,
          145.72302523010103,
          145.72291603021475,
          145.7043583857274,
          145.7193270364005,
          145.72052068564705,
          145.7036448357143,
          145.7205253826984,
          145.71767423163297,
          145.71832334000004,
          145.72114700831168,
          145.72277837386594,
          145.71029610410392,
          145.70221577062046,
          145.7185352299292,
          145.70529924397303,
          145.71850622251085,
          145.70058790132754,
          145.7024349902861,
          145.70375311562827,
          145.72007142785472,
          145.70680684789292,
          145.7043267104329,
          145.71726850135644,
          145.72169464244445,
          145.70183577862494,
          145.71910886636365,
          145.70141431867725,
          145.70157105200897,
          145.7007454932554,
          145.72104373285714,
          145.7020774737143,
          145.70043849041974,
          145.70253735068786,
          145.72186510857142,
          145.70417514666667,
          145.7228644706331,
          145.72193030971943,
          145.71879146795604,
          145.70120285053315,
          145.72138976599996,
          145.70873932712956,
          145.70628737874418,
          145.70067366997733,
          145.72391538367313,
          145.7006749188771,
          145.70430492299798,
          145.71958549969116,
          145.70532644606058,
          145.70408927033228,
          145.70425504249997,
          145.7030548120238,
          145.70068720952216,
          145.71953222752165,
          145.718616371746,
          145.70550778204463,
          145.70543009613274,
          145.71645865229024,
          145.70940093035713,
          145.72203755991347,
          145.72406860444445,
          145.7262279443651,
          145.7210830344646,
          145.70155113824902,
          145.72580435103535,
          145.70862741060532,
          145.70842997999998,
          145.70232743494824,
          145.7059309418043,
          145.70062026684798,
          145.7220664930159,
          145.7028747946939,
          145.70554979720978,
          145.72120110892857,
          145.7007598259052,
          145.71681764727273,
          145.70313426874776,
          145.72724859111113,
          145.7229468635344,
          145.7197160245389,
          145.7220879634656,
          145.71935333500002,
          145.72055617179484,
          145.70139127052724,
          145.72452893470083,
          145.7016015555808,
          145.72301957478942,
          145.72113352053185,
          145.72091266632515,
          145.70559518737485,
          145.7257737928889,
          145.722061275,
          145.70760532593255,
          145.70339638938927,
          145.71986949492066,
          145.70076144719854,
          145.723112124127,
          145.70141738019677,
          145.72019038644447,
          145.70244024324649,
          145.7232385146249,
          145.719282336,
          145.7220759171429,
          145.70058416884922,
          145.70458168852608,
          145.72082342121212,
          145.7014106804164,
          145.7209852395873,
          145.72381215962963,
          145.70042258059763,
          145.72235369222355,
          145.70285218359473,
          145.70526581000001,
          145.72419076666668,
          145.701796125,
          145.70050778821846,
          145.719077114321,
          145.72418068106782,
          145.70106724557002,
          145.70317481119127,
          145.70758046543423,
          145.70503109405894,
          145.72022331666668,
          145.724919305,
          145.7004658153846,
          145.7045734174825,
          145.7218393817949,
          145.70448313156464,
          145.71988924880952,
          145.7210730610909,
          145.70383706153842,
          145.70190418559525,
          145.70091050031746,
          145.70235269523806,
          145.71722978810178,
          145.70470016,
          145.70276049790476,
          145.7040342501936,
          145.72018751936508,
          145.71877227960928,
          145.72063590399998,
          145.70234881,
          145.70101991103343,
          145.7062784714161,
          145.7212717391837,
          145.704863722735,
          145.7019263263688,
          145.72223441657542,
          145.70220294556518,
          145.70253004835166,
          145.71986093481482
         ],
         "y": [
          -16.81057733924002,
          -16.815420929677465,
          -16.809044255388887,
          -16.819620570769228,
          -16.817318380619177,
          -16.802640082892413,
          -16.820554607896824,
          -16.80433647858586,
          -16.80913318514739,
          -16.81360205338318,
          -16.815621491887125,
          -16.81205919367697,
          -16.8111915051746,
          -16.82510182888889,
          -16.81091199223597,
          -16.802167266232967,
          -16.81201913122655,
          -16.8128478757326,
          -16.811090223917194,
          -16.81019953604297,
          -16.807433494294838,
          -16.807683275104896,
          -16.81416138759281,
          -16.803930594458876,
          -16.80870782,
          -16.826610617037037,
          -16.802253110893233,
          -16.812611030449958,
          -16.806823986970176,
          -16.809230398205127,
          -16.811726733946614,
          -16.802910051721295,
          -16.81269307318903,
          -16.80860855408403,
          -16.81432272215055,
          -16.811252559682536,
          -16.8075852295038,
          -16.816845346603177,
          -16.812012118227518,
          -16.81482648565882,
          -16.806075443456702,
          -16.805483814577595,
          -16.807477442407404,
          -16.80085263199375,
          -16.807954387642706,
          -16.80756580319414,
          -16.80365483918367,
          -16.817779244242423,
          -16.81243805878307,
          -16.814750418906524,
          -16.81298389405483,
          -16.80377443138811,
          -16.808395726299356,
          -16.811516355973136,
          -16.80950238233987,
          -16.802943777428574,
          -16.810543300119047,
          -16.81140450733316,
          -16.801778900000002,
          -16.80147420727273,
          -16.810952577830253,
          -16.803179713532465,
          -16.803847770014432,
          -16.814434354902332,
          -16.806748921181043,
          -16.811282517085132,
          -16.813606982792127,
          -16.814872685472483,
          -16.81489031263422,
          -16.814115674877346,
          -16.806619488095237,
          -16.81608662393939,
          -16.8124696810101,
          -16.810126637333333,
          -16.807370493401574,
          -16.815930500184706,
          -16.802500214391532,
          -16.803297605935548,
          -16.80326747602886,
          -16.80304356,
          -16.804932488,
          -16.804590942582973,
          -16.81248584362434,
          -16.808533977922078,
          -16.824818033333333,
          -16.810009976655845,
          -16.81556658141414,
          -16.81862840950916,
          -16.81566034671945,
          -16.811307489349204,
          -16.801809097405926,
          -16.80882722103117,
          -16.815316281888276,
          -16.809997321114917,
          -16.808452507464253,
          -16.80629985376599,
          -16.818562870603174,
          -16.798752237171716,
          -16.805220716217487,
          -16.82339509678571,
          -16.815300203769837,
          -16.80635269593664,
          -16.814599129891775,
          -16.81028319650794,
          -16.80957716365723,
          -16.82362456712843,
          -16.811175433106577,
          -16.802589447142857,
          -16.81340829916306,
          -16.808078961269842,
          -16.810044783571428,
          -16.81402956585859,
          -16.80435437285987,
          -16.81197840861111,
          -16.80447368214008,
          -16.82807905,
          -16.808895705493764,
          -16.803831496986138,
          -16.801344038697227,
          -16.814157562380952,
          -16.803354845714285,
          -16.807727321362762,
          -16.813318334285718,
          -16.809413890003334,
          -16.810111881363635,
          -16.805074308959437,
          -16.812248753333332,
          -16.806277178560848,
          -16.816955414931126,
          -16.80268649293651,
          -16.809498605,
          -16.816981725606837,
          -16.80783302621125,
          -16.8067268111803,
          -16.813541842525254,
          -16.809388267568256,
          -16.805363394575497,
          -16.8155394998076,
          -16.804573412161172,
          -16.809205661777778,
          -16.805952560277778,
          -16.804001936289684,
          -16.81592895418803,
          -16.81607918765873,
          -16.805248731750154,
          -16.81196370716049,
          -16.805686066215404,
          -16.81170051666667,
          -16.808063829188033,
          -16.81439712890788,
          -16.813759178666665,
          -16.81089635269841,
          -16.814417282359308,
          -16.80455866997732,
          -16.803962046277057,
          -16.814966795650378,
          -16.806946737460315,
          -16.81277548,
          -16.816964049915825,
          -16.81187888522046,
          -16.81311522212371,
          -16.82750374,
          -16.81445206,
          -16.806422905555557,
          -16.80757133571761,
          -16.81511085195767,
          -16.806035993795096,
          -16.807046575988455,
          -16.8136987622575,
          -16.805541145872763,
          -16.80286547419501,
          -16.803460215185186,
          -16.81197217,
          -16.81148973846154,
          -16.807208307797204,
          -16.809203595384616,
          -16.80332032612245,
          -16.81785276865079,
          -16.80608764727273,
          -16.798807384615387,
          -16.808434286507936,
          -16.803904249240016,
          -16.80705872055246,
          -16.81103051125492,
          -16.826042819999998,
          -16.804479727904763,
          -16.80380524641815,
          -16.81343653587302,
          -16.819325425091577,
          -16.816241438857144,
          -16.80284878166667,
          -16.81682990050311,
          -16.804870247058826,
          -16.814570010612247,
          -16.809346185665447,
          -16.812673772693973,
          -16.81282157547608,
          -16.813405472987018,
          -16.815759259134616,
          -16.81528495925926
         ]
        }
       ],
       "layout": {
        "title": "Yorkey's Knob Building Cluster Coordinates with 200 Clusters",
        "yaxis": {
         "scaleanchor": "x",
         "scaleratio": 1
        }
       }
      },
      "text/html": [
       "<div id=\"e9fbcece-2b05-4039-a729-878377aa5c82\" style=\"height: 525px; width: 100%;\" class=\"plotly-graph-div\"></div><script type=\"text/javascript\">require([\"plotly\"], function(Plotly) { window.PLOTLYENV=window.PLOTLYENV || {};window.PLOTLYENV.BASE_URL=\"https://plot.ly\";Plotly.newPlot(\"e9fbcece-2b05-4039-a729-878377aa5c82\", [{\"name\": \"Cluster 0 Buildings\", \"marker\": {\"color\": \"rgba(25,25,25, 0.75)\", \"size\": 6}, \"mode\": \"markers\", \"y\": [-16.81016736, -16.810327540000007, -16.81018297272727, -16.81017757777778, -16.810449657142858, -16.81027718888889, -16.81098318, -16.811268820000002, -16.810653014285712, -16.81076142857143, -16.810466914285715, -16.810611785714286, -16.81083027142857, -16.81042301111111, -16.811079366666664], \"x\": [145.71928192, 145.71966254, 145.71944411818183, 145.71965485555555, 145.71981104285715, 145.71983798888888, 145.71950168, 145.71970349999998, 145.71967501428568, 145.71925425714286, 145.7196566285714, 145.71926221428572, 145.71968622857142, 145.71925286666666, 145.71962802222222], \"type\": \"scatter\"}, {\"name\": \"Cluster 1 Buildings\", \"marker\": {\"color\": \"rgba(50,50,50, 0.75)\", \"size\": 6}, \"mode\": \"markers\", \"y\": [-16.815322876923076, -16.814936644444444, -16.815034311111113, -16.815164830769227, -16.8156984, -16.815387485714286, -16.815275585714286, -16.81522126666667, -16.815681955555554, -16.815864055555554, -16.815487, -16.815529244444438, -16.815722136363636, -16.815567222222224], \"x\": [145.70479866153846, 145.7047116, 145.7048207, 145.70443711538462, 145.70477169999995, 145.70390914285713, 145.70413001428568, 145.70424472222226, 145.70438822222226, 145.70475532222218, 145.70435957777775, 145.70478936666666, 145.70406545454546, 145.70400774444445], \"type\": \"scatter\"}, {\"name\": \"Cluster 2 Buildings\", \"marker\": {\"color\": \"rgba(75,75,75, 0.75)\", \"size\": 6}, \"mode\": \"markers\", \"y\": [-16.808793804, -16.808733619999998, -16.809132820000002, -16.80902094, -16.808704000000002, -16.808946820000006, -16.809004960000006, -16.809164700000004, -16.80906934, -16.80906602, -16.808839411111116, -16.808820211111108, -16.8092648, -16.809310300000003, -16.80939224, -16.8094441], \"x\": [145.72391608, 145.72373722, 145.72437554, 145.72445332, 145.72412612, 145.72408046, 145.72426282, 145.72399065999997, 145.72370452, 145.72380372, 145.7244845888889, 145.72430432222222, 145.72370488, 145.72388704, 145.72365638000005, 145.72378928571428], \"type\": \"scatter\"}, {\"name\": \"Cluster 3 Buildings\", \"marker\": {\"color\": \"rgba(100,100,100, 0.75)\", \"size\": 6}, \"mode\": \"markers\", \"y\": [-16.81920846, -16.819410457142858, -16.82006164, -16.81941752, -16.81992808, -16.820034319999998, -16.81930648, -16.81965676, -16.82000256, -16.819598857142857, -16.81950421428571, -16.819719728571428, -16.81921834285714], \"x\": [145.71961993999997, 145.7193886285714, 145.71908678, 145.71969384, 145.71915206, 145.71926458000004, 145.71947344, 145.7192693, 145.71962334, 145.71967565714286, 145.71936361428575, 145.7190367285714, 145.71932694285715], \"type\": \"scatter\"}, {\"name\": \"Cluster 4 Buildings\", \"marker\": {\"color\": \"rgba(125,125,125, 0.75)\", \"size\": 6}, \"mode\": \"markers\", \"y\": [-16.81771636, -16.8174306, -16.81744596, -16.816789242857144, -16.81702167142857, -16.81731268181818, -16.817384981818186, -16.81735953333333, -16.817347155555556, -16.817340633333334, -16.817353366666666], \"x\": [145.70078642, 145.7014939, 145.70165660000004, 145.70151864285714, 145.70154870000005, 145.70073612727273, 145.70120056363638, 145.70110342222222, 145.70091935555558, 145.7008106333334, 145.7009994], \"type\": \"scatter\"}, {\"name\": \"Cluster 5 Buildings\", \"marker\": {\"color\": \"rgba(150,150,150, 0.75)\", \"size\": 6}, \"mode\": \"markers\", \"y\": [-16.80240804, -16.802335120000002, -16.80219444, -16.80259826, -16.80211324, -16.80328224285714, -16.802755528571428, -16.803122885714284, -16.80295098888889], \"x\": [145.70560036, 145.70571316000004, 145.70555518, 145.70572006, 145.70576288, 145.7056916, 145.70569288571429, 145.70570675714285, 145.70568085555556], \"type\": \"scatter\"}, {\"name\": \"Cluster 6 Buildings\", \"marker\": {\"color\": \"rgba(175,175,175, 0.75)\", \"size\": 6}, \"mode\": \"markers\", \"y\": [-16.820510579999997, -16.8207212, -16.82028136, -16.82043544, -16.82053614, -16.820431140000004, -16.820863214285716, -16.820657788888884], \"x\": [145.71923698, 145.71952712, 145.71917656, 145.71933230000002, 145.72017224, 145.7195854, 145.72015919999998, 145.71935687777776], \"type\": \"scatter\"}, {\"name\": \"Cluster 7 Buildings\", \"marker\": {\"color\": \"rgba(200,200,200, 0.75)\", \"size\": 6}, \"mode\": \"markers\", \"y\": [-16.80389696, -16.8039948, -16.80425592857143, -16.80416657142857, -16.804163455555553, -16.804198088888892, -16.80435696, -16.804635240000003, -16.80473368, -16.80480042, -16.804499160000002], \"x\": [145.70335396000004, 145.70326108, 145.70296665714287, 145.70335375714288, 145.7031406222222, 145.70352802222226, 145.70363636, 145.70390364, 145.70363589999997, 145.70349088, 145.70380512000003], \"type\": \"scatter\"}, {\"name\": \"Cluster 8 Buildings\", \"marker\": {\"color\": \"rgba(225,225,225, 0.75)\", \"size\": 6}, \"mode\": \"markers\", \"y\": [-16.809203060000005, -16.808933914285713, -16.808656699999997, -16.80881197142857, -16.809081642857144, -16.80931384, -16.8094577, -16.809194257142856, -16.809378185714284, -16.809444342857145, -16.8091031, -16.808990533333333, -16.80871181111111, -16.809583533333335], \"x\": [145.70175276, 145.70155995714288, 145.70132375714286, 145.70143821428573, 145.7016772285714, 145.70148242, 145.70178897142858, 145.7013924, 145.70193034285714, 145.70153588571424, 145.70127367142857, 145.70118863333337, 145.70117606666662, 145.70162992222225], \"type\": \"scatter\"}, {\"name\": \"Cluster 9 Buildings\", \"marker\": {\"color\": \"rgba(250,250,250, 0.75)\", \"size\": 6}, \"mode\": \"markers\", \"y\": [-16.813780279999996, -16.813433081818182, -16.813507499999996, -16.813401842857143, -16.813475814285713, -16.813758585714282, -16.81350505714286, -16.813525114285714, -16.813913133333333, -16.81348456666667, -16.813837611111108], \"x\": [145.71861806, 145.71830047272724, 145.7180742, 145.71787605714286, 145.7186517, 145.7181901142857, 145.7188601285714, 145.71905382857145, 145.71799635555558, 145.71848426666668, 145.71882123333333], \"type\": \"scatter\"}, {\"name\": \"Cluster 10 Buildings\", \"marker\": {\"color\": \"rgba(20,20,20, 0.75)\", \"size\": 6}, \"mode\": \"markers\", \"y\": [-16.81567522, -16.815969680000002, -16.815710022222227, -16.81559426666667, -16.8151388, -16.815342228571428, -16.81621354285714, -16.81598511111111, -16.814964555555555], \"x\": [145.71863764, 145.71856164000005, 145.71843054444446, 145.71829119999995, 145.71828216666663, 145.71818224285715, 145.71825468571433, 145.71830678888892, 145.71820701111108], \"type\": \"scatter\"}, {\"name\": \"Cluster 11 Buildings\", \"marker\": {\"color\": \"rgba(45,45,45, 0.75)\", \"size\": 6}, \"mode\": \"markers\", \"y\": [-16.812258645454545, -16.81224023076923, -16.811810546153847, -16.8120534, -16.81220572, -16.81186376, -16.811936299999996, -16.812258085714287, -16.81184825714286, -16.811812033333336, -16.812249955555554, -16.81217339], \"x\": [145.72389671818183, 145.72369266923076, 145.7240766153846, 145.72350146, 145.72407912, 145.7238733, 145.72443049999995, 145.72428158571432, 145.7242748857143, 145.7237, 145.72453347777778, 145.72354324000003], \"type\": \"scatter\"}, {\"name\": \"Cluster 12 Buildings\", \"marker\": {\"color\": \"rgba(70,70,70, 0.75)\", \"size\": 6}, \"mode\": \"markers\", \"y\": [-16.810751160000002, -16.810723455555557, -16.81142994, -16.81122782, -16.81167602, -16.81103322857143, -16.811084514285714, -16.81102832222222, -16.81123641111111, -16.81172418], \"x\": [145.7265426, 145.72671534444444, 145.72662975666663, 145.72646734, 145.72690194, 145.72639617142858, 145.72657008571431, 145.7262066777778, 145.72632080000002, 145.72670759], \"type\": \"scatter\"}, {\"name\": \"Cluster 13 Buildings\", \"marker\": {\"color\": \"rgba(95,95,95, 0.75)\", \"size\": 6}, \"mode\": \"markers\", \"y\": [-16.824732920000002, -16.82508096, -16.82553322, -16.8251073, -16.82510772, -16.825164660000002, -16.82509118, -16.825143100000002, -16.824955399999997], \"x\": [145.705096, 145.70495956, 145.70538115999997, 145.70452866, 145.70464711999998, 145.70572152, 145.70513946, 145.70479430000003, 145.70467378571428], \"type\": \"scatter\"}, {\"name\": \"Cluster 14 Buildings\", \"marker\": {\"color\": \"rgba(120,120,120, 0.75)\", \"size\": 6}, \"mode\": \"markers\", \"y\": [-16.81060508, -16.81094711818182, -16.81109348181818, -16.811288127272725, -16.810805338461538, -16.81072146, -16.811170211111108, -16.810803311111115, -16.810708277777778, -16.81105247777778, -16.810855800000002, -16.811019955555555, -16.810785259999996], \"x\": [145.70172634, 145.7019689909091, 145.70186768181816, 145.7021581090909, 145.70242740769234, 145.70170589999995, 145.70229424444446, 145.70260098888892, 145.7019444, 145.7016639, 145.70169034444447, 145.70239324444444, 145.70211242000005], \"type\": \"scatter\"}, {\"name\": \"Cluster 15 Buildings\", \"marker\": {\"color\": \"rgba(145,145,145, 0.75)\", \"size\": 6}, \"mode\": \"markers\", \"y\": [-16.802224763636364, -16.80145530833333, -16.801877339999994, -16.802412080000003, -16.802563780000003, -16.80206424, -16.802122100000002, -16.802251428571427, -16.802534355555554], \"x\": [145.72049317272732, 145.71998739166668, 145.72019454000005, 145.72062358, 145.72043266, 145.72062566, 145.7201446, 145.7207750285714, 145.72007585555556], \"type\": \"scatter\"}, {\"name\": \"Cluster 16 Buildings\", \"marker\": {\"color\": \"rgba(170,170,170, 0.75)\", \"size\": 6}, \"mode\": \"markers\", \"y\": [-16.811958620000002, -16.811826059999998, -16.811801879999994, -16.8115934, -16.811696211111116, -16.811911666666667, -16.812500059999998, -16.81232288, -16.812405379999998, -16.81213281428571, -16.81206147142857], \"x\": [145.71681757999997, 145.7170936, 145.71687944, 145.716873, 145.71714386666662, 145.71640047777774, 145.71670942, 145.71635536000005, 145.71657788, 145.71695727142858, 145.71640274285716], \"type\": \"scatter\"}, {\"name\": \"Cluster 17 Buildings\", \"marker\": {\"color\": \"rgba(195,195,195, 0.75)\", \"size\": 6}, \"mode\": \"markers\", \"y\": [-16.81266784, -16.812946600000004, -16.812657345454546, -16.812984236363633, -16.81318161818182, -16.812708941666667, -16.81291594, -16.812686499999998, -16.812803600000002, -16.81299262, -16.813048185714287, -16.812718457142857, -16.8127105], \"x\": [145.71804762000005, 145.71788844, 145.71767460000004, 145.7181545090909, 145.7177553090909, 145.71862585833338, 145.71852548, 145.71820548, 145.71851576, 145.71836434, 145.71855589999996, 145.71842814285716, 145.71784730000005], \"type\": \"scatter\"}, {\"name\": \"Cluster 18 Buildings\", \"marker\": {\"color\": \"rgba(220,220,220, 0.75)\", \"size\": 6}, \"mode\": \"markers\", \"y\": [-16.810818140000002, -16.810914328571428, -16.81104398, -16.810829342857144, -16.81098942857143, -16.810806671428573, -16.810882622222227, -16.811315627272727, -16.811340085714278, -16.811343571428573, -16.811361842857142, -16.81123105, -16.81129622], \"x\": [145.72376186000002, 145.72451912857144, 145.7238833, 145.72396952857142, 145.72430965714287, 145.72359498571427, 145.72414483333333, 145.7238723, 145.72405044285713, 145.72424615714286, 145.7244536142857, 145.72370421250002, 145.72351121], \"type\": \"scatter\"}, {\"name\": \"Cluster 19 Buildings\", \"marker\": {\"color\": \"rgba(245,245,245, 0.75)\", \"size\": 6}, \"mode\": \"markers\", \"y\": [-16.809974320000002, -16.810036, -16.810036, -16.810281879999998, -16.81007984, -16.81026306, -16.809964400000002, -16.81032, -16.810471142857143, -16.810408685714286, -16.810080600000003, -16.810468744444446, -16.80998374444444, -16.809981811111108, -16.80993831111111, -16.810440309090907, -16.8104181, -16.810444699999998], \"x\": [145.71760476, 145.71814608, 145.71799108, 145.71781574000005, 145.71769796, 145.71761608, 145.71746888, 145.71795864, 145.71811430000002, 145.71769511428568, 145.71759864285713, 145.7179261, 145.71712491111109, 145.71783071111108, 145.71735425555553, 145.71735479999995, 145.71717596000005, 145.71753851428576], \"type\": \"scatter\"}, {\"name\": \"Cluster 20 Buildings\", \"marker\": {\"color\": \"rgba(15,15,15, 0.75)\", \"size\": 6}, \"mode\": \"markers\", \"y\": [-16.807065645454546, -16.806926927272727, -16.807217661538466, -16.808016147058822, -16.807979340000006, -16.807395244444443], \"x\": [145.70378031818183, 145.7039166181818, 145.70372516153847, 145.70368437058823, 145.70344958, 145.70365342222226], \"type\": \"scatter\"}, {\"name\": \"Cluster 21 Buildings\", \"marker\": {\"color\": \"rgba(40,40,40, 0.75)\", \"size\": 6}, \"mode\": \"markers\", \"y\": [-16.807392146153852, -16.80755728, -16.80791854, -16.807850499999994, -16.80767712, -16.80749558, -16.8073174, -16.808021259999997, -16.8080453, -16.807500377777778, -16.807740522222225], \"x\": [145.72228516923082, 145.72225418, 145.72219748, 145.72156656, 145.72158032000004, 145.72161649999995, 145.72171218, 145.7215822, 145.72179295555554, 145.72187078888888, 145.72220983333332], \"type\": \"scatter\"}, {\"name\": \"Cluster 22 Buildings\", \"marker\": {\"color\": \"rgba(65,65,65, 0.75)\", \"size\": 6}, \"mode\": \"markers\", \"y\": [-16.81384618181818, -16.813768336363633, -16.814522040000003, -16.814204699999998, -16.814286985714286, -16.81435867142857, -16.814399585714288, -16.813976385714284, -16.81406638888889, -16.814224854545458, -16.814121133333334], \"x\": [145.70254766363638, 145.70270761818185, 145.70193490000003, 145.70225152, 145.70179108571432, 145.70230581428572, 145.70184638571433, 145.70240681428572, 145.70215223333332, 145.7025459909091, 145.70268668888892], \"type\": \"scatter\"}, {\"name\": \"Cluster 23 Buildings\", \"marker\": {\"color\": \"rgba(90,90,90, 0.75)\", \"size\": 6}, \"mode\": \"markers\", \"y\": [-16.803385959999996, -16.803941027272728, -16.804113440000002, -16.80398452, -16.80364518, -16.803708314285718, -16.80385582857143, -16.804462159999996, -16.804278919999998], \"x\": [145.70531648, 145.70512641818183, 145.70512340000002, 145.7047434, 145.70497808, 145.70521627142858, 145.70484810000005, 145.70502258, 145.70506600000004], \"type\": \"scatter\"}, {\"name\": \"Cluster 24 Buildings\", \"marker\": {\"color\": \"rgba(115,115,115, 0.75)\", \"size\": 6}, \"mode\": \"markers\", \"y\": [-16.80854642, -16.80884342, -16.808936179999996, -16.808603920000003, -16.80866832, -16.80868832, -16.80855802, -16.80875118, -16.80874724, -16.808620933333334, -16.808822066666664], \"x\": [145.7229321, 145.72256894, 145.7226608, 145.72335569999998, 145.72275794, 145.72335388000005, 145.72305769999997, 145.72294802, 145.72314153999997, 145.7225810333333, 145.7233480444444], \"type\": \"scatter\"}, {\"name\": \"Cluster 25 Buildings\", \"marker\": {\"color\": \"rgba(140,140,140, 0.75)\", \"size\": 6}, \"mode\": \"markers\", \"y\": [-16.82675598, -16.82718076, -16.82589511111111], \"x\": [145.70835466, 145.70872321999997, 145.70848006666668], \"type\": \"scatter\"}, {\"name\": \"Cluster 26 Buildings\", \"marker\": {\"color\": \"rgba(165,165,165, 0.75)\", \"size\": 6}, \"mode\": \"markers\", \"y\": [-16.802151618181814, -16.801995630769234, -16.802240559999994, -16.80252418, -16.801814599999997, -16.80241014285714, -16.802635044444443], \"x\": [145.7047222909091, 145.70474663846153, 145.70451332, 145.70428296, 145.70484891111113, 145.70440195714292, 145.70411431111108], \"type\": \"scatter\"}, {\"name\": \"Cluster 27 Buildings\", \"marker\": {\"color\": \"rgba(190,190,190, 0.75)\", \"size\": 6}, \"mode\": \"markers\", \"y\": [-16.812318072727273, -16.813146420000002, -16.81254078, -16.812243099999996, -16.812915757142857, -16.812801414285715, -16.81225602857143, -16.812514433333334, -16.812642611111116, -16.812220777777775, -16.813121940000002], \"x\": [145.71961173636362, 145.7193112, 145.71950178, 145.71922816, 145.71950111428572, 145.71949548571428, 145.71940457142858, 145.7191073555556, 145.71953424444442, 145.71907162222226, 145.71950012], \"type\": \"scatter\"}, {\"name\": \"Cluster 28 Buildings\", \"marker\": {\"color\": \"rgba(215,215,215, 0.75)\", \"size\": 6}, \"mode\": \"markers\", \"y\": [-16.80661858, -16.806428880000002, -16.80714966, -16.80660336, -16.80699556, -16.806452685714284, -16.806971746153845, -16.806816100000002, -16.80725118, -16.80660938, -16.80673766, -16.806965279999996, -16.807145560000002, -16.806790185714284], \"x\": [145.72221772, 145.72182096, 145.72183608, 145.72188848000005, 145.72236669999998, 145.72227949999996, 145.72174849230768, 145.72234432, 145.72228872, 145.72242606, 145.72244338000004, 145.72198802, 145.72227764000004, 145.72182949999998], \"type\": \"scatter\"}, {\"name\": \"Cluster 29 Buildings\", \"marker\": {\"color\": \"rgba(240,240,240, 0.75)\", \"size\": 6}, \"mode\": \"markers\", \"y\": [-16.808900686666668, -16.809280446153846, -16.809419300000002, -16.80932116], \"x\": [145.71662944666662, 145.71528719999995, 145.71632118, 145.71628833999995], \"type\": \"scatter\"}, {\"name\": \"Cluster 30 Buildings\", \"marker\": {\"color\": \"rgba(10,10,10, 0.75)\", \"size\": 6}, \"mode\": \"markers\", \"y\": [-16.812113736363635, -16.812032363636366, -16.811438163636364, -16.812050085714286, -16.811408955555557, -16.811503366666667, -16.811698166666666, -16.811569033333335], \"x\": [145.7021906909091, 145.70184790000002, 145.70203795454543, 145.7020174142857, 145.70166702222218, 145.70185923333332, 145.70164714444445, 145.70164466666668], \"type\": \"scatter\"}, {\"name\": \"Cluster 31 Buildings\", \"marker\": {\"color\": \"rgba(35,35,35, 0.75)\", \"size\": 6}, \"mode\": \"markers\", \"y\": [-16.80264235454546, -16.802657409090912, -16.80298384285714, -16.8026473, -16.802871822222222, -16.803074666666664, -16.803492966666667], \"x\": [145.71969244545457, 145.7192902909091, 145.71950615714286, 145.71984145555552, 145.71934481111109, 145.71978745555555, 145.71892204444444], \"type\": \"scatter\"}, {\"name\": \"Cluster 32 Buildings\", \"marker\": {\"color\": \"rgba(60,60,60, 0.75)\", \"size\": 6}, \"mode\": \"markers\", \"y\": [-16.81208514, -16.812952600000006, -16.8131217, -16.812752057142855, -16.812840185714286, -16.812880399999994, -16.812717311111108, -16.81258936666667, -16.813010633333334, -16.812425344444446, -16.812249066666666], \"x\": [145.7200949, 145.71994464, 145.71993650000005, 145.72043281428572, 145.72000687142858, 145.72044583333332, 145.72002115555554, 145.7200146222222, 145.7204479333334, 145.72001976666667, 145.7200580111111], \"type\": \"scatter\"}, {\"name\": \"Cluster 33 Buildings\", \"marker\": {\"color\": \"rgba(85,85,85, 0.75)\", \"size\": 6}, \"mode\": \"markers\", \"y\": [-16.808966488, -16.80883724, -16.80842036, -16.80827116, -16.80863264, -16.808412299999997, -16.80834482, -16.808732340000002, -16.808401519999997, -16.808401500000002, -16.80854064, -16.8085868, -16.80848064, -16.808724571428574, -16.808745599999998, -16.808913933333333, -16.808932866666666], \"x\": [145.72081815200002, 145.720327, 145.72055986, 145.72047046, 145.72043237999995, 145.72048634, 145.72076328, 145.72075316, 145.72096216, 145.72039308, 145.72077966, 145.72097451999997, 145.72045562, 145.72035598571432, 145.72091637777774, 145.72051109999995, 145.71989397777776], \"type\": \"scatter\"}, {\"name\": \"Cluster 34 Buildings\", \"marker\": {\"color\": \"rgba(110,110,110, 0.75)\", \"size\": 6}, \"mode\": \"markers\", \"y\": [-16.814141509090913, -16.81411645, -16.814013246153852, -16.813986840000002, -16.81429449090909, -16.814376016666667, -16.81421168888889, -16.81472146363636, -16.81444087142857, -16.81436486666667, -16.814532611111108, -16.814272033333335, -16.814450455555562, -16.814595566666668], \"x\": [145.7037461909091, 145.70347155, 145.7036106, 145.70371563999996, 145.70387802727268, 145.7036342083333, 145.70333594444443, 145.70306697272727, 145.70289435714287, 145.7030631888889, 145.70336813333338, 145.70320404444442, 145.70347626666666, 145.7032095666667], \"type\": \"scatter\"}, {\"name\": \"Cluster 35 Buildings\", \"marker\": {\"color\": \"rgba(135,135,135, 0.75)\", \"size\": 6}, \"mode\": \"markers\", \"y\": [-16.811083900000003, -16.81093077142857, -16.81086115714286, -16.810931085714284, -16.81146978, -16.811152040000003, -16.81139724, -16.811349, -16.811385542857142, -16.81152936, -16.81107966, -16.811320199999997, -16.811523342857143, -16.811522755555554], \"x\": [145.72563494000005, 145.7251479285714, 145.72470401428572, 145.72486057142856, 145.72476348, 145.72525052, 145.72480832, 145.72522827142856, 145.72498962857142, 145.72515448, 145.72507916, 145.72567454, 145.72572125714285, 145.7253235555556], \"type\": \"scatter\"}, {\"name\": \"Cluster 36 Buildings\", \"marker\": {\"color\": \"rgba(160,160,160, 0.75)\", \"size\": 6}, \"mode\": \"markers\", \"y\": [-16.80753412352941, -16.807649880000003, -16.80726888, -16.80712152, -16.8075495, -16.80743546, -16.80723404, -16.80799536, -16.80780944, -16.807092660000002, -16.807730499999998, -16.807809040000002, -16.80779886666667, -16.808163942857142], \"x\": [145.72282785294118, 145.72296454000005, 145.72300884, 145.72277996, 145.72297202, 145.72299688, 145.722786, 145.72280104, 145.72269592000004, 145.7229888, 145.72270374, 145.7229249, 145.7228779333333, 145.72284611428572], \"type\": \"scatter\"}, {\"name\": \"Cluster 37 Buildings\", \"marker\": {\"color\": \"rgba(185,185,185, 0.75)\", \"size\": 6}, \"mode\": \"markers\", \"y\": [-16.816585800000002, -16.816592179999994, -16.816639379999998, -16.81715884, -16.81653732, -16.817084899999998, -16.816681842857143, -16.817166914285714, -16.817015277777774, -16.816991011111117], \"x\": [145.71876332727268, 145.7189895, 145.71889620000005, 145.71928180000003, 145.71858286000003, 145.71912095714285, 145.71908734285714, 145.71862507142856, 145.71871933333333, 145.7189319], \"type\": \"scatter\"}, {\"name\": \"Cluster 38 Buildings\", \"marker\": {\"color\": \"rgba(210,210,210, 0.75)\", \"size\": 6}, \"mode\": \"markers\", \"y\": [-16.812288560000002, -16.81187996, -16.8122301, -16.81183908, -16.811954800000002, -16.811681720000006, -16.81167454, -16.812247242857143, -16.812281471428573, -16.811832355555556, -16.812225033333334, -16.812010555555556], \"x\": [145.71863452, 145.71819867999997, 145.71789154, 145.71848054, 145.71792408000005, 145.7186459, 145.71848774, 145.71827985714285, 145.71846391428568, 145.71864406666666, 145.71808840000003, 145.71861618888892], \"type\": \"scatter\"}, {\"name\": \"Cluster 39 Buildings\", \"marker\": {\"color\": \"rgba(235,235,235, 0.75)\", \"size\": 6}, \"mode\": \"markers\", \"y\": [-16.81465728181818, -16.81500144, -16.81481112, -16.814844414285712, -16.8150178625, -16.81465612222222, -16.815140344444444, -16.814483300000003], \"x\": [145.72224607272733, 145.7222081, 145.72171018000003, 145.72221862857143, 145.721699975, 145.72176467777774, 145.72220439999995, 145.72229246666666], \"type\": \"scatter\"}, {\"name\": \"Cluster 40 Buildings\", \"marker\": {\"color\": \"rgba(5,5,5, 0.75)\", \"size\": 6}, \"mode\": \"markers\", \"y\": [-16.80599066, -16.80596086363636, -16.80554066923077, -16.805838347058824, -16.80570307777778, -16.806657407692303, -16.80607248, -16.806567085714285, -16.806348400000005], \"x\": [145.7064159, 145.70620727272728, 145.7060716307692, 145.70616834117646, 145.70606917777778, 145.70630026923078, 145.70576018, 145.7061642857143, 145.70600482222218], \"type\": \"scatter\"}, {\"name\": \"Cluster 41 Buildings\", \"marker\": {\"color\": \"rgba(30,30,30, 0.75)\", \"size\": 6}, \"mode\": \"markers\", \"y\": [-16.80529688, -16.8050883, -16.805178625, -16.80561909090909, -16.805499423076924, -16.80556498, -16.805947699999994, -16.80529814, -16.805703822222224, -16.80540642222222, -16.805718576923073], \"x\": [145.7056253, 145.7053141333334, 145.7050950375, 145.7052867181818, 145.7054276307692, 145.7047381, 145.70484661999996, 145.70496936, 145.70463389999995, 145.70484585555556, 145.7051614230769], \"type\": \"scatter\"}, {\"name\": \"Cluster 42 Buildings\", \"marker\": {\"color\": \"rgba(55,55,55, 0.75)\", \"size\": 6}, \"mode\": \"markers\", \"y\": [-16.808028741666664, -16.80698264, -16.80797954, -16.80718182, -16.80729786, -16.80697624, -16.807696999999994, -16.80766546, -16.807487679999998], \"x\": [145.72354815833333, 145.72375812, 145.72332494000003, 145.72364438, 145.72352192, 145.72346546, 145.72368369999998, 145.72343963999995, 145.72349531999996], \"type\": \"scatter\"}, {\"name\": \"Cluster 43 Buildings\", \"marker\": {\"color\": \"rgba(80,80,80, 0.75)\", \"size\": 6}, \"mode\": \"markers\", \"y\": [-16.80094819090909, -16.801320339999997, -16.801005080000003, -16.800766860000003, -16.80112748, -16.800560060000002, -16.8007319, -16.800694600000003, -16.80084972857143, -16.800795533333332, -16.800407633333336, -16.80102417777778], \"x\": [145.70743888181815, 145.70788606000005, 145.70822406, 145.70756014, 145.70772104000002, 145.70787734, 145.70746626, 145.70803302, 145.7081566, 145.70736453333333, 145.70776667777778, 145.70765043333333], \"type\": \"scatter\"}, {\"name\": \"Cluster 44 Buildings\", \"marker\": {\"color\": \"rgba(105,105,105, 0.75)\", \"size\": 6}, \"mode\": \"markers\", \"y\": [-16.807988978260873, -16.80747672, -16.807802900000002, -16.80806786, -16.80760152857143, -16.80845986, -16.808282866666666], \"x\": [145.7252235913043, 145.72500962, 145.72513095999997, 145.72503764, 145.72514381428567, 145.72543222, 145.72545837777776], \"type\": \"scatter\"}, {\"name\": \"Cluster 45 Buildings\", \"marker\": {\"color\": \"rgba(130,130,130, 0.75)\", \"size\": 6}, \"mode\": \"markers\", \"y\": [-16.807477371428572, -16.80712086, -16.80723674, -16.80757532, -16.807377719999998, -16.807790320000002, -16.807528280000003, -16.807978207692305, -16.807921846153842, -16.807651366666665], \"x\": [145.72100501428568, 145.72052486, 145.72052726, 145.72097204000005, 145.72052106, 145.72101424000004, 145.72051317999995, 145.720976, 145.72047260000005, 145.72046985555556], \"type\": \"scatter\"}, {\"name\": \"Cluster 46 Buildings\", \"marker\": {\"color\": \"rgba(155,155,155, 0.75)\", \"size\": 6}, \"mode\": \"markers\", \"y\": [-16.80378982, -16.80393188, -16.803538299999996, -16.803629739999998, -16.803883120000002, -16.80351772857143, -16.803293285714286], \"x\": [145.7217008, 145.72152025999995, 145.72205659999997, 145.72152562000005, 145.7212939, 145.72241797142857, 145.7220141], \"type\": \"scatter\"}, {\"name\": \"Cluster 47 Buildings\", \"marker\": {\"color\": \"rgba(180,180,180, 0.75)\", \"size\": 6}, \"mode\": \"markers\", \"y\": [-16.81762428181818, -16.81777032727273, -16.8177837, -16.81796662, -16.817386579999994, -16.817998499999998, -16.81754588, -16.817551820000002, -16.817987444444444, -16.81817728888889], \"x\": [145.71859063636361, 145.7185559909091, 145.71898163999995, 145.71896036000004, 145.71859456, 145.71911924, 145.71921814, 145.71900913999997, 145.71855337777774, 145.71853968888888], \"type\": \"scatter\"}, {\"name\": \"Cluster 48 Buildings\", \"marker\": {\"color\": \"rgba(205,205,205, 0.75)\", \"size\": 6}, \"mode\": \"markers\", \"y\": [-16.81240724, -16.812599119999998, -16.8123116, -16.81222134, -16.8120425, -16.812081499999998, -16.812763920000002, -16.81262436, -16.812651171428573, -16.81273362857143, -16.812549014285715, -16.812271311111108], \"x\": [145.72149022, 145.72103942, 145.72110904000004, 145.72110072, 145.72122606000005, 145.72156834000003, 145.72145332, 145.72114736, 145.72153531428572, 145.72102028571427, 145.72153724285715, 145.72155552222225], \"type\": \"scatter\"}, {\"name\": \"Cluster 49 Buildings\", \"marker\": {\"color\": \"rgba(230,230,230, 0.75)\", \"size\": 6}, \"mode\": \"markers\", \"y\": [-16.814591979999996, -16.81481106, -16.815077600000002, -16.815019385714287, -16.814684399999997, -16.814408022222224, -16.814866111111108, -16.814532033333332, -16.814763177777778], \"x\": [145.72081936, 145.72078159999998, 145.72073404, 145.72016918571433, 145.72021612857142, 145.72033829999995, 145.72025116666666, 145.72026650000004, 145.72086766666666], \"type\": \"scatter\"}, {\"name\": \"Cluster 50 Buildings\", \"marker\": {\"color\": \"rgba(255,255,255, 0.75)\", \"size\": 6}, \"mode\": \"markers\", \"y\": [-16.813278090909094, -16.81258249090909, -16.813270640000002, -16.81309028, -16.812682059999997, -16.81278434, -16.81311548, -16.812947228571428, -16.813311985714282, -16.812776344444448], \"x\": [145.72300546363638, 145.72292598181818, 145.72338956, 145.72290149999995, 145.72326578000005, 145.72312168, 145.72298008, 145.72290942857143, 145.72284317142856, 145.72290965555555], \"type\": \"scatter\"}, {\"name\": \"Cluster 51 Buildings\", \"marker\": {\"color\": \"rgba(25,25,25, 0.75)\", \"size\": 6}, \"mode\": \"markers\", \"y\": [-16.80332244705882, -16.80394882, -16.803896459999994, -16.804058719999997, -16.80372128571429, -16.803698855555556], \"x\": [145.72320401176472, 145.72289666, 145.72274206, 145.72229134, 145.72308344285713, 145.7232786666667], \"type\": \"scatter\"}, {\"name\": \"Cluster 52 Buildings\", \"marker\": {\"color\": \"rgba(50,50,50, 0.75)\", \"size\": 6}, \"mode\": \"markers\", \"y\": [-16.80790254, -16.80818052, -16.8085733, -16.80838852222222, -16.808229211111108, -16.808357166666664, -16.807986855555555, -16.808487318181818, -16.808593585714288, -16.808863014285713, -16.808790955555555], \"x\": [145.70432608, 145.70468472000005, 145.70473418571427, 145.70396367777778, 145.70449096666667, 145.70456274444442, 145.7042386, 145.70403956363634, 145.70414674285715, 145.70444932857143, 145.70430563333332], \"type\": \"scatter\"}, {\"name\": \"Cluster 53 Buildings\", \"marker\": {\"color\": \"rgba(75,75,75, 0.75)\", \"size\": 6}, \"mode\": \"markers\", \"y\": [-16.81114548, -16.81134968, -16.810980185714286, -16.81152603076923, -16.811639007692307, -16.811864919999998, -16.81166314, -16.81178412, -16.81145274, -16.811758255555556], \"x\": [145.71926944, 145.71918738, 145.71924428571432, 145.71917774615386, 145.71965370769232, 145.71927426, 145.71944116, 145.71927806, 145.71964748, 145.7190968444444], \"type\": \"scatter\"}, {\"name\": \"Cluster 54 Buildings\", \"marker\": {\"color\": \"rgba(100,100,100, 0.75)\", \"size\": 6}, \"mode\": \"markers\", \"y\": [-16.809802041176475, -16.80963266, -16.809309399999997, -16.80926834, -16.80944678, -16.809385459999998, -16.80931314, -16.80952488, -16.80975512222222, -16.809586000000003], \"x\": [145.72037297647063, 145.72020518, 145.72053946, 145.72029884, 145.72091645999996, 145.72034312, 145.72065898, 145.72034044, 145.72072284444445, 145.72080855555558], \"type\": \"scatter\"}, {\"name\": \"Cluster 55 Buildings\", \"marker\": {\"color\": \"rgba(125,125,125, 0.75)\", \"size\": 6}, \"mode\": \"markers\", \"y\": [-16.803246960000006, -16.80312412, -16.802989779999994, -16.802773359999996, -16.80269308, -16.802756985714286, -16.8029765, -16.8031132, -16.80289406, -16.80286972857143], \"x\": [145.7034049, 145.70357946, 145.70341122, 145.70372822, 145.7037742, 145.70399257142859, 145.70371168, 145.7033485, 145.70363302, 145.70386458571429], \"type\": \"scatter\"}, {\"name\": \"Cluster 56 Buildings\", \"marker\": {\"color\": \"rgba(150,150,150, 0.75)\", \"size\": 6}, \"mode\": \"markers\", \"y\": [-16.8103919, -16.81023634, -16.810510779999998, -16.810387900000002, -16.810206666666666, -16.811197, -16.810769999999998, -16.810645814285714], \"x\": [145.72069888, 145.72070144, 145.72065493999997, 145.72030569999998, 145.72039735555555, 145.7204841, 145.72067568888892, 145.72028495714284], \"type\": \"scatter\"}, {\"name\": \"Cluster 57 Buildings\", \"marker\": {\"color\": \"rgba(175,175,175, 0.75)\", \"size\": 6}, \"mode\": \"markers\", \"y\": [-16.811716154545458, -16.811801435294118, -16.8115211, -16.811430440000002, -16.811607000000002, -16.81134964, -16.81120954, -16.810873785714286, -16.811563, -16.810972977777773], \"x\": [145.71742242727268, 145.7176799058824, 145.71770134000005, 145.71748026, 145.71773263999995, 145.71783352000003, 145.71782842, 145.71769875714287, 145.71748395714286, 145.7178810888889], \"type\": \"scatter\"}, {\"name\": \"Cluster 58 Buildings\", \"marker\": {\"color\": \"rgba(200,200,200, 0.75)\", \"size\": 6}, \"mode\": \"markers\", \"y\": [-16.80184244, -16.801715360000006], \"x\": [145.71773106, 145.71891562000005], \"type\": \"scatter\"}, {\"name\": \"Cluster 59 Buildings\", \"marker\": {\"color\": \"rgba(225,225,225, 0.75)\", \"size\": 6}, \"mode\": \"markers\", \"y\": [-16.80173863636364, -16.801412827272728, -16.801229557142864, -16.801502160000002, -16.80139102, -16.80157104285714], \"x\": [145.7217159818182, 145.7205963909091, 145.7209160142857, 145.72082976, 145.72132735999998, 145.72149654285712], \"type\": \"scatter\"}, {\"name\": \"Cluster 60 Buildings\", \"marker\": {\"color\": \"rgba(250,250,250, 0.75)\", \"size\": 6}, \"mode\": \"markers\", \"y\": [-16.81067456, -16.810708685714285, -16.810753511111113, -16.811197054545456, -16.811007639999996, -16.81106638, -16.810682500000002, -16.81129862, -16.811182142857145, -16.811145328571428, -16.810761933333332], \"x\": [145.72263610000002, 145.72279301428574, 145.72302157777776, 145.72290556363637, 145.72258824, 145.72322586, 145.72242994000004, 145.72322791999997, 145.72253138571432, 145.7227344, 145.7224681111111], \"type\": \"scatter\"}, {\"name\": \"Cluster 61 Buildings\", \"marker\": {\"color\": \"rgba(20,20,20, 0.75)\", \"size\": 6}, \"mode\": \"markers\", \"y\": [-16.803555918181818, -16.802945779999998, -16.803288279999997, -16.80333594, -16.8030215, -16.80323222, -16.802984579999997, -16.803410860000003, -16.802867499999998, -16.803154557142857], \"x\": [145.71043621818183, 145.71020886000005, 145.71058776, 145.71037388, 145.71003169999997, 145.71036153999995, 145.71028446, 145.71054964, 145.70992434, 145.71020264285715], \"type\": \"scatter\"}, {\"name\": \"Cluster 62 Buildings\", \"marker\": {\"color\": \"rgba(45,45,45, 0.75)\", \"size\": 6}, \"mode\": \"markers\", \"y\": [-16.803820280000004, -16.80388494, -16.803793219999996, -16.803812, -16.8034423, -16.803546177777775, -16.803647111111108, -16.80391965714286, -16.80402102857143, -16.804158400000002, -16.804280355555562], \"x\": [145.702129, 145.70176116, 145.70191792, 145.70266571428567, 145.70239115714287, 145.70221919999997, 145.70204579999995, 145.70253927142858, 145.70235394285714, 145.7022345888889, 145.7021157222222], \"type\": \"scatter\"}, {\"name\": \"Cluster 63 Buildings\", \"marker\": {\"color\": \"rgba(70,70,70, 0.75)\", \"size\": 6}, \"mode\": \"markers\", \"y\": [-16.81426076, -16.814218840000002, -16.814290484615384, -16.814547005263158, -16.81429638571429, -16.814342214285713, -16.81454499090909, -16.814718980000002, -16.814689533333336], \"x\": [145.71836524, 145.71814178, 145.7187918230769, 145.7186305684211, 145.71899188571427, 145.71859094285716, 145.71833111818182, 145.71816819999998, 145.7188055111111], \"type\": \"scatter\"}, {\"name\": \"Cluster 64 Buildings\", \"marker\": {\"color\": \"rgba(95,95,95, 0.75)\", \"size\": 6}, \"mode\": \"markers\", \"y\": [-16.806348636363634, -16.807014036363636, -16.806771807692307, -16.80689908, -16.807225866666666, -16.806234099999998], \"x\": [145.70517969999997, 145.70532437272723, 145.70513979999996, 145.70526977999995, 145.7056146333333, 145.70526717777776], \"type\": \"scatter\"}, {\"name\": \"Cluster 65 Buildings\", \"marker\": {\"color\": \"rgba(120,120,120, 0.75)\", \"size\": 6}, \"mode\": \"markers\", \"y\": [-16.811041839999998, -16.810989057142855, -16.810976942857142, -16.811275560000002, -16.81131204, -16.81139974, -16.811613320000006, -16.811263559999997, -16.81148312, -16.811482685714285, -16.811269822222222], \"x\": [145.71879968, 145.71861348571431, 145.71843795714284, 145.7184659, 145.71856102, 145.71823114, 145.71829377999995, 145.71829312000003, 145.71841106000005, 145.71871807142855, 145.71874323333333], \"type\": \"scatter\"}, {\"name\": \"Cluster 66 Buildings\", \"marker\": {\"color\": \"rgba(145,145,145, 0.75)\", \"size\": 6}, \"mode\": \"markers\", \"y\": [-16.813460371428572, -16.813137645454546, -16.813831446153845, -16.81383928, -16.81372722857143, -16.813499585714286, -16.813753322222222], \"x\": [145.70058834285715, 145.70028311818183, 145.7007999, 145.70053148000005, 145.70050621428572, 145.70074164285714, 145.70066461111108], \"type\": \"scatter\"}, {\"name\": \"Cluster 67 Buildings\", \"marker\": {\"color\": \"rgba(170,170,170, 0.75)\", \"size\": 6}, \"mode\": \"markers\", \"y\": [-16.814800127272726, -16.814908092307693, -16.814538885714285, -16.814748185714286, -16.8146122375, -16.814679433333332, -16.815054654545452, -16.814800385714285, -16.814929971428572, -16.81519302222222, -16.815334544444443], \"x\": [145.70288935454545, 145.70271188461538, 145.70269775714286, 145.70260068571432, 145.7025500625, 145.70203180000001, 145.70225564545456, 145.70213814285714, 145.7022087714286, 145.70232316666667, 145.70237762222226], \"type\": \"scatter\"}, {\"name\": \"Cluster 68 Buildings\", \"marker\": {\"color\": \"rgba(195,195,195, 0.75)\", \"size\": 6}, \"mode\": \"markers\", \"y\": [-16.814554763636366, -16.814710418181818, -16.81496516153846, -16.81516694, -16.8149974, -16.815048342857143, -16.814931514285714, -16.81510621111111, -16.81473598888889, -16.814783622222222, -16.814847744444442, -16.814835644444447], \"x\": [145.70400116363638, 145.70382172727273, 145.70398804615385, 145.70354996, 145.70326784285714, 145.70382261428568, 145.703399, 145.70370193333332, 145.70408997777776, 145.70366575555556, 145.70419230000005, 145.70353706666666], \"type\": \"scatter\"}, {\"name\": \"Cluster 69 Buildings\", \"marker\": {\"color\": \"rgba(220,220,220, 0.75)\", \"size\": 6}, \"mode\": \"markers\", \"y\": [-16.814201880000002, -16.813995745454545, -16.8141293, -16.814001457142858, -16.814252900000003, -16.814112766666668], \"x\": [145.71982884, 145.72034186363638, 145.7198123, 145.71983278571423, 145.72030889999996, 145.72030387777778], \"type\": \"scatter\"}, {\"name\": \"Cluster 70 Buildings\", \"marker\": {\"color\": \"rgba(245,245,245, 0.75)\", \"size\": 6}, \"mode\": \"markers\", \"y\": [-16.806457300000005, -16.806362580000002, -16.80625972, -16.806511628571428, -16.80705315555555, -16.807072544444445], \"x\": [145.70672813529413, 145.70661022000004, 145.70673563999995, 145.70688441428572, 145.70678203333333, 145.70710064444444], \"type\": \"scatter\"}, {\"name\": \"Cluster 71 Buildings\", \"marker\": {\"color\": \"rgba(15,15,15, 0.75)\", \"size\": 6}, \"mode\": \"markers\", \"y\": [-16.815860172727273, -16.816159085714286, -16.816018911111108, -16.816307481818182, -16.816177418181816, -16.816242857142857, -16.815868728571427, -16.81601542857143, -16.816003199999994, -16.816212955555557], \"x\": [145.70433003636361, 145.70469755714285, 145.70473582222226, 145.70471203636362, 145.70397323636362, 145.7042959285714, 145.70405404285714, 145.70432409999998, 145.70401258888887, 145.70413175555555], \"type\": \"scatter\"}, {\"name\": \"Cluster 72 Buildings\", \"marker\": {\"color\": \"rgba(40,40,40, 0.75)\", \"size\": 6}, \"mode\": \"markers\", \"y\": [-16.8122215, -16.81212602, -16.812181699999996, -16.812175657142856, -16.81265176, -16.81269204, -16.812856240000002, -16.812574419999994, -16.81254297142857, -16.812527871428568, -16.81261631111111], \"x\": [145.71770261999995, 145.71718944, 145.71733508, 145.71752165714287, 145.71703938000005, 145.71696418, 145.71741682, 145.71729366, 145.71690642857143, 145.71711207142857, 145.71747217777775], \"type\": \"scatter\"}, {\"name\": \"Cluster 73 Buildings\", \"marker\": {\"color\": \"rgba(65,65,65, 0.75)\", \"size\": 6}, \"mode\": \"markers\", \"y\": [-16.809801139999998, -16.81024434, -16.80974278, -16.810113339999994, -16.810169000000002, -16.8101875, -16.809977744444446, -16.809711188888887, -16.8106492, -16.810670140000006], \"x\": [145.72160682, 145.72191378, 145.72191526, 145.72197652, 145.72152826, 145.72139388, 145.72200932222222, 145.72145322222227, 145.72148539999995, 145.72166396], \"type\": \"scatter\"}, {\"name\": \"Cluster 74 Buildings\", \"marker\": {\"color\": \"rgba(90,90,90, 0.75)\", \"size\": 6}, \"mode\": \"markers\", \"y\": [-16.807070663636367, -16.807260993333333, -16.807470520000006, -16.807157, -16.807306742857143, -16.807429071428572, -16.807492514285716, -16.80760188888889, -16.8077184, -16.80715958888889, -16.8069867, -16.807791837499998], \"x\": [145.70146521818182, 145.70201436666667, 145.70206804, 145.70162298571432, 145.7017078, 145.70220091428567, 145.70176167142856, 145.7019738222222, 145.7018373111111, 145.70188616666667, 145.70178782222226, 145.70170322500005], \"type\": \"scatter\"}, {\"name\": \"Cluster 75 Buildings\", \"marker\": {\"color\": \"rgba(115,115,115, 0.75)\", \"size\": 6}, \"mode\": \"markers\", \"y\": [-16.81619945454545, -16.815995700000002, -16.81603194, -16.81578012, -16.815647814285715, -16.816214400000003, -16.815762928571427, -16.8161776, -16.815723600000002, -16.815771444444447], \"x\": [145.71926076363638, 145.71897713999996, 145.71879704, 145.71958632, 145.71883908571428, 145.71889002857142, 145.71940622857144, 145.71908965714286, 145.71901136666668, 145.7192310333334], \"type\": \"scatter\"}, {\"name\": \"Cluster 76 Buildings\", \"marker\": {\"color\": \"rgba(140,140,140, 0.75)\", \"size\": 6}, \"mode\": \"markers\", \"y\": [-16.80242872, -16.80264288, -16.80236994, -16.802523639999997, -16.80229232857143, -16.802743777777778], \"x\": [145.70186574, 145.70117578000003, 145.70139844, 145.70132906, 145.70167011428572, 145.70104677777778], \"type\": \"scatter\"}, {\"name\": \"Cluster 77 Buildings\", \"marker\": {\"color\": \"rgba(165,165,165, 0.75)\", \"size\": 6}, \"mode\": \"markers\", \"y\": [-16.80315691818182, -16.802973780000002, -16.8035803, -16.803459628571428, -16.80286057777778, -16.803062599999997, -16.80353336, -16.803709299999998, -16.803341988888892], \"x\": [145.7018886636364, 145.70149814, 145.70149745999996, 145.70163891428572, 145.70169372222222, 145.7013554, 145.70139466, 145.70138828571433, 145.70178422222222], \"type\": \"scatter\"}, {\"name\": \"Cluster 78 Buildings\", \"marker\": {\"color\": \"rgba(190,190,190, 0.75)\", \"size\": 6}, \"mode\": \"markers\", \"y\": [-16.80299366363636, -16.802870063636366, -16.80305516, -16.80319874, -16.80341212857143, -16.80342886, -16.803162399999998, -16.803676944444447, -16.803344744444445, -16.803532055555557], \"x\": [145.70078544545453, 145.70091689090913, 145.70061404, 145.70044854, 145.70029651428572, 145.70088674, 145.70117292857142, 145.70049427777778, 145.70108458888888, 145.70075496666666], \"type\": \"scatter\"}, {\"name\": \"Cluster 79 Buildings\", \"marker\": {\"color\": \"rgba(215,215,215, 0.75)\", \"size\": 6}, \"mode\": \"markers\", \"y\": [-16.8028685, -16.80340154, -16.8026414, -16.8032628], \"x\": [145.72135646, 145.72095386, 145.72105504, 145.72080957142856], \"type\": \"scatter\"}, {\"name\": \"Cluster 80 Buildings\", \"marker\": {\"color\": \"rgba(240,240,240, 0.75)\", \"size\": 6}, \"mode\": \"markers\", \"y\": [-16.80468566, -16.8048184, -16.80492988, -16.805168099999996, -16.805060400000002], \"x\": [145.70234680000002, 145.70223742857144, 145.702079, 145.70178416000005, 145.70193998], \"type\": \"scatter\"}, {\"name\": \"Cluster 81 Buildings\", \"marker\": {\"color\": \"rgba(10,10,10, 0.75)\", \"size\": 6}, \"mode\": \"markers\", \"y\": [-16.805107560000003, -16.804398072727274, -16.8046538, -16.80473728, -16.80427042, -16.80488014285714, -16.804096042857143, -16.80458422222222], \"x\": [145.70035825999997, 145.7005074090909, 145.70074038823532, 145.70028792, 145.70034330000001, 145.70044184285715, 145.70026371428568, 145.70056508888888], \"type\": \"scatter\"}, {\"name\": \"Cluster 82 Buildings\", \"marker\": {\"color\": \"rgba(35,35,35, 0.75)\", \"size\": 6}, \"mode\": \"markers\", \"y\": [-16.812173122222227, -16.812187966666666, -16.812775271428574, -16.812537499999998, -16.81253877142857, -16.812702429999998], \"x\": [145.70255018888892, 145.7027168666667, 145.70238098571426, 145.7023911714286, 145.70259637142857, 145.70258852], \"type\": \"scatter\"}, {\"name\": \"Cluster 83 Buildings\", \"marker\": {\"color\": \"rgba(60,60,60, 0.75)\", \"size\": 6}, \"mode\": \"markers\", \"y\": [-16.80841002, -16.80842446, -16.80861096, -16.80849522, -16.808439200000002, -16.808582379999994, -16.808449259999996, -16.80855234, -16.80863126, -16.808590357142858, -16.8086883], \"x\": [145.72157642000005, 145.72180782, 145.72201234000005, 145.72223164, 145.72193244, 145.72159942, 145.72213042, 145.72171436, 145.72181292, 145.7214993285714, 145.7221990857143], \"type\": \"scatter\"}, {\"name\": \"Cluster 84 Buildings\", \"marker\": {\"color\": \"rgba(85,85,85, 0.75)\", \"size\": 6}, \"mode\": \"markers\", \"y\": [-16.825110940000002, -16.82504026, -16.8243029], \"x\": [145.7042848, 145.70391764, 145.70432300000004], \"type\": \"scatter\"}, {\"name\": \"Cluster 85 Buildings\", \"marker\": {\"color\": \"rgba(110,110,110, 0.75)\", \"size\": 6}, \"mode\": \"markers\", \"y\": [-16.80991182, -16.80975546363636, -16.81003212, -16.809866039999996, -16.809860719999996, -16.81003382, -16.80982752, -16.80984292, -16.81016654, -16.81005002, -16.80983404, -16.810279259999998, -16.81032545714286, -16.810097957142858, -16.810337914285718, -16.809938014285713], \"x\": [145.72260935999995, 145.72245922727276, 145.72253642, 145.72321786000003, 145.72315182, 145.72289594, 145.72290912, 145.72306557999997, 145.72254006000003, 145.72297472, 145.72299002, 145.72247256, 145.72269391428568, 145.72315127142858, 145.72313851428572, 145.72302514285715], \"type\": \"scatter\"}, {\"name\": \"Cluster 86 Buildings\", \"marker\": {\"color\": \"rgba(135,135,135, 0.75)\", \"size\": 6}, \"mode\": \"markers\", \"y\": [-16.815221172727274, -16.815810719999998, -16.815348980000003, -16.815755560000003, -16.81573732, -16.815665860000006, -16.81549784, -16.81561988, -16.8154419], \"x\": [145.7217494363636, 145.72196314, 145.72186522, 145.72163045999997, 145.722197, 145.72168886, 145.72240352, 145.72219434000004, 145.72168081111113], \"type\": \"scatter\"}, {\"name\": \"Cluster 87 Buildings\", \"marker\": {\"color\": \"rgba(160,160,160, 0.75)\", \"size\": 6}, \"mode\": \"markers\", \"y\": [-16.81831908, -16.818496371428573, -16.818853240000006, -16.818489185714288, -16.818366744444447, -16.818549244444444, -16.818797184615384, -16.818735957142856, -16.81873894285714, -16.818938144444445], \"x\": [145.71900713999997, 145.7192327857143, 145.7189228, 145.71893587142858, 145.7184708888889, 145.71850174444444, 145.71905445384616, 145.71844775714285, 145.71886847142858, 145.71847276666668], \"type\": \"scatter\"}, {\"name\": \"Cluster 88 Buildings\", \"marker\": {\"color\": \"rgba(185,185,185, 0.75)\", \"size\": 6}, \"mode\": \"markers\", \"y\": [-16.81572972, -16.815446142857144, -16.815406885714285, -16.81544921111111, -16.815852586666665, -16.815746554545456, -16.815719627272728, -16.81578605384615, -16.815806338461538], \"x\": [145.70110472000005, 145.70127315714285, 145.70096595714287, 145.70112380000003, 145.70178436666666, 145.70093192727273, 145.70076337272727, 145.70126497692306, 145.7016133769231], \"type\": \"scatter\"}, {\"name\": \"Cluster 89 Buildings\", \"marker\": {\"color\": \"rgba(210,210,210, 0.75)\", \"size\": 6}, \"mode\": \"markers\", \"y\": [-16.81170886, -16.811079639999996, -16.810989380000002, -16.810765416666666, -16.811614300000002, -16.811344185714287, -16.811604011111108, -16.81152156666667, -16.811294677777774, -16.811152855555555], \"x\": [145.72161502, 145.72169372, 145.72127591999995, 145.72127966666667, 145.72132582857142, 145.72122507142856, 145.72113323333332, 145.7215605888889, 145.72156662222218, 145.7212219888889], \"type\": \"scatter\"}, {\"name\": \"Cluster 90 Buildings\", \"marker\": {\"color\": \"rgba(235,235,235, 0.75)\", \"size\": 6}, \"mode\": \"markers\", \"y\": [-16.80156380909091, -16.801706176923076, -16.801849699999998, -16.80184196, -16.801317140000002, -16.80169966, -16.80198484, -16.80144182, -16.80185147142857, -16.80214094, -16.802015680000004, -16.80229597142857], \"x\": [145.70878238181817, 145.70830319230768, 145.7090354, 145.70910562, 145.70849928, 145.70891125999995, 145.70915054, 145.70862416, 145.70844662857144, 145.70868586, 145.70853166, 145.70879594285714], \"type\": \"scatter\"}, {\"name\": \"Cluster 91 Buildings\", \"marker\": {\"color\": \"rgba(5,5,5, 0.75)\", \"size\": 6}, \"mode\": \"markers\", \"y\": [-16.808716146666665, -16.80853862727273, -16.80921260769231, -16.80866988, -16.809419394117647, -16.808847214285713, -16.808767785714284, -16.8084461125], \"x\": [145.70592364666666, 145.7062169181818, 145.70632669999995, 145.70607774, 145.70620024117648, 145.70658388571428, 145.7066463857143, 145.7063235125], \"type\": \"scatter\"}, {\"name\": \"Cluster 92 Buildings\", \"marker\": {\"color\": \"rgba(30,30,30, 0.75)\", \"size\": 6}, \"mode\": \"markers\", \"y\": [-16.81538828, -16.815084609090906, -16.81499414444444, -16.815011488888892, -16.81536042857143, -16.81568642222222, -16.8156886], \"x\": [145.70061732, 145.70102670000003, 145.70069125555554, 145.70083723333337, 145.70047631428568, 145.70060484444446, 145.70046202222224], \"type\": \"scatter\"}, {\"name\": \"Cluster 93 Buildings\", \"marker\": {\"color\": \"rgba(55,55,55, 0.75)\", \"size\": 6}, \"mode\": \"markers\", \"y\": [-16.8096262, -16.80980897272727, -16.810006469230768, -16.81018093333333, -16.81034082, -16.80988934, -16.810318119999998, -16.80987994, -16.80980872, -16.80982002, -16.810363542857143, -16.8100828, -16.81023312857143, -16.809603488888882], \"x\": [145.7236917090909, 145.7236645181818, 145.72372056923075, 145.72377472000005, 145.72369512666668, 145.72437040000003, 145.72408345999997, 145.72379073999997, 145.72379904, 145.72386212, 145.7239865, 145.72435397142857, 145.72414708571432, 145.72387541111112], \"type\": \"scatter\"}, {\"name\": \"Cluster 94 Buildings\", \"marker\": {\"color\": \"rgba(80,80,80, 0.75)\", \"size\": 6}, \"mode\": \"markers\", \"y\": [-16.808076309090907, -16.808418142857143, -16.808180385714284, -16.808541814285714, -16.808307966666664, -16.80887254545455, -16.808742245454546, -16.80828300909091, -16.8086189, -16.808510985714285, -16.808425277777776], \"x\": [145.70085423636363, 145.70046282857143, 145.70074577142856, 145.7003382285714, 145.70061711111111, 145.70043671818183, 145.70053115454547, 145.70103066363637, 145.7006724285714, 145.70080810000005, 145.7009268666667], \"type\": \"scatter\"}, {\"name\": \"Cluster 95 Buildings\", \"marker\": {\"color\": \"rgba(105,105,105, 0.75)\", \"size\": 6}, \"mode\": \"markers\", \"y\": [-16.805855855555556, -16.805950488888882, -16.806397781818184, -16.806487842857145, -16.80627712857143, -16.806227899999996, -16.806134444444446, -16.806646484615385, -16.80672075714286], \"x\": [145.70423184444445, 145.70409206666668, 145.70445226363637, 145.70430338571427, 145.70457045714286, 145.70430023333333, 145.7044763, 145.7042266846154, 145.70409107142856], \"type\": \"scatter\"}, {\"name\": \"Cluster 96 Buildings\", \"marker\": {\"color\": \"rgba(130,130,130, 0.75)\", \"size\": 6}, \"mode\": \"markers\", \"y\": [-16.81887802, -16.8181767, -16.81843198, -16.81853974, -16.818844919999997, -16.818295957142855, -16.818398057142858, -16.818519742857145, -16.818733955555555, -16.818809633333338], \"x\": [145.71972196000004, 145.71954091818182, 145.71953938, 145.71951739999997, 145.71925418, 145.71978897142859, 145.71943810000002, 145.71975174285708, 145.7198209222222, 145.7194814222222], \"type\": \"scatter\"}, {\"name\": \"Cluster 97 Buildings\", \"marker\": {\"color\": \"rgba(155,155,155, 0.75)\", \"size\": 6}, \"mode\": \"markers\", \"y\": [-16.798944618181814, -16.798558359999998, -16.798753733333335], \"x\": [145.70486191818182, 145.70563972, 145.7054777], \"type\": \"scatter\"}, {\"name\": \"Cluster 98 Buildings\", \"marker\": {\"color\": \"rgba(180,180,180, 0.75)\", \"size\": 6}, \"mode\": \"markers\", \"y\": [-16.805393860000002, -16.80501408, -16.805145585714286, -16.805194509090914, -16.805471877777773, -16.804932511111115, -16.80520004615385, -16.80530677333333, -16.805137100000003, -16.80504822, -16.80527426, -16.80552977142857], \"x\": [145.70419464, 145.70404528, 145.70388677142859, 145.7036931090909, 145.70398207777774, 145.70423797777778, 145.70445433076927, 145.70434430000003, 145.7040491, 145.70444074, 145.70390116, 145.70384175714287], \"type\": \"scatter\"}, {\"name\": \"Cluster 99 Buildings\", \"marker\": {\"color\": \"rgba(205,205,205, 0.75)\", \"size\": 6}, \"mode\": \"markers\", \"y\": [-16.822938880000002, -16.8230915, -16.82349826, -16.823505219999998, -16.823633899999994, -16.823268759999998, -16.82338894, -16.823835314285713], \"x\": [145.70430038, 145.70429043999997, 145.70452817999995, 145.7041621, 145.70415645999995, 145.70426356, 145.70414941999996, 145.7041898], \"type\": \"scatter\"}, {\"name\": \"Cluster 100 Buildings\", \"marker\": {\"color\": \"rgba(230,230,230, 0.75)\", \"size\": 6}, \"mode\": \"markers\", \"y\": [-16.8155238, -16.815263657142857, -16.815251928571428, -16.815334766666666, -16.81534873333333, -16.815077177777773, -16.815167200000005, -16.815434366666665], \"x\": [145.70295532, 145.70341190000005, 145.70283334285713, 145.70329295555555, 145.70269319999997, 145.70311397777778, 145.70301072222225, 145.7031270777778], \"type\": \"scatter\"}, {\"name\": \"Cluster 101 Buildings\", \"marker\": {\"color\": \"rgba(255,255,255, 0.75)\", \"size\": 6}, \"mode\": \"markers\", \"y\": [-16.80603220909091, -16.806376399999998, -16.806201254545456, -16.80629862, -16.806358, -16.806100679999997, -16.80607355714286, -16.806549142857143, -16.806648225, -16.806483, -16.806758566666666], \"x\": [145.70079046363637, 145.70095297272732, 145.70074561818183, 145.70054350000004, 145.70032164, 145.70095796, 145.70064282857143, 145.70072552857144, 145.7005630375, 145.7008714222222, 145.70044433333334], \"type\": \"scatter\"}, {\"name\": \"Cluster 102 Buildings\", \"marker\": {\"color\": \"rgba(25,25,25, 0.75)\", \"size\": 6}, \"mode\": \"markers\", \"y\": [-16.81438462, -16.81474874, -16.814329280000006, -16.814402066666666, -16.81481357272727, -16.814954645454545, -16.814594228571426, -16.814565885714284], \"x\": [145.71938244, 145.7193033, 145.71921892, 145.71981716666667, 145.71976493636362, 145.71969819999998, 145.7197725, 145.71930035714286], \"type\": \"scatter\"}, {\"name\": \"Cluster 103 Buildings\", \"marker\": {\"color\": \"rgba(50,50,50, 0.75)\", \"size\": 6}, \"mode\": \"markers\", \"y\": [-16.81002208, -16.81015428, -16.810529199999998, -16.81038742, -16.81004808, -16.8105468, -16.810597180000002, -16.810131214285715, -16.810132514285716], \"x\": [145.71849509999996, 145.71853026, 145.71846574, 145.718579, 145.71832688, 145.71883784, 145.71871524, 145.71870429999996, 145.71889298571432], \"type\": \"scatter\"}, {\"name\": \"Cluster 104 Buildings\", \"marker\": {\"color\": \"rgba(75,75,75, 0.75)\", \"size\": 6}, \"mode\": \"markers\", \"y\": [-16.809130542857144, -16.809182444444446, -16.80972065454545, -16.80938755384615, -16.809577653846155, -16.80993043846154, -16.80991062, -16.80951732857143, -16.8096535, -16.8097609], \"x\": [145.70562160000003, 145.70525590000003, 145.70587110909094, 145.70542528461542, 145.70568727692307, 145.70540463076927, 145.70583700000003, 145.70552268571427, 145.70517502222222, 145.70527731111108], \"type\": \"scatter\"}, {\"name\": \"Cluster 105 Buildings\", \"marker\": {\"color\": \"rgba(100,100,100, 0.75)\", \"size\": 6}, \"mode\": \"markers\", \"y\": [-16.823166427272728, -16.82328214, -16.823687045454548, -16.823490080000006, -16.823924400000006, -16.82409414, -16.823376199999995, -16.824081542857147, -16.823519128571427], \"x\": [145.70582608181817, 145.70575775999995, 145.7051494090909, 145.70515686000005, 145.70577148, 145.70549506000003, 145.70514350000005, 145.70513675714284, 145.70543395714284], \"type\": \"scatter\"}, {\"name\": \"Cluster 106 Buildings\", \"marker\": {\"color\": \"rgba(125,125,125, 0.75)\", \"size\": 6}, \"mode\": \"markers\", \"y\": [-16.8106362, -16.81100749333333, -16.81170532, -16.81153212, -16.811159742857143, -16.8108243, -16.81136285555555], \"x\": [145.71648076, 145.71646346, 145.71639828, 145.71643622, 145.71646074285715, 145.71649251428568, 145.71647858888892], \"type\": \"scatter\"}, {\"name\": \"Cluster 107 Buildings\", \"marker\": {\"color\": \"rgba(150,150,150, 0.75)\", \"size\": 6}, \"mode\": \"markers\", \"y\": [-16.8022887, -16.80243844, -16.80259714, -16.80270626, -16.802699920000002, -16.802429800000002, -16.80299026, -16.802565057142857], \"x\": [145.70946845999995, 145.70953712, 145.70965372, 145.70977966, 145.70921630000004, 145.70897378, 145.70946756, 145.70911084285714], \"type\": \"scatter\"}, {\"name\": \"Cluster 108 Buildings\", \"marker\": {\"color\": \"rgba(175,175,175, 0.75)\", \"size\": 6}, \"mode\": \"markers\", \"y\": [-16.813584040000002, -16.81350794, -16.813187300000006, -16.81355936, -16.81331728, -16.81344362, -16.81356082857143, -16.81342941111111, -16.813411399999996, -16.813079044444443, -16.813411066666667], \"x\": [145.72230456, 145.7217889, 145.72192452, 145.72188552000003, 145.72195338, 145.72211555999996, 145.72205508571432, 145.72189912222225, 145.72238613333334, 145.7219144111111, 145.72218596666667], \"type\": \"scatter\"}, {\"name\": \"Cluster 109 Buildings\", \"marker\": {\"color\": \"rgba(200,200,200, 0.75)\", \"size\": 6}, \"mode\": \"markers\", \"y\": [-16.80815634, -16.8080907, -16.80813872, -16.80800532, -16.8078857, -16.80823818, -16.80791444444445, -16.808202285714284], \"x\": [145.72426534000004, 145.72378650000005, 145.72411609999997, 145.72395822, 145.72387419999998, 145.72394432, 145.72414335555558, 145.7244608], \"type\": \"scatter\"}, {\"name\": \"Cluster 110 Buildings\", \"marker\": {\"color\": \"rgba(225,225,225, 0.75)\", \"size\": 6}, \"mode\": \"markers\", \"y\": [-16.809898999999998, -16.80974124, -16.81030494, -16.810174600000003, -16.80986506, -16.810029399999998, -16.81008042857143, -16.810263600000006], \"x\": [145.72630678000004, 145.72622344, 145.7262659, 145.72616010000002, 145.72599924000005, 145.72608176, 145.72636045714285, 145.7264258777778], \"type\": \"scatter\"}, {\"name\": \"Cluster 111 Buildings\", \"marker\": {\"color\": \"rgba(250,250,250, 0.75)\", \"size\": 6}, \"mode\": \"markers\", \"y\": [-16.81376048, -16.814399536363634, -16.813997540000006, -16.81378788, -16.814167480000002, -16.8138908, -16.81388782, -16.814238944444444, -16.814064000000002, -16.814101177777776], \"x\": [145.72096904, 145.7208476090909, 145.7209274, 145.72126985999995, 145.72134692000003, 145.72141074, 145.72092981999995, 145.72085348888888, 145.72134269999998, 145.72093276666666], \"type\": \"scatter\"}, {\"name\": \"Cluster 112 Buildings\", \"marker\": {\"color\": \"rgba(20,20,20, 0.75)\", \"size\": 6}, \"mode\": \"markers\", \"y\": [-16.80413056, -16.804174879999998, -16.804222319999994, -16.80422332, -16.804531920000002, -16.804526700000004, -16.804035014285713, -16.804405890909095, -16.804610507692303, -16.80439136, -16.80464562857143], \"x\": [145.70146456000003, 145.70173574, 145.70165294, 145.70131696, 145.70120991999997, 145.70181818000003, 145.70165452857142, 145.7011064090909, 145.70166052307692, 145.70193066, 145.7015121], \"type\": \"scatter\"}, {\"name\": \"Cluster 113 Buildings\", \"marker\": {\"color\": \"rgba(45,45,45, 0.75)\", \"size\": 6}, \"mode\": \"markers\", \"y\": [-16.811746672727274, -16.81182622727273, -16.8121399, -16.81201386, -16.81205428, -16.81183694, -16.812016777777778, -16.812192611111108], \"x\": [145.7258079090909, 145.7259983636364, 145.72562608, 145.72607606, 145.72556912, 145.72584832, 145.7253739777778, 145.72613497777778], \"type\": \"scatter\"}, {\"name\": \"Cluster 114 Buildings\", \"marker\": {\"color\": \"rgba(70,70,70, 0.75)\", \"size\": 6}, \"mode\": \"markers\", \"y\": [-16.80451702727273, -16.804545284615386, -16.804430766666666, -16.80449384285714, -16.804424771428568, -16.804430399999998], \"x\": [145.7086788909091, 145.70884666923078, 145.70905090666662, 145.70838982857143, 145.70853245714287, 145.7082657111111], \"type\": \"scatter\"}, {\"name\": \"Cluster 115 Buildings\", \"marker\": {\"color\": \"rgba(95,95,95, 0.75)\", \"size\": 6}, \"mode\": \"markers\", \"y\": [-16.827736899999998, -16.82781842, -16.82822636, -16.828533899999996, -16.82814184, -16.82801688], \"x\": [145.70822968, 145.70854707999996, 145.70872086, 145.7086854, 145.70819714, 145.70819971999995], \"type\": \"scatter\"}, {\"name\": \"Cluster 116 Buildings\", \"marker\": {\"color\": \"rgba(120,120,120, 0.75)\", \"size\": 6}, \"mode\": \"markers\", \"y\": [-16.808626146153845, -16.80892499090909, -16.809152140000002, -16.80908282, -16.80867298571429, -16.808783466666668, -16.80904335555556, -16.808810388888887, -16.808965055555557], \"x\": [145.70276602307698, 145.70256097272727, 145.70226530000002, 145.70219066, 145.70229351428569, 145.70235616666668, 145.70238447777774, 145.70202855555556, 145.70210124444444], \"type\": \"scatter\"}, {\"name\": \"Cluster 117 Buildings\", \"marker\": {\"color\": \"rgba(145,145,145, 0.75)\", \"size\": 6}, \"mode\": \"markers\", \"y\": [-16.804015792307688, -16.803879158823527, -16.80385196, -16.803833079999997, -16.80400002, -16.803676, -16.803890514285715, -16.8039978, -16.803489866666666, -16.803680777777775], \"x\": [145.70610567692302, 145.70629510588233, 145.7058084, 145.70563239999996, 145.70558373999995, 145.70574802857143, 145.70593017142858, 145.70591202857142, 145.70605215555554, 145.70624171111112], \"type\": \"scatter\"}, {\"name\": \"Cluster 118 Buildings\", \"marker\": {\"color\": \"rgba(170,170,170, 0.75)\", \"size\": 6}, \"mode\": \"markers\", \"y\": [-16.801173109090907, -16.801157760000002, -16.801215177777774, -16.801153799999998, -16.801678854545454, -16.801685530769234], \"x\": [145.70115738181818, 145.70053359999997, 145.70027219999997, 145.70094214444444, 145.70050883636367, 145.70030743846158], \"type\": \"scatter\"}, {\"name\": \"Cluster 119 Buildings\", \"marker\": {\"color\": \"rgba(195,195,195, 0.75)\", \"size\": 6}, \"mode\": \"markers\", \"y\": [-16.81391322, -16.8139299, -16.814142566666668, -16.813894333333334, -16.81417634, -16.81409576, -16.814336200000003, -16.814057580000004, -16.8142253, -16.814358640000002, -16.81428778, -16.81447312857143], \"x\": [145.72215644, 145.72229094, 145.72228498, 145.72188387333333, 145.72217918000004, 145.72183106, 145.72180780000005, 145.72239414000003, 145.72190972, 145.72197838000002, 145.72224046000005, 145.72184094285714], \"type\": \"scatter\"}, {\"name\": \"Cluster 120 Buildings\", \"marker\": {\"color\": \"rgba(220,220,220, 0.75)\", \"size\": 6}, \"mode\": \"markers\", \"y\": [-16.80311996, -16.80308926, -16.8033389, -16.803316285714285, -16.80358746, -16.80354164, -16.803490414285715], \"x\": [145.70267712, 145.70276828000004, 145.70321696000005, 145.70260595714288, 145.70299432000004, 145.70271464, 145.7031462857143], \"type\": \"scatter\"}, {\"name\": \"Cluster 121 Buildings\", \"marker\": {\"color\": \"rgba(245,245,245, 0.75)\", \"size\": 6}, \"mode\": \"markers\", \"y\": [-16.807511654545454, -16.807735707692302, -16.807704473333335, -16.807855019999998, -16.80759564, -16.80788234285714, -16.807806411111113], \"x\": [145.70581627272728, 145.70528074615385, 145.70574201999997, 145.70561691999995, 145.70517102, 145.70557125714285, 145.70565034444445], \"type\": \"scatter\"}, {\"name\": \"Cluster 122 Buildings\", \"marker\": {\"color\": \"rgba(15,15,15, 0.75)\", \"size\": 6}, \"mode\": \"markers\", \"y\": [-16.813237880000006, -16.813209540000006, -16.813379819999998, -16.813009342857143, -16.813407520000002, -16.8134695, -16.8133233, -16.81350977142857], \"x\": [145.72127342000005, 145.72098986, 145.72134297999997, 145.72116292857143, 145.72147716, 145.72099214, 145.72096034, 145.72141004285714], \"type\": \"scatter\"}, {\"name\": \"Cluster 123 Buildings\", \"marker\": {\"color\": \"rgba(40,40,40, 0.75)\", \"size\": 6}, \"mode\": \"markers\", \"y\": [-16.80935793076923, -16.809033171428574, -16.809252311111113, -16.809239155555556, -16.80912771111111, -16.809620918181814, -16.80977362727273, -16.80949561904762, -16.80972726666667, -16.80951118888889], \"x\": [145.70051903076924, 145.70064835714285, 145.70083325555555, 145.70041055555555, 145.70078093333333, 145.70074493636363, 145.70088063636362, 145.70063380952382, 145.70106013333333, 145.70108661111112], \"type\": \"scatter\"}, {\"name\": \"Cluster 124 Buildings\", \"marker\": {\"color\": \"rgba(65,65,65, 0.75)\", \"size\": 6}, \"mode\": \"markers\", \"y\": [-16.809925336363634, -16.810076000000002, -16.81010654, -16.8100108, -16.810163199999998, -16.810193199999997, -16.80998434, -16.80997438, -16.81009938, -16.8100849, -16.81035997142857, -16.810364528571426], \"x\": [145.71675392727272, 145.71665926, 145.71694014, 145.71691914000004, 145.71677414, 145.71696518000005, 145.71677448000003, 145.71667646, 145.7168447, 145.71674624, 145.71678064285715, 145.71697745714286], \"type\": \"scatter\"}, {\"name\": \"Cluster 125 Buildings\", \"marker\": {\"color\": \"rgba(90,90,90, 0.75)\", \"size\": 6}, \"mode\": \"markers\", \"y\": [-16.804756771428572, -16.80484453333333, -16.805035166666666, -16.8052746, -16.804701777777776, -16.80520438, -16.80523688, -16.8053222, -16.805292471428572], \"x\": [145.70303135714286, 145.7028532, 145.70283996666663, 145.70296929999995, 145.70324877777776, 145.70338257999995, 145.70317658, 145.70344272857145, 145.70326392857143], \"type\": \"scatter\"}, {\"name\": \"Cluster 126 Buildings\", \"marker\": {\"color\": \"rgba(115,115,115, 0.75)\", \"size\": 6}, \"mode\": \"markers\", \"y\": [-16.81253358, -16.81220888, -16.8120038], \"x\": [145.72745880000002, 145.72726054000003, 145.72702643333332], \"type\": \"scatter\"}, {\"name\": \"Cluster 127 Buildings\", \"marker\": {\"color\": \"rgba(140,140,140, 0.75)\", \"size\": 6}, \"mode\": \"markers\", \"y\": [-16.80598291851852, -16.80596594, -16.806147214285712, -16.806598200000003, -16.80669162], \"x\": [145.72274161481482, 145.72304169999995, 145.72279024285714, 145.72317048, 145.72299028000003], \"type\": \"scatter\"}, {\"name\": \"Cluster 128 Buildings\", \"marker\": {\"color\": \"rgba(165,165,165, 0.75)\", \"size\": 6}, \"mode\": \"markers\", \"y\": [-16.81723299090909, -16.816693320000002, -16.817092879999993, -16.816720899999996, -16.81702674, -16.8170678, -16.81718904, -16.81673256, -16.81684882857143, -16.81714607142857, -16.816758433333334], \"x\": [145.7199044181818, 145.71929434, 145.71982918000003, 145.71985514, 145.71969064, 145.71998028000004, 145.71967486, 145.71964608, 145.72003718571432, 145.71948575714285, 145.71947838888892], \"type\": \"scatter\"}, {\"name\": \"Cluster 129 Buildings\", \"marker\": {\"color\": \"rgba(190,190,190, 0.75)\", \"size\": 6}, \"mode\": \"markers\", \"y\": [-16.802576786666666, -16.80299004, -16.802703628571425, -16.802318385714287, -16.802861866666667, -16.80266825], \"x\": [145.72249606666668, 145.7220733, 145.72179854285713, 145.72201148571432, 145.72185195555554, 145.72229643], \"type\": \"scatter\"}, {\"name\": \"Cluster 130 Buildings\", \"marker\": {\"color\": \"rgba(215,215,215, 0.75)\", \"size\": 6}, \"mode\": \"markers\", \"y\": [-16.809549240000006, -16.80962094, -16.8095372, -16.80928704], \"x\": [145.71911426, 145.71963018000002, 145.71937640000004, 145.7192925], \"type\": \"scatter\"}, {\"name\": \"Cluster 131 Buildings\", \"marker\": {\"color\": \"rgba(240,240,240, 0.75)\", \"size\": 6}, \"mode\": \"markers\", \"y\": [-16.817185776923075, -16.81691214, -16.816845100000002, -16.817268300000002, -16.81669731111111], \"x\": [145.72052889230767, 145.72051534, 145.72056896, 145.72065279999995, 145.72051486666666], \"type\": \"scatter\"}, {\"name\": \"Cluster 132 Buildings\", \"marker\": {\"color\": \"rgba(10,10,10, 0.75)\", \"size\": 6}, \"mode\": \"markers\", \"y\": [-16.807627214285713, -16.807540611111108, -16.80790312857143, -16.807732366666666, -16.808018481818184, -16.80790450769231, -16.80810487333333], \"x\": [145.70138802857144, 145.70152397777775, 145.70156367142857, 145.70127154444444, 145.7014735545455, 145.70117347692306, 145.70134464000003], \"type\": \"scatter\"}, {\"name\": \"Cluster 133 Buildings\", \"marker\": {\"color\": \"rgba(35,35,35, 0.75)\", \"size\": 6}, \"mode\": \"markers\", \"y\": [-16.807118576923074, -16.80660436, -16.806842080000006, -16.80661372, -16.806659185714285, -16.806522944444445], \"x\": [145.72473096153846, 145.72440774, 145.72467181999997, 145.72428232, 145.7246012, 145.72447956666667], \"type\": \"scatter\"}, {\"name\": \"Cluster 134 Buildings\", \"marker\": {\"color\": \"rgba(60,60,60, 0.75)\", \"size\": 6}, \"mode\": \"markers\", \"y\": [-16.81338310909091, -16.81397024, -16.81372968, -16.813514977777785, -16.813188733333334, -16.81332542222222, -16.813667288888887, -16.813555288888885], \"x\": [145.7017434090909, 145.70160228, 145.70144850000003, 145.7013136222222, 145.70172973333334, 145.70127925555553, 145.70189121111113, 145.7018044333333], \"type\": \"scatter\"}, {\"name\": \"Cluster 135 Buildings\", \"marker\": {\"color\": \"rgba(85,85,85, 0.75)\", \"size\": 6}, \"mode\": \"markers\", \"y\": [-16.809091944000002, -16.809385600000002, -16.809650519999998, -16.80929254, -16.80955388, -16.809572199999998, -16.809572080000002, -16.80930094, -16.80955216, -16.809283720000003, -16.809275680000002, -16.80952854, -16.80948514285714, -16.80912988888889, -16.809149177777773], \"x\": [145.723160072, 145.7230945, 145.72305918, 145.72320237999998, 145.72309649999997, 145.72324958, 145.72317382, 145.72328466, 145.7230029, 145.72312704, 145.72304160000004, 145.72283502, 145.72254101428572, 145.72260923333332, 145.72281612222224], \"type\": \"scatter\"}, {\"name\": \"Cluster 136 Buildings\", \"marker\": {\"color\": \"rgba(110,110,110, 0.75)\", \"size\": 6}, \"mode\": \"markers\", \"y\": [-16.80549865384615, -16.80572580666667, -16.805637624000003, -16.80553696, -16.804996800000005, -16.80544694, -16.805111366666665, -16.805090911111108, -16.80522548888889], \"x\": [145.72131476923082, 145.72129507333338, 145.72100012, 145.72119776, 145.72114434, 145.72096919999998, 145.7210791777778, 145.72090211111112, 145.72129913333333], \"type\": \"scatter\"}, {\"name\": \"Cluster 137 Buildings\", \"marker\": {\"color\": \"rgba(135,135,135, 0.75)\", \"size\": 6}, \"mode\": \"markers\", \"y\": [-16.815200190909092, -16.81567082, -16.81553758, -16.815541357142855, -16.815528828571427, -16.81575822222222], \"x\": [145.72121123636362, 145.72067002, 145.72099373999995, 145.72119878571428, 145.72072857142857, 145.72067364444445], \"type\": \"scatter\"}, {\"name\": \"Cluster 138 Buildings\", \"marker\": {\"color\": \"rgba(160,160,160, 0.75)\", \"size\": 6}, \"mode\": \"markers\", \"y\": [-16.80419612, -16.80423578, -16.804491414285714, -16.804337099999998, -16.80470676, -16.804515759999994, -16.804432285714288, -16.8043926, -16.80464836666667, -16.80472426, -16.80488842, -16.80494102, -16.80494447142857], \"x\": [145.70555204, 145.70544404000003, 145.70586984285708, 145.70591498000005, 145.70558961999996, 145.70547196, 145.70563147142857, 145.70550932857142, 145.70578404444444, 145.70539618000004, 145.70548034, 145.70537326, 145.70572032857143], \"type\": \"scatter\"}, {\"name\": \"Cluster 139 Buildings\", \"marker\": {\"color\": \"rgba(185,185,185, 0.75)\", \"size\": 6}, \"mode\": \"markers\", \"y\": [-16.8089361, -16.809101599999998, -16.809535840000002, -16.80909408, -16.809360688888887], \"x\": [145.72576753999996, 145.7258645, 145.72565840000001, 145.72558998000005, 145.72598854444445], \"type\": \"scatter\"}, {\"name\": \"Cluster 140 Buildings\", \"marker\": {\"color\": \"rgba(210,210,210, 0.75)\", \"size\": 6}, \"mode\": \"markers\", \"y\": [-16.806059400000002, -16.80589508, -16.80599574, -16.805979360000002, -16.805680920000004, -16.805912760000002, -16.806063322222222, -16.8060339], \"x\": [145.7224094, 145.72197144, 145.72220866, 145.72229524, 145.7219622, 145.72180085999997, 145.7220106777778, 145.72183172222222], \"type\": \"scatter\"}, {\"name\": \"Cluster 141 Buildings\", \"marker\": {\"color\": \"rgba(235,235,235, 0.75)\", \"size\": 6}, \"mode\": \"markers\", \"y\": [-16.804341, -16.803697940000006, -16.803777871428572, -16.8036551, -16.803974788888887, -16.804289840000006, -16.804181466666666, -16.804097483333333], \"x\": [145.707784, 145.70758346000005, 145.70768832857144, 145.70746562222226, 145.70803678888888, 145.70766238, 145.70739054444445, 145.70723148333337], \"type\": \"scatter\"}, {\"name\": \"Cluster 142 Buildings\", \"marker\": {\"color\": \"rgba(5,5,5, 0.75)\", \"size\": 6}, \"mode\": \"markers\", \"y\": [-16.816091, -16.81608032727273, -16.815875154545452, -16.815936518181818, -16.81616693076923, -16.8159707, -16.815753342857143, -16.816052814285715, -16.815731242857144, -16.815631511111107], \"x\": [145.70345057999995, 145.7032812909091, 145.70327842727275, 145.70364104545453, 145.70362537692307, 145.70297454, 145.70365204285713, 145.70311084285714, 145.70337871428572, 145.70357103333333], \"type\": \"scatter\"}, {\"name\": \"Cluster 143 Buildings\", \"marker\": {\"color\": \"rgba(30,30,30, 0.75)\", \"size\": 6}, \"mode\": \"markers\", \"y\": [-16.815808280000002, -16.81634212, -16.81578704, -16.81623802, -16.815858185714287, -16.8163201, -16.816159222222225, -16.816120533333333], \"x\": [145.71993894000005, 145.72006314, 145.71978338, 145.71947142, 145.72015818571433, 145.71982727142858, 145.71966619999998, 145.72004742222222], \"type\": \"scatter\"}, {\"name\": \"Cluster 144 Buildings\", \"marker\": {\"color\": \"rgba(55,55,55, 0.75)\", \"size\": 6}, \"mode\": \"markers\", \"y\": [-16.80482404, -16.80524158181818, -16.80538504, -16.80514074285714, -16.805022266666665, -16.805497590909088, -16.80562986], \"x\": [145.70083469999997, 145.70082684545457, 145.70066814, 145.70094952857144, 145.7010844, 145.70057463636363, 145.70039188000004], \"type\": \"scatter\"}, {\"name\": \"Cluster 145 Buildings\", \"marker\": {\"color\": \"rgba(80,80,80, 0.75)\", \"size\": 6}, \"mode\": \"markers\", \"y\": [-16.8121702, -16.81165842, -16.81193788, -16.811746680000002, -16.81217754, -16.8118367, -16.812192311111108, -16.812207677777778, -16.811745955555555], \"x\": [145.72292964000005, 145.72316686, 145.72331288, 145.72332068, 145.7232988, 145.72311615714287, 145.72276366666668, 145.72314987777776, 145.72295055555554], \"type\": \"scatter\"}, {\"name\": \"Cluster 146 Buildings\", \"marker\": {\"color\": \"rgba(105,105,105, 0.75)\", \"size\": 6}, \"mode\": \"markers\", \"y\": [-16.80547014, -16.80552358, -16.80575726, -16.805973490909093, -16.80556474, -16.805722714285714, -16.805401957142855, -16.806050171428573, -16.80562844285714, -16.80531038888889, -16.806143842857143], \"x\": [145.70132552, 145.70165723999997, 145.70137602, 145.70130615454545, 145.70143649999997, 145.70108572857143, 145.70151477142858, 145.70145894285713, 145.70121485714284, 145.70166073333334, 145.70155471428572], \"type\": \"scatter\"}, {\"name\": \"Cluster 147 Buildings\", \"marker\": {\"color\": \"rgba(130,130,130, 0.75)\", \"size\": 6}, \"mode\": \"markers\", \"y\": [-16.811990029999997, -16.811374620000002, -16.811715966666668, -16.811527466666664, -16.8118945], \"x\": [145.72049191000005, 145.72013130000002, 145.7201175888889, 145.72011030000004, 145.72010083333333], \"type\": \"scatter\"}, {\"name\": \"Cluster 148 Buildings\", \"marker\": {\"color\": \"rgba(155,155,155, 0.75)\", \"size\": 6}, \"mode\": \"markers\", \"y\": [-16.80815596, -16.808261372727273, -16.807899263636365, -16.808379463636363, -16.80770948461538, -16.808014300000004, -16.808119422222227, -16.807971366666667], \"x\": [145.70266734, 145.70243910000005, 145.70217246363637, 145.70252035454547, 145.70240028461538, 145.70229951428573, 145.70240974444445, 145.7026131444444], \"type\": \"scatter\"}, {\"name\": \"Cluster 149 Buildings\", \"marker\": {\"color\": \"rgba(180,180,180, 0.75)\", \"size\": 6}, \"mode\": \"markers\", \"y\": [-16.81415468461538, -16.813897888888892, -16.81425948, -16.814591139999994, -16.814314439999997, -16.814813519999998, -16.814349800000002, -16.81454214, -16.814651066666666], \"x\": [145.72295475384615, 145.72300890000002, 145.723183, 145.7230057, 145.72352118, 145.72329666000005, 145.72332898000005, 145.72357638, 145.72327107777778], \"type\": \"scatter\"}, {\"name\": \"Cluster 150 Buildings\", \"marker\": {\"color\": \"rgba(205,205,205, 0.75)\", \"size\": 6}, \"mode\": \"markers\", \"y\": [-16.81357216, -16.81357046, -16.81387394, -16.81388022222222, -16.81389911111111], \"x\": [145.71943826, 145.71926266, 145.71924366, 145.71943145555554, 145.71903564444446], \"type\": \"scatter\"}, {\"name\": \"Cluster 151 Buildings\", \"marker\": {\"color\": \"rgba(230,230,230, 0.75)\", \"size\": 6}, \"mode\": \"markers\", \"y\": [-16.810959899999997, -16.81096676, -16.8111643, -16.811138520000004, -16.81062798, -16.810629340000002, -16.81081806, -16.81112884285714, -16.81063347142857], \"x\": [145.72220062, 145.72197350000005, 145.72234439999997, 145.72194916, 145.72225054, 145.72206109999996, 145.72187241999995, 145.72216132857145, 145.72187018571432], \"type\": \"scatter\"}, {\"name\": \"Cluster 152 Buildings\", \"marker\": {\"color\": \"rgba(255,255,255, 0.75)\", \"size\": 6}, \"mode\": \"markers\", \"y\": [-16.814435290909092, -16.81416581818182, -16.814760954545452, -16.814308271428573, -16.81414345714286, -16.814273611111116, -16.81464438888889, -16.814606466666664], \"x\": [145.70048237272732, 145.70077551818184, 145.7004384090909, 145.70080484285714, 145.70048158571427, 145.70047251111112, 145.70078283333334, 145.7004352777778], \"type\": \"scatter\"}, {\"name\": \"Cluster 153 Buildings\", \"marker\": {\"color\": \"rgba(25,25,25, 0.75)\", \"size\": 6}, \"mode\": \"markers\", \"y\": [-16.804503959999998, -16.80417892, -16.80477454, -16.804624342857142, -16.804322971428572, -16.804636799999994, -16.804869155555554], \"x\": [145.70437374, 145.70455510000005, 145.70464413999997, 145.70452519999998, 145.70429552857144, 145.70490143333333, 145.70477667777774], \"type\": \"scatter\"}, {\"name\": \"Cluster 154 Buildings\", \"marker\": {\"color\": \"rgba(50,50,50, 0.75)\", \"size\": 6}, \"mode\": \"markers\", \"y\": [-16.80419860909091, -16.803755700000004, -16.80375104, -16.804276859999998, -16.803821640000002, -16.803968428571427], \"x\": [145.72086992727267, 145.72057542, 145.72068894, 145.7210362, 145.72099254, 145.7207775], \"type\": \"scatter\"}, {\"name\": \"Cluster 155 Buildings\", \"marker\": {\"color\": \"rgba(75,75,75, 0.75)\", \"size\": 6}, \"mode\": \"markers\", \"y\": [-16.81485688181818, -16.81472419090909, -16.814577542857144, -16.814961922222224, -16.815377085714278, -16.815071457142857, -16.815198488888882], \"x\": [145.7013487909091, 145.70125945454546, 145.70116240000002, 145.70141937777774, 145.70164055714287, 145.70148527142854, 145.70155891111108], \"type\": \"scatter\"}, {\"name\": \"Cluster 156 Buildings\", \"marker\": {\"color\": \"rgba(100,100,100, 0.75)\", \"size\": 6}, \"mode\": \"markers\", \"y\": [-16.80669002, -16.80725502, -16.80711292, -16.806851419999994, -16.806884859999997, -16.807085660000002, -16.807060500000002, -16.806874899999997, -16.806903385714286, -16.806748688888884], \"x\": [145.72071286, 145.72102414, 145.72104608, 145.72107240000003, 145.72068054000005, 145.72115116, 145.72094412, 145.72096438, 145.72115147142856, 145.7211052444444], \"type\": \"scatter\"}, {\"name\": \"Cluster 157 Buildings\", \"marker\": {\"color\": \"rgba(125,125,125, 0.75)\", \"size\": 6}, \"mode\": \"markers\", \"y\": [-16.81278494, -16.81277416, -16.81267416, -16.81275422, -16.812927399999996, -16.812738], \"x\": [145.72401474, 145.72382846, 145.72345837999995, 145.7242565, 145.72368160000005, 145.7236332777778], \"type\": \"scatter\"}, {\"name\": \"Cluster 158 Buildings\", \"marker\": {\"color\": \"rgba(150,150,150, 0.75)\", \"size\": 6}, \"mode\": \"markers\", \"y\": [-16.816633290909092, -16.81662545, -16.81688412222222, -16.81704947777778, -16.817305436363636, -16.817286522222226], \"x\": [145.70038705454544, 145.70052429166662, 145.70043909999995, 145.7004249, 145.7003107818182, 145.70044935555555], \"type\": \"scatter\"}, {\"name\": \"Cluster 159 Buildings\", \"marker\": {\"color\": \"rgba(175,175,175, 0.75)\", \"size\": 6}, \"mode\": \"markers\", \"y\": [-16.812089999999998, -16.81177522, -16.8115643, -16.81210342, -16.812140457142856, -16.812101242857143, -16.811750142857143, -16.811662928571426, -16.811722255555555], \"x\": [145.72202378461537, 145.72275386666666, 145.72214911999995, 145.72258180000003, 145.72219479999995, 145.72237581428567, 145.72213777142858, 145.72238912857142, 145.72257714444444], \"type\": \"scatter\"}, {\"name\": \"Cluster 160 Buildings\", \"marker\": {\"color\": \"rgba(200,200,200, 0.75)\", \"size\": 6}, \"mode\": \"markers\", \"y\": [-16.812968845454545, -16.813346999999997, -16.813237145454544, -16.81279883846154, -16.81298643846154, -16.81314306153846, -16.813066233333338, -16.813374214285716], \"x\": [145.70303334545454, 145.7027714909091, 145.70293491818182, 145.7029425923077, 145.7027865923077, 145.7031657076923, 145.70259229333337, 145.70259052857142], \"type\": \"scatter\"}, {\"name\": \"Cluster 161 Buildings\", \"marker\": {\"color\": \"rgba(225,225,225, 0.75)\", \"size\": 6}, \"mode\": \"markers\", \"y\": [-16.82743182, -16.82757566], \"x\": [145.70497666, 145.70555496], \"type\": \"scatter\"}, {\"name\": \"Cluster 162 Buildings\", \"marker\": {\"color\": \"rgba(250,250,250, 0.75)\", \"size\": 6}, \"mode\": \"markers\", \"y\": [-16.81438766, -16.8145078, -16.81446072], \"x\": [145.72426702, 145.72411486, 145.72419042], \"type\": \"scatter\"}, {\"name\": \"Cluster 163 Buildings\", \"marker\": {\"color\": \"rgba(20,20,20, 0.75)\", \"size\": 6}, \"mode\": \"markers\", \"y\": [-16.806273533333332, -16.806381488888892, -16.80647287777778, -16.806563722222222], \"x\": [145.70166843333334, 145.70175172222218, 145.70184015555554, 145.7019241888889], \"type\": \"scatter\"}, {\"name\": \"Cluster 164 Buildings\", \"marker\": {\"color\": \"rgba(45,45,45, 0.75)\", \"size\": 6}, \"mode\": \"markers\", \"y\": [-16.807464279999998, -16.807144985714285, -16.807649107692303, -16.807254714285712, -16.80737537142857, -16.807641957142856, -16.807736114285714, -16.80799470909091, -16.80788078181818], \"x\": [145.70063456, 145.70031794285714, 145.7003040846154, 145.70045954285715, 145.70053529999996, 145.70079182857143, 145.70064967142858, 145.70036617272723, 145.7005109909091], \"type\": \"scatter\"}, {\"name\": \"Cluster 165 Buildings\", \"marker\": {\"color\": \"rgba(70,70,70, 0.75)\", \"size\": 6}, \"mode\": \"markers\", \"y\": [-16.81506452, -16.81511508, -16.814928639999998, -16.815234699999998, -16.815154460000002, -16.815167014285713, -16.815186655555557, -16.814906720000003, -16.815239877777778], \"x\": [145.719326, 145.71908206, 145.71927961999995, 145.719133, 145.71867360000002, 145.7188767, 145.7189485, 145.71907116, 145.71930338888887], \"type\": \"scatter\"}, {\"name\": \"Cluster 166 Buildings\", \"marker\": {\"color\": \"rgba(95,95,95, 0.75)\", \"size\": 6}, \"mode\": \"markers\", \"y\": [-16.805868345454545, -16.80617994, -16.805699240000006, -16.806260099999996, -16.80600094, -16.806048280000002, -16.80619511111111], \"x\": [145.72417433636366, 145.72419230000003, 145.72404766, 145.72409398, 145.72427502, 145.72418186, 145.72429961111112], \"type\": \"scatter\"}, {\"name\": \"Cluster 167 Buildings\", \"marker\": {\"color\": \"rgba(120,120,120, 0.75)\", \"size\": 6}, \"mode\": \"markers\", \"y\": [-16.807131954545454, -16.80717004285714, -16.806792442857144, -16.807278628571428, -16.806859811111117], \"x\": [145.7008339818182, 145.70124390000004, 145.7011273, 145.70115185714286, 145.7009791888889], \"type\": \"scatter\"}, {\"name\": \"Cluster 168 Buildings\", \"marker\": {\"color\": \"rgba(145,145,145, 0.75)\", \"size\": 6}, \"mode\": \"markers\", \"y\": [-16.813726242857143, -16.813452214285714, -16.81356271111111, -16.813588322222227, -16.813641655555557, -16.813815700000006, -16.8139156, -16.81370174285714, -16.81388467142857], \"x\": [145.70287822857142, 145.70331104285714, 145.70312613333334, 145.70334386666667, 145.70299291111112, 145.70329501818182, 145.70300441428572, 145.70347107142857, 145.70315061428568], \"type\": \"scatter\"}, {\"name\": \"Cluster 169 Buildings\", \"marker\": {\"color\": \"rgba(170,170,170, 0.75)\", \"size\": 6}, \"mode\": \"markers\", \"y\": [-16.80538268125, -16.80526061428571, -16.805808758333338, -16.80529617692308, -16.805723299999997, -16.805775344444438], \"x\": [145.70809590625, 145.70753178571428, 145.70765887500005, 145.70735919230768, 145.7073386, 145.70749843333334], \"type\": \"scatter\"}, {\"name\": \"Cluster 170 Buildings\", \"marker\": {\"color\": \"rgba(195,195,195, 0.75)\", \"size\": 6}, \"mode\": \"markers\", \"y\": [-16.80278766, -16.802728339999998, -16.80300096, -16.80285398, -16.802541757142855, -16.802967644444443, -16.80317797777778], \"x\": [145.70479236, 145.70523806, 145.70509668, 145.70528486, 145.70515554285709, 145.70468101111112, 145.70496914444448], \"type\": \"scatter\"}, {\"name\": \"Cluster 171 Buildings\", \"marker\": {\"color\": \"rgba(220,220,220, 0.75)\", \"size\": 6}, \"mode\": \"markers\", \"y\": [-16.80347262, -16.803543659999995, -16.8035167, -16.80329537142857, -16.803270628571433, -16.803662311111115], \"x\": [145.720325, 145.7199502, 145.7202051, 145.72044958571433, 145.72020261428568, 145.72020740000005], \"type\": \"scatter\"}, {\"name\": \"Cluster 172 Buildings\", \"marker\": {\"color\": \"rgba(245,245,245, 0.75)\", \"size\": 6}, \"mode\": \"markers\", \"y\": [-16.811973100000003, -16.811944039999997, -16.81203746, -16.811934080000004], \"x\": [145.72502158, 145.72518574, 145.72484881999995, 145.72462108000005], \"type\": \"scatter\"}, {\"name\": \"Cluster 173 Buildings\", \"marker\": {\"color\": \"rgba(15,15,15, 0.75)\", \"size\": 6}, \"mode\": \"markers\", \"y\": [-16.81148973846154], \"x\": [145.7004658153846], \"type\": \"scatter\"}, {\"name\": \"Cluster 174 Buildings\", \"marker\": {\"color\": \"rgba(40,40,40, 0.75)\", \"size\": 6}, \"mode\": \"markers\", \"y\": [-16.807178772727273, -16.807243946153847, -16.807125092307693, -16.80728542], \"x\": [145.70486495454546, 145.70424955384613, 145.70437516153842, 145.704804], \"type\": \"scatter\"}, {\"name\": \"Cluster 175 Buildings\", \"marker\": {\"color\": \"rgba(65,65,65, 0.75)\", \"size\": 6}, \"mode\": \"markers\", \"y\": [-16.809220492307695, -16.80894256, -16.809310399999998, -16.80894854, -16.8093368, -16.809462779999997], \"x\": [145.72158993076926, 145.72196393999997, 145.72208498, 145.72154774, 145.72184274, 145.72200696], \"type\": \"scatter\"}, {\"name\": \"Cluster 176 Buildings\", \"marker\": {\"color\": \"rgba(90,90,90, 0.75)\", \"size\": 6}, \"mode\": \"markers\", \"y\": [-16.80301552, -16.80327766, -16.80317612, -16.803419140000006, -16.80358454285714, -16.803496477777774, -16.803272822222226], \"x\": [145.70446726, 145.70480532, 145.70432726, 145.7046795, 145.70436731428572, 145.70451293333338, 145.70422233333338], \"type\": \"scatter\"}, {\"name\": \"Cluster 177 Buildings\", \"marker\": {\"color\": \"rgba(115,115,115, 0.75)\", \"size\": 6}, \"mode\": \"markers\", \"y\": [-16.817753, -16.817586088888888, -16.817953785714288, -16.818118199999994], \"x\": [145.71991968571433, 145.71987736666668, 145.71989055714286, 145.71986938571428], \"type\": \"scatter\"}, {\"name\": \"Cluster 178 Buildings\", \"marker\": {\"color\": \"rgba(140,140,140, 0.75)\", \"size\": 6}, \"mode\": \"markers\", \"y\": [-16.80587942, -16.80597128, -16.80600904, -16.80629433636364, -16.80628416], \"x\": [145.72122084, 145.72091382, 145.72117158, 145.72100674545453, 145.72105232], \"type\": \"scatter\"}, {\"name\": \"Cluster 179 Buildings\", \"marker\": {\"color\": \"rgba(165,165,165, 0.75)\", \"size\": 6}, \"mode\": \"markers\", \"y\": [-16.798807384615387], \"x\": [145.70383706153842], \"type\": \"scatter\"}, {\"name\": \"Cluster 180 Buildings\", \"marker\": {\"color\": \"rgba(190,190,190, 0.75)\", \"size\": 6}, \"mode\": \"markers\", \"y\": [-16.808180988888882, -16.808409586666667, -16.808551279999996, -16.808465242857142, -16.80829497142857, -16.808682400000002, -16.80833571111111, -16.80855411111111], \"x\": [145.70188268888887, 145.70161292, 145.70220176, 145.70210452857143, 145.7017188857143, 145.70189005714286, 145.70203355555554, 145.70178908888892], \"type\": \"scatter\"}, {\"name\": \"Cluster 181 Buildings\", \"marker\": {\"color\": \"rgba(215,215,215, 0.75)\", \"size\": 6}, \"mode\": \"markers\", \"y\": [-16.803968909090912, -16.80380348, -16.803781266666665, -16.803835911111108, -16.803948199999994, -16.804087728571428], \"x\": [145.70072175454547, 145.70120623999995, 145.7009806222222, 145.7006169111111, 145.70107634545457, 145.70086112857143], \"type\": \"scatter\"}, {\"name\": \"Cluster 182 Buildings\", \"marker\": {\"color\": \"rgba(240,240,240, 0.75)\", \"size\": 6}, \"mode\": \"markers\", \"y\": [-16.806784545454544, -16.807052728571428, -16.807276014285712, -16.806676644444444, -16.807473144444444, -16.80719562222222, -16.806952344444444], \"x\": [145.70212969999997, 145.70237615714285, 145.70255614285713, 145.70203967777778, 145.70267290000004, 145.70243675555554, 145.70225753333332], \"type\": \"scatter\"}, {\"name\": \"Cluster 183 Buildings\", \"marker\": {\"color\": \"rgba(10,10,10, 0.75)\", \"size\": 6}, \"mode\": \"markers\", \"y\": [-16.811154799999994, -16.811296069230767, -16.81110574, -16.810877800000004, -16.811003879999998, -16.81082482, -16.810830357142862, -16.81087475714286, -16.81130637777778], \"x\": [145.71725896363634, 145.71698800769232, 145.71693868, 145.71713846000003, 145.71746516000005, 145.71734362, 145.71698768571432, 145.71753557142856, 145.71741194444445], \"type\": \"scatter\"}, {\"name\": \"Cluster 184 Buildings\", \"marker\": {\"color\": \"rgba(35,35,35, 0.75)\", \"size\": 6}, \"mode\": \"markers\", \"y\": [-16.82583982, -16.82624582], \"x\": [145.7047381, 145.70466222], \"type\": \"scatter\"}, {\"name\": \"Cluster 185 Buildings\", \"marker\": {\"color\": \"rgba(60,60,60, 0.75)\", \"size\": 6}, \"mode\": \"markers\", \"y\": [-16.80441896, -16.80452114, -16.80446591666667, -16.804370542857143, -16.80462208], \"x\": [145.70285666, 145.70270932, 145.70286496666668, 145.70280994285713, 145.70256160000002], \"type\": \"scatter\"}, {\"name\": \"Cluster 186 Buildings\", \"marker\": {\"color\": \"rgba(85,85,85, 0.75)\", \"size\": 6}, \"mode\": \"markers\", \"y\": [-16.803526863636364, -16.80364292, -16.803901439999994, -16.803383644444445, -16.80420896, -16.803779242857143, -16.803966749999994, -16.80376801111111, -16.804069385714286], \"x\": [145.7039669909091, 145.70370666, 145.70393840000003, 145.70410157777778, 145.70413828, 145.70381310000002, 145.7043123875, 145.7042651555556, 145.70406570000003], \"type\": \"scatter\"}, {\"name\": \"Cluster 187 Buildings\", \"marker\": {\"color\": \"rgba(110,110,110, 0.75)\", \"size\": 6}, \"mode\": \"markers\", \"y\": [-16.813131020000004, -16.813666540000003, -16.81358314, -16.81354742, -16.813326828571427, -16.813364266666667], \"x\": [145.72027308, 145.72031088, 145.71987621999997, 145.72036666, 145.72034924285714, 145.71994903333334], \"type\": \"scatter\"}, {\"name\": \"Cluster 188 Buildings\", \"marker\": {\"color\": \"rgba(135,135,135, 0.75)\", \"size\": 6}, \"mode\": \"markers\", \"y\": [-16.81916953846154, -16.81914822857143, -16.819397388888888, -16.819586544444444], \"x\": [145.71885606923078, 145.71864827142858, 145.71874198888892, 145.71884278888888], \"type\": \"scatter\"}, {\"name\": \"Cluster 189 Buildings\", \"marker\": {\"color\": \"rgba(160,160,160, 0.75)\", \"size\": 6}, \"mode\": \"markers\", \"y\": [-16.816496359999995, -16.81592918, -16.816257380000003, -16.81639106, -16.816133214285713], \"x\": [145.72059818, 145.72063150000002, 145.72062710000003, 145.72069733999996, 145.7206254], \"type\": \"scatter\"}, {\"name\": \"Cluster 190 Buildings\", \"marker\": {\"color\": \"rgba(185,185,185, 0.75)\", \"size\": 6}, \"mode\": \"markers\", \"y\": [-16.80286948666667, -16.80295, -16.80283922, -16.80273642], \"x\": [145.70234111999997, 145.70250672000003, 145.70210808, 145.70243932], \"type\": \"scatter\"}, {\"name\": \"Cluster 191 Buildings\", \"marker\": {\"color\": \"rgba(210,210,210, 0.75)\", \"size\": 6}, \"mode\": \"markers\", \"y\": [-16.816656018181813, -16.816740318181818, -16.816667972727274, -16.817125025, -16.817138930769232, -16.816922184615382, -16.816693722222222, -16.816699733333333, -16.81694078888889, -16.816714311111113], \"x\": [145.70079370000005, 145.7012675909091, 145.70089158181815, 145.70086469999995, 145.70113943846158, 145.7008501769231, 145.70099696666668, 145.70107943333338, 145.70113462222218, 145.70118089999997], \"type\": \"scatter\"}, {\"name\": \"Cluster 192 Buildings\", \"marker\": {\"color\": \"rgba(235,235,235, 0.75)\", \"size\": 6}, \"mode\": \"markers\", \"y\": [-16.8049128, -16.805025699999998, -16.804672241176473], \"x\": [145.70625556, 145.70623377777778, 145.7063460764706], \"type\": \"scatter\"}, {\"name\": \"Cluster 193 Buildings\", \"marker\": {\"color\": \"rgba(5,5,5, 0.75)\", \"size\": 6}, \"mode\": \"markers\", \"y\": [-16.81478204, -16.81438916, -16.81452938, -16.8149302, -16.81440978, -16.814657185714285, -16.81429232857143], \"x\": [145.72130088, 145.72125327999996, 145.72122745999997, 145.72122048, 145.72134186, 145.72128425714286, 145.72127395714287], \"type\": \"scatter\"}, {\"name\": \"Cluster 194 Buildings\", \"marker\": {\"color\": \"rgba(30,30,30, 0.75)\", \"size\": 6}, \"mode\": \"markers\", \"y\": [-16.809157714285714, -16.80952304615385, -16.809452122222222, -16.80925186], \"x\": [145.70481909999995, 145.7050493153846, 145.70491685555555, 145.70466962], \"type\": \"scatter\"}, {\"name\": \"Cluster 195 Buildings\", \"marker\": {\"color\": \"rgba(55,55,55, 0.75)\", \"size\": 6}, \"mode\": \"markers\", \"y\": [-16.81244104545455, -16.81284962727273, -16.81250771818182, -16.812642984615387, -16.812799599999998, -16.812990222222222, -16.81248521111111], \"x\": [145.70186068181818, 145.70175389090906, 145.70222218181817, 145.70173765384612, 145.70213344285713, 145.70172247777774, 145.70205395555553], \"type\": \"scatter\"}, {\"name\": \"Cluster 196 Buildings\", \"marker\": {\"color\": \"rgba(80,80,80, 0.75)\", \"size\": 6}, \"mode\": \"markers\", \"y\": [-16.812568446153847, -16.812582138095234, -16.81290868, -16.81316922222222, -16.812879390909092], \"x\": [145.72247613846156, 145.7219978904762, 145.72239746, 145.72232086666668, 145.72197972727272], \"type\": \"scatter\"}, {\"name\": \"Cluster 197 Buildings\", \"marker\": {\"color\": \"rgba(105,105,105, 0.75)\", \"size\": 6}, \"mode\": \"markers\", \"y\": [-16.813587263636364, -16.813253960000004, -16.813650071428572, -16.813097857142857, -16.813463585714285, -16.8133801], \"x\": [145.70230314545455, 145.70210092, 145.70216808571433, 145.7020207857143, 145.70241851428568, 145.70220622222226], \"type\": \"scatter\"}, {\"name\": \"Cluster 198 Buildings\", \"marker\": {\"color\": \"rgba(130,130,130, 0.75)\", \"size\": 6}, \"mode\": \"markers\", \"y\": [-16.815687020000002, -16.8155264, -16.81589786153846, -16.815925755], \"x\": [145.70264972, 145.70250848571433, 145.7023719076923, 145.70259008], \"type\": \"scatter\"}, {\"name\": \"Cluster 199 Buildings\", \"marker\": {\"color\": \"rgba(155,155,155, 0.75)\", \"size\": 6}, \"mode\": \"markers\", \"y\": [-16.81538822, -16.81530238, -16.81516427777778], \"x\": [145.72009419999998, 145.71976476000003, 145.71972384444445], \"type\": \"scatter\"}, {\"name\": \"Agg Clusters\", \"marker\": {\"color\": \"rgba(255, 0, 0, 0.75)\", \"size\": 4}, \"mode\": \"markers\", \"y\": [-16.81057733924002, -16.815420929677465, -16.809044255388887, -16.819620570769228, -16.817318380619177, -16.802640082892413, -16.820554607896824, -16.80433647858586, -16.80913318514739, -16.81360205338318, -16.815621491887125, -16.81205919367697, -16.8111915051746, -16.82510182888889, -16.81091199223597, -16.802167266232967, -16.81201913122655, -16.8128478757326, -16.811090223917194, -16.81019953604297, -16.807433494294838, -16.807683275104896, -16.81416138759281, -16.803930594458876, -16.80870782, -16.826610617037037, -16.802253110893233, -16.812611030449958, -16.806823986970176, -16.809230398205127, -16.811726733946614, -16.802910051721295, -16.81269307318903, -16.80860855408403, -16.81432272215055, -16.811252559682536, -16.8075852295038, -16.816845346603177, -16.812012118227518, -16.81482648565882, -16.806075443456702, -16.805483814577595, -16.807477442407404, -16.80085263199375, -16.807954387642706, -16.80756580319414, -16.80365483918367, -16.817779244242423, -16.81243805878307, -16.814750418906524, -16.81298389405483, -16.80377443138811, -16.808395726299356, -16.811516355973136, -16.80950238233987, -16.802943777428574, -16.810543300119047, -16.81140450733316, -16.801778900000002, -16.80147420727273, -16.810952577830253, -16.803179713532465, -16.803847770014432, -16.814434354902332, -16.806748921181043, -16.811282517085132, -16.813606982792127, -16.814872685472483, -16.81489031263422, -16.814115674877346, -16.806619488095237, -16.81608662393939, -16.8124696810101, -16.810126637333333, -16.807370493401574, -16.815930500184706, -16.802500214391532, -16.803297605935548, -16.80326747602886, -16.80304356, -16.804932488, -16.804590942582973, -16.81248584362434, -16.808533977922078, -16.824818033333333, -16.810009976655845, -16.81556658141414, -16.81862840950916, -16.81566034671945, -16.811307489349204, -16.801809097405926, -16.80882722103117, -16.815316281888276, -16.809997321114917, -16.808452507464253, -16.80629985376599, -16.818562870603174, -16.798752237171716, -16.805220716217487, -16.82339509678571, -16.815300203769837, -16.80635269593664, -16.814599129891775, -16.81028319650794, -16.80957716365723, -16.82362456712843, -16.811175433106577, -16.802589447142857, -16.81340829916306, -16.808078961269842, -16.810044783571428, -16.81402956585859, -16.80435437285987, -16.81197840861111, -16.80447368214008, -16.82807905, -16.808895705493764, -16.803831496986138, -16.801344038697227, -16.814157562380952, -16.803354845714285, -16.807727321362762, -16.813318334285718, -16.809413890003334, -16.810111881363635, -16.805074308959437, -16.812248753333332, -16.806277178560848, -16.816955414931126, -16.80268649293651, -16.809498605, -16.816981725606837, -16.80783302621125, -16.8067268111803, -16.813541842525254, -16.809388267568256, -16.805363394575497, -16.8155394998076, -16.804573412161172, -16.809205661777778, -16.805952560277778, -16.804001936289684, -16.81592895418803, -16.81607918765873, -16.805248731750154, -16.81196370716049, -16.805686066215404, -16.81170051666667, -16.808063829188033, -16.81439712890788, -16.813759178666665, -16.81089635269841, -16.814417282359308, -16.80455866997732, -16.803962046277057, -16.814966795650378, -16.806946737460315, -16.81277548, -16.816964049915825, -16.81187888522046, -16.81311522212371, -16.82750374, -16.81445206, -16.806422905555557, -16.80757133571761, -16.81511085195767, -16.806035993795096, -16.807046575988455, -16.8136987622575, -16.805541145872763, -16.80286547419501, -16.803460215185186, -16.81197217, -16.81148973846154, -16.807208307797204, -16.809203595384616, -16.80332032612245, -16.81785276865079, -16.80608764727273, -16.798807384615387, -16.808434286507936, -16.803904249240016, -16.80705872055246, -16.81103051125492, -16.826042819999998, -16.804479727904763, -16.80380524641815, -16.81343653587302, -16.819325425091577, -16.816241438857144, -16.80284878166667, -16.81682990050311, -16.804870247058826, -16.814570010612247, -16.809346185665447, -16.812673772693973, -16.81282157547608, -16.813405472987018, -16.815759259134616, -16.81528495925926], \"x\": [145.7195541918153, 145.7044420960119, 145.72401730980158, 145.71938268087914, 145.7011612513525, 145.7056804153792, 145.71956833472223, 145.70346145443003, 145.701510730771, 145.7184478560777, 145.71835043552028, 145.72399029766697, 145.7265458306032, 145.70499350730157, 145.7020426132102, 145.72037249872454, 145.71674642170274, 145.71819913379787, 145.7240016330861, 145.7176673627337, 145.7037015784521, 145.72187892427354, 145.70228879226818, 145.7050489699567, 145.72297324525255, 145.70851931555555, 145.70451862696225, 145.71938794454678, 145.722125398022, 145.71613154166664, 145.70186400330087, 145.71948352288186, 145.72012936799422, 145.72057959489823, 145.70340533505927, 145.72516719049887, 145.72286961004002, 145.71889982920345, 145.71836295224867, 145.7220430625929, 145.70612909773533, 145.7050858253106, 145.72354240425926, 145.7077620871885, 145.7252051747668, 145.72069961098416, 145.7217898930612, 145.7188122773939, 145.72131523708995, 145.72049377195768, 145.72302523010103, 145.72291603021475, 145.7043583857274, 145.7193270364005, 145.72052068564705, 145.7036448357143, 145.7205253826984, 145.71767423163297, 145.71832334000004, 145.72114700831168, 145.72277837386594, 145.71029610410392, 145.70221577062046, 145.7185352299292, 145.70529924397303, 145.71850622251085, 145.70058790132754, 145.7024349902861, 145.70375311562827, 145.72007142785472, 145.70680684789292, 145.7043267104329, 145.71726850135644, 145.72169464244445, 145.70183577862494, 145.71910886636365, 145.70141431867725, 145.70157105200897, 145.7007454932554, 145.72104373285714, 145.7020774737143, 145.70043849041974, 145.70253735068786, 145.72186510857142, 145.70417514666667, 145.7228644706331, 145.72193030971943, 145.71879146795604, 145.70120285053315, 145.72138976599996, 145.70873932712956, 145.70628737874418, 145.70067366997733, 145.72391538367313, 145.7006749188771, 145.70430492299798, 145.71958549969116, 145.70532644606058, 145.70408927033228, 145.70425504249997, 145.7030548120238, 145.70068720952216, 145.71953222752165, 145.718616371746, 145.70550778204463, 145.70543009613274, 145.71645865229024, 145.70940093035713, 145.72203755991347, 145.72406860444445, 145.7262279443651, 145.7210830344646, 145.70155113824902, 145.72580435103535, 145.70862741060532, 145.70842997999998, 145.70232743494824, 145.7059309418043, 145.70062026684798, 145.7220664930159, 145.7028747946939, 145.70554979720978, 145.72120110892857, 145.7007598259052, 145.71681764727273, 145.70313426874776, 145.72724859111113, 145.7229468635344, 145.7197160245389, 145.7220879634656, 145.71935333500002, 145.72055617179484, 145.70139127052724, 145.72452893470083, 145.7016015555808, 145.72301957478942, 145.72113352053185, 145.72091266632515, 145.70559518737485, 145.7257737928889, 145.722061275, 145.70760532593255, 145.70339638938927, 145.71986949492066, 145.70076144719854, 145.723112124127, 145.70141738019677, 145.72019038644447, 145.70244024324649, 145.7232385146249, 145.719282336, 145.7220759171429, 145.70058416884922, 145.70458168852608, 145.72082342121212, 145.7014106804164, 145.7209852395873, 145.72381215962963, 145.70042258059763, 145.72235369222355, 145.70285218359473, 145.70526581000001, 145.72419076666668, 145.701796125, 145.70050778821846, 145.719077114321, 145.72418068106782, 145.70106724557002, 145.70317481119127, 145.70758046543423, 145.70503109405894, 145.72022331666668, 145.724919305, 145.7004658153846, 145.7045734174825, 145.7218393817949, 145.70448313156464, 145.71988924880952, 145.7210730610909, 145.70383706153842, 145.70190418559525, 145.70091050031746, 145.70235269523806, 145.71722978810178, 145.70470016, 145.70276049790476, 145.7040342501936, 145.72018751936508, 145.71877227960928, 145.72063590399998, 145.70234881, 145.70101991103343, 145.7062784714161, 145.7212717391837, 145.704863722735, 145.7019263263688, 145.72223441657542, 145.70220294556518, 145.70253004835166, 145.71986093481482], \"type\": \"scatter\"}], {\"yaxis\": {\"scaleratio\": 1, \"scaleanchor\": \"x\"}, \"title\": \"Yorkey's Knob Building Cluster Coordinates with 200 Clusters\"}, {\"linkText\": \"Export to plot.ly\", \"showLink\": true})});</script>"
      ],
      "text/vnd.plotly.v1+html": [
       "<div id=\"e9fbcece-2b05-4039-a729-878377aa5c82\" style=\"height: 525px; width: 100%;\" class=\"plotly-graph-div\"></div><script type=\"text/javascript\">require([\"plotly\"], function(Plotly) { window.PLOTLYENV=window.PLOTLYENV || {};window.PLOTLYENV.BASE_URL=\"https://plot.ly\";Plotly.newPlot(\"e9fbcece-2b05-4039-a729-878377aa5c82\", [{\"name\": \"Cluster 0 Buildings\", \"marker\": {\"color\": \"rgba(25,25,25, 0.75)\", \"size\": 6}, \"mode\": \"markers\", \"y\": [-16.81016736, -16.810327540000007, -16.81018297272727, -16.81017757777778, -16.810449657142858, -16.81027718888889, -16.81098318, -16.811268820000002, -16.810653014285712, -16.81076142857143, -16.810466914285715, -16.810611785714286, -16.81083027142857, -16.81042301111111, -16.811079366666664], \"x\": [145.71928192, 145.71966254, 145.71944411818183, 145.71965485555555, 145.71981104285715, 145.71983798888888, 145.71950168, 145.71970349999998, 145.71967501428568, 145.71925425714286, 145.7196566285714, 145.71926221428572, 145.71968622857142, 145.71925286666666, 145.71962802222222], \"type\": \"scatter\"}, {\"name\": \"Cluster 1 Buildings\", \"marker\": {\"color\": \"rgba(50,50,50, 0.75)\", \"size\": 6}, \"mode\": \"markers\", \"y\": [-16.815322876923076, -16.814936644444444, -16.815034311111113, -16.815164830769227, -16.8156984, -16.815387485714286, -16.815275585714286, -16.81522126666667, -16.815681955555554, -16.815864055555554, -16.815487, -16.815529244444438, -16.815722136363636, -16.815567222222224], \"x\": [145.70479866153846, 145.7047116, 145.7048207, 145.70443711538462, 145.70477169999995, 145.70390914285713, 145.70413001428568, 145.70424472222226, 145.70438822222226, 145.70475532222218, 145.70435957777775, 145.70478936666666, 145.70406545454546, 145.70400774444445], \"type\": \"scatter\"}, {\"name\": \"Cluster 2 Buildings\", \"marker\": {\"color\": \"rgba(75,75,75, 0.75)\", \"size\": 6}, \"mode\": \"markers\", \"y\": [-16.808793804, -16.808733619999998, -16.809132820000002, -16.80902094, -16.808704000000002, -16.808946820000006, -16.809004960000006, -16.809164700000004, -16.80906934, -16.80906602, -16.808839411111116, -16.808820211111108, -16.8092648, -16.809310300000003, -16.80939224, -16.8094441], \"x\": [145.72391608, 145.72373722, 145.72437554, 145.72445332, 145.72412612, 145.72408046, 145.72426282, 145.72399065999997, 145.72370452, 145.72380372, 145.7244845888889, 145.72430432222222, 145.72370488, 145.72388704, 145.72365638000005, 145.72378928571428], \"type\": \"scatter\"}, {\"name\": \"Cluster 3 Buildings\", \"marker\": {\"color\": \"rgba(100,100,100, 0.75)\", \"size\": 6}, \"mode\": \"markers\", \"y\": [-16.81920846, -16.819410457142858, -16.82006164, -16.81941752, -16.81992808, -16.820034319999998, -16.81930648, -16.81965676, -16.82000256, -16.819598857142857, -16.81950421428571, -16.819719728571428, -16.81921834285714], \"x\": [145.71961993999997, 145.7193886285714, 145.71908678, 145.71969384, 145.71915206, 145.71926458000004, 145.71947344, 145.7192693, 145.71962334, 145.71967565714286, 145.71936361428575, 145.7190367285714, 145.71932694285715], \"type\": \"scatter\"}, {\"name\": \"Cluster 4 Buildings\", \"marker\": {\"color\": \"rgba(125,125,125, 0.75)\", \"size\": 6}, \"mode\": \"markers\", \"y\": [-16.81771636, -16.8174306, -16.81744596, -16.816789242857144, -16.81702167142857, -16.81731268181818, -16.817384981818186, -16.81735953333333, -16.817347155555556, -16.817340633333334, -16.817353366666666], \"x\": [145.70078642, 145.7014939, 145.70165660000004, 145.70151864285714, 145.70154870000005, 145.70073612727273, 145.70120056363638, 145.70110342222222, 145.70091935555558, 145.7008106333334, 145.7009994], \"type\": \"scatter\"}, {\"name\": \"Cluster 5 Buildings\", \"marker\": {\"color\": \"rgba(150,150,150, 0.75)\", \"size\": 6}, \"mode\": \"markers\", \"y\": [-16.80240804, -16.802335120000002, -16.80219444, -16.80259826, -16.80211324, -16.80328224285714, -16.802755528571428, -16.803122885714284, -16.80295098888889], \"x\": [145.70560036, 145.70571316000004, 145.70555518, 145.70572006, 145.70576288, 145.7056916, 145.70569288571429, 145.70570675714285, 145.70568085555556], \"type\": \"scatter\"}, {\"name\": \"Cluster 6 Buildings\", \"marker\": {\"color\": \"rgba(175,175,175, 0.75)\", \"size\": 6}, \"mode\": \"markers\", \"y\": [-16.820510579999997, -16.8207212, -16.82028136, -16.82043544, -16.82053614, -16.820431140000004, -16.820863214285716, -16.820657788888884], \"x\": [145.71923698, 145.71952712, 145.71917656, 145.71933230000002, 145.72017224, 145.7195854, 145.72015919999998, 145.71935687777776], \"type\": \"scatter\"}, {\"name\": \"Cluster 7 Buildings\", \"marker\": {\"color\": \"rgba(200,200,200, 0.75)\", \"size\": 6}, \"mode\": \"markers\", \"y\": [-16.80389696, -16.8039948, -16.80425592857143, -16.80416657142857, -16.804163455555553, -16.804198088888892, -16.80435696, -16.804635240000003, -16.80473368, -16.80480042, -16.804499160000002], \"x\": [145.70335396000004, 145.70326108, 145.70296665714287, 145.70335375714288, 145.7031406222222, 145.70352802222226, 145.70363636, 145.70390364, 145.70363589999997, 145.70349088, 145.70380512000003], \"type\": \"scatter\"}, {\"name\": \"Cluster 8 Buildings\", \"marker\": {\"color\": \"rgba(225,225,225, 0.75)\", \"size\": 6}, \"mode\": \"markers\", \"y\": [-16.809203060000005, -16.808933914285713, -16.808656699999997, -16.80881197142857, -16.809081642857144, -16.80931384, -16.8094577, -16.809194257142856, -16.809378185714284, -16.809444342857145, -16.8091031, -16.808990533333333, -16.80871181111111, -16.809583533333335], \"x\": [145.70175276, 145.70155995714288, 145.70132375714286, 145.70143821428573, 145.7016772285714, 145.70148242, 145.70178897142858, 145.7013924, 145.70193034285714, 145.70153588571424, 145.70127367142857, 145.70118863333337, 145.70117606666662, 145.70162992222225], \"type\": \"scatter\"}, {\"name\": \"Cluster 9 Buildings\", \"marker\": {\"color\": \"rgba(250,250,250, 0.75)\", \"size\": 6}, \"mode\": \"markers\", \"y\": [-16.813780279999996, -16.813433081818182, -16.813507499999996, -16.813401842857143, -16.813475814285713, -16.813758585714282, -16.81350505714286, -16.813525114285714, -16.813913133333333, -16.81348456666667, -16.813837611111108], \"x\": [145.71861806, 145.71830047272724, 145.7180742, 145.71787605714286, 145.7186517, 145.7181901142857, 145.7188601285714, 145.71905382857145, 145.71799635555558, 145.71848426666668, 145.71882123333333], \"type\": \"scatter\"}, {\"name\": \"Cluster 10 Buildings\", \"marker\": {\"color\": \"rgba(20,20,20, 0.75)\", \"size\": 6}, \"mode\": \"markers\", \"y\": [-16.81567522, -16.815969680000002, -16.815710022222227, -16.81559426666667, -16.8151388, -16.815342228571428, -16.81621354285714, -16.81598511111111, -16.814964555555555], \"x\": [145.71863764, 145.71856164000005, 145.71843054444446, 145.71829119999995, 145.71828216666663, 145.71818224285715, 145.71825468571433, 145.71830678888892, 145.71820701111108], \"type\": \"scatter\"}, {\"name\": \"Cluster 11 Buildings\", \"marker\": {\"color\": \"rgba(45,45,45, 0.75)\", \"size\": 6}, \"mode\": \"markers\", \"y\": [-16.812258645454545, -16.81224023076923, -16.811810546153847, -16.8120534, -16.81220572, -16.81186376, -16.811936299999996, -16.812258085714287, -16.81184825714286, -16.811812033333336, -16.812249955555554, -16.81217339], \"x\": [145.72389671818183, 145.72369266923076, 145.7240766153846, 145.72350146, 145.72407912, 145.7238733, 145.72443049999995, 145.72428158571432, 145.7242748857143, 145.7237, 145.72453347777778, 145.72354324000003], \"type\": \"scatter\"}, {\"name\": \"Cluster 12 Buildings\", \"marker\": {\"color\": \"rgba(70,70,70, 0.75)\", \"size\": 6}, \"mode\": \"markers\", \"y\": [-16.810751160000002, -16.810723455555557, -16.81142994, -16.81122782, -16.81167602, -16.81103322857143, -16.811084514285714, -16.81102832222222, -16.81123641111111, -16.81172418], \"x\": [145.7265426, 145.72671534444444, 145.72662975666663, 145.72646734, 145.72690194, 145.72639617142858, 145.72657008571431, 145.7262066777778, 145.72632080000002, 145.72670759], \"type\": \"scatter\"}, {\"name\": \"Cluster 13 Buildings\", \"marker\": {\"color\": \"rgba(95,95,95, 0.75)\", \"size\": 6}, \"mode\": \"markers\", \"y\": [-16.824732920000002, -16.82508096, -16.82553322, -16.8251073, -16.82510772, -16.825164660000002, -16.82509118, -16.825143100000002, -16.824955399999997], \"x\": [145.705096, 145.70495956, 145.70538115999997, 145.70452866, 145.70464711999998, 145.70572152, 145.70513946, 145.70479430000003, 145.70467378571428], \"type\": \"scatter\"}, {\"name\": \"Cluster 14 Buildings\", \"marker\": {\"color\": \"rgba(120,120,120, 0.75)\", \"size\": 6}, \"mode\": \"markers\", \"y\": [-16.81060508, -16.81094711818182, -16.81109348181818, -16.811288127272725, -16.810805338461538, -16.81072146, -16.811170211111108, -16.810803311111115, -16.810708277777778, -16.81105247777778, -16.810855800000002, -16.811019955555555, -16.810785259999996], \"x\": [145.70172634, 145.7019689909091, 145.70186768181816, 145.7021581090909, 145.70242740769234, 145.70170589999995, 145.70229424444446, 145.70260098888892, 145.7019444, 145.7016639, 145.70169034444447, 145.70239324444444, 145.70211242000005], \"type\": \"scatter\"}, {\"name\": \"Cluster 15 Buildings\", \"marker\": {\"color\": \"rgba(145,145,145, 0.75)\", \"size\": 6}, \"mode\": \"markers\", \"y\": [-16.802224763636364, -16.80145530833333, -16.801877339999994, -16.802412080000003, -16.802563780000003, -16.80206424, -16.802122100000002, -16.802251428571427, -16.802534355555554], \"x\": [145.72049317272732, 145.71998739166668, 145.72019454000005, 145.72062358, 145.72043266, 145.72062566, 145.7201446, 145.7207750285714, 145.72007585555556], \"type\": \"scatter\"}, {\"name\": \"Cluster 16 Buildings\", \"marker\": {\"color\": \"rgba(170,170,170, 0.75)\", \"size\": 6}, \"mode\": \"markers\", \"y\": [-16.811958620000002, -16.811826059999998, -16.811801879999994, -16.8115934, -16.811696211111116, -16.811911666666667, -16.812500059999998, -16.81232288, -16.812405379999998, -16.81213281428571, -16.81206147142857], \"x\": [145.71681757999997, 145.7170936, 145.71687944, 145.716873, 145.71714386666662, 145.71640047777774, 145.71670942, 145.71635536000005, 145.71657788, 145.71695727142858, 145.71640274285716], \"type\": \"scatter\"}, {\"name\": \"Cluster 17 Buildings\", \"marker\": {\"color\": \"rgba(195,195,195, 0.75)\", \"size\": 6}, \"mode\": \"markers\", \"y\": [-16.81266784, -16.812946600000004, -16.812657345454546, -16.812984236363633, -16.81318161818182, -16.812708941666667, -16.81291594, -16.812686499999998, -16.812803600000002, -16.81299262, -16.813048185714287, -16.812718457142857, -16.8127105], \"x\": [145.71804762000005, 145.71788844, 145.71767460000004, 145.7181545090909, 145.7177553090909, 145.71862585833338, 145.71852548, 145.71820548, 145.71851576, 145.71836434, 145.71855589999996, 145.71842814285716, 145.71784730000005], \"type\": \"scatter\"}, {\"name\": \"Cluster 18 Buildings\", \"marker\": {\"color\": \"rgba(220,220,220, 0.75)\", \"size\": 6}, \"mode\": \"markers\", \"y\": [-16.810818140000002, -16.810914328571428, -16.81104398, -16.810829342857144, -16.81098942857143, -16.810806671428573, -16.810882622222227, -16.811315627272727, -16.811340085714278, -16.811343571428573, -16.811361842857142, -16.81123105, -16.81129622], \"x\": [145.72376186000002, 145.72451912857144, 145.7238833, 145.72396952857142, 145.72430965714287, 145.72359498571427, 145.72414483333333, 145.7238723, 145.72405044285713, 145.72424615714286, 145.7244536142857, 145.72370421250002, 145.72351121], \"type\": \"scatter\"}, {\"name\": \"Cluster 19 Buildings\", \"marker\": {\"color\": \"rgba(245,245,245, 0.75)\", \"size\": 6}, \"mode\": \"markers\", \"y\": [-16.809974320000002, -16.810036, -16.810036, -16.810281879999998, -16.81007984, -16.81026306, -16.809964400000002, -16.81032, -16.810471142857143, -16.810408685714286, -16.810080600000003, -16.810468744444446, -16.80998374444444, -16.809981811111108, -16.80993831111111, -16.810440309090907, -16.8104181, -16.810444699999998], \"x\": [145.71760476, 145.71814608, 145.71799108, 145.71781574000005, 145.71769796, 145.71761608, 145.71746888, 145.71795864, 145.71811430000002, 145.71769511428568, 145.71759864285713, 145.7179261, 145.71712491111109, 145.71783071111108, 145.71735425555553, 145.71735479999995, 145.71717596000005, 145.71753851428576], \"type\": \"scatter\"}, {\"name\": \"Cluster 20 Buildings\", \"marker\": {\"color\": \"rgba(15,15,15, 0.75)\", \"size\": 6}, \"mode\": \"markers\", \"y\": [-16.807065645454546, -16.806926927272727, -16.807217661538466, -16.808016147058822, -16.807979340000006, -16.807395244444443], \"x\": [145.70378031818183, 145.7039166181818, 145.70372516153847, 145.70368437058823, 145.70344958, 145.70365342222226], \"type\": \"scatter\"}, {\"name\": \"Cluster 21 Buildings\", \"marker\": {\"color\": \"rgba(40,40,40, 0.75)\", \"size\": 6}, \"mode\": \"markers\", \"y\": [-16.807392146153852, -16.80755728, -16.80791854, -16.807850499999994, -16.80767712, -16.80749558, -16.8073174, -16.808021259999997, -16.8080453, -16.807500377777778, -16.807740522222225], \"x\": [145.72228516923082, 145.72225418, 145.72219748, 145.72156656, 145.72158032000004, 145.72161649999995, 145.72171218, 145.7215822, 145.72179295555554, 145.72187078888888, 145.72220983333332], \"type\": \"scatter\"}, {\"name\": \"Cluster 22 Buildings\", \"marker\": {\"color\": \"rgba(65,65,65, 0.75)\", \"size\": 6}, \"mode\": \"markers\", \"y\": [-16.81384618181818, -16.813768336363633, -16.814522040000003, -16.814204699999998, -16.814286985714286, -16.81435867142857, -16.814399585714288, -16.813976385714284, -16.81406638888889, -16.814224854545458, -16.814121133333334], \"x\": [145.70254766363638, 145.70270761818185, 145.70193490000003, 145.70225152, 145.70179108571432, 145.70230581428572, 145.70184638571433, 145.70240681428572, 145.70215223333332, 145.7025459909091, 145.70268668888892], \"type\": \"scatter\"}, {\"name\": \"Cluster 23 Buildings\", \"marker\": {\"color\": \"rgba(90,90,90, 0.75)\", \"size\": 6}, \"mode\": \"markers\", \"y\": [-16.803385959999996, -16.803941027272728, -16.804113440000002, -16.80398452, -16.80364518, -16.803708314285718, -16.80385582857143, -16.804462159999996, -16.804278919999998], \"x\": [145.70531648, 145.70512641818183, 145.70512340000002, 145.7047434, 145.70497808, 145.70521627142858, 145.70484810000005, 145.70502258, 145.70506600000004], \"type\": \"scatter\"}, {\"name\": \"Cluster 24 Buildings\", \"marker\": {\"color\": \"rgba(115,115,115, 0.75)\", \"size\": 6}, \"mode\": \"markers\", \"y\": [-16.80854642, -16.80884342, -16.808936179999996, -16.808603920000003, -16.80866832, -16.80868832, -16.80855802, -16.80875118, -16.80874724, -16.808620933333334, -16.808822066666664], \"x\": [145.7229321, 145.72256894, 145.7226608, 145.72335569999998, 145.72275794, 145.72335388000005, 145.72305769999997, 145.72294802, 145.72314153999997, 145.7225810333333, 145.7233480444444], \"type\": \"scatter\"}, {\"name\": \"Cluster 25 Buildings\", \"marker\": {\"color\": \"rgba(140,140,140, 0.75)\", \"size\": 6}, \"mode\": \"markers\", \"y\": [-16.82675598, -16.82718076, -16.82589511111111], \"x\": [145.70835466, 145.70872321999997, 145.70848006666668], \"type\": \"scatter\"}, {\"name\": \"Cluster 26 Buildings\", \"marker\": {\"color\": \"rgba(165,165,165, 0.75)\", \"size\": 6}, \"mode\": \"markers\", \"y\": [-16.802151618181814, -16.801995630769234, -16.802240559999994, -16.80252418, -16.801814599999997, -16.80241014285714, -16.802635044444443], \"x\": [145.7047222909091, 145.70474663846153, 145.70451332, 145.70428296, 145.70484891111113, 145.70440195714292, 145.70411431111108], \"type\": \"scatter\"}, {\"name\": \"Cluster 27 Buildings\", \"marker\": {\"color\": \"rgba(190,190,190, 0.75)\", \"size\": 6}, \"mode\": \"markers\", \"y\": [-16.812318072727273, -16.813146420000002, -16.81254078, -16.812243099999996, -16.812915757142857, -16.812801414285715, -16.81225602857143, -16.812514433333334, -16.812642611111116, -16.812220777777775, -16.813121940000002], \"x\": [145.71961173636362, 145.7193112, 145.71950178, 145.71922816, 145.71950111428572, 145.71949548571428, 145.71940457142858, 145.7191073555556, 145.71953424444442, 145.71907162222226, 145.71950012], \"type\": \"scatter\"}, {\"name\": \"Cluster 28 Buildings\", \"marker\": {\"color\": \"rgba(215,215,215, 0.75)\", \"size\": 6}, \"mode\": \"markers\", \"y\": [-16.80661858, -16.806428880000002, -16.80714966, -16.80660336, -16.80699556, -16.806452685714284, -16.806971746153845, -16.806816100000002, -16.80725118, -16.80660938, -16.80673766, -16.806965279999996, -16.807145560000002, -16.806790185714284], \"x\": [145.72221772, 145.72182096, 145.72183608, 145.72188848000005, 145.72236669999998, 145.72227949999996, 145.72174849230768, 145.72234432, 145.72228872, 145.72242606, 145.72244338000004, 145.72198802, 145.72227764000004, 145.72182949999998], \"type\": \"scatter\"}, {\"name\": \"Cluster 29 Buildings\", \"marker\": {\"color\": \"rgba(240,240,240, 0.75)\", \"size\": 6}, \"mode\": \"markers\", \"y\": [-16.808900686666668, -16.809280446153846, -16.809419300000002, -16.80932116], \"x\": [145.71662944666662, 145.71528719999995, 145.71632118, 145.71628833999995], \"type\": \"scatter\"}, {\"name\": \"Cluster 30 Buildings\", \"marker\": {\"color\": \"rgba(10,10,10, 0.75)\", \"size\": 6}, \"mode\": \"markers\", \"y\": [-16.812113736363635, -16.812032363636366, -16.811438163636364, -16.812050085714286, -16.811408955555557, -16.811503366666667, -16.811698166666666, -16.811569033333335], \"x\": [145.7021906909091, 145.70184790000002, 145.70203795454543, 145.7020174142857, 145.70166702222218, 145.70185923333332, 145.70164714444445, 145.70164466666668], \"type\": \"scatter\"}, {\"name\": \"Cluster 31 Buildings\", \"marker\": {\"color\": \"rgba(35,35,35, 0.75)\", \"size\": 6}, \"mode\": \"markers\", \"y\": [-16.80264235454546, -16.802657409090912, -16.80298384285714, -16.8026473, -16.802871822222222, -16.803074666666664, -16.803492966666667], \"x\": [145.71969244545457, 145.7192902909091, 145.71950615714286, 145.71984145555552, 145.71934481111109, 145.71978745555555, 145.71892204444444], \"type\": \"scatter\"}, {\"name\": \"Cluster 32 Buildings\", \"marker\": {\"color\": \"rgba(60,60,60, 0.75)\", \"size\": 6}, \"mode\": \"markers\", \"y\": [-16.81208514, -16.812952600000006, -16.8131217, -16.812752057142855, -16.812840185714286, -16.812880399999994, -16.812717311111108, -16.81258936666667, -16.813010633333334, -16.812425344444446, -16.812249066666666], \"x\": [145.7200949, 145.71994464, 145.71993650000005, 145.72043281428572, 145.72000687142858, 145.72044583333332, 145.72002115555554, 145.7200146222222, 145.7204479333334, 145.72001976666667, 145.7200580111111], \"type\": \"scatter\"}, {\"name\": \"Cluster 33 Buildings\", \"marker\": {\"color\": \"rgba(85,85,85, 0.75)\", \"size\": 6}, \"mode\": \"markers\", \"y\": [-16.808966488, -16.80883724, -16.80842036, -16.80827116, -16.80863264, -16.808412299999997, -16.80834482, -16.808732340000002, -16.808401519999997, -16.808401500000002, -16.80854064, -16.8085868, -16.80848064, -16.808724571428574, -16.808745599999998, -16.808913933333333, -16.808932866666666], \"x\": [145.72081815200002, 145.720327, 145.72055986, 145.72047046, 145.72043237999995, 145.72048634, 145.72076328, 145.72075316, 145.72096216, 145.72039308, 145.72077966, 145.72097451999997, 145.72045562, 145.72035598571432, 145.72091637777774, 145.72051109999995, 145.71989397777776], \"type\": \"scatter\"}, {\"name\": \"Cluster 34 Buildings\", \"marker\": {\"color\": \"rgba(110,110,110, 0.75)\", \"size\": 6}, \"mode\": \"markers\", \"y\": [-16.814141509090913, -16.81411645, -16.814013246153852, -16.813986840000002, -16.81429449090909, -16.814376016666667, -16.81421168888889, -16.81472146363636, -16.81444087142857, -16.81436486666667, -16.814532611111108, -16.814272033333335, -16.814450455555562, -16.814595566666668], \"x\": [145.7037461909091, 145.70347155, 145.7036106, 145.70371563999996, 145.70387802727268, 145.7036342083333, 145.70333594444443, 145.70306697272727, 145.70289435714287, 145.7030631888889, 145.70336813333338, 145.70320404444442, 145.70347626666666, 145.7032095666667], \"type\": \"scatter\"}, {\"name\": \"Cluster 35 Buildings\", \"marker\": {\"color\": \"rgba(135,135,135, 0.75)\", \"size\": 6}, \"mode\": \"markers\", \"y\": [-16.811083900000003, -16.81093077142857, -16.81086115714286, -16.810931085714284, -16.81146978, -16.811152040000003, -16.81139724, -16.811349, -16.811385542857142, -16.81152936, -16.81107966, -16.811320199999997, -16.811523342857143, -16.811522755555554], \"x\": [145.72563494000005, 145.7251479285714, 145.72470401428572, 145.72486057142856, 145.72476348, 145.72525052, 145.72480832, 145.72522827142856, 145.72498962857142, 145.72515448, 145.72507916, 145.72567454, 145.72572125714285, 145.7253235555556], \"type\": \"scatter\"}, {\"name\": \"Cluster 36 Buildings\", \"marker\": {\"color\": \"rgba(160,160,160, 0.75)\", \"size\": 6}, \"mode\": \"markers\", \"y\": [-16.80753412352941, -16.807649880000003, -16.80726888, -16.80712152, -16.8075495, -16.80743546, -16.80723404, -16.80799536, -16.80780944, -16.807092660000002, -16.807730499999998, -16.807809040000002, -16.80779886666667, -16.808163942857142], \"x\": [145.72282785294118, 145.72296454000005, 145.72300884, 145.72277996, 145.72297202, 145.72299688, 145.722786, 145.72280104, 145.72269592000004, 145.7229888, 145.72270374, 145.7229249, 145.7228779333333, 145.72284611428572], \"type\": \"scatter\"}, {\"name\": \"Cluster 37 Buildings\", \"marker\": {\"color\": \"rgba(185,185,185, 0.75)\", \"size\": 6}, \"mode\": \"markers\", \"y\": [-16.816585800000002, -16.816592179999994, -16.816639379999998, -16.81715884, -16.81653732, -16.817084899999998, -16.816681842857143, -16.817166914285714, -16.817015277777774, -16.816991011111117], \"x\": [145.71876332727268, 145.7189895, 145.71889620000005, 145.71928180000003, 145.71858286000003, 145.71912095714285, 145.71908734285714, 145.71862507142856, 145.71871933333333, 145.7189319], \"type\": \"scatter\"}, {\"name\": \"Cluster 38 Buildings\", \"marker\": {\"color\": \"rgba(210,210,210, 0.75)\", \"size\": 6}, \"mode\": \"markers\", \"y\": [-16.812288560000002, -16.81187996, -16.8122301, -16.81183908, -16.811954800000002, -16.811681720000006, -16.81167454, -16.812247242857143, -16.812281471428573, -16.811832355555556, -16.812225033333334, -16.812010555555556], \"x\": [145.71863452, 145.71819867999997, 145.71789154, 145.71848054, 145.71792408000005, 145.7186459, 145.71848774, 145.71827985714285, 145.71846391428568, 145.71864406666666, 145.71808840000003, 145.71861618888892], \"type\": \"scatter\"}, {\"name\": \"Cluster 39 Buildings\", \"marker\": {\"color\": \"rgba(235,235,235, 0.75)\", \"size\": 6}, \"mode\": \"markers\", \"y\": [-16.81465728181818, -16.81500144, -16.81481112, -16.814844414285712, -16.8150178625, -16.81465612222222, -16.815140344444444, -16.814483300000003], \"x\": [145.72224607272733, 145.7222081, 145.72171018000003, 145.72221862857143, 145.721699975, 145.72176467777774, 145.72220439999995, 145.72229246666666], \"type\": \"scatter\"}, {\"name\": \"Cluster 40 Buildings\", \"marker\": {\"color\": \"rgba(5,5,5, 0.75)\", \"size\": 6}, \"mode\": \"markers\", \"y\": [-16.80599066, -16.80596086363636, -16.80554066923077, -16.805838347058824, -16.80570307777778, -16.806657407692303, -16.80607248, -16.806567085714285, -16.806348400000005], \"x\": [145.7064159, 145.70620727272728, 145.7060716307692, 145.70616834117646, 145.70606917777778, 145.70630026923078, 145.70576018, 145.7061642857143, 145.70600482222218], \"type\": \"scatter\"}, {\"name\": \"Cluster 41 Buildings\", \"marker\": {\"color\": \"rgba(30,30,30, 0.75)\", \"size\": 6}, \"mode\": \"markers\", \"y\": [-16.80529688, -16.8050883, -16.805178625, -16.80561909090909, -16.805499423076924, -16.80556498, -16.805947699999994, -16.80529814, -16.805703822222224, -16.80540642222222, -16.805718576923073], \"x\": [145.7056253, 145.7053141333334, 145.7050950375, 145.7052867181818, 145.7054276307692, 145.7047381, 145.70484661999996, 145.70496936, 145.70463389999995, 145.70484585555556, 145.7051614230769], \"type\": \"scatter\"}, {\"name\": \"Cluster 42 Buildings\", \"marker\": {\"color\": \"rgba(55,55,55, 0.75)\", \"size\": 6}, \"mode\": \"markers\", \"y\": [-16.808028741666664, -16.80698264, -16.80797954, -16.80718182, -16.80729786, -16.80697624, -16.807696999999994, -16.80766546, -16.807487679999998], \"x\": [145.72354815833333, 145.72375812, 145.72332494000003, 145.72364438, 145.72352192, 145.72346546, 145.72368369999998, 145.72343963999995, 145.72349531999996], \"type\": \"scatter\"}, {\"name\": \"Cluster 43 Buildings\", \"marker\": {\"color\": \"rgba(80,80,80, 0.75)\", \"size\": 6}, \"mode\": \"markers\", \"y\": [-16.80094819090909, -16.801320339999997, -16.801005080000003, -16.800766860000003, -16.80112748, -16.800560060000002, -16.8007319, -16.800694600000003, -16.80084972857143, -16.800795533333332, -16.800407633333336, -16.80102417777778], \"x\": [145.70743888181815, 145.70788606000005, 145.70822406, 145.70756014, 145.70772104000002, 145.70787734, 145.70746626, 145.70803302, 145.7081566, 145.70736453333333, 145.70776667777778, 145.70765043333333], \"type\": \"scatter\"}, {\"name\": \"Cluster 44 Buildings\", \"marker\": {\"color\": \"rgba(105,105,105, 0.75)\", \"size\": 6}, \"mode\": \"markers\", \"y\": [-16.807988978260873, -16.80747672, -16.807802900000002, -16.80806786, -16.80760152857143, -16.80845986, -16.808282866666666], \"x\": [145.7252235913043, 145.72500962, 145.72513095999997, 145.72503764, 145.72514381428567, 145.72543222, 145.72545837777776], \"type\": \"scatter\"}, {\"name\": \"Cluster 45 Buildings\", \"marker\": {\"color\": \"rgba(130,130,130, 0.75)\", \"size\": 6}, \"mode\": \"markers\", \"y\": [-16.807477371428572, -16.80712086, -16.80723674, -16.80757532, -16.807377719999998, -16.807790320000002, -16.807528280000003, -16.807978207692305, -16.807921846153842, -16.807651366666665], \"x\": [145.72100501428568, 145.72052486, 145.72052726, 145.72097204000005, 145.72052106, 145.72101424000004, 145.72051317999995, 145.720976, 145.72047260000005, 145.72046985555556], \"type\": \"scatter\"}, {\"name\": \"Cluster 46 Buildings\", \"marker\": {\"color\": \"rgba(155,155,155, 0.75)\", \"size\": 6}, \"mode\": \"markers\", \"y\": [-16.80378982, -16.80393188, -16.803538299999996, -16.803629739999998, -16.803883120000002, -16.80351772857143, -16.803293285714286], \"x\": [145.7217008, 145.72152025999995, 145.72205659999997, 145.72152562000005, 145.7212939, 145.72241797142857, 145.7220141], \"type\": \"scatter\"}, {\"name\": \"Cluster 47 Buildings\", \"marker\": {\"color\": \"rgba(180,180,180, 0.75)\", \"size\": 6}, \"mode\": \"markers\", \"y\": [-16.81762428181818, -16.81777032727273, -16.8177837, -16.81796662, -16.817386579999994, -16.817998499999998, -16.81754588, -16.817551820000002, -16.817987444444444, -16.81817728888889], \"x\": [145.71859063636361, 145.7185559909091, 145.71898163999995, 145.71896036000004, 145.71859456, 145.71911924, 145.71921814, 145.71900913999997, 145.71855337777774, 145.71853968888888], \"type\": \"scatter\"}, {\"name\": \"Cluster 48 Buildings\", \"marker\": {\"color\": \"rgba(205,205,205, 0.75)\", \"size\": 6}, \"mode\": \"markers\", \"y\": [-16.81240724, -16.812599119999998, -16.8123116, -16.81222134, -16.8120425, -16.812081499999998, -16.812763920000002, -16.81262436, -16.812651171428573, -16.81273362857143, -16.812549014285715, -16.812271311111108], \"x\": [145.72149022, 145.72103942, 145.72110904000004, 145.72110072, 145.72122606000005, 145.72156834000003, 145.72145332, 145.72114736, 145.72153531428572, 145.72102028571427, 145.72153724285715, 145.72155552222225], \"type\": \"scatter\"}, {\"name\": \"Cluster 49 Buildings\", \"marker\": {\"color\": \"rgba(230,230,230, 0.75)\", \"size\": 6}, \"mode\": \"markers\", \"y\": [-16.814591979999996, -16.81481106, -16.815077600000002, -16.815019385714287, -16.814684399999997, -16.814408022222224, -16.814866111111108, -16.814532033333332, -16.814763177777778], \"x\": [145.72081936, 145.72078159999998, 145.72073404, 145.72016918571433, 145.72021612857142, 145.72033829999995, 145.72025116666666, 145.72026650000004, 145.72086766666666], \"type\": \"scatter\"}, {\"name\": \"Cluster 50 Buildings\", \"marker\": {\"color\": \"rgba(255,255,255, 0.75)\", \"size\": 6}, \"mode\": \"markers\", \"y\": [-16.813278090909094, -16.81258249090909, -16.813270640000002, -16.81309028, -16.812682059999997, -16.81278434, -16.81311548, -16.812947228571428, -16.813311985714282, -16.812776344444448], \"x\": [145.72300546363638, 145.72292598181818, 145.72338956, 145.72290149999995, 145.72326578000005, 145.72312168, 145.72298008, 145.72290942857143, 145.72284317142856, 145.72290965555555], \"type\": \"scatter\"}, {\"name\": \"Cluster 51 Buildings\", \"marker\": {\"color\": \"rgba(25,25,25, 0.75)\", \"size\": 6}, \"mode\": \"markers\", \"y\": [-16.80332244705882, -16.80394882, -16.803896459999994, -16.804058719999997, -16.80372128571429, -16.803698855555556], \"x\": [145.72320401176472, 145.72289666, 145.72274206, 145.72229134, 145.72308344285713, 145.7232786666667], \"type\": \"scatter\"}, {\"name\": \"Cluster 52 Buildings\", \"marker\": {\"color\": \"rgba(50,50,50, 0.75)\", \"size\": 6}, \"mode\": \"markers\", \"y\": [-16.80790254, -16.80818052, -16.8085733, -16.80838852222222, -16.808229211111108, -16.808357166666664, -16.807986855555555, -16.808487318181818, -16.808593585714288, -16.808863014285713, -16.808790955555555], \"x\": [145.70432608, 145.70468472000005, 145.70473418571427, 145.70396367777778, 145.70449096666667, 145.70456274444442, 145.7042386, 145.70403956363634, 145.70414674285715, 145.70444932857143, 145.70430563333332], \"type\": \"scatter\"}, {\"name\": \"Cluster 53 Buildings\", \"marker\": {\"color\": \"rgba(75,75,75, 0.75)\", \"size\": 6}, \"mode\": \"markers\", \"y\": [-16.81114548, -16.81134968, -16.810980185714286, -16.81152603076923, -16.811639007692307, -16.811864919999998, -16.81166314, -16.81178412, -16.81145274, -16.811758255555556], \"x\": [145.71926944, 145.71918738, 145.71924428571432, 145.71917774615386, 145.71965370769232, 145.71927426, 145.71944116, 145.71927806, 145.71964748, 145.7190968444444], \"type\": \"scatter\"}, {\"name\": \"Cluster 54 Buildings\", \"marker\": {\"color\": \"rgba(100,100,100, 0.75)\", \"size\": 6}, \"mode\": \"markers\", \"y\": [-16.809802041176475, -16.80963266, -16.809309399999997, -16.80926834, -16.80944678, -16.809385459999998, -16.80931314, -16.80952488, -16.80975512222222, -16.809586000000003], \"x\": [145.72037297647063, 145.72020518, 145.72053946, 145.72029884, 145.72091645999996, 145.72034312, 145.72065898, 145.72034044, 145.72072284444445, 145.72080855555558], \"type\": \"scatter\"}, {\"name\": \"Cluster 55 Buildings\", \"marker\": {\"color\": \"rgba(125,125,125, 0.75)\", \"size\": 6}, \"mode\": \"markers\", \"y\": [-16.803246960000006, -16.80312412, -16.802989779999994, -16.802773359999996, -16.80269308, -16.802756985714286, -16.8029765, -16.8031132, -16.80289406, -16.80286972857143], \"x\": [145.7034049, 145.70357946, 145.70341122, 145.70372822, 145.7037742, 145.70399257142859, 145.70371168, 145.7033485, 145.70363302, 145.70386458571429], \"type\": \"scatter\"}, {\"name\": \"Cluster 56 Buildings\", \"marker\": {\"color\": \"rgba(150,150,150, 0.75)\", \"size\": 6}, \"mode\": \"markers\", \"y\": [-16.8103919, -16.81023634, -16.810510779999998, -16.810387900000002, -16.810206666666666, -16.811197, -16.810769999999998, -16.810645814285714], \"x\": [145.72069888, 145.72070144, 145.72065493999997, 145.72030569999998, 145.72039735555555, 145.7204841, 145.72067568888892, 145.72028495714284], \"type\": \"scatter\"}, {\"name\": \"Cluster 57 Buildings\", \"marker\": {\"color\": \"rgba(175,175,175, 0.75)\", \"size\": 6}, \"mode\": \"markers\", \"y\": [-16.811716154545458, -16.811801435294118, -16.8115211, -16.811430440000002, -16.811607000000002, -16.81134964, -16.81120954, -16.810873785714286, -16.811563, -16.810972977777773], \"x\": [145.71742242727268, 145.7176799058824, 145.71770134000005, 145.71748026, 145.71773263999995, 145.71783352000003, 145.71782842, 145.71769875714287, 145.71748395714286, 145.7178810888889], \"type\": \"scatter\"}, {\"name\": \"Cluster 58 Buildings\", \"marker\": {\"color\": \"rgba(200,200,200, 0.75)\", \"size\": 6}, \"mode\": \"markers\", \"y\": [-16.80184244, -16.801715360000006], \"x\": [145.71773106, 145.71891562000005], \"type\": \"scatter\"}, {\"name\": \"Cluster 59 Buildings\", \"marker\": {\"color\": \"rgba(225,225,225, 0.75)\", \"size\": 6}, \"mode\": \"markers\", \"y\": [-16.80173863636364, -16.801412827272728, -16.801229557142864, -16.801502160000002, -16.80139102, -16.80157104285714], \"x\": [145.7217159818182, 145.7205963909091, 145.7209160142857, 145.72082976, 145.72132735999998, 145.72149654285712], \"type\": \"scatter\"}, {\"name\": \"Cluster 60 Buildings\", \"marker\": {\"color\": \"rgba(250,250,250, 0.75)\", \"size\": 6}, \"mode\": \"markers\", \"y\": [-16.81067456, -16.810708685714285, -16.810753511111113, -16.811197054545456, -16.811007639999996, -16.81106638, -16.810682500000002, -16.81129862, -16.811182142857145, -16.811145328571428, -16.810761933333332], \"x\": [145.72263610000002, 145.72279301428574, 145.72302157777776, 145.72290556363637, 145.72258824, 145.72322586, 145.72242994000004, 145.72322791999997, 145.72253138571432, 145.7227344, 145.7224681111111], \"type\": \"scatter\"}, {\"name\": \"Cluster 61 Buildings\", \"marker\": {\"color\": \"rgba(20,20,20, 0.75)\", \"size\": 6}, \"mode\": \"markers\", \"y\": [-16.803555918181818, -16.802945779999998, -16.803288279999997, -16.80333594, -16.8030215, -16.80323222, -16.802984579999997, -16.803410860000003, -16.802867499999998, -16.803154557142857], \"x\": [145.71043621818183, 145.71020886000005, 145.71058776, 145.71037388, 145.71003169999997, 145.71036153999995, 145.71028446, 145.71054964, 145.70992434, 145.71020264285715], \"type\": \"scatter\"}, {\"name\": \"Cluster 62 Buildings\", \"marker\": {\"color\": \"rgba(45,45,45, 0.75)\", \"size\": 6}, \"mode\": \"markers\", \"y\": [-16.803820280000004, -16.80388494, -16.803793219999996, -16.803812, -16.8034423, -16.803546177777775, -16.803647111111108, -16.80391965714286, -16.80402102857143, -16.804158400000002, -16.804280355555562], \"x\": [145.702129, 145.70176116, 145.70191792, 145.70266571428567, 145.70239115714287, 145.70221919999997, 145.70204579999995, 145.70253927142858, 145.70235394285714, 145.7022345888889, 145.7021157222222], \"type\": \"scatter\"}, {\"name\": \"Cluster 63 Buildings\", \"marker\": {\"color\": \"rgba(70,70,70, 0.75)\", \"size\": 6}, \"mode\": \"markers\", \"y\": [-16.81426076, -16.814218840000002, -16.814290484615384, -16.814547005263158, -16.81429638571429, -16.814342214285713, -16.81454499090909, -16.814718980000002, -16.814689533333336], \"x\": [145.71836524, 145.71814178, 145.7187918230769, 145.7186305684211, 145.71899188571427, 145.71859094285716, 145.71833111818182, 145.71816819999998, 145.7188055111111], \"type\": \"scatter\"}, {\"name\": \"Cluster 64 Buildings\", \"marker\": {\"color\": \"rgba(95,95,95, 0.75)\", \"size\": 6}, \"mode\": \"markers\", \"y\": [-16.806348636363634, -16.807014036363636, -16.806771807692307, -16.80689908, -16.807225866666666, -16.806234099999998], \"x\": [145.70517969999997, 145.70532437272723, 145.70513979999996, 145.70526977999995, 145.7056146333333, 145.70526717777776], \"type\": \"scatter\"}, {\"name\": \"Cluster 65 Buildings\", \"marker\": {\"color\": \"rgba(120,120,120, 0.75)\", \"size\": 6}, \"mode\": \"markers\", \"y\": [-16.811041839999998, -16.810989057142855, -16.810976942857142, -16.811275560000002, -16.81131204, -16.81139974, -16.811613320000006, -16.811263559999997, -16.81148312, -16.811482685714285, -16.811269822222222], \"x\": [145.71879968, 145.71861348571431, 145.71843795714284, 145.7184659, 145.71856102, 145.71823114, 145.71829377999995, 145.71829312000003, 145.71841106000005, 145.71871807142855, 145.71874323333333], \"type\": \"scatter\"}, {\"name\": \"Cluster 66 Buildings\", \"marker\": {\"color\": \"rgba(145,145,145, 0.75)\", \"size\": 6}, \"mode\": \"markers\", \"y\": [-16.813460371428572, -16.813137645454546, -16.813831446153845, -16.81383928, -16.81372722857143, -16.813499585714286, -16.813753322222222], \"x\": [145.70058834285715, 145.70028311818183, 145.7007999, 145.70053148000005, 145.70050621428572, 145.70074164285714, 145.70066461111108], \"type\": \"scatter\"}, {\"name\": \"Cluster 67 Buildings\", \"marker\": {\"color\": \"rgba(170,170,170, 0.75)\", \"size\": 6}, \"mode\": \"markers\", \"y\": [-16.814800127272726, -16.814908092307693, -16.814538885714285, -16.814748185714286, -16.8146122375, -16.814679433333332, -16.815054654545452, -16.814800385714285, -16.814929971428572, -16.81519302222222, -16.815334544444443], \"x\": [145.70288935454545, 145.70271188461538, 145.70269775714286, 145.70260068571432, 145.7025500625, 145.70203180000001, 145.70225564545456, 145.70213814285714, 145.7022087714286, 145.70232316666667, 145.70237762222226], \"type\": \"scatter\"}, {\"name\": \"Cluster 68 Buildings\", \"marker\": {\"color\": \"rgba(195,195,195, 0.75)\", \"size\": 6}, \"mode\": \"markers\", \"y\": [-16.814554763636366, -16.814710418181818, -16.81496516153846, -16.81516694, -16.8149974, -16.815048342857143, -16.814931514285714, -16.81510621111111, -16.81473598888889, -16.814783622222222, -16.814847744444442, -16.814835644444447], \"x\": [145.70400116363638, 145.70382172727273, 145.70398804615385, 145.70354996, 145.70326784285714, 145.70382261428568, 145.703399, 145.70370193333332, 145.70408997777776, 145.70366575555556, 145.70419230000005, 145.70353706666666], \"type\": \"scatter\"}, {\"name\": \"Cluster 69 Buildings\", \"marker\": {\"color\": \"rgba(220,220,220, 0.75)\", \"size\": 6}, \"mode\": \"markers\", \"y\": [-16.814201880000002, -16.813995745454545, -16.8141293, -16.814001457142858, -16.814252900000003, -16.814112766666668], \"x\": [145.71982884, 145.72034186363638, 145.7198123, 145.71983278571423, 145.72030889999996, 145.72030387777778], \"type\": \"scatter\"}, {\"name\": \"Cluster 70 Buildings\", \"marker\": {\"color\": \"rgba(245,245,245, 0.75)\", \"size\": 6}, \"mode\": \"markers\", \"y\": [-16.806457300000005, -16.806362580000002, -16.80625972, -16.806511628571428, -16.80705315555555, -16.807072544444445], \"x\": [145.70672813529413, 145.70661022000004, 145.70673563999995, 145.70688441428572, 145.70678203333333, 145.70710064444444], \"type\": \"scatter\"}, {\"name\": \"Cluster 71 Buildings\", \"marker\": {\"color\": \"rgba(15,15,15, 0.75)\", \"size\": 6}, \"mode\": \"markers\", \"y\": [-16.815860172727273, -16.816159085714286, -16.816018911111108, -16.816307481818182, -16.816177418181816, -16.816242857142857, -16.815868728571427, -16.81601542857143, -16.816003199999994, -16.816212955555557], \"x\": [145.70433003636361, 145.70469755714285, 145.70473582222226, 145.70471203636362, 145.70397323636362, 145.7042959285714, 145.70405404285714, 145.70432409999998, 145.70401258888887, 145.70413175555555], \"type\": \"scatter\"}, {\"name\": \"Cluster 72 Buildings\", \"marker\": {\"color\": \"rgba(40,40,40, 0.75)\", \"size\": 6}, \"mode\": \"markers\", \"y\": [-16.8122215, -16.81212602, -16.812181699999996, -16.812175657142856, -16.81265176, -16.81269204, -16.812856240000002, -16.812574419999994, -16.81254297142857, -16.812527871428568, -16.81261631111111], \"x\": [145.71770261999995, 145.71718944, 145.71733508, 145.71752165714287, 145.71703938000005, 145.71696418, 145.71741682, 145.71729366, 145.71690642857143, 145.71711207142857, 145.71747217777775], \"type\": \"scatter\"}, {\"name\": \"Cluster 73 Buildings\", \"marker\": {\"color\": \"rgba(65,65,65, 0.75)\", \"size\": 6}, \"mode\": \"markers\", \"y\": [-16.809801139999998, -16.81024434, -16.80974278, -16.810113339999994, -16.810169000000002, -16.8101875, -16.809977744444446, -16.809711188888887, -16.8106492, -16.810670140000006], \"x\": [145.72160682, 145.72191378, 145.72191526, 145.72197652, 145.72152826, 145.72139388, 145.72200932222222, 145.72145322222227, 145.72148539999995, 145.72166396], \"type\": \"scatter\"}, {\"name\": \"Cluster 74 Buildings\", \"marker\": {\"color\": \"rgba(90,90,90, 0.75)\", \"size\": 6}, \"mode\": \"markers\", \"y\": [-16.807070663636367, -16.807260993333333, -16.807470520000006, -16.807157, -16.807306742857143, -16.807429071428572, -16.807492514285716, -16.80760188888889, -16.8077184, -16.80715958888889, -16.8069867, -16.807791837499998], \"x\": [145.70146521818182, 145.70201436666667, 145.70206804, 145.70162298571432, 145.7017078, 145.70220091428567, 145.70176167142856, 145.7019738222222, 145.7018373111111, 145.70188616666667, 145.70178782222226, 145.70170322500005], \"type\": \"scatter\"}, {\"name\": \"Cluster 75 Buildings\", \"marker\": {\"color\": \"rgba(115,115,115, 0.75)\", \"size\": 6}, \"mode\": \"markers\", \"y\": [-16.81619945454545, -16.815995700000002, -16.81603194, -16.81578012, -16.815647814285715, -16.816214400000003, -16.815762928571427, -16.8161776, -16.815723600000002, -16.815771444444447], \"x\": [145.71926076363638, 145.71897713999996, 145.71879704, 145.71958632, 145.71883908571428, 145.71889002857142, 145.71940622857144, 145.71908965714286, 145.71901136666668, 145.7192310333334], \"type\": \"scatter\"}, {\"name\": \"Cluster 76 Buildings\", \"marker\": {\"color\": \"rgba(140,140,140, 0.75)\", \"size\": 6}, \"mode\": \"markers\", \"y\": [-16.80242872, -16.80264288, -16.80236994, -16.802523639999997, -16.80229232857143, -16.802743777777778], \"x\": [145.70186574, 145.70117578000003, 145.70139844, 145.70132906, 145.70167011428572, 145.70104677777778], \"type\": \"scatter\"}, {\"name\": \"Cluster 77 Buildings\", \"marker\": {\"color\": \"rgba(165,165,165, 0.75)\", \"size\": 6}, \"mode\": \"markers\", \"y\": [-16.80315691818182, -16.802973780000002, -16.8035803, -16.803459628571428, -16.80286057777778, -16.803062599999997, -16.80353336, -16.803709299999998, -16.803341988888892], \"x\": [145.7018886636364, 145.70149814, 145.70149745999996, 145.70163891428572, 145.70169372222222, 145.7013554, 145.70139466, 145.70138828571433, 145.70178422222222], \"type\": \"scatter\"}, {\"name\": \"Cluster 78 Buildings\", \"marker\": {\"color\": \"rgba(190,190,190, 0.75)\", \"size\": 6}, \"mode\": \"markers\", \"y\": [-16.80299366363636, -16.802870063636366, -16.80305516, -16.80319874, -16.80341212857143, -16.80342886, -16.803162399999998, -16.803676944444447, -16.803344744444445, -16.803532055555557], \"x\": [145.70078544545453, 145.70091689090913, 145.70061404, 145.70044854, 145.70029651428572, 145.70088674, 145.70117292857142, 145.70049427777778, 145.70108458888888, 145.70075496666666], \"type\": \"scatter\"}, {\"name\": \"Cluster 79 Buildings\", \"marker\": {\"color\": \"rgba(215,215,215, 0.75)\", \"size\": 6}, \"mode\": \"markers\", \"y\": [-16.8028685, -16.80340154, -16.8026414, -16.8032628], \"x\": [145.72135646, 145.72095386, 145.72105504, 145.72080957142856], \"type\": \"scatter\"}, {\"name\": \"Cluster 80 Buildings\", \"marker\": {\"color\": \"rgba(240,240,240, 0.75)\", \"size\": 6}, \"mode\": \"markers\", \"y\": [-16.80468566, -16.8048184, -16.80492988, -16.805168099999996, -16.805060400000002], \"x\": [145.70234680000002, 145.70223742857144, 145.702079, 145.70178416000005, 145.70193998], \"type\": \"scatter\"}, {\"name\": \"Cluster 81 Buildings\", \"marker\": {\"color\": \"rgba(10,10,10, 0.75)\", \"size\": 6}, \"mode\": \"markers\", \"y\": [-16.805107560000003, -16.804398072727274, -16.8046538, -16.80473728, -16.80427042, -16.80488014285714, -16.804096042857143, -16.80458422222222], \"x\": [145.70035825999997, 145.7005074090909, 145.70074038823532, 145.70028792, 145.70034330000001, 145.70044184285715, 145.70026371428568, 145.70056508888888], \"type\": \"scatter\"}, {\"name\": \"Cluster 82 Buildings\", \"marker\": {\"color\": \"rgba(35,35,35, 0.75)\", \"size\": 6}, \"mode\": \"markers\", \"y\": [-16.812173122222227, -16.812187966666666, -16.812775271428574, -16.812537499999998, -16.81253877142857, -16.812702429999998], \"x\": [145.70255018888892, 145.7027168666667, 145.70238098571426, 145.7023911714286, 145.70259637142857, 145.70258852], \"type\": \"scatter\"}, {\"name\": \"Cluster 83 Buildings\", \"marker\": {\"color\": \"rgba(60,60,60, 0.75)\", \"size\": 6}, \"mode\": \"markers\", \"y\": [-16.80841002, -16.80842446, -16.80861096, -16.80849522, -16.808439200000002, -16.808582379999994, -16.808449259999996, -16.80855234, -16.80863126, -16.808590357142858, -16.8086883], \"x\": [145.72157642000005, 145.72180782, 145.72201234000005, 145.72223164, 145.72193244, 145.72159942, 145.72213042, 145.72171436, 145.72181292, 145.7214993285714, 145.7221990857143], \"type\": \"scatter\"}, {\"name\": \"Cluster 84 Buildings\", \"marker\": {\"color\": \"rgba(85,85,85, 0.75)\", \"size\": 6}, \"mode\": \"markers\", \"y\": [-16.825110940000002, -16.82504026, -16.8243029], \"x\": [145.7042848, 145.70391764, 145.70432300000004], \"type\": \"scatter\"}, {\"name\": \"Cluster 85 Buildings\", \"marker\": {\"color\": \"rgba(110,110,110, 0.75)\", \"size\": 6}, \"mode\": \"markers\", \"y\": [-16.80991182, -16.80975546363636, -16.81003212, -16.809866039999996, -16.809860719999996, -16.81003382, -16.80982752, -16.80984292, -16.81016654, -16.81005002, -16.80983404, -16.810279259999998, -16.81032545714286, -16.810097957142858, -16.810337914285718, -16.809938014285713], \"x\": [145.72260935999995, 145.72245922727276, 145.72253642, 145.72321786000003, 145.72315182, 145.72289594, 145.72290912, 145.72306557999997, 145.72254006000003, 145.72297472, 145.72299002, 145.72247256, 145.72269391428568, 145.72315127142858, 145.72313851428572, 145.72302514285715], \"type\": \"scatter\"}, {\"name\": \"Cluster 86 Buildings\", \"marker\": {\"color\": \"rgba(135,135,135, 0.75)\", \"size\": 6}, \"mode\": \"markers\", \"y\": [-16.815221172727274, -16.815810719999998, -16.815348980000003, -16.815755560000003, -16.81573732, -16.815665860000006, -16.81549784, -16.81561988, -16.8154419], \"x\": [145.7217494363636, 145.72196314, 145.72186522, 145.72163045999997, 145.722197, 145.72168886, 145.72240352, 145.72219434000004, 145.72168081111113], \"type\": \"scatter\"}, {\"name\": \"Cluster 87 Buildings\", \"marker\": {\"color\": \"rgba(160,160,160, 0.75)\", \"size\": 6}, \"mode\": \"markers\", \"y\": [-16.81831908, -16.818496371428573, -16.818853240000006, -16.818489185714288, -16.818366744444447, -16.818549244444444, -16.818797184615384, -16.818735957142856, -16.81873894285714, -16.818938144444445], \"x\": [145.71900713999997, 145.7192327857143, 145.7189228, 145.71893587142858, 145.7184708888889, 145.71850174444444, 145.71905445384616, 145.71844775714285, 145.71886847142858, 145.71847276666668], \"type\": \"scatter\"}, {\"name\": \"Cluster 88 Buildings\", \"marker\": {\"color\": \"rgba(185,185,185, 0.75)\", \"size\": 6}, \"mode\": \"markers\", \"y\": [-16.81572972, -16.815446142857144, -16.815406885714285, -16.81544921111111, -16.815852586666665, -16.815746554545456, -16.815719627272728, -16.81578605384615, -16.815806338461538], \"x\": [145.70110472000005, 145.70127315714285, 145.70096595714287, 145.70112380000003, 145.70178436666666, 145.70093192727273, 145.70076337272727, 145.70126497692306, 145.7016133769231], \"type\": \"scatter\"}, {\"name\": \"Cluster 89 Buildings\", \"marker\": {\"color\": \"rgba(210,210,210, 0.75)\", \"size\": 6}, \"mode\": \"markers\", \"y\": [-16.81170886, -16.811079639999996, -16.810989380000002, -16.810765416666666, -16.811614300000002, -16.811344185714287, -16.811604011111108, -16.81152156666667, -16.811294677777774, -16.811152855555555], \"x\": [145.72161502, 145.72169372, 145.72127591999995, 145.72127966666667, 145.72132582857142, 145.72122507142856, 145.72113323333332, 145.7215605888889, 145.72156662222218, 145.7212219888889], \"type\": \"scatter\"}, {\"name\": \"Cluster 90 Buildings\", \"marker\": {\"color\": \"rgba(235,235,235, 0.75)\", \"size\": 6}, \"mode\": \"markers\", \"y\": [-16.80156380909091, -16.801706176923076, -16.801849699999998, -16.80184196, -16.801317140000002, -16.80169966, -16.80198484, -16.80144182, -16.80185147142857, -16.80214094, -16.802015680000004, -16.80229597142857], \"x\": [145.70878238181817, 145.70830319230768, 145.7090354, 145.70910562, 145.70849928, 145.70891125999995, 145.70915054, 145.70862416, 145.70844662857144, 145.70868586, 145.70853166, 145.70879594285714], \"type\": \"scatter\"}, {\"name\": \"Cluster 91 Buildings\", \"marker\": {\"color\": \"rgba(5,5,5, 0.75)\", \"size\": 6}, \"mode\": \"markers\", \"y\": [-16.808716146666665, -16.80853862727273, -16.80921260769231, -16.80866988, -16.809419394117647, -16.808847214285713, -16.808767785714284, -16.8084461125], \"x\": [145.70592364666666, 145.7062169181818, 145.70632669999995, 145.70607774, 145.70620024117648, 145.70658388571428, 145.7066463857143, 145.7063235125], \"type\": \"scatter\"}, {\"name\": \"Cluster 92 Buildings\", \"marker\": {\"color\": \"rgba(30,30,30, 0.75)\", \"size\": 6}, \"mode\": \"markers\", \"y\": [-16.81538828, -16.815084609090906, -16.81499414444444, -16.815011488888892, -16.81536042857143, -16.81568642222222, -16.8156886], \"x\": [145.70061732, 145.70102670000003, 145.70069125555554, 145.70083723333337, 145.70047631428568, 145.70060484444446, 145.70046202222224], \"type\": \"scatter\"}, {\"name\": \"Cluster 93 Buildings\", \"marker\": {\"color\": \"rgba(55,55,55, 0.75)\", \"size\": 6}, \"mode\": \"markers\", \"y\": [-16.8096262, -16.80980897272727, -16.810006469230768, -16.81018093333333, -16.81034082, -16.80988934, -16.810318119999998, -16.80987994, -16.80980872, -16.80982002, -16.810363542857143, -16.8100828, -16.81023312857143, -16.809603488888882], \"x\": [145.7236917090909, 145.7236645181818, 145.72372056923075, 145.72377472000005, 145.72369512666668, 145.72437040000003, 145.72408345999997, 145.72379073999997, 145.72379904, 145.72386212, 145.7239865, 145.72435397142857, 145.72414708571432, 145.72387541111112], \"type\": \"scatter\"}, {\"name\": \"Cluster 94 Buildings\", \"marker\": {\"color\": \"rgba(80,80,80, 0.75)\", \"size\": 6}, \"mode\": \"markers\", \"y\": [-16.808076309090907, -16.808418142857143, -16.808180385714284, -16.808541814285714, -16.808307966666664, -16.80887254545455, -16.808742245454546, -16.80828300909091, -16.8086189, -16.808510985714285, -16.808425277777776], \"x\": [145.70085423636363, 145.70046282857143, 145.70074577142856, 145.7003382285714, 145.70061711111111, 145.70043671818183, 145.70053115454547, 145.70103066363637, 145.7006724285714, 145.70080810000005, 145.7009268666667], \"type\": \"scatter\"}, {\"name\": \"Cluster 95 Buildings\", \"marker\": {\"color\": \"rgba(105,105,105, 0.75)\", \"size\": 6}, \"mode\": \"markers\", \"y\": [-16.805855855555556, -16.805950488888882, -16.806397781818184, -16.806487842857145, -16.80627712857143, -16.806227899999996, -16.806134444444446, -16.806646484615385, -16.80672075714286], \"x\": [145.70423184444445, 145.70409206666668, 145.70445226363637, 145.70430338571427, 145.70457045714286, 145.70430023333333, 145.7044763, 145.7042266846154, 145.70409107142856], \"type\": \"scatter\"}, {\"name\": \"Cluster 96 Buildings\", \"marker\": {\"color\": \"rgba(130,130,130, 0.75)\", \"size\": 6}, \"mode\": \"markers\", \"y\": [-16.81887802, -16.8181767, -16.81843198, -16.81853974, -16.818844919999997, -16.818295957142855, -16.818398057142858, -16.818519742857145, -16.818733955555555, -16.818809633333338], \"x\": [145.71972196000004, 145.71954091818182, 145.71953938, 145.71951739999997, 145.71925418, 145.71978897142859, 145.71943810000002, 145.71975174285708, 145.7198209222222, 145.7194814222222], \"type\": \"scatter\"}, {\"name\": \"Cluster 97 Buildings\", \"marker\": {\"color\": \"rgba(155,155,155, 0.75)\", \"size\": 6}, \"mode\": \"markers\", \"y\": [-16.798944618181814, -16.798558359999998, -16.798753733333335], \"x\": [145.70486191818182, 145.70563972, 145.7054777], \"type\": \"scatter\"}, {\"name\": \"Cluster 98 Buildings\", \"marker\": {\"color\": \"rgba(180,180,180, 0.75)\", \"size\": 6}, \"mode\": \"markers\", \"y\": [-16.805393860000002, -16.80501408, -16.805145585714286, -16.805194509090914, -16.805471877777773, -16.804932511111115, -16.80520004615385, -16.80530677333333, -16.805137100000003, -16.80504822, -16.80527426, -16.80552977142857], \"x\": [145.70419464, 145.70404528, 145.70388677142859, 145.7036931090909, 145.70398207777774, 145.70423797777778, 145.70445433076927, 145.70434430000003, 145.7040491, 145.70444074, 145.70390116, 145.70384175714287], \"type\": \"scatter\"}, {\"name\": \"Cluster 99 Buildings\", \"marker\": {\"color\": \"rgba(205,205,205, 0.75)\", \"size\": 6}, \"mode\": \"markers\", \"y\": [-16.822938880000002, -16.8230915, -16.82349826, -16.823505219999998, -16.823633899999994, -16.823268759999998, -16.82338894, -16.823835314285713], \"x\": [145.70430038, 145.70429043999997, 145.70452817999995, 145.7041621, 145.70415645999995, 145.70426356, 145.70414941999996, 145.7041898], \"type\": \"scatter\"}, {\"name\": \"Cluster 100 Buildings\", \"marker\": {\"color\": \"rgba(230,230,230, 0.75)\", \"size\": 6}, \"mode\": \"markers\", \"y\": [-16.8155238, -16.815263657142857, -16.815251928571428, -16.815334766666666, -16.81534873333333, -16.815077177777773, -16.815167200000005, -16.815434366666665], \"x\": [145.70295532, 145.70341190000005, 145.70283334285713, 145.70329295555555, 145.70269319999997, 145.70311397777778, 145.70301072222225, 145.7031270777778], \"type\": \"scatter\"}, {\"name\": \"Cluster 101 Buildings\", \"marker\": {\"color\": \"rgba(255,255,255, 0.75)\", \"size\": 6}, \"mode\": \"markers\", \"y\": [-16.80603220909091, -16.806376399999998, -16.806201254545456, -16.80629862, -16.806358, -16.806100679999997, -16.80607355714286, -16.806549142857143, -16.806648225, -16.806483, -16.806758566666666], \"x\": [145.70079046363637, 145.70095297272732, 145.70074561818183, 145.70054350000004, 145.70032164, 145.70095796, 145.70064282857143, 145.70072552857144, 145.7005630375, 145.7008714222222, 145.70044433333334], \"type\": \"scatter\"}, {\"name\": \"Cluster 102 Buildings\", \"marker\": {\"color\": \"rgba(25,25,25, 0.75)\", \"size\": 6}, \"mode\": \"markers\", \"y\": [-16.81438462, -16.81474874, -16.814329280000006, -16.814402066666666, -16.81481357272727, -16.814954645454545, -16.814594228571426, -16.814565885714284], \"x\": [145.71938244, 145.7193033, 145.71921892, 145.71981716666667, 145.71976493636362, 145.71969819999998, 145.7197725, 145.71930035714286], \"type\": \"scatter\"}, {\"name\": \"Cluster 103 Buildings\", \"marker\": {\"color\": \"rgba(50,50,50, 0.75)\", \"size\": 6}, \"mode\": \"markers\", \"y\": [-16.81002208, -16.81015428, -16.810529199999998, -16.81038742, -16.81004808, -16.8105468, -16.810597180000002, -16.810131214285715, -16.810132514285716], \"x\": [145.71849509999996, 145.71853026, 145.71846574, 145.718579, 145.71832688, 145.71883784, 145.71871524, 145.71870429999996, 145.71889298571432], \"type\": \"scatter\"}, {\"name\": \"Cluster 104 Buildings\", \"marker\": {\"color\": \"rgba(75,75,75, 0.75)\", \"size\": 6}, \"mode\": \"markers\", \"y\": [-16.809130542857144, -16.809182444444446, -16.80972065454545, -16.80938755384615, -16.809577653846155, -16.80993043846154, -16.80991062, -16.80951732857143, -16.8096535, -16.8097609], \"x\": [145.70562160000003, 145.70525590000003, 145.70587110909094, 145.70542528461542, 145.70568727692307, 145.70540463076927, 145.70583700000003, 145.70552268571427, 145.70517502222222, 145.70527731111108], \"type\": \"scatter\"}, {\"name\": \"Cluster 105 Buildings\", \"marker\": {\"color\": \"rgba(100,100,100, 0.75)\", \"size\": 6}, \"mode\": \"markers\", \"y\": [-16.823166427272728, -16.82328214, -16.823687045454548, -16.823490080000006, -16.823924400000006, -16.82409414, -16.823376199999995, -16.824081542857147, -16.823519128571427], \"x\": [145.70582608181817, 145.70575775999995, 145.7051494090909, 145.70515686000005, 145.70577148, 145.70549506000003, 145.70514350000005, 145.70513675714284, 145.70543395714284], \"type\": \"scatter\"}, {\"name\": \"Cluster 106 Buildings\", \"marker\": {\"color\": \"rgba(125,125,125, 0.75)\", \"size\": 6}, \"mode\": \"markers\", \"y\": [-16.8106362, -16.81100749333333, -16.81170532, -16.81153212, -16.811159742857143, -16.8108243, -16.81136285555555], \"x\": [145.71648076, 145.71646346, 145.71639828, 145.71643622, 145.71646074285715, 145.71649251428568, 145.71647858888892], \"type\": \"scatter\"}, {\"name\": \"Cluster 107 Buildings\", \"marker\": {\"color\": \"rgba(150,150,150, 0.75)\", \"size\": 6}, \"mode\": \"markers\", \"y\": [-16.8022887, -16.80243844, -16.80259714, -16.80270626, -16.802699920000002, -16.802429800000002, -16.80299026, -16.802565057142857], \"x\": [145.70946845999995, 145.70953712, 145.70965372, 145.70977966, 145.70921630000004, 145.70897378, 145.70946756, 145.70911084285714], \"type\": \"scatter\"}, {\"name\": \"Cluster 108 Buildings\", \"marker\": {\"color\": \"rgba(175,175,175, 0.75)\", \"size\": 6}, \"mode\": \"markers\", \"y\": [-16.813584040000002, -16.81350794, -16.813187300000006, -16.81355936, -16.81331728, -16.81344362, -16.81356082857143, -16.81342941111111, -16.813411399999996, -16.813079044444443, -16.813411066666667], \"x\": [145.72230456, 145.7217889, 145.72192452, 145.72188552000003, 145.72195338, 145.72211555999996, 145.72205508571432, 145.72189912222225, 145.72238613333334, 145.7219144111111, 145.72218596666667], \"type\": \"scatter\"}, {\"name\": \"Cluster 109 Buildings\", \"marker\": {\"color\": \"rgba(200,200,200, 0.75)\", \"size\": 6}, \"mode\": \"markers\", \"y\": [-16.80815634, -16.8080907, -16.80813872, -16.80800532, -16.8078857, -16.80823818, -16.80791444444445, -16.808202285714284], \"x\": [145.72426534000004, 145.72378650000005, 145.72411609999997, 145.72395822, 145.72387419999998, 145.72394432, 145.72414335555558, 145.7244608], \"type\": \"scatter\"}, {\"name\": \"Cluster 110 Buildings\", \"marker\": {\"color\": \"rgba(225,225,225, 0.75)\", \"size\": 6}, \"mode\": \"markers\", \"y\": [-16.809898999999998, -16.80974124, -16.81030494, -16.810174600000003, -16.80986506, -16.810029399999998, -16.81008042857143, -16.810263600000006], \"x\": [145.72630678000004, 145.72622344, 145.7262659, 145.72616010000002, 145.72599924000005, 145.72608176, 145.72636045714285, 145.7264258777778], \"type\": \"scatter\"}, {\"name\": \"Cluster 111 Buildings\", \"marker\": {\"color\": \"rgba(250,250,250, 0.75)\", \"size\": 6}, \"mode\": \"markers\", \"y\": [-16.81376048, -16.814399536363634, -16.813997540000006, -16.81378788, -16.814167480000002, -16.8138908, -16.81388782, -16.814238944444444, -16.814064000000002, -16.814101177777776], \"x\": [145.72096904, 145.7208476090909, 145.7209274, 145.72126985999995, 145.72134692000003, 145.72141074, 145.72092981999995, 145.72085348888888, 145.72134269999998, 145.72093276666666], \"type\": \"scatter\"}, {\"name\": \"Cluster 112 Buildings\", \"marker\": {\"color\": \"rgba(20,20,20, 0.75)\", \"size\": 6}, \"mode\": \"markers\", \"y\": [-16.80413056, -16.804174879999998, -16.804222319999994, -16.80422332, -16.804531920000002, -16.804526700000004, -16.804035014285713, -16.804405890909095, -16.804610507692303, -16.80439136, -16.80464562857143], \"x\": [145.70146456000003, 145.70173574, 145.70165294, 145.70131696, 145.70120991999997, 145.70181818000003, 145.70165452857142, 145.7011064090909, 145.70166052307692, 145.70193066, 145.7015121], \"type\": \"scatter\"}, {\"name\": \"Cluster 113 Buildings\", \"marker\": {\"color\": \"rgba(45,45,45, 0.75)\", \"size\": 6}, \"mode\": \"markers\", \"y\": [-16.811746672727274, -16.81182622727273, -16.8121399, -16.81201386, -16.81205428, -16.81183694, -16.812016777777778, -16.812192611111108], \"x\": [145.7258079090909, 145.7259983636364, 145.72562608, 145.72607606, 145.72556912, 145.72584832, 145.7253739777778, 145.72613497777778], \"type\": \"scatter\"}, {\"name\": \"Cluster 114 Buildings\", \"marker\": {\"color\": \"rgba(70,70,70, 0.75)\", \"size\": 6}, \"mode\": \"markers\", \"y\": [-16.80451702727273, -16.804545284615386, -16.804430766666666, -16.80449384285714, -16.804424771428568, -16.804430399999998], \"x\": [145.7086788909091, 145.70884666923078, 145.70905090666662, 145.70838982857143, 145.70853245714287, 145.7082657111111], \"type\": \"scatter\"}, {\"name\": \"Cluster 115 Buildings\", \"marker\": {\"color\": \"rgba(95,95,95, 0.75)\", \"size\": 6}, \"mode\": \"markers\", \"y\": [-16.827736899999998, -16.82781842, -16.82822636, -16.828533899999996, -16.82814184, -16.82801688], \"x\": [145.70822968, 145.70854707999996, 145.70872086, 145.7086854, 145.70819714, 145.70819971999995], \"type\": \"scatter\"}, {\"name\": \"Cluster 116 Buildings\", \"marker\": {\"color\": \"rgba(120,120,120, 0.75)\", \"size\": 6}, \"mode\": \"markers\", \"y\": [-16.808626146153845, -16.80892499090909, -16.809152140000002, -16.80908282, -16.80867298571429, -16.808783466666668, -16.80904335555556, -16.808810388888887, -16.808965055555557], \"x\": [145.70276602307698, 145.70256097272727, 145.70226530000002, 145.70219066, 145.70229351428569, 145.70235616666668, 145.70238447777774, 145.70202855555556, 145.70210124444444], \"type\": \"scatter\"}, {\"name\": \"Cluster 117 Buildings\", \"marker\": {\"color\": \"rgba(145,145,145, 0.75)\", \"size\": 6}, \"mode\": \"markers\", \"y\": [-16.804015792307688, -16.803879158823527, -16.80385196, -16.803833079999997, -16.80400002, -16.803676, -16.803890514285715, -16.8039978, -16.803489866666666, -16.803680777777775], \"x\": [145.70610567692302, 145.70629510588233, 145.7058084, 145.70563239999996, 145.70558373999995, 145.70574802857143, 145.70593017142858, 145.70591202857142, 145.70605215555554, 145.70624171111112], \"type\": \"scatter\"}, {\"name\": \"Cluster 118 Buildings\", \"marker\": {\"color\": \"rgba(170,170,170, 0.75)\", \"size\": 6}, \"mode\": \"markers\", \"y\": [-16.801173109090907, -16.801157760000002, -16.801215177777774, -16.801153799999998, -16.801678854545454, -16.801685530769234], \"x\": [145.70115738181818, 145.70053359999997, 145.70027219999997, 145.70094214444444, 145.70050883636367, 145.70030743846158], \"type\": \"scatter\"}, {\"name\": \"Cluster 119 Buildings\", \"marker\": {\"color\": \"rgba(195,195,195, 0.75)\", \"size\": 6}, \"mode\": \"markers\", \"y\": [-16.81391322, -16.8139299, -16.814142566666668, -16.813894333333334, -16.81417634, -16.81409576, -16.814336200000003, -16.814057580000004, -16.8142253, -16.814358640000002, -16.81428778, -16.81447312857143], \"x\": [145.72215644, 145.72229094, 145.72228498, 145.72188387333333, 145.72217918000004, 145.72183106, 145.72180780000005, 145.72239414000003, 145.72190972, 145.72197838000002, 145.72224046000005, 145.72184094285714], \"type\": \"scatter\"}, {\"name\": \"Cluster 120 Buildings\", \"marker\": {\"color\": \"rgba(220,220,220, 0.75)\", \"size\": 6}, \"mode\": \"markers\", \"y\": [-16.80311996, -16.80308926, -16.8033389, -16.803316285714285, -16.80358746, -16.80354164, -16.803490414285715], \"x\": [145.70267712, 145.70276828000004, 145.70321696000005, 145.70260595714288, 145.70299432000004, 145.70271464, 145.7031462857143], \"type\": \"scatter\"}, {\"name\": \"Cluster 121 Buildings\", \"marker\": {\"color\": \"rgba(245,245,245, 0.75)\", \"size\": 6}, \"mode\": \"markers\", \"y\": [-16.807511654545454, -16.807735707692302, -16.807704473333335, -16.807855019999998, -16.80759564, -16.80788234285714, -16.807806411111113], \"x\": [145.70581627272728, 145.70528074615385, 145.70574201999997, 145.70561691999995, 145.70517102, 145.70557125714285, 145.70565034444445], \"type\": \"scatter\"}, {\"name\": \"Cluster 122 Buildings\", \"marker\": {\"color\": \"rgba(15,15,15, 0.75)\", \"size\": 6}, \"mode\": \"markers\", \"y\": [-16.813237880000006, -16.813209540000006, -16.813379819999998, -16.813009342857143, -16.813407520000002, -16.8134695, -16.8133233, -16.81350977142857], \"x\": [145.72127342000005, 145.72098986, 145.72134297999997, 145.72116292857143, 145.72147716, 145.72099214, 145.72096034, 145.72141004285714], \"type\": \"scatter\"}, {\"name\": \"Cluster 123 Buildings\", \"marker\": {\"color\": \"rgba(40,40,40, 0.75)\", \"size\": 6}, \"mode\": \"markers\", \"y\": [-16.80935793076923, -16.809033171428574, -16.809252311111113, -16.809239155555556, -16.80912771111111, -16.809620918181814, -16.80977362727273, -16.80949561904762, -16.80972726666667, -16.80951118888889], \"x\": [145.70051903076924, 145.70064835714285, 145.70083325555555, 145.70041055555555, 145.70078093333333, 145.70074493636363, 145.70088063636362, 145.70063380952382, 145.70106013333333, 145.70108661111112], \"type\": \"scatter\"}, {\"name\": \"Cluster 124 Buildings\", \"marker\": {\"color\": \"rgba(65,65,65, 0.75)\", \"size\": 6}, \"mode\": \"markers\", \"y\": [-16.809925336363634, -16.810076000000002, -16.81010654, -16.8100108, -16.810163199999998, -16.810193199999997, -16.80998434, -16.80997438, -16.81009938, -16.8100849, -16.81035997142857, -16.810364528571426], \"x\": [145.71675392727272, 145.71665926, 145.71694014, 145.71691914000004, 145.71677414, 145.71696518000005, 145.71677448000003, 145.71667646, 145.7168447, 145.71674624, 145.71678064285715, 145.71697745714286], \"type\": \"scatter\"}, {\"name\": \"Cluster 125 Buildings\", \"marker\": {\"color\": \"rgba(90,90,90, 0.75)\", \"size\": 6}, \"mode\": \"markers\", \"y\": [-16.804756771428572, -16.80484453333333, -16.805035166666666, -16.8052746, -16.804701777777776, -16.80520438, -16.80523688, -16.8053222, -16.805292471428572], \"x\": [145.70303135714286, 145.7028532, 145.70283996666663, 145.70296929999995, 145.70324877777776, 145.70338257999995, 145.70317658, 145.70344272857145, 145.70326392857143], \"type\": \"scatter\"}, {\"name\": \"Cluster 126 Buildings\", \"marker\": {\"color\": \"rgba(115,115,115, 0.75)\", \"size\": 6}, \"mode\": \"markers\", \"y\": [-16.81253358, -16.81220888, -16.8120038], \"x\": [145.72745880000002, 145.72726054000003, 145.72702643333332], \"type\": \"scatter\"}, {\"name\": \"Cluster 127 Buildings\", \"marker\": {\"color\": \"rgba(140,140,140, 0.75)\", \"size\": 6}, \"mode\": \"markers\", \"y\": [-16.80598291851852, -16.80596594, -16.806147214285712, -16.806598200000003, -16.80669162], \"x\": [145.72274161481482, 145.72304169999995, 145.72279024285714, 145.72317048, 145.72299028000003], \"type\": \"scatter\"}, {\"name\": \"Cluster 128 Buildings\", \"marker\": {\"color\": \"rgba(165,165,165, 0.75)\", \"size\": 6}, \"mode\": \"markers\", \"y\": [-16.81723299090909, -16.816693320000002, -16.817092879999993, -16.816720899999996, -16.81702674, -16.8170678, -16.81718904, -16.81673256, -16.81684882857143, -16.81714607142857, -16.816758433333334], \"x\": [145.7199044181818, 145.71929434, 145.71982918000003, 145.71985514, 145.71969064, 145.71998028000004, 145.71967486, 145.71964608, 145.72003718571432, 145.71948575714285, 145.71947838888892], \"type\": \"scatter\"}, {\"name\": \"Cluster 129 Buildings\", \"marker\": {\"color\": \"rgba(190,190,190, 0.75)\", \"size\": 6}, \"mode\": \"markers\", \"y\": [-16.802576786666666, -16.80299004, -16.802703628571425, -16.802318385714287, -16.802861866666667, -16.80266825], \"x\": [145.72249606666668, 145.7220733, 145.72179854285713, 145.72201148571432, 145.72185195555554, 145.72229643], \"type\": \"scatter\"}, {\"name\": \"Cluster 130 Buildings\", \"marker\": {\"color\": \"rgba(215,215,215, 0.75)\", \"size\": 6}, \"mode\": \"markers\", \"y\": [-16.809549240000006, -16.80962094, -16.8095372, -16.80928704], \"x\": [145.71911426, 145.71963018000002, 145.71937640000004, 145.7192925], \"type\": \"scatter\"}, {\"name\": \"Cluster 131 Buildings\", \"marker\": {\"color\": \"rgba(240,240,240, 0.75)\", \"size\": 6}, \"mode\": \"markers\", \"y\": [-16.817185776923075, -16.81691214, -16.816845100000002, -16.817268300000002, -16.81669731111111], \"x\": [145.72052889230767, 145.72051534, 145.72056896, 145.72065279999995, 145.72051486666666], \"type\": \"scatter\"}, {\"name\": \"Cluster 132 Buildings\", \"marker\": {\"color\": \"rgba(10,10,10, 0.75)\", \"size\": 6}, \"mode\": \"markers\", \"y\": [-16.807627214285713, -16.807540611111108, -16.80790312857143, -16.807732366666666, -16.808018481818184, -16.80790450769231, -16.80810487333333], \"x\": [145.70138802857144, 145.70152397777775, 145.70156367142857, 145.70127154444444, 145.7014735545455, 145.70117347692306, 145.70134464000003], \"type\": \"scatter\"}, {\"name\": \"Cluster 133 Buildings\", \"marker\": {\"color\": \"rgba(35,35,35, 0.75)\", \"size\": 6}, \"mode\": \"markers\", \"y\": [-16.807118576923074, -16.80660436, -16.806842080000006, -16.80661372, -16.806659185714285, -16.806522944444445], \"x\": [145.72473096153846, 145.72440774, 145.72467181999997, 145.72428232, 145.7246012, 145.72447956666667], \"type\": \"scatter\"}, {\"name\": \"Cluster 134 Buildings\", \"marker\": {\"color\": \"rgba(60,60,60, 0.75)\", \"size\": 6}, \"mode\": \"markers\", \"y\": [-16.81338310909091, -16.81397024, -16.81372968, -16.813514977777785, -16.813188733333334, -16.81332542222222, -16.813667288888887, -16.813555288888885], \"x\": [145.7017434090909, 145.70160228, 145.70144850000003, 145.7013136222222, 145.70172973333334, 145.70127925555553, 145.70189121111113, 145.7018044333333], \"type\": \"scatter\"}, {\"name\": \"Cluster 135 Buildings\", \"marker\": {\"color\": \"rgba(85,85,85, 0.75)\", \"size\": 6}, \"mode\": \"markers\", \"y\": [-16.809091944000002, -16.809385600000002, -16.809650519999998, -16.80929254, -16.80955388, -16.809572199999998, -16.809572080000002, -16.80930094, -16.80955216, -16.809283720000003, -16.809275680000002, -16.80952854, -16.80948514285714, -16.80912988888889, -16.809149177777773], \"x\": [145.723160072, 145.7230945, 145.72305918, 145.72320237999998, 145.72309649999997, 145.72324958, 145.72317382, 145.72328466, 145.7230029, 145.72312704, 145.72304160000004, 145.72283502, 145.72254101428572, 145.72260923333332, 145.72281612222224], \"type\": \"scatter\"}, {\"name\": \"Cluster 136 Buildings\", \"marker\": {\"color\": \"rgba(110,110,110, 0.75)\", \"size\": 6}, \"mode\": \"markers\", \"y\": [-16.80549865384615, -16.80572580666667, -16.805637624000003, -16.80553696, -16.804996800000005, -16.80544694, -16.805111366666665, -16.805090911111108, -16.80522548888889], \"x\": [145.72131476923082, 145.72129507333338, 145.72100012, 145.72119776, 145.72114434, 145.72096919999998, 145.7210791777778, 145.72090211111112, 145.72129913333333], \"type\": \"scatter\"}, {\"name\": \"Cluster 137 Buildings\", \"marker\": {\"color\": \"rgba(135,135,135, 0.75)\", \"size\": 6}, \"mode\": \"markers\", \"y\": [-16.815200190909092, -16.81567082, -16.81553758, -16.815541357142855, -16.815528828571427, -16.81575822222222], \"x\": [145.72121123636362, 145.72067002, 145.72099373999995, 145.72119878571428, 145.72072857142857, 145.72067364444445], \"type\": \"scatter\"}, {\"name\": \"Cluster 138 Buildings\", \"marker\": {\"color\": \"rgba(160,160,160, 0.75)\", \"size\": 6}, \"mode\": \"markers\", \"y\": [-16.80419612, -16.80423578, -16.804491414285714, -16.804337099999998, -16.80470676, -16.804515759999994, -16.804432285714288, -16.8043926, -16.80464836666667, -16.80472426, -16.80488842, -16.80494102, -16.80494447142857], \"x\": [145.70555204, 145.70544404000003, 145.70586984285708, 145.70591498000005, 145.70558961999996, 145.70547196, 145.70563147142857, 145.70550932857142, 145.70578404444444, 145.70539618000004, 145.70548034, 145.70537326, 145.70572032857143], \"type\": \"scatter\"}, {\"name\": \"Cluster 139 Buildings\", \"marker\": {\"color\": \"rgba(185,185,185, 0.75)\", \"size\": 6}, \"mode\": \"markers\", \"y\": [-16.8089361, -16.809101599999998, -16.809535840000002, -16.80909408, -16.809360688888887], \"x\": [145.72576753999996, 145.7258645, 145.72565840000001, 145.72558998000005, 145.72598854444445], \"type\": \"scatter\"}, {\"name\": \"Cluster 140 Buildings\", \"marker\": {\"color\": \"rgba(210,210,210, 0.75)\", \"size\": 6}, \"mode\": \"markers\", \"y\": [-16.806059400000002, -16.80589508, -16.80599574, -16.805979360000002, -16.805680920000004, -16.805912760000002, -16.806063322222222, -16.8060339], \"x\": [145.7224094, 145.72197144, 145.72220866, 145.72229524, 145.7219622, 145.72180085999997, 145.7220106777778, 145.72183172222222], \"type\": \"scatter\"}, {\"name\": \"Cluster 141 Buildings\", \"marker\": {\"color\": \"rgba(235,235,235, 0.75)\", \"size\": 6}, \"mode\": \"markers\", \"y\": [-16.804341, -16.803697940000006, -16.803777871428572, -16.8036551, -16.803974788888887, -16.804289840000006, -16.804181466666666, -16.804097483333333], \"x\": [145.707784, 145.70758346000005, 145.70768832857144, 145.70746562222226, 145.70803678888888, 145.70766238, 145.70739054444445, 145.70723148333337], \"type\": \"scatter\"}, {\"name\": \"Cluster 142 Buildings\", \"marker\": {\"color\": \"rgba(5,5,5, 0.75)\", \"size\": 6}, \"mode\": \"markers\", \"y\": [-16.816091, -16.81608032727273, -16.815875154545452, -16.815936518181818, -16.81616693076923, -16.8159707, -16.815753342857143, -16.816052814285715, -16.815731242857144, -16.815631511111107], \"x\": [145.70345057999995, 145.7032812909091, 145.70327842727275, 145.70364104545453, 145.70362537692307, 145.70297454, 145.70365204285713, 145.70311084285714, 145.70337871428572, 145.70357103333333], \"type\": \"scatter\"}, {\"name\": \"Cluster 143 Buildings\", \"marker\": {\"color\": \"rgba(30,30,30, 0.75)\", \"size\": 6}, \"mode\": \"markers\", \"y\": [-16.815808280000002, -16.81634212, -16.81578704, -16.81623802, -16.815858185714287, -16.8163201, -16.816159222222225, -16.816120533333333], \"x\": [145.71993894000005, 145.72006314, 145.71978338, 145.71947142, 145.72015818571433, 145.71982727142858, 145.71966619999998, 145.72004742222222], \"type\": \"scatter\"}, {\"name\": \"Cluster 144 Buildings\", \"marker\": {\"color\": \"rgba(55,55,55, 0.75)\", \"size\": 6}, \"mode\": \"markers\", \"y\": [-16.80482404, -16.80524158181818, -16.80538504, -16.80514074285714, -16.805022266666665, -16.805497590909088, -16.80562986], \"x\": [145.70083469999997, 145.70082684545457, 145.70066814, 145.70094952857144, 145.7010844, 145.70057463636363, 145.70039188000004], \"type\": \"scatter\"}, {\"name\": \"Cluster 145 Buildings\", \"marker\": {\"color\": \"rgba(80,80,80, 0.75)\", \"size\": 6}, \"mode\": \"markers\", \"y\": [-16.8121702, -16.81165842, -16.81193788, -16.811746680000002, -16.81217754, -16.8118367, -16.812192311111108, -16.812207677777778, -16.811745955555555], \"x\": [145.72292964000005, 145.72316686, 145.72331288, 145.72332068, 145.7232988, 145.72311615714287, 145.72276366666668, 145.72314987777776, 145.72295055555554], \"type\": \"scatter\"}, {\"name\": \"Cluster 146 Buildings\", \"marker\": {\"color\": \"rgba(105,105,105, 0.75)\", \"size\": 6}, \"mode\": \"markers\", \"y\": [-16.80547014, -16.80552358, -16.80575726, -16.805973490909093, -16.80556474, -16.805722714285714, -16.805401957142855, -16.806050171428573, -16.80562844285714, -16.80531038888889, -16.806143842857143], \"x\": [145.70132552, 145.70165723999997, 145.70137602, 145.70130615454545, 145.70143649999997, 145.70108572857143, 145.70151477142858, 145.70145894285713, 145.70121485714284, 145.70166073333334, 145.70155471428572], \"type\": \"scatter\"}, {\"name\": \"Cluster 147 Buildings\", \"marker\": {\"color\": \"rgba(130,130,130, 0.75)\", \"size\": 6}, \"mode\": \"markers\", \"y\": [-16.811990029999997, -16.811374620000002, -16.811715966666668, -16.811527466666664, -16.8118945], \"x\": [145.72049191000005, 145.72013130000002, 145.7201175888889, 145.72011030000004, 145.72010083333333], \"type\": \"scatter\"}, {\"name\": \"Cluster 148 Buildings\", \"marker\": {\"color\": \"rgba(155,155,155, 0.75)\", \"size\": 6}, \"mode\": \"markers\", \"y\": [-16.80815596, -16.808261372727273, -16.807899263636365, -16.808379463636363, -16.80770948461538, -16.808014300000004, -16.808119422222227, -16.807971366666667], \"x\": [145.70266734, 145.70243910000005, 145.70217246363637, 145.70252035454547, 145.70240028461538, 145.70229951428573, 145.70240974444445, 145.7026131444444], \"type\": \"scatter\"}, {\"name\": \"Cluster 149 Buildings\", \"marker\": {\"color\": \"rgba(180,180,180, 0.75)\", \"size\": 6}, \"mode\": \"markers\", \"y\": [-16.81415468461538, -16.813897888888892, -16.81425948, -16.814591139999994, -16.814314439999997, -16.814813519999998, -16.814349800000002, -16.81454214, -16.814651066666666], \"x\": [145.72295475384615, 145.72300890000002, 145.723183, 145.7230057, 145.72352118, 145.72329666000005, 145.72332898000005, 145.72357638, 145.72327107777778], \"type\": \"scatter\"}, {\"name\": \"Cluster 150 Buildings\", \"marker\": {\"color\": \"rgba(205,205,205, 0.75)\", \"size\": 6}, \"mode\": \"markers\", \"y\": [-16.81357216, -16.81357046, -16.81387394, -16.81388022222222, -16.81389911111111], \"x\": [145.71943826, 145.71926266, 145.71924366, 145.71943145555554, 145.71903564444446], \"type\": \"scatter\"}, {\"name\": \"Cluster 151 Buildings\", \"marker\": {\"color\": \"rgba(230,230,230, 0.75)\", \"size\": 6}, \"mode\": \"markers\", \"y\": [-16.810959899999997, -16.81096676, -16.8111643, -16.811138520000004, -16.81062798, -16.810629340000002, -16.81081806, -16.81112884285714, -16.81063347142857], \"x\": [145.72220062, 145.72197350000005, 145.72234439999997, 145.72194916, 145.72225054, 145.72206109999996, 145.72187241999995, 145.72216132857145, 145.72187018571432], \"type\": \"scatter\"}, {\"name\": \"Cluster 152 Buildings\", \"marker\": {\"color\": \"rgba(255,255,255, 0.75)\", \"size\": 6}, \"mode\": \"markers\", \"y\": [-16.814435290909092, -16.81416581818182, -16.814760954545452, -16.814308271428573, -16.81414345714286, -16.814273611111116, -16.81464438888889, -16.814606466666664], \"x\": [145.70048237272732, 145.70077551818184, 145.7004384090909, 145.70080484285714, 145.70048158571427, 145.70047251111112, 145.70078283333334, 145.7004352777778], \"type\": \"scatter\"}, {\"name\": \"Cluster 153 Buildings\", \"marker\": {\"color\": \"rgba(25,25,25, 0.75)\", \"size\": 6}, \"mode\": \"markers\", \"y\": [-16.804503959999998, -16.80417892, -16.80477454, -16.804624342857142, -16.804322971428572, -16.804636799999994, -16.804869155555554], \"x\": [145.70437374, 145.70455510000005, 145.70464413999997, 145.70452519999998, 145.70429552857144, 145.70490143333333, 145.70477667777774], \"type\": \"scatter\"}, {\"name\": \"Cluster 154 Buildings\", \"marker\": {\"color\": \"rgba(50,50,50, 0.75)\", \"size\": 6}, \"mode\": \"markers\", \"y\": [-16.80419860909091, -16.803755700000004, -16.80375104, -16.804276859999998, -16.803821640000002, -16.803968428571427], \"x\": [145.72086992727267, 145.72057542, 145.72068894, 145.7210362, 145.72099254, 145.7207775], \"type\": \"scatter\"}, {\"name\": \"Cluster 155 Buildings\", \"marker\": {\"color\": \"rgba(75,75,75, 0.75)\", \"size\": 6}, \"mode\": \"markers\", \"y\": [-16.81485688181818, -16.81472419090909, -16.814577542857144, -16.814961922222224, -16.815377085714278, -16.815071457142857, -16.815198488888882], \"x\": [145.7013487909091, 145.70125945454546, 145.70116240000002, 145.70141937777774, 145.70164055714287, 145.70148527142854, 145.70155891111108], \"type\": \"scatter\"}, {\"name\": \"Cluster 156 Buildings\", \"marker\": {\"color\": \"rgba(100,100,100, 0.75)\", \"size\": 6}, \"mode\": \"markers\", \"y\": [-16.80669002, -16.80725502, -16.80711292, -16.806851419999994, -16.806884859999997, -16.807085660000002, -16.807060500000002, -16.806874899999997, -16.806903385714286, -16.806748688888884], \"x\": [145.72071286, 145.72102414, 145.72104608, 145.72107240000003, 145.72068054000005, 145.72115116, 145.72094412, 145.72096438, 145.72115147142856, 145.7211052444444], \"type\": \"scatter\"}, {\"name\": \"Cluster 157 Buildings\", \"marker\": {\"color\": \"rgba(125,125,125, 0.75)\", \"size\": 6}, \"mode\": \"markers\", \"y\": [-16.81278494, -16.81277416, -16.81267416, -16.81275422, -16.812927399999996, -16.812738], \"x\": [145.72401474, 145.72382846, 145.72345837999995, 145.7242565, 145.72368160000005, 145.7236332777778], \"type\": \"scatter\"}, {\"name\": \"Cluster 158 Buildings\", \"marker\": {\"color\": \"rgba(150,150,150, 0.75)\", \"size\": 6}, \"mode\": \"markers\", \"y\": [-16.816633290909092, -16.81662545, -16.81688412222222, -16.81704947777778, -16.817305436363636, -16.817286522222226], \"x\": [145.70038705454544, 145.70052429166662, 145.70043909999995, 145.7004249, 145.7003107818182, 145.70044935555555], \"type\": \"scatter\"}, {\"name\": \"Cluster 159 Buildings\", \"marker\": {\"color\": \"rgba(175,175,175, 0.75)\", \"size\": 6}, \"mode\": \"markers\", \"y\": [-16.812089999999998, -16.81177522, -16.8115643, -16.81210342, -16.812140457142856, -16.812101242857143, -16.811750142857143, -16.811662928571426, -16.811722255555555], \"x\": [145.72202378461537, 145.72275386666666, 145.72214911999995, 145.72258180000003, 145.72219479999995, 145.72237581428567, 145.72213777142858, 145.72238912857142, 145.72257714444444], \"type\": \"scatter\"}, {\"name\": \"Cluster 160 Buildings\", \"marker\": {\"color\": \"rgba(200,200,200, 0.75)\", \"size\": 6}, \"mode\": \"markers\", \"y\": [-16.812968845454545, -16.813346999999997, -16.813237145454544, -16.81279883846154, -16.81298643846154, -16.81314306153846, -16.813066233333338, -16.813374214285716], \"x\": [145.70303334545454, 145.7027714909091, 145.70293491818182, 145.7029425923077, 145.7027865923077, 145.7031657076923, 145.70259229333337, 145.70259052857142], \"type\": \"scatter\"}, {\"name\": \"Cluster 161 Buildings\", \"marker\": {\"color\": \"rgba(225,225,225, 0.75)\", \"size\": 6}, \"mode\": \"markers\", \"y\": [-16.82743182, -16.82757566], \"x\": [145.70497666, 145.70555496], \"type\": \"scatter\"}, {\"name\": \"Cluster 162 Buildings\", \"marker\": {\"color\": \"rgba(250,250,250, 0.75)\", \"size\": 6}, \"mode\": \"markers\", \"y\": [-16.81438766, -16.8145078, -16.81446072], \"x\": [145.72426702, 145.72411486, 145.72419042], \"type\": \"scatter\"}, {\"name\": \"Cluster 163 Buildings\", \"marker\": {\"color\": \"rgba(20,20,20, 0.75)\", \"size\": 6}, \"mode\": \"markers\", \"y\": [-16.806273533333332, -16.806381488888892, -16.80647287777778, -16.806563722222222], \"x\": [145.70166843333334, 145.70175172222218, 145.70184015555554, 145.7019241888889], \"type\": \"scatter\"}, {\"name\": \"Cluster 164 Buildings\", \"marker\": {\"color\": \"rgba(45,45,45, 0.75)\", \"size\": 6}, \"mode\": \"markers\", \"y\": [-16.807464279999998, -16.807144985714285, -16.807649107692303, -16.807254714285712, -16.80737537142857, -16.807641957142856, -16.807736114285714, -16.80799470909091, -16.80788078181818], \"x\": [145.70063456, 145.70031794285714, 145.7003040846154, 145.70045954285715, 145.70053529999996, 145.70079182857143, 145.70064967142858, 145.70036617272723, 145.7005109909091], \"type\": \"scatter\"}, {\"name\": \"Cluster 165 Buildings\", \"marker\": {\"color\": \"rgba(70,70,70, 0.75)\", \"size\": 6}, \"mode\": \"markers\", \"y\": [-16.81506452, -16.81511508, -16.814928639999998, -16.815234699999998, -16.815154460000002, -16.815167014285713, -16.815186655555557, -16.814906720000003, -16.815239877777778], \"x\": [145.719326, 145.71908206, 145.71927961999995, 145.719133, 145.71867360000002, 145.7188767, 145.7189485, 145.71907116, 145.71930338888887], \"type\": \"scatter\"}, {\"name\": \"Cluster 166 Buildings\", \"marker\": {\"color\": \"rgba(95,95,95, 0.75)\", \"size\": 6}, \"mode\": \"markers\", \"y\": [-16.805868345454545, -16.80617994, -16.805699240000006, -16.806260099999996, -16.80600094, -16.806048280000002, -16.80619511111111], \"x\": [145.72417433636366, 145.72419230000003, 145.72404766, 145.72409398, 145.72427502, 145.72418186, 145.72429961111112], \"type\": \"scatter\"}, {\"name\": \"Cluster 167 Buildings\", \"marker\": {\"color\": \"rgba(120,120,120, 0.75)\", \"size\": 6}, \"mode\": \"markers\", \"y\": [-16.807131954545454, -16.80717004285714, -16.806792442857144, -16.807278628571428, -16.806859811111117], \"x\": [145.7008339818182, 145.70124390000004, 145.7011273, 145.70115185714286, 145.7009791888889], \"type\": \"scatter\"}, {\"name\": \"Cluster 168 Buildings\", \"marker\": {\"color\": \"rgba(145,145,145, 0.75)\", \"size\": 6}, \"mode\": \"markers\", \"y\": [-16.813726242857143, -16.813452214285714, -16.81356271111111, -16.813588322222227, -16.813641655555557, -16.813815700000006, -16.8139156, -16.81370174285714, -16.81388467142857], \"x\": [145.70287822857142, 145.70331104285714, 145.70312613333334, 145.70334386666667, 145.70299291111112, 145.70329501818182, 145.70300441428572, 145.70347107142857, 145.70315061428568], \"type\": \"scatter\"}, {\"name\": \"Cluster 169 Buildings\", \"marker\": {\"color\": \"rgba(170,170,170, 0.75)\", \"size\": 6}, \"mode\": \"markers\", \"y\": [-16.80538268125, -16.80526061428571, -16.805808758333338, -16.80529617692308, -16.805723299999997, -16.805775344444438], \"x\": [145.70809590625, 145.70753178571428, 145.70765887500005, 145.70735919230768, 145.7073386, 145.70749843333334], \"type\": \"scatter\"}, {\"name\": \"Cluster 170 Buildings\", \"marker\": {\"color\": \"rgba(195,195,195, 0.75)\", \"size\": 6}, \"mode\": \"markers\", \"y\": [-16.80278766, -16.802728339999998, -16.80300096, -16.80285398, -16.802541757142855, -16.802967644444443, -16.80317797777778], \"x\": [145.70479236, 145.70523806, 145.70509668, 145.70528486, 145.70515554285709, 145.70468101111112, 145.70496914444448], \"type\": \"scatter\"}, {\"name\": \"Cluster 171 Buildings\", \"marker\": {\"color\": \"rgba(220,220,220, 0.75)\", \"size\": 6}, \"mode\": \"markers\", \"y\": [-16.80347262, -16.803543659999995, -16.8035167, -16.80329537142857, -16.803270628571433, -16.803662311111115], \"x\": [145.720325, 145.7199502, 145.7202051, 145.72044958571433, 145.72020261428568, 145.72020740000005], \"type\": \"scatter\"}, {\"name\": \"Cluster 172 Buildings\", \"marker\": {\"color\": \"rgba(245,245,245, 0.75)\", \"size\": 6}, \"mode\": \"markers\", \"y\": [-16.811973100000003, -16.811944039999997, -16.81203746, -16.811934080000004], \"x\": [145.72502158, 145.72518574, 145.72484881999995, 145.72462108000005], \"type\": \"scatter\"}, {\"name\": \"Cluster 173 Buildings\", \"marker\": {\"color\": \"rgba(15,15,15, 0.75)\", \"size\": 6}, \"mode\": \"markers\", \"y\": [-16.81148973846154], \"x\": [145.7004658153846], \"type\": \"scatter\"}, {\"name\": \"Cluster 174 Buildings\", \"marker\": {\"color\": \"rgba(40,40,40, 0.75)\", \"size\": 6}, \"mode\": \"markers\", \"y\": [-16.807178772727273, -16.807243946153847, -16.807125092307693, -16.80728542], \"x\": [145.70486495454546, 145.70424955384613, 145.70437516153842, 145.704804], \"type\": \"scatter\"}, {\"name\": \"Cluster 175 Buildings\", \"marker\": {\"color\": \"rgba(65,65,65, 0.75)\", \"size\": 6}, \"mode\": \"markers\", \"y\": [-16.809220492307695, -16.80894256, -16.809310399999998, -16.80894854, -16.8093368, -16.809462779999997], \"x\": [145.72158993076926, 145.72196393999997, 145.72208498, 145.72154774, 145.72184274, 145.72200696], \"type\": \"scatter\"}, {\"name\": \"Cluster 176 Buildings\", \"marker\": {\"color\": \"rgba(90,90,90, 0.75)\", \"size\": 6}, \"mode\": \"markers\", \"y\": [-16.80301552, -16.80327766, -16.80317612, -16.803419140000006, -16.80358454285714, -16.803496477777774, -16.803272822222226], \"x\": [145.70446726, 145.70480532, 145.70432726, 145.7046795, 145.70436731428572, 145.70451293333338, 145.70422233333338], \"type\": \"scatter\"}, {\"name\": \"Cluster 177 Buildings\", \"marker\": {\"color\": \"rgba(115,115,115, 0.75)\", \"size\": 6}, \"mode\": \"markers\", \"y\": [-16.817753, -16.817586088888888, -16.817953785714288, -16.818118199999994], \"x\": [145.71991968571433, 145.71987736666668, 145.71989055714286, 145.71986938571428], \"type\": \"scatter\"}, {\"name\": \"Cluster 178 Buildings\", \"marker\": {\"color\": \"rgba(140,140,140, 0.75)\", \"size\": 6}, \"mode\": \"markers\", \"y\": [-16.80587942, -16.80597128, -16.80600904, -16.80629433636364, -16.80628416], \"x\": [145.72122084, 145.72091382, 145.72117158, 145.72100674545453, 145.72105232], \"type\": \"scatter\"}, {\"name\": \"Cluster 179 Buildings\", \"marker\": {\"color\": \"rgba(165,165,165, 0.75)\", \"size\": 6}, \"mode\": \"markers\", \"y\": [-16.798807384615387], \"x\": [145.70383706153842], \"type\": \"scatter\"}, {\"name\": \"Cluster 180 Buildings\", \"marker\": {\"color\": \"rgba(190,190,190, 0.75)\", \"size\": 6}, \"mode\": \"markers\", \"y\": [-16.808180988888882, -16.808409586666667, -16.808551279999996, -16.808465242857142, -16.80829497142857, -16.808682400000002, -16.80833571111111, -16.80855411111111], \"x\": [145.70188268888887, 145.70161292, 145.70220176, 145.70210452857143, 145.7017188857143, 145.70189005714286, 145.70203355555554, 145.70178908888892], \"type\": \"scatter\"}, {\"name\": \"Cluster 181 Buildings\", \"marker\": {\"color\": \"rgba(215,215,215, 0.75)\", \"size\": 6}, \"mode\": \"markers\", \"y\": [-16.803968909090912, -16.80380348, -16.803781266666665, -16.803835911111108, -16.803948199999994, -16.804087728571428], \"x\": [145.70072175454547, 145.70120623999995, 145.7009806222222, 145.7006169111111, 145.70107634545457, 145.70086112857143], \"type\": \"scatter\"}, {\"name\": \"Cluster 182 Buildings\", \"marker\": {\"color\": \"rgba(240,240,240, 0.75)\", \"size\": 6}, \"mode\": \"markers\", \"y\": [-16.806784545454544, -16.807052728571428, -16.807276014285712, -16.806676644444444, -16.807473144444444, -16.80719562222222, -16.806952344444444], \"x\": [145.70212969999997, 145.70237615714285, 145.70255614285713, 145.70203967777778, 145.70267290000004, 145.70243675555554, 145.70225753333332], \"type\": \"scatter\"}, {\"name\": \"Cluster 183 Buildings\", \"marker\": {\"color\": \"rgba(10,10,10, 0.75)\", \"size\": 6}, \"mode\": \"markers\", \"y\": [-16.811154799999994, -16.811296069230767, -16.81110574, -16.810877800000004, -16.811003879999998, -16.81082482, -16.810830357142862, -16.81087475714286, -16.81130637777778], \"x\": [145.71725896363634, 145.71698800769232, 145.71693868, 145.71713846000003, 145.71746516000005, 145.71734362, 145.71698768571432, 145.71753557142856, 145.71741194444445], \"type\": \"scatter\"}, {\"name\": \"Cluster 184 Buildings\", \"marker\": {\"color\": \"rgba(35,35,35, 0.75)\", \"size\": 6}, \"mode\": \"markers\", \"y\": [-16.82583982, -16.82624582], \"x\": [145.7047381, 145.70466222], \"type\": \"scatter\"}, {\"name\": \"Cluster 185 Buildings\", \"marker\": {\"color\": \"rgba(60,60,60, 0.75)\", \"size\": 6}, \"mode\": \"markers\", \"y\": [-16.80441896, -16.80452114, -16.80446591666667, -16.804370542857143, -16.80462208], \"x\": [145.70285666, 145.70270932, 145.70286496666668, 145.70280994285713, 145.70256160000002], \"type\": \"scatter\"}, {\"name\": \"Cluster 186 Buildings\", \"marker\": {\"color\": \"rgba(85,85,85, 0.75)\", \"size\": 6}, \"mode\": \"markers\", \"y\": [-16.803526863636364, -16.80364292, -16.803901439999994, -16.803383644444445, -16.80420896, -16.803779242857143, -16.803966749999994, -16.80376801111111, -16.804069385714286], \"x\": [145.7039669909091, 145.70370666, 145.70393840000003, 145.70410157777778, 145.70413828, 145.70381310000002, 145.7043123875, 145.7042651555556, 145.70406570000003], \"type\": \"scatter\"}, {\"name\": \"Cluster 187 Buildings\", \"marker\": {\"color\": \"rgba(110,110,110, 0.75)\", \"size\": 6}, \"mode\": \"markers\", \"y\": [-16.813131020000004, -16.813666540000003, -16.81358314, -16.81354742, -16.813326828571427, -16.813364266666667], \"x\": [145.72027308, 145.72031088, 145.71987621999997, 145.72036666, 145.72034924285714, 145.71994903333334], \"type\": \"scatter\"}, {\"name\": \"Cluster 188 Buildings\", \"marker\": {\"color\": \"rgba(135,135,135, 0.75)\", \"size\": 6}, \"mode\": \"markers\", \"y\": [-16.81916953846154, -16.81914822857143, -16.819397388888888, -16.819586544444444], \"x\": [145.71885606923078, 145.71864827142858, 145.71874198888892, 145.71884278888888], \"type\": \"scatter\"}, {\"name\": \"Cluster 189 Buildings\", \"marker\": {\"color\": \"rgba(160,160,160, 0.75)\", \"size\": 6}, \"mode\": \"markers\", \"y\": [-16.816496359999995, -16.81592918, -16.816257380000003, -16.81639106, -16.816133214285713], \"x\": [145.72059818, 145.72063150000002, 145.72062710000003, 145.72069733999996, 145.7206254], \"type\": \"scatter\"}, {\"name\": \"Cluster 190 Buildings\", \"marker\": {\"color\": \"rgba(185,185,185, 0.75)\", \"size\": 6}, \"mode\": \"markers\", \"y\": [-16.80286948666667, -16.80295, -16.80283922, -16.80273642], \"x\": [145.70234111999997, 145.70250672000003, 145.70210808, 145.70243932], \"type\": \"scatter\"}, {\"name\": \"Cluster 191 Buildings\", \"marker\": {\"color\": \"rgba(210,210,210, 0.75)\", \"size\": 6}, \"mode\": \"markers\", \"y\": [-16.816656018181813, -16.816740318181818, -16.816667972727274, -16.817125025, -16.817138930769232, -16.816922184615382, -16.816693722222222, -16.816699733333333, -16.81694078888889, -16.816714311111113], \"x\": [145.70079370000005, 145.7012675909091, 145.70089158181815, 145.70086469999995, 145.70113943846158, 145.7008501769231, 145.70099696666668, 145.70107943333338, 145.70113462222218, 145.70118089999997], \"type\": \"scatter\"}, {\"name\": \"Cluster 192 Buildings\", \"marker\": {\"color\": \"rgba(235,235,235, 0.75)\", \"size\": 6}, \"mode\": \"markers\", \"y\": [-16.8049128, -16.805025699999998, -16.804672241176473], \"x\": [145.70625556, 145.70623377777778, 145.7063460764706], \"type\": \"scatter\"}, {\"name\": \"Cluster 193 Buildings\", \"marker\": {\"color\": \"rgba(5,5,5, 0.75)\", \"size\": 6}, \"mode\": \"markers\", \"y\": [-16.81478204, -16.81438916, -16.81452938, -16.8149302, -16.81440978, -16.814657185714285, -16.81429232857143], \"x\": [145.72130088, 145.72125327999996, 145.72122745999997, 145.72122048, 145.72134186, 145.72128425714286, 145.72127395714287], \"type\": \"scatter\"}, {\"name\": \"Cluster 194 Buildings\", \"marker\": {\"color\": \"rgba(30,30,30, 0.75)\", \"size\": 6}, \"mode\": \"markers\", \"y\": [-16.809157714285714, -16.80952304615385, -16.809452122222222, -16.80925186], \"x\": [145.70481909999995, 145.7050493153846, 145.70491685555555, 145.70466962], \"type\": \"scatter\"}, {\"name\": \"Cluster 195 Buildings\", \"marker\": {\"color\": \"rgba(55,55,55, 0.75)\", \"size\": 6}, \"mode\": \"markers\", \"y\": [-16.81244104545455, -16.81284962727273, -16.81250771818182, -16.812642984615387, -16.812799599999998, -16.812990222222222, -16.81248521111111], \"x\": [145.70186068181818, 145.70175389090906, 145.70222218181817, 145.70173765384612, 145.70213344285713, 145.70172247777774, 145.70205395555553], \"type\": \"scatter\"}, {\"name\": \"Cluster 196 Buildings\", \"marker\": {\"color\": \"rgba(80,80,80, 0.75)\", \"size\": 6}, \"mode\": \"markers\", \"y\": [-16.812568446153847, -16.812582138095234, -16.81290868, -16.81316922222222, -16.812879390909092], \"x\": [145.72247613846156, 145.7219978904762, 145.72239746, 145.72232086666668, 145.72197972727272], \"type\": \"scatter\"}, {\"name\": \"Cluster 197 Buildings\", \"marker\": {\"color\": \"rgba(105,105,105, 0.75)\", \"size\": 6}, \"mode\": \"markers\", \"y\": [-16.813587263636364, -16.813253960000004, -16.813650071428572, -16.813097857142857, -16.813463585714285, -16.8133801], \"x\": [145.70230314545455, 145.70210092, 145.70216808571433, 145.7020207857143, 145.70241851428568, 145.70220622222226], \"type\": \"scatter\"}, {\"name\": \"Cluster 198 Buildings\", \"marker\": {\"color\": \"rgba(130,130,130, 0.75)\", \"size\": 6}, \"mode\": \"markers\", \"y\": [-16.815687020000002, -16.8155264, -16.81589786153846, -16.815925755], \"x\": [145.70264972, 145.70250848571433, 145.7023719076923, 145.70259008], \"type\": \"scatter\"}, {\"name\": \"Cluster 199 Buildings\", \"marker\": {\"color\": \"rgba(155,155,155, 0.75)\", \"size\": 6}, \"mode\": \"markers\", \"y\": [-16.81538822, -16.81530238, -16.81516427777778], \"x\": [145.72009419999998, 145.71976476000003, 145.71972384444445], \"type\": \"scatter\"}, {\"name\": \"Agg Clusters\", \"marker\": {\"color\": \"rgba(255, 0, 0, 0.75)\", \"size\": 4}, \"mode\": \"markers\", \"y\": [-16.81057733924002, -16.815420929677465, -16.809044255388887, -16.819620570769228, -16.817318380619177, -16.802640082892413, -16.820554607896824, -16.80433647858586, -16.80913318514739, -16.81360205338318, -16.815621491887125, -16.81205919367697, -16.8111915051746, -16.82510182888889, -16.81091199223597, -16.802167266232967, -16.81201913122655, -16.8128478757326, -16.811090223917194, -16.81019953604297, -16.807433494294838, -16.807683275104896, -16.81416138759281, -16.803930594458876, -16.80870782, -16.826610617037037, -16.802253110893233, -16.812611030449958, -16.806823986970176, -16.809230398205127, -16.811726733946614, -16.802910051721295, -16.81269307318903, -16.80860855408403, -16.81432272215055, -16.811252559682536, -16.8075852295038, -16.816845346603177, -16.812012118227518, -16.81482648565882, -16.806075443456702, -16.805483814577595, -16.807477442407404, -16.80085263199375, -16.807954387642706, -16.80756580319414, -16.80365483918367, -16.817779244242423, -16.81243805878307, -16.814750418906524, -16.81298389405483, -16.80377443138811, -16.808395726299356, -16.811516355973136, -16.80950238233987, -16.802943777428574, -16.810543300119047, -16.81140450733316, -16.801778900000002, -16.80147420727273, -16.810952577830253, -16.803179713532465, -16.803847770014432, -16.814434354902332, -16.806748921181043, -16.811282517085132, -16.813606982792127, -16.814872685472483, -16.81489031263422, -16.814115674877346, -16.806619488095237, -16.81608662393939, -16.8124696810101, -16.810126637333333, -16.807370493401574, -16.815930500184706, -16.802500214391532, -16.803297605935548, -16.80326747602886, -16.80304356, -16.804932488, -16.804590942582973, -16.81248584362434, -16.808533977922078, -16.824818033333333, -16.810009976655845, -16.81556658141414, -16.81862840950916, -16.81566034671945, -16.811307489349204, -16.801809097405926, -16.80882722103117, -16.815316281888276, -16.809997321114917, -16.808452507464253, -16.80629985376599, -16.818562870603174, -16.798752237171716, -16.805220716217487, -16.82339509678571, -16.815300203769837, -16.80635269593664, -16.814599129891775, -16.81028319650794, -16.80957716365723, -16.82362456712843, -16.811175433106577, -16.802589447142857, -16.81340829916306, -16.808078961269842, -16.810044783571428, -16.81402956585859, -16.80435437285987, -16.81197840861111, -16.80447368214008, -16.82807905, -16.808895705493764, -16.803831496986138, -16.801344038697227, -16.814157562380952, -16.803354845714285, -16.807727321362762, -16.813318334285718, -16.809413890003334, -16.810111881363635, -16.805074308959437, -16.812248753333332, -16.806277178560848, -16.816955414931126, -16.80268649293651, -16.809498605, -16.816981725606837, -16.80783302621125, -16.8067268111803, -16.813541842525254, -16.809388267568256, -16.805363394575497, -16.8155394998076, -16.804573412161172, -16.809205661777778, -16.805952560277778, -16.804001936289684, -16.81592895418803, -16.81607918765873, -16.805248731750154, -16.81196370716049, -16.805686066215404, -16.81170051666667, -16.808063829188033, -16.81439712890788, -16.813759178666665, -16.81089635269841, -16.814417282359308, -16.80455866997732, -16.803962046277057, -16.814966795650378, -16.806946737460315, -16.81277548, -16.816964049915825, -16.81187888522046, -16.81311522212371, -16.82750374, -16.81445206, -16.806422905555557, -16.80757133571761, -16.81511085195767, -16.806035993795096, -16.807046575988455, -16.8136987622575, -16.805541145872763, -16.80286547419501, -16.803460215185186, -16.81197217, -16.81148973846154, -16.807208307797204, -16.809203595384616, -16.80332032612245, -16.81785276865079, -16.80608764727273, -16.798807384615387, -16.808434286507936, -16.803904249240016, -16.80705872055246, -16.81103051125492, -16.826042819999998, -16.804479727904763, -16.80380524641815, -16.81343653587302, -16.819325425091577, -16.816241438857144, -16.80284878166667, -16.81682990050311, -16.804870247058826, -16.814570010612247, -16.809346185665447, -16.812673772693973, -16.81282157547608, -16.813405472987018, -16.815759259134616, -16.81528495925926], \"x\": [145.7195541918153, 145.7044420960119, 145.72401730980158, 145.71938268087914, 145.7011612513525, 145.7056804153792, 145.71956833472223, 145.70346145443003, 145.701510730771, 145.7184478560777, 145.71835043552028, 145.72399029766697, 145.7265458306032, 145.70499350730157, 145.7020426132102, 145.72037249872454, 145.71674642170274, 145.71819913379787, 145.7240016330861, 145.7176673627337, 145.7037015784521, 145.72187892427354, 145.70228879226818, 145.7050489699567, 145.72297324525255, 145.70851931555555, 145.70451862696225, 145.71938794454678, 145.722125398022, 145.71613154166664, 145.70186400330087, 145.71948352288186, 145.72012936799422, 145.72057959489823, 145.70340533505927, 145.72516719049887, 145.72286961004002, 145.71889982920345, 145.71836295224867, 145.7220430625929, 145.70612909773533, 145.7050858253106, 145.72354240425926, 145.7077620871885, 145.7252051747668, 145.72069961098416, 145.7217898930612, 145.7188122773939, 145.72131523708995, 145.72049377195768, 145.72302523010103, 145.72291603021475, 145.7043583857274, 145.7193270364005, 145.72052068564705, 145.7036448357143, 145.7205253826984, 145.71767423163297, 145.71832334000004, 145.72114700831168, 145.72277837386594, 145.71029610410392, 145.70221577062046, 145.7185352299292, 145.70529924397303, 145.71850622251085, 145.70058790132754, 145.7024349902861, 145.70375311562827, 145.72007142785472, 145.70680684789292, 145.7043267104329, 145.71726850135644, 145.72169464244445, 145.70183577862494, 145.71910886636365, 145.70141431867725, 145.70157105200897, 145.7007454932554, 145.72104373285714, 145.7020774737143, 145.70043849041974, 145.70253735068786, 145.72186510857142, 145.70417514666667, 145.7228644706331, 145.72193030971943, 145.71879146795604, 145.70120285053315, 145.72138976599996, 145.70873932712956, 145.70628737874418, 145.70067366997733, 145.72391538367313, 145.7006749188771, 145.70430492299798, 145.71958549969116, 145.70532644606058, 145.70408927033228, 145.70425504249997, 145.7030548120238, 145.70068720952216, 145.71953222752165, 145.718616371746, 145.70550778204463, 145.70543009613274, 145.71645865229024, 145.70940093035713, 145.72203755991347, 145.72406860444445, 145.7262279443651, 145.7210830344646, 145.70155113824902, 145.72580435103535, 145.70862741060532, 145.70842997999998, 145.70232743494824, 145.7059309418043, 145.70062026684798, 145.7220664930159, 145.7028747946939, 145.70554979720978, 145.72120110892857, 145.7007598259052, 145.71681764727273, 145.70313426874776, 145.72724859111113, 145.7229468635344, 145.7197160245389, 145.7220879634656, 145.71935333500002, 145.72055617179484, 145.70139127052724, 145.72452893470083, 145.7016015555808, 145.72301957478942, 145.72113352053185, 145.72091266632515, 145.70559518737485, 145.7257737928889, 145.722061275, 145.70760532593255, 145.70339638938927, 145.71986949492066, 145.70076144719854, 145.723112124127, 145.70141738019677, 145.72019038644447, 145.70244024324649, 145.7232385146249, 145.719282336, 145.7220759171429, 145.70058416884922, 145.70458168852608, 145.72082342121212, 145.7014106804164, 145.7209852395873, 145.72381215962963, 145.70042258059763, 145.72235369222355, 145.70285218359473, 145.70526581000001, 145.72419076666668, 145.701796125, 145.70050778821846, 145.719077114321, 145.72418068106782, 145.70106724557002, 145.70317481119127, 145.70758046543423, 145.70503109405894, 145.72022331666668, 145.724919305, 145.7004658153846, 145.7045734174825, 145.7218393817949, 145.70448313156464, 145.71988924880952, 145.7210730610909, 145.70383706153842, 145.70190418559525, 145.70091050031746, 145.70235269523806, 145.71722978810178, 145.70470016, 145.70276049790476, 145.7040342501936, 145.72018751936508, 145.71877227960928, 145.72063590399998, 145.70234881, 145.70101991103343, 145.7062784714161, 145.7212717391837, 145.704863722735, 145.7019263263688, 145.72223441657542, 145.70220294556518, 145.70253004835166, 145.71986093481482], \"type\": \"scatter\"}], {\"yaxis\": {\"scaleratio\": 1, \"scaleanchor\": \"x\"}, \"title\": \"Yorkey's Knob Building Cluster Coordinates with 200 Clusters\"}, {\"linkText\": \"Export to plot.ly\", \"showLink\": true})});</script>"
      ]
     },
     "metadata": {},
     "output_type": "display_data"
    }
   ],
   "source": [
    "agg = AgglomerativeClustering(n_clusters = numClusters).fit(buildings.as_matrix())\n",
    "\n",
    "print(\"silhouette score: \" + str(clusterEval(agg.labels_)[0]))\n",
    "print(\"calinski score: \" + str(clusterEval(agg.labels_)[1]))\n",
    "createCSV(agg.labels_)\n",
    "\n",
    "aggNumClusters = max(agg.labels_) + 1\n",
    "\n",
    "clusterCenters, clusterPoints, points = createClusterCenters(agg.labels_)\n",
    "\n",
    "#Trace for color coding the clusters\n",
    "aggTrace = colorClusterTrace(aggNumClusters, clusterPoints)\n",
    "\n",
    "#Trace of cluster centers\n",
    "aggCentersTrace = clusterCenterTrace(clusterCenters, 'Agg Clusters')\n",
    "\n",
    "#Plot result\n",
    "plot(aggTrace, aggCentersTrace)\n"
   ]
  },
  {
   "cell_type": "markdown",
   "metadata": {},
   "source": [
    "Betweenness Centrality"
   ]
  },
  {
   "cell_type": "code",
   "execution_count": null,
   "metadata": {
    "scrolled": false
   },
   "outputs": [],
   "source": [
    "# NetworkX is at version 2.0, which has a bug regarding nx.from_pandas_adjacency(), where all output will be Graph\n",
    "# We need DiGraph, which is a directed graph, because Graph is an undirected graph and our data needs a directed graph\n",
    "# NetworkX 2.1 fixes this bug, need an update to NetworkX 2.1\n",
    "\n",
    "kernelName = \"FiveCitiesLandscapes/FiveCitiesM_Kernel.csv\"\n",
    "coordsName = \"FiveCitiesLandscapes/FiveCitiesM_Coordinates.csv\"\n",
    "distName = \"FiveCitiesLandscapes/FiveCitiesM_Distances.csv\"\n",
    "field_names = ['index', 'X', 'Y', 'prob']\n",
    "\n",
    "#read in kernel\n",
    "df = pd.read_csv(kernelName, header=None)\n",
    "df.drop(df.index[:1], inplace=True)\n",
    "df = df.reset_index(drop=True)\n",
    "display(df.head())\n",
    "df = df.apply(pd.to_numeric)\n",
    "\n",
    "#use kernel for graph\n",
    "G = nx.from_pandas_adjacency(df, create_using=nx.DiGraph())\n",
    "G.name = 'Graph from pandas adjacency matrix'\n",
    "print(nx.info(G))\n",
    "display(nx.to_pandas_adjacency(G).head())\n",
    "\n",
    "#read in distances, use for betweenness\n",
    "distDf = pd.read_csv(distName, header=None)\n",
    "distG = nx.from_pandas_adjacency(distDf, create_using=nx.DiGraph())\n",
    "distG.name = 'Graph using pairwise distances'\n",
    "distBetweenness = nx.betweenness_centrality(distG, weight=\"weight\")\n",
    "#display(distBetweenness)\n",
    "\n",
    "#coords, kernel betweenness\n",
    "coords = pd.read_csv(coordsName, header = None, names = field_names)\n",
    "betweenness = nx.betweenness_centrality(G, weight=\"weight\")\n",
    "#display(betweenness)\n",
    "\n",
    "\n",
    "#graph distance betweenness\n",
    "tracePoints = [go.Scatter(\n",
    "    x = coords['X'].as_matrix(),\n",
    "    y = coords['Y'].as_matrix(),\n",
    "    name = 'Buildings',\n",
    "    mode = 'markers',\n",
    "    marker = dict(\n",
    "        size = 6,\n",
    "        color = distBetweenness.values(),\n",
    "        colorscale='Viridis'\n",
    "    )\n",
    ")]\n",
    "\n",
    "\n",
    "#Plot\n",
    "layout = go.Layout(title = 'Betweenness Centrality',\n",
    "                   yaxis = dict(scaleanchor=\"x\", scaleratio=1))\n",
    "iplot({\n",
    "        \"data\": tracePoints,\n",
    "        \"layout\": layout\n",
    "        },\n",
    "        )"
   ]
  },
  {
   "cell_type": "code",
   "execution_count": null,
   "metadata": {
    "scrolled": true
   },
   "outputs": [],
   "source": []
  }
 ],
 "metadata": {
  "kernelspec": {
   "display_name": "Python (MoNeT)",
   "language": "python",
   "name": "monet"
  },
  "language_info": {
   "codemirror_mode": {
    "name": "ipython",
    "version": 2
   },
   "file_extension": ".py",
   "mimetype": "text/x-python",
   "name": "python",
   "nbconvert_exporter": "python",
   "pygments_lexer": "ipython2",
   "version": "2.7.13"
  }
 },
 "nbformat": 4,
 "nbformat_minor": 2
}
