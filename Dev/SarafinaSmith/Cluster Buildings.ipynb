{
 "cells": [
  {
   "cell_type": "code",
   "execution_count": 1,
   "metadata": {},
   "outputs": [
    {
     "data": {
      "text/html": [
       "<script>requirejs.config({paths: { 'plotly': ['https://cdn.plot.ly/plotly-latest.min']},});if(!window.Plotly) {{require(['plotly'],function(plotly) {window.Plotly=plotly;});}}</script>"
      ],
      "text/vnd.plotly.v1+html": [
       "<script>requirejs.config({paths: { 'plotly': ['https://cdn.plot.ly/plotly-latest.min']},});if(!window.Plotly) {{require(['plotly'],function(plotly) {window.Plotly=plotly;});}}</script>"
      ]
     },
     "metadata": {},
     "output_type": "display_data"
    }
   ],
   "source": [
    "import pandas as pd\n",
    "import plotly.graph_objs as go\n",
    "import plotly.offline as offline\n",
    "from plotly.graph_objs import Scatter, Layout\n",
    "from sklearn.cluster import KMeans, AgglomerativeClustering, DBSCAN\n",
    "from sklearn.datasets.samples_generator import make_blobs\n",
    "from sklearn.preprocessing import StandardScaler\n",
    "offline.init_notebook_mode(connected=True)"
   ]
  },
  {
   "cell_type": "markdown",
   "metadata": {},
   "source": [
    "**Clustering Buildings**\n",
    "Functions to cluster buildings using DBScan, KMeans, and Hierarchical Ward\n",
    "Always define parameters and read CSV file. Select one or more of the algorithms by running their individual cells."
   ]
  },
  {
   "cell_type": "markdown",
   "metadata": {},
   "source": [
    "Define Parameters\n"
   ]
  },
  {
   "cell_type": "code",
   "execution_count": 6,
   "metadata": {},
   "outputs": [],
   "source": [
    "csvFileName = \"CSVCoordinates/ArroyoGrande_Buildings_Coordinates_original.csv\"\n",
    "numClusters = 20"
   ]
  },
  {
   "cell_type": "markdown",
   "metadata": {},
   "source": [
    "Read CSV File"
   ]
  },
  {
   "cell_type": "code",
   "execution_count": 7,
   "metadata": {},
   "outputs": [
    {
     "data": {
      "text/plain": [
       "0   -120.610196\n",
       "1   -120.612904\n",
       "2   -120.613623\n",
       "3   -120.613902\n",
       "4   -120.612228\n",
       "Name: X, dtype: float64"
      ]
     },
     "execution_count": 7,
     "metadata": {},
     "output_type": "execute_result"
    }
   ],
   "source": [
    "field_names = ['X', 'Y']\n",
    "buildings = pd.read_csv(csvFileName, header=None, names=field_names)\n",
    "buildings['X'].head()"
   ]
  },
  {
   "cell_type": "code",
   "execution_count": 8,
   "metadata": {},
   "outputs": [],
   "source": [
    "# Create a trace for building points\n",
    "trace = go.Scatter(\n",
    "    x = buildings['X'].as_matrix(),\n",
    "    y = buildings['Y'].as_matrix(),\n",
    "    name = 'Buildings',\n",
    "    mode = 'markers',\n",
    "    marker = dict(\n",
    "        size = 6,\n",
    "        color = 'rgba(42, 147, 227, .50)',\n",
    "    )\n",
    ")"
   ]
  },
  {
   "cell_type": "markdown",
   "metadata": {},
   "source": [
    "KMeans Clustering"
   ]
  },
  {
   "cell_type": "code",
   "execution_count": 9,
   "metadata": {},
   "outputs": [
    {
     "data": {
      "text/plain": [
       "'file:///Users/sanchez.hmsc/Documents/GitHub/MoNeT/Dev/SarafinaSmith/ArroyoGrandeKmeans Plot20.html'"
      ]
     },
     "execution_count": 9,
     "metadata": {},
     "output_type": "execute_result"
    }
   ],
   "source": [
    "kmeans = KMeans(n_clusters=numClusters, init = 'k-means++').fit(buildings.as_matrix())\n",
    "kxs = []\n",
    "kys = []\n",
    "for k in kmeans.cluster_centers_:\n",
    "    kxs.append(k[0])\n",
    "    kys.append(k[1])\n",
    "\n",
    "\n",
    "clusterLabels = kmeans.labels_\n",
    "citiesInCluster = [0] * len(kmeans.cluster_centers_)\n",
    "for x in range(0, len(clusterLabels)):\n",
    "    citiesInCluster[clusterLabels[x]] += 1\n",
    "\n",
    "totalBuildings = len(buildings)\n",
    "\n",
    "kTrace = [0] * len(kmeans.cluster_centers_)\n",
    "\n",
    "#Create a trace for the kmeans values with slightly larger dots than the buildings\n",
    "kTrace = go.Scatter(\n",
    "    x = kxs,\n",
    "    y = kys,\n",
    "    name = 'KMeans Clusters',\n",
    "    mode = 'markers',\n",
    "    marker = dict(\n",
    "        size = 12,\n",
    "        color = 'rgba(56, 153, 0, 0.75)'\n",
    "        ,\n",
    "        \n",
    "    )\n",
    ")\n",
    "\n",
    "#Plot result\n",
    "points = [trace]\n",
    "points.append(kTrace)\n",
    "#Gets name of city from the name of the csv file\n",
    "cityName = csvFileName.split(\"/\")[1].split(\"_\")[0]\n",
    "#Plot\n",
    "offline.plot({\n",
    "        \"data\": points,\n",
    "        'layout': {'title': cityName + ' Building Cluster Coordinates with ' + str(numClusters) + ' Clusters'}\n",
    "        },\n",
    "        filename = cityName + 'Kmeans Plot' + str(numClusters) + '.html',\n",
    "        image_filename = cityName + 'Kmeans Plot' + str(numClusters),\n",
    "        image = 'png'\n",
    "        )"
   ]
  },
  {
   "cell_type": "markdown",
   "metadata": {},
   "source": [
    "DB Scan"
   ]
  },
  {
   "cell_type": "code",
   "execution_count": 29,
   "metadata": {},
   "outputs": [
    {
     "data": {
      "text/plain": [
       "'file:///Users/kevinsmith/marshallLab/MGDrivE/BRInE/PyhtonClustering/ArroyoGrandeDBScan Plot158.html'"
      ]
     },
     "execution_count": 29,
     "metadata": {},
     "output_type": "execute_result"
    }
   ],
   "source": [
    "db = DBSCAN(0.0004, 10).fit(buildings.as_matrix())\n",
    "\n",
    "dbPointsLen = max(db.labels_)\n",
    "numClusters = dbPointsLen + 1\n",
    "\n",
    "dbPoints = []\n",
    "\n",
    "clusterLabels = db.labels_\n",
    "citiesInCluster = [0] * len(clusterLabels)\n",
    "for x in range(0, len(clusterLabels)):\n",
    "    citiesInCluster[clusterLabels[x]] += 1\n",
    "\n",
    "for x in range(0, dbPointsLen + 1):\n",
    "    dbPoints.append([])\n",
    "\n",
    "for x in range(0, len(buildings)):\n",
    "    if(db.labels_[x] >= 0):\n",
    "        dbPoints[db.labels_[x]].append(buildings.as_matrix()[x])\n",
    "\n",
    "dbCentersX = []\n",
    "dbCentersY = []\n",
    "\n",
    "for x in range(0, dbPointsLen + 1):\n",
    "    sumX = 0\n",
    "    sumY = 0\n",
    "    for y in range(0, len(dbPoints[x])):\n",
    "        sumX += dbPoints[x][y][0]\n",
    "        sumY += dbPoints[x][y][1]\n",
    "    dbCentersX.append(sumX / len(dbPoints[x]))\n",
    "    dbCentersY.append(sumY / len(dbPoints[x]))\n",
    "\n",
    "#Create a trace for the kmeans values with slightly larger dots than the buildings\n",
    "dbCentersTrace = go.Scatter(\n",
    "    x = dbCentersX,\n",
    "    y = dbCentersY,\n",
    "    name = 'DB Clusters',\n",
    "    mode = 'markers',\n",
    "    marker = dict(\n",
    "        size = 12,\n",
    "        color = 'rgba(255, 0, 0, 0.75)'\n",
    "    )\n",
    ")\n",
    "\n",
    "#Plot result\n",
    "points = [trace]\n",
    "points.append(dbCentersTrace)\n",
    "#Gets name of city from the name of the csv file\n",
    "cityName = csvFileName.split(\"/\")[1].split(\"_\")[0]\n",
    "#Plot\n",
    "offline.plot({\n",
    "        \"data\": points,\n",
    "        'layout': {'title': cityName + ' Building Cluster Coordinates with ' + str(numClusters) + ' Clusters'}\n",
    "        },\n",
    "        filename = cityName + 'DBScan Plot' + str(numClusters) + '.html',\n",
    "        image_filename = cityName + 'DBScan Plot' + str(numClusters),\n",
    "        image = 'png'\n",
    "        )"
   ]
  },
  {
   "cell_type": "markdown",
   "metadata": {},
   "source": [
    "Agglomerative Clustering"
   ]
  },
  {
   "cell_type": "code",
   "execution_count": 34,
   "metadata": {},
   "outputs": [
    {
     "data": {
      "text/plain": [
       "'file:///Users/kevinsmith/marshallLab/MGDrivE/BRInE/PyhtonClustering/ArroyoGrandeAgglomerative Clustering Plot158.html'"
      ]
     },
     "execution_count": 34,
     "metadata": {},
     "output_type": "execute_result"
    }
   ],
   "source": [
    "agg = AgglomerativeClustering(n_clusters = numClusters).fit(buildings.as_matrix())\n",
    "aggPoints = []\n",
    "\n",
    "for x in range(0, numClusters):\n",
    "    aggPoints.append([])\n",
    "\n",
    "for x in range(0, len(buildings)):\n",
    "    aggPoints[agg.labels_[x]].append(buildings.as_matrix()[x])\n",
    "\n",
    "centersX = []\n",
    "centersY = []\n",
    "\n",
    "clusterLabels = agg.labels_\n",
    "citiesInCluster = [0] * len(clusterLabels)\n",
    "for x in range(0, len(clusterLabels)):\n",
    "    citiesInCluster[clusterLabels[x]] += 1\n",
    "\n",
    "for x in range(0, numClusters):\n",
    "    sumX = 0\n",
    "    sumY = 0\n",
    "    for y in range(0, len(aggPoints[x])):\n",
    "        sumX += aggPoints[x][y][0]\n",
    "        sumY += aggPoints[x][y][1]\n",
    "    centersX.append(sumX / len(aggPoints[x]))\n",
    "    centersY.append(sumY / len(aggPoints[x]))\n",
    "\n",
    "aggCentersTrace = go.Scatter(\n",
    "    x = centersX,\n",
    "    y = centersY,\n",
    "    name = 'Agg Clusters',\n",
    "    mode = 'markers',\n",
    "    marker = dict(\n",
    "        size = 12,\n",
    "        color = 'rgba(153, 0, 153, 0.75)'\n",
    "    )\n",
    ")\n",
    "\n",
    "#Plot result\n",
    "points = [trace]\n",
    "points.append(aggCentersTrace)\n",
    "#Gets name of city from the name of the csv file\n",
    "cityName = csvFileName.split(\"/\")[1].split(\"_\")[0]\n",
    "#Plot\n",
    "offline.plot({\n",
    "        \"data\": points,\n",
    "        'layout': {'title': cityName + ' Building Cluster Coordinates with ' + str(numClusters) + ' Clusters'}\n",
    "        },\n",
    "        filename = cityName + 'Agglomerative Clustering Plot' + str(numClusters) + '.html',\n",
    "        image_filename = cityName + 'Agglomerative Clustering Plot' + str(numClusters),\n",
    "        image = 'png'\n",
    "        )"
   ]
  }
 ],
 "metadata": {
  "kernelspec": {
   "display_name": "Python (MoNeT)",
   "language": "python",
   "name": "monet"
  },
  "language_info": {
   "codemirror_mode": {
    "name": "ipython",
    "version": 2
   },
   "file_extension": ".py",
   "mimetype": "text/x-python",
   "name": "python",
   "nbconvert_exporter": "python",
   "pygments_lexer": "ipython2",
   "version": "2.7.13"
  }
 },
 "nbformat": 4,
 "nbformat_minor": 2
}
