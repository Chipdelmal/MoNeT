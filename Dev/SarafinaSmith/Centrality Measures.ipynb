{
 "cells": [
  {
   "cell_type": "markdown",
   "metadata": {},
   "source": [
    "## Network Centrality Measures \n",
    "A brief summary of measures to determine important nodes in a network. In a broad sense, centrality can be classified into radial or medial centrality. Radial centrality measures the walks in a network which start or end at a given vertex (e.g. degree centrality or eigenvalue centrality) while medial centrality measures the walks which pass through a vertex (e.g. betweenness centrality). In this note I focus on medial centrality."
   ]
  },
  {
   "cell_type": "markdown",
   "metadata": {},
   "source": [
    "### Betweenness Centrality\n",
    "The number of times a node acts as a bridge between 2 other nodes. These summations can be normalized by dividing by $\\frac{(n-1)(n-2)}{2}$, the number of edges in a connected graph.\n",
    "#### Shortest Paths Betweenness\n",
    "The number of times the node is on the shortest path between two other nodes. \n",
    "$$c_b(v)=\\sum_{s \\neq t \\neq v \\in V} \\frac{\\sigma_{st}(v)}{\\sigma_{st}}$$ \n",
    "where $\\sigma_{st}$ represents the total number of shortest paths from s to t and $\\sigma_{st}(v)$ represents the number of shortest paths which pass through v. \n",
    "#### Current Flow Betweenness\n",
    "Also known as random walks betweenness centrality. Consider each edge to have 1 unit of resistance,inject 1 unit of current at source node s and remove it at target node t. Let $I_i^{(st)}$ be the current flowing through vertex i in this process. The betweenness centrality of i is the average of current flow through i over all st pairs. \n",
    "$$c_b(i) = \\sum_{s < t} I_i^{(st)}$$ \n",
    "This can also be modeled as the number of times a random walk from s to t passes through i. It catches vertices that are on many paths but necessarily the geodesic (shortest) ones.\n",
    "#### Edge Betweenness \n",
    "Each of the above types of betweenness can also be calculated on the edges of the graph rather than the vertices."
   ]
  },
  {
   "cell_type": "markdown",
   "metadata": {},
   "source": [
    "### Communicability Centrality\n",
    "Communicability centrality is a form of betweenness centrality that falls in between the shortest paths and current flow models. Like current flow betweeenness it considers all possible routes, but introduces a scaling so that longer walks carry less importance."
   ]
  },
  {
   "cell_type": "markdown",
   "metadata": {},
   "source": [
    "### Node Influence Metrics\n",
    "Node influence metrics quantify the influence of every node in the network, rather than identifying the most important nodes like centrality measures do.\n",
    "\n",
    "\n",
    "Expected Force: Used to model the spread of disease, this metric calculates the expected value of the force of infection of the node after 2 transmissions"
   ]
  },
  {
   "cell_type": "markdown",
   "metadata": {},
   "source": [
    "Other common centrality measures include closeness centrality, degree, and eigenvector centrality"
   ]
  },
  {
   "cell_type": "markdown",
   "metadata": {},
   "source": [
    "##### Sources\n",
    "NetworkX documentation:\n",
    "https://networkx.github.io/documentation/stable/reference/algorithms/centrality.html\n",
    "\n",
    "Betweenness centrality: A measure of betweenness centrality based on random walks, M. E. J. Newman, Social Networks 27, 39-54 (2005)\n",
    "\n",
    "Communicability centrality: https://arxiv.org/pdf/0905.4102.pdf\n",
    "\n",
    "\n",
    "Expected force: https://www.ncbi.nlm.nih.gov/pmc/articles/PMC4345333/"
   ]
  },
  {
   "cell_type": "code",
   "execution_count": null,
   "metadata": {
    "collapsed": true
   },
   "outputs": [],
   "source": []
  }
 ],
 "metadata": {
  "anaconda-cloud": {},
  "kernelspec": {
   "display_name": "Python [default]",
   "language": "python",
   "name": "python3"
  },
  "language_info": {
   "codemirror_mode": {
    "name": "ipython",
    "version": 3
   },
   "file_extension": ".py",
   "mimetype": "text/x-python",
   "name": "python",
   "nbconvert_exporter": "python",
   "pygments_lexer": "ipython3",
   "version": "3.5.2"
  }
 },
 "nbformat": 4,
 "nbformat_minor": 2
}
