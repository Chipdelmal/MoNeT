{
 "cells": [
  {
   "cell_type": "code",
   "execution_count": 1,
   "metadata": {},
   "outputs": [],
   "source": [
    "%matplotlib inline\n",
    "import matplotlib.pyplot as plt\n",
    "import numpy as np\n",
    "import glob\n",
    "import csv"
   ]
  },
  {
   "cell_type": "code",
   "execution_count": 7,
   "metadata": {},
   "outputs": [],
   "source": [
    "# function that reads in one csv file into np array\n",
    "experimentPath = 'SampleEpiOutput'"
   ]
  },
  {
   "cell_type": "code",
   "execution_count": 8,
   "metadata": {},
   "outputs": [],
   "source": [
    "def readGenotypes(filename, skipColumns=1):\n",
    "    '''\n",
    "    Description:\n",
    "        * Returns the genotypes header from an run file.\n",
    "    In:\n",
    "        * filename: Path to the run file\n",
    "        * skipColumns: Optional argument for compatibility in the cases where\n",
    "            the patch number is still present in the data.\n",
    "    Out:\n",
    "        * List of genotypes strings\n",
    "    Notes:\n",
    "        * NA\n",
    "    '''\n",
    "    reader = csv.reader(open(filename))\n",
    "    return next(reader)[skipColumns:]\n"
   ]
  },
  {
   "cell_type": "code",
   "execution_count": 42,
   "metadata": {},
   "outputs": [],
   "source": [
    "def readExperimentFilenamesEpi(\n",
    "    experimentPath,\n",
    "    stateIdentifiers={\"human\": \"HUM\", \"male\": \"ADM\", \"female_e\": \"AF1_E\", \"female_i\": \"AF1_I\", \"female_s\": \"AF1_S\"}\n",
    "):\n",
    "    \"\"\"\n",
    "    Description:\n",
    "        * This auxiliary function searches within a given path, and returns all\n",
    "            the CSV files that match the head provided by the dictionary keys\n",
    "            for human, male, and infected state of female \n",
    "    In:\n",
    "        * experimentPath: Path to the directory that contains the experiments'\n",
    "            CSV files (quantiles over patches).\n",
    "        * stateIdentifiers: Dictionary containing the head identifier for\n",
    "            the human, male, and state of female CSV files.\n",
    "    Out:\n",
    "        * Dictionary with the sorted lists of filenames associated with each file head given in stateIdentifiers\n",
    "           ex.  \"human\" [list -> strings], \"male\" [list -> strings], etc\n",
    "     \n",
    "    \"\"\"\n",
    "    \n",
    "    stateIdToFiles = {}\n",
    "    for stateId in stateIdentifiers:\n",
    "        files = sorted(\n",
    "            glob.glob(experimentPath + \"/\" + stateIdentifiers[stateId] + \"*.csv\")\n",
    "        ) \n",
    "        stateIdToFiles[stateId] = files\n",
    "\n",
    "    return stateIdToFiles\n"
   ]
  },
  {
   "cell_type": "code",
   "execution_count": 43,
   "metadata": {},
   "outputs": [
    {
     "data": {
      "text/plain": [
       "['SampleEpiOutput/AF1_E_Patch000.csv', 'SampleEpiOutput/AF1_E_Patch001.csv']"
      ]
     },
     "execution_count": 43,
     "metadata": {},
     "output_type": "execute_result"
    }
   ],
   "source": [
    "fileIdToFiles = readExperimentFilenamesEpi(experimentPath)\n",
    "fileIdToFiles[\"female_e\"]"
   ]
  },
  {
   "cell_type": "code",
   "execution_count": 34,
   "metadata": {},
   "outputs": [],
   "source": [
    "# load one file\n",
    "def loadNodeDataEpi(\n",
    "    filename,\n",
    "    dataType=float,\n",
    "    skipHeader=1,\n",
    "    skipColumns=1\n",
    "):\n",
    "    \"\"\"\n",
    "    Description:\n",
    "        * Loads the data given by filename\n",
    "    In:\n",
    "        * filename: path to csv file\n",
    "        * dataType: To save memory/processing time if possible (int/float).\n",
    "    Out:\n",
    "        * Dictionary containing:\n",
    "            \"genotypes\" [list -> strings]\n",
    "            \"population\" [numpyArray]\n",
    "\n",
    "    \"\"\"\n",
    "    genotypes = readGenotypes(filename)\n",
    "    data = np.genfromtxt(\n",
    "            filename,\n",
    "            dtype=dataType,\n",
    "            skip_header=skipHeader,\n",
    "            delimiter=\",\")\n",
    "    returnDictionary = {\n",
    "            \"genotypes\": genotypes,\n",
    "            \"population\": data[:, skipColumns:]\n",
    "        }\n",
    "    return returnDictionary"
   ]
  },
  {
   "cell_type": "code",
   "execution_count": 45,
   "metadata": {},
   "outputs": [
    {
     "name": "stdout",
     "output_type": "stream",
     "text": [
      "['S', 'I']\n",
      "[[ 850.  150.]\n",
      " [ 855.  143.]\n",
      " [ 870.  149.]\n",
      " [ 883.  145.]\n",
      " [ 891.  141.]]\n"
     ]
    }
   ],
   "source": [
    "humanNode = loadNodeDataEpi('SampleEpiOutput/HUM_Patch000.csv')\n",
    "print(humanNode[\"genotypes\"])\n",
    "print(humanNode[\"population\"][:5])"
   ]
  },
  {
   "cell_type": "code",
   "execution_count": 37,
   "metadata": {},
   "outputs": [],
   "source": [
    "# function that loads all files in filenames\n",
    "def loadLandscapeDataEpi(filenames, male=True, female=True, dataType=float):\n",
    "    \"\"\"\n",
    "    Description:\n",
    "        * Imports the information of all the nodes in filenames\n",
    "    In:\n",
    "        * filenames: List of paths to desired csv files\n",
    "    Out:\n",
    "        * Dictionary containing:\n",
    "            \"genotypes\" [list -> strings]\n",
    "            \"landscape\" [list -> numpyArrays]\n",
    "    \"\"\"\n",
    "    if len(filenames) == 0:\n",
    "        return\n",
    "    genotypes = readGenotypes(filenames[0])\n",
    "    nodesDataList = []\n",
    "    for f in filenames:\n",
    "        data = loadNodeDataEpi(f, dataType)[\"population\"]\n",
    "        nodesDataList.append(data)\n",
    "        \n",
    "    returnDictionary = {\n",
    "        \"genotypes\": genotypes,\n",
    "        \"landscape\": nodesDataList\n",
    "    }\n",
    "    return returnDictionary"
   ]
  },
  {
   "cell_type": "code",
   "execution_count": 55,
   "metadata": {},
   "outputs": [
    {
     "name": "stdout",
     "output_type": "stream",
     "text": [
      "['S', 'I']\n",
      "[[ 850.  150.]\n",
      " [ 855.  143.]\n",
      " [ 870.  149.]\n",
      " [ 883.  145.]\n",
      " [ 891.  141.]]\n",
      "['HH', 'HW', 'HR', 'WW', 'WR', 'RR']\n",
      "[[   0.    0.    2.  745.    5.    0.]\n",
      " [   0.    0.    2.  737.    5.    0.]\n",
      " [   0.    0.    0.  711.    0.    0.]\n",
      " [   0.    0.    0.  726.    0.    0.]\n",
      " [   0.    0.    0.  694.    0.    0.]]\n",
      "['HH', 'HW', 'HR', 'WW', 'WR', 'RR']\n",
      "[[  0.   0.   0.  32.   0.   0.]\n",
      " [  0.   0.   0.  20.   0.   0.]\n",
      " [  0.   0.   0.  16.   0.   0.]\n",
      " [  0.   0.   0.  12.   0.   0.]\n",
      " [  0.   0.   0.  16.   0.   0.]]\n"
     ]
    }
   ],
   "source": [
    "humanDict = loadLandscapeDataEpi(fileIdToFiles[\"human\"])\n",
    "print(humanDict[\"genotypes\"])\n",
    "print(humanDict[\"landscape\"][0][:5])\n",
    "\n",
    "maleDict = loadLandscapeDataEpi(fileIdToFiles[\"male\"])\n",
    "print(maleDict[\"genotypes\"])\n",
    "print(maleDict[\"landscape\"][0][:5])\n",
    "\n",
    "femaleEDict = loadLandscapeDataEpi(fileIdToFiles[\"female_e\"])\n",
    "print(femaleEDict[\"genotypes\"])\n",
    "print(femaleEDict[\"landscape\"][0][:5])"
   ]
  },
  {
   "cell_type": "code",
   "execution_count": 53,
   "metadata": {},
   "outputs": [],
   "source": [
    "def sumLandscapePopulationsEpi(\n",
    "    landscapeData\n",
    "):\n",
    "    \"\"\"\n",
    "    Description:\n",
    "        * This function sums the data in each np array given by landscapeData[\"landscape\"]\n",
    "    In:\n",
    "        * landscapeData: Data loaded with the \"loadLandscapeDataEpi\" function.\n",
    "    Out:\n",
    "        * Dictionary containing:\n",
    "            \"genotypes\" [list -> strings]\n",
    "            \"population\" [numpyArray]\n",
    "    \"\"\"\n",
    "    dataList = landscapeData[\"landscape\"]\n",
    "    if len(dataList) == 0:\n",
    "        return\n",
    "    \n",
    "    fillArray = np.zeros_like(dataList[0])    \n",
    "    for i in range(len(dataList)):\n",
    "        fillArray += dataList[i]\n",
    "        \n",
    "    returnDictionary = {\n",
    "        \"genotypes\": landscapeData[\"genotypes\"],\n",
    "        \"population\": fillArray\n",
    "    }\n",
    "    return returnDictionary\n"
   ]
  },
  {
   "cell_type": "code",
   "execution_count": 59,
   "metadata": {},
   "outputs": [
    {
     "name": "stdout",
     "output_type": "stream",
     "text": [
      "['S', 'I']\n",
      "[[ 2550.   450.]\n",
      " [ 2485.   449.]\n",
      " [ 2488.   469.]\n",
      " [ 2469.   461.]\n",
      " [ 2455.   463.]]\n",
      "['HH', 'HW', 'HR', 'WW', 'WR', 'RR']\n",
      "[[    0.     0.     2.  1490.     5.     0.]\n",
      " [    0.     0.     2.  1474.     5.     0.]\n",
      " [    0.     0.     0.  1422.     0.     0.]\n",
      " [    0.     0.     0.  1452.     0.     0.]\n",
      " [    0.     0.     0.  1388.     0.     0.]]\n",
      "['HH', 'HW', 'HR', 'WW', 'WR', 'RR']\n",
      "[[  0.   0.   0.  64.   0.   0.]\n",
      " [  0.   0.   0.  40.   0.   0.]\n",
      " [  0.   0.   0.  32.   0.   0.]\n",
      " [  0.   0.   0.  24.   0.   0.]\n",
      " [  0.   0.   0.  32.   0.   0.]]\n"
     ]
    },
    {
     "data": {
      "text/plain": [
       "numpy.float64"
      ]
     },
     "execution_count": 59,
     "metadata": {},
     "output_type": "execute_result"
    }
   ],
   "source": [
    "sumHumanDict = sumLandscapePopulationsEpi(humanDict)\n",
    "print(sumHumanDict[\"genotypes\"])\n",
    "print(sumHumanDict[\"population\"][:5])\n",
    "\n",
    "sumMaleDict = sumLandscapePopulationsEpi(maleDict)\n",
    "print(sumMaleDict[\"genotypes\"])\n",
    "print(sumMaleDict[\"population\"][:5])\n",
    "\n",
    "sumFemaleEDict = sumLandscapePopulationsEpi(femaleEDict)\n",
    "print(sumFemaleEDict[\"genotypes\"])\n",
    "print(sumFemaleEDict[\"population\"][:5])\n",
    "type(sumFemaleEDict[\"population\"][0, 0])"
   ]
  },
  {
   "cell_type": "code",
   "execution_count": 64,
   "metadata": {},
   "outputs": [],
   "source": [
    "def sumAlleleCounts(sumLandscapeData, alleleNames, columns):\n",
    "    \"\"\"\n",
    "    Description:\n",
    "        * This function sums the total count of each allele given by sumLandscapeData[\"population\"]\n",
    "    In:\n",
    "        * sumLandscapeData: Dict loaded with the \"sumLandscapePopulationsEpi\" function.\n",
    "        * alleleNames: list of individual alleles, eg [\"W\", \"R\"]\n",
    "        * columns: List of lists describing number of times each one\n",
    "            indexed column should be counted for this allele \n",
    "            ex. [[1, 1, 2], [2, 3, 3]] if the given genotypes are WW, WR, and RR\n",
    "    Out:\n",
    "        * Dictionary containing:\n",
    "            \"genotypes\" [list -> strings]\n",
    "            \"population\" [numpyArray]\n",
    "    \"\"\"\n",
    "    landscapeData = sumLandscapeData[\"population\"]\n",
    "    fillArray = np.zeros((len(landscapeData), len(alleleNames)))    \n",
    "    \n",
    "    for i in range(len(alleleNames)):\n",
    "        for index in columns[i]:\n",
    "            # subtract 1 because index is 1 indexed\n",
    "            fillArray[:,i] += landscapeData[:,index-1]\n",
    "        \n",
    "    returnDictionary = {\n",
    "        \"alleles\": alleleNames,\n",
    "        \"totalCounts\": fillArray\n",
    "    }\n",
    "    return returnDictionary\n"
   ]
  },
  {
   "cell_type": "code",
   "execution_count": 65,
   "metadata": {},
   "outputs": [
    {
     "name": "stdout",
     "output_type": "stream",
     "text": [
      "['H', 'W', 'R']\n",
      "[[  2.00000000e+00   2.98500000e+03   7.00000000e+00]\n",
      " [  2.00000000e+00   2.95300000e+03   7.00000000e+00]\n",
      " [  0.00000000e+00   2.84400000e+03   0.00000000e+00]\n",
      " [  0.00000000e+00   2.90400000e+03   0.00000000e+00]\n",
      " [  0.00000000e+00   2.77600000e+03   0.00000000e+00]]\n"
     ]
    }
   ],
   "source": [
    "sumMaleAlleleDict = sumAlleleCounts(sumMaleDict, ['H', 'W', 'R'], [[1, 1, 2, 3], [2, 4, 4, 5], [3, 5, 6, 6]])\n",
    "print(sumMaleAlleleDict[\"alleles\"])\n",
    "print(sumMaleAlleleDict[\"totalCounts\"][:5])"
   ]
  },
  {
   "cell_type": "code",
   "execution_count": null,
   "metadata": {},
   "outputs": [],
   "source": []
  }
 ],
 "metadata": {
  "kernelspec": {
   "display_name": "Python (MoNeT)",
   "language": "python",
   "name": "monet"
  },
  "language_info": {
   "codemirror_mode": {
    "name": "ipython",
    "version": 2
   },
   "file_extension": ".py",
   "mimetype": "text/x-python",
   "name": "python",
   "nbconvert_exporter": "python",
   "pygments_lexer": "ipython2",
   "version": "2.7.13"
  }
 },
 "nbformat": 4,
 "nbformat_minor": 2
}
