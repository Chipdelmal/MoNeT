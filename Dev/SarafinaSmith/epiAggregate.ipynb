{
 "cells": [
  {
   "cell_type": "code",
   "execution_count": 13,
   "metadata": {},
   "outputs": [],
   "source": [
    "%matplotlib inline\n",
    "import matplotlib.pyplot as plt\n",
    "import numpy as np\n",
    "import glob\n",
    "import csv"
   ]
  },
  {
   "cell_type": "code",
   "execution_count": 4,
   "metadata": {},
   "outputs": [],
   "source": [
    "# function that reads in one csv file into np array\n",
    "experimentPath = 'EpiOutput'"
   ]
  },
  {
   "cell_type": "code",
   "execution_count": 14,
   "metadata": {},
   "outputs": [],
   "source": [
    "def readGenotypes(filename, skipColumns=1):\n",
    "    '''\n",
    "    Description:\n",
    "        * Returns the genotypes header from an run file.\n",
    "    In:\n",
    "        * filename: Path to the run file\n",
    "        * skipColumns: Optional argument for compatibility in the cases where\n",
    "            the patch number is still present in the data.\n",
    "    Out:\n",
    "        * List of genotypes strings\n",
    "    Notes:\n",
    "        * NA\n",
    "    '''\n",
    "    reader = csv.reader(open(filename))\n",
    "    return next(reader)[skipColumns:]\n"
   ]
  },
  {
   "cell_type": "code",
   "execution_count": 9,
   "metadata": {},
   "outputs": [],
   "source": [
    "def readExperimentFilenamesEpi(\n",
    "    experimentPath,\n",
    "    stateIdentifiers={\"human\": \"HUM\", \"male\": \"ADM\", \"e_female\": \"E_AF1\", \"i_female\": \"I_AF1\", \"s_female\": \"S_AF1\"}\n",
    "):\n",
    "    \"\"\"\n",
    "    Description:\n",
    "        * This auxiliary function searches within a given path, and returns all\n",
    "            the CSV files that match the head provided by the dictionary keys\n",
    "            for human, male, and infected state of female \n",
    "    In:\n",
    "        * experimentPath: Path to the directory that contains the experiments'\n",
    "            CSV files (quantiles over patches).\n",
    "        * stateIdentifiers: Dictionary containing the head identifier for\n",
    "            the human, male, and state of female CSV files.\n",
    "    Out:\n",
    "        * Dictionary with the sorted lists of filenames associated with each file head given in stateIdentifiers\n",
    "           ex.  \"human\" [list -> strings], \"male\" [list -> strings], etc\n",
    "     \n",
    "    \"\"\"\n",
    "    \n",
    "    stateIdToFiles = {}\n",
    "    for stateId in stateIdentifiers:\n",
    "        files = sorted(\n",
    "            glob.glob(experimentPath + \"/\" + stateIdentifiers[stateId] + \"*.csv\")\n",
    "        ) \n",
    "        stateIdToFiles[stateId] = files\n",
    "\n",
    "    return stateIdToFiles\n"
   ]
  },
  {
   "cell_type": "code",
   "execution_count": 10,
   "metadata": {},
   "outputs": [
    {
     "data": {
      "text/plain": [
       "['EpiOutput/HUM_Patch000.csv',\n",
       " 'EpiOutput/HUM_Patch001.csv',\n",
       " 'EpiOutput/HUM_Patch002.csv']"
      ]
     },
     "execution_count": 10,
     "metadata": {},
     "output_type": "execute_result"
    }
   ],
   "source": [
    "fileIdToFiles = readExperimentFilenames(experimentPath)\n",
    "fileIdToFiles[\"human\"]"
   ]
  },
  {
   "cell_type": "code",
   "execution_count": 26,
   "metadata": {},
   "outputs": [],
   "source": [
    "# load one file\n",
    "def loadNodeDataEpi(\n",
    "    filename,\n",
    "    dataType=float,\n",
    "    skipHeader=1,\n",
    "    skipColumns=1\n",
    "):\n",
    "    \"\"\"\n",
    "    Description:\n",
    "        * Loads the data given by filename\n",
    "    In:\n",
    "        * filename: path to csv file\n",
    "        * dataType: To save memory/processing time if possible (int/float).\n",
    "    Out:\n",
    "        * Dictionary containing:\n",
    "            \"genotypes\" [list -> strings]\n",
    "            \"population\" [numpyArray]\n",
    "\n",
    "    \"\"\"\n",
    "    genotypes = readGenotypes(filename)\n",
    "    data = np.genfromtxt(\n",
    "            filename,\n",
    "            dtype=dataType,\n",
    "            skip_header=skipHeader,\n",
    "            delimiter=\",\")\n",
    "    returnDictionary = {\n",
    "            \"genotypes\": genotypes,\n",
    "            \"population\": data[:, skipColumns:]\n",
    "        }\n",
    "    return returnDictionary"
   ]
  },
  {
   "cell_type": "code",
   "execution_count": 27,
   "metadata": {},
   "outputs": [
    {
     "name": "stdout",
     "output_type": "stream",
     "text": [
      "['S', 'I']\n",
      "[[ 850.  150.]\n",
      " [ 815.  153.]\n",
      " [ 809.  160.]\n",
      " [ 793.  158.]\n",
      " [ 782.  161.]]\n"
     ]
    }
   ],
   "source": [
    "testDict = loadNodeDataEpi('EpiOutput/HUM_Patch000.csv')\n",
    "print(testDict[\"genotypes\"])\n",
    "print(testDict[\"population\"][:5])"
   ]
  },
  {
   "cell_type": "code",
   "execution_count": 28,
   "metadata": {},
   "outputs": [],
   "source": [
    "# function that loads all files in filenames\n",
    "def loadLandscapeDataEpi(filenames, male=True, female=True, dataType=float):\n",
    "    \"\"\"\n",
    "    Description:\n",
    "        * Imports the information of all the nodes in filenames\n",
    "    In:\n",
    "        * filenames: List of paths to desired csv files\n",
    "    Out:\n",
    "        * Dictionary containing:\n",
    "            \"genotypes\" [list -> strings]\n",
    "            \"landscape\" [list -> numpyArrays]\n",
    "    \"\"\"\n",
    "    if len(filenames) == 0:\n",
    "        return\n",
    "    genotypes = readGenotypes(filenames[0])\n",
    "    nodesDataList = []\n",
    "    for f in filenames:\n",
    "        data = loadNodeDataEpi(f, dataType)[\"population\"]\n",
    "        nodesDataList.append(data)\n",
    "        \n",
    "    returnDictionary = {\n",
    "        \"genotypes\": genotypes,\n",
    "        \"landscape\": nodesDataList\n",
    "    }\n",
    "    return returnDictionary"
   ]
  },
  {
   "cell_type": "code",
   "execution_count": 35,
   "metadata": {},
   "outputs": [
    {
     "name": "stdout",
     "output_type": "stream",
     "text": [
      "['S', 'I']\n",
      "[[ 850.  150.]\n",
      " [ 815.  153.]\n",
      " [ 809.  160.]\n",
      " [ 793.  158.]\n",
      " [ 782.  161.]]\n"
     ]
    },
    {
     "data": {
      "text/plain": [
       "(400, 2)"
      ]
     },
     "execution_count": 35,
     "metadata": {},
     "output_type": "execute_result"
    }
   ],
   "source": [
    "testDict = loadLandscapeDataEpi(fileIdToFiles[\"human\"])\n",
    "print(testDict[\"genotypes\"])\n",
    "print(testDict[\"landscape\"][0][:5])\n",
    "testDict[\"landscape\"][0].shape"
   ]
  },
  {
   "cell_type": "code",
   "execution_count": 37,
   "metadata": {},
   "outputs": [],
   "source": [
    "def sumLandscapePopulationsEpi(\n",
    "    landscapeData\n",
    "):\n",
    "    \"\"\"\n",
    "    Description:\n",
    "        * This function sums the data in each np array given by landscapeData[\"landscape\"]\n",
    "    In:\n",
    "        * landscapeData: Data loaded with the \"loadLandscapeDataEpi\" function.\n",
    "    Out:\n",
    "        * Dictionary containing:\n",
    "            \"genotypes\" [list -> strings]\n",
    "            \"population\" [numpyArray]\n",
    "    \"\"\"\n",
    "    dataList = landscapeData[\"landscape\"]\n",
    "    if len(dataList) == 0:\n",
    "        return\n",
    "    \n",
    "    fillArray = np.zeros_like(dataList[0])    \n",
    "    for i in range(len(dataList)):\n",
    "        fillArray += dataList[i]\n",
    "        \n",
    "    returnDictionary = {\n",
    "        \"genotypes\": landscapeData[\"genotypes\"],\n",
    "        \"population\": fillArray\n",
    "    }\n",
    "    return returnDictionary\n"
   ]
  },
  {
   "cell_type": "code",
   "execution_count": 38,
   "metadata": {},
   "outputs": [
    {
     "name": "stdout",
     "output_type": "stream",
     "text": [
      "['S', 'I']\n",
      "[[ 2550.   450.]\n",
      " [ 2445.   459.]\n",
      " [ 2427.   480.]\n",
      " [ 2379.   474.]\n",
      " [ 2346.   483.]]\n"
     ]
    }
   ],
   "source": [
    "sumDict = sumLandscapePopulationsEpi(testDict)\n",
    "print(sumDict[\"genotypes\"])\n",
    "print(sumDict[\"population\"][:5])"
   ]
  },
  {
   "cell_type": "code",
   "execution_count": null,
   "metadata": {},
   "outputs": [],
   "source": []
  }
 ],
 "metadata": {
  "kernelspec": {
   "display_name": "Python (MoNeT)",
   "language": "python",
   "name": "monet"
  },
  "language_info": {
   "codemirror_mode": {
    "name": "ipython",
    "version": 2
   },
   "file_extension": ".py",
   "mimetype": "text/x-python",
   "name": "python",
   "nbconvert_exporter": "python",
   "pygments_lexer": "ipython2",
   "version": "2.7.13"
  }
 },
 "nbformat": 4,
 "nbformat_minor": 2
}
