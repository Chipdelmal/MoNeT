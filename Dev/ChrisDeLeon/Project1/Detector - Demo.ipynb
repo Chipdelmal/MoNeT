{
 "cells": [
  {
   "cell_type": "markdown",
   "metadata": {},
   "source": [
    "# Mosquito Sinks and Sources Detection"
   ]
  },
  {
   "cell_type": "markdown",
   "metadata": {},
   "source": [
    "# Setup"
   ]
  },
  {
   "cell_type": "code",
   "execution_count": 2,
   "metadata": {},
   "outputs": [],
   "source": [
    "import numpy as np\n",
    "import pandas as pd"
   ]
  },
  {
   "cell_type": "code",
   "execution_count": 3,
   "metadata": {},
   "outputs": [],
   "source": [
    "transitions = pd.read_csv('data/kernel_regular_5000.csv', header=None)\n",
    "locations = pd.read_csv('data/stp_all_sites_v3.csv')"
   ]
  },
  {
   "cell_type": "markdown",
   "metadata": {},
   "source": [
    "# A Peek at the Data"
   ]
  },
  {
   "cell_type": "code",
   "execution_count": 4,
   "metadata": {
    "scrolled": true
   },
   "outputs": [
    {
     "data": {
      "text/plain": [
       "(509, 509)"
      ]
     },
     "metadata": {},
     "output_type": "display_data"
    },
    {
     "data": {
      "text/html": [
       "<div>\n",
       "<style scoped>\n",
       "    .dataframe tbody tr th:only-of-type {\n",
       "        vertical-align: middle;\n",
       "    }\n",
       "\n",
       "    .dataframe tbody tr th {\n",
       "        vertical-align: top;\n",
       "    }\n",
       "\n",
       "    .dataframe thead th {\n",
       "        text-align: right;\n",
       "    }\n",
       "</style>\n",
       "<table border=\"1\" class=\"dataframe\">\n",
       "  <thead>\n",
       "    <tr style=\"text-align: right;\">\n",
       "      <th></th>\n",
       "      <th>0</th>\n",
       "      <th>1</th>\n",
       "      <th>2</th>\n",
       "      <th>3</th>\n",
       "      <th>4</th>\n",
       "      <th>5</th>\n",
       "      <th>6</th>\n",
       "      <th>7</th>\n",
       "      <th>8</th>\n",
       "      <th>9</th>\n",
       "      <th>...</th>\n",
       "      <th>499</th>\n",
       "      <th>500</th>\n",
       "      <th>501</th>\n",
       "      <th>502</th>\n",
       "      <th>503</th>\n",
       "      <th>504</th>\n",
       "      <th>505</th>\n",
       "      <th>506</th>\n",
       "      <th>507</th>\n",
       "      <th>508</th>\n",
       "    </tr>\n",
       "  </thead>\n",
       "  <tbody>\n",
       "    <tr>\n",
       "      <th>0</th>\n",
       "      <td>0.7980</td>\n",
       "      <td>0.0060</td>\n",
       "      <td>0.0050</td>\n",
       "      <td>0.0035</td>\n",
       "      <td>0.0075</td>\n",
       "      <td>0.0010</td>\n",
       "      <td>0.0030</td>\n",
       "      <td>0.0030</td>\n",
       "      <td>0.0010</td>\n",
       "      <td>0.0010</td>\n",
       "      <td>...</td>\n",
       "      <td>0.0</td>\n",
       "      <td>0.0</td>\n",
       "      <td>0.0</td>\n",
       "      <td>0.0</td>\n",
       "      <td>0.0</td>\n",
       "      <td>0.0</td>\n",
       "      <td>0.0</td>\n",
       "      <td>0.0</td>\n",
       "      <td>0.0</td>\n",
       "      <td>0.0</td>\n",
       "    </tr>\n",
       "    <tr>\n",
       "      <th>1</th>\n",
       "      <td>0.0060</td>\n",
       "      <td>0.7465</td>\n",
       "      <td>0.0145</td>\n",
       "      <td>0.0120</td>\n",
       "      <td>0.0070</td>\n",
       "      <td>0.0035</td>\n",
       "      <td>0.0035</td>\n",
       "      <td>0.0055</td>\n",
       "      <td>0.0030</td>\n",
       "      <td>0.0050</td>\n",
       "      <td>...</td>\n",
       "      <td>0.0</td>\n",
       "      <td>0.0</td>\n",
       "      <td>0.0</td>\n",
       "      <td>0.0</td>\n",
       "      <td>0.0</td>\n",
       "      <td>0.0</td>\n",
       "      <td>0.0</td>\n",
       "      <td>0.0</td>\n",
       "      <td>0.0</td>\n",
       "      <td>0.0</td>\n",
       "    </tr>\n",
       "    <tr>\n",
       "      <th>2</th>\n",
       "      <td>0.0050</td>\n",
       "      <td>0.0145</td>\n",
       "      <td>0.7540</td>\n",
       "      <td>0.0160</td>\n",
       "      <td>0.0070</td>\n",
       "      <td>0.0040</td>\n",
       "      <td>0.0045</td>\n",
       "      <td>0.0070</td>\n",
       "      <td>0.0015</td>\n",
       "      <td>0.0035</td>\n",
       "      <td>...</td>\n",
       "      <td>0.0</td>\n",
       "      <td>0.0</td>\n",
       "      <td>0.0</td>\n",
       "      <td>0.0</td>\n",
       "      <td>0.0</td>\n",
       "      <td>0.0</td>\n",
       "      <td>0.0</td>\n",
       "      <td>0.0</td>\n",
       "      <td>0.0</td>\n",
       "      <td>0.0</td>\n",
       "    </tr>\n",
       "    <tr>\n",
       "      <th>3</th>\n",
       "      <td>0.0035</td>\n",
       "      <td>0.0120</td>\n",
       "      <td>0.0160</td>\n",
       "      <td>0.7705</td>\n",
       "      <td>0.0035</td>\n",
       "      <td>0.0060</td>\n",
       "      <td>0.0035</td>\n",
       "      <td>0.0025</td>\n",
       "      <td>0.0045</td>\n",
       "      <td>0.0035</td>\n",
       "      <td>...</td>\n",
       "      <td>0.0</td>\n",
       "      <td>0.0</td>\n",
       "      <td>0.0</td>\n",
       "      <td>0.0</td>\n",
       "      <td>0.0</td>\n",
       "      <td>0.0</td>\n",
       "      <td>0.0</td>\n",
       "      <td>0.0</td>\n",
       "      <td>0.0</td>\n",
       "      <td>0.0</td>\n",
       "    </tr>\n",
       "    <tr>\n",
       "      <th>4</th>\n",
       "      <td>0.0075</td>\n",
       "      <td>0.0070</td>\n",
       "      <td>0.0070</td>\n",
       "      <td>0.0035</td>\n",
       "      <td>0.7535</td>\n",
       "      <td>0.0035</td>\n",
       "      <td>0.0040</td>\n",
       "      <td>0.0015</td>\n",
       "      <td>0.0035</td>\n",
       "      <td>0.0060</td>\n",
       "      <td>...</td>\n",
       "      <td>0.0</td>\n",
       "      <td>0.0</td>\n",
       "      <td>0.0</td>\n",
       "      <td>0.0</td>\n",
       "      <td>0.0</td>\n",
       "      <td>0.0</td>\n",
       "      <td>0.0</td>\n",
       "      <td>0.0</td>\n",
       "      <td>0.0</td>\n",
       "      <td>0.0</td>\n",
       "    </tr>\n",
       "  </tbody>\n",
       "</table>\n",
       "<p>5 rows × 509 columns</p>\n",
       "</div>"
      ],
      "text/plain": [
       "      0       1       2       3       4       5       6       7       8    \\\n",
       "0  0.7980  0.0060  0.0050  0.0035  0.0075  0.0010  0.0030  0.0030  0.0010   \n",
       "1  0.0060  0.7465  0.0145  0.0120  0.0070  0.0035  0.0035  0.0055  0.0030   \n",
       "2  0.0050  0.0145  0.7540  0.0160  0.0070  0.0040  0.0045  0.0070  0.0015   \n",
       "3  0.0035  0.0120  0.0160  0.7705  0.0035  0.0060  0.0035  0.0025  0.0045   \n",
       "4  0.0075  0.0070  0.0070  0.0035  0.7535  0.0035  0.0040  0.0015  0.0035   \n",
       "\n",
       "      9    ...  499  500  501  502  503  504  505  506  507  508  \n",
       "0  0.0010  ...  0.0  0.0  0.0  0.0  0.0  0.0  0.0  0.0  0.0  0.0  \n",
       "1  0.0050  ...  0.0  0.0  0.0  0.0  0.0  0.0  0.0  0.0  0.0  0.0  \n",
       "2  0.0035  ...  0.0  0.0  0.0  0.0  0.0  0.0  0.0  0.0  0.0  0.0  \n",
       "3  0.0035  ...  0.0  0.0  0.0  0.0  0.0  0.0  0.0  0.0  0.0  0.0  \n",
       "4  0.0060  ...  0.0  0.0  0.0  0.0  0.0  0.0  0.0  0.0  0.0  0.0  \n",
       "\n",
       "[5 rows x 509 columns]"
      ]
     },
     "metadata": {},
     "output_type": "display_data"
    }
   ],
   "source": [
    "display(transitions.shape, transitions.head())"
   ]
  },
  {
   "cell_type": "code",
   "execution_count": 5,
   "metadata": {},
   "outputs": [
    {
     "name": "stdout",
     "output_type": "stream",
     "text": [
      "<class 'pandas.core.frame.DataFrame'>\n",
      "RangeIndex: 509 entries, 0 to 508\n",
      "Columns: 509 entries, 0 to 508\n",
      "dtypes: float64(506), int64(3)\n",
      "memory usage: 2.0 MB\n"
     ]
    }
   ],
   "source": [
    "transitions.info()"
   ]
  },
  {
   "cell_type": "code",
   "execution_count": 6,
   "metadata": {},
   "outputs": [
    {
     "data": {
      "text/plain": [
       "(509, 3)"
      ]
     },
     "metadata": {},
     "output_type": "display_data"
    },
    {
     "data": {
      "text/html": [
       "<div>\n",
       "<style scoped>\n",
       "    .dataframe tbody tr th:only-of-type {\n",
       "        vertical-align: middle;\n",
       "    }\n",
       "\n",
       "    .dataframe tbody tr th {\n",
       "        vertical-align: top;\n",
       "    }\n",
       "\n",
       "    .dataframe thead th {\n",
       "        text-align: right;\n",
       "    }\n",
       "</style>\n",
       "<table border=\"1\" class=\"dataframe\">\n",
       "  <thead>\n",
       "    <tr style=\"text-align: right;\">\n",
       "      <th></th>\n",
       "      <th>lon</th>\n",
       "      <th>lat</th>\n",
       "      <th>pop</th>\n",
       "    </tr>\n",
       "  </thead>\n",
       "  <tbody>\n",
       "    <tr>\n",
       "      <th>0</th>\n",
       "      <td>7.42917</td>\n",
       "      <td>1.61930</td>\n",
       "      <td>222</td>\n",
       "    </tr>\n",
       "    <tr>\n",
       "      <th>1</th>\n",
       "      <td>7.41421</td>\n",
       "      <td>1.63409</td>\n",
       "      <td>12</td>\n",
       "    </tr>\n",
       "    <tr>\n",
       "      <th>2</th>\n",
       "      <td>7.41390</td>\n",
       "      <td>1.63602</td>\n",
       "      <td>8</td>\n",
       "    </tr>\n",
       "    <tr>\n",
       "      <th>3</th>\n",
       "      <td>7.41219</td>\n",
       "      <td>1.63492</td>\n",
       "      <td>16</td>\n",
       "    </tr>\n",
       "    <tr>\n",
       "      <th>4</th>\n",
       "      <td>7.42591</td>\n",
       "      <td>1.64041</td>\n",
       "      <td>23</td>\n",
       "    </tr>\n",
       "  </tbody>\n",
       "</table>\n",
       "</div>"
      ],
      "text/plain": [
       "       lon      lat  pop\n",
       "0  7.42917  1.61930  222\n",
       "1  7.41421  1.63409   12\n",
       "2  7.41390  1.63602    8\n",
       "3  7.41219  1.63492   16\n",
       "4  7.42591  1.64041   23"
      ]
     },
     "metadata": {},
     "output_type": "display_data"
    }
   ],
   "source": [
    "display(locations.shape, locations.head())"
   ]
  },
  {
   "cell_type": "code",
   "execution_count": 7,
   "metadata": {},
   "outputs": [
    {
     "name": "stdout",
     "output_type": "stream",
     "text": [
      "<class 'pandas.core.frame.DataFrame'>\n",
      "RangeIndex: 509 entries, 0 to 508\n",
      "Data columns (total 3 columns):\n",
      " #   Column  Non-Null Count  Dtype  \n",
      "---  ------  --------------  -----  \n",
      " 0   lon     509 non-null    float64\n",
      " 1   lat     509 non-null    float64\n",
      " 2   pop     509 non-null    int64  \n",
      "dtypes: float64(2), int64(1)\n",
      "memory usage: 12.1 KB\n"
     ]
    }
   ],
   "source": [
    "locations.info()"
   ]
  },
  {
   "cell_type": "markdown",
   "metadata": {},
   "source": [
    "# The Detector Class - Example Usage"
   ]
  },
  {
   "cell_type": "code",
   "execution_count": 8,
   "metadata": {},
   "outputs": [],
   "source": [
    "%run Detector.ipynb"
   ]
  },
  {
   "cell_type": "code",
   "execution_count": 9,
   "metadata": {},
   "outputs": [],
   "source": [
    "d = Detector(transitions, \n",
    "             locations,\n",
    "             as_df=True,\n",
    "             ss_vals=10000,\n",
    "             n_clusters=4, \n",
    "             random_state=0)"
   ]
  },
  {
   "cell_type": "code",
   "execution_count": 10,
   "metadata": {},
   "outputs": [
    {
     "data": {
      "text/plain": [
       "5974"
      ]
     },
     "execution_count": 10,
     "metadata": {},
     "output_type": "execute_result"
    }
   ],
   "source": [
    "# At what step is the system is steady-state?\n",
    "d.ss_step"
   ]
  },
  {
   "cell_type": "code",
   "execution_count": null,
   "metadata": {},
   "outputs": [],
   "source": [
    "# If we start at time step 0, what happens at steady-state?\n",
    "d.run()\n",
    "display(d.clabels().head(),\\\n",
    "        d.results().head()\n",
    ")\n",
    "print(\"Steady-state step:\", d.ss_step)"
   ]
  },
  {
   "cell_type": "code",
   "execution_count": null,
   "metadata": {},
   "outputs": [],
   "source": [
    "# The entries below should not be much different than before\n",
    "d.run(0, d.ss_step + 1000)\n",
    "d.results().head()"
   ]
  },
  {
   "cell_type": "code",
   "execution_count": null,
   "metadata": {},
   "outputs": [],
   "source": [
    "# What happens if we stop before steady-state?\n",
    "d.run(0, 100)\n",
    "d.results().head()"
   ]
  },
  {
   "cell_type": "code",
   "execution_count": null,
   "metadata": {},
   "outputs": [],
   "source": [
    "# What happens from time step 1000 to steady-state?\n",
    "d.run(1000)\n",
    "display(d.clabels().head(),\\\n",
    "        d.results().head()\n",
    ")"
   ]
  },
  {
   "cell_type": "markdown",
   "metadata": {},
   "source": [
    "# Plots"
   ]
  },
  {
   "cell_type": "markdown",
   "metadata": {},
   "source": [
    "### First, let's see where the data is geographically:"
   ]
  },
  {
   "cell_type": "code",
   "execution_count": null,
   "metadata": {},
   "outputs": [],
   "source": [
    "import folium\n",
    "import folium.plugins"
   ]
  },
  {
   "cell_type": "code",
   "execution_count": null,
   "metadata": {},
   "outputs": [],
   "source": [
    "COORDS = (7.42917, 1.61930)\n",
    "folimp = folium.Map(locations=COORDS, zoom_start=13)\n",
    "points = locations[['lat', 'lon']].astype('float').values\n",
    "heatmp = folium.plugins.HeatMap(points.tolist(), radius=10)\n",
    "folimp.add_child(heatmp)"
   ]
  },
  {
   "cell_type": "code",
   "execution_count": null,
   "metadata": {},
   "outputs": [],
   "source": [
    "cluster = folium.plugins.MarkerCluster()\n",
    "for _, r in locations[['lat', 'lon']].iterrows():\n",
    "    cluster.add_child(folium.Marker([float(r['lat']), float(r['lon'])]))\n",
    "folimp = folium.Map(locations=COORDS, zoom_start=13)\n",
    "folimp.add_child(cluster)\n",
    "folimp"
   ]
  },
  {
   "cell_type": "code",
   "execution_count": null,
   "metadata": {},
   "outputs": [],
   "source": [
    "# Looks like there are two islands that are independent. Let's split \n",
    "# them up, and analyze each individually:\n",
    "d.run()\n",
    "cids = d.clabels()\n",
    "prps = d.results()\n",
    "\n",
    "principe_locs = cids[cids['lat'] > 1.25]\n",
    "principe_tmtx = transitions.iloc[principe_locs.index, principe_locs.index]\n",
    "principe_coms = prps[prps.index.isin(principe_locs['cid'].unique())]\n",
    "\n",
    "sao_tome_locs = cids[cids['lat'] < 0.50]\n",
    "sao_tome_tmtx = transitions.iloc[sao_tome_locs.index, sao_tome_locs.index]\n",
    "sao_tome_coms = prps[prps.index.isin(sao_tome_locs['cid'].unique())]"
   ]
  },
  {
   "cell_type": "markdown",
   "metadata": {},
   "source": [
    "### Now let's use a graph to visualize the network:"
   ]
  },
  {
   "cell_type": "code",
   "execution_count": null,
   "metadata": {},
   "outputs": [],
   "source": [
    "import geojson\n",
    "from descartes import PolygonPatch\n",
    "\n",
    "# To plot a background, convert the SHP file(s) to a geojson file\n",
    "# Use: https://mygeodata.cloud/converter/shp-to-geojson\n",
    "with open(\"STP.geojson\") as json_file:\n",
    "    json_data = geojson.load(json_file)\n",
    "\n",
    "poly = json_data['features']"
   ]
  },
  {
   "cell_type": "code",
   "execution_count": null,
   "metadata": {},
   "outputs": [],
   "source": [
    "# Retrieves the polygon coordinates for the background \n",
    "principe = { 'type' : 'MultiPolygon', 'coordinates' : poly[0]['geometry']['coordinates'] }\n",
    "sao_tome = { 'type' : 'MultiPolygon', 'coordinates' : poly[1]['geometry']['coordinates'] }\n",
    "all_data = { 'type' : 'MultiPolygon', 'coordinates' : poly[0]['geometry']['coordinates'][:] }\n",
    "all_data['coordinates'].extend(poly[1]['geometry']['coordinates'][:])"
   ]
  },
  {
   "cell_type": "code",
   "execution_count": null,
   "metadata": {},
   "outputs": [],
   "source": [
    "plot_data(principe_tmtx, principe_locs, principe_coms,\\\n",
    "          nodes_fn=lambda x: x**(1/3),\n",
    "          bordr_mu=3,\n",
    "          min_prob=0.007,\n",
    "          edges_mu=100,\n",
    "          bgrd_crd=principe,\n",
    "          bgbd_lwd=5,\n",
    "          fig_size=(10,9),\n",
    "          plt_bbar=True,\n",
    "          plt_pbar=True,\n",
    "          plt_sbar=True\n",
    ")"
   ]
  },
  {
   "cell_type": "code",
   "execution_count": null,
   "metadata": {},
   "outputs": [],
   "source": [
    "plot_data(sao_tome_tmtx, sao_tome_locs, sao_tome_coms,\\\n",
    "          nodes_fn=lambda x: x**(1/6),\n",
    "          bordr_mu=5,\n",
    "          edges_fn=np.log10,\n",
    "          min_prob=0.009,\n",
    "          edges_mu=1,\n",
    "          bgrd_crd=sao_tome,\n",
    "          bgbd_lwd=2,\n",
    "          fig_size=(13,9),\n",
    "          plt_bbar=True,\n",
    "          plt_pbar=True,\n",
    "          plt_sbar=True,\n",
    ")"
   ]
  },
  {
   "cell_type": "code",
   "execution_count": null,
   "metadata": {},
   "outputs": [],
   "source": [
    "plot_data(sao_tome_tmtx, sao_tome_locs, sao_tome_coms,\\\n",
    "          nodes_fn=lambda x: x**(1/3),\n",
    "          bordr_mu=5,\n",
    "          edges_fn=np.log10,\n",
    "          min_prob=1,\n",
    "          edges_mu=1,\n",
    "          bgrd_crd=sao_tome,\n",
    "          bgbd_lwd=2,\n",
    "          fig_size=(12,12)\n",
    ")"
   ]
  },
  {
   "cell_type": "code",
   "execution_count": null,
   "metadata": {},
   "outputs": [],
   "source": [
    "plot_data(transitions, d.clabels(), d.results(),\\\n",
    "          nodes_fn=np.sqrt,\n",
    "          bordr_mu=2,\n",
    "          edges_fn=np.log10,\n",
    "          min_prob=1,\n",
    "          edges_mu=2,\n",
    "          bgrd_crd=all_data,\n",
    "          bgbd_lwd=2,\n",
    "          fig_size=(12,13),\n",
    " )"
   ]
  },
  {
   "cell_type": "markdown",
   "metadata": {},
   "source": [
    "# References\n",
    "\n",
    "1. Polygon Plotting: https://gis.stackexchange.com/questions/93136/how-to-plot-geo-data-using-matplotlib-python/93201#93201\n",
    "\n",
    "2. SHP file: https://data.humdata.org/dataset/sao-tome-and-principe-administrative-boundaries\n",
    "\n",
    "3. Colormaps: https://matplotlib.org/3.1.0/tutorials/colors/colormaps.html"
   ]
  },
  {
   "cell_type": "code",
   "execution_count": null,
   "metadata": {},
   "outputs": [],
   "source": []
  }
 ],
 "metadata": {
  "kernelspec": {
   "display_name": "Python 3",
   "language": "python",
   "name": "python3"
  },
  "language_info": {
   "codemirror_mode": {
    "name": "ipython",
    "version": 3
   },
   "file_extension": ".py",
   "mimetype": "text/x-python",
   "name": "python",
   "nbconvert_exporter": "python",
   "pygments_lexer": "ipython3",
   "version": "3.7.6"
  }
 },
 "nbformat": 4,
 "nbformat_minor": 4
}
