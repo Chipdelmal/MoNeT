{
 "cells": [
  {
   "cell_type": "code",
   "execution_count": 1,
   "metadata": {},
   "outputs": [],
   "source": [
    "# import geopandas as gpd\n",
    "# from shapely.geometry import Point, Polygon"
   ]
  },
  {
   "cell_type": "code",
   "execution_count": null,
   "metadata": {},
   "outputs": [],
   "source": [
    "# def plot_colored_scatter(coordinate_df, color_col='cid', title='Colored Scatter Plot', xlims=None, ylims=None):\n",
    "#     \"\"\"\n",
    "#     Returns a geographic scatter plot. The required parameter, \n",
    "#     `coordinate_df`, must consist of the following columns:\n",
    "#         1. lon\n",
    "#         2. lat\n",
    "#         3. cid\n",
    "#     \"\"\"\n",
    "#     # Set up the plots\n",
    "#     fig, ax = plt.subplots(figsize=(10, 10))\n",
    "#     ax.set_title(title, fontsize=15,fontweight='bold')\n",
    "#     ax.set_xlabel('Longitude')\n",
    "#     ax.set_ylabel('Latitude')\n",
    "\n",
    "#     # Plot geo map. SHP file: https://data.humdata.org/dataset/sao-tome-and-principe-administrative-boundaries\n",
    "#     geo_map = gpd.read_file('geo/STP_admbndp1_1m_gadm.shp')\n",
    "#     geo_map.to_crs(epsg=4326)\n",
    "#     geo_map.plot(ax=ax, alpha=0.4, color='black')\n",
    "\n",
    "#     # Plot data points over map\n",
    "#     geometry = [Point(xy) for xy in zip(coordinate_df['lon'], coordinate_df['lat'])]\n",
    "#     geo_df = gpd.GeoDataFrame(coordinate_df.copy(), geometry=geometry)\n",
    "#     geo_df.plot(column=color_col, ax=ax, alpha=0.5, legend=True, markersize=10)\n",
    "\n",
    "#     # Show visualization\n",
    "#     if xlims is not None: plt.xlim(*xlims)\n",
    "#     if ylims is not None: plt.ylim(*ylims)\n",
    "#     plt.show()\n",
    "\n",
    "# plot_colored_scatter(cids, title='Sao Tome and Principe Communities')\n",
    "# plot_colored_scatter(principe_locs, title='Provincia de Principe', xlims=(7.2, 7.6), ylims=(1.5, 1.72))\n",
    "# plot_colored_scatter(sao_tome_locs, title='Provincia de Sao Tome', xlims=(6.4, 6.8), ylims=(-0.05, 0.5))"
   ]
  },
  {
   "cell_type": "code",
   "execution_count": null,
   "metadata": {},
   "outputs": [],
   "source": [
    "# import os\n",
    "# import mpl_toolkits\n",
    "\n",
    "# # https://stackoverflow.com/questions/52295117/basemap-import-error-in-pycharm-keyerror-proj-lib\n",
    "# os.environ[\"PROJ_LIB\"] = r\"C:\\Users\\cdian\\AppData\\Local\\Continuum\\anaconda3\\Library\\share\"\n",
    "\n",
    "# from mpl_toolkits.basemap import Basemap\n",
    "\n",
    "# # setup Lambert Conformal basemap.\n",
    "# # set resolution=None to skip processing of boundary datasets.\n",
    "# m = Basemap(width=12000000,height=9000000,projection='lcc',\n",
    "#             resolution=None,lat_1=45.,lat_2=55,lat_0=50,lon_0=-107.)\n",
    "# m.etopo()\n",
    "# plt.show()"
   ]
  }
 ],
 "metadata": {
  "kernelspec": {
   "display_name": "Python 3",
   "language": "python",
   "name": "python3"
  },
  "language_info": {
   "codemirror_mode": {
    "name": "ipython",
    "version": 3
   },
   "file_extension": ".py",
   "mimetype": "text/x-python",
   "name": "python",
   "nbconvert_exporter": "python",
   "pygments_lexer": "ipython3",
   "version": "3.7.6"
  }
 },
 "nbformat": 4,
 "nbformat_minor": 4
}
